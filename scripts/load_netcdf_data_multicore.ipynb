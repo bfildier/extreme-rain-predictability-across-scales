{
 "cells": [
  {
   "cell_type": "code",
   "execution_count": 1,
   "metadata": {
    "ExecuteTime": {
     "end_time": "2017-10-16T22:43:00.759739",
     "start_time": "2017-10-16T22:42:58.815157Z"
    },
    "collapsed": true,
    "run_control": {
     "frozen": false,
     "read_only": false
    }
   },
   "outputs": [],
   "source": [
    "%load_ext autoreload\n",
    "%matplotlib inline"
   ]
  },
  {
   "cell_type": "code",
   "execution_count": 2,
   "metadata": {
    "ExecuteTime": {
     "end_time": "2017-10-16T22:43:03.435841",
     "start_time": "2017-10-16T22:43:03.053368Z"
    },
    "run_control": {
     "frozen": false,
     "read_only": false
    }
   },
   "outputs": [
    {
     "name": "stdout",
     "output_type": "stream",
     "text": [
      "Own modules available: ['thermoFunctions', 'statisticalDistributions', 'slicingAndSubsetting', 'thermoConstants', 'daskOptions', 'scalingApproximations', 'CAMsettings', 'environmentAndDirectories', 'importingData', 'physicalConstants']\n"
     ]
    }
   ],
   "source": [
    "%autoreload 2\n",
    "\n",
    "import numpy as np\n",
    "import dask.array as da\n",
    "import matplotlib.pyplot as plt\n",
    "\n",
    "import sys,os,glob\n",
    "\n",
    "## Add own library to path\n",
    "workdir = os.getcwd()\n",
    "moduledir = os.path.join(os.path.dirname(workdir),'functions')\n",
    "sys.path.insert(0,moduledir)\n",
    "print(\"Own modules available:\", [os.path.splitext(os.path.basename(x))[0]\n",
    "                                 for x in glob.glob(os.path.join(moduledir,'*.py'))])\n",
    "## Load own libraries\n",
    "from environmentAndDirectories import *\n",
    "from importingData import *\n",
    "from scalingApproximations import *\n",
    "import datetime as dt"
   ]
  },
  {
   "cell_type": "code",
   "execution_count": 11,
   "metadata": {
    "ExecuteTime": {
     "end_time": "2017-10-16T23:58:25.592528",
     "start_time": "2017-10-16T23:58:24.663062Z"
    },
    "run_control": {
     "frozen": false,
     "read_only": false
    },
    "scrolled": false
   },
   "outputs": [
    {
     "name": "stdout",
     "output_type": "stream",
     "text": [
      "24\n",
      "/global/cscratch1/sd/bfildier/lawrencium_runs/archive/bf_FAMIPC5_piControl/atm/hist/bf_FAMIPC5_piControl.cam.h0.1850-05-01-00000.nc\n",
      "Q not found in history files\n",
      "Q found in processed files\n",
      "24\n",
      "/global/cscratch1/sd/bfildier/lawrencium_runs/archive/bf_FAMIPC5_piControl/atm/hist/bf_FAMIPC5_piControl.cam.h0.1850-05-01-00000.nc\n",
      "OMEGA not found in history files\n",
      "OMEGA found in processed files\n"
     ]
    }
   ],
   "source": [
    "compset = 'FAMIPC5'\n",
    "experiment = 'piControl'\n",
    "subset = 'tropics'\n",
    "time_stride = 'day'\n",
    "\n",
    "historyFilesSettings = getCAMHistoryFilesSettings()\n",
    "\n",
    "inputdir, inputdir_processed_day, inputdir_processed_1hr, inputdir_results, inputdir_fx = \\\n",
    "    getInputDirectories(compset,experiment)\n",
    "\n",
    "q_varid = 'Q'\n",
    "spechum = getValues(q_varid,compset,subset,experiment,time_stride)\n",
    "omega_varid = 'OMEGA'\n",
    "omega = getValues(omega_varid,compset,subset,experiment,time_stride)"
   ]
  },
  {
   "cell_type": "code",
   "execution_count": 7,
   "metadata": {},
   "outputs": [
    {
     "name": "stdout",
     "output_type": "stream",
     "text": [
      "/global/cscratch1/sd/bfildier/lawrencium_runs/archive/bf_FAMIPC5_piControl/atm/hist\n"
     ]
    }
   ],
   "source": [
    "print(inputdir)"
   ]
  },
  {
   "cell_type": "code",
   "execution_count": 5,
   "metadata": {
    "ExecuteTime": {
     "end_time": "2017-10-16T23:58:25.628617",
     "start_time": "2017-10-16T23:58:25.595017Z"
    },
    "run_control": {
     "frozen": false,
     "read_only": false
    }
   },
   "outputs": [
    {
     "name": "stdout",
     "output_type": "stream",
     "text": [
      "<class 'dask.array.core.Array'> <class 'dask.array.core.Array'>\n"
     ]
    }
   ],
   "source": [
    "print(spechum.__class__, omega.__class__)"
   ]
  },
  {
   "cell_type": "code",
   "execution_count": 6,
   "metadata": {
    "ExecuteTime": {
     "end_time": "2017-10-16T23:58:25.665383",
     "start_time": "2017-10-16T23:58:25.631099Z"
    },
    "run_control": {
     "frozen": false,
     "read_only": false
    }
   },
   "outputs": [
    {
     "name": "stdout",
     "output_type": "stream",
     "text": [
      "(318, 30, 32, 144) (307, 30, 32, 144)\n",
      "(318, 1, 1, 1) (307, 1, 1, 1)\n"
     ]
    }
   ],
   "source": [
    "print(spechum.shape,omega.shape)\n",
    "print(spechum.numblocks, omega.numblocks)"
   ]
  },
  {
   "cell_type": "code",
   "execution_count": 64,
   "metadata": {
    "ExecuteTime": {
     "end_time": "2017-10-16T23:58:47.746821",
     "start_time": "2017-10-16T23:58:47.716275Z"
    },
    "run_control": {
     "frozen": false,
     "read_only": false
    }
   },
   "outputs": [
    {
     "name": "stdout",
     "output_type": "stream",
     "text": [
      "Missing files on the scratch directory for Q...\n",
      "\n"
     ]
    }
   ],
   "source": [
    "print(\"Missing files on the scratch directory for %s...\"%q_varid)\n",
    "print()\n",
    "processed_files = getProcessedFiles(q_varid,inputdir_processed_day)\n",
    "processed_dates = [f.split('.')[0].split('_')[-1] for f in processed_files]\n",
    "for d1,d2 in zip(processed_dates[:-1],processed_dates[1:]):\n",
"execution_count": null,
   "metadata": {
    "collapsed": true,
    "run_control": {
     "frozen": false,
     "read_only": false
    }
   },
   "outputs": [],
   "source": []
  }
 ],
 "metadata": {
  "hide_input": false,
  "kernelspec": {
   "display_name": "Python 3",
   "language": "python",
   "name": "python3"
  },
  "language_info": {
   "codemirror_mode": {
    "name": "ipython",
    "version": 3
   },
   "file_extension": ".py",
   "mimetype": "text/x-python",
   "name": "python",
   "nbconvert_exporter": "python",
   "pygments_lexer": "ipython3",
   "version": "3.6.1"
  },
  "latex_envs": {
   "bibliofile": "biblio.bib",
   "cite_by": "apalike",
   "current_citInitial": 1,
   "eqLabelWithNumbers": true,
   "eqNumInitial": 0
  },
  "toc": {
   "toc_cell": true,
   "toc_number_sections": true,
   "toc_threshold": 6,
   "toc_window_display": false
  }
 },
 "nbformat": 4,
 "nbformat_minor": 2
}
