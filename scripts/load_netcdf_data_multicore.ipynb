{
 "cells": [
  {
   "cell_type": "code",
   "execution_count": 1,
   "metadata": {
    "collapsed": true
   },
   "outputs": [],
   "source": [
    "%load_ext autoreload\n",
    "%matplotlib inline"
   ]
  },
  {
   "cell_type": "code",
   "execution_count": 2,
   "metadata": {},
   "outputs": [
    {
     "name": "stdout",
     "output_type": "stream",
     "text": [
      "Own modules available: ['thermoFunctions', 'statisticalDistributions', 'slicingAndSubsetting', 'thermoConstants', 'daskOptions', 'scalingApproximations', 'environmentAndDirectories', 'importingData', 'physicalConstants']\n"
     ]
    }
   ],
   "source": [
    "%autoreload 2\n",
    "\n",
    "import numpy as np\n",
    "import dask.array as da\n",
    "import matplotlib.pyplot as plt\n",
    "\n",
    "import sys,os,glob\n",
    "\n",
    "## Add own library to path\n",
    "workdir = os.getcwd()\n",
    "moduledir = os.path.join(os.path.dirname(workdir),'functions')\n",
    "sys.path.insert(0,moduledir)\n",
    "print(\"Own modules available:\", [os.path.splitext(os.path.basename(x))[0]\n",
    "                                 for x in glob.glob(os.path.join(moduledir,'*.py'))])\n",
    "## Load own libraries\n",
    "from environmentAndDirectories import *\n",
    "from importingData import *\n",
    "from scalingApproximations import *\n",
    "import datetime as dt"
   ]
  },
  {
   "cell_type": "code",
   "execution_count": 19,
   "metadata": {
    "scrolled": false
   },
   "outputs": [
    {
     "name": "stdout",
     "output_type": "stream",
     "text": [
      "Q not found in history files\n",
      "Q found in processed files\n",
      "OMEGA not found in history files\n",
      "OMEGA found in processed files\n"
     ]
    }
   ],
   "source": [
    "compset = 'FAMIPC5'\n",
    "experiment = 'piControl'\n",
    "subset = 'tropics'\n",
    "time_stride = 'day'\n",
    "\n",
    "historyFilesSettings = getCAMHistoryFilesSettings()\n",
    "\n",
    "inputdir, inputdir_processed_day, inputdir_processed_1hr, inputdir_results, inputdir_fx = \\\n",
    "    getInputDirectories(compset,experiment)\n",
    "\n",
    "q_varid = 'Q'\n",
    "spechum = getValues(q_varid,compset,subset,experiment,time_stride)\n",
    "omega_varid = 'OMEGA'\n",
    "omega = getValues(omega_varid,compset,subset,experiment,time_stride)"
   ]
  },
  {
   "cell_type": "code",
   "execution_count": 20,
   "metadata": {},
   "outputs": [
    {
     "name": "stdout",
     "output_type": "stream",
     "text": [
      "<class 'dask.array.core.Array'> <class 'dask.array.core.Array'>\n"
     ]
    }
   ],
   "source": [
    "print(spechum.__class__, omega.__class__)"
   ]
  },
  {
   "cell_type": "code",
   "execution_count": 21,
   "metadata": {},
   "outputs": [
    {
     "name": "stdout",
     "output_type": "stream",
     "text": [
      "(318, 1, 1, 1) (307, 1, 1, 1)\n"
     ]
    }
   ],
   "source": [
    "print(spechum.numblocks, omega.numblocks)"
   ]
  },
  {
   "cell_type": "code",
   "execution_count": 4,
   "metadata": {},
   "outputs": [
    {
     "name": "stdout",
     "output_type": "stream",
     "text": [
      "Missing files on the scratch directory for Q...\n",
      "\n",
      "1 missing file(s): 18500501-18500502 | 18500503-18500504\n",
      "1 missing file(s): 18500512-18500513 | 18500514-18500515\n",
      "1 missing file(s): 18500527-18500528 | 18500529-18500530\n",
      "1 missing file(s): 18500603-18500604 | 18500605-18500606\n",
      "1 missing file(s): 18500607-18500608 | 18500609-18500610\n",
      "1 missing file(s): 18500610-18500611 | 18500612-18500613\n",
      "1 missing file(s): 18500617-18500618 | 18500619-18500620\n",
      "1 missing file(s): 18500621-18500622 | 18500623-18500624\n",
      "1 missing file(s): 18500626-18500627 | 18500628-18500629\n",
      "1 missing file(s): 18500630-18500701 | 18500702-18500703\n",
      "1 missing file(s): 18500704-18500705 | 18500706-18500707\n",
      "1 missing file(s): 18500708-18500709 | 18500710-18500711\n",
      "1 missing file(s): 18500712-18500713 | 18500714-18500715\n",
      "1 missing file(s): 18500720-18500721 | 18500722-18500723\n",
      "1 missing file(s): 18500724-18500725 | 18500726-18500727\n",
      "1 missing file(s): 18500728-18500729 | 18500730-18500731\n",
      "1 missing file(s): 18500809-18500810 | 18500811-18500812\n",
      "1 missing file(s): 18500817-18500818 | 18500819-18500820\n",
      "1 missing file(s): 18500821-18500822 | 18500823-18500824\n",
      "1 missing file(s): 18500825-18500826 | 18500827-18500828\n",
      "1 missing file(s): 18500829-18500830 | 18500831-18500901\n",
      "1 missing file(s): 18500831-18500901 | 18500902-18500903\n",
      "1 missing file(s): 18500908-18500909 | 18500910-18500911\n",
      "1 missing file(s): 18500912-18500913 | 18500914-18500915\n",
      "1 missing file(s): 18500924-18500925 | 18500926-18500927\n",
      "1 missing file(s): 18501011-18501012 | 18501013-18501014\n",
      "1 missing file(s): 18501015-18501016 | 18501017-18501018\n",
      "1 missing file(s): 18501031-18501101 | 18501102-18501103\n",
      "1 missing file(s): 18501104-18501105 | 18501106-18501107\n",
      "1 missing file(s): 18501108-18501109 | 18501110-18501111\n",
      "1 missing file(s): 18501112-18501113 | 18501114-18501115\n",
      "1 missing file(s): 18501116-18501117 | 18501118-18501119\n",
      "1 missing file(s): 18501122-18501123 | 18501124-18501125\n",
      "1 missing file(s): 18501204-18501205 | 18501206-18501207\n",
      "1 missing file(s): 18501220-18501221 | 18501222-18501223\n",
      "1 missing file(s): 18510104-18510105 | 18510106-18510107\n",
      "1 missing file(s): 18510119-18510120 | 18510121-18510122\n",
      "1 missing file(s): 18510131-18510201 | 18510202-18510203\n",
      "1 missing file(s): 18510204-18510205 | 18510206-18510207\n",
      "1 missing file(s): 18510224-18510225 | 18510226-18510227\n",
      "1 missing file(s): 18510302-18510303 | 18510304-18510305\n",
      "1 missing file(s): 18510310-18510311 | 18510312-18510313\n",
      "1 missing file(s): 18510322-18510323 | 18510324-18510325\n",
      "1 missing file(s): 18510326-18510327 | 18510328-18510329\n",
      "1 missing file(s): 18510330-18510331 | 18510401-18510402\n",
      "1 missing file(s): 18510403-18510404 | 18510405-18510406\n",
      "1 missing file(s): 18510422-18510423 | 18510424-18510425\n"
     ]
    }
   ],
   "source": [
    "print(\"Missing files on the scratch directory for %s...\"%varid)\n",
    "print()\n",
    "processed_files = getProcessedFiles(varid,inputdir_processed_day)\n",
    "processed_dates = [f.split('.')[0].split('_')[-1] for f in processed_files]\n",
    "for d1,d2 in zip(processed_dates[:-1],processed_dates[1:]):\n",
    "    delta = dt.datetime(int(d2[:4]),int(d2[4:6]),int(d2[6:8]))-dt.datetime(int(d1[:4]),int(d1[4:6]),int(d1[6:8]))\n",
    "    if delta.days > 1:\n",
    "        print(delta.days-1,\"missing file(s):\",d1,'|',d2)"
   ]
  },
  {
   "cell_type": "code",
   "execution_count": 17,
   "metadata": {},
   "outputs": [
    {
     "name": "stdout",
     "output_type": "stream",
     "text": [
      "(318, 30, 32, 144) 0.16376495361328125 <class 'numpy.ndarray'>\n"
     ]
    }
   ],
   "source": []
  },
  {
   "cell_type": "code",
   "execution_count": null,
   "metadata": {
    "collapsed": true
   },
   "outputs": [],
   "source": []
  }
 ],
 "metadata": {
  "kernelspec": {
   "display_name": "Python 3",
   "language": "python",
   "name": "python3"
  },
  "language_info": {
   "codemirror_mode": {
    "name": "ipython",
    "version": 3
   },
   "file_extension": ".py",
   "mimetype": "text/x-python",
   "name": "python",
   "nbconvert_exporter": "python",
   "pygments_lexer": "ipython3",
   "version": "3.6.1"
  }
 },
 "nbformat": 4,
 "nbformat_minor": 2
}
