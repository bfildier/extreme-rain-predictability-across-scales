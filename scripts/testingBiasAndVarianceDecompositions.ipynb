{
 "cells": [
  {
   "cell_type": "markdown",
   "metadata": {
    "toc": "true"
   },
   "source": [
    "# Table of Contents\n",
    " <p>"
   ]
  },
  {
   "cell_type": "code",
   "execution_count": 17,
   "metadata": {
    "ExecuteTime": {
     "end_time": "2017-11-02T01:19:08.183067",
     "start_time": "2017-11-02T01:19:07.990890Z"
    },
    "collapsed": false,
    "run_control": {
     "frozen": false,
     "read_only": false
    }
   },
   "outputs": [
    {
     "name": "stdout",
     "output_type": "stream",
     "text": [
      "The autoreload extension is already loaded. To reload it, use:\n",
      "  %reload_ext autoreload\n"
     ]
    }
   ],
   "source": [
    "%load_ext autoreload\n",
    "%matplotlib inline"
   ]
  },
  {
   "cell_type": "code",
   "execution_count": 94,
   "metadata": {
    "ExecuteTime": {
     "end_time": "2017-11-02T20:04:11.039953",
     "start_time": "2017-11-02T20:04:10.995283Z"
    },
    "collapsed": false,
    "run_control": {
     "frozen": false,
     "read_only": false
    }
   },
   "outputs": [
    {
     "name": "stdout",
     "output_type": "stream",
     "text": [
      "Own modules available: ['CAMsettings', 'daskOptions', 'environmentAndDirectories', 'importingData', 'physicalConstants', 'plot1DInvLog', 'plotMaps', 'scalingApproximations', 'slicingAndSubsetting', 'statisticalDistributions', 'thermoConstants', 'thermoFunctions']\n"
     ]
    }
   ],
   "source": [
    "%autoreload 2\n",
    "\n",
    "import numpy as np\n",
    "import numpy.ma as ma\n",
    "import dask.array as da\n",
    "import matplotlib.pyplot as plt\n",
    "import datetime as dt\n",
    "import sys,os,glob\n",
    "from mpl_toolkits.basemap import Basemap\n",
    "from matplotlib.colors import LogNorm\n",
    "\n",
    "## Add own library to path\n",
    "workdir = os.getcwd()\n",
    "thismodule = sys.modules[__name__]\n",
    "moduledir = os.path.join(os.path.dirname(workdir),'functions')\n",
    "sys.path.insert(0,moduledir)\n",
    "print(\"Own modules available:\", [os.path.splitext(os.path.basename(x))[0]\n",
    "                                 for x in glob.glob(os.path.join(moduledir,'*.py'))])\n",
    "## Load own libraries\n",
    "from environmentAndDirectories import *\n",
    "from importingData import *\n",
    "from scalingApproximations import *\n",
    "from slicingAndSubsetting import *\n",
    "from thermoConstants import L_v,R_v\n",
    "from plotMaps import *\n",
    "from plot1DInvLog import *\n",
    "from statisticalDistributions import *"
   ]
  },
  {
   "cell_type": "code",
   "execution_count": null,
   "metadata": {
    "collapsed": true,
    "run_control": {
     "frozen": false,
     "read_only": false
    }
   },
   "outputs": [],
   "source": []
  },
  {
   "cell_type": "code",
   "execution_count": 83,
   "metadata": {
    "ExecuteTime": {
     "end_time": "2017-11-02T18:35:59.877584",
     "start_time": "2017-11-02T18:35:59.843322Z"
    },
    "collapsed": false,
    "run_control": {
     "frozen": false,
     "read_only": false
    }
   },
   "outputs": [],
   "source": [
    "n_pts = int(1e4)\n",
    "ts = np.random.normal(300,20,n_pts)\n",
    "ps = 1e5*np.ones(n_pts)\n",
    "omega = np.random.normal(0.1,0.5,n_pts)\n",
    "qvstar = saturationSpecificHumidity(ts,ps)\n",
    "pr_sc = omega*qvstar\n",
    "\n",
    "from scipy.stats import norm\n",
    "pr = np.random.lognormal(mean=0.1*qvstar.mean(),sigma = sqrt(np.log(qvstar).var()),size=n_pts)"
   ]
  },
  {
   "cell_type": "code",
   "execution_count": 84,
   "metadata": {
    "ExecuteTime": {
     "end_time": "2017-11-02T18:36:00.177611",
     "start_time": "2017-11-02T18:36:00.142871Z"
    },
    "collapsed": false,
    "run_control": {
     "frozen": false,
     "read_only": false
    }
   },
   "outputs": [
    {
     "name": "stdout",
     "output_type": "stream",
     "text": [
      "[ 99.74881136  99.80047377  99.84151068  99.87410746  99.9         99.92056718\n",
      "  99.93690427  99.94988128  99.96018928  99.96837722]\n"
     ]
    }
   ],
   "source": [
    "print(ranks[iQ_slice])"
   ]
  },
  {
   "cell_type": "code",
   "execution_count": 103,
   "metadata": {
    "ExecuteTime": {
     "end_time": "2017-11-02T20:15:46.891714",
     "start_time": "2017-11-02T20:15:46.816019Z"
    },
    "collapsed": false,
    "run_control": {
     "frozen": false,
     "read_only": false
    }
   },
   "outputs": [
    {
     "name": "stdout",
     "output_type": "stream",
     "text": [
      "-71907.5524135\n"
     ]
    }
   ],
   "source": [
    "Q_IL = getInvLogRanks(n_pts,fill_last_decade=True)\n",
    "i_Q = indexOfQ(99.9,Q_IL)\n",
    "ranks, percentiles, breaks = computePercentilesAndBinsFromRanks(pr.flatten(),Q_IL)\n",
    "iQ_slice = slice(i_Q-5,i_Q+5)\n",
    "eff, pr_sc_vQ = computeScalingOmegaTAtAllRanks(ranks,percentiles,omega,ts,ps,pr,ranks[iQ_slice])\n",
    "print(eff)"
   ]
  },
  {
   "cell_type": "code",
   "execution_count": 97,
   "metadata": {
    "ExecuteTime": {
     "end_time": "2017-11-02T20:07:36.253346",
     "start_time": "2017-11-02T20:07:36.189883Z"
    },
    "collapsed": false,
    "run_control": {
     "frozen": false,
     "read_only": false
    }
   },
   "outputs": [
    {
     "name": "stdout",
     "output_type": "stream",
     "text": [
      "Compute variance in percentiles bins - quantity to decompose: prefix 'var_', suffix '_prQ'\n"
     ]
    }
   ],
   "source": [
    "print(\"Compute variance in percentiles bins: prefix 'var_', suffix '_prQ'\")\n",
    "var_pr_sc_prQ = np.array(list(map(lambda x: varXAtYPercentiles(x,ranks,percentiles,pr_sc,pr),ranks)))\n",
    "var_ts_prQ = np.array(list(map(lambda x: varXAtYPercentiles(x,ranks,percentiles,ts,pr),ranks)))\n",
    "var_omega_prQ = np.array(list(map(lambda x: varXAtYPercentiles(x,ranks,percentiles,omega,pr),ranks)))"
   ]
  },
  {
   "cell_type": "code",
   "execution_count": 100,
   "metadata": {
    "ExecuteTime": {
     "end_time": "2017-11-02T20:11:38.119820",
     "start_time": "2017-11-02T20:11:38.067830Z"
    },
    "collapsed": false,
    "run_control": {
     "frozen": false,
     "read_only": false
    }
   },
   "outputs": [
    {
     "name": "stdout",
     "output_type": "stream",
     "text": [
      "Compute covariance in percentile bins: prefix 'cov_', suffix '_prQ'\n"
     ]
    }
   ],
   "source": [
    "# print(\"Compute covariance in percentile bins: prefix 'cov_', suffix '_prQ'\")\n",
    "# cov_ts_omega_prQ = np.array(list(map(lambda x: covAtYPercentiles(x,ranks,percentiles,ts,omega,pr),ranks)))"
   ]
  },
  {
   "cell_type": "code",
   "execution_count": 93,
   "metadata": {
    "ExecuteTime": {
     "end_time": "2017-11-02T20:02:58.188678",
     "start_time": "2017-11-02T20:02:58.117242Z"
    },
    "collapsed": false,
    "run_control": {
     "frozen": false,
     "read_only": false
    }
   },
   "outputs": [
    {
     "name": "stdout",
     "output_type": "stream",
     "text": [
      "Compute all mean variables in percentile bins of pr_ref (pr): suffix '_prQ'\n"
     ]
    }
   ],
   "source": [
    "print(\"Compute all mean variables in percentile bins of pr_ref (pr): suffix '_prQ'\")\n",
    "ts_prQ = np.array(list(map(lambda x: meanXAtYPercentiles(x,ranks,percentiles,ts,pr),ranks)))\n",
    "ps_prQ = np.array(list(map(lambda x: meanXAtYPercentiles(x,ranks,percentiles,ps,pr),ranks)))\n",
    "omega_prQ = np.array(list(map(lambda x: meanXAtYPercentiles(x,ranks,percentiles,omega,pr),ranks)))"
   ]
  },
  {
   "cell_type": "code",
   "execution_count": 102,
   "metadata": {
    "ExecuteTime": {
     "end_time": "2017-11-02T20:15:44.365272",
     "start_time": "2017-11-02T20:15:44.339114Z"
    },
    "collapsed": false,
    "run_control": {
     "frozen": false,
     "read_only": false
    }
   },
   "outputs": [
    {
     "name": "stdout",
     "output_type": "stream",
     "text": [
      "Compute functions of binned variables: suffix '_vQ'\n"
     ]
    }
   ],
   "source": [
    "print(\"Compute functions of binned variables: suffix '_vQ'\")\n",
    "pr_sc_vQ = singleLevelScalingFromOmegaT(omega_prQ,ts_prQ,ps_prQ,eff)\n",
    "qvstar_vQ = saturationSpecificHumidity(ts_prQ,ps_prQ)"
   ]
  },
  {
   "cell_type": "code",
   "execution_count": 111,
   "metadata": {
    "ExecuteTime": {
     "end_time": "2017-11-02T20:25:52.752485",
     "start_time": "2017-11-02T20:25:52.722917Z"
    },
    "collapsed": false,
    "run_control": {
     "frozen": false,
     "read_only": false
    }
   },
   "outputs": [
    {
     "name": "stdout",
     "output_type": "stream",
     "text": [
      "Compute coefficients in the variance decomposition\n"
     ]
    }
   ],
   "source": [
    "print(\"Compute coefficients in the variance decomposition\")\n",
    "a = (eff*qvstar_vQ)**2\n",
    "b = (omega_prQ*L_v/(R_v*ts_prQ**2))**2\n",
    "c_varT = a*b\n",
    "c_varOmega = a\n",
    "# print('c_varT =',c_varT)\n",
    "# print('c_varOmega =',c_varOmega)"
   ]
  },
  {
   "cell_type": "code",
   "execution_count": 110,
   "metadata": {
    "ExecuteTime": {
     "end_time": "2017-11-02T20:25:28.350202",
     "start_time": "2017-11-02T20:25:28.320342Z"
    },
    "collapsed": false,
    "run_control": {
     "frozen": false,
     "read_only": false
    }
   },
   "outputs": [
    {
     "name": "stdout",
     "output_type": "stream",
     "text": [
      "Compute normalized terms in the variance decomposition\n"
     ]
    }
   ],
   "source": [
    "print(\"Compute normalized terms in the variance decomposition\")\n",
    "term_var_pr_sc = var_pr_sc_prQ/pr_sc_vQ**2\n",
    "term_varT = c_varT*var_ts_prQ/pr_sc_vQ**2\n",
    "term_varOmega = c_varOmega*var_omega_prQ/pr_sc_vQ**2"
   ]
  },
  {
   "cell_type": "code",
   "execution_count": 107,
   "metadata": {
    "ExecuteTime": {
     "end_time": "2017-11-02T20:21:39.606689",
     "start_time": "2017-11-02T20:21:39.572902Z"
    },
    "collapsed": false,
    "run_control": {
     "frozen": false,
     "read_only": false
    }
   },
   "outputs": [
    {
     "name": "stdout",
     "output_type": "stream",
     "text": [
      "[  5.30655616e-05   6.45205503e-05   4.78777221e-05   5.94554008e-05\n",
      "   4.94828055e-05   5.72460161e-05   5.65308283e-05   4.58654028e-05\n",
      "   4.16033317e-05   3.83274123e-05   4.10883620e-05   3.02600671e-05\n",
      "   3.54454286e-05   4.69515680e-04   4.08472742e-05   7.07658881e-05\n",
      "   2.64479970e-05   3.10927316e-05  -4.21198487e-04   2.24468230e-05\n",
      "   6.74046899e-05   6.83214968e-06  -7.64984329e-05   2.28929843e-05\n",
      "   1.63103653e-05   7.60953657e-06  -4.56859654e-06  -8.15809392e-03\n",
      "  -4.25158831e-07   2.51652928e-06  -2.87345095e-06              nan\n",
      "              nan   1.67648626e-07              nan              nan\n",
      "              nan              nan              nan] [ 2313.96890227  2195.23259744  2720.06226499  1996.24620488  2393.69572787\n",
      "  2433.59917929  2064.09503783  2398.56142902  2007.54627089  4306.30199614\n",
      "  2428.58973513  2395.54028489  1396.09785331   114.63243029  4482.19196467\n",
      "  1570.29142428  2939.95157285  1197.42485002  -168.67601892  1064.59366611\n",
      "   949.6720246   1766.91226392  -198.79652198   639.7874073   4815.0810058\n",
      "  2833.991119    -951.50825751  -184.85087711  -407.07311205  3507.67786967\n",
      "  -184.87545539            nan            nan   244.7477                nan\n",
      "            nan            nan            nan            nan] [  3.82584561e+04   3.90843731e+04   3.35659721e+04   4.22897888e+04\n",
      "   3.78108822e+04   3.91858079e+04   4.41975765e+04   3.49707211e+04\n",
      "   4.68038064e+04   2.25807264e+04   3.77048914e+04   3.16058681e+04\n",
      "   4.15544514e+04   6.68209797e+05   1.98089966e+04   6.95994305e+04\n",
      "   4.00512588e+04   9.76272598e+04  -5.05706283e+05   3.07909832e+04\n",
      "   5.13859046e+04   1.44077672e+04  -7.12109399e+04   9.39998164e+04\n",
      "   3.71406850e+04   7.94671742e+03  -4.01967384e+04  -4.00610984e+06\n",
      "  -1.72960335e+03   2.02926446e+03  -1.15768083e+04              nan\n",
      "              nan   1.88890955e+03              nan              nan\n",
      "              nan              nan              nan]\n"
     ]
    }
   ],
   "source": [
    "print(term_var_pr_sc,term_varT,term_varOmega)"
   ]
  }
 ],
 "metadata": {
  "hide_input": false,
  "kernelspec": {
   "display_name": "Python 3",
   "language": "python",
   "name": "python3"
  },
  "language_info": {
   "codemirror_mode": {
    "name": "ipython",
    "version": 3
   },
   "file_extension": ".py",
   "mimetype": "text/x-python",
   "name": "python",
   "nbconvert_exporter": "python",
   "pygments_lexer": "ipython3",
   "version": "3.6.1"
  },
  "latex_envs": {
   "bibliofile": "biblio.bib",
   "cite_by": "apalike",
   "current_citInitial": 1,
   "eqLabelWithNumbers": true,
   "eqNumInitial": 0
  },
  "toc": {
   "toc_cell": true,
   "toc_number_sections": true,
   "toc_threshold": 6,
   "toc_window_display": false
  }
 },
 "nbformat": 4,
 "nbformat_minor": 0
}
