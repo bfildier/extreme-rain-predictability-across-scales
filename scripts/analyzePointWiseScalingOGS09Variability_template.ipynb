{
 "cells": [
  {
   "cell_type": "markdown",
   "metadata": {
    "toc": "true"
   },
   "source": [
    "# Table of Contents\n",
    " <p><div class=\"lev1\"><a href=\"#Derive-scaling\"><span class=\"toc-item-num\">1&nbsp;&nbsp;</span>Derive scaling</a></div><div class=\"lev2\"><a href=\"#Compute-statistics\"><span class=\"toc-item-num\">1.1&nbsp;&nbsp;</span>Compute statistics</a></div><div class=\"lev3\"><a href=\"#1D-PDFs\"><span class=\"toc-item-num\">1.1.1&nbsp;&nbsp;</span>1D PDFs</a></div><div class=\"lev3\"><a href=\"#PDF-of-scaling-in-percentile-bins-of-pr\"><span class=\"toc-item-num\">1.1.2&nbsp;&nbsp;</span>PDF of scaling in percentile bins of pr</a></div><div class=\"lev3\"><a href=\"#2D-PDFs\"><span class=\"toc-item-num\">1.1.3&nbsp;&nbsp;</span>2D PDFs</a></div><div class=\"lev3\"><a href=\"#Decompose-variance-into-its-contributions-from-qvstar-and-omega\"><span class=\"toc-item-num\">1.1.4&nbsp;&nbsp;</span>Decompose variance into its contributions from qvstar and omega</a></div>"
   ]
  },
  {
   "cell_type": "code",
   "execution_count": 1,
   "metadata": {
    "ExecuteTime": {
     "end_time": "2018-03-23T22:19:25.262053",
     "start_time": "2018-03-23T22:19:24.186831Z"
    },
    "collapsed": true,
    "run_control": {
     "frozen": false,
     "read_only": false
    }
   },
   "outputs": [],
   "source": [
    "%load_ext autoreload\n",
    "%matplotlib inline"
   ]
  },
  {
   "cell_type": "code",
   "execution_count": 89,
   "metadata": {
    "ExecuteTime": {
     "end_time": "2018-03-25T22:37:16.577495",
     "start_time": "2018-03-25T22:37:16.023955Z"
    },
    "collapsed": false,
    "run_control": {
     "frozen": false,
     "read_only": false
    }
   },
   "outputs": [
    {
     "name": "stdout",
     "output_type": "stream",
     "text": [
      "-- loading modules\n",
      "\n",
      "Own modules available: ['CAMsettings', 'daskOptions', 'environmentAndDirectories', 'importingData', 'outputResults', 'physicalConstants', 'plot1DInvLog', 'plot2D', 'plotMaps', 'scalingApproximations', 'slicingAndSubsetting', 'statisticalDistributions', 'thermoConstants', 'thermoFunctions']\n"
     ]
    }
   ],
   "source": [
    "%autoreload 2\n",
    "\n",
    "print(\"-- loading modules\")\n",
    "print()\n",
    "\n",
    "import numpy as np\n",
    "import numpy.ma as ma\n",
    "import dask.array as da\n",
    "import matplotlib\n",
    "# matplotlib.use(\"PDF\")\n",
    "import matplotlib.pyplot as plt\n",
    "import datetime as dt\n",
    "import time\n",
    "import sys,os,glob\n",
    "from mpl_toolkits.basemap import Basemap\n",
    "from matplotlib.colors import LogNorm\n",
    "\n",
    "## Add own library to path\n",
    "workdir = os.getcwd()\n",
    "thismodule = sys.modules[__name__]\n",
    "moduledir = os.path.join(os.path.dirname(workdir),'functions')\n",
    "sys.path.insert(0,moduledir)\n",
    "print(\"Own modules available:\", [os.path.splitext(os.path.basename(x))[0]\n",
    "                                 for x in glob.glob(os.path.join(moduledir,'*.py'))])\n",
    "\n",
    "## Load own libraries\n",
    "from environmentAndDirectories import *\n",
    "from importingData import *\n",
    "from scalingApproximations import *\n",
    "from slicingAndSubsetting import *\n",
    "from thermoConstants import L_v,R_v\n",
    "from plotMaps import *\n",
    "from plot1DInvLog import *\n",
    "from plot2D import *\n",
    "from statisticalDistributions import *\n",
    "from outputResults import *\n",
    "\n",
    "## Graphical parameters\n",
    "plt.style.use(os.path.join(matplotlib.get_configdir(),'stylelib/presentation.mplstyle'))"
   ]
  },
  {
   "cell_type": "code",
   "execution_count": 3,
   "metadata": {
    "ExecuteTime": {
     "end_time": "2018-03-23T22:19:27.386305",
     "start_time": "2018-03-23T22:19:27.335504Z"
    },
    "collapsed": false,
    "run_control": {
     "frozen": false,
     "read_only": false
    }
   },
   "outputs": [
    {
     "name": "stdout",
     "output_type": "stream",
     "text": [
      "-- load environment and variables\n",
      "\n",
      "- load data for the following options:\n",
      "CPU times: user 673 µs, sys: 721 µs, total: 1.39 ms\n",
      "Wall time: 712 µs\n"
     ]
    }
   ],
   "source": [
    "%%time\n",
    "print(\"-- load environment and variables\")\n",
    "print()\n",
    "\n",
    "omega_id = 'OMEGA'\n",
    "pr_id = 'PRECT'\n",
    "ts_id = 'TS'\n",
    "ta_id = 'T'\n",
    "relhum_id = 'RELHUM'\n",
    "ps_id = 'PS'\n",
    "\n",
    "all_varnames = 'omega','pr','ts','ta','relhum','ps','pres'\n",
    "\n",
    "ref_time_stride = '1h'\n",
    "ref_resolution = '1dx'\n",
    "\n",
    "print(\"- load data for the following options:\")\n",
    "compset = 'FSPCAMm_AMIP'\n",
    "experiment = 'piControl'\n",
    "member = 'r1i1p1'\n",
    "subset = 'tropics'\n",
    "daskarray = False\n",
    "tracktime = True\n",
    "# dates = ('185005010100','185005020000')\n",
    "dates = ('185005010100','185105010000')\n",
    "handle = 'h0'\n",
    "plotAll2dPDFs = True\n",
    "bootstrap = True"
   ]
  },
  {
   "cell_type": "code",
   "execution_count": 4,
   "metadata": {
    "ExecuteTime": {
     "end_time": "2018-03-23T22:19:27.433493",
     "start_time": "2018-03-23T22:19:27.388746Z"
    },
    "collapsed": false,
    "run_control": {
     "frozen": false,
     "read_only": false
    }
   },
   "outputs": [],
   "source": [
    "if tracktime:\n",
    "    t0 = time.time()\n",
    "    t_loops = []"
   ]
  },
  {
   "cell_type": "code",
   "execution_count": 39,
   "metadata": {
    "ExecuteTime": {
     "end_time": "2018-03-24T01:13:55.496533",
     "start_time": "2018-03-24T01:13:53.542846Z"
    },
    "collapsed": false,
    "hide_input": true,
    "run_control": {
     "frozen": false,
     "read_only": false
    },
    "scrolled": true
   },
   "outputs": [
    {
     "name": "stdout",
     "output_type": "stream",
     "text": [
      "compset: FSPCAMm_AMIP\n",
      "experiment: piControl\n",
      "member: r1i1p1\n",
      "subset: tropics\n",
      "ref_time_stride: 1h\n",
      "ref_resolution: 1dx\n",
      "daskarray: False\n",
      "dates: ('185005010100', '185105010000')\n",
      "\n",
      "Importing OMEGA, PRECT, TS, T, RELHUM, PS from 24 history files between 1850-05-01-03600 and 1850-05-02-00000\n",
      "\n",
      "get inputpaths\n",
      "compute pressure levels\n"
     ]
    }
   ],
   "source": [
    "for v in ['compset','experiment','member','subset','ref_time_stride','ref_resolution',\\\n",
    "          'daskarray','dates']:\n",
    "    print(\"%s:\"%v,getattr(thismodule,v))\n",
    "\n",
    "print()\n",
    "omega_init,pr_init,ts_init,ta_init,relhum_init,ps_init = \\\n",
    "    getValues([omega_id,pr_id,ts_id,ta_id,relhum_id,ps_id],\n",
    "              compset,subset,experiment,ref_time_stride,ref_resolution,\n",
    "              daskarray=daskarray,dates=dates,handle=handle)\n",
    "pr_init *= rho_l    # convert from m/s to kg/m2/s\n",
    "\n",
    "print()\n",
    "print(\"get inputpaths\")\n",
    "\n",
    "historyFilesSettings = getCAMHistoryFilesSettings()\n",
    "inputdir, inputdir_processed_day, inputdir_processed_1hr, inputdir_results, inputdir_fx = \\\n",
    "    getInputDirectories(compset,experiment)\n",
    "\n",
    "print(\"compute pressure levels\")\n",
    "    \n",
    "input_lev_file = os.path.join(inputdir_fx,'lev_fx_CESM111-SPCAM20_allExperiments_r0i0p0.nc')\n",
    "computeP = getPressureCoordinateFunction(input_lev_file)\n",
    "pres_init = computeP(ps_init)\n",
    "\n",
    "cn = getArrayType(pres_init)"
   ]
  },
  {
   "cell_type": "code",
   "execution_count": 40,
   "metadata": {
    "ExecuteTime": {
     "end_time": "2018-03-24T01:13:55.543129",
     "start_time": "2018-03-24T01:13:55.498508Z"
    },
    "collapsed": false,
    "hide_input": true,
    "run_control": {
     "frozen": false,
     "read_only": false
    }
   },
   "outputs": [
    {
     "name": "stdout",
     "output_type": "stream",
     "text": [
      "\n",
      "! time spent to load the data: 02:54:28\n"
     ]
    }
   ],
   "source": [
    "if tracktime:\n",
    "    t1 = time.time()\n",
    "    t_loops.append(t1)\n",
    "    print()\n",
    "    print(\"! time spent to load the data:\",time2str(t1-t0))\n"
   ]
  },
  {
   "cell_type": "code",
   "execution_count": 41,
   "metadata": {
    "ExecuteTime": {
     "end_time": "2018-03-24T01:13:55.608289",
     "start_time": "2018-03-24T01:13:55.546885Z"
    },
    "collapsed": false,
    "hide_input": true,
    "run_control": {
     "frozen": false,
     "read_only": false
    }
   },
   "outputs": [
    {
     "name": "stdout",
     "output_type": "stream",
     "text": [
      "\n",
      "-----------------------------------------------------------------\n",
      "!          Start analysis for time_stride 1h                    !\n",
      "!                          and resolution 3dx                   !\n",
      "-----------------------------------------------------------------\n",
      "\n"
     ]
    }
   ],
   "source": [
    "#---- single scale ----#\n",
    "# start comment\n",
    "time_stride = '1h'\n",
    "resolution = '3dx'\n",
    "# stop comment\n",
    "\n",
    "#---- multiple scales ----#\n",
    "# # start uncomment\n",
    "# time_strides = '1h','3h','6h','12h','1d','2d','4d','8d'\n",
    "# resolutions = '1dx','2dx','3dx','4dx','5dx','6dx','7dx','8dx','9dx'\n",
    "# for time_stride in time_strides:\n",
    "#     for resolution in resolutions:\n",
    "# # stop uncomment\n",
    "\n",
    "#++# start indentation for multiple scales\n",
    "\n",
    "print()\n",
    "print(\"-----------------------------------------------------------------\")\n",
    "print(\"!          Start analysis for time_stride {:4}                  !\".format(time_stride))\n",
    "print(\"!                          and resolution {:4}                  !\".format(resolution))\n",
    "print(\"-----------------------------------------------------------------\")\n",
    "print()"
   ]
  },
  {
   "cell_type": "code",
   "execution_count": 43,
   "metadata": {
    "ExecuteTime": {
     "end_time": "2018-03-24T01:14:35.966124",
     "start_time": "2018-03-24T01:14:35.774191Z"
    },
    "collapsed": false,
    "hide_input": true,
    "run_control": {
     "frozen": false,
     "read_only": false
    }
   },
   "outputs": [
    {
     "name": "stdout",
     "output_type": "stream",
     "text": [
      "convert data to target resolutions\n",
      "- omega: 0.03440690040588379 s\n",
      "- pr: 0.0014979839324951172 s\n",
      "- ts: 0.0013859272003173828 s\n",
      "- ta: 0.03431582450866699 s\n",
      "- relhum: 0.030927181243896484 s\n",
      "- ps: 0.0010271072387695312 s\n",
      "- pres: 0.017621994018554688 s\n",
      "- all variables: 0.12421083450317383 s\n"
     ]
    }
   ],
   "source": [
    "print(\"convert data to target resolutions\")\n",
    "\n",
    "tc0 = time.time()\n",
    "\n",
    "for varname in all_varnames:\n",
    "    \n",
    "    tc1 = time.time()\n",
    "    setattr(thismodule,varname,\n",
    "            coarsenTimeStride(coarsenResolution(getattr(thismodule,\"%s_init\"%varname),\n",
    "                                                resolution),\n",
    "                              time_stride))\n",
    "    print(\"- %s:\"%varname,time.time()-tc1,'s')\n",
    "print(\"- all variables:\",time.time()-tc0,'s')\n",
    "\n",
    "qvstar = saturationSpecificHumidity(pres=pres,temp=ta)"
   ]
  },
  {
   "cell_type": "code",
   "execution_count": 9,
   "metadata": {
    "ExecuteTime": {
     "end_time": "2018-03-23T22:19:29.489950",
     "start_time": "2018-03-23T22:19:29.439835Z"
    },
    "collapsed": false,
    "hide_input": true,
    "run_control": {
     "frozen": false,
     "read_only": false
    },
    "scrolled": true
   },
   "outputs": [
    {
     "name": "stdout",
     "output_type": "stream",
     "text": [
      "\n",
      "-- define output paths\n",
      "\n",
      "\n"
     ]
    }
   ],
   "source": [
    "print()\n",
    "print(\"-- define output paths\")\n",
    "print()\n",
    "\n",
    "# Figure output directory\n",
    "figdir = os.path.join(os.path.dirname(workdir),'figures','omega500tsps',compset,experiment,member,subset,\\\n",
    "                      time_stride,resolution)\n",
    "os.makedirs(figdir,exist_ok=True)\n",
    "\n",
    "# Results output directory\n",
    "resultdir = os.path.join(os.path.dirname(workdir),'results','omega500tsps',compset,experiment,member,subset,\\\n",
    "                      time_stride,resolution)\n",
    "os.makedirs(resultdir,exist_ok=True)\n",
    "\n",
    "print()"
   ]
  },
  {
   "cell_type": "markdown",
   "metadata": {},
   "source": [
    "# Derive scaling"
   ]
  },
  {
   "cell_type": "code",
   "execution_count": 10,
   "metadata": {
    "ExecuteTime": {
     "end_time": "2018-03-23T22:23:32.009317",
     "start_time": "2018-03-23T22:23:31.737156Z"
    },
    "collapsed": false,
    "run_control": {
     "frozen": false,
     "read_only": false
    }
   },
   "outputs": [
    {
     "name": "stdout",
     "output_type": "stream",
     "text": [
      "\n",
      "-- compute (percentile-wise and pointwise) scaling approximation\n",
      "\n"
     ]
    }
   ],
   "source": [
    "print()\n",
    "print(\"-- compute (percentile-wise and pointwise) scaling approximation\")\n",
    "print()"
   ]
  },
  {
   "cell_type": "code",
   "execution_count": 11,
   "metadata": {
    "ExecuteTime": {
     "end_time": "2018-03-23T22:23:59.379248",
     "start_time": "2018-03-23T22:23:59.310537Z"
    },
    "collapsed": false,
    "run_control": {
     "frozen": false,
     "read_only": false
    },
    "scrolled": false
   },
   "outputs": [
    {
     "name": "stdout",
     "output_type": "stream",
     "text": [
      "Compute ranks and ranks locations\n",
      "0.0000 20.5672 36.9043 49.8813 60.1893 68.3772 74.8811 80.0474 84.1511 87.4107 90.0000 92.0567 93.6904 94.9881 96.0189 96.8377 97.4881 98.0047 98.4151 98.7411 99.0000 99.2057 99.3690 99.4988 99.6019 99.6838 99.7488 99.8005 99.8415 99.8741 99.9000 99.9206 99.9369 99.9499 99.9602 99.9684 99.9749 99.9800 99.9842 99.9874 99.9900 \n",
      "CPU times: user 13.6 ms, sys: 5.5 ms, total: 19.1 ms\n",
      "Wall time: 18.3 ms\n"
     ]
    }
   ],
   "source": [
    "%%time\n",
    "print(\"Compute ranks and ranks locations\")\n",
    "\n",
    "n_pts = pr.size\n",
    "Q_IL = getInvLogRanks(n_pts,n_pts_per_bin=1,fill_last_decade=True)\n",
    "i_Q = indexOfRank(99.9,Q_IL)\n",
    "iQ_slice = slice(i_Q-5,i_Q+5)\n",
    "ranks, centers, bins = computePercentilesAndBinsFromRanks(pr.flatten(),Q_IL)\n",
    "iQ_min = 8\n",
    "iQ_max = min(len(Q_IL),41)\n",
    "# iQ_max = min(len(Q_IL),iQ_slice.stop)\n",
    "\n",
    "# Define reference percentiles and compute percentiles\n",
    "targetranks = Q_IL[iQ_min:iQ_max]\n",
    "ranks_ref = Q_IL[:iQ_max]\n",
    "percentiles = adjustRanks(centers,ranks,ranks_ref)\n",
    "\n",
    "# Suffix to save figures and results\n",
    "output_suffix = 'Q%d-Q%d_%s'%(iQ_min,iQ_max,'-'.join(dates))\n",
    "\n",
    "rank_locations= {}\n",
    "for rank in ranks_ref:\n",
    "    rank_id  = \"%2.4f\"%rank\n",
    "    print(rank_id,end=' ')\n",
    "    rank_locations[rank_id] = getRankLocations(rank,pr,ranks,bins,rank_locations)\n",
    "print()"
   ]
  },
  {
   "cell_type": "code",
   "execution_count": 12,
   "metadata": {
    "ExecuteTime": {
     "end_time": "2018-03-23T22:24:22.288220",
     "start_time": "2018-03-23T22:24:22.245682Z"
    },
    "collapsed": false,
    "run_control": {
     "frozen": false,
     "read_only": false
    }
   },
   "outputs": [
    {
     "name": "stdout",
     "output_type": "stream",
     "text": [
      "compute sample size in each bin\n",
      "2553.0 11520\n"
     ]
    }
   ],
   "source": [
    "print(\"compute sample size in each bin\")\n",
    "N_prQ = sampleSizeAtAllRanks(targetranks,pr,ranks_ref,rank_locations=rank_locations)\n",
    "print(np.nansum(N_prQ),pr.size)"
   ]
  },
  {
   "cell_type": "code",
   "execution_count": 13,
   "metadata": {
    "ExecuteTime": {
     "end_time": "2018-03-23T22:24:44.257433",
     "start_time": "2018-03-23T22:24:43.414272Z"
    },
    "collapsed": false,
    "run_control": {
     "frozen": false,
     "read_only": false
    },
    "scrolled": false
   },
   "outputs": [
    {
     "name": "stdout",
     "output_type": "stream",
     "text": [
      "compute O'Gorman&Schneider scaling with environmental temperature profile\n",
      "eps_OGS09 = 1.05358854943\n",
      "CPU times: user 677 ms, sys: 83.7 ms, total: 760 ms\n",
      "Wall time: 802 ms\n"
     ]
    }
   ],
   "source": [
    "%%time\n",
    "print(\"compute O'Gorman&Schneider scaling with environmental temperature profile\")\n",
    "eps_OGS09, pr_scOGS09_vQ = computeScalingOGS09AtAllRanks(targetranks,omega,ta,pres,pr,\n",
    "    ranks_ref=ranks_ref[iQ_slice],percentiles_ref=percentiles[iQ_slice],bins=bins,\n",
    "                                                         rank_locations=rank_locations)\n",
    "pr_scOGS09_vQ = adjustRanks(pr_scOGS09_vQ,targetranks,ranks_ref)\n",
    "pr_scOGS09 = scalingOGS09(omega,ta,pres,efficiency=eps_OGS09,levdim=1)\n",
    "print(\"eps_OGS09 =\",eps_OGS09)"
   ]
  },
  {
   "cell_type": "code",
   "execution_count": 14,
   "metadata": {
    "ExecuteTime": {
     "end_time": "2018-03-23T22:25:14.565995",
     "start_time": "2018-03-23T22:25:13.464921Z"
    },
    "collapsed": false,
    "run_control": {
     "frozen": false,
     "read_only": false
    },
    "scrolled": false
   },
   "outputs": [
    {
     "name": "stdout",
     "output_type": "stream",
     "text": [
      "compute O'Gorman&Schneider scaling with moist adiabat\n",
      "eps_OGS09ad = 1.09914327972\n",
      "CPU times: user 902 ms, sys: 85 ms, total: 987 ms\n",
      "Wall time: 1.05 s\n"
     ]
    }
   ],
   "source": [
    "%%time\n",
    "print(\"compute O'Gorman&Schneider scaling with moist adiabat\")\n",
    "# Get temperature values at lowest level\n",
    "levdim = 1\n",
    "nlev = pres.shape[levdim]\n",
    "i_bottom = bottomIndex(np.moveaxis(pres,levdim,-1).ravel()[-nlev:])\n",
    "ta_bottom = np.take(ta,axis=levdim,indices=i_bottom)\n",
    "# Compute scaling\n",
    "eps_OGS09ad, pr_scOGS09ad_vQ = computeScalingOGS09AtAllRanks(targetranks,omega,ta_bottom,pres,pr,\n",
    "    temp_type='adiabat',relhum=relhum,ranks_ref=ranks_ref[iQ_slice],percentiles_ref=percentiles[iQ_slice],bins=bins,\n",
    "                                                         rank_locations=rank_locations)\n",
    "pr_scOGS09ad_vQ = adjustRanks(pr_scOGS09ad_vQ,targetranks,ranks_ref)\n",
    "pr_scOGS09ad = scalingOGS09(omega,ta_bottom,pres,temp_type='adiabat',relhum=relhum,efficiency=eps_OGS09ad,levdim=1)\n",
    "print(\"eps_OGS09ad =\",eps_OGS09ad)"
   ]
  },
  {
   "cell_type": "markdown",
   "metadata": {},
   "source": [
    "## Compute statistics"
   ]
  },
  {
   "cell_type": "markdown",
   "metadata": {},
   "source": [
    "### 1D PDFs"
   ]
  },
  {
   "cell_type": "code",
   "execution_count": 16,
   "metadata": {
    "ExecuteTime": {
     "end_time": "2018-03-23T22:26:07.336001",
     "start_time": "2018-03-23T22:26:07.108218Z"
    },
    "collapsed": false,
    "run_control": {
     "frozen": false,
     "read_only": false
    },
    "scrolled": false
   },
   "outputs": [
    {
     "name": "stdout",
     "output_type": "stream",
     "text": [
      "\n",
      "-- compute statistics\n",
      "\n"
     ]
    }
   ],
   "source": [
    "print()\n",
    "print(\"-- compute statistics\")\n",
    "print()"
   ]
  },
  {
   "cell_type": "code",
   "execution_count": 17,
   "metadata": {
    "ExecuteTime": {
     "end_time": "2018-03-23T22:26:17.121126",
     "start_time": "2018-03-23T22:26:17.077824Z"
    },
    "collapsed": false,
    "run_control": {
     "frozen": false,
     "read_only": false
    },
    "scrolled": false
   },
   "outputs": [
    {
     "name": "stdout",
     "output_type": "stream",
     "text": [
      "mean of scalings in pr bins\n"
     ]
    }
   ],
   "source": [
    "# %%time\n",
    "print(\"mean of scalings in pr bins\")\n",
    "pr_scOGS09_prQ = meanXAtAllYRanks(targetranks,pr_scOGS09,pr,ranks_ref,rank_locations=rank_locations)\n",
    "pr_scOGS09ad_prQ = meanXAtAllYRanks(targetranks,pr_scOGS09ad,pr,ranks_ref,rank_locations=rank_locations)"
   ]
  },
  {
   "cell_type": "code",
   "execution_count": 18,
   "metadata": {
    "ExecuteTime": {
     "end_time": "2018-03-23T22:26:24.016445",
     "start_time": "2018-03-23T22:26:23.958142Z"
    },
    "code_folding": [],
    "collapsed": false,
    "hide_input": false,
    "run_control": {
     "frozen": false,
     "read_only": false
    }
   },
   "outputs": [
    {
     "name": "stdout",
     "output_type": "stream",
     "text": [
      "interquartile and 90% ranges\n",
      "CPU times: user 18.5 ms, sys: 1.43 ms, total: 19.9 ms\n",
      "Wall time: 19.5 ms\n"
     ]
    }
   ],
   "source": [
    "%%time\n",
    "print(\"interquartile and 90% ranges\")\n",
    "ranks_I90 = (5,95)\n",
    "ranks_IQR = (25,75)\n",
    "\n",
    "pr_scOGS09_I90 = XPercentilesAtAllYRanks(targetranks,pr_scOGS09,ranks_I90,pr,ranks_ref,rank_locations_X=rank_locations)\n",
    "pr_scOGS09_IQR = XPercentilesAtAllYRanks(targetranks,pr_scOGS09,ranks_IQR,pr,ranks_ref,rank_locations_X=rank_locations)\n",
    "\n",
    "pr_scOGS09ad_I90 = XPercentilesAtAllYRanks(targetranks,pr_scOGS09ad,ranks_I90,pr,ranks_ref,rank_locations_X=rank_locations)\n",
    "pr_scOGS09ad_IQR = XPercentilesAtAllYRanks(targetranks,pr_scOGS09ad,ranks_IQR,pr,ranks_ref,rank_locations_X=rank_locations)\n"
   ]
  },
  {
   "cell_type": "markdown",
   "metadata": {},
   "source": [
    "### PDF of scaling in percentile bins of pr"
   ]
  },
  {
   "cell_type": "code",
   "execution_count": 19,
   "metadata": {
    "ExecuteTime": {
     "end_time": "2018-03-23T22:27:07.591883",
     "start_time": "2018-03-23T22:27:07.537822Z"
    },
    "collapsed": false,
    "run_control": {
     "frozen": false,
     "read_only": false
    }
   },
   "outputs": [
    {
     "name": "stdout",
     "output_type": "stream",
     "text": [
      "\n",
      "-- compute PDF of scalings in percentile bins of pr\n",
      "\n"
     ]
    }
   ],
   "source": [
    "print()\n",
    "print(\"-- compute PDF of scalings in percentile bins of pr\")\n",
    "print()"
   ]
  },
  {
   "cell_type": "code",
   "execution_count": 20,
   "metadata": {
    "ExecuteTime": {
     "end_time": "2018-03-23T22:27:07.844090",
     "start_time": "2018-03-23T22:27:07.817034Z"
    },
    "collapsed": false,
    "run_control": {
     "frozen": false,
     "read_only": false
    }
   },
   "outputs": [
    {
     "name": "stdout",
     "output_type": "stream",
     "text": [
      "reference Q_slices\n"
     ]
    }
   ],
   "source": [
    "print(\"reference Q_slices\")\n",
    "iQ_slices = [slice(i_Q-k,i_Q+k) for k in range(1,6)]"
   ]
  },
  {
   "cell_type": "code",
   "execution_count": 22,
   "metadata": {
    "ExecuteTime": {
     "end_time": "2018-03-23T22:27:18.758640",
     "start_time": "2018-03-23T22:27:18.687708Z"
    },
    "collapsed": false,
    "run_control": {
     "frozen": false,
     "read_only": false
    },
    "scrolled": true
   },
   "outputs": [
    {
     "name": "stdout",
     "output_type": "stream",
     "text": [
      "- pr_scOGS09\n",
      "Q-slice 99.8741-99.9206\n",
      "Q-slice 99.8415-99.9369\n",
      "Q-slice 99.8005-99.9499\n",
      "Q-slice 99.7488-99.9602\n",
      "Q-slice 99.6838-99.9684\n",
      "- pr_scOGS09ad\n",
      "Q-slice 99.8741-99.9206\n",
      "Q-slice 99.8415-99.9369\n",
      "Q-slice 99.8005-99.9499\n",
      "Q-slice 99.7488-99.9602\n",
      "Q-slice 99.6838-99.9684\n"
     ]
    }
   ],
   "source": [
    "varname_ref = 'pr'\n",
    "var_ref = getattr(thismodule,varname_ref)\n",
    "\n",
    "varnames = 'pr_scOGS09','pr_scOGS09ad'\n",
    "\n",
    "for varname in varnames:\n",
    "    \n",
    "    print(\"- %s\"%varname)\n",
    "\n",
    "    var = getattr(thismodule,varname)\n",
    "\n",
    "    for k in range(len(iQ_slices)):\n",
    "        \n",
    "        iQ_start = min(iQ_slices[k].start,ranks_ref.size-1)\n",
    "        iQ_stop = min(iQ_slices[k].stop,ranks_ref.size-1)\n",
    "\n",
    "        print(\"Q-slice %2.4f-%2.4f\"%(ranks_ref[iQ_start],ranks_ref[iQ_stop]))\n",
    "\n",
    "        sample_all = []\n",
    "        for i in range(iQ_start,iQ_stop):\n",
    "            stencil_Q = getStencilAtRank(ranks_ref[i],ranks_ref,bins,var_ref)\n",
    "            if stencil_Q.sum() != 0:\n",
    "                sample_all.append(var[stencil_Q])\n",
    "        if len(sample_all) == 0:\n",
    "            sample = np.array([])\n",
    "        else:\n",
    "            sample = np.hstack(sample_all)\n",
    "        # perc,b = defineLinearBins(sample,20)\n",
    "        ra,perc,b,den = compute1dDensities(sample[np.logical_not(np.isnan(sample))],n_lin_bins=20)\n",
    "        # Save\n",
    "        ra_varname = 'ranks_%s_%s_Q%dQ%d'%(varname,varname_ref,iQ_start,iQ_stop)\n",
    "        perc_varname = 'percentiles_%s_%s_Q%dQ%d'%(varname,varname_ref,iQ_start,iQ_stop)\n",
    "        b_varname = 'bins_%s_%s_Q%dQ%d'%(varname,varname_ref,iQ_start,iQ_stop)\n",
    "        den_varname = 'pdf1D_%s_%s_Q%dQ%d'%(varname,varname_ref,iQ_start,iQ_stop)\n",
    "        setattr(thismodule,ra_varname,ra)\n",
    "        setattr(thismodule,perc_varname,perc)\n",
    "        setattr(thismodule,b_varname,b)\n",
    "        setattr(thismodule,den_varname,den)\n"
   ]
  },
  {
   "cell_type": "markdown",
   "metadata": {},
   "source": [
    "### 2D PDFs"
   ]
  },
  {
   "cell_type": "code",
   "execution_count": 31,
   "metadata": {
    "ExecuteTime": {
     "end_time": "2018-03-24T00:31:47.312480",
     "start_time": "2018-03-24T00:31:46.896480Z"
    },
    "collapsed": false,
    "run_control": {
     "frozen": false,
     "read_only": false
    },
    "scrolled": true
   },
   "outputs": [
    {
     "name": "stdout",
     "output_type": "stream",
     "text": [
      "\n",
      "-- compute 2D PDF of scalings and pr\n",
      "\n"
     ]
    }
   ],
   "source": [
    "print()\n",
    "print(\"-- compute 2D PDF of scalings and pr\")\n",
    "print()"
   ]
  },
  {
   "cell_type": "code",
   "execution_count": 33,
   "metadata": {
    "ExecuteTime": {
     "end_time": "2018-03-24T00:32:34.221210",
     "start_time": "2018-03-24T00:32:33.596868Z"
    },
    "collapsed": false,
    "run_control": {
     "frozen": false,
     "read_only": false
    },
    "scrolled": true
   },
   "outputs": [
    {
     "name": "stdout",
     "output_type": "stream",
     "text": [
      "compute 2D PDFs\n"
     ]
    }
   ],
   "source": [
    "# %%time\n",
    "print(\"compute 2D PDFs\")\n",
    "\n",
    "all_pr_varnames = set({'pr','pr_scOGS09','pr_scOGS09ad'})\n",
    "\n",
    "for varname1 in all_pr_varnames:\n",
    "    for varname2 in all_pr_varnames.difference(varname1):\n",
    "\n",
    "        var1 = getattr(thismodule,varname1)\n",
    "        var2 = getattr(thismodule,varname2)\n",
    "        \n",
    "        ranks1, percentiles1, bins1, ranks2, percentiles2, bins2, density2D = \\\n",
    "            compute2dStatsILOnRefRanks(var1,var2,ranks_ref)\n",
    "            \n",
    "        setattr(thismodule,\"density2D_%s_%s\"%(varname1,varname2),density2D)\n",
    "\n",
    "        N1 = sampleSizeAtAllRanks(ranks1,var1,ranks_ref,bins=bins1)\n",
    "        N2 = sampleSizeAtAllRanks(ranks2,var2,ranks_ref,bins=bins2)\n",
    "        norm_factor = normalize2dDensity(N1,N2,n_pts)\n",
    "\n",
    "        norm_density2D = density2D/norm_factor\n",
    "        setattr(thismodule,\"norm_density2D_%s_%s\"%(varname1,varname2),norm_density2D)\n",
    "        setattr(thismodule,\"N_%s\"%(varname1),N1)\n",
    "        setattr(thismodule,\"N_%s\"%(varname2),N2)"
   ]
  },
  {
   "cell_type": "markdown",
   "metadata": {},
   "source": [
    "### Decompose variance into its contributions from qvstar and omega"
   ]
  },
  {
   "cell_type": "code",
   "execution_count": 34,
   "metadata": {
    "ExecuteTime": {
     "end_time": "2018-03-24T00:32:44.092097",
     "start_time": "2018-03-24T00:32:44.062677Z"
    },
    "collapsed": false,
    "run_control": {
     "frozen": false,
     "read_only": false
    },
    "scrolled": true
   },
   "outputs": [
    {
     "name": "stdout",
     "output_type": "stream",
     "text": [
      "\n",
      "-- decompose variance into qvstar and omega contributions\n",
      "\n"
     ]
    }
   ],
   "source": [
    "print()\n",
    "print(\"-- decompose variance into qvstar and omega contributions\")\n",
    "print()"
   ]
  },
  {
   "cell_type": "code",
   "execution_count": 29,
   "metadata": {
    "ExecuteTime": {
     "end_time": "2018-03-23T22:55:54.034727",
     "start_time": "2018-03-23T22:55:52.705643Z"
    },
    "collapsed": false,
    "hide_input": true,
    "run_control": {
     "frozen": false,
     "read_only": false
    },
    "scrolled": true
   },
   "outputs": [
    {
     "name": "stdout",
     "output_type": "stream",
     "text": [
      "Compute the variance in pr\n",
      "CPU times: user 1.21 s, sys: 10.1 ms, total: 1.22 s\n",
      "Wall time: 1.26 s\n"
     ]
    }
   ],
   "source": [
    "%%time \n",
    "print(\"Compute the variance in pr\")\n",
    "scaling_names = 'scOGS09','scOGS09ad'\n",
    "\n",
    "Ntimes = 100 if bootstrap else 1\n",
    "fsub = 0.5 if bootstrap else 1\n",
    "\n",
    "for sc_name in scaling_names:\n",
    "\n",
    "    # compute variance from full sample\n",
    "    pr_values = getattr(thismodule,'pr_%s'%sc_name)\n",
    "    var_pr = varXAtAllYRanks(targetranks,pr_values,\n",
    "                            pr,ranks_ref,rank_locations=rank_locations)\n",
    "    setattr(thismodule,'var_pr_%s_prQ'%sc_name,var_pr)\n",
    "    \n",
    "    # bootstrapping\n",
    "    all_var_pr = np.empty((Ntimes,var_pr.size))\n",
    "    for i in range(Ntimes):\n",
    "        all_var_pr[i,:] = varXAtAllYRanks(targetranks,pr_values,\n",
    "                            pr,ranks_ref,rank_locations=rank_locations,random_fraction=fsub)\n",
    "    if bootstrap:\n",
    "        setattr(thismodule,'var_pr_%s_I25_prQ'%sc_name,all_var_pr[0])\n",
    "        setattr(thismodule,'var_pr_%s_I75_prQ'%sc_name,all_var_pr[1])"
   ]
  },
  {
   "cell_type": "code",
   "execution_count": 30,
   "metadata": {
    "ExecuteTime": {
     "end_time": "2018-03-23T22:55:54.749227",
     "start_time": "2018-03-23T22:55:54.701903Z"
    },
    "collapsed": false,
    "hide_input": true,
    "run_control": {
     "frozen": false,
     "read_only": false
    },
    "scrolled": false
   },
   "outputs": [
    {
     "name": "stdout",
     "output_type": "stream",
     "text": [
      "normalized variability\n",
      "scaling scOGS09 : 0.01028\t (0.00875,0.00617)\n",
      "scaling scOGS09ad : 0.01949\t (0.00632,0.01455)\n"
     ]
    }
   ],
   "source": [
    "print(\"normalized variability\")\n",
    "for sc_name in scaling_names:\n",
    "    norm_var_pr = getattr(thismodule,'var_pr_%s_prQ'%sc_name)/getattr(thismodule,'pr_%s_prQ'%sc_name)**2\n",
    "    setattr(thismodule,'norm_var_pr_%s_prQ'%sc_name,norm_var_pr)\n",
    "    if bootstrap:\n",
    "        for int_bnd in 'I25','I75':\n",
    "            norm_var_pr_Ibnd = getattr(thismodule,'var_pr_%s_%s_prQ'%(sc_name,int_bnd))/\\\n",
    "                getattr(thismodule,'pr_%s_prQ'%sc_name)**2\n",
    "            setattr(thismodule,'norm_var_pr_%s_%s_prQ'%(sc_name,int_bnd),norm_var_pr_Ibnd)\n",
    "            # for printing only:\n",
    "            setattr(thismodule,'norm_var_pr_%s'%int_bnd,norm_var_pr_Ibnd)\n",
    "    \n",
    "    print(\"scaling %s : %1.5f\"%(sc_name,np.nanmean(norm_var_pr[iQ_slice])),end='')\n",
    "    if bootstrap:\n",
    "        print(\"\\t (%1.5f,%1.5f)\"%(np.nanmean(norm_var_pr_I25[iQ_slice]),\n",
    "                                  np.nanmean(norm_var_pr_I75[iQ_slice])))\n",
    "    else:\n",
    "        print()"
   ]
  },
  {
   "cell_type": "code",
   "execution_count": 69,
   "metadata": {
    "ExecuteTime": {
     "end_time": "2018-03-24T01:45:56.853952",
     "start_time": "2018-03-24T01:45:56.644493Z"
    },
    "collapsed": false
   },
   "outputs": [
    {
     "name": "stdout",
     "output_type": "stream",
     "text": [
      "(24, 29, 10, 48)\n"
     ]
    }
   ],
   "source": []
  },
  {
   "cell_type": "code",
   "execution_count": 114,
   "metadata": {
    "ExecuteTime": {
     "end_time": "2018-03-25T23:00:41.177737",
     "start_time": "2018-03-25T23:00:40.895995Z"
    },
    "collapsed": false,
    "run_control": {
     "frozen": false,
     "read_only": false
    }
   },
   "outputs": [
    {
     "name": "stdout",
     "output_type": "stream",
     "text": [
      "compute variability terms\n",
      "CPU times: user 327 ms, sys: 10.2 ms, total: 337 ms\n",
      "Wall time: 250 ms\n"
     ]
    }
   ],
   "source": [
    "%%time\n",
    "print(\"compute variability terms\")\n",
    "\n",
    "X = np.apply_along_axis(arr=omega,axis=1,func1d=(lambda x:np.convolve(x,(0.5,0.5),mode='valid')))\n",
    "Y = np.diff(qvstar,axis=1)\n",
    "\n",
    "var_X_prQ = trCovXYAtAllZRanks(targetranks,X,X,pr,ranks_ref,rank_locations=rank_locations)\n",
    "var_Y_prQ = trCovXYAtAllZRanks(targetranks,Y,Y,pr,ranks_ref,rank_locations=rank_locations)\n",
    "\n",
    "X_dot_Y = np.sum(X*Y,axis=1)\n",
    "var_X_dot_Y_prQ = varXAtAllYRanks(targetranks,X_dot_Y,pr,ranks_ref,rank_locations=rank_locations)"
   ]
  },
  {
   "cell_type": "code",
   "execution_count": 98,
   "metadata": {
    "ExecuteTime": {
     "end_time": "2018-03-25T22:43:28.456915",
     "start_time": "2018-03-25T22:43:28.084144Z"
    },
    "collapsed": false
   },
   "outputs": [
    {
     "name": "stdout",
     "output_type": "stream",
     "text": [
      "compute mean and product of X and Y for normalization\n",
      "(41, 29)\n"
     ]
    }
   ],
   "source": [
    "print(\"compute mean and product of X and Y for normalization\")\n",
    "\n",
    "mean_X_prQ = meanXProfileAtAllYRanks(targetranks,X,pr,ranks_ref,rank_locations=rank_locations)\n",
    "mean_Y_prQ = meanXProfileAtAllYRanks(targetranks,Y,pr,ranks_ref,rank_locations=rank_locations)"
   ]
  },
  {
   "cell_type": "code",
   "execution_count": 109,
   "metadata": {
    "ExecuteTime": {
     "end_time": "2018-03-25T22:55:37.838151",
     "start_time": "2018-03-25T22:55:37.618407Z"
    },
    "collapsed": false
   },
   "outputs": [
    {
     "name": "stdout",
     "output_type": "stream",
     "text": [
      "[             nan              nan              nan              nan\n",
      "              nan              nan              nan              nan\n",
      "   4.40085017e-09   4.30432378e-09   6.67903319e-09   4.23810246e-09\n",
      "   5.45385056e-09   5.65324193e-09   6.11098080e-09   5.40142468e-09\n",
      "   5.55360243e-09   7.98706975e-09   7.35607907e-09   5.68225503e-09\n",
      "   4.38166296e-09   8.79986595e-09   7.35263470e-09   1.19540511e-08\n",
      "   1.53917784e-08   5.33108801e-09   6.21365192e-09   3.36511488e-09\n",
      "   2.97757969e-09   1.54215942e-09   4.70440605e-09   6.40042754e-10\n",
      "   7.79014772e-10   1.40155126e-09   1.60347196e-08              nan\n",
      "              nan              nan              nan              nan\n",
      "              nan]\n",
      "[             nan              nan              nan              nan\n",
      "              nan              nan              nan              nan\n",
      "   2.77310393e-05   4.19799560e-05   8.02111477e-05   1.02658342e-04\n",
      "   1.37537328e-04   1.57985132e-04   1.79600487e-04   2.20754017e-04\n",
      "   2.50208879e-04   2.93278194e-04   2.98106545e-04   3.42690234e-04\n",
      "   3.71602021e-04   3.92798940e-04   4.21382371e-04   5.10982913e-04\n",
      "   5.09852579e-04   6.31485910e-04   6.53543638e-04   5.79747542e-04\n",
      "   5.80670109e-04   6.55602644e-04   6.88493844e-04   6.70343403e-04\n",
      "   6.85731833e-04   7.79666464e-04   6.57299353e-04   6.19265734e-04\n",
      "              nan   7.97304199e-04              nan   7.97142692e-04\n",
      "              nan]\n"
     ]
    }
   ],
   "source": [
    "print(var_pr_scOGS09_prQ)\n",
    "print(pr_scOGS09_prQ)"
   ]
  },
  {
   "cell_type": "code",
   "execution_count": 119,
   "metadata": {
    "ExecuteTime": {
     "end_time": "2018-03-25T23:18:11.009299",
     "start_time": "2018-03-25T23:18:10.912081Z"
    },
    "collapsed": false
   },
   "outputs": [
    {
     "name": "stdout",
     "output_type": "stream",
     "text": [
      "[             nan              nan              nan              nan\n",
      "              nan              nan              nan              nan\n",
      "   8.42093487e-02   6.15492128e-02   4.89268848e-02   3.06238329e-02\n",
      "   2.32535426e-02   1.60290798e-02   1.42856864e-02   1.13564089e-02\n",
      "   4.56128649e-03   7.10597798e-03   3.80275114e-03   4.34251090e-03\n",
      "   2.94538506e-03   1.59854303e-03   8.75282877e-04   5.26548048e-04\n",
      "   2.99081823e-04   1.65721239e-04   5.11556638e-04   4.85724289e-04\n",
      "   1.40324088e-04   1.23605534e-04   1.73264874e-04   4.44841457e-04\n",
      "   1.40091664e-04   8.65747794e-05   1.85153765e-05              nan\n",
      "              nan              nan              nan              nan\n",
      "              nan]\n",
      "[        nan         nan         nan         nan         nan         nan\n",
      "         nan         nan  0.00313609  0.00591481  0.02030371  0.034129\n",
      "  0.06162277  0.08468511  0.11413096  0.16472073  0.23689439  0.30594353\n",
      "  0.36713141  0.48698582  0.59318389  0.68055573  0.68897878  1.12486526\n",
      "  1.03248614  1.67012691  1.78214284  1.67801363  1.49101902  1.90095212\n",
      "  2.03099078  2.19520326  1.98179748  2.61380872  2.11832878  2.16179495\n",
      "         nan  2.61135739         nan  2.64433291         nan]\n",
      "[             nan              nan              nan              nan\n",
      "              nan              nan              nan              nan\n",
      "   6.52501660e-08   1.53244128e-07   5.89294865e-07   1.01535534e-06\n",
      "   1.82229007e-06   2.38503063e-06   3.07815445e-06   4.72509100e-06\n",
      "   6.06559082e-06   8.25821288e-06   8.69227385e-06   1.16701532e-05\n",
      "   1.34832681e-05   1.49294656e-05   1.72051003e-05   2.47554199e-05\n",
      "   2.53091807e-05   3.79738049e-05   4.06075118e-05   3.19241640e-05\n",
      "   3.21044692e-05   4.10118528e-05   4.40323418e-05   4.18394116e-05\n",
      "   4.43316744e-05   5.78924735e-05   4.06158615e-05   3.65194663e-05\n",
      "              nan   6.13124297e-05              nan   6.15547051e-05\n",
      "              nan]\n",
      "[             nan              nan              nan              nan\n",
      "              nan              nan              nan              nan\n",
      "   4.04731527e+03   2.37563167e+03   1.68573905e+03   1.02935471e+03\n",
      "   7.86344479e+02   5.69143388e+02   5.29680730e+02   3.95894171e+02\n",
      "   1.78143104e+02   2.63256475e+02   1.60614979e+02   1.81209382e+02\n",
      "   1.29579488e+02   7.28691598e+01   3.50507304e+01   2.39258962e+01\n",
      "   1.22010207e+01   7.28859014e+00   2.24506984e+01   2.55308794e+01\n",
      "   6.51703295e+00   5.72927547e+00   7.99183840e+00   2.33396547e+01\n",
      "   6.26263978e+00   3.90879677e+00   9.65673347e-01              nan\n",
      "              nan              nan              nan              nan\n",
      "              nan]\n"
     ]
    }
   ],
   "source": [
    "print(var_Y_prQ)\n",
    "mean_X_2 = np.diag(mean_X_prQ @ mean_X_prQ.T)\n",
    "mean_Y_2 = np.diag(mean_Y_prQ @ mean_Y_prQ.T)\n",
    "print(mean_X_2)\n",
    "mean_X_dot_mean_Y = np.diag(mean_X_prQ @ mean_Y_prQ.T)\n",
    "print(mean_X_dot_mean_Y**2)\n",
    "print(var_Y_prQ*mean_X_2/mean_X_dot_mean_Y**2)"
   ]
  },
  {
   "cell_type": "code",
   "execution_count": 120,
   "metadata": {
    "ExecuteTime": {
     "end_time": "2018-03-25T23:19:13.229251",
     "start_time": "2018-03-25T23:19:13.196181Z"
    },
    "collapsed": false
   },
   "outputs": [
    {
     "name": "stdout",
     "output_type": "stream",
     "text": [
      "normalized contributions, expanded terms\n",
      "[             nan              nan              nan              nan\n",
      "              nan              nan              nan              nan\n",
      "   5.72274363e+00   2.44242352e+00   1.03811183e+00   4.02145262e-01\n",
      "   2.88311570e-01   2.26498398e-01   1.89450562e-01   1.10838616e-01\n",
      "   8.87093406e-02   9.28598399e-02   8.27757962e-02   4.83857265e-02\n",
      "   3.17309325e-02   5.70342114e-02   4.14085729e-02   4.57828001e-02\n",
      "   5.92106134e-02   1.33686799e-02   1.45478140e-02   1.00120282e-02\n",
      "   8.83088955e-03   3.58796236e-03   9.92440953e-03   1.42434208e-03\n",
      "   1.65667406e-03   2.30563883e-03   3.71137605e-02              nan\n",
      "              nan              nan              nan              nan\n",
      "              nan]\n",
      "[             nan              nan              nan              nan\n",
      "              nan              nan              nan              nan\n",
      "   6.37295870e+00   2.65591432e+00   1.08450713e+00   3.95779238e-01\n",
      "   2.83135636e-01   2.22578469e-01   1.88429019e-01   1.09718936e-01\n",
      "   8.89062467e-02   9.40509947e-02   8.14623821e-02   4.63112036e-02\n",
      "   3.16707398e-02   5.65314853e-02   4.15348199e-02   4.71758579e-02\n",
      "   5.83581106e-02   1.39787084e-02   1.42025320e-02   9.03001073e-03\n",
      "   8.78370631e-03   3.50930160e-03   9.69569858e-03   1.15538437e-03\n",
      "   1.36981504e-03   2.89437112e-03   3.93092465e-02              nan\n",
      "              nan              nan              nan              nan\n",
      "              nan]\n"
     ]
    }
   ],
   "source": [
    "print(\"normalized contributions, expanded terms\")\n",
    "\n",
    "contribQOmega_var_varS = var_X_dot_Y_prQ/np.diag(mean_X_prQ @ mean_Y_prQ.T)**2\n",
    "contribQOmega_var_trvarOmega = var_X_prQ*mean_Y_2/mean_X_dot_mean_Y**2\n",
    "contribQOmega_var_trvarQ = var_Y_prQ*mean_X_2/mean_X_dot_mean_Y**2\n",
    "contribQOmega_var_residual = norm_var_pr_scOGS09_prQ - contribQOmega_var_trvarOmega - contribQOmega_var_trvarQ\n",
    "\n",
    "print(norm_var_pr_scOGS09_prQ)\n",
    "print(contribQOmega_var_varS)\n",
    "\n",
    "# TRY AGAIN WITH TERM IN (E(X)^T SIGMA_Y E(X)) / E(X)^T E(Y) OR SOMETHING LIKE THAT"
   ]
  },
  {
   "cell_type": "code",
   "execution_count": 121,
   "metadata": {
    "ExecuteTime": {
     "end_time": "2018-03-25T23:19:15.508943",
     "start_time": "2018-03-25T23:19:14.676398Z"
    },
    "collapsed": false
   },
   "outputs": [
    {
     "name": "stdout",
     "output_type": "stream",
     "text": [
      "> plot variance and corresponding contributions\n"
     ]
    },
    {
     "data": {
      "image/png": "[encoded data removed]",
      "text/plain": [
       "<matplotlib.figure.Figure at 0x106951c88>"
      ]
     },
     "metadata": {},
     "output_type": "display_data"
    },
    {
     "name": "stdout",
     "output_type": "stream",
     "text": [
      "CPU times: user 629 ms, sys: 96.7 ms, total: 726 ms\n",
      "Wall time: 762 ms\n"
     ]
    }
   ],
   "source": [
    "%%time\n",
    "print(\"> plot variance and corresponding contributions\")\n",
    "\n",
    "fig, ax = plt.subplots(ncols=1,nrows=1,figsize=(5,4.5))\n",
    "ax.set_ylim((-.3,.6))\n",
    "\n",
    "# Grey shading \n",
    "i_Q_lims = (iQ_slice.start, iQ_slice.stop-1)\n",
    "subplotXShadingRanksILog(ax,ranks_ref,i_Q_lims,alpha=0.15,transformX=False)\n",
    "\n",
    "# zero line\n",
    "addZeroLine(ax,ranks_ref)\n",
    "\n",
    "subplotRanksILog(ax,ranks_ref,\n",
    "                 norm_var_pr_scOGS09_prQ,\n",
    "                 col='k',ltype='-',transformX=False)\n",
    "\n",
    "subplotRanksILog(ax,ranks_ref,\n",
    "                 [contribQOmega_var_trvarOmega,contribQOmega_var_trvarQ,contribQOmega_var_residual],\n",
    "                 col=['r','b','g','brown','y','purple','k'],ltype=['-','-','-','-','-','-',':'],transformX=False)\n",
    "\n",
    "addXHatchRanksILog(ax,ranks_ref,(0,iQ_min),transformX=True)\n",
    "\n",
    "# leg = ax.legend([r'$Var(\\alpha q_v^\\star \\omega)$',\n",
    "#                  r'$\\propto Cov(q_v^{\\star,2},\\omega^2)$',\n",
    "#                  r'$\\propto Var(q_v^\\star)$',\n",
    "#                  r'$\\propto Var(\\omega)$',\n",
    "#                  r'$\\propto Var(q_v^\\star)Var(\\omega)$',\n",
    "#                  r'$\\propto -Cov(q_v^\\star,\\omega)^2$',\n",
    "#                  r'$\\propto -Cov(q_v^\\star,\\omega)$',\n",
    "#                  r'sum of all'],\n",
    "#                  loc='upper left',\n",
    "#                  framealpha=0.8,\n",
    "#                  ncol=2)\n",
    "\n",
    "ax.set_xlabel('Percentile rank (%)')\n",
    "ax.set_ylabel(r'Contribtions to normalized variance $\\frac{\\sigma^2}{\\mu^2}$')\n",
    "\n",
    "# plt.savefig(os.path.join(figdir,'var_and_contributions_omega_q_%s.pdf'%output_suffix),\n",
    "#             bbox_inches='tight')\n",
    "\n",
    "plt.show()"
   ]
  },
  {
   "cell_type": "code",
   "execution_count": null,
   "metadata": {
    "collapsed": true
   },
   "outputs": [],
   "source": []
  }
 ],
 "metadata": {
  "hide_input": false,
  "kernelspec": {
   "display_name": "Python 3",
   "language": "python",
   "name": "python3"
  },
  "language_info": {
   "codemirror_mode": {
    "name": "ipython",
    "version": 3
   },
   "file_extension": ".py",
   "mimetype": "text/x-python",
   "name": "python",
   "nbconvert_exporter": "python",
   "pygments_lexer": "ipython3",
   "version": "3.6.1"
  },
  "latex_envs": {
   "bibliofile": "biblio.bib",
   "cite_by": "apalike",
   "current_citInitial": 1,
   "eqLabelWithNumbers": true,
   "eqNumInitial": 0
  },
  "toc": {
   "toc_cell": true,
   "toc_number_sections": true,
   "toc_threshold": 6,
   "toc_window_display": false
  }
 },
 "nbformat": 4,
 "nbformat_minor": 0
}
