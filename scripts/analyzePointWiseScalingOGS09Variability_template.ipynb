{
 "cells": [
  {
   "cell_type": "markdown",
   "metadata": {
    "toc": "true"
   },
   "source": [
    "# Table of Contents\n",
    " <p><div class=\"lev1\"><a href=\"#Derive-scaling\"><span class=\"toc-item-num\">1&nbsp;&nbsp;</span>Derive scaling</a></div><div class=\"lev2\"><a href=\"#Compute-statistics\"><span class=\"toc-item-num\">1.1&nbsp;&nbsp;</span>Compute statistics</a></div><div class=\"lev3\"><a href=\"#1D-PDFs\"><span class=\"toc-item-num\">1.1.1&nbsp;&nbsp;</span>1D PDFs</a></div><div class=\"lev3\"><a href=\"#Decompose-variance-into-its-contributions-from-qvstar-and-omega\"><span class=\"toc-item-num\">1.1.2&nbsp;&nbsp;</span>Decompose variance into its contributions from qvstar and omega</a></div><div class=\"lev3\"><a href=\"#Simpler-decomposition-for-OGS09-scaling\"><span class=\"toc-item-num\">1.1.3&nbsp;&nbsp;</span>Simpler decomposition for OGS09 scaling</a></div><div class=\"lev3\"><a href=\"#Redo-simpler-decomposition-for-single-level-scaling\"><span class=\"toc-item-num\">1.1.4&nbsp;&nbsp;</span>Redo simpler decomposition for single-level scaling</a></div><div class=\"lev1\"><a href=\"#Save-variables\"><span class=\"toc-item-num\">2&nbsp;&nbsp;</span>Save variables</a></div>"
   ]
  },
  {
   "cell_type": "code",
   "execution_count": 1,
   "metadata": {
    "ExecuteTime": {
     "end_time": "2018-03-27T18:42:19.534607",
     "start_time": "2018-03-27T18:42:17.717788Z"
    },
    "run_control": {
     "frozen": false,
     "read_only": false
    }
   },
   "outputs": [],
   "source": [
    "%load_ext autoreload\n",
    "%matplotlib inline"
   ]
  },
  {
   "cell_type": "code",
   "execution_count": 2,
   "metadata": {
    "ExecuteTime": {
     "end_time": "2018-03-27T23:09:45.385225",
     "start_time": "2018-03-27T23:09:45.328775Z"
    },
    "run_control": {
     "frozen": false,
     "read_only": false
    }
   },
   "outputs": [
    {
     "name": "stdout",
     "output_type": "stream",
     "text": [
      "-- loading modules\n",
      "\n",
      "Own modules available: ['plot1DInvLog', 'thermoFunctions', 'statisticalDistributions', 'slicingAndSubsetting', 'plot2D', 'outputResults', 'thermoConstants', 'plotMaps', 'daskOptions', 'scalingApproximations', 'CAMsettings', 'environmentAndDirectories', 'importingData', 'physicalConstants']\n"
     ]
    }
   ],
   "source": [
    "%autoreload 2\n",
    "\n",
    "print(\"-- loading modules\")\n",
    "print()\n",
    "\n",
    "import numpy as np\n",
    "import numpy.ma as ma\n",
    "import dask.array as da\n",
    "import matplotlib\n",
    "# matplotlib.use(\"PDF\")\n",
    "import matplotlib.pyplot as plt\n",
    "import datetime as dt\n",
    "import time\n",
    "import sys,os,glob\n",
    "from mpl_toolkits.basemap import Basemap\n",
    "from matplotlib.colors import LogNorm\n",
    "import pickle\n",
    "\n",
    "## Add own library to path\n",
    "workdir = os.getcwd()\n",
    "thismodule = sys.modules[__name__]\n",
    "moduledir = os.path.join(os.path.dirname(workdir),'functions')\n",
    "sys.path.insert(0,moduledir)\n",
    "print(\"Own modules available:\", [os.path.splitext(os.path.basename(x))[0]\n",
    "                                 for x in glob.glob(os.path.join(moduledir,'*.py'))])\n",
    "\n",
    "## Load own libraries\n",
    "from environmentAndDirectories import *\n",
    "from importingData import *\n",
    "from scalingApproximations import *\n",
    "from slicingAndSubsetting import *\n",
    "from thermoConstants import L_v,R_v\n",
    "from plotMaps import *\n",
    "from plot1DInvLog import *\n",
    "from plot2D import *\n",
    "from statisticalDistributions import *\n",
    "from outputResults import *\n",
    "\n",
    "## Graphical parameters\n",
    "plt.style.use(os.path.join(matplotlib.get_configdir(),'stylelib/presentation.mplstyle'))"
   ]
  },
  {
   "cell_type": "code",
   "execution_count": 3,
   "metadata": {
    "ExecuteTime": {
     "end_time": "2018-03-27T18:42:22.882791",
     "start_time": "2018-03-27T18:42:22.828393Z"
    },
    "run_control": {
     "frozen": false,
     "read_only": false
    }
   },
   "outputs": [
    {
     "name": "stdout",
     "output_type": "stream",
     "text": [
      "-- load environment and variables\n",
      "\n",
      "- load data for the following options:\n",
      "CPU times: user 497 µs, sys: 162 µs, total: 659 µs\n",
      "Wall time: 407 µs\n"
     ]
    }
   ],
   "source": [
    "%%time\n",
    "print(\"-- load environment and variables\")\n",
    "print()\n",
    "\n",
    "omega_id = 'OMEGA'\n",
    "pr_id = 'PRECT'\n",
    "ts_id = 'TS'\n",
    "ta_id = 'T'\n",
    "relhum_id = 'RELHUM'\n",
    "ps_id = 'PS'\n",
    "\n",
    "all_varnames = 'omega','pr','ts','ta','relhum','ps','pres'\n",
    "\n",
    "ref_time_stride = '1h'\n",
    "ref_resolution = '1dx'\n",
    "\n",
    "print(\"- load data for the following options:\")\n",
    "compset = 'FSPCAMm_AMIP'\n",
    "experiment = 'piControl'\n",
    "member = 'r1i1p1'\n",
    "subset = 'tropics'\n",
    "daskarray = False\n",
    "tracktime = True\n",
    "# dates = ('185005010100','185005020000')\n",
    "dates = ('185005010100','185105010000')\n",
    "handle = 'h0'\n",
    "plotAll2dPDFs = True\n",
    "bootstrap = True"
   ]
  },
  {
   "cell_type": "code",
   "execution_count": 4,
   "metadata": {
    "ExecuteTime": {
     "end_time": "2018-03-27T18:42:24.376717",
     "start_time": "2018-03-27T18:42:24.344830Z"
    },
    "run_control": {
     "frozen": false,
     "read_only": false
    }
   },
   "outputs": [],
   "source": [
    "if tracktime:\n",
    "    t0 = time.time()\n",
    "    t_loops = []"
   ]
  },
  {
   "cell_type": "code",
   "execution_count": 5,
   "metadata": {
    "ExecuteTime": {
     "end_time": "2018-03-27T18:42:26.789827",
     "start_time": "2018-03-27T18:42:25.169118Z"
    },
    "hide_input": true,
    "run_control": {
     "frozen": false,
     "read_only": false
    },
    "scrolled": true
   },
   "outputs": [
    {
     "name": "stdout",
     "output_type": "stream",
     "text": [
      "compset: FSPCAMm_AMIP\n",
      "experiment: piControl\n",
      "member: r1i1p1\n",
      "subset: tropics\n",
      "ref_time_stride: 1d\n",
      "ref_resolution: 1dx\n",
      "daskarray: False\n",
      "dates: ('185005010100', '185105010000')\n",
      "\n",
      "Importing OMEGA, PRECT, TS, T, RELHUM, PS from 1577 history files between 1850-05-01-03600 and 1850-07-05-61200\n",
      "\n",
      "get inputpaths\n",
      "compute pressure levels\n"
     ]
    }
   ],
   "source": [
    "for v in ['compset','experiment','member','subset','ref_time_stride','ref_resolution',\\\n",
    "          'daskarray','dates']:\n",
    "    print(\"%s:\"%v,getattr(thismodule,v))\n",
    "\n",
    "print()\n",
    "omega_init,pr_init,ts_init,ta_init,relhum_init,ps_init = \\\n",
    "    getValues([omega_id,pr_id,ts_id,ta_id,relhum_id,ps_id],\n",
    "              compset,subset,experiment,ref_time_stride,ref_resolution,\n",
    "              daskarray=daskarray,dates=dates,handle=handle)\n",
    "pr_init *= rho_l    # convert from m/s to kg/m2/s\n",
    "\n",
    "print()\n",
    "print(\"get inputpaths\")\n",
    "\n",
    "historyFilesSettings = getCAMHistoryFilesSettings()\n",
    "inputdir, inputdir_processed_day, inputdir_processed_1hr, inputdir_results, inputdir_fx = \\\n",
    "    getInputDirectories(compset,experiment)\n",
    "\n",
    "print(\"compute pressure levels\")\n",
    "    \n",
    "input_lev_file = os.path.join(inputdir_fx,'lev_fx_CESM111-SPCAM20_allExperiments_r0i0p0.nc')\n",
    "computeP = getPressureCoordinateFunction(input_lev_file)\n",
    "pres_init = computeP(ps_init)\n",
    "\n",
    "cn = getArrayType(pres_init)"
   ]
  },
  {
   "cell_type": "code",
   "execution_count": 6,
   "metadata": {
    "ExecuteTime": {
     "end_time": "2018-03-27T18:42:26.828263",
     "start_time": "2018-03-27T18:42:26.792095Z"
    },
    "hide_input": true,
    "run_control": {
     "frozen": false,
     "read_only": false
    }
   },
   "outputs": [
    {
     "name": "stdout",
     "output_type": "stream",
     "text": [
      "\n",
      "! time spent to load the data: 00:04:55\n"
     ]
    }
   ],
   "source": [
    "if tracktime:\n",
    "    t1 = time.time()\n",
    "    t_loops.append(t1)\n",
    "    print()\n",
    "    print(\"! time spent to load the data:\",time2str(t1-t0))\n"
   ]
  },
  {
   "cell_type": "code",
   "execution_count": 7,
   "metadata": {
    "ExecuteTime": {
     "end_time": "2018-03-27T18:42:26.872411",
     "start_time": "2018-03-27T18:42:26.830696Z"
    },
    "hide_input": true,
    "run_control": {
     "frozen": false,
     "read_only": false
    }
   },
   "outputs": [
    {
     "name": "stdout",
     "output_type": "stream",
     "text": [
      "\n",
      "-----------------------------------------------------------------\n",
      "!          Start analysis for time_stride 1d                    !\n",
      "!                          and resolution 1dx                   !\n",
      "-----------------------------------------------------------------\n",
      "\n"
     ]
    }
   ],
   "source": [
    "#---- single scale ----#\n",
    "# start comment\n",
    "time_stride = '1d'\n",
    "resolution = '1dx'\n",
    "# stop comment\n",
    "\n",
    "#---- multiple scales ----#\n",
    "# # start uncomment\n",
    "# time_strides = '1h','3h','6h','12h','1d','2d','4d','8d'\n",
    "# resolutions = '1dx','2dx','3dx','4dx','5dx','6dx','7dx','8dx','9dx'\n",
    "# for time_stride in time_strides:\n",
    "#     for resolution in resolutions:\n",
    "# # stop uncomment\n",
    "\n",
    "#++# start indentation for multiple scales\n",
    "\n",
    "print()\n",
    "print(\"-----------------------------------------------------------------\")\n",
    "print(\"!          Start analysis for time_stride {:4}                  !\".format(time_stride))\n",
    "print(\"!                          and resolution {:4}                  !\".format(resolution))\n",
    "print(\"-----------------------------------------------------------------\")\n",
    "print()"
   ]
  },
  {
   "cell_type": "code",
   "execution_count": 8,
   "metadata": {
    "ExecuteTime": {
     "end_time": "2018-03-27T18:42:28.197062",
     "start_time": "2018-03-27T18:42:28.033148Z"
    },
    "hide_input": true,
    "run_control": {
     "frozen": false,
     "read_only": false
    }
   },
   "outputs": [
    {
     "name": "stdout",
     "output_type": "stream",
     "text": [
      "convert data to target resolutions\n",
      "- omega: 0.05018210411071777 s\n",
      "- pr: 0.0013992786407470703 s\n",
      "- ts: 0.0010139942169189453 s\n",
      "- ta: 0.043198585510253906 s\n",
      "- relhum: 0.043673038482666016 s\n",
      "- ps: 0.001132965087890625 s\n",
      "- pres: 0.11805200576782227 s\n",
      "- all variables: 0.26210880279541016 s\n"
     ]
    }
   ],
   "source": [
    "print(\"convert data to target resolutions\")\n",
    "\n",
    "tc0 = time.time()\n",
    "\n",
    "for varname in all_varnames:\n",
    "    \n",
    "    tc1 = time.time()\n",
    "    setattr(thismodule,varname,\n",
    "            coarsenTimeStride(coarsenResolution(getattr(thismodule,\"%s_init\"%varname),\n",
    "                                                resolution),\n",
    "                              time_stride,time_stride_ref=ref_time_stride))\n",
    "    print(\"- %s:\"%varname,time.time()-tc1,'s')\n",
    "print(\"- all variables:\",time.time()-tc0,'s')\n",
    "\n",
    "qvstar = saturationSpecificHumidity(pres=pres,temp=ta)"
   ]
  },
  {
   "cell_type": "code",
   "execution_count": 9,
   "metadata": {
    "ExecuteTime": {
     "end_time": "2018-03-27T18:42:28.548932",
     "start_time": "2018-03-27T18:42:28.507970Z"
    },
    "hide_input": true,
    "run_control": {
     "frozen": false,
     "read_only": false
    },
    "scrolled": true
   },
   "outputs": [
    {
     "name": "stdout",
     "output_type": "stream",
     "text": [
      "\n",
      "-- define output paths\n",
      "\n",
      "\n"
     ]
    }
   ],
   "source": [
    "print()\n",
    "print(\"-- define output paths\")\n",
    "print()\n",
    "\n",
    "# Figure output directory\n",
    "figdir = os.path.join(os.path.dirname(workdir),'figures','omega500tsps',compset,experiment,member,subset,\\\n",
    "                      time_stride,resolution)\n",
    "os.makedirs(figdir,exist_ok=True)\n",
    "\n",
    "# Results output directory\n",
    "resultdir = os.path.join(os.path.dirname(workdir),'results','omega500tsps',compset,experiment,member,subset,\\\n",
    "                      time_stride,resolution)\n",
    "os.makedirs(resultdir,exist_ok=True)\n",
    "\n",
    "print()"
   ]
  },
  {
   "cell_type": "markdown",
   "metadata": {},
   "source": [
    "# Derive scaling"
   ]
  },
  {
   "cell_type": "code",
   "execution_count": 10,
   "metadata": {
    "ExecuteTime": {
     "end_time": "2018-03-27T18:42:30.166164",
     "start_time": "2018-03-27T18:42:30.125402Z"
    },
    "run_control": {
     "frozen": false,
     "read_only": false
    }
   },
   "outputs": [
    {
     "name": "stdout",
     "output_type": "stream",
     "text": [
      "\n",
      "-- compute (percentile-wise and pointwise) scaling approximation\n",
      "\n"
     ]
    }
   ],
   "source": [
    "print()\n",
    "print(\"-- compute (percentile-wise and pointwise) scaling approximation\")\n",
    "print()"
   ]
  },
  {
   "cell_type": "code",
   "execution_count": 11,
   "metadata": {
    "ExecuteTime": {
     "end_time": "2018-03-27T22:12:50.720552",
     "start_time": "2018-03-27T22:12:50.321931Z"
    },
    "run_control": {
     "frozen": false,
     "marked": false,
     "read_only": false
    }
   },
   "outputs": [
    {
     "name": "stdout",
     "output_type": "stream",
     "text": [
      "compute 2D surfaces of predictor variables\n"
     ]
    }
   ],
   "source": [
    "# %%time\n",
    "print(\"compute 2D surfaces of predictor variables\")\n",
    "p_500 = 50000\n",
    "p_925 = 92500; levdim=1\n",
    "omega_500 = isobaricSurface(omega,pres,p_ref=p_500,levdim=levdim)\n",
    "use925 = True\n",
    "if use925:\n",
    "    ta_925 = isobaricSurface(ta,pres,p_ref=p_925,levdim=levdim) \n",
    "    qvstar_s = saturationSpecificHumidity(ta_925,p_925*np.ones(ps.shape))\n",
    "else:\n",
    "    qvstar_s = saturationSpecificHumidity(ts,ps)"
   ]
  },
  {
   "cell_type": "code",
   "execution_count": 12,
   "metadata": {
    "ExecuteTime": {
     "end_time": "2018-03-27T18:42:30.679467",
     "start_time": "2018-03-27T18:42:30.617202Z"
    },
    "run_control": {
     "frozen": false,
     "read_only": false
    },
    "scrolled": false
   },
   "outputs": [
    {
     "name": "stdout",
     "output_type": "stream",
     "text": [
      "Compute ranks and ranks locations\n",
      "0.0000 20.5672 36.9043 49.8813 60.1893 68.3772 74.8811 80.0474 84.1511 87.4107 90.0000 92.0567 93.6904 94.9881 96.0189 96.8377 97.4881 98.0047 98.4151 98.7411 99.0000 99.2057 99.3690 99.4988 99.6019 99.6838 99.7488 99.8005 99.8415 99.8741 99.9000 99.9206 99.9369 99.9499 99.9602 99.9684 99.9749 99.9800 99.9842 99.9874 99.9900 \n",
      "CPU times: user 26.9 ms, sys: 6.24 ms, total: 33.1 ms\n",
      "Wall time: 30.1 ms\n"
     ]
    }
   ],
   "source": [
    "%%time\n",
    "print(\"Compute ranks and ranks locations\")\n",
    "\n",
    "n_pts = pr.size\n",
    "Q_IL = getInvLogRanks(n_pts,n_pts_per_bin=1,fill_last_decade=True)\n",
    "i_Q = indexOfRank(99.9,Q_IL)\n",
    "iQ_slice = slice(i_Q-5,i_Q+5)\n",
    "ranks, centers, bins = computePercentilesAndBinsFromRanks(pr.flatten(),Q_IL)\n",
    "iQ_min = 8\n",
    "iQ_max = min(len(Q_IL),41)\n",
    "# iQ_max = min(len(Q_IL),iQ_slice.stop)\n",
    "\n",
    "# Define reference percentiles and compute percentiles\n",
    "targetranks = Q_IL[iQ_min:iQ_max]\n",
    "ranks_ref = Q_IL[:iQ_max]\n",
    "percentiles = adjustRanks(centers,ranks,ranks_ref)\n",
    "\n",
    "# Suffix to save figures and results\n",
    "output_suffix = 'Q%d-Q%d_%s'%(iQ_min,iQ_max,'-'.join(dates))\n",
    "\n",
    "rank_locations= {}\n",
    "for rank in ranks_ref:\n",
    "    rank_id  = \"%2.4f\"%rank\n",
    "    print(rank_id,end=' ')\n",
    "    rank_locations[rank_id] = getRankLocations(rank,pr,ranks,bins,rank_locations)\n",
    "print()"
   ]
  },
  {
   "cell_type": "code",
   "execution_count": 13,
   "metadata": {
    "ExecuteTime": {
     "end_time": "2018-03-27T18:42:31.981207",
     "start_time": "2018-03-27T18:42:31.943000Z"
    },
    "run_control": {
     "frozen": false,
     "read_only": false
    },
    "scrolled": true
   },
   "outputs": [
    {
     "name": "stdout",
     "output_type": "stream",
     "text": [
      "compute sample size in each bin\n",
      "66269.0 299520\n"
     ]
    }
   ],
   "source": [
    "print(\"compute sample size in each bin\")\n",
    "N_prQ = sampleSizeAtAllRanks(targetranks,pr,ranks_ref,rank_locations=rank_locations)\n",
    "print(np.nansum(N_prQ),pr.size)"
   ]
  },
  {
   "cell_type": "code",
   "execution_count": 14,
   "metadata": {
    "ExecuteTime": {
     "end_time": "2018-03-27T22:12:53.984117",
     "start_time": "2018-03-27T22:12:53.940610Z"
    },
    "run_control": {
     "frozen": false,
     "read_only": false
    },
    "scrolled": false
   },
   "outputs": [
    {
     "name": "stdout",
     "output_type": "stream",
     "text": [
      "compute pointwise scaling\n",
      "eps = 0.819981052179\n",
      "CPU times: user 59.3 ms, sys: 2.35 ms, total: 61.7 ms\n",
      "Wall time: 61 ms\n"
     ]
    }
   ],
   "source": [
    "%%time\n",
    "print(\"compute pointwise scaling\")\n",
    "eps, pr_sc_vQ = computeScalingOmegaQAtAllRanks(targetranks,omega_500,qvstar_s,pr,ranks_ref=ranks_ref[iQ_slice],\n",
    "                                               percentiles_ref=percentiles[iQ_slice],\n",
    "                                               bins=bins,rank_locations=rank_locations)\n",
    "pr_sc_vQ = adjustRanks(pr_sc_vQ,targetranks,ranks_ref)\n",
    "pr_sc = singleLevelScalingFromOmegaQ(omega_500,qvstar_s,efficiency=eps)\n",
    "print(\"eps =\",eps)"
   ]
  },
  {
   "cell_type": "code",
   "execution_count": 15,
   "metadata": {
    "ExecuteTime": {
     "end_time": "2018-03-27T18:42:33.158700",
     "start_time": "2018-03-27T18:42:32.352856Z"
    },
    "run_control": {
     "frozen": false,
     "read_only": false
    },
    "scrolled": false
   },
   "outputs": [
    {
     "name": "stdout",
     "output_type": "stream",
     "text": [
      "compute O'Gorman&Schneider scaling with environmental temperature profile\n",
      "eps_OGS09 = 1.00158272811\n",
      "CPU times: user 16.5 s, sys: 5.92 s, total: 22.4 s\n",
      "Wall time: 22.4 s\n"
     ]
    }
   ],
   "source": [
    "%%time\n",
    "print(\"compute O'Gorman&Schneider scaling with environmental temperature profile\")\n",
    "eps_OGS09, pr_scOGS09_vQ = computeScalingOGS09AtAllRanks(targetranks,omega,ta,pres,pr,\n",
    "    ranks_ref=ranks_ref[iQ_slice],percentiles_ref=percentiles[iQ_slice],bins=bins,\n",
    "                                                         rank_locations=rank_locations)\n",
    "pr_scOGS09_vQ = adjustRanks(pr_scOGS09_vQ,targetranks,ranks_ref)\n",
    "pr_scOGS09 = scalingOGS09(omega,ta,pres,efficiency=eps_OGS09,levdim=1)\n",
    "print(\"eps_OGS09 =\",eps_OGS09)"
   ]
  },
  {
   "cell_type": "code",
   "execution_count": 16,
   "metadata": {
    "ExecuteTime": {
     "end_time": "2018-03-27T18:42:34.177768",
     "start_time": "2018-03-27T18:42:33.160764Z"
    },
    "run_control": {
     "frozen": false,
     "read_only": false
    },
    "scrolled": false
   },
   "outputs": [
    {
     "name": "stdout",
     "output_type": "stream",
     "text": [
      "compute O'Gorman&Schneider scaling with moist adiabat\n",
      "eps_OGS09ad = 1.02001742662\n",
      "CPU times: user 19.3 s, sys: 6.41 s, total: 25.7 s\n",
      "Wall time: 25.7 s\n"
     ]
    }
   ],
   "source": [
    "%%time\n",
    "print(\"compute O'Gorman&Schneider scaling with moist adiabat\")\n",
    "# Get temperature values at lowest level\n",
    "levdim = 1\n",
    "nlev = pres.shape[levdim]\n",
    "i_bottom = bottomIndex(np.moveaxis(pres,levdim,-1).ravel()[-nlev:])\n",
    "ta_bottom = np.take(ta,axis=levdim,indices=i_bottom)\n",
    "# Compute scaling\n",
    "eps_OGS09ad, pr_scOGS09ad_vQ = computeScalingOGS09AtAllRanks(targetranks,omega,ta_bottom,pres,pr,\n",
    "    temp_type='adiabat',relhum=relhum,ranks_ref=ranks_ref[iQ_slice],percentiles_ref=percentiles[iQ_slice],bins=bins,\n",
    "                                                         rank_locations=rank_locations)\n",
    "pr_scOGS09ad_vQ = adjustRanks(pr_scOGS09ad_vQ,targetranks,ranks_ref)\n",
    "pr_scOGS09ad = scalingOGS09(omega,ta_bottom,pres,temp_type='adiabat',relhum=relhum,efficiency=eps_OGS09ad,levdim=1)\n",
    "print(\"eps_OGS09ad =\",eps_OGS09ad)"
   ]
  },
  {
   "cell_type": "markdown",
   "metadata": {},
   "source": [
    "## Compute statistics"
   ]
  },
  {
   "cell_type": "markdown",
   "metadata": {},
   "source": [
    "### 1D PDFs"
   ]
  },
  {
   "cell_type": "code",
   "execution_count": 17,
   "metadata": {
    "ExecuteTime": {
     "end_time": "2018-03-27T18:42:35.463521",
     "start_time": "2018-03-27T18:42:35.425934Z"
    },
    "run_control": {
     "frozen": false,
     "read_only": false
    },
    "scrolled": false
   },
   "outputs": [
    {
     "name": "stdout",
     "output_type": "stream",
     "text": [
      "\n",
      "-- compute statistics\n",
      "\n"
     ]
    }
   ],
   "source": [
    "print()\n",
    "print(\"-- compute statistics\")\n",
    "print()"
   ]
  },
  {
   "cell_type": "code",
   "execution_count": 18,
   "metadata": {
    "ExecuteTime": {
     "end_time": "2018-03-27T22:12:58.932968",
     "start_time": "2018-03-27T22:12:58.887497Z"
    },
    "run_control": {
     "frozen": false,
     "read_only": false
    },
    "scrolled": false
   },
   "outputs": [
    {
     "name": "stdout",
     "output_type": "stream",
     "text": [
      "mean of scalings in pr bins\n"
     ]
    }
   ],
   "source": [
    "# %%time\n",
    "print(\"mean of scalings in pr bins\")\n",
    "pr_sc_prQ = meanXAtAllYRanks(targetranks,pr_sc,pr,ranks_ref,rank_locations=rank_locations)\n",
    "pr_scOGS09_prQ = meanXAtAllYRanks(targetranks,pr_scOGS09,pr,ranks_ref,rank_locations=rank_locations)\n",
    "pr_scOGS09ad_prQ = meanXAtAllYRanks(targetranks,pr_scOGS09ad,pr,ranks_ref,rank_locations=rank_locations)"
   ]
  },
  {
   "cell_type": "code",
   "execution_count": 19,
   "metadata": {
    "ExecuteTime": {
     "end_time": "2018-03-27T22:12:59.475712",
     "start_time": "2018-03-27T22:12:59.373110Z"
    },
    "code_folding": [],
    "hide_input": false,
    "run_control": {
     "frozen": false,
     "read_only": false
    }
   },
   "outputs": [
    {
     "name": "stdout",
     "output_type": "stream",
     "text": [
      "interquartile and 90% ranges\n",
      "CPU times: user 69.5 ms, sys: 812 µs, total: 70.3 ms\n",
      "Wall time: 69.1 ms\n"
     ]
    }
   ],
   "source": [
    "%%time\n",
    "print(\"interquartile and 90% ranges\")\n",
    "ranks_I90 = (5,95)\n",
    "ranks_IQR = (25,75)\n",
    "\n",
    "pr_sc_I90 = XPercentilesAtAllYRanks(targetranks,pr_sc,ranks_I90,pr,ranks_ref,rank_locations_X=rank_locations)\n",
    "pr_sc_IQR = XPercentilesAtAllYRanks(targetranks,pr_sc,ranks_IQR,pr,ranks_ref,rank_locations_X=rank_locations)\n",
    "\n",
    "pr_scOGS09_I90 = XPercentilesAtAllYRanks(targetranks,pr_scOGS09,ranks_I90,pr,ranks_ref,rank_locations_X=rank_locations)\n",
    "pr_scOGS09_IQR = XPercentilesAtAllYRanks(targetranks,pr_scOGS09,ranks_IQR,pr,ranks_ref,rank_locations_X=rank_locations)\n",
    "\n",
    "pr_scOGS09ad_I90 = XPercentilesAtAllYRanks(targetranks,pr_scOGS09ad,ranks_I90,pr,ranks_ref,rank_locations_X=rank_locations)\n",
    "pr_scOGS09ad_IQR = XPercentilesAtAllYRanks(targetranks,pr_scOGS09ad,ranks_IQR,pr,ranks_ref,rank_locations_X=rank_locations)\n"
   ]
  },
  {
   "cell_type": "markdown",
   "metadata": {},
   "source": [
    "### Decompose variance into its contributions from qvstar and omega"
   ]
  },
  {
   "cell_type": "code",
   "execution_count": 20,
   "metadata": {
    "ExecuteTime": {
     "end_time": "2018-03-27T18:42:38.548917",
     "start_time": "2018-03-27T18:42:38.519086Z"
    },
    "run_control": {
     "frozen": false,
     "read_only": false
    },
    "scrolled": true
   },
   "outputs": [
    {
     "name": "stdout",
     "output_type": "stream",
     "text": [
      "\n",
      "-- decompose variance into qvstar and omega contributions\n",
      "\n"
     ]
    }
   ],
   "source": [
    "print()\n",
    "print(\"-- decompose variance into qvstar and omega contributions\")\n",
    "print()"
   ]
  },
  {
   "cell_type": "code",
   "execution_count": 21,
   "metadata": {
    "ExecuteTime": {
     "end_time": "2018-03-27T22:13:10.928088",
     "start_time": "2018-03-27T22:13:08.761134Z"
    },
    "hide_input": false,
    "run_control": {
     "frozen": false,
     "read_only": false
    },
    "scrolled": true
   },
   "outputs": [
    {
     "name": "stdout",
     "output_type": "stream",
     "text": [
      "Compute the variance in pr\n",
      "CPU times: user 7.8 s, sys: 0 ns, total: 7.8 s\n",
      "Wall time: 7.8 s\n"
     ]
    }
   ],
   "source": [
    "%%time \n",
    "print(\"Compute the variance in pr\")\n",
    "scaling_names = 'sc','scOGS09','scOGS09ad'\n",
    "\n",
    "Ntimes = 100 if bootstrap else 1\n",
    "fsub = 0.5 if bootstrap else 1\n",
    "\n",
    "for sc_name in scaling_names:\n",
    "\n",
    "    # compute variance from full sample\n",
    "    pr_values = getattr(thismodule,'pr_%s'%sc_name)\n",
    "    var_pr = varXAtAllYRanks(targetranks,pr_values,\n",
    "                            pr,ranks_ref,rank_locations=rank_locations)\n",
    "    setattr(thismodule,'var_pr_%s_prQ'%sc_name,var_pr)\n",
    "    \n",
    "    # bootstrapping\n",
    "    all_var_pr = np.empty((Ntimes,var_pr.size))\n",
    "    for i in range(Ntimes):\n",
    "        all_var_pr[i,:] = varXAtAllYRanks(targetranks,pr_values,\n",
    "                            pr,ranks_ref,rank_locations=rank_locations,random_fraction=fsub)\n",
    "    if bootstrap:\n",
    "        setattr(thismodule,'var_pr_%s_I25_prQ'%sc_name,all_var_pr[0])\n",
    "        setattr(thismodule,'var_pr_%s_I75_prQ'%sc_name,all_var_pr[1])"
   ]
  },
  {
   "cell_type": "code",
   "execution_count": 22,
   "metadata": {
    "ExecuteTime": {
     "end_time": "2018-03-27T22:13:11.812773",
     "start_time": "2018-03-27T22:13:11.772132Z"
    },
    "hide_input": false,
    "run_control": {
     "frozen": false,
     "read_only": false
    },
    "scrolled": false
   },
   "outputs": [
    {
     "name": "stdout",
     "output_type": "stream",
     "text": [
      "normalized variability\n",
      "scaling sc : 0.01284\t (0.01221,0.01333)\n",
      "scaling scOGS09 : 0.00571\t (0.00527,0.00553)\n",
      "scaling scOGS09ad : 0.01081\t (0.01024,0.00993)\n"
     ]
    }
   ],
   "source": [
    "print(\"normalized variability\")\n",
    "for sc_name in scaling_names:\n",
    "    norm_var_pr = getattr(thismodule,'var_pr_%s_prQ'%sc_name)/getattr(thismodule,'pr_%s_prQ'%sc_name)**2\n",
    "    setattr(thismodule,'norm_var_pr_%s_prQ'%sc_name,norm_var_pr)\n",
    "    if bootstrap:\n",
    "        for int_bnd in 'I25','I75':\n",
    "            norm_var_pr_Ibnd = getattr(thismodule,'var_pr_%s_%s_prQ'%(sc_name,int_bnd))/\\\n",
    "                getattr(thismodule,'pr_%s_prQ'%sc_name)**2\n",
    "            setattr(thismodule,'norm_var_pr_%s_%s_prQ'%(sc_name,int_bnd),norm_var_pr_Ibnd)\n",
    "            # for printing only:\n",
    "            setattr(thismodule,'norm_var_pr_%s'%int_bnd,norm_var_pr_Ibnd)\n",
    "    \n",
    "    print(\"scaling %s : %1.5f\"%(sc_name,np.nanmean(norm_var_pr[iQ_slice])),end='')\n",
    "    if bootstrap:\n",
    "        print(\"\\t (%1.5f,%1.5f)\"%(np.nanmean(norm_var_pr_I25[iQ_slice]),\n",
    "                                  np.nanmean(norm_var_pr_I75[iQ_slice])))\n",
    "    else:\n",
    "        print()"
   ]
  },
  {
   "cell_type": "code",
   "execution_count": 1,
   "metadata": {
    "ExecuteTime": {
     "end_time": "2018-03-27T23:00:32.023067",
     "start_time": "2018-03-27T23:00:31.404151Z"
    },
    "run_control": {
     "frozen": false,
     "read_only": false
    },
    "scrolled": true
   },
   "outputs": [],
   "source": [
    "# print()\n",
    "# print(\"- Compute EOF decomposition and contribution terms -\")\n",
    "# print()\n",
    "\n",
    "# def contributionsVarianceProduct(X,Y):\n",
    "    \n",
    "#     \"\"\"X and Y are 1d arrays.\"\"\"\n",
    "#     var_x = np.nanvar(X)\n",
    "#     var_y = np.nanvar(Y)\n",
    "#     cov_term = np.nanmean((X**2-np.nanmean((X**2)))*(Y**2-np.nanmean(Y**2))) - \\\n",
    "#         2*np.nanmean(X)*np.nanmean(Y)*np.nanmean((X-np.nanmean(X))*(Y-np.nanmean(Y)))\n",
    "\n",
    "#     return var_x,var_y,cov_term\n",
    "\n",
    "# def getEOFmodes(A,n_max = None,threshold=0.95):\n",
    "    \n",
    "#     \"\"\"levdim is 0\"\"\"\n",
    "    \n",
    "#     U,S,Vh = np.linalg.svd(A.T)\n",
    "#     if n_max is None:\n",
    "#         n_max = np.argmax(np.cumsum((S**2)/(S**2).sum())>threshold)+1\n",
    "#     phi = np.nan*np.empty((n_max,Vh.shape[1]))\n",
    "#     lambdas = np.nan*np.empty((n_max,))\n",
    "#     coefs = np.nan*np.empty((n_max,U.shape[0]))\n",
    "#     for i in range(min(n_max,len(S))):\n",
    "#         phi[i] = Vh[i,:]\n",
    "#         lambdas[i] = S[i]\n",
    "#         coefs[i] = S[i]*U[:,i]\n",
    "#     lambda_2_sum = (S**2).sum()\n",
    "#     return np.array(coefs),np.array(lambdas),np.array(phi),lambda_2_sum\n",
    "\n",
    "def scOGS09(qvstar_profs,omega_profs,alpha=1,levdim=0):\n",
    "    \n",
    "    omega_mid = np.apply_along_axis(arr=omega_profs,axis=levdim,\n",
    "                                        func1d=(lambda x:np.convolve(x,(0.5,0.5),mode='valid')))\n",
    "    q_diff = np.diff(qvstar_profs,axis=levdim)\n",
    "    return alpha*np.sum(omega_mid*q_diff,axis=levdim)/gg\n",
    "\n",
    "# def computeGramMatrixOfModes(qvstar_modes,omega_modes,pres,levdim=0):\n",
    "    \n",
    "#     NX,NY = qvstar_modes.shape[0], omega_modes.shape[0]\n",
    "    \n",
    "#     gram = np.empty((NX,NY))\n",
    "#     for i in range(NX):\n",
    "#         for j in range(NY):\n",
    "            \n",
    "#             gram[i,j] = scOGS09(qvstar_modes[i],omega_modes[j],levdim=levdim)\n",
    "            \n",
    "#     return gram\n",
    "\n",
    "# n_max_qvstar = 2\n",
    "# n_max_omega = 3\n",
    "# n_modes = n_max_qvstar*n_max_omega\n",
    "# contribQOmega_varOGS09_varQ = np.nan*np.empty((n_modes,len(ranks_ref)))\n",
    "# contribQOmega_varOGS09_varOmega = np.nan*np.empty((n_modes,len(ranks_ref)))\n",
    "# contribQOmega_varOGS09_covQOmega = np.nan*np.empty((n_modes,len(ranks_ref)))\n",
    "\n",
    "# for rank in targetranks:\n",
    "    \n",
    "#     rankid = rankID(rank)\n",
    "#     print(rankid, end=', ')\n",
    "\n",
    "#     #- Get profiles and fluctuations at given percentile\n",
    "#     stencil_Q = rank_locations[rankid]\n",
    "#     if stencil_Q.sum() == 0:\n",
    "#         continue\n",
    "#     omega_prof_Q = sampleFlattened(omega,stencil_Q)\n",
    "#     qvstar_prof_Q = sampleFlattened(qvstar,stencil_Q)\n",
    "#     pres_Q = sampleFlattened(pres,stencil_Q)\n",
    "#     m_omega_prof_Q = np.mean(omega_prof_Q,axis=1)\n",
    "#     m_qvstar_prof_Q = np.mean(qvstar_prof_Q,axis=1)\n",
    "#     m_pres = np.mean(pres_Q,axis=1)\n",
    "#     prime_omega_prof_Q = np.apply_along_axis(lambda x: x-m_omega_prof_Q,axis=0,arr=omega_prof_Q)\n",
    "#     prime_qvstar_prof_Q = np.apply_along_axis(lambda x: x-m_qvstar_prof_Q,axis=0,arr=qvstar_prof_Q)\n",
    "\n",
    "#     #- EOF decomposition\n",
    "#     c_qvstar, lambda_qvstar, phi_qvstar,lambda_2_sum_qvstar = getEOFmodes(prime_qvstar_prof_Q,n_max=n_max_qvstar)\n",
    "#     c_omega, lambda_omega, phi_omega, lambda_2_sum_omega = getEOFmodes(prime_omega_prof_Q,n_max=n_max_omega)\n",
    "\n",
    "#     #- Gram matrix of modes (vertical scaling on each pair of modes)\n",
    "#     # first dimension are thermodynamic modes, second are dynamic\n",
    "#     beta_Q = computeGramMatrixOfModes(phi_qvstar,phi_omega,m_pres)\n",
    "#     omega_mid = np.apply_along_axis(arr=omega_prof_Q,axis=0,\n",
    "#                                 func1d=(lambda x:np.convolve(x,(0.5,0.5),mode='valid')))\n",
    "#     qvstar_diff = np.diff(qvstar_prof_Q,axis=0)\n",
    "#     beta_0 = np.sum(omega_mid*qvstar_diff)/gg\n",
    "\n",
    "#     #- Compute all contribution terms - store as a new dimension in an array of size dim(beta),#contribs\n",
    "#     contribs = np.empty(beta_Q.shape+(3,))\n",
    "#     for i,j in np.ndindex(*(beta_Q.shape)):\n",
    "#         contribs[i,j,:] = (beta_Q[i,j]/beta_0*lambda_qvstar[i]*lambda_omega[j])**2*\\\n",
    "#             np.array(contributionsVarianceProduct(c_qvstar[i,:],c_omega[j,:]))\n",
    "#     contribs_prQ = np.vstack(list(contribs))\n",
    "    \n",
    "#     #- Store results in array\n",
    "#     iQ = indexOfRank(rank,ranks_ref)\n",
    "#     contribQOmega_varOGS09_varQ[:,iQ] = contribs_prQ[:,0]\n",
    "#     contribQOmega_varOGS09_varOmega[:,iQ] = contribs_prQ[:,1]\n",
    "#     contribQOmega_varOGS09_covQOmega[:,iQ] = contribs_prQ[:,2]\n",
    "    \n",
    "# all_contribQOmega_varOGS09_EOFs = [contribQOmega_varOGS09_varQ,contribQOmega_varOGS09_varOmega,\n",
    "#                                   contribQOmega_varOGS09_covQOmega]\n",
    "# print()"
   ]
  },
  {
   "cell_type": "code",
   "execution_count": 30,
   "metadata": {
    "ExecuteTime": {
     "end_time": "2018-03-27T23:07:13.084927",
     "start_time": "2018-03-27T23:07:10.818056Z"
    },
    "run_control": {
     "frozen": false,
     "read_only": false
    },
    "scrolled": false
   },
   "outputs": [
    {
     "name": "stdout",
     "output_type": "stream",
     "text": [
      "> plot variance and corresponding contributions\n"
     ]
    },
    {
     "data": {
      "image/png": "[encoded data removed]",
      "text/plain": [
       "<matplotlib.figure.Figure at 0x2ad73bbd0ba8>"
      ]
     },
     "metadata": {},
     "output_type": "display_data"
    },
    {
     "name": "stdout",
     "output_type": "stream",
     "text": [
      "CPU times: user 1.78 s, sys: 68.2 ms, total: 1.85 s\n",
      "Wall time: 1.85 s\n"
     ]
    }
   ],
   "source": [
    "# %%time \n",
    "# print(\"> plot variance and corresponding contributions\")\n",
    "\n",
    "# fig, ax = plt.subplots(ncols=1,nrows=1,figsize=(5,4.5))\n",
    "\n",
    "# ax.set_ylim((1e-15,1e8))\n",
    "# ax.set_yscale('log')\n",
    "\n",
    "# # Grey shading \n",
    "# i_Q_lims = (iQ_slice.start, iQ_slice.stop-1)\n",
    "# subplotXShadingRanksILog(ax,ranks_ref,i_Q_lims,alpha=0.15,transformX=False)\n",
    "\n",
    "# # zero line\n",
    "# addZeroLine(ax,ranks_ref)\n",
    "\n",
    "# # subplotRanksILog(ax,ranks,np.zeros(ranks.shape),ltype=':',col='k')\n",
    "# subplotRanksILog(ax,ranks_ref,\n",
    "#                  norm_var_pr_scOGS09_prQ,\n",
    "#                  col='k',ltype='-',transformX=False)\n",
    "# # Sum of contributions\n",
    "# subplotRanksILog(ax,ranks_ref,\n",
    "#                  np.sum(np.vstack(all_contribQOmega_varOGS09_EOFs),axis=0),\n",
    "#                  col='k',ltype=':',transformX=False)\n",
    "\n",
    "# for i in range(n_modes):\n",
    "#     subplotRanksILog(ax,ranks_ref,\n",
    "#                      [contribQOmega_varOGS09_varQ[i],contribQOmega_varOGS09_varOmega[i],\n",
    "#                               contribQOmega_varOGS09_covQOmega[i]],\n",
    "#                      col=['green','blue','red'],ltype=['-','-','-'],transformX=False)\n",
    "\n",
    "# addXHatchRanksILog(ax,ranks_ref,(0,iQ_min),transformX=True)\n",
    "\n",
    "# ax.set_xlabel('Percentile rank (%)')\n",
    "# ax.set_ylabel(r'Contributions to Var$_Q(S)$')\n",
    "# # ax.set_title(r'$S(\\omega,T)=\\varepsilon\\omega_{500}q_v^\\star(T)$')\n",
    "\n",
    "# ax.legend(['normalized variability',\n",
    "#            'sum of contributions',\n",
    "#            r'contributions from $q_v^\\star$',\n",
    "#            r'contributions from $\\omega$',\n",
    "#            r'covariance terms'],ncol=1,framealpha=0.8,loc='upper right')\n",
    "\n",
    "# plt.savefig(os.path.join(figdir,'var_and_EOFcontributions_scOGS09_%s.pdf'%output_suffix),\n",
    "#             bbox_inches='tight')\n",
    "\n",
    "# plt.show()"
   ]
  },
  {
   "cell_type": "markdown",
   "metadata": {},
   "source": [
    "### Simpler decomposition for OGS09 scaling"
   ]
  },
  {
   "cell_type": "markdown",
   "metadata": {},
   "source": [
    "Splitting between the mean at percentile $Q$ and the fluctuations:\n",
    "$$P_{sc} \\equiv S(q,\\omega)\\\\\n",
    "    = S(\\left[q\\right]_Q + q',\\left[\\omega\\right]_Q+\\omega') \\\\\n",
    "    = S(\\left[q\\right]_Q , \\left[\\omega\\right]_Q) + S(\\left[q\\right]_Q,\\omega') \n",
    "    + S(q',\\left[\\omega\\right]_Q) + S(q',\\omega')$$\n",
    "\n",
    "Splitting the fluctuations between the reconstruction with the first EOFs and a residual $X' = \\tilde{X}+X^\\star$:\n",
    "$$ P_{sc} = S(\\left[q\\right]_Q , \\left[\\omega\\right]_Q) + S(\\left[q\\right]_Q,\\tilde{\\omega}) + S(\\left[q\\right]_Q,\\omega^\\star) \\\\\n",
    "+ S(\\tilde{q},\\left[\\omega\\right]_Q) + S(q^\\star,\\left[\\omega\\right]_Q) \\\\\n",
    "+ S(\\tilde{q},\\tilde{\\omega}) + S(\\tilde{q},\\omega^\\star) + S(q^\\star,\\tilde{\\omega}) + S(q^\\star,\\omega^\\star)$$\n",
    "\n",
    "Now just focus on the simpler decomposition:\n",
    "$$ Var(P_{sc}) = Var(S(\\left[q\\right]_Q,\\tilde{\\omega})) + Var(S(\\tilde{q},\\left[\\omega\\right]_Q)) + Var(S(\\tilde{q},\\tilde{\\omega})) $$"
   ]
  },
  {
   "cell_type": "code",
   "execution_count": 40,
   "metadata": {
    "ExecuteTime": {
     "end_time": "2018-03-27T22:57:00.822107",
     "start_time": "2018-03-27T22:57:00.514487Z"
    },
    "run_control": {
     "frozen": false,
     "read_only": false
    }
   },
   "outputs": [
    {
     "name": "stdout",
     "output_type": "stream",
     "text": [
      "\n",
      "- Decompose qvstar and omega into truncated EOFs and residuals\n",
      "and split the normalized variance into the corresponding four terms\n",
      "\n"
     ]
    }
   ],
   "source": [
    "print()\n",
    "print(\"- Decompose qvstar and omega into truncated EOFs and residuals\")\n",
    "print(\"and split the normalized variance into the corresponding four terms\")\n",
    "print()\n",
    "\n",
    "\n",
    "contribQOmega_varOGS09_scOGS09 = np.nan*np.empty((len(ranks_ref)))\n",
    "contribQOmega_varOGS09_QPrime = np.nan*np.empty((len(ranks_ref)))\n",
    "contribQOmega_varOGS09_OmegaPrime = np.nan*np.empty((len(ranks_ref)))\n",
    "contribQOmega_varOGS09_QPrimeOmegaPrime = np.nan*np.empty((len(ranks_ref)))\n",
    "\n",
    "# for rank in targetranks:\n",
    "for rank in targetranks:\n",
    "    rankid = rankID(rank)\n",
    "\n",
    "    #- Get profiles and fluctuations at given percentile\n",
    "    stencil_Q = rank_locations[rankid]\n",
    "    if stencil_Q.sum() == 0:\n",
    "        continue\n",
    "    omega_prof_Q = sampleFlattened(omega,stencil_Q)\n",
    "    (nlev,nprof) = omega_prof_Q.shape\n",
    "    qvstar_prof_Q = sampleFlattened(qvstar,stencil_Q)\n",
    "    pres_Q = sampleFlattened(pres,stencil_Q)\n",
    "    m_omega_prof_Q = np.mean(omega_prof_Q,axis=1)\n",
    "    m_qvstar_prof_Q = np.mean(qvstar_prof_Q,axis=1)\n",
    "    m_omega_prof_Q_ntimes = np.repeat(m_omega_prof_Q[:,np.newaxis],nprof,axis=1)\n",
    "    m_qvstar_prof_Q_ntimes = np.repeat(m_qvstar_prof_Q[:,np.newaxis],nprof,axis=1)\n",
    "    m_pres = np.mean(pres_Q,axis=1)\n",
    "    prime_omega_prof_Q = np.apply_along_axis(lambda x: x-m_omega_prof_Q,axis=0,arr=omega_prof_Q)\n",
    "    prime_qvstar_prof_Q = np.apply_along_axis(lambda x: x-m_qvstar_prof_Q,axis=0,arr=qvstar_prof_Q)\n",
    "\n",
    "    scOGS09_prQ = scOGS09(m_qvstar_prof_Q,m_omega_prof_Q)\n",
    "    scOGS09_Q = scOGS09(qvstar_prof_Q,omega_prof_Q)\n",
    "    scOGS09_Q_qvstarPrime = scOGS09(prime_qvstar_prof_Q,m_omega_prof_Q_ntimes)\n",
    "    scOGS09_Q_omegaPrime = scOGS09(m_qvstar_prof_Q_ntimes,prime_omega_prof_Q)\n",
    "    scOGS09_Q_omegaPrime_qvstarPrime = scOGS09(prime_qvstar_prof_Q,prime_omega_prof_Q)\n",
    "\n",
    "    #- Store results in array\n",
    "    iQ = indexOfRank(rank,ranks_ref)\n",
    "    contribQOmega_varOGS09_scOGS09[iQ] = np.nanvar(scOGS09_Q)/scOGS09_prQ**2\n",
    "    contribQOmega_varOGS09_QPrime[iQ] = np.nanvar(scOGS09_Q_qvstarPrime)/scOGS09_prQ**2\n",
    "    contribQOmega_varOGS09_OmegaPrime[iQ] = np.nanvar(scOGS09_Q_omegaPrime)/scOGS09_prQ**2\n",
    "    contribQOmega_varOGS09_QPrimeOmegaPrime[iQ] = np.nanvar(scOGS09_Q_omegaPrime_qvstarPrime)/scOGS09_prQ**2\n",
    "\n",
    "contribQOmega_varOGS09_residual = contribQOmega_varOGS09_scOGS09 - contribQOmega_varOGS09_QPrime - contribQOmega_varOGS09_OmegaPrime\n",
    "    # all_contribQOmega_varOGS09 = [contribQOmega_varOGS09_varQ,contribQOmega_varOGS09_varOmega,\n",
    "    #                           contribQOmega_varOGS09_covQOmega]"
   ]
  },
  {
   "cell_type": "code",
   "execution_count": 53,
   "metadata": {
    "ExecuteTime": {
     "end_time": "2018-03-27T23:08:40.099846",
     "start_time": "2018-03-27T23:08:38.958215Z"
    },
    "run_control": {
     "frozen": false,
     "read_only": false
    }
   },
   "outputs": [
    {
     "name": "stdout",
     "output_type": "stream",
     "text": [
      "> plot variance and corresponding contributions\n"
     ]
    },
    {
     "data": {
      "image/png": "[encoded data removed]",
      "text/plain": [
       "<matplotlib.figure.Figure at 0x2ad73bbd0ba8>"
      ]
     },
     "metadata": {},
     "output_type": "display_data"
    },
    {
     "name": "stdout",
     "output_type": "stream",
     "text": [
      "CPU times: user 1.07 s, sys: 99.5 ms, total: 1.17 s\n",
      "Wall time: 1.17 s\n"
     ]
    }
   ],
   "source": [
    "%%time \n",
    "print(\"> plot variance and corresponding contributions\")\n",
    "\n",
    "fig, ax = plt.subplots(ncols=1,nrows=1,figsize=(5,4.5))\n",
    "\n",
    "ax.set_ylim((-0.03,0.08))\n",
    "\n",
    "# Grey shading \n",
    "i_Q_lims = (iQ_slice.start, iQ_slice.stop-1)\n",
    "subplotXShadingRanksILog(ax,ranks_ref,i_Q_lims,alpha=0.15,transformX=False)\n",
    "\n",
    "# zero line\n",
    "addZeroLine(ax,ranks_ref)\n",
    "\n",
    "# subplotRanksILog(ax,ranks,np.zeros(ranks.shape),ltype=':',col='k')\n",
    "subplotRanksILog(ax,ranks_ref,\n",
    "                 norm_var_pr_scOGS09_prQ,\n",
    "                 col='k',ltype='-',transformX=False)\n",
    "\n",
    "subplotRanksILog(ax,ranks_ref,\n",
    "                 [contribQOmega_varOGS09_QPrime,contribQOmega_varOGS09_OmegaPrime,\n",
    "                          contribQOmega_varOGS09_residual],\n",
    "                 col=['green','blue','red'],ltype=['-','-','-'],transformX=False)\n",
    "\n",
    "addXHatchRanksILog(ax,ranks_ref,(0,iQ_min),transformX=True)\n",
    "\n",
    "ax.set_xlabel('Percentile rank (%)')\n",
    "ax.set_ylabel(r'Contributions to Var$_Q(S)$')\n",
    "\n",
    "ax.legend(['normalized variability',\n",
    "           r'contribution from $q_v^\\star$',\n",
    "           r'contribution from $\\omega$',\n",
    "           r'nonlinear term'],ncol=1,framealpha=0.8,loc='upper right')\n",
    "\n",
    "plt.savefig(os.path.join(figdir,'var_and_simple_contributions_scOGS09_%s.pdf'%output_suffix),\n",
    "            bbox_inches='tight')\n",
    "\n",
    "plt.show()"
   ]
  },
  {
   "cell_type": "markdown",
   "metadata": {},
   "source": [
    "### Redo simpler decomposition for single-level scaling"
   ]
  },
  {
   "cell_type": "code",
   "execution_count": 51,
   "metadata": {
    "ExecuteTime": {
     "end_time": "2018-03-27T22:43:38.832039",
     "start_time": "2018-03-27T22:43:38.737491Z"
    },
    "run_control": {
     "frozen": false,
     "read_only": false
    }
   },
   "outputs": [
    {
     "name": "stdout",
     "output_type": "stream",
     "text": [
      "\n",
      "- Decompose qvstar_s and omega_500 into percentile-mean and departures from the mean\n",
      "\n"
     ]
    }
   ],
   "source": [
    "print()\n",
    "print(\"- Decompose qvstar_s and omega_500 into percentile-mean and departures from the mean\")\n",
    "print()\n",
    "\n",
    "contribQOmega_varSL_scSL = np.nan*np.empty((len(ranks_ref)))\n",
    "contribQOmega_varSL_QPrime = np.nan*np.empty((len(ranks_ref)))\n",
    "contribQOmega_varSL_OmegaPrime = np.nan*np.empty((len(ranks_ref)))\n",
    "contribQOmega_varSL_QPrimeOmegaPrime = np.nan*np.empty((len(ranks_ref)))\n",
    "\n",
    "# for rank in targetranks:\n",
    "for rank in targetranks:\n",
    "    rankid = rankID(rank)\n",
    "    #- Get profiles and fluctuations at given percentile\n",
    "    stencil_Q = rank_locations[rankid]\n",
    "    if stencil_Q.sum() == 0:\n",
    "        continue\n",
    "    omega_500_Q = sampleFlattened(omega_500,stencil_Q)\n",
    "    nQ = len(omega_500_Q)\n",
    "    qvstar_s_Q = sampleFlattened(qvstar_s,stencil_Q)\n",
    "    m_omega_500_Q = np.nanmean(omega_500_Q)\n",
    "    m_qvstar_s_Q = np.nanmean(qvstar_s_Q)\n",
    "    m_omega_500_Q_ntimes = np.repeat(m_omega_500_Q,nQ)\n",
    "    m_qvstar_s_Q_ntimes = np.repeat(m_qvstar_s_Q,nQ)\n",
    "    prime_omega_500_Q = omega_500_Q-m_omega_500_Q_ntimes\n",
    "    prime_qvstar_s_Q = qvstar_s_Q-m_qvstar_s_Q_ntimes\n",
    "\n",
    "    sc_prQ = m_omega_500_Q*m_qvstar_s_Q\n",
    "    sc_Q = omega_500_Q*qvstar_s_Q\n",
    "    sc_Q_qvstarPrime = omega_500_Q*prime_qvstar_s_Q\n",
    "    sc_Q_omegaPrime = prime_omega_500_Q*qvstar_s_Q\n",
    "    sc_Q_omegaPrime_qvstarPrime = prime_omega_500_Q*prime_qvstar_s_Q\n",
    "\n",
    "    #- Store results in array\n",
    "    iQ = indexOfRank(rank,ranks_ref)\n",
    "    contribQOmega_varSL_scSL[iQ] = np.nanvar(sc_Q)/sc_prQ**2\n",
    "    contribQOmega_varSL_QPrime[iQ] = np.nanvar(sc_Q_qvstarPrime)/sc_prQ**2\n",
    "    contribQOmega_varSL_OmegaPrime[iQ] = np.nanvar(sc_Q_omegaPrime)/sc_prQ**2\n",
    "    contribQOmega_varSL_QPrimeOmegaPrime[iQ] = np.nanvar(sc_Q_omegaPrime_qvstarPrime)/sc_prQ**2\n",
    "\n",
    "contribQOmega_varSL_residual = contribQOmega_varSL_scSL - contribQOmega_varSL_QPrime - contribQOmega_varSL_OmegaPrime\n",
    "    # all_contribQOmega_varOGS09 = [contribQOmega_varOGS09_varQ,contribQOmega_varOGS09_varOmega,\n",
    "    #                           contribQOmega_varOGS09_covQOmega]"
   ]
  },
  {
   "cell_type": "code",
   "execution_count": 56,
   "metadata": {
    "ExecuteTime": {
     "end_time": "2018-03-27T23:08:28.416483",
     "start_time": "2018-03-27T23:08:27.075879Z"
    },
    "run_control": {
     "frozen": false,
     "read_only": false
    },
    "scrolled": false
   },
   "outputs": [
    {
     "name": "stdout",
     "output_type": "stream",
     "text": [
      "> plot variance and corresponding contributions\n"
     ]
    },
    {
     "data": {
      "image/png": "[encoded data removed]",
      "text/plain": [
       "<matplotlib.figure.Figure at 0x2ad749245240>"
      ]
     },
     "metadata": {},
     "output_type": "display_data"
    },
    {
     "name": "stdout",
     "output_type": "stream",
     "text": [
      "CPU times: user 945 ms, sys: 80.1 ms, total: 1.02 s\n",
      "Wall time: 1.02 s\n"
     ]
    }
   ],
   "source": [
    "%%time \n",
    "print(\"> plot variance and corresponding contributions\")\n",
    "\n",
    "fig, ax = plt.subplots(ncols=1,nrows=1,figsize=(5,4.5))\n",
    "\n",
    "ax.set_ylim((-0.03,0.08))\n",
    "\n",
    "# Grey shading \n",
    "i_Q_lims = (iQ_slice.start, iQ_slice.stop-1)\n",
    "subplotXShadingRanksILog(ax,ranks_ref,i_Q_lims,alpha=0.15,transformX=False)\n",
    "\n",
    "# zero line\n",
    "addZeroLine(ax,ranks_ref)\n",
    "\n",
    "# subplotRanksILog(ax,ranks,np.zeros(ranks.shape),ltype=':',col='k')\n",
    "subplotRanksILog(ax,ranks_ref,\n",
    "                 norm_var_pr_sc_prQ,\n",
    "                 col='k',ltype='-',transformX=False)\n",
    "\n",
    "subplotRanksILog(ax,ranks_ref,\n",
    "                 [contribQOmega_varSL_QPrime,contribQOmega_varSL_OmegaPrime,\n",
    "                          contribQOmega_varSL_residual],\n",
    "                 col=['green','blue','red'],ltype=['-','-','-'],transformX=False)\n",
    "\n",
    "addXHatchRanksILog(ax,ranks_ref,(0,iQ_min),transformX=True)\n",
    "\n",
    "ax.set_xlabel('Percentile rank (%)')\n",
    "ax.set_ylabel(r'Contributions to Var$_Q(S)$')\n",
    "\n",
    "ax.legend(['normalized variability',\n",
    "           r'contribution from $q_v^\\star$',\n",
    "           r'contribution from $\\omega$',\n",
    "           r'nonlinear term'],ncol=1,framealpha=0.8,loc='upper right')\n",
    "\n",
    "plt.savefig(os.path.join(figdir,'var_and_simple_contributions_sc_%s.pdf'%output_suffix),\n",
    "            bbox_inches='tight')\n",
    "\n",
    "plt.show()"
   ]
  },
  {
   "cell_type": "markdown",
   "metadata": {},
   "source": [
    "# Save variables"
   ]
  },
  {
   "cell_type": "code",
   "execution_count": 133,
   "metadata": {
    "ExecuteTime": {
     "end_time": "2018-03-27T23:08:42.284430",
     "start_time": "2018-03-27T23:08:42.258230Z"
    },
    "run_control": {
     "frozen": false,
     "read_only": false
    }
   },
   "outputs": [
    {
     "name": "stdout",
     "output_type": "stream",
     "text": [
      "- save variables with pickle.dump\n"
     ]
    }
   ],
   "source": [
    "print(\"- save variables with pickle.dump\")"
   ]
  },
  {
   "cell_type": "code",
   "execution_count": 59,
   "metadata": {
    "ExecuteTime": {
     "end_time": "2018-03-27T23:08:42.695734",
     "start_time": "2018-03-27T23:08:42.669088Z"
    },
    "run_control": {
     "frozen": false,
     "read_only": false
    }
   },
   "outputs": [],
   "source": [
    "all_vars_to_save = ['contribQOmega_varSL_scSL','contribQOmega_varSL_QPrime',\n",
    "                    'contribQOmega_varSL_OmegaPrime','contribQOmega_varSL_residual',\n",
    "                    'contribQOmega_varOGS09_scOGS09','contribQOmega_varOGS09_QPrime',\n",
    "                    'contribQOmega_varOGS09_OmegaPrime','contribQOmega_varOGS09_residual']\n",
    "all_vars_to_save.sort()"
   ]
  },
  {
   "cell_type": "code",
   "execution_count": 60,
   "metadata": {
    "ExecuteTime": {
     "end_time": "2018-03-27T23:09:52.740785",
     "start_time": "2018-03-27T23:09:52.703611Z"
    },
    "run_control": {
     "frozen": false,
     "read_only": false
    }
   },
   "outputs": [
    {
     "name": "stdout",
     "output_type": "stream",
     "text": [
      "8 variables\n",
      ". contribQOmega_varOGS09_OmegaPrime <class 'numpy.ndarray'> 424 (41,)\n",
      ". contribQOmega_varOGS09_QPrime <class 'numpy.ndarray'> 424 (41,)\n",
      ". contribQOmega_varOGS09_residual <class 'numpy.ndarray'> 424 (41,)\n",
      ". contribQOmega_varOGS09_scOGS09 <class 'numpy.ndarray'> 424 (41,)\n",
      ". contribQOmega_varSL_OmegaPrime <class 'numpy.ndarray'> 424 (41,)\n",
      ". contribQOmega_varSL_QPrime <class 'numpy.ndarray'> 424 (41,)\n",
      ". contribQOmega_varSL_residual <class 'numpy.ndarray'> 424 (41,)\n",
      ". contribQOmega_varSL_scSL <class 'numpy.ndarray'> 424 (41,)\n"
     ]
    }
   ],
   "source": [
    "print(len(all_vars_to_save),\"variables\")\n",
    "\n",
    "size_pickle = 0\n",
    "dict_pickle = {}\n",
    "for v in all_vars_to_save:\n",
    "    obj = getattr(thismodule,v)\n",
    "    size_pickle += sys.getsizeof(obj)\n",
    "    if obj.__class__ is np.ndarray:\n",
    "        print('.',v,obj.__class__,sys.getsizeof(obj),obj.shape)\n",
    "    else:\n",
    "        print('.',v,obj.__class__,sys.getsizeof(obj))\n",
    "    # save variables\n",
    "    dict_pickle[v] = obj"
   ]
  },
  {
   "cell_type": "code",
   "execution_count": 61,
   "metadata": {
    "ExecuteTime": {
     "end_time": "2018-03-27T23:09:57.618017",
     "start_time": "2018-03-27T23:09:57.586678Z"
    },
    "run_control": {
     "frozen": false,
     "read_only": false
    }
   },
   "outputs": [
    {
     "name": "stdout",
     "output_type": "stream",
     "text": [
      "> save to file results_dictionary_variability_Q8-Q41_185005010100-185105010000.pickle\n",
      "total size = 3392 B\n"
     ]
    }
   ],
   "source": [
    "result_dict_file = 'results_dictionary_variability_%s.pickle'%output_suffix\n",
    "print(\"> save to file %s\"%result_dict_file)\n",
    "pickle.dump(dict_pickle,open(os.path.join(resultdir,result_dict_file),\"wb\"))\n",
    "print(\"total size =\",size_pickle,\"B\")"
   ]
  },
  {
   "cell_type": "code",
   "execution_count": 62,
   "metadata": {
    "ExecuteTime": {
     "end_time": "2018-03-27T23:09:58.862359",
     "start_time": "2018-03-27T23:09:58.802815Z"
    },
    "run_control": {
     "frozen": false,
     "read_only": false
    }
   },
   "outputs": [
    {
     "name": "stdout",
     "output_type": "stream",
     "text": [
      "\n",
      "-------\n",
      "\n",
      "time spent for scales 1d and 1dx : 01:09:18\n",
      "\n",
      "> Save timing and size info to /global/u2/b/bfildier/code/dataAnalysis/extreme-rain-predictability-across-scales/results/omega500tsps/FSPCAMm_AMIP/piControl/r1i1p1/tropics/1d/1dx/timing.csv.\n",
      "\n"
     ]
    }
   ],
   "source": [
    "print()\n",
    "print(\"-------\")\n",
    "print()\n",
    "if tracktime:\n",
    "    timingfile = 'timing.csv'\n",
    "    fulltimingfile = os.path.join(resultdir,timingfile)\n",
    "    t_loops.append(time.time())\n",
    "    time_elapsed_s = t_loops[-1]-t_loops[-2]\n",
    "    print(\"time spent for scales %s and %s :\"%(time_stride,resolution),\n",
    "          time2str(time_elapsed_s))\n",
    "    print()\n",
    "    print('> Save timing and size info to %s.'%fulltimingfile)\n",
    "    timing_df = saveTiming(fulltimingfile,output_suffix,pr.size,time_elapsed_s,reset_value=True)\n",
    "print()"
   ]
  },
  {
   "cell_type": "code",
   "execution_count": 142,
   "metadata": {
    "ExecuteTime": {
     "end_time": "2018-03-27T23:10:00.022011",
     "start_time": "2018-03-27T23:09:59.978026Z"
    },
    "run_control": {
     "frozen": false,
     "read_only": false
    },
    "scrolled": true
   },
   "outputs": [
    {
     "name": "stdout",
     "output_type": "stream",
     "text": [
      "\n",
      "-----------------------------------------------------------------\n",
      "!                                                            \t!\n",
      "!   time spent in each loop:                                 \t!\n",
      "!        04:27:32                                            \t!\n",
      "!                                                            \t!\n",
      "!   time spent in all loops combined: 04:27:32              \t!\n",
      "!   average time spent in a loop: 04:27:32              \t!\n",
      "!                                                            \t!\n",
      "!   total time spent for script execution: 04:27:34          \t!\n",
      "!                                                            \t!\n",
      "-----------------------------------------------------------------\n",
      "\n"
     ]
    }
   ],
   "source": [
    "#--# stop indentation for multiple scales\n",
    "\n",
    "## Keep track of time\n",
    "if tracktime:\n",
    "    print()\n",
    "    print(\"-----------------------------------------------------------------\")\n",
    "    print(\"!                                                            \\t!\")\n",
    "    print(\"!   time spent in each loop:                                 \\t!\")\n",
    "    for i in range(len(t_loops)-1):\n",
    "        print(\"!       \",time2str(t_loops[i+1]-t_loops[i]),\n",
    "        \"                                           \\t!\")\n",
    "    print(\"!                                                            \\t!\")\n",
    "    print(\"!   time spent in all loops combined:\",\n",
    "          time2str(t_loops[-1]-t_loops[0]),\n",
    "          \"             \\t!\")\n",
    "    if len(t_loops) > 1:\n",
    "        print(\"!   average time spent in a loop:\",\n",
    "              time2str((t_loops[-1]-t_loops[0])/(len(t_loops)-1)),\n",
    "              \"             \\t!\")\n",
    "    print(\"!                                                            \\t!\")\n",
    "    print(\"!   total time spent for script execution:\",\n",
    "          time2str(t_loops[-1]-t0),\n",
    "          \"         \\t!\")\n",
    "    print(\"!                                                            \\t!\")\n",
    "    print(\"-----------------------------------------------------------------\")\n",
    "    print()\n",
    "        "
   ]
  },
  {
   "cell_type": "code",
   "execution_count": null,
   "metadata": {
    "collapsed": true,
    "run_control": {
     "frozen": false,
     "read_only": false
    }
   },
   "outputs": [],
   "source": []
  }
 ],
 "metadata": {
  "hide_input": false,
  "kernelspec": {
   "display_name": "Python [default]",
   "language": "python",
   "name": "python3"
  },
  "language_info": {
   "codemirror_mode": {
    "name": "ipython",
    "version": 3
   },
   "file_extension": ".py",
   "mimetype": "text/x-python",
   "name": "python",
   "nbconvert_exporter": "python",
   "pygments_lexer": "ipython3",
   "version": "3.6.1"
  },
  "latex_envs": {
   "bibliofile": "biblio.bib",
   "cite_by": "apalike",
   "current_citInitial": 1,
   "eqLabelWithNumbers": true,
   "eqNumInitial": 0
  },
  "toc": {
   "toc_cell": true,
   "toc_number_sections": true,
   "toc_threshold": 6,
   "toc_window_display": false
  }
 },
 "nbformat": 4,
 "nbformat_minor": 1
}
