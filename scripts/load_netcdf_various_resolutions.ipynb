{
 "cells": [
  {
   "cell_type": "markdown",
   "metadata": {
    "toc": "true"
   },
   "source": [
    "# Table of Contents\n",
    " <p>"
   ]
  },
  {
   "cell_type": "code",
   "execution_count": 12,
   "metadata": {
    "ExecuteTime": {
     "end_time": "2017-11-13T19:55:55.445131Z",
     "start_time": "2017-11-13T19:55:54.237286Z"
    },
    "collapsed": true,
    "run_control": {
     "frozen": false,
     "read_only": false
    }
   },
   "outputs": [],
   "source": [
    "%load_ext autoreload\n",
    "%matplotlib inline"
   ]
  },
  {
   "cell_type": "code",
   "execution_count": 22,
   "metadata": {
    "ExecuteTime": {
     "end_time": "2017-11-13T21:51:03.916174Z",
     "start_time": "2017-11-13T21:51:03.884462Z"
    },
    "run_control": {
     "frozen": false,
     "read_only": false
    }
   },
   "outputs": [
    {
     "name": "stdout",
     "output_type": "stream",
     "text": [
      "Own modules available: ['CAMsettings', 'daskOptions', 'environmentAndDirectories', 'importingData', 'physicalConstants', 'plot1DInvLog', 'plotMaps', 'scalingApproximations', 'slicingAndSubsetting', 'statisticalDistributions', 'thermoConstants', 'thermoFunctions']\n"
     ]
    }
   ],
   "source": [
    "%autoreload 2\n",
    "\n",
    "import numpy as np\n",
    "import dask.array as da\n",
    "import matplotlib.pyplot as plt\n",
    "\n",
    "import sys,os,glob\n",
    "\n",
    "## Add own library to path\n",
    "workdir = os.getcwd()\n",
    "thismodule = sys.modules[__name__]\n",
    "moduledir = os.path.join(os.path.dirname(workdir),'functions')\n",
    "sys.path.insert(0,moduledir)\n",
    "print(\"Own modules available:\", [os.path.splitext(os.path.basename(x))[0]\n",
    "                                 for x in glob.glob(os.path.join(moduledir,'*.py'))])\n",
    "## Load own libraries\n",
    "from environmentAndDirectories import *\n",
    "from importingData import *\n",
    "from scalingApproximations import *\n",
    "import datetime as dt"
   ]
  },
  {
   "cell_type": "code",
   "execution_count": 21,
   "metadata": {
    "ExecuteTime": {
     "end_time": "2017-11-13T21:50:29.294645Z",
     "start_time": "2017-11-13T21:50:29.268801Z"
    }
   },
   "outputs": [
    {
     "name": "stdout",
     "output_type": "stream",
     "text": [
      "1 3 6 12 24 72 144 "
     ]
    }
   ],
   "source": [
    "example_time_strides = ['h','3hr','6hour','12hours','d','3day','6days']\n",
    "for tstride in example_time_strides:\n",
    "    print(inHours(tstride),end=' ')"
   ]
  },
  {
   "cell_type": "code",
   "execution_count": 32,
   "metadata": {
    "ExecuteTime": {
     "end_time": "2017-11-13T23:31:36.339712Z",
     "start_time": "2017-11-13T23:31:35.115802Z"
    },
    "run_control": {
     "frozen": false,
     "read_only": false
    },
    "scrolled": false
   },
   "outputs": [
    {
     "name": "stdout",
     "output_type": "stream",
     "text": [
      "Importing Q from 24 history files between 1850-05-01-03600 and 1850-05-02-00000\n",
      "(24, 30, 32, 144)\n",
      "Importing Q from 24 history files between 1850-05-01-03600 and 1850-05-02-00000\n",
      "(8, 30, 32, 144)\n",
      "Importing Q from 24 history files between 1850-05-01-03600 and 1850-05-02-00000\n",
      "(4, 30, 32, 144)\n",
      "Importing Q from 24 history files between 1850-05-01-03600 and 1850-05-02-00000\n",
      "(2, 30, 32, 144)\n",
      "Importing Q from 24 history files between 1850-05-01-03600 and 1850-05-02-00000\n",
      "(1, 30, 32, 144)\n",
      "Time stride 3day is too large for the historical files available\n",
      "Time stride 3day not accessible from processed files\n",
      "Time stride 6days is too large for the historical files available\n",
      "Time stride 6days not accessible from processed files\n"
     ]
    }
   ],
   "source": [
    "compset = 'FAMIPC5'\n",
    "experiment = 'piControl'\n",
    "subset = 'tropics'\n",
    "time_stride = 'day'\n",
    "dates = ('185005010100','185005020000')\n",
    "\n",
    "historyFilesSettings = getCAMHistoryFilesSettings()\n",
    "\n",
    "inputdir, inputdir_processed_day, inputdir_processed_1hr, inputdir_results, inputdir_fx = \\\n",
    "    getInputDirectories(compset,experiment)\n",
    "\n",
    "q_varid = 'Q'\n",
    "for tstride in example_time_strides:\n",
    "    varid = \"spechum_%s\"%tstride\n",
    "    setattr(thismodule,varid,getValues(q_varid,compset,subset,experiment,tstride,dates=dates))\n",
    "    var = getattr(thismodule,varid)\n",
    "    if var is not None:\n",
    "        print(var.shape) \n"
   ]
  },
  {
   "cell_type": "code",
   "execution_count": 34,
   "metadata": {
    "ExecuteTime": {
     "end_time": "2017-11-14T00:20:39.250106Z",
     "start_time": "2017-11-14T00:20:39.221247Z"
    },
    "run_control": {
     "frozen": false,
     "read_only": false
    }
   },
   "outputs": [
    {
     "name": "stdout",
     "output_type": "stream",
     "text": [
      "Missing files on the scratch directory for Q:\n",
      "\n"
     ]
    }
   ],
   "source": [
    "print(\"Missing files on the scratch directory for %s:\"%q_varid)\n",
    "print()\n",
    "processed_files = getProcessedFiles(q_varid,inputdir_processed_day)\n",
    "processed_dates = [f.split('.')[0].split('_')[-1] for f in processed_files]\n",
    "for d1,d2 in zip(processed_dates[:-1],processed_dates[1:]):\n",
    "    delta = dt.datetime(int(d2[:4]),int(d2[4:6]),int(d2[6:8]))-dt.datetime(int(d1[:4]),int(d1[4:6]),int(d1[6:8]))\n",
    "    if delta.days > 1:\n",
    "        print(delta.days-1,\"missing file(s):\",d1,'|',d2)"
   ]
  },
  {
   "cell_type": "code",
   "execution_count": null,
   "metadata": {
    "collapsed": true,
    "run_control": {
     "frozen": false,
     "read_only": false
    }
   },
   "outputs": [],
   "source": []
  }
 ],
 "metadata": {
  "hide_input": false,
  "kernelspec": {
   "display_name": "Python 3",
   "language": "python",
   "name": "python3"
  },
  "language_info": {
   "codemirror_mode": {
    "name": "ipython",
    "version": 3
   },
   "file_extension": ".py",
   "mimetype": "text/x-python",
   "name": "python",
   "nbconvert_exporter": "python",
   "pygments_lexer": "ipython3",
   "version": "3.6.1"
  },
  "latex_envs": {
   "bibliofile": "biblio.bib",
   "cite_by": "apalike",
   "current_citInitial": 1,
   "eqLabelWithNumbers": true,
   "eqNumInitial": 0
  },
  "toc": {
   "toc_cell": true,
   "toc_number_sections": true,
   "toc_threshold": 6,
   "toc_window_display": false
  }
 },
 "nbformat": 4,
 "nbformat_minor": 2
}
