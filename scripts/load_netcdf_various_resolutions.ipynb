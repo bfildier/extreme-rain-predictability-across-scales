{
 "cells": [
  {
   "cell_type": "markdown",
   "metadata": {
    "toc": "true"
   },
   "source": [
    "# Table of Contents\n",
    " <p>"
   ]
  },
  {
   "cell_type": "code",
   "execution_count": 4,
   "metadata": {
    "ExecuteTime": {
     "end_time": "2017-11-14T21:31:08.098113",
     "start_time": "2017-11-14T21:31:07.889227Z"
    },
    "collapsed": false,
    "run_control": {
     "frozen": false,
     "read_only": false
    }
   },
   "outputs": [
    {
     "name": "stdout",
     "output_type": "stream",
     "text": [
      "The autoreload extension is already loaded. To reload it, use:\n",
      "  %reload_ext autoreload\n"
     ]
    }
   ],
   "source": [
    "%load_ext autoreload\n",
    "%matplotlib inline"
   ]
  },
  {
   "cell_type": "code",
   "execution_count": 5,
   "metadata": {
    "ExecuteTime": {
     "end_time": "2017-11-14T21:31:08.187466",
     "start_time": "2017-11-14T21:31:08.100162Z"
    },
    "collapsed": false,
    "run_control": {
     "frozen": false,
     "read_only": false
    }
   },
   "outputs": [
    {
     "name": "stdout",
     "output_type": "stream",
     "text": [
      "Own modules available: ['CAMsettings', 'daskOptions', 'environmentAndDirectories', 'importingData', 'outputResults', 'physicalConstants', 'plot1DInvLog', 'plotMaps', 'scalingApproximations', 'slicingAndSubsetting', 'statisticalDistributions', 'thermoConstants', 'thermoFunctions']\n"
     ]
    }
   ],
   "source": [
    "%autoreload 2\n",
    "\n",
    "import numpy as np\n",
    "import dask.array as da\n",
    "import matplotlib.pyplot as plt\n",
    "\n",
    "import sys,os,glob\n",
    "\n",
    "## Add own library to path\n",
    "workdir = os.getcwd()\n",
    "thismodule = sys.modules[__name__]\n",
    "moduledir = os.path.join(os.path.dirname(workdir),'functions')\n",
    "sys.path.insert(0,moduledir)\n",
    "print(\"Own modules available:\", [os.path.splitext(os.path.basename(x))[0]\n",
    "                                 for x in glob.glob(os.path.join(moduledir,'*.py'))])\n",
    "## Load own libraries\n",
    "from environmentAndDirectories import *\n",
    "from importingData import *\n",
    "from scalingApproximations import *\n",
    "import datetime as dt"
   ]
  },
  {
   "cell_type": "code",
   "execution_count": 26,
   "metadata": {
    "ExecuteTime": {
     "end_time": "2017-11-14T21:56:09.303087",
     "start_time": "2017-11-14T21:56:09.226279Z"
    },
    "collapsed": false,
    "run_control": {
     "frozen": false,
     "read_only": false
    }
   },
   "outputs": [
    {
     "name": "stdout",
     "output_type": "stream",
     "text": [
      "Loading lontigude, latitude and landmask\n"
     ]
    }
   ],
   "source": [
    "## Get longitude, latitude and landmask\n",
    "\n",
    "fh = Dataset(os.path.join(inputdir_fx,'landmask_fx_CESM111-SPCAM20_allExperiments_r0i0p0.nc'))\n",
    "lon1D = fh.variables['lon'][:]\n",
    "lat1D = fh.variables['lat'][:]\n",
    "lon2D, lat2D = np.meshgrid(lon1D,lat1D)\n",
    "lon2D = da.from_array(lon2D,chunks=lon2D.shape)\n",
    "lat2D = da.from_array(lat2D,chunks=lat2D.shape)\n",
    "\n",
    "print(\"Loading lontigude, latitude and landmask\")\n",
    "\n",
    "landmask = fh.variables['landmask']\n"
   ]
  },
  {
   "cell_type": "code",
   "execution_count": 6,
   "metadata": {
    "ExecuteTime": {
     "end_time": "2017-11-14T21:31:08.240469",
     "start_time": "2017-11-14T21:31:08.196245Z"
    },
    "collapsed": false,
    "run_control": {
     "frozen": false,
     "read_only": false
    }
   },
   "outputs": [
    {
     "name": "stdout",
     "output_type": "stream",
     "text": [
      "1 3 6 12 24 72 144 "
     ]
    }
   ],
   "source": [
    "example_time_strides = ['h','3hr','6hour','12hours','d','3day','6days']\n",
    "for tstride in example_time_strides:\n",
    "    print(inHours(tstride),end=' ')"
   ]
  },
  {
   "cell_type": "code",
   "execution_count": 7,
   "metadata": {
    "ExecuteTime": {
     "end_time": "2017-11-14T21:31:09.680686",
     "start_time": "2017-11-14T21:31:08.243407Z"
    },
    "collapsed": false,
    "run_control": {
     "frozen": false,
     "read_only": false
    },
    "scrolled": false
   },
   "outputs": [
    {
     "name": "stdout",
     "output_type": "stream",
     "text": [
      "Importing Q from 24 history files between 1850-05-01-03600 and 1850-05-02-00000\n",
      "(24, 30, 32, 144)\n",
      "Importing Q from 24 history files between 1850-05-01-03600 and 1850-05-02-00000\n",
      "(8, 30, 32, 144)\n",
      "Importing Q from 24 history files between 1850-05-01-03600 and 1850-05-02-00000\n",
      "(4, 30, 32, 144)\n",
      "Importing Q from 24 history files between 1850-05-01-03600 and 1850-05-02-00000\n",
      "(2, 30, 32, 144)\n",
      "Importing Q from 24 history files between 1850-05-01-03600 and 1850-05-02-00000\n",
      "(1, 30, 32, 144)\n",
      "Time stride 3day is too large for the historical files available\n",
      "Time stride 3day not accessible from processed files\n",
      "Time stride 6days is too large for the historical files available\n",
      "Time stride 6days not accessible from processed files\n"
     ]
    }
   ],
   "source": [
    "compset = 'FAMIPC5'\n",
    "experiment = 'piControl'\n",
    "subset = 'tropics'\n",
    "time_stride = 'day'\n",
    "dates = ('185005010100','185005020000')\n",
    "\n",
    "historyFilesSettings = getCAMHistoryFilesSettings()\n",
    "\n",
    "inputdir, inputdir_processed_day, inputdir_processed_1hr, inputdir_results, inputdir_fx = \\\n",
    "    getInputDirectories(compset,experiment)\n",
    "\n",
    "q_varid = 'Q'\n",
    "for tstride in example_time_strides:\n",
    "    varid = \"spechum_%s\"%tstride\n",
    "    setattr(thismodule,varid,getValues(q_varid,compset,subset,experiment,tstride,dates=dates))\n",
    "    var = getattr(thismodule,varid)\n",
    "    if var is not None:\n",
    "        print(var.shape) \n"
   ]
  },
  {
   "cell_type": "code",
   "execution_count": 8,
   "metadata": {
    "ExecuteTime": {
     "end_time": "2017-11-14T21:31:09.727052",
     "start_time": "2017-11-14T21:31:09.683835Z"
    },
    "collapsed": false,
    "run_control": {
     "frozen": false,
     "read_only": false
    }
   },
   "outputs": [
    {
     "name": "stdout",
     "output_type": "stream",
     "text": [
      "Missing files on the scratch directory for Q:\n",
      "\n"
     ]
    }
   ],
   "source": [
    "print(\"Missing files on the scratch directory for %s:\"%q_varid)\n",
    "print()\n",
    "processed_files = getProcessedFiles(q_varid,inputdir_processed_day)\n",
    "processed_dates = [f.split('.')[0].split('_')[-1] for f in processed_files]\n",
    "for d1,d2 in zip(processed_dates[:-1],processed_dates[1:]):\n",
    "    delta = dt.datetime(int(d2[:4]),int(d2[4:6]),int(d2[6:8]))-dt.datetime(int(d1[:4]),int(d1[4:6]),int(d1[6:8]))\n",
    "    if delta.days > 1:\n",
    "        print(delta.days-1,\"missing file(s):\",d1,'|',d2)"
   ]
  },
  {
   "cell_type": "code",
   "execution_count": 36,
   "metadata": {
    "ExecuteTime": {
     "end_time": "2017-11-14T22:05:08.304330",
     "start_time": "2017-11-14T22:05:08.270577Z"
    },
    "collapsed": false,
    "run_control": {
     "frozen": false,
     "read_only": false
    }
   },
   "outputs": [],
   "source": [
    "\n",
    "\n",
    "def coarsen(var,coarsen_factor,latdim,londim):\n",
    "    \n",
    "    cn = getArrayType(var)\n",
    "    vshape = var.shape\n",
    "    coarsen_factor = 2\n",
    "    nlat = vshape[latdim]\n",
    "#     print(vshape)\n",
    "    nlon = vshape[londim]\n",
    "    nlat_reduced = (nlat//coarsen_factor)*coarsen_factor\n",
    "    nlon_reduced = (nlon//coarsen_factor)*coarsen_factor\n",
    "    tempshape = vshape[:-2]+(nlat//coarsen_factor,coarsen_factor)+\\\n",
    "                (nlon//coarsen_factor,coarsen_factor)\n",
    "    newshape = vshape[:-2]+(nlat//coarsen_factor,nlon//coarsen_factor)\n",
    "    temp = cn.reshape(var[...,:nlat_reduced,:nlon_reduced],tempshape)\n",
    "    newvar = cn.mean(temp,axis=(-3,-1))\n",
    "    return newvar"
   ]
  },
  {
   "cell_type": "code",
   "execution_count": 37,
   "metadata": {
    "ExecuteTime": {
     "end_time": "2017-11-14T22:05:08.641497",
     "start_time": "2017-11-14T22:05:08.593552Z"
    },
    "collapsed": false
   },
   "outputs": [
    {
     "ename": "NameError",
     "evalue": "name 'plotMapTropics' is not defined",
     "output_type": "error",
     "traceback": [
      "\u001b[0;31m---------------------------------------------------------------------------\u001b[0m",
      "\u001b[0;31mNameError\u001b[0m                                 Traceback (most recent call last)",
      "\u001b[0;32m<ipython-input-37-334b656d30e2>\u001b[0m in \u001b[0;36m<module>\u001b[0;34m()\u001b[0m\n\u001b[1;32m     15\u001b[0m     \u001b[0mcoarse_lon\u001b[0m \u001b[0;34m=\u001b[0m \u001b[0mgetattr\u001b[0m\u001b[0;34m(\u001b[0m\u001b[0mthismodule\u001b[0m\u001b[0;34m,\u001b[0m\u001b[0mcoarse_lonname\u001b[0m\u001b[0;34m)\u001b[0m\u001b[0;34m\u001b[0m\u001b[0m\n\u001b[1;32m     16\u001b[0m \u001b[0;34m\u001b[0m\u001b[0m\n\u001b[0;32m---> 17\u001b[0;31m     \u001b[0mplotMapTropics\u001b[0m\u001b[0;34m(\u001b[0m\u001b[0mcoarse_lon\u001b[0m\u001b[0;34m.\u001b[0m\u001b[0mcompute\u001b[0m\u001b[0;34m(\u001b[0m\u001b[0;34m)\u001b[0m\u001b[0;34m,\u001b[0m\u001b[0mcoarse_lat\u001b[0m\u001b[0;34m.\u001b[0m\u001b[0mcompute\u001b[0m\u001b[0;34m(\u001b[0m\u001b[0;34m)\u001b[0m\u001b[0;34m,\u001b[0m\u001b[0mcoarse_var\u001b[0m\u001b[0;34m[\u001b[0m\u001b[0;36m0\u001b[0m\u001b[0;34m,\u001b[0m\u001b[0;36m0\u001b[0m\u001b[0;34m,\u001b[0m\u001b[0;34m...\u001b[0m\u001b[0;34m]\u001b[0m\u001b[0;34m.\u001b[0m\u001b[0mcompute\u001b[0m\u001b[0;34m(\u001b[0m\u001b[0;34m)\u001b[0m\u001b[0;34m,\u001b[0m\u001b[0mtitle\u001b[0m\u001b[0;34m=\u001b[0m\u001b[0mcoarse_varname\u001b[0m\u001b[0;34m)\u001b[0m\u001b[0;34m\u001b[0m\u001b[0m\n\u001b[0m\u001b[1;32m     18\u001b[0m     \u001b[0mplt\u001b[0m\u001b[0;34m.\u001b[0m\u001b[0mshow\u001b[0m\u001b[0;34m(\u001b[0m\u001b[0;34m)\u001b[0m\u001b[0;34m\u001b[0m\u001b[0m\n",
      "\u001b[0;31mNameError\u001b[0m: name 'plotMapTropics' is not defined"
     ]
    }
   ],
   "source": [
    "varname = 'spechum_12hours'\n",
    "var = getattr(thismodule,varname)\n",
    "for n in range(1,10):\n",
    "    \n",
    "    coarse_varname = '%s_%ddx'%(varname,n)\n",
    "    coarse_lonname = 'lon2D_%ddx'%(n)\n",
    "    coarse_latname = 'lat2D_%ddx'%(n)\n",
    "    \n",
    "    setattr(thismodule,coarse_varname,coarsen(var,2,2,3))\n",
    "    setattr(thismodule,coarse_latname,coarsen(lat2D,2,0,1))\n",
    "    setattr(thismodule,coarse_lonname,coarsen(lon2D,2,0,1))\n",
    "    \n",
    "    coarse_var = getattr(thismodule,coarse_varname)\n",
    "    coarse_lat = getattr(thismodule,coarse_latname)\n",
    "    coarse_lon = getattr(thismodule,coarse_lonname)\n",
    "\n",
    "    plotMapTropics(coarse_lon.compute(),coarse_lat.compute(),coarse_var[0,0,...].compute(),title=coarse_varname)\n",
    "    plt.show()"
   ]
  },
  {
   "cell_type": "code",
   "execution_count": null,
   "metadata": {
    "collapsed": true
   },
   "outputs": [],
   "source": []
  }
 ],
 "metadata": {
  "hide_input": false,
  "kernelspec": {
   "display_name": "Python 3",
   "language": "python",
   "name": "python3"
  },
  "language_info": {
   "codemirror_mode": {
    "name": "ipython",
    "version": 3
   },
   "file_extension": ".py",
   "mimetype": "text/x-python",
   "name": "python",
   "nbconvert_exporter": "python",
   "pygments_lexer": "ipython3",
   "version": "3.6.1"
  },
  "latex_envs": {
   "bibliofile": "biblio.bib",
   "cite_by": "apalike",
   "current_citInitial": 1,
   "eqLabelWithNumbers": true,
   "eqNumInitial": 0
  },
  "toc": {
   "toc_cell": true,
   "toc_number_sections": true,
   "toc_threshold": 6,
   "toc_window_display": false
  }
 },
 "nbformat": 4,
 "nbformat_minor": 2
}
