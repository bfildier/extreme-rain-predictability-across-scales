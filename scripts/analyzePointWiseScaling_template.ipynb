{
 "cells": [
  {
   "cell_type": "markdown",
   "metadata": {
    "toc": "true"
   },
   "source": [
    "# Table of Contents\n",
    " <p><div class=\"lev1\"><a href=\"#Derive-scaling\"><span class=\"toc-item-num\">1&nbsp;&nbsp;</span>Derive scaling</a></div><div class=\"lev2\"><a href=\"#Compute-statistics\"><span class=\"toc-item-num\">1.1&nbsp;&nbsp;</span>Compute statistics</a></div><div class=\"lev3\"><a href=\"#1D-PDFs\"><span class=\"toc-item-num\">1.1.1&nbsp;&nbsp;</span>1D PDFs</a></div><div class=\"lev3\"><a href=\"#PDF-of-scaling-in-percentile-bins-of-pr\"><span class=\"toc-item-num\">1.1.2&nbsp;&nbsp;</span>PDF of scaling in percentile bins of pr</a></div><div class=\"lev3\"><a href=\"#2D-PDFs\"><span class=\"toc-item-num\">1.1.3&nbsp;&nbsp;</span>2D PDFs</a></div><div class=\"lev3\"><a href=\"#Decompose-bias-into-its-contributions-from-qvstar-and-omega-(scaling-#3)\"><span class=\"toc-item-num\">1.1.4&nbsp;&nbsp;</span>Decompose bias into its contributions from qvstar and omega (scaling #3)</a></div><div class=\"lev2\"><a href=\"#Decompose-the-variance\"><span class=\"toc-item-num\">1.2&nbsp;&nbsp;</span>Decompose the variance</a></div><div class=\"lev3\"><a href=\"#Decompose-Variance-into-its-contributions-from-qvstar-and-omega-(scaling-#3)\"><span class=\"toc-item-num\">1.2.1&nbsp;&nbsp;</span>Decompose Variance into its contributions from qvstar and omega (scaling #3)</a></div><div class=\"lev3\"><a href=\"#Decompose-variance-into-its-contributions-from-T-and-omega-(ignore-variability-in-pressure)\"><span class=\"toc-item-num\">1.2.2&nbsp;&nbsp;</span>Decompose variance into its contributions from T and omega (ignore variability in pressure)</a></div><div class=\"lev2\"><a href=\"#Predictor-variables-statistics\"><span class=\"toc-item-num\">1.3&nbsp;&nbsp;</span>Predictor variables statistics</a></div><div class=\"lev3\"><a href=\"#Joint-statistics-of-$\\omega$-and-$q_v^\\star$\"><span class=\"toc-item-num\">1.3.1&nbsp;&nbsp;</span>Joint statistics of <span class=\"MathJax_Preview\" style=\"color: inherit;\"></span><span class=\"MathJax\" id=\"MathJax-Element-11-Frame\" style=\"\"><nobr><span class=\"math\" id=\"MathJax-Span-25\" role=\"math\" style=\"width: 0.836em; display: inline-block;\"><span style=\"display: inline-block; position: relative; width: 0.697em; height: 0px; font-size: 120%;\"><span style=\"position: absolute; clip: rect(1.762em 1000em 2.456em -999.998em); top: -2.313em; left: 0.002em;\"><span class=\"mrow\" id=\"MathJax-Span-26\"><span class=\"mi\" id=\"MathJax-Span-27\" style=\"font-family: STIXMathJax_Main-italic;\">ω</span></span><span style=\"display: inline-block; width: 0px; height: 2.317em;\"></span></span></span><span style=\"border-left: 0.003em solid; display: inline-block; overflow: hidden; width: 0px; height: 0.669em; vertical-align: -0.053em;\"></span></span></nobr></span><script type=\"math/tex\" id=\"MathJax-Element-11\">\\omega</script> and <span class=\"MathJax_Preview\" style=\"color: inherit;\"></span><span class=\"MathJax\" id=\"MathJax-Element-12-Frame\" style=\"\"><nobr><span class=\"math\" id=\"MathJax-Span-28\" role=\"math\" style=\"width: 1.299em; display: inline-block;\"><span style=\"display: inline-block; position: relative; width: 1.067em; height: 0px; font-size: 120%;\"><span style=\"position: absolute; clip: rect(1.299em 1000em 2.595em -999.998em); top: -2.22em; left: 0.002em;\"><span class=\"mrow\" id=\"MathJax-Span-29\"><span class=\"msubsup\" id=\"MathJax-Span-30\"><span style=\"display: inline-block; position: relative; width: 1.067em; height: 0px;\"><span style=\"position: absolute; clip: rect(3.382em 1000em 4.354em -999.998em); top: -3.979em; left: 0.002em;\"><span class=\"mi\" id=\"MathJax-Span-31\" style=\"font-family: STIXMathJax_Main-italic;\">q</span><span style=\"display: inline-block; width: 0px; height: 3.984em;\"></span></span><span style=\"position: absolute; clip: rect(3.428em 1000em 4.123em -999.998em); top: -4.35em; left: 0.512em;\"><span class=\"mo\" id=\"MathJax-Span-32\" style=\"font-size: 70.7%; font-family: STIXMathJax_Main;\">⋆</span><span style=\"display: inline-block; width: 0px; height: 3.984em;\"></span></span><span style=\"position: absolute; clip: rect(3.521em 1000em 4.123em -999.998em); top: -3.84em; left: 0.512em;\"><span class=\"mi\" id=\"MathJax-Span-33\" style=\"font-size: 70.7%; font-family: STIXMathJax_Main-italic;\">v</span><span style=\"display: inline-block; width: 0px; height: 3.984em;\"></span></span></span></span></span><span style=\"display: inline-block; width: 0px; height: 2.225em;\"></span></span></span><span style=\"border-left: 0.003em solid; display: inline-block; overflow: hidden; width: 0px; height: 1.281em; vertical-align: -0.331em;\"></span></span></nobr></span><script type=\"math/tex\" id=\"MathJax-Element-12\">q_v^\\star</script></a></div><div class=\"lev3\"><a href=\"#Conditional-values-of-$P$-on-joint-statistics-of-$\\omega$-and-$q_v^\\star$\"><span class=\"toc-item-num\">1.3.2&nbsp;&nbsp;</span>Conditional values of <span class=\"MathJax_Preview\" style=\"color: inherit;\"></span><span class=\"MathJax\" id=\"MathJax-Element-13-Frame\" style=\"\"><nobr><span class=\"math\" id=\"MathJax-Span-34\" role=\"math\" style=\"width: 0.789em; display: inline-block;\"><span style=\"display: inline-block; position: relative; width: 0.65em; height: 0px; font-size: 120%;\"><span style=\"position: absolute; clip: rect(1.53em 1000em 2.456em -999.998em); top: -2.313em; left: 0.002em;\"><span class=\"mrow\" id=\"MathJax-Span-35\"><span class=\"mi\" id=\"MathJax-Span-36\" style=\"font-family: STIXMathJax_Main-italic;\">P</span></span><span style=\"display: inline-block; width: 0px; height: 2.317em;\"></span></span></span><span style=\"border-left: 0.003em solid; display: inline-block; overflow: hidden; width: 0px; height: 0.892em; vertical-align: -0.053em;\"></span></span></nobr></span><script type=\"math/tex\" id=\"MathJax-Element-13\">P</script> on joint statistics of <span class=\"MathJax_Preview\" style=\"color: inherit;\"></span><span class=\"MathJax\" id=\"MathJax-Element-14-Frame\" style=\"\"><nobr><span class=\"math\" id=\"MathJax-Span-37\" role=\"math\" style=\"width: 0.836em; display: inline-block;\"><span style=\"display: inline-block; position: relative; width: 0.697em; height: 0px; font-size: 120%;\"><span style=\"position: absolute; clip: rect(1.762em 1000em 2.456em -999.998em); top: -2.313em; left: 0.002em;\"><span class=\"mrow\" id=\"MathJax-Span-38\"><span class=\"mi\" id=\"MathJax-Span-39\" style=\"font-family: STIXMathJax_Main-italic;\">ω</span></span><span style=\"display: inline-block; width: 0px; height: 2.317em;\"></span></span></span><span style=\"border-left: 0.003em solid; display: inline-block; overflow: hidden; width: 0px; height: 0.669em; vertical-align: -0.053em;\"></span></span></nobr></span><script type=\"math/tex\" id=\"MathJax-Element-14\">\\omega</script> and <span class=\"MathJax_Preview\" style=\"color: inherit;\"></span><span class=\"MathJax\" id=\"MathJax-Element-15-Frame\" style=\"\"><nobr><span class=\"math\" id=\"MathJax-Span-40\" role=\"math\" style=\"width: 1.299em; display: inline-block;\"><span style=\"display: inline-block; position: relative; width: 1.067em; height: 0px; font-size: 120%;\"><span style=\"position: absolute; clip: rect(1.299em 1000em 2.595em -999.998em); top: -2.22em; left: 0.002em;\"><span class=\"mrow\" id=\"MathJax-Span-41\"><span class=\"msubsup\" id=\"MathJax-Span-42\"><span style=\"display: inline-block; position: relative; width: 1.067em; height: 0px;\"><span style=\"position: absolute; clip: rect(3.382em 1000em 4.354em -999.998em); top: -3.979em; left: 0.002em;\"><span class=\"mi\" id=\"MathJax-Span-43\" style=\"font-family: STIXMathJax_Main-italic;\">q</span><span style=\"display: inline-block; width: 0px; height: 3.984em;\"></span></span><span style=\"position: absolute; clip: rect(3.428em 1000em 4.123em -999.998em); top: -4.35em; left: 0.512em;\"><span class=\"mo\" id=\"MathJax-Span-44\" style=\"font-size: 70.7%; font-family: STIXMathJax_Main;\">⋆</span><span style=\"display: inline-block; width: 0px; height: 3.984em;\"></span></span><span style=\"position: absolute; clip: rect(3.521em 1000em 4.123em -999.998em); top: -3.84em; left: 0.512em;\"><span class=\"mi\" id=\"MathJax-Span-45\" style=\"font-size: 70.7%; font-family: STIXMathJax_Main-italic;\">v</span><span style=\"display: inline-block; width: 0px; height: 3.984em;\"></span></span></span></span></span><span style=\"display: inline-block; width: 0px; height: 2.225em;\"></span></span></span><span style=\"border-left: 0.003em solid; display: inline-block; overflow: hidden; width: 0px; height: 1.281em; vertical-align: -0.331em;\"></span></span></nobr></span><script type=\"math/tex\" id=\"MathJax-Element-15\">q_v^\\star</script></a></div><div class=\"lev1\"><a href=\"#Save-all-variables-in-dataframe\"><span class=\"toc-item-num\">2&nbsp;&nbsp;</span>Save all variables in dataframe</a></div>"
   ]
  },
  {
   "cell_type": "code",
   "execution_count": 1,
   "metadata": {
    "ExecuteTime": {
     "end_time": "2017-11-30T20:40:28.280889",
     "start_time": "2017-11-30T20:40:27.119213Z"
    },
    "collapsed": false,
    "run_control": {
     "frozen": false,
     "read_only": false
    }
   },
   "outputs": [],
   "source": [
    "%load_ext autoreload\n",
    "%matplotlib inline"
   ]
  },
  {
   "cell_type": "code",
   "execution_count": 2,
   "metadata": {
    "ExecuteTime": {
     "end_time": "2017-11-30T20:40:31.108057",
     "start_time": "2017-11-30T20:40:28.283488Z"
    },
    "collapsed": false,
    "run_control": {
     "frozen": false,
     "read_only": false
    }
   },
   "outputs": [
    {
     "name": "stdout",
     "output_type": "stream",
     "text": [
      "-- loading modules\n",
      "\n",
      "Own modules available: ['CAMsettings', 'daskOptions', 'environmentAndDirectories', 'importingData', 'outputResults', 'physicalConstants', 'plot1DInvLog', 'plot2D', 'plotMaps', 'scalingApproximations', 'slicingAndSubsetting', 'statisticalDistributions', 'thermoConstants', 'thermoFunctions']\n"
     ]
    }
   ],
   "source": [
    "%autoreload 2\n",
    "\n",
    "print(\"-- loading modules\")\n",
    "print()\n",
    "\n",
    "import numpy as np\n",
    "import numpy.ma as ma\n",
    "import dask.array as da\n",
    "import matplotlib\n",
    "# matplotlib.use(\"PDF\")\n",
    "import matplotlib.pyplot as plt\n",
    "import datetime as dt\n",
    "import time\n",
    "import sys,os,glob\n",
    "from mpl_toolkits.basemap import Basemap\n",
    "from matplotlib.colors import LogNorm\n",
    "\n",
    "## Add own library to path\n",
    "workdir = os.getcwd()\n",
    "thismodule = sys.modules[__name__]\n",
    "moduledir = os.path.join(os.path.dirname(workdir),'functions')\n",
    "sys.path.insert(0,moduledir)\n",
    "print(\"Own modules available:\", [os.path.splitext(os.path.basename(x))[0]\n",
    "                                 for x in glob.glob(os.path.join(moduledir,'*.py'))])\n",
    "\n",
    "## Load own libraries\n",
    "from environmentAndDirectories import *\n",
    "from importingData import *\n",
    "from scalingApproximations import *\n",
    "from slicingAndSubsetting import *\n",
    "from thermoConstants import L_v,R_v\n",
    "from plotMaps import *\n",
    "from plot1DInvLog import *\n",
    "from plot2D import *\n",
    "from statisticalDistributions import *\n",
    "from outputResults import *\n",
    "\n",
    "## Graphical parameters\n",
    "plt.style.use(os.path.join(matplotlib.get_configdir(),'stylelib/presentation.mplstyle'))"
   ]
  },
  {
   "cell_type": "code",
   "execution_count": 3,
   "metadata": {
    "ExecuteTime": {
     "end_time": "2017-11-30T20:40:31.173873",
     "start_time": "2017-11-30T20:40:31.110930Z"
    },
    "collapsed": false,
    "run_control": {
     "frozen": false,
     "read_only": false
    }
   },
   "outputs": [
    {
     "name": "stdout",
     "output_type": "stream",
     "text": [
      "\n",
      "-- define global variables\n",
      "\n",
      "- choosing options:\n",
      "compset: FSPCAMm_AMIP\n",
      "experiment: piControl\n",
      "member: r1i1p1\n",
      "subset: tropics\n",
      "time_stride: 1d\n",
      "resolution: 3dx\n",
      "daskarray: False\n",
      "dates: ('185005010100', '185005020000')\n",
      "\n"
     ]
    }
   ],
   "source": [
    "print()\n",
    "print(\"-- define global variables\")\n",
    "print()\n",
    "\n",
    "print(\"- choosing options:\")\n",
    "compset = 'FSPCAMm_AMIP'\n",
    "experiment = 'piControl'\n",
    "member = 'r1i1p1'\n",
    "subset = 'tropics'\n",
    "time_stride = '1d'\n",
    "resolution = '3dx'\n",
    "daskarray = False\n",
    "tracktime = True\n",
    "dates = ('185005010100','185005020000')\n",
    "\n",
    "for v in ['compset','experiment','member','subset','time_stride','resolution',\\\n",
    "          'daskarray','dates']:\n",
    "    print(\"%s:\"%v,getattr(thismodule,v))\n",
    "\n",
    "# Figure output directory\n",
    "figdir = os.path.join(os.path.dirname(workdir),'figures','omega500tsps',compset,experiment,member,subset,\\\n",
    "                      time_stride,resolution)\n",
    "os.makedirs(figdir,exist_ok=True)\n",
    "\n",
    "# Results output directory\n",
    "resultdir = os.path.join(os.path.dirname(workdir),'results','omega500tsps',compset,experiment,member,subset,\\\n",
    "                      time_stride,resolution)\n",
    "os.makedirs(resultdir,exist_ok=True)\n",
    "\n",
    "print()"
   ]
  },
  {
   "cell_type": "code",
   "execution_count": 4,
   "metadata": {
    "ExecuteTime": {
     "end_time": "2017-11-30T20:40:31.210848",
     "start_time": "2017-11-30T20:40:31.176286Z"
    },
    "collapsed": true,
    "run_control": {
     "frozen": false,
     "read_only": false
    }
   },
   "outputs": [],
   "source": [
    "if tracktime:\n",
    "    t0 = time.time()"
   ]
  },
  {
   "cell_type": "code",
   "execution_count": 5,
   "metadata": {
    "ExecuteTime": {
     "end_time": "2017-11-30T20:40:32.671007",
     "start_time": "2017-11-30T20:40:31.213189Z"
    },
    "collapsed": false,
    "run_control": {
     "frozen": false,
     "read_only": false
    }
   },
   "outputs": [
    {
     "name": "stdout",
     "output_type": "stream",
     "text": [
      "-- load environment and variables\n",
      "\n",
      "Importing OMEGA, PRECT, TS, T, RELHUM, PS from 24 history files between 1850-05-01-03600 and 1850-05-02-00000\n",
      "CPU times: user 399 ms, sys: 328 ms, total: 727 ms\n",
      "Wall time: 1.42 s\n"
     ]
    }
   ],
   "source": [
    "%%time\n",
    "print(\"-- load environment and variables\")\n",
    "print()\n",
    "\n",
    "historyFilesSettings = getCAMHistoryFilesSettings()\n",
    "handle = 'h0'\n",
    "inputdir, inputdir_processed_day, inputdir_processed_1hr, inputdir_results, inputdir_fx = \\\n",
    "    getInputDirectories(compset,experiment)\n",
    "\n",
    "omega_id = 'OMEGA'\n",
    "pr_id = 'PRECT'\n",
    "ts_id = 'TS'\n",
    "ta_id = 'T'\n",
    "relhum_id = 'RELHUM'\n",
    "ps_id = 'PS'\n",
    "\n",
    "omega,pr,ts,ta,relhum,ps = getValues([omega_id,pr_id,ts_id,ta_id,relhum_id,ps_id],\n",
    "                                  compset,subset,experiment,time_stride,resolution,daskarray=daskarray,dates=dates,handle=handle)\n",
    "pr *= rho_l    # convert from m/s to kg/m2/s"
   ]
  },
  {
   "cell_type": "code",
   "execution_count": 6,
   "metadata": {
    "ExecuteTime": {
     "end_time": "2017-11-30T20:40:32.735664",
     "start_time": "2017-11-30T20:40:32.673634Z"
    },
    "collapsed": false,
    "run_control": {
     "frozen": false,
     "read_only": false
    },
    "scrolled": true
   },
   "outputs": [
    {
     "name": "stdout",
     "output_type": "stream",
     "text": [
      "- load geographic data\n"
     ]
    }
   ],
   "source": [
    "## Get longitude, latitude and landmask\n",
    "\n",
    "print(\"- load geographic data\")\n",
    "\n",
    "fh = Dataset(os.path.join(inputdir_fx,'landmask_fx_CESM111-SPCAM20_allExperiments_r0i0p0.nc'))\n",
    "lon1D = fh.variables['lon'][:]\n",
    "lat1D = fh.variables['lat'][:]\n",
    "lon2D, lat2D = np.meshgrid(lon1D,lat1D)\n",
    "lon2D = da.from_array(lon2D,chunks=lon2D.shape)\n",
    "lat2D = da.from_array(lat2D,chunks=lat2D.shape)\n",
    "\n",
    "landmask = fh.variables['landmask']\n",
    "fh.close()\n"
   ]
  },
  {
   "cell_type": "code",
   "execution_count": 7,
   "metadata": {
    "ExecuteTime": {
     "end_time": "2017-11-30T20:40:32.781661",
     "start_time": "2017-11-30T20:40:32.738406Z"
    },
    "collapsed": false,
    "run_control": {
     "frozen": false,
     "read_only": false
    },
    "scrolled": true
   },
   "outputs": [
    {
     "name": "stdout",
     "output_type": "stream",
     "text": [
      "- compute pressure levels\n"
     ]
    }
   ],
   "source": [
    "print(\"- compute pressure levels\")\n",
    "\n",
    "input_lev_file = os.path.join(inputdir_fx,'lev_fx_CESM111-SPCAM20_allExperiments_r0i0p0.nc')\n",
    "computeP = getPressureCoordinateFunction(input_lev_file)\n",
    "pres = computeP(ps)\n",
    "\n",
    "cn = getArrayType(pres)"
   ]
  },
  {
   "cell_type": "markdown",
   "metadata": {},
   "source": [
    "# Derive scaling"
   ]
  },
  {
   "cell_type": "code",
   "execution_count": 8,
   "metadata": {
    "ExecuteTime": {
     "end_time": "2017-11-30T20:40:32.817414",
     "start_time": "2017-11-30T20:40:32.784584Z"
    },
    "collapsed": false,
    "run_control": {
     "frozen": false,
     "read_only": false
    }
   },
   "outputs": [
    {
     "name": "stdout",
     "output_type": "stream",
     "text": [
      "\n",
      "-- compute (percentile-wise and pointwise) scaling approximation\n",
      "\n"
     ]
    }
   ],
   "source": [
    "print()\n",
    "print(\"-- compute (percentile-wise and pointwise) scaling approximation\")\n",
    "print()"
   ]
  },
  {
   "cell_type": "code",
   "execution_count": 9,
   "metadata": {
    "ExecuteTime": {
     "end_time": "2017-11-30T20:40:32.868175",
     "start_time": "2017-11-30T20:40:32.822039Z"
    },
    "collapsed": false,
    "run_control": {
     "frozen": false,
     "marked": false,
     "read_only": false
    }
   },
   "outputs": [
    {
     "name": "stdout",
     "output_type": "stream",
     "text": [
      "compute 2D surfaces of predictor variables\n",
      "CPU times: user 11.4 ms, sys: 1.87 ms, total: 13.3 ms\n",
      "Wall time: 12.6 ms\n"
     ]
    }
   ],
   "source": [
    "%%time\n",
    "print(\"compute 2D surfaces of predictor variables\")\n",
    "p_500 = 50000\n",
    "p_925 = 92500; levdim=1\n",
    "omega_500 = isobaricSurface(omega,pres,p_ref=p_500,levdim=levdim)\n",
    "use925 = True\n",
    "if use925:\n",
    "    ta_925 = isobaricSurface(ta,pres,p_ref=p_925,levdim=levdim) \n",
    "    qvstar_s = saturationSpecificHumidity(ta_925,p_925*np.ones(ps.shape))\n",
    "else:\n",
    "    qvstar_s = saturationSpecificHumidity(ts,ps)"
   ]
  },
  {
   "cell_type": "code",
   "execution_count": 10,
   "metadata": {
    "ExecuteTime": {
     "end_time": "2017-11-30T20:40:32.941763",
     "start_time": "2017-11-30T20:40:32.870214Z"
    },
    "collapsed": false,
    "run_control": {
     "frozen": false,
     "read_only": false
    },
    "scrolled": false
   },
   "outputs": [
    {
     "name": "stdout",
     "output_type": "stream",
     "text": [
      "Compute ranks and ranks locations\n",
      "0.0000 20.5672 36.9043 49.8813 60.1893 68.3772 74.8811 80.0474 84.1511 87.4107 90.0000 92.0567 93.6904 94.9881 96.0189 96.8377 97.4881 98.0047 98.4151 98.7411 99.0000 99.2057 99.3690 99.4988 99.6019 99.6838 99.7488 99.8005 99.8415 99.8741 99.9000 \n",
      "CPU times: user 10.9 ms, sys: 4.98 ms, total: 15.9 ms\n",
      "Wall time: 13.4 ms\n"
     ]
    }
   ],
   "source": [
    "%%time\n",
    "print(\"Compute ranks and ranks locations\")\n",
    "\n",
    "n_pts = pr.size\n",
    "Q_IL = getInvLogRanks(n_pts,n_pts_per_bin=1,fill_last_decade=True)\n",
    "i_Q = indexOfRank(99.9,Q_IL)\n",
    "iQ_slice = slice(i_Q-5,i_Q+5)\n",
    "ranks, centers, bins = computePercentilesAndBinsFromRanks(pr.flatten(),Q_IL)\n",
    "iQ_min = 8\n",
    "iQ_max = min(len(Q_IL),41)\n",
    "# iQ_max = min(len(Q_IL),iQ_slice.stop)\n",
    "\n",
    "# Define reference percentiles and compute percentiles\n",
    "targetranks = Q_IL[iQ_min:iQ_max]\n",
    "ranks_ref = Q_IL[:iQ_max]\n",
    "percentiles = adjustRanks(centers,ranks,ranks_ref)\n",
    "\n",
    "# Suffix to save figures and results\n",
    "output_suffix = 'Q%d-Q%d_%s'%(iQ_min,iQ_max,'-'.join(dates))\n",
    "\n",
    "rank_locations= {}\n",
    "for rank in ranks_ref:\n",
    "    rank_id  = \"%2.4f\"%rank\n",
    "    print(rank_id,end=' ')\n",
    "    rank_locations[rank_id] = getRankLocations(rank,pr,ranks,bins,rank_locations)\n",
    "print()"
   ]
  },
  {
   "cell_type": "code",
   "execution_count": 11,
   "metadata": {
    "ExecuteTime": {
     "end_time": "2017-11-30T20:40:32.987237",
     "start_time": "2017-11-30T20:40:32.944153Z"
    },
    "collapsed": false,
    "run_control": {
     "frozen": false,
     "read_only": false
    }
   },
   "outputs": [
    {
     "name": "stdout",
     "output_type": "stream",
     "text": [
      "compute sample size in each bin\n",
      "104.0 480\n"
     ]
    }
   ],
   "source": [
    "print(\"compute sample size in each bin\")\n",
    "N_prQ = sampleSizeAtAllRanks(targetranks,pr,ranks_ref,rank_locations=rank_locations)\n",
    "print(np.nansum(N_prQ),pr.size)"
   ]
  },
  {
   "cell_type": "code",
   "execution_count": 12,
   "metadata": {
    "ExecuteTime": {
     "end_time": "2017-11-30T20:40:34.493868",
     "start_time": "2017-11-30T20:40:32.991055Z"
    },
    "collapsed": false,
    "run_control": {
     "frozen": false,
     "read_only": false
    }
   },
   "outputs": [
    {
     "name": "stdout",
     "output_type": "stream",
     "text": [
      "> Plot sample size in each percentile bin\n"
     ]
    },
    {
     "data": {
      "image/png": "[encoded data removed]",
      "text/plain": [
       "<matplotlib.figure.Figure at 0x1a16b56fd0>"
      ]
     },
     "metadata": {},
     "output_type": "display_data"
    }
   ],
   "source": [
    "print(\"> Plot sample size in each percentile bin\")\n",
    "\n",
    "fig, ax = plt.subplots(ncols=1,nrows=1,figsize=(5,4.5))\n",
    "\n",
    "ax.set_yscale('log')\n",
    "\n",
    "# Add zero line\n",
    "addZeroLine(ax,ranks_ref)\n",
    "\n",
    "# Grey shading\n",
    "i_Q_lims = (iQ_slice.start, iQ_slice.stop-1)\n",
    "subplotXShadingRanksILog(ax,ranks_ref,i_Q_lims,alpha=0.15,transformX=False)\n",
    "\n",
    "subplotRanksILog(ax,ranks_ref,\n",
    "                 N_prQ,\n",
    "                 col='k',ltype='-',transformX=False)\n",
    "\n",
    "addXHatchRanksILog(ax,ranks_ref,(0,iQ_min),transformX=True)\n",
    "\n",
    "ax.set_xlabel('Percentile rank (%)')\n",
    "ax.set_ylabel('Sample size (#)')\n",
    "\n",
    "plt.savefig(os.path.join(figdir,'sample_size_in_P_bins_%s.pdf'%output_suffix),\n",
    "            bbox_inches='tight')\n",
    "\n",
    "plt.show()"
   ]
  },
  {
   "cell_type": "code",
   "execution_count": 13,
   "metadata": {
    "ExecuteTime": {
     "end_time": "2017-11-30T20:40:34.534076",
     "start_time": "2017-11-30T20:40:34.496523Z"
    },
    "collapsed": false,
    "run_control": {
     "frozen": false,
     "read_only": false
    },
    "scrolled": false
   },
   "outputs": [
    {
     "name": "stdout",
     "output_type": "stream",
     "text": [
      "compute pointwise scaling\n",
      "eps = 0.628423682822\n",
      "CPU times: user 5.73 ms, sys: 1.32 ms, total: 7.05 ms\n",
      "Wall time: 8.52 ms\n"
     ]
    }
   ],
   "source": [
    "%%time\n",
    "print(\"compute pointwise scaling\")\n",
    "eps, pr_sc_vQ = computeScalingOmegaQAtAllRanks(targetranks,omega_500,qvstar_s,pr,ranks_ref=ranks_ref[iQ_slice],\n",
    "                                               percentiles_ref=percentiles[iQ_slice],\n",
    "                                               bins=bins,rank_locations=rank_locations)\n",
    "pr_sc_vQ = adjustRanks(pr_sc_vQ,targetranks,ranks_ref)\n",
    "pr_sc = singleLevelScalingFromOmegaQ(omega_500,qvstar_s,efficiency=eps)\n",
    "print(\"eps =\",eps)"
   ]
  },
  {
   "cell_type": "code",
   "execution_count": 14,
   "metadata": {
    "ExecuteTime": {
     "end_time": "2017-11-30T20:40:34.629202",
     "start_time": "2017-11-30T20:40:34.536992Z"
    },
    "collapsed": false,
    "run_control": {
     "frozen": false,
     "read_only": false
    },
    "scrolled": false
   },
   "outputs": [
    {
     "name": "stdout",
     "output_type": "stream",
     "text": [
      "compute O'Gorman&Schneider scaling with environmental temperature profile\n",
      "eps_OGS09 = 0.96748753506\n",
      "CPU times: user 32.6 ms, sys: 1.6 ms, total: 34.2 ms\n",
      "Wall time: 33.8 ms\n"
     ]
    }
   ],
   "source": [
    "%%time\n",
    "print(\"compute O'Gorman&Schneider scaling with environmental temperature profile\")\n",
    "eps_OGS09, pr_scOGS09_vQ = computeScalingOGS09AtAllRanks(targetranks,omega,ta,pres,pr,\n",
    "    ranks_ref=ranks_ref[iQ_slice],percentiles_ref=percentiles[iQ_slice],bins=bins,\n",
    "                                                         rank_locations=rank_locations)\n",
    "pr_scOGS09_vQ = adjustRanks(pr_scOGS09_vQ,targetranks,ranks_ref)\n",
    "pr_scOGS09 = scalingOGS09(omega,ta,pres,efficiency=eps_OGS09,levdim=1)\n",
    "print(\"eps_OGS09 =\",eps_OGS09)"
   ]
  },
  {
   "cell_type": "code",
   "execution_count": 15,
   "metadata": {
    "ExecuteTime": {
     "end_time": "2017-11-30T20:40:34.854703",
     "start_time": "2017-11-30T20:40:34.631373Z"
    },
    "collapsed": false,
    "run_control": {
     "frozen": false,
     "read_only": false
    },
    "scrolled": true
   },
   "outputs": [
    {
     "name": "stdout",
     "output_type": "stream",
     "text": [
      "compute O'Gorman&Schneider scaling with moist adiabat\n",
      "eps_OGS09ad = 1.03509371579\n",
      "CPU times: user 172 ms, sys: 4.14 ms, total: 176 ms\n",
      "Wall time: 175 ms\n"
     ]
    }
   ],
   "source": [
    "%%time\n",
    "print(\"compute O'Gorman&Schneider scaling with moist adiabat\")\n",
    "# Get temperature values at lowest level\n",
    "levdim = 1\n",
    "nlev = pres.shape[levdim]\n",
    "i_bottom = bottomIndex(np.moveaxis(pres,levdim,-1).ravel()[-nlev:])\n",
    "ta_bottom = np.take(ta,axis=levdim,indices=i_bottom)\n",
    "# Compute scaling\n",
    "eps_OGS09ad, pr_scOGS09ad_vQ = computeScalingOGS09AtAllRanks(targetranks,omega,ta_bottom,pres,pr,\n",
    "    temp_type='adiabat',relhum=relhum,ranks_ref=ranks_ref[iQ_slice],percentiles_ref=percentiles[iQ_slice],bins=bins,\n",
    "                                                         rank_locations=rank_locations)\n",
    "pr_scOGS09ad_vQ = adjustRanks(pr_scOGS09ad_vQ,targetranks,ranks_ref)\n",
    "pr_scOGS09ad = scalingOGS09(omega,ta_bottom,pres,temp_type='adiabat',relhum=relhum,efficiency=eps_OGS09ad,levdim=1)\n",
    "print(\"eps_OGS09ad =\",eps_OGS09ad)"
   ]
  },
  {
   "cell_type": "code",
   "execution_count": 16,
   "metadata": {
    "ExecuteTime": {
     "end_time": "2017-11-30T20:40:34.983497",
     "start_time": "2017-11-30T20:40:34.857345Z"
    },
    "collapsed": false,
    "run_control": {
     "frozen": false,
     "read_only": false
    },
    "scrolled": false
   },
   "outputs": [
    {
     "name": "stdout",
     "output_type": "stream",
     "text": [
      "compute extended O'Gorman&Schneider scaling with environmental temperature profile\n",
      "(1, 10, 48)\n",
      "fracarea_boost = 0.911369507082\n",
      "entrainment = -0.000208307593185\n",
      "CPU times: user 73.4 ms, sys: 4.14 ms, total: 77.6 ms\n",
      "Wall time: 83.4 ms\n"
     ]
    },
    {
     "name": "stderr",
     "output_type": "stream",
     "text": [
      "/Users/bfildier/anaconda/envs/py36/lib/python3.6/site-packages/scipy/optimize/minpack.py:779: OptimizeWarning: Covariance of the parameters could not be estimated\n",
      "  category=OptimizeWarning)\n"
     ]
    }
   ],
   "source": [
    "%%time\n",
    "print(\"compute extended O'Gorman&Schneider scaling with environmental temperature profile\")\n",
    "fracarea_boost, entrainment, pr_scRH_vQ = computeScalingRHAtAllRanks(targetranks,omega,ta,pres,relhum,pr,\n",
    "    ranks_ref=ranks_ref[iQ_slice],bins=bins,rank_locations=rank_locations)\n",
    "pr_scRH_vQ = adjustRanks(pr_scRH_vQ,targetranks,ranks_ref)\n",
    "pr_scRH = scalingRH(omega,ta,pres,relhum,fracarea_boost=fracarea_boost,entrainment=entrainment,levdim=1)\n",
    "print(pr_scRH.shape)\n",
    "print(\"fracarea_boost =\",fracarea_boost)\n",
    "print(\"entrainment =\",entrainment)"
   ]
  },
  {
   "cell_type": "code",
   "execution_count": 17,
   "metadata": {
    "ExecuteTime": {
     "end_time": "2017-11-30T20:40:35.231949",
     "start_time": "2017-11-30T20:40:34.985940Z"
    },
    "collapsed": false,
    "run_control": {
     "frozen": false,
     "read_only": false
    }
   },
   "outputs": [
    {
     "name": "stdout",
     "output_type": "stream",
     "text": [
      "compute extended O'Gorman&Schneider scaling with moist adiabat\n"
     ]
    },
    {
     "name": "stderr",
     "output_type": "stream",
     "text": [
      "/Users/bfildier/anaconda/envs/py36/lib/python3.6/site-packages/scipy/optimize/minpack.py:779: OptimizeWarning: Covariance of the parameters could not be estimated\n",
      "  category=OptimizeWarning)\n"
     ]
    },
    {
     "name": "stdout",
     "output_type": "stream",
     "text": [
      "(1, 10, 48)\n",
      "fracarea_boost = 1.45048400165\n",
      "entrainment = 0.00142816257631\n",
      "CPU times: user 199 ms, sys: 10.8 ms, total: 210 ms\n",
      "Wall time: 205 ms\n"
     ]
    }
   ],
   "source": [
    "%%time\n",
    "print(\"compute extended O'Gorman&Schneider scaling with moist adiabat\")\n",
    "# Get temperature values at lowest level\n",
    "levdim = 1\n",
    "nlev = pres.shape[levdim]\n",
    "i_bottom = bottomIndex(np.moveaxis(pres,levdim,-1).ravel()[-nlev:])\n",
    "ta_bottom = np.take(ta,axis=levdim,indices=i_bottom)\n",
    "# Compute scaling\n",
    "fracarea_boost_ad, entrainment_ad, pr_scRHad_vQ = computeScalingRHAtAllRanks(targetranks,omega,ta_bottom,pres,relhum,pr,\n",
    "    temp_type='adiabat',ranks_ref=ranks_ref[iQ_slice],bins=bins,rank_locations=rank_locations)\n",
    "pr_scRHad_vQ = adjustRanks(pr_scRHad_vQ,targetranks,ranks_ref)\n",
    "pr_scRHad = scalingRH(omega,ta_bottom,pres,relhum,fracarea_boost=fracarea_boost_ad,entrainment=entrainment_ad,\n",
    "                    temp_type='adiabat',levdim=1)\n",
    "print(pr_scRHad.shape)\n",
    "print(\"fracarea_boost =\",fracarea_boost_ad)\n",
    "print(\"entrainment =\",entrainment_ad)"
   ]
  },
  {
   "cell_type": "markdown",
   "metadata": {},
   "source": [
    "## Compute statistics"
   ]
  },
  {
   "cell_type": "markdown",
   "metadata": {},
   "source": [
    "### 1D PDFs"
   ]
  },
  {
   "cell_type": "code",
   "execution_count": 18,
   "metadata": {
    "ExecuteTime": {
     "end_time": "2017-11-30T20:40:35.270849",
     "start_time": "2017-11-30T20:40:35.234733Z"
    },
    "collapsed": false,
    "run_control": {
     "frozen": false,
     "read_only": false
    },
    "scrolled": false
   },
   "outputs": [
    {
     "name": "stdout",
     "output_type": "stream",
     "text": [
      "\n",
      "-- compute statistics\n",
      "\n"
     ]
    }
   ],
   "source": [
    "print()\n",
    "print(\"-- compute statistics\")\n",
    "print()"
   ]
  },
  {
   "cell_type": "code",
   "execution_count": 19,
   "metadata": {
    "ExecuteTime": {
     "end_time": "2017-11-30T20:40:35.328806",
     "start_time": "2017-11-30T20:40:35.273287Z"
    },
    "collapsed": false,
    "run_control": {
     "frozen": false,
     "read_only": false
    },
    "scrolled": false
   },
   "outputs": [
    {
     "name": "stdout",
     "output_type": "stream",
     "text": [
      "mean of scalings in pr bins\n"
     ]
    }
   ],
   "source": [
    "# %%time\n",
    "print(\"mean of scalings in pr bins\")\n",
    "pr_sc_prQ = meanXAtAllYRanks(targetranks,pr_sc,pr,ranks_ref,rank_locations=rank_locations)\n",
    "pr_scOGS09_prQ = meanXAtAllYRanks(targetranks,pr_scOGS09,pr,ranks_ref,rank_locations=rank_locations)\n",
    "pr_scOGS09ad_prQ = meanXAtAllYRanks(targetranks,pr_scOGS09ad,pr,ranks_ref,rank_locations=rank_locations)\n",
    "pr_scRH_prQ = meanXAtAllYRanks(targetranks,pr_scRH,pr,ranks_ref,rank_locations=rank_locations)\n",
    "pr_scRHad_prQ = meanXAtAllYRanks(targetranks,pr_scRHad,pr,ranks_ref,rank_locations=rank_locations)"
   ]
  },
  {
   "cell_type": "code",
   "execution_count": 20,
   "metadata": {
    "ExecuteTime": {
     "end_time": "2017-11-30T20:40:35.409696",
     "start_time": "2017-11-30T20:40:35.330933Z"
    },
    "code_folding": [],
    "collapsed": false,
    "hide_input": false,
    "run_control": {
     "frozen": false,
     "read_only": false
    }
   },
   "outputs": [
    {
     "name": "stdout",
     "output_type": "stream",
     "text": [
      "interquartile and 90% ranges\n",
      "CPU times: user 37.3 ms, sys: 1.52 ms, total: 38.9 ms\n",
      "Wall time: 39.8 ms\n"
     ]
    }
   ],
   "source": [
    "%%time\n",
    "print(\"interquartile and 90% ranges\")\n",
    "ranks_I90 = (5,95)\n",
    "ranks_IQR = (25,75)\n",
    "\n",
    "pr_sc_I90 = XPercentilesAtAllYRanks(targetranks,pr_sc,ranks_I90,pr,ranks_ref,rank_locations_X=rank_locations)\n",
    "pr_sc_IQR = XPercentilesAtAllYRanks(targetranks,pr_sc,ranks_IQR,pr,ranks_ref,rank_locations_X=rank_locations)\n",
    "\n",
    "pr_scOGS09_I90 = XPercentilesAtAllYRanks(targetranks,pr_scOGS09,ranks_I90,pr,ranks_ref,rank_locations_X=rank_locations)\n",
    "pr_scOGS09_IQR = XPercentilesAtAllYRanks(targetranks,pr_scOGS09,ranks_IQR,pr,ranks_ref,rank_locations_X=rank_locations)\n",
    "\n",
    "pr_scOGS09ad_I90 = XPercentilesAtAllYRanks(targetranks,pr_scOGS09ad,ranks_I90,pr,ranks_ref,rank_locations_X=rank_locations)\n",
    "pr_scOGS09ad_IQR = XPercentilesAtAllYRanks(targetranks,pr_scOGS09ad,ranks_IQR,pr,ranks_ref,rank_locations_X=rank_locations)\n",
    "\n",
    "pr_scRH_I90 = XPercentilesAtAllYRanks(targetranks,pr_scRH,ranks_I90,pr,ranks_ref,rank_locations_X=rank_locations)\n",
    "pr_scRH_IQR = XPercentilesAtAllYRanks(targetranks,pr_scRH,ranks_IQR,pr,ranks_ref,rank_locations_X=rank_locations)\n",
    "\n",
    "pr_scRHad_I90 = XPercentilesAtAllYRanks(targetranks,pr_scRHad,ranks_I90,pr,ranks_ref,rank_locations_X=rank_locations)\n",
    "pr_scRHad_IQR = XPercentilesAtAllYRanks(targetranks,pr_scRHad,ranks_IQR,pr,ranks_ref,rank_locations_X=rank_locations)\n"
   ]
  },
  {
   "cell_type": "code",
   "execution_count": 21,
   "metadata": {
    "ExecuteTime": {
     "end_time": "2017-11-30T20:40:40.808143",
     "start_time": "2017-11-30T20:40:35.412696Z"
    },
    "collapsed": false,
    "run_control": {
     "frozen": false,
     "marked": false,
     "read_only": false
    },
    "scrolled": false
   },
   "outputs": [
    {
     "name": "stdout",
     "output_type": "stream",
     "text": [
      "> plot PDF with scaling and variability\n",
      "- scaling sc\n"
     ]
    },
    {
     "data": {
      "image/png": "[encoded data removed]",
      "text/plain": [
       "<matplotlib.figure.Figure at 0x1a174732e8>"
      ]
     },
     "metadata": {},
     "output_type": "display_data"
    },
    {
     "name": "stdout",
     "output_type": "stream",
     "text": [
      "- scaling scOGS09\n"
     ]
    },
    {
     "data": {
      "image/png": "[encoded data removed]",
      "text/plain": [
       "<matplotlib.figure.Figure at 0x1a17da1da0>"
      ]
     },
     "metadata": {},
     "output_type": "display_data"
    },
    {
     "name": "stdout",
     "output_type": "stream",
     "text": [
      "- scaling scOGS09ad\n"
     ]
    },
    {
     "data": {
      "image/png": "[encoded data removed]",
      "text/plain": [
       "<matplotlib.figure.Figure at 0x1a179a7320>"
      ]
     },
     "metadata": {},
     "output_type": "display_data"
    },
    {
     "name": "stdout",
     "output_type": "stream",
     "text": [
      "- scaling scRH\n"
     ]
    },
    {
     "data": {
      "image/png": "[encoded data removed]",
      "text/plain": [
       "<matplotlib.figure.Figure at 0x1a1749e828>"
      ]
     },
     "metadata": {},
     "output_type": "display_data"
    },
    {
     "name": "stdout",
     "output_type": "stream",
     "text": [
      "- scaling scRHad\n"
     ]
    },
    {
     "data": {
      "image/png": "[encoded data removed]",
      "text/plain": [
       "<matplotlib.figure.Figure at 0x1a17ee0828>"
      ]
     },
     "metadata": {},
     "output_type": "display_data"
    }
   ],
   "source": [
    "print(\"> plot PDF with scaling and variability\")\n",
    "\n",
    "scaling_names = 'sc','scOGS09','scOGS09ad','scRH','scRHad'\n",
    "\n",
    "for sc_name in scaling_names:\n",
    "\n",
    "    print(\"- scaling %s\"%sc_name)\n",
    "\n",
    "    for suffix in 'prQ','vQ','IQR','I90':\n",
    "        setattr(thismodule,'var_%s'%suffix,getattr(thismodule,'pr_%s_%s'%(sc_name,suffix)))\n",
    "    \n",
    "    fig, ax = plt.subplots(ncols=1,nrows=1,figsize=(5,4.5))\n",
    "\n",
    "    ax.set_yscale('log')\n",
    "    ax.set_ylim((1e-6,3e-3))\n",
    "\n",
    "    # Grey shading \n",
    "    i_Q_lims = (iQ_slice.start, iQ_slice.stop-1)\n",
    "    subplotXShadingRanksILog(ax,ranks_ref,i_Q_lims,alpha=0.15,transformX=False)\n",
    "    # 90% confidence interval for pointwise scaling 2\n",
    "    subplotYShadingRanksILog(ax,ranks_ref,[var_I90[:,0],var_IQR[:,1]],col='green',transformX=False)\n",
    "    # Interquartile range for pointwise scaling 2\n",
    "    subplotYShadingRanksILog(ax,ranks_ref,[var_IQR[:,0],var_IQR[:,1]],col='green',transformX=False)\n",
    "    # Mean of pointwise scaling 2\n",
    "    subplotRanksILog(ax,ranks_ref,[percentiles,var_prQ,var_vQ],col=['k','green','k'],ltype=['-','-',':'],\\\n",
    "                     transformX=False)\n",
    "\n",
    "    addXHatchRanksILog(ax,ranks_ref,(0,iQ_min),transformX=True)\n",
    "\n",
    "    ax.set_xlabel('Percentile rank (%)')\n",
    "    ax.set_ylabel('Rainfall Intensity (kg/m2/s)')\n",
    "    # ax.set_title(r'$\\varepsilon\\omega_{500}q_v^\\star(T)$')\n",
    "\n",
    "    plt.savefig(os.path.join(figdir,'pdf_P_and_P%s_mean_IQR_I90_%s.pdf'%(sc_name,output_suffix)),\n",
    "                bbox_inches='tight')\n",
    "\n",
    "    plt.show()"
   ]
  },
  {
   "cell_type": "markdown",
   "metadata": {},
   "source": [
    "### PDF of scaling in percentile bins of pr"
   ]
  },
  {
   "cell_type": "code",
   "execution_count": 22,
   "metadata": {
    "ExecuteTime": {
     "end_time": "2017-11-30T20:40:40.847770",
     "start_time": "2017-11-30T20:40:40.810647Z"
    },
    "collapsed": false,
    "run_control": {
     "frozen": false,
     "read_only": false
    }
   },
   "outputs": [
    {
     "name": "stdout",
     "output_type": "stream",
     "text": [
      "\n",
      "-- compute PDF of scalings in percentile bins of pr\n",
      "\n"
     ]
    }
   ],
   "source": [
    "print()\n",
    "print(\"-- compute PDF of scalings in percentile bins of pr\")\n",
    "print()"
   ]
  },
  {
   "cell_type": "code",
   "execution_count": 23,
   "metadata": {
    "ExecuteTime": {
     "end_time": "2017-11-30T20:40:50.108274",
     "start_time": "2017-11-30T20:40:50.081207Z"
    },
    "collapsed": false,
    "run_control": {
     "frozen": false,
     "read_only": false
    }
   },
   "outputs": [
    {
     "name": "stdout",
     "output_type": "stream",
     "text": [
      "reference Q_slices\n"
     ]
    }
   ],
   "source": [
    "print(\"reference Q_slices\")\n",
    "iQ_slices = [slice(i_Q-k,i_Q+k) for k in range(1,6)]"
   ]
  },
  {
   "cell_type": "code",
   "execution_count": 26,
   "metadata": {
    "ExecuteTime": {
     "end_time": "2017-11-30T20:43:10.980976",
     "start_time": "2017-11-30T20:43:10.867607Z"
    },
    "collapsed": false,
    "run_control": {
     "frozen": false,
     "read_only": false
    }
   },
   "outputs": [
    {
     "name": "stdout",
     "output_type": "stream",
     "text": [
      "- pr_sc\n",
      "Q-slice 99.8741-99.9000\n",
      "Q-slice 99.8415-99.9000\n",
      "Q-slice 99.8005-99.9000\n",
      "Q-slice 99.7488-99.9000\n",
      "Q-slice 99.6838-99.9000\n",
      "- pr_scOGS09\n",
      "Q-slice 99.8741-99.9000\n",
      "Q-slice 99.8415-99.9000\n",
      "Q-slice 99.8005-99.9000\n",
      "Q-slice 99.7488-99.9000\n",
      "Q-slice 99.6838-99.9000\n",
      "- pr_scOGS09ad\n",
      "Q-slice 99.8741-99.9000\n",
      "Q-slice 99.8415-99.9000\n",
      "Q-slice 99.8005-99.9000\n",
      "Q-slice 99.7488-99.9000\n",
      "Q-slice 99.6838-99.9000\n",
      "- pr_scRH\n",
      "Q-slice 99.8741-99.9000\n",
      "Q-slice 99.8415-99.9000\n",
      "Q-slice 99.8005-99.9000\n",
      "Q-slice 99.7488-99.9000\n",
      "Q-slice 99.6838-99.9000\n",
      "- pr_scRHad\n",
      "Q-slice 99.8741-99.9000\n",
      "Q-slice 99.8415-99.9000\n",
      "Q-slice 99.8005-99.9000\n",
      "Q-slice 99.7488-99.9000\n",
      "Q-slice 99.6838-99.9000\n"
     ]
    }
   ],
   "source": [
    "varname_ref = 'pr'\n",
    "var_ref = getattr(thismodule,varname_ref)\n",
    "\n",
    "varnames = 'pr_sc','pr_scOGS09','pr_scOGS09ad','pr_scRH','pr_scRHad'\n",
    "\n",
    "for varname in varnames:\n",
    "    \n",
    "    print(\"- %s\"%varname)\n",
    "\n",
    "    var = getattr(thismodule,varname)\n",
    "\n",
    "    for k in range(len(iQ_slices)):\n",
    "        \n",
    "        iQ_min = min(iQ_slices[k].start,ranks_ref.size-1)\n",
    "        iQ_max = min(iQ_slices[k].stop,ranks_ref.size-1)\n",
    "\n",
    "        print(\"Q-slice %2.4f-%2.4f\"%(ranks_ref[iQ_min],ranks_ref[iQ_max]))\n",
    "\n",
    "        sample_all = []\n",
    "        for i in range(iQ_min,iQ_max):\n",
    "            stencil_Q = getStencilAtRank(ranks_ref[i],ranks_ref,bins,var_ref)\n",
    "            if stencil_Q.sum() != 0:\n",
    "                sample_all.append(var[stencil_Q])\n",
    "            \n",
    "        if len(sample_all) == 0:\n",
    "            sample = np.array([])\n",
    "        else:\n",
    "            sample = np.hstack(sample_all)\n",
    "        \n",
    "        # perc,b = defineLinearBins(sample,20)\n",
    "        ra,perc,b,den = compute1dDensities(sample,n_lin_bins=20)\n",
    "        # Save\n",
    "        ra_varname = 'ranks_%s_%s_Q%dQ%d'%(varname,varname_ref,iQ_min,iQ_max)\n",
    "        perc_varname = 'percentiles_%s_%s_Q%dQ%d'%(varname,varname_ref,iQ_min,iQ_max)\n",
    "        b_varname = 'bins_%s_%s_Q%dQ%d'%(varname,varname_ref,iQ_min,iQ_max)\n",
    "        den_varname = 'pdf1D_%s_%s_Q%dQ%d'%(varname,varname_ref,iQ_min,iQ_max)\n",
    "        setattr(thismodule,ra_varname,ra)\n",
    "        setattr(thismodule,perc_varname,perc)\n",
    "        setattr(thismodule,b_varname,b)\n",
    "        setattr(thismodule,den_varname,den)\n"
   ]
  },
  {
   "cell_type": "code",
   "execution_count": 28,
   "metadata": {
    "ExecuteTime": {
     "end_time": "2017-11-30T20:44:19.744468",
     "start_time": "2017-11-30T20:44:19.417881Z"
    },
    "collapsed": false,
    "run_control": {
     "frozen": false,
     "read_only": false
    }
   },
   "outputs": [
    {
     "name": "stdout",
     "output_type": "stream",
     "text": [
      "> Plot pdf of last computed conditioned on high percentiles of pr\n"
     ]
    },
    {
     "data": {
      "image/png": "[encoded data removed]",
      "text/plain": [
       "<matplotlib.figure.Figure at 0x1a17e45a58>"
      ]
     },
     "metadata": {},
     "output_type": "display_data"
    }
   ],
   "source": [
    "print(\"> Plot pdf of last computed conditioned on high percentiles of pr\")\n",
    "\n",
    "varname = 'pr_scOGS09'\n",
    "\n",
    "perc = getattr(thismodule,'percentiles_%s_%s_Q%dQ%d'%(varname,varname_ref,iQ_min,iQ_max))\n",
    "\n",
    "fig,ax = plt.subplots(figsize=(5.5,4.5))\n",
    "plt.plot(perc,den)\n",
    "ax.set_xlabel(\"%s | %s_%2.4f_%2.4f\"%(varname,varname_ref,ranks_ref[iQ_min],ranks_ref[iQ_max]))\n",
    "ax.set_ylabel('Density')\n",
    "\n",
    "plt.savefig(os.path.join(figdir,'conditional_pdf_%s_%s_%2.4f_%2.4f_%s.pdf'%(varname,varname_ref,\n",
    "                                                                            ranks_ref[iQ_min],\n",
    "                                                                            ranks_ref[iQ_max],\n",
    "                                                                            output_suffix)),\n",
    "                bbox_inches='tight')\n",
    "\n",
    "plt.show()"
   ]
  },
  {
   "cell_type": "markdown",
   "metadata": {},
   "source": [
    "### 2D PDFs"
   ]
  },
  {
   "cell_type": "code",
   "execution_count": 471,
   "metadata": {
    "ExecuteTime": {
     "end_time": "2017-11-30T08:31:19.996742",
     "start_time": "2017-11-30T08:31:19.968625Z"
    },
    "collapsed": false,
    "run_control": {
     "frozen": false,
     "read_only": false
    },
    "scrolled": true
   },
   "outputs": [
    {
     "name": "stdout",
     "output_type": "stream",
     "text": [
      "\n",
      "-- compute 2D PDF of scalings and pr\n",
      "\n"
     ]
    }
   ],
   "source": [
    "print()\n",
    "print(\"-- compute 2D PDF of scalings and pr\")\n",
    "print()"
   ]
  },
  {
   "cell_type": "code",
   "execution_count": 478,
   "metadata": {
    "ExecuteTime": {
     "end_time": "2017-11-30T08:36:47.921665",
     "start_time": "2017-11-30T08:36:46.193799Z"
    },
    "collapsed": false,
    "run_control": {
     "frozen": false,
     "read_only": false
    },
    "scrolled": false
   },
   "outputs": [
    {
     "name": "stdout",
     "output_type": "stream",
     "text": [
      "compute 2D PDFs\n"
     ]
    }
   ],
   "source": [
    "# %%time\n",
    "print(\"compute 2D PDFs\")\n",
    "\n",
    "all_pr_varnames = set({'pr','pr_sc','pr_scOGS09','pr_scOGS09ad','pr_scRH','pr_scRHad'})\n",
    "\n",
    "for varname1 in all_pr_varnames:\n",
    "    for varname2 in all_pr_varnames.difference(varname1):\n",
    "\n",
    "        var1 = getattr(thismodule,varname1)\n",
    "        var2 = getattr(thismodule,varname2)\n",
    "        \n",
    "        ranks1, percentiles1, bins1, ranks2, percentiles2, bins2, density2D = \\\n",
    "            compute2dStatsILOnRefRanks(var1,var2,ranks_ref)\n",
    "            \n",
    "        setattr(thismodule,\"density2D_%s_%s\"%(varname1,varname2),density2D)\n",
    "\n",
    "        N1 = sampleSizeAtAllRanks(ranks1,var1,ranks_ref,bins=bins1)\n",
    "        N2 = sampleSizeAtAllRanks(ranks2,var2,ranks_ref,bins=bins2)\n",
    "        norm_factor = normalize2dDensity(N1,N2,n_pts)\n",
    "\n",
    "        norm_density2D = density2D/norm_factor\n",
    "        setattr(thismodule,\"norm_density2D_%s_%s\"%(varname1,varname2),norm_density2D)\n",
    "        setattr(thismodule,\"N_%s\"%(varname1),N1)\n",
    "        setattr(thismodule,\"N_%s\"%(varname2),N2)"
   ]
  },
  {
   "cell_type": "code",
   "execution_count": 488,
   "metadata": {
    "ExecuteTime": {
     "end_time": "2017-11-30T08:43:25.660128",
     "start_time": "2017-11-30T08:43:14.637041Z"
    },
    "collapsed": false,
    "run_control": {
     "frozen": false,
     "read_only": false
    },
    "scrolled": false
   },
   "outputs": [
    {
     "name": "stdout",
     "output_type": "stream",
     "text": [
      "> plot 2D PDFs\n",
      "- pr_scRHad vs. pr_scRHad\n"
     ]
    },
    {
     "data": {
      "image/png": "[encoded data removed]",
      "text/plain": [
       "<matplotlib.figure.Figure at 0x1a112d0ac8>"
      ]
     },
     "metadata": {},
     "output_type": "display_data"
    },
    {
     "name": "stdout",
     "output_type": "stream",
     "text": [
      "- pr_scRH vs. pr_scRHad\n"
     ]
    },
    {
     "data": {
      "image/png": "[encoded data removed]",
      "text/plain": [
       "<matplotlib.figure.Figure at 0x1a19fc9a20>"
      ]
     },
     "metadata": {},
     "output_type": "display_data"
    },
    {
     "name": "stdout",
     "output_type": "stream",
     "text": [
      "- pr_sc vs. pr_scRHad\n"
     ]
    },
    {
     "data": {
      "image/png": "[encoded data removed]",
      "text/plain": [
       "<matplotlib.figure.Figure at 0x1a1a7889b0>"
      ]
     },
     "metadata": {},
     "output_type": "display_data"
    },
    {
     "name": "stdout",
     "output_type": "stream",
     "text": [
      "- pr vs. pr_scRHad\n"
     ]
    },
    {
     "data": {
      "image/png": "[encoded data removed]",
      "text/plain": [
       "<matplotlib.figure.Figure at 0x1a1ae48a58>"
      ]
     },
     "metadata": {},
     "output_type": "display_data"
    },
    {
     "name": "stdout",
     "output_type": "stream",
     "text": [
      "- pr_scOGS09ad vs. pr_scRHad\n"
     ]
    },
    {
     "data": {
      "image/png": "[encoded data removed]",
      "text/plain": [
       "<matplotlib.figure.Figure at 0x1a1b812ac8>"
      ]
     },
     "metadata": {},
     "output_type": "display_data"
    },
    {
     "name": "stdout",
     "output_type": "stream",
     "text": [
      "- pr_scOGS09 vs. pr_scRHad\n"
     ]
    },
    {
     "data": {
      "image/png": "[encoded data removed]",
      "text/plain": [
       "<matplotlib.figure.Figure at 0x1a19fdf860>"
      ]
     },
     "metadata": {},
     "output_type": "display_data"
    }
   ],
   "source": [
    "print(\"> plot 2D PDFs\")\n",
    "\n",
    "plotAll2dPDFs = True\n",
    "\n",
    "if plotAll2dPDFs:\n",
    "    \n",
    "    for varname1 in all_pr_varnames:\n",
    "        for varname2 in all_pr_varnames:\n",
    "            \n",
    "            print(\"- %s vs. %s\"%(varname2,varname1))\n",
    "\n",
    "            norm_density2D = getattr(thismodule,\"norm_density2D_%s_%s\"%(varname1,varname2))\n",
    "\n",
    "            fig, ax = plt.subplots(figsize=(5.5,4.5))\n",
    "\n",
    "            # cmap = plt.cm.RdBu_r\n",
    "            cmap = plt.cm.RdGy_r\n",
    "            # cmap = plt.cm.RdYlBu_r\n",
    "            # cmap = plt.cm.PRGn\n",
    "            \n",
    "            subplot2DRanksILog(ax,ranks_ref,ranks_ref,norm_density2D,cmap=cmap,\n",
    "                transformX=True,transformY=True,Z_mode='log')\n",
    "\n",
    "            add1to1Line(ax)\n",
    "\n",
    "            ax.set_xlabel('%s percentile rank (%%)'%varname1)\n",
    "            ax.set_ylabel('%s percentile rank (%%)'%varname2)\n",
    "\n",
    "            plt.savefig(os.path.join(figdir,'norm_pdf2D_%s_and_%s_%s.pdf'%(varname1,varname2,output_suffix)),\n",
    "                            bbox_inches='tight')\n",
    "            plt.show()"
   ]
  },
  {
   "cell_type": "markdown",
   "metadata": {},
   "source": [
    "### Decompose bias into its contributions from qvstar and omega (scaling #3)"
   ]
  },
  {
   "cell_type": "code",
   "execution_count": 489,
   "metadata": {
    "ExecuteTime": {
     "end_time": "2017-11-30T08:44:12.934363",
     "start_time": "2017-11-30T08:44:12.897058Z"
    },
    "collapsed": false,
    "run_control": {
     "frozen": false,
     "read_only": false
    }
   },
   "outputs": [
    {
     "name": "stdout",
     "output_type": "stream",
     "text": [
      "\n",
      "-- decompose bias into qvstar and omega contributions\n",
      "\n"
     ]
    }
   ],
   "source": [
    "print()\n",
    "print(\"-- decompose bias into qvstar and omega contributions\")\n",
    "print()"
   ]
  },
  {
   "cell_type": "code",
   "execution_count": 490,
   "metadata": {
    "ExecuteTime": {
     "end_time": "2017-11-30T08:44:13.812281",
     "start_time": "2017-11-30T08:44:13.777389Z"
    },
    "collapsed": false,
    "run_control": {
     "frozen": false,
     "read_only": false
    }
   },
   "outputs": [
    {
     "name": "stdout",
     "output_type": "stream",
     "text": [
      "Q-mean terms\n",
      "CPU times: user 5.99 ms, sys: 990 µs, total: 6.98 ms\n",
      "Wall time: 6.07 ms\n"
     ]
    }
   ],
   "source": [
    "%%time\n",
    "print(\"Q-mean terms\")\n",
    "qvstar_s_prQ = meanXAtAllYRanks(targetranks,qvstar_s,pr,ranks_ref,rank_locations=rank_locations)\n",
    "omega_500_prQ = meanXAtAllYRanks(targetranks,omega_500,pr,ranks_ref,rank_locations=rank_locations)"
   ]
  },
  {
   "cell_type": "code",
   "execution_count": 491,
   "metadata": {
    "ExecuteTime": {
     "end_time": "2017-11-30T08:44:14.429795",
     "start_time": "2017-11-30T08:44:14.392970Z"
    },
    "collapsed": false,
    "run_control": {
     "frozen": false,
     "read_only": false
    }
   },
   "outputs": [
    {
     "name": "stdout",
     "output_type": "stream",
     "text": [
      "Compute bias\n",
      "single-level scaling: -0.000185274210055\n",
      "OGS09 scaling: 0.000650615505048\n",
      "OGS09ad scaling: -0.000114127852439\n",
      "RH scaling: 0.00140404547328\n",
      "RHad scaling: -0.00148138928013\n",
      "CPU times: user 3.18 ms, sys: 1.61 ms, total: 4.79 ms\n",
      "Wall time: 3.48 ms\n"
     ]
    }
   ],
   "source": [
    "%%time\n",
    "print(\"Compute bias\")\n",
    "bias_sc = (pr_sc_prQ - pr_sc_vQ)/pr_sc_prQ\n",
    "bias_scOGS09 = (pr_scOGS09_prQ - pr_scOGS09_vQ)/pr_scOGS09_prQ\n",
    "bias_scOGS09ad = (pr_scOGS09ad_prQ - pr_scOGS09ad_vQ)/pr_scOGS09ad_prQ\n",
    "bias_scRH = (pr_scRH_prQ - pr_scRH_vQ)/pr_scRH_prQ\n",
    "bias_scRHad = (pr_scRHad_prQ - pr_scRHad_vQ)/pr_scRHad_prQ\n",
    "print(\"single-level scaling:\",np.nanmean(bias_sc[iQ_slice]))\n",
    "print(\"OGS09 scaling:\",np.nanmean(bias_scOGS09[iQ_slice]))\n",
    "print(\"OGS09ad scaling:\",np.nanmean(bias_scOGS09ad[iQ_slice]))\n",
    "print(\"RH scaling:\",np.nanmean(bias_scRH[iQ_slice]))\n",
    "print(\"RHad scaling:\",np.nanmean(bias_scRHad[iQ_slice]))"
   ]
  },
  {
   "cell_type": "code",
   "execution_count": 492,
   "metadata": {
    "ExecuteTime": {
     "end_time": "2017-11-30T08:44:16.510025",
     "start_time": "2017-11-30T08:44:16.475542Z"
    },
    "collapsed": false,
    "run_control": {
     "frozen": false,
     "read_only": false
    }
   },
   "outputs": [
    {
     "name": "stdout",
     "output_type": "stream",
     "text": [
      "covariance term\n",
      "CPU times: user 5.14 ms, sys: 1 ms, total: 6.14 ms\n",
      "Wall time: 5.43 ms\n"
     ]
    }
   ],
   "source": [
    "%%time\n",
    "print(\"covariance term\")\n",
    "cov_qvstar_s_omega_500_prQ = covAtAllYRanks(targetranks,qvstar_s,omega_500,pr,ranks_ref,\n",
    "                                            rank_locations=rank_locations)"
   ]
  },
  {
   "cell_type": "code",
   "execution_count": 493,
   "metadata": {
    "ExecuteTime": {
     "end_time": "2017-11-30T08:44:17.493117",
     "start_time": "2017-11-30T08:44:17.465999Z"
    },
    "collapsed": false,
    "run_control": {
     "frozen": false,
     "read_only": false
    }
   },
   "outputs": [
    {
     "name": "stdout",
     "output_type": "stream",
     "text": [
      "normalized contribution\n"
     ]
    }
   ],
   "source": [
    "print(\"normalized contribution\")\n",
    "contribQOmega_bias_covQOmega = cov_qvstar_s_omega_500_prQ/qvstar_s_prQ/omega_500_prQ"
   ]
  },
  {
   "cell_type": "code",
   "execution_count": 494,
   "metadata": {
    "ExecuteTime": {
     "end_time": "2017-11-30T08:44:19.595791",
     "start_time": "2017-11-30T08:44:18.375761Z"
    },
    "collapsed": false,
    "run_control": {
     "frozen": false,
     "read_only": false
    },
    "scrolled": false
   },
   "outputs": [
    {
     "name": "stdout",
     "output_type": "stream",
     "text": [
      "> plot bias and corresponding contributions\n"
     ]
    },
    {
     "data": {
      "image/png": "[encoded data removed]",
      "text/plain": [
       "<matplotlib.figure.Figure at 0x1a1b606f60>"
      ]
     },
     "metadata": {},
     "output_type": "display_data"
    },
    {
     "name": "stdout",
     "output_type": "stream",
     "text": [
      "CPU times: user 1.14 s, sys: 23.4 ms, total: 1.17 s\n",
      "Wall time: 1.18 s\n"
     ]
    }
   ],
   "source": [
    "%%time\n",
    "print(\"> plot bias and corresponding contributions\")\n",
    "\n",
    "fig, ax = plt.subplots(ncols=1,nrows=1,figsize=(5,4.5))\n",
    "ax.set_ylim((-.25,.25))\n",
    "\n",
    "# Grey shading \n",
    "i_Q_lims = (iQ_slice.start, iQ_slice.stop-1)\n",
    "subplotXShadingRanksILog(ax,ranks_ref,i_Q_lims,alpha=0.15,transformX=False)\n",
    "\n",
    "# zero line\n",
    "addZeroLine(ax,ranks_ref)\n",
    "\n",
    "subplotRanksILog(ax,ranks_ref,\n",
    "                 bias_sc,\n",
    "                 col='k',ltype='-',transformX=False)\n",
    "\n",
    "subplotRanksILog(ax,ranks_ref,\n",
    "                 contribQOmega_bias_covQOmega,\n",
    "                 col='k',ltype='--',transformX=False)\n",
    "\n",
    "addXHatchRanksILog(ax,ranks_ref,(0,iQ_min),transformX=True)\n",
    "\n",
    "ax.legend([r'$1-(\\alpha q_{v,Q}^\\star \\omega_Q) / P_Q$',r'$\\propto Cov(q_v^\\star,\\omega)$'],\n",
    "          loc = 'upper left')\n",
    "\n",
    "ax.set_xlabel('Percentile rank (%)')\n",
    "ax.set_ylabel(r'Normalized bias $\\frac{b}{\\mu}$')\n",
    "\n",
    "plt.savefig(os.path.join(figdir,'bias_and_cov_omega_q_%s.pdf'%output_suffix),\n",
    "            bbox_inches='tight')\n",
    "\n",
    "plt.show()"
   ]
  },
  {
   "cell_type": "code",
   "execution_count": 495,
   "metadata": {
    "ExecuteTime": {
     "end_time": "2017-11-30T08:44:50.906522",
     "start_time": "2017-11-30T08:44:49.681276Z"
    },
    "collapsed": false,
    "run_control": {
     "frozen": false,
     "read_only": false
    }
   },
   "outputs": [
    {
     "name": "stdout",
     "output_type": "stream",
     "text": [
      "> plot bias for OGS09 scaling\n",
      "- scaling scOGS09\n",
      "- scaling scOGS09ad\n",
      "- scaling scRH\n",
      "- scaling scRHad\n"
     ]
    },
    {
     "data": {
      "image/png": "[encoded data removed]",
      "text/plain": [
       "<matplotlib.figure.Figure at 0x1a10a32588>"
      ]
     },
     "metadata": {},
     "output_type": "display_data"
    },
    {
     "name": "stdout",
     "output_type": "stream",
     "text": [
      "CPU times: user 1.06 s, sys: 28.1 ms, total: 1.09 s\n",
      "Wall time: 1.18 s\n"
     ]
    }
   ],
   "source": [
    "%%time\n",
    "print(\"> plot bias for OGS09 scaling\")\n",
    "\n",
    "scaling_names = 'scOGS09','scOGS09ad','scRH','scRHad'\n",
    "\n",
    "fig, ax = plt.subplots(ncols=1,nrows=1,figsize=(5,4.5))\n",
    "ax.set_ylim((-.25,.25))\n",
    "\n",
    "# Grey shading \n",
    "i_Q_lims = (iQ_slice.start, iQ_slice.stop-1)\n",
    "subplotXShadingRanksILog(ax,ranks_ref,i_Q_lims,alpha=0.15,transformX=False)\n",
    "\n",
    "# zero line\n",
    "addZeroLine(ax,ranks_ref)\n",
    "\n",
    "for sc_name in scaling_names:\n",
    "\n",
    "    print(\"- scaling %s\"%sc_name)\n",
    "\n",
    "    setattr(thismodule,'bias',getattr(thismodule,'bias_%s'%(sc_name)))\n",
    "    \n",
    "    subplotRanksILog(ax,ranks_ref,\n",
    "                     bias,\n",
    "                     ltype='-',transformX=False)\n",
    "\n",
    "addXHatchRanksILog(ax,ranks_ref,(0,iQ_min),transformX=True)\n",
    "    \n",
    "ax.legend([r'scaling %s'%sc_name for sc_name in scaling_names],\n",
    "          loc = 'upper left')\n",
    "\n",
    "ax.set_xlabel('Percentile rank (%)')\n",
    "ax.set_ylabel(r'Normalized bias $\\frac{b}{\\mu}$')\n",
    "\n",
    "plt.savefig(os.path.join(figdir,'bias_%s_%s.pdf'%('_'.join(scaling_names),output_suffix)),\n",
    "            bbox_inches='tight')\n",
    "\n",
    "plt.show()"
   ]
  },
  {
   "cell_type": "markdown",
   "metadata": {},
   "source": [
    "## Decompose the variance"
   ]
  },
  {
   "cell_type": "markdown",
   "metadata": {},
   "source": [
    "### Decompose Variance into its contributions from qvstar and omega (scaling #3)"
   ]
  },
  {
   "cell_type": "code",
   "execution_count": 496,
   "metadata": {
    "ExecuteTime": {
     "end_time": "2017-11-30T08:44:54.866949",
     "start_time": "2017-11-30T08:44:54.838235Z"
    },
    "collapsed": false,
    "run_control": {
     "frozen": false,
     "read_only": false
    },
    "scrolled": true
   },
   "outputs": [
    {
     "name": "stdout",
     "output_type": "stream",
     "text": [
      "\n",
      "-- decompose variance into qvstar and omega contributions\n",
      "\n"
     ]
    }
   ],
   "source": [
    "print()\n",
    "print(\"-- decompose variance into qvstar and omega contributions\")\n",
    "print()"
   ]
  },
  {
   "cell_type": "code",
   "execution_count": 497,
   "metadata": {
    "ExecuteTime": {
     "end_time": "2017-11-30T08:44:57.892682",
     "start_time": "2017-11-30T08:44:55.782020Z"
    },
    "collapsed": false,
    "run_control": {
     "frozen": false,
     "read_only": false
    },
    "scrolled": true
   },
   "outputs": [
    {
     "name": "stdout",
     "output_type": "stream",
     "text": [
      "Compute the variance in pr\n",
      "CPU times: user 2.03 s, sys: 11.9 ms, total: 2.04 s\n",
      "Wall time: 2.07 s\n"
     ]
    }
   ],
   "source": [
    "%%time \n",
    "print(\"Compute the variance in pr\")\n",
    "scaling_names = 'sc','scOGS09','scOGS09ad','scRH','scRHad'\n",
    "\n",
    "bootstrap = True\n",
    "Ntimes = 100 if bootstrap else 1\n",
    "fsub = 0.5 if bootstrap else 1\n",
    "\n",
    "for sc_name in scaling_names:\n",
    "\n",
    "    # compute variance from full sample\n",
    "    pr_values = getattr(thismodule,'pr_%s'%sc_name)\n",
    "    var_pr = varXAtAllYRanks(targetranks,pr_values,\n",
    "                            pr,ranks_ref,rank_locations=rank_locations)\n",
    "    setattr(thismodule,'var_pr_%s_prQ'%sc_name,var_pr)\n",
    "    \n",
    "    # bootstrapping\n",
    "    all_var_pr = np.empty((Ntimes,var_pr.size))\n",
    "    for i in range(Ntimes):\n",
    "        all_var_pr[i,:] = varXAtAllYRanks(targetranks,pr_values,\n",
    "                            pr,ranks_ref,rank_locations=rank_locations,random_fraction=fsub)\n",
    "    if bootstrap:\n",
    "        setattr(thismodule,'var_pr_%s_I25_prQ'%sc_name,all_var_pr[0])\n",
    "        setattr(thismodule,'var_pr_%s_I75_prQ'%sc_name,all_var_pr[1])"
   ]
  },
  {
   "cell_type": "code",
   "execution_count": 498,
   "metadata": {
    "ExecuteTime": {
     "end_time": "2017-11-30T08:44:57.944275",
     "start_time": "2017-11-30T08:44:57.895000Z"
    },
    "collapsed": false,
    "run_control": {
     "frozen": false,
     "read_only": false
    },
    "scrolled": true
   },
   "outputs": [
    {
     "name": "stdout",
     "output_type": "stream",
     "text": [
      "normalized variability\n",
      "scaling sc : 0.01232\t (0.00411,0.00083)\n",
      "scaling scOGS09 : 0.00336\t (0.00106,0.00199)\n",
      "scaling scOGS09ad : 0.00602\t (0.00284,0.00912)\n",
      "scaling scRH : 0.00287\t (0.00601,0.00296)\n",
      "scaling scRHad : 0.00346\t (0.01595,0.00601)\n"
     ]
    }
   ],
   "source": [
    "print(\"normalized variability\")\n",
    "for sc_name in scaling_names:\n",
    "    norm_var_pr = getattr(thismodule,'var_pr_%s_prQ'%sc_name)/getattr(thismodule,'pr_%s_prQ'%sc_name)**2\n",
    "    setattr(thismodule,'norm_var_pr_%s_prQ'%sc_name,norm_var_pr)\n",
    "    if bootstrap:\n",
    "        for int_bnd in 'I25','I75':\n",
    "            norm_var_pr_Ibnd = getattr(thismodule,'var_pr_%s_%s_prQ'%(sc_name,int_bnd))/\\\n",
    "                getattr(thismodule,'pr_%s_prQ'%sc_name)**2\n",
    "            setattr(thismodule,'norm_var_pr_%s_%s_prQ'%(sc_name,int_bnd),norm_var_pr_Ibnd)\n",
    "            # for printing only:\n",
    "            setattr(thismodule,'norm_var_pr_%s'%int_bnd,norm_var_pr_Ibnd)\n",
    "    \n",
    "    print(\"scaling %s : %1.5f\"%(sc_name,np.nanmean(norm_var_pr[iQ_slice])),end='')\n",
    "    if bootstrap:\n",
    "        print(\"\\t (%1.5f,%1.5f)\"%(np.nanmean(norm_var_pr_I25[iQ_slice]),\n",
    "                                  np.nanmean(norm_var_pr_I75[iQ_slice])))\n",
    "    else:\n",
    "        print()"
   ]
  },
  {
   "cell_type": "code",
   "execution_count": 499,
   "metadata": {
    "ExecuteTime": {
     "end_time": "2017-11-30T08:45:24.635669",
     "start_time": "2017-11-30T08:45:24.583143Z"
    },
    "collapsed": false,
    "run_control": {
     "frozen": false,
     "read_only": false
    }
   },
   "outputs": [
    {
     "name": "stdout",
     "output_type": "stream",
     "text": [
      "compute variability terms\n",
      "CPU times: user 18.8 ms, sys: 1.06 ms, total: 19.9 ms\n",
      "Wall time: 19.1 ms\n"
     ]
    }
   ],
   "source": [
    "%%time\n",
    "print(\"compute variability terms\")\n",
    "var_qvstar_s_prQ = varXAtAllYRanks(targetranks,qvstar_s,pr,ranks_ref,rank_locations=rank_locations)\n",
    "var_omega_500_prQ = varXAtAllYRanks(targetranks,omega_500,pr,ranks_ref,rank_locations=rank_locations)\n",
    "cov_qvstar_s_omega_500_prQ = covAtAllYRanks(targetranks,qvstar_s,omega_500,pr,ranks_ref,\n",
    "                                            rank_locations=rank_locations)\n",
    "cov_qvstar_s_2_omega_500_2_prQ = covAtAllYRanks(targetranks,qvstar_s**2,omega_500**2,pr,ranks_ref,\n",
    "                                                rank_locations=rank_locations)"
   ]
  },
  {
   "cell_type": "code",
   "execution_count": 500,
   "metadata": {
    "ExecuteTime": {
     "end_time": "2017-11-30T08:45:28.329009",
     "start_time": "2017-11-30T08:45:28.282471Z"
    },
    "collapsed": false,
    "run_control": {
     "frozen": false,
     "read_only": false
    }
   },
   "outputs": [
    {
     "name": "stdout",
     "output_type": "stream",
     "text": [
      "normalized contributions, expanded terms\n",
      "-0.00128183163458 0.000499443244226 0.0124527068951 3.07204434724e-06 -1.19939229838e-06 0.000664586436792 0.0123367775936\n"
     ]
    }
   ],
   "source": [
    "print(\"normalized contributions, expanded terms\")\n",
    "\n",
    "# a_v = (eps/gg)**2\n",
    "# contrib_covX2Y2 = a_v*cov_qvstar_s_2_omega_500_2_prQ/(pr_sc_prQ**2)\n",
    "# contrib_varX = a_v*(omega_500_prQ**2)*var_qvstar_s_prQ/(pr_sc_prQ**2)\n",
    "# contrib_varY = a_v*(qvstar_s_prQ**2)*var_omega_500_prQ/(pr_sc_prQ**2)\n",
    "# contrib_varXvarY = a_v*var_qvstar_s_prQ*var_omega_500_prQ/(pr_sc_prQ**2)\n",
    "# contrib_cov2XY = -a_v*(cov_qvstar_s_omega_500_prQ**2)/(pr_sc_prQ**2)\n",
    "# contrib_covXY = -a_v*2*qvstar_s_prQ*omega_500_prQ*cov_qvstar_s_omega_500_prQ/(pr_sc_prQ**2)\n",
    "contribQOmega_var_covQ2Omega2 = cov_qvstar_s_2_omega_500_2_prQ/((omega_500_prQ*qvstar_s_prQ)**2)\n",
    "contribQOmega_var_varQ = var_qvstar_s_prQ/(qvstar_s_prQ**2)\n",
    "contribQOmega_var_varOmega = var_omega_500_prQ/(omega_500_prQ**2)\n",
    "contribQOmega_var_varQvarOmega = var_qvstar_s_prQ*var_omega_500_prQ/((omega_500_prQ*qvstar_s_prQ)**2)\n",
    "contribQOmega_var_cov2QOmega = -(cov_qvstar_s_omega_500_prQ**2)/((omega_500_prQ*qvstar_s_prQ)**2)\n",
    "contribQOmega_var_covQOmega = -2*cov_qvstar_s_omega_500_prQ/(omega_500_prQ*qvstar_s_prQ)\n",
    "contribQOmega_var_sum = contribQOmega_var_covQ2Omega2 + contribQOmega_var_varQ + contribQOmega_var_varOmega + \\\n",
    "    contribQOmega_var_varQvarOmega + contribQOmega_var_cov2QOmega + contribQOmega_var_covQOmega\n",
    "\n",
    "print(np.nanmean(contribQOmega_var_covQ2Omega2[iQ_slice]),np.nanmean(contribQOmega_var_varQ[iQ_slice]),\n",
    "      np.nanmean(contribQOmega_var_varOmega[iQ_slice]),np.nanmean(contribQOmega_var_varQvarOmega[iQ_slice]),\n",
    "      np.nanmean(contribQOmega_var_cov2QOmega[iQ_slice]),np.nanmean(contribQOmega_var_covQOmega[iQ_slice]),\n",
    "      np.nanmean(contribQOmega_var_sum[iQ_slice]))"
   ]
  },
  {
   "cell_type": "code",
   "execution_count": 501,
   "metadata": {
    "ExecuteTime": {
     "end_time": "2017-11-30T08:45:31.154881",
     "start_time": "2017-11-30T08:45:29.323816Z"
    },
    "collapsed": false,
    "run_control": {
     "frozen": false,
     "read_only": false
    },
    "scrolled": false
   },
   "outputs": [
    {
     "name": "stdout",
     "output_type": "stream",
     "text": [
      "> plot variance and corresponding contributions\n"
     ]
    },
    {
     "data": {
      "image/png": "[encoded data removed]",
      "text/plain": [
       "<matplotlib.figure.Figure at 0x1a1b3542b0>"
      ]
     },
     "metadata": {},
     "output_type": "display_data"
    },
    {
     "name": "stdout",
     "output_type": "stream",
     "text": [
      "CPU times: user 1.73 s, sys: 38.8 ms, total: 1.77 s\n",
      "Wall time: 1.79 s\n"
     ]
    }
   ],
   "source": [
    "%%time\n",
    "print(\"> plot variance and corresponding contributions\")\n",
    "\n",
    "fig, ax = plt.subplots(ncols=1,nrows=1,figsize=(5,4.5))\n",
    "ax.set_ylim((-.3,.6))\n",
    "\n",
    "# Grey shading \n",
    "i_Q_lims = (iQ_slice.start, iQ_slice.stop-1)\n",
    "subplotXShadingRanksILog(ax,ranks_ref,i_Q_lims,alpha=0.15,transformX=False)\n",
    "\n",
    "# zero line\n",
    "addZeroLine(ax,ranks_ref)\n",
    "\n",
    "subplotRanksILog(ax,ranks_ref,\n",
    "                 norm_var_pr_sc_prQ,\n",
    "                 col='k',ltype='-',transformX=False)\n",
    "subplotRanksILog(ax,ranks_ref,\n",
    "                 [contribQOmega_var_covQ2Omega2,contribQOmega_var_varQ,contribQOmega_var_varOmega,\n",
    "                  contribQOmega_var_varQvarOmega,contribQOmega_var_cov2QOmega,contribQOmega_var_covQOmega,\n",
    "                  contribQOmega_var_sum],\n",
    "                 col=['r','b','g','brown','y','purple','k'],ltype=['-','-','-','-','-','-',':'],transformX=False)\n",
    "\n",
    "addXHatchRanksILog(ax,ranks_ref,(0,iQ_min),transformX=True)\n",
    "\n",
    "leg = ax.legend([r'$Var(\\alpha q_v^\\star \\omega)$',\n",
    "                 r'$\\propto Cov(q_v^{\\star,2},\\omega^2)$',\n",
    "                 r'$\\propto Var(q_v^\\star)$',\n",
    "                 r'$\\propto Var(\\omega)$',\n",
    "                 r'$\\propto Var(q_v^\\star)Var(\\omega)$',\n",
    "                 r'$\\propto -Cov(q_v^\\star,\\omega)^2$',\n",
    "                 r'$\\propto -Cov(q_v^\\star,\\omega)$',\n",
    "                 r'sum of all'],\n",
    "                 loc='upper left',\n",
    "                 framealpha=0.8,\n",
    "                 ncol=2)\n",
    "\n",
    "ax.set_xlabel('Percentile rank (%)')\n",
    "ax.set_ylabel(r'Contribtions to normalized variance $\\frac{\\sigma^2}{\\mu^2}$')\n",
    "\n",
    "plt.savefig(os.path.join(figdir,'var_and_contributions_omega_q_%s.pdf'%output_suffix),\n",
    "            bbox_inches='tight')\n",
    "\n",
    "plt.show()"
   ]
  },
  {
   "cell_type": "code",
   "execution_count": 502,
   "metadata": {
    "ExecuteTime": {
     "end_time": "2017-11-30T08:45:32.302830",
     "start_time": "2017-11-30T08:45:31.156919Z"
    },
    "collapsed": false,
    "run_control": {
     "frozen": false,
     "read_only": false
    }
   },
   "outputs": [
    {
     "name": "stdout",
     "output_type": "stream",
     "text": [
      "> plot variance for vertical scalings\n",
      "- add scaling scOGS09\n",
      "- add scaling scOGS09ad\n",
      "- add scaling scRH\n",
      "- add scaling scRHad\n"
     ]
    },
    {
     "data": {
      "image/png": "[encoded data removed]",
      "text/plain": [
       "<matplotlib.figure.Figure at 0x1a1c4a79e8>"
      ]
     },
     "metadata": {},
     "output_type": "display_data"
    },
    {
     "name": "stdout",
     "output_type": "stream",
     "text": [
      "CPU times: user 1.05 s, sys: 25.6 ms, total: 1.08 s\n",
      "Wall time: 1.09 s\n"
     ]
    }
   ],
   "source": [
    "%%time\n",
    "print(\"> plot variance for vertical scalings\")\n",
    "\n",
    "scaling_names = 'scOGS09','scOGS09ad','scRH','scRHad'\n",
    "\n",
    "\n",
    "fig, ax = plt.subplots(ncols=1,nrows=1,figsize=(5,4.5))\n",
    "ax.set_ylim((-.3,.6))\n",
    "\n",
    "# Grey shading \n",
    "i_Q_lims = (iQ_slice.start, iQ_slice.stop-1)\n",
    "subplotXShadingRanksILog(ax,ranks_ref,i_Q_lims,alpha=0.15,transformX=False)\n",
    "\n",
    "# zero line\n",
    "addZeroLine(ax,ranks_ref)\n",
    "    \n",
    "for sc_name in scaling_names:\n",
    "\n",
    "    print(\"- add scaling %s\"%sc_name)\n",
    "    setattr(thismodule,'norm_var',getattr(thismodule,'norm_var_pr_%s_prQ'%(sc_name)))\n",
    "\n",
    "    subplotRanksILog(ax,ranks_ref,\n",
    "                     norm_var,\n",
    "                     ltype='-',transformX=False)\n",
    "\n",
    "addXHatchRanksILog(ax,ranks_ref,(0,iQ_min),transformX=True)\n",
    "\n",
    "leg = ax.legend([r'scaling %s'%sc_name for sc_name in scaling_names],\n",
    "                 loc='upper left',\n",
    "                 framealpha=0.8)\n",
    "\n",
    "ax.set_xlabel('Percentile rank (%)')\n",
    "ax.set_ylabel(r'Normalized variance $\\frac{\\sigma^2}{\\mu^2}$')\n",
    "\n",
    "plt.savefig(os.path.join(figdir,'var_%s_%s.pdf'%('_'.join(scaling_names),output_suffix)),\n",
    "            bbox_inches='tight')\n",
    "\n",
    "plt.show()"
   ]
  },
  {
   "cell_type": "markdown",
   "metadata": {},
   "source": [
    "### Decompose variance into its contributions from T and omega (ignore variability in pressure)"
   ]
  },
  {
   "cell_type": "code",
   "execution_count": 503,
   "metadata": {
    "ExecuteTime": {
     "end_time": "2017-11-30T08:45:59.299770",
     "start_time": "2017-11-30T08:45:59.266175Z"
    },
    "collapsed": false,
    "run_control": {
     "frozen": false,
     "read_only": false
    }
   },
   "outputs": [
    {
     "name": "stdout",
     "output_type": "stream",
     "text": [
      "\n",
      "-- decompose variance into T and omega contributions\n",
      "\n"
     ]
    }
   ],
   "source": [
    "print()\n",
    "print(\"-- decompose variance into T and omega contributions\")\n",
    "print()"
   ]
  },
  {
   "cell_type": "code",
   "execution_count": 504,
   "metadata": {
    "ExecuteTime": {
     "end_time": "2017-11-30T08:46:00.118900",
     "start_time": "2017-11-30T08:46:00.084733Z"
    },
    "collapsed": false,
    "run_control": {
     "frozen": false,
     "read_only": false
    }
   },
   "outputs": [
    {
     "name": "stdout",
     "output_type": "stream",
     "text": [
      "Q-mean terms\n"
     ]
    }
   ],
   "source": [
    "print(\"Q-mean terms\")\n",
    "ts_prQ = meanXAtAllYRanks(targetranks,ts,pr,ranks_ref,rank_locations=rank_locations)"
   ]
  },
  {
   "cell_type": "code",
   "execution_count": 505,
   "metadata": {
    "ExecuteTime": {
     "end_time": "2017-11-30T08:46:00.700054",
     "start_time": "2017-11-30T08:46:00.654044Z"
    },
    "collapsed": false,
    "run_control": {
     "frozen": false,
     "read_only": false
    },
    "scrolled": false
   },
   "outputs": [
    {
     "name": "stdout",
     "output_type": "stream",
     "text": [
      "compute variability terms\n",
      "CPU times: user 15 ms, sys: 1.74 ms, total: 16.8 ms\n",
      "Wall time: 15.3 ms\n"
     ]
    }
   ],
   "source": [
    "%%time\n",
    "print(\"compute variability terms\")\n",
    "var_ts_prQ = varXAtAllYRanks(targetranks,ts,pr,ranks_ref,rank_locations=rank_locations)\n",
    "cov_ts_omega_500_prQ = covAtAllYRanks(targetranks,ts,omega_500,pr,ranks_ref,rank_locations=rank_locations)\n",
    "cov_ts_omega_500_2_prQ = covAtAllYRanks(targetranks,ts,omega_500**2,pr,ranks_ref,rank_locations=rank_locations)"
   ]
  },
  {
   "cell_type": "code",
   "execution_count": 506,
   "metadata": {
    "ExecuteTime": {
     "end_time": "2017-11-30T08:46:01.293615",
     "start_time": "2017-11-30T08:46:01.258900Z"
    },
    "collapsed": false,
    "run_control": {
     "frozen": false,
     "read_only": false
    }
   },
   "outputs": [
    {
     "name": "stdout",
     "output_type": "stream",
     "text": [
      "normalized contributions, expanded terms\n",
      "-0.0260326772061 0.0131290022351 0.0133319871082 0.0124527068951 0.0128810190324 \n"
     ]
    }
   ],
   "source": [
    "print(\"normalized contributions, expanded terms\")\n",
    "\n",
    "contribTOmega_var_covTOmega2 = 2*L_v/R_v*cov_ts_omega_500_2_prQ/(ts_prQ*omega_500_prQ)**2\n",
    "contribTOmega_var_covTOmega = -2*L_v/R_v*cov_ts_omega_500_prQ/((ts_prQ**2)*omega_500_prQ)\n",
    "contribTOmega_var_varT = ((L_v/R_v)**2)*var_ts_prQ/(ts_prQ**4)\n",
    "contribTOmega_var_varOmega = var_omega_500_prQ/(omega_500_prQ**2)\n",
    "contribTOmega_var_sum = contribTOmega_var_covTOmega2+contribTOmega_var_covTOmega+contribTOmega_var_varT+\\\n",
    "    contribTOmega_var_varOmega\n",
    "all_contribTOmega_var = [contribTOmega_var_covTOmega2,contribTOmega_var_covTOmega,contribTOmega_var_varT,\n",
    "                    contribTOmega_var_varOmega,contribTOmega_var_sum]\n",
    "for contrib in all_contribTOmega_var:\n",
    "    print(np.nanmean(contrib[iQ_slice]),end=' ')\n",
    "print()"
   ]
  },
  {
   "cell_type": "code",
   "execution_count": 507,
   "metadata": {
    "ExecuteTime": {
     "end_time": "2017-11-30T08:46:03.641564",
     "start_time": "2017-11-30T08:46:02.050321Z"
    },
    "collapsed": false,
    "run_control": {
     "frozen": false,
     "read_only": false
    },
    "scrolled": true
   },
   "outputs": [
    {
     "name": "stdout",
     "output_type": "stream",
     "text": [
      "> plot variance and corresponding contributions\n"
     ]
    },
    {
     "data": {
      "image/png": "[encoded data removed]",
      "text/plain": [
       "<matplotlib.figure.Figure at 0x1a1b4be0b8>"
      ]
     },
     "metadata": {},
     "output_type": "display_data"
    },
    {
     "name": "stdout",
     "output_type": "stream",
     "text": [
      "CPU times: user 1.48 s, sys: 30.8 ms, total: 1.51 s\n",
      "Wall time: 1.55 s\n"
     ]
    }
   ],
   "source": [
    "%%time \n",
    "print(\"> plot variance and corresponding contributions\")\n",
    "\n",
    "fig, ax = plt.subplots(ncols=1,nrows=1,figsize=(5,4.5))\n",
    "\n",
    "ax.set_ylim((-0.3,0.6))\n",
    "\n",
    "# Grey shading \n",
    "i_Q_lims = (iQ_slice.start, iQ_slice.stop-1)\n",
    "subplotXShadingRanksILog(ax,ranks_ref,i_Q_lims,alpha=0.15,transformX=False)\n",
    "\n",
    "# zero line\n",
    "addZeroLine(ax,ranks_ref)\n",
    "\n",
    "# subplotRanksILog(ax,ranks,np.zeros(ranks.shape),ltype=':',col='k')\n",
    "subplotRanksILog(ax,ranks_ref,\n",
    "                 norm_var_pr_sc_prQ,\n",
    "                 col='k',ltype='-',transformX=False)\n",
    "\n",
    "subplotRanksILog(ax,ranks_ref,\n",
    "                 all_contribTOmega_var,\n",
    "                 col=['green','blue','red','grey','k'],ltype=['-','-','-','-',':'],transformX=False)\n",
    "\n",
    "addXHatchRanksILog(ax,ranks_ref,(0,iQ_min),transformX=True)\n",
    "\n",
    "ax.set_xlabel('Percentile rank (%)')\n",
    "ax.set_ylabel(r'Contributions to Var$_Q(S)$')\n",
    "# ax.set_title(r'$S(\\omega,T)=\\varepsilon\\omega_{500}q_v^\\star(T)$')\n",
    "\n",
    "ax.legend([r'$\\propto Var(\\alpha q_v^\\star \\omega)$',r'$\\propto Cov(T,\\omega^2)$',r'$\\propto Cov(T,\\omega)$',\n",
    "           r'$\\propto Var(T)$',\n",
    "           r'$\\propto Var(\\omega)$','sum'],ncol=2,framealpha=0.8,loc='upper left')\n",
    "\n",
    "plt.savefig(os.path.join(figdir,'var_and_contributions_omega_T_%s.pdf'%output_suffix),\n",
    "            bbox_inches='tight')\n",
    "\n",
    "plt.show()"
   ]
  },
  {
   "cell_type": "markdown",
   "metadata": {},
   "source": [
    "## Predictor variables statistics"
   ]
  },
  {
   "cell_type": "markdown",
   "metadata": {},
   "source": [
    "### Joint statistics of $\\omega$ and $q_v^\\star$"
   ]
  },
  {
   "cell_type": "code",
   "execution_count": 508,
   "metadata": {
    "ExecuteTime": {
     "end_time": "2017-11-30T08:46:09.900131",
     "start_time": "2017-11-30T08:46:09.871091Z"
    },
    "collapsed": false,
    "run_control": {
     "frozen": false,
     "read_only": false
    }
   },
   "outputs": [
    {
     "name": "stdout",
     "output_type": "stream",
     "text": [
      "\n",
      "-- compute joint statistics of omega and qvstar\n",
      "\n"
     ]
    }
   ],
   "source": [
    "print()\n",
    "print(\"-- compute joint statistics of omega and qvstar\")\n",
    "print()"
   ]
  },
  {
   "cell_type": "code",
   "execution_count": 509,
   "metadata": {
    "ExecuteTime": {
     "end_time": "2017-11-30T08:46:10.606848",
     "start_time": "2017-11-30T08:46:10.504176Z"
    },
    "collapsed": false,
    "run_control": {
     "frozen": false,
     "read_only": false
    }
   },
   "outputs": [
    {
     "name": "stdout",
     "output_type": "stream",
     "text": [
      "2D density\n",
      "normalized 2D density\n"
     ]
    }
   ],
   "source": [
    "print(\"2D density\")\n",
    "ranks_omega_500, percentiles_omega_500, bins_omega_500, \\\n",
    "ranks_qvstar_s, percentiles_qvstar_s, bins_qvstar_s, density2D_omega_500_qvstar_s = \\\n",
    "    compute2dStatsILOnRefRanks(-omega_500,qvstar_s,ranks_ref,n_pts_per_bin=1)\n",
    "    \n",
    "print(\"normalized 2D density\")\n",
    "N1 = N_omega_500 = sampleSizeAtAllRanks(ranks_omega_500,-omega_500,ranks_ref,bins=bins_omega_500)\n",
    "N2 = N_qvstar_s = sampleSizeAtAllRanks(ranks_qvstar_s,qvstar_s,ranks_ref,bins=bins_qvstar_s)\n",
    "norm_factor = normalize2dDensity(N1,N2,n_pts)\n",
    "\n",
    "norm_density2D_omega_500_qvstar_s = density2D_omega_500_qvstar_s/norm_factor"
   ]
  },
  {
   "cell_type": "code",
   "execution_count": 510,
   "metadata": {
    "ExecuteTime": {
     "end_time": "2017-11-30T08:46:13.068263",
     "start_time": "2017-11-30T08:46:11.131733Z"
    },
    "collapsed": false,
    "run_control": {
     "frozen": false,
     "read_only": false
    },
    "scrolled": false
   },
   "outputs": [
    {
     "name": "stdout",
     "output_type": "stream",
     "text": [
      "> plot 2D PDF of omega_500 and qvstar_s\n"
     ]
    },
    {
     "data": {
      "image/png": "[encoded data removed]",
      "text/plain": [
       "<matplotlib.figure.Figure at 0x1a1b8009b0>"
      ]
     },
     "metadata": {},
     "output_type": "display_data"
    }
   ],
   "source": [
    "print(\"> plot 2D PDF of omega_500 and qvstar_s\")\n",
    "fig, ax = plt.subplots(figsize=(5.5,4.5))\n",
    "\n",
    "subplot2DRanksILog(ax,ranks_ref,ranks_ref,norm_density2D_omega_500_qvstar_s,\n",
    "                   cmap=plt.cm.RdGy_r,transformX=True,transformY=True,Z_mode='log')\n",
    "\n",
    "add1to1Line(ax)\n",
    "\n",
    "ax.set_xlabel('omega_500 percentile rank (%)')\n",
    "ax.set_ylabel('qvstar_s percentile rank (%)')\n",
    "\n",
    "plt.savefig(os.path.join(figdir,'norm_pdf2D_%s_and_%s_%s.pdf'%('omega_500','qvstar_s',output_suffix)),\n",
    "                bbox_inches='tight')\n",
    "plt.show()"
   ]
  },
  {
   "cell_type": "code",
   "execution_count": 511,
   "metadata": {
    "ExecuteTime": {
     "end_time": "2017-11-30T08:46:18.481654",
     "start_time": "2017-11-30T08:46:18.449163Z"
    },
    "collapsed": false,
    "run_control": {
     "frozen": false,
     "read_only": false
    }
   },
   "outputs": [],
   "source": [
    "# print(\"compute sample size in 2D bins of omega_500 and qvstar_s\")\n",
    "\n",
    "# sampleSize_omega_500_qvstar_s = sampleSizeAtAllY1Y2Ranks(ranks_ref,ranks_ref,omega_500,qvstar_s,\n",
    "#     Y1ranks=ranks_ref,Y1bins=bins_omega_500,Y1rank_locations=None,\n",
    "#     Y2ranks=ranks_ref,Y2bins=bins_qvstar_s,Y2rank_locations=None)\n",
    "\n",
    "# fig, ax = plt.subplots(figsize=(5.5,4.5))\n",
    "\n",
    "# subplot2DRanksILog(ax,ranks_ref,ranks_ref,sampleSize_omega_500_qvstar_s,\n",
    "#                    cmap='viridis',transformX=True,transformY=True)\n",
    "\n",
    "# add1to1Line(ax)\n",
    "\n",
    "# ax.set_xlabel('omega_500 percentile rank (%)')\n",
    "# ax.set_ylabel('qvstar_s percentile rank (%)')"
   ]
  },
  {
   "cell_type": "markdown",
   "metadata": {},
   "source": [
    "### Conditional values of $P$ on joint statistics of $\\omega$ and $q_v^\\star$"
   ]
  },
  {
   "cell_type": "code",
   "execution_count": 512,
   "metadata": {
    "ExecuteTime": {
     "end_time": "2017-11-30T08:46:19.750896",
     "start_time": "2017-11-30T08:46:19.721642Z"
    },
    "collapsed": false,
    "run_control": {
     "frozen": false,
     "read_only": false
    }
   },
   "outputs": [
    {
     "name": "stdout",
     "output_type": "stream",
     "text": [
      "\n",
      "-- compute mean values conditioned on omega_500 and qvstar_s\n",
      "\n"
     ]
    }
   ],
   "source": [
    "print()\n",
    "print(\"-- compute mean values conditioned on omega_500 and qvstar_s\")\n",
    "print()\n",
    "varnames = 'pr','pr_sc','pr_scOGS09'"
   ]
  },
  {
   "cell_type": "code",
   "execution_count": 513,
   "metadata": {
    "ExecuteTime": {
     "end_time": "2017-11-30T08:46:20.291024",
     "start_time": "2017-11-30T08:46:20.262877Z"
    },
    "collapsed": false,
    "run_control": {
     "frozen": false,
     "read_only": false
    }
   },
   "outputs": [
    {
     "name": "stdout",
     "output_type": "stream",
     "text": [
      "ranks_locations for omega_500 and qvstar_s\n",
      "TO DO TO SAVE COMPUTING TIME\n"
     ]
    }
   ],
   "source": [
    "print(\"ranks_locations for omega_500 and qvstar_s\")\n",
    "print(\"TO DO TO SAVE COMPUTING TIME\")"
   ]
  },
  {
   "cell_type": "code",
   "execution_count": 514,
   "metadata": {
    "ExecuteTime": {
     "end_time": "2017-11-30T08:46:20.887532",
     "start_time": "2017-11-30T08:46:20.841632Z"
    },
    "collapsed": false,
    "run_control": {
     "frozen": false,
     "read_only": false
    }
   },
   "outputs": [
    {
     "name": "stdout",
     "output_type": "stream",
     "text": [
      "prepare axes and bins for predictor variables\n"
     ]
    }
   ],
   "source": [
    "print(\"prepare axes and bins for predictor variables\")\n",
    "ranks_omega_500, percentiles_omega_500, bins_omega_500 = computePercentilesAndBinsFromRanks(-omega_500.flatten(),ranks_ref,crop=False)\n",
    "percentiles_omega_500 = adjustRanks(percentiles_omega_500,ranks_omega_500,ranks_ref)\n",
    "bins_omega_500 = adjustBinsOnRanks(bins_omega_500,ranks_omega_500,ranks_ref)\n",
    "ranks_omega_500 = ranks_ref\n",
    "ranks_qvstar_s, percentiles_qvstar_s, bins_qvstar_s = computePercentilesAndBinsFromRanks(qvstar_s.flatten(),ranks_ref,crop=False)\n",
    "percentiles_qvstar_s = adjustRanks(percentiles_qvstar_s,ranks_qvstar_s,ranks_ref)\n",
    "bins_qvstar_s = adjustBinsOnRanks(bins_qvstar_s,ranks_qvstar_s,ranks_ref)\n",
    "ranks_qvstar_s = ranks_ref"
   ]
  },
  {
   "cell_type": "code",
   "execution_count": 515,
   "metadata": {
    "ExecuteTime": {
     "end_time": "2017-11-30T08:46:21.886050",
     "start_time": "2017-11-30T08:46:21.850999Z"
    },
    "collapsed": false,
    "run_control": {
     "frozen": false,
     "read_only": false
    },
    "scrolled": true
   },
   "outputs": [
    {
     "name": "stdout",
     "output_type": "stream",
     "text": [
      "compute ranks, percentiles and bins for predicted variables\n",
      "- pr\n",
      "- pr_sc\n",
      "- pr_scOGS09\n"
     ]
    }
   ],
   "source": [
    "print(\"compute ranks, percentiles and bins for predicted variables\")\n",
    "\n",
    "for varname in varnames:\n",
    "    \n",
    "    print(\"- %s\"%varname)\n",
    "\n",
    "    var = getattr(thismodule,varname)\n",
    "    \n",
    "    ranks_var, percentiles_var, bins_var = computePercentilesAndBinsFromRanks(var.flatten(),ranks_ref,crop=False)\n",
    "    setattr(thismodule,\"ranks_%s\"%varname,ranks_var)\n",
    "    setattr(thismodule,\"percentiles_%s\"%varname,percentiles_var)\n",
    "    setattr(thismodule,\"bins_%s\"%varname,bins_var)"
   ]
  },
  {
   "cell_type": "code",
   "execution_count": 516,
   "metadata": {
    "ExecuteTime": {
     "end_time": "2017-11-30T08:46:23.470057",
     "start_time": "2017-11-30T08:46:22.673099Z"
    },
    "collapsed": false,
    "hide_input": false,
    "run_control": {
     "frozen": false,
     "read_only": false
    }
   },
   "outputs": [
    {
     "name": "stdout",
     "output_type": "stream",
     "text": [
      "compute conditional values\n",
      "- pr\n",
      "- pr_sc\n",
      "- pr_scOGS09\n"
     ]
    }
   ],
   "source": [
    "print(\"compute conditional values\")\n",
    "\n",
    "for varname in varnames:\n",
    "\n",
    "    print(\"- %s\"%varname)\n",
    "    \n",
    "    val_cond = meanXAtAllY1Y2Ranks(ranks_ref,ranks_ref,getattr(thismodule,varname),-omega_500,qvstar_s,\\\n",
    "                                Y1ranks=ranks_ref,Y1bins=bins_omega_500,\\\n",
    "                                Y2ranks=ranks_ref,Y2bins=bins_qvstar_s)\n",
    "    setattr(thismodule,\"%s_omega_500Q_qvstar_sQ\"%varname,val_cond)\n"
   ]
  },
  {
   "cell_type": "code",
   "execution_count": 517,
   "metadata": {
    "ExecuteTime": {
     "end_time": "2017-11-30T08:46:28.581201",
     "start_time": "2017-11-30T08:46:24.103990Z"
    },
    "collapsed": false,
    "hide_input": false,
    "run_control": {
     "frozen": false,
     "read_only": false
    },
    "scrolled": false
   },
   "outputs": [
    {
     "name": "stdout",
     "output_type": "stream",
     "text": [
      "> plot precipitation conditioned on omega_500 and qvstar_s\n",
      "- pr\n",
      "0\n",
      "- for pr_omega_500Q_qvstar_sQ\n"
     ]
    },
    {
     "data": {
      "image/png": "[encoded data removed]",
      "text/plain": [
       "<matplotlib.figure.Figure at 0x1a1b3f1f28>"
      ]
     },
     "metadata": {},
     "output_type": "display_data"
    },
    {
     "name": "stdout",
     "output_type": "stream",
     "text": [
      "- pr_sc\n",
      "0\n",
      "- for pr_sc_omega_500Q_qvstar_sQ\n"
     ]
    },
    {
     "data": {
      "image/png": "[encoded data removed]",
      "text/plain": [
       "<matplotlib.figure.Figure at 0x1a1ae660f0>"
      ]
     },
     "metadata": {},
     "output_type": "display_data"
    },
    {
     "name": "stdout",
     "output_type": "stream",
     "text": [
      "- pr_scOGS09\n",
      "0\n",
      "- for pr_scOGS09_omega_500Q_qvstar_sQ\n"
     ]
    },
    {
     "data": {
      "image/png": "[encoded data removed]",
      "text/plain": [
       "<matplotlib.figure.Figure at 0x1a1cb12ac8>"
      ]
     },
     "metadata": {},
     "output_type": "display_data"
    }
   ],
   "source": [
    "print(\"> plot precipitation conditioned on omega_500 and qvstar_s\")\n",
    "\n",
    "for varname in varnames:\n",
    "\n",
    "    print(\"- %s\"%varname)\n",
    "    \n",
    "    var_cond = getattr(thismodule,\"%s_omega_500Q_qvstar_sQ\"%varname)\n",
    "    ranks_var = getattr(thismodule,\"ranks_%s\"%varname)\n",
    "    percentiles_var = getattr(thismodule,\"percentiles_%s\"%varname)\n",
    "    bins_var = getattr(thismodule,\"bins_%s\"%varname)\n",
    "    \n",
    "    ranks_cond = getRanksOfValues(var_cond,ranks_var,percentiles_var,bins_var)\n",
    "    setattr(thismodule,\"ranks_%s_omega_500Q_qvstar_sQ\"%varname,ranks_cond)\n",
    "    \n",
    "    print(\"- for %s_omega_500Q_qvstar_sQ\"%varname)\n",
    "\n",
    "    fig, ax = plt.subplots(figsize=(5.5,4.5))\n",
    "\n",
    "    subplot2DRanksILog(ax,ranks_ref,ranks_ref,ranks_cond,cmap='viridis',\n",
    "        transformX=True,transformY=True,range_type='full_positive',Z_mode='invlog',ranksZ=ranks_ref)\n",
    "\n",
    "    add1to1Line(ax)\n",
    "\n",
    "    ax.set_xlabel('omega_500 percentile rank (%)')\n",
    "    ax.set_ylabel('qvstar_s percentile rank (%)')\n",
    "\n",
    "    plt.savefig(os.path.join(figdir,'%s_conditioned_on_omega_500_and_qvstar_s_%s.pdf'%(varname,output_suffix)),\n",
    "                    bbox_inches='tight')\n",
    "    plt.show()"
   ]
  },
  {
   "cell_type": "code",
   "execution_count": null,
   "metadata": {
    "collapsed": true,
    "run_control": {
     "frozen": false,
     "read_only": false
    }
   },
   "outputs": [],
   "source": []
  },
  {
   "cell_type": "markdown",
   "metadata": {
    "collapsed": true,
    "run_control": {
     "frozen": false,
     "read_only": false
    }
   },
   "source": [
    "# Save all variables in dataframe"
   ]
  },
  {
   "cell_type": "code",
   "execution_count": 399,
   "metadata": {
    "ExecuteTime": {
     "end_time": "2017-11-30T07:55:45.394890",
     "start_time": "2017-11-30T07:55:45.296609Z"
    },
    "collapsed": false,
    "run_control": {
     "frozen": false,
     "read_only": false
    }
   },
   "outputs": [
    {
     "name": "stdout",
     "output_type": "stream",
     "text": [
      "-- Save results\n"
     ]
    }
   ],
   "source": [
    "print(\"-- Save results\")\n",
    "import pandas as pd\n",
    "import re\n",
    "import pickle"
   ]
  },
  {
   "cell_type": "code",
   "execution_count": 433,
   "metadata": {
    "ExecuteTime": {
     "end_time": "2017-11-30T08:14:28.056988",
     "start_time": "2017-11-30T08:14:28.016187Z"
    },
    "collapsed": false,
    "run_control": {
     "frozen": false,
     "read_only": false
    },
    "scrolled": false
   },
   "outputs": [
    {
     "name": "stdout",
     "output_type": "stream",
     "text": [
      "> save variables in dataframe\n"
     ]
    }
   ],
   "source": [
    "print(\"> save variables in dataframe\")\n",
    "\n",
    "vars_out_Q = ['ranks_ref','percentiles']\n",
    "for prefix in ('percentiles','ranks'):\n",
    "    for prvarname in ('pr','omega_500','qvstar_s','pr_sc','pr_scOGS09','pr_scOGS09ad','pr_scRH','pr_scRHad'):\n",
    "        varname = '%s_%s'%(prefix,prvarname)\n",
    "        if varname in locals().keys():\n",
    "            vars_out_Q.append(varname)\n",
    "        else:\n",
    "            print(varname,'does not exist')\n",
    "        \n",
    "    \n",
    "vars_out_Q.extend([v for v in locals().keys() if v.endswith('prQ') or v.endswith('vQ')])\n",
    "vars_out_Q.extend([v for v in locals().keys() if v.startswith('contrib')])\n",
    "vars_out_Q.extend([v for v in locals().keys() if v.startswith('norm_var_pr')])\n",
    "vars_out_Q.extend([v for v in locals().keys() if v.startswith('bias_')])\n",
    "vars_out_Q.extend([v for v in locals().keys() if v.startswith('N_')])\n"
   ]
  },
  {
   "cell_type": "code",
   "execution_count": 434,
   "metadata": {
    "ExecuteTime": {
     "end_time": "2017-11-30T08:14:29.302054",
     "start_time": "2017-11-30T08:14:29.202457Z"
    },
    "collapsed": false,
    "run_control": {
     "frozen": false,
     "read_only": false
    },
    "scrolled": false
   },
   "outputs": [
    {
     "name": "stdout",
     "output_type": "stream",
     "text": [
      "- N_omega_500 <class 'numpy.ndarray'> 424 (41,)\n",
      "- N_pr <class 'numpy.ndarray'> 424 (41,)\n",
      "- N_prQ <class 'numpy.ndarray'> 424 (41,)\n",
      "- N_pr_sc <class 'numpy.ndarray'> 424 (41,)\n",
      "- N_pr_scOGS09 <class 'numpy.ndarray'> 424 (41,)\n",
      "- N_pr_scOGS09ad <class 'numpy.ndarray'> 424 (41,)\n",
      "- N_pr_scRH <class 'numpy.ndarray'> 424 (41,)\n",
      "- N_pr_scRHad <class 'numpy.ndarray'> 424 (41,)\n",
      "- N_qvstar_s <class 'numpy.ndarray'> 424 (41,)\n",
      "- bias_sc <class 'numpy.ndarray'> 424 (41,)\n",
      "- bias_scOGS09 <class 'numpy.ndarray'> 424 (41,)\n",
      "- bias_scOGS09ad <class 'numpy.ndarray'> 424 (41,)\n",
      "- bias_scRH <class 'numpy.ndarray'> 424 (41,)\n",
      "- bias_scRHad <class 'numpy.ndarray'> 424 (41,)\n",
      "- contrib <class 'numpy.ndarray'> 424 (41,)\n",
      "- contribQOmega_bias_covQOmega <class 'numpy.ndarray'> 424 (41,)\n",
      "- contribQOmega_var_cov2QOmega <class 'numpy.ndarray'> 424 (41,)\n",
      "- contribQOmega_var_covQ2Omega2 <class 'numpy.ndarray'> 424 (41,)\n",
      "- contribQOmega_var_covQOmega <class 'numpy.ndarray'> 424 (41,)\n",
      "- contribQOmega_var_sum <class 'numpy.ndarray'> 424 (41,)\n",
      "- contribQOmega_var_varOmega <class 'numpy.ndarray'> 424 (41,)\n",
      "- contribQOmega_var_varQ <class 'numpy.ndarray'> 424 (41,)\n",
      "- contribQOmega_var_varQvarOmega <class 'numpy.ndarray'> 424 (41,)\n",
      "- contribTOmega_var_covTOmega <class 'numpy.ndarray'> 424 (41,)\n",
      "- contribTOmega_var_covTOmega2 <class 'numpy.ndarray'> 424 (41,)\n",
      "- contribTOmega_var_sum <class 'numpy.ndarray'> 424 (41,)\n",
      "- contribTOmega_var_varOmega <class 'numpy.ndarray'> 424 (41,)\n",
      "- contribTOmega_var_varT <class 'numpy.ndarray'> 424 (41,)\n",
      "- cov_qvstar_s_2_omega_500_2_prQ <class 'numpy.ndarray'> 424 (41,)\n",
      "- cov_qvstar_s_omega_500_prQ <class 'numpy.ndarray'> 424 (41,)\n",
      "- cov_ts_omega_500_2_prQ <class 'numpy.ndarray'> 424 (41,)\n",
      "- cov_ts_omega_500_prQ <class 'numpy.ndarray'> 424 (41,)\n",
      "- norm_var_pr <class 'numpy.ndarray'> 424 (41,)\n",
      "- norm_var_pr_I25 <class 'numpy.ndarray'> 424 (41,)\n",
      "- norm_var_pr_I75 <class 'numpy.ndarray'> 424 (41,)\n",
      "- norm_var_pr_Ibnd <class 'numpy.ndarray'> 424 (41,)\n",
      "- norm_var_pr_scOGS09_I25_prQ <class 'numpy.ndarray'> 424 (41,)\n",
      "- norm_var_pr_scOGS09_I75_prQ <class 'numpy.ndarray'> 424 (41,)\n",
      "- norm_var_pr_scOGS09_prQ <class 'numpy.ndarray'> 424 (41,)\n",
      "- norm_var_pr_scOGS09ad_I25_prQ <class 'numpy.ndarray'> 424 (41,)\n",
      "- norm_var_pr_scOGS09ad_I75_prQ <class 'numpy.ndarray'> 424 (41,)\n",
      "- norm_var_pr_scOGS09ad_prQ <class 'numpy.ndarray'> 424 (41,)\n",
      "- norm_var_pr_scRH_I25_prQ <class 'numpy.ndarray'> 424 (41,)\n",
      "- norm_var_pr_scRH_I75_prQ <class 'numpy.ndarray'> 424 (41,)\n",
      "- norm_var_pr_scRH_prQ <class 'numpy.ndarray'> 424 (41,)\n",
      "- norm_var_pr_scRHad_I25_prQ <class 'numpy.ndarray'> 424 (41,)\n",
      "- norm_var_pr_scRHad_I75_prQ <class 'numpy.ndarray'> 424 (41,)\n",
      "- norm_var_pr_scRHad_prQ <class 'numpy.ndarray'> 424 (41,)\n",
      "- norm_var_pr_sc_I25_prQ <class 'numpy.ndarray'> 424 (41,)\n",
      "- norm_var_pr_sc_I75_prQ <class 'numpy.ndarray'> 424 (41,)\n",
      "- norm_var_pr_sc_prQ <class 'numpy.ndarray'> 424 (41,)\n",
      "- omega_500_prQ <class 'numpy.ndarray'> 424 (41,)\n",
      "- percentiles <class 'numpy.ndarray'> 424 (41,)\n",
      "- percentiles_omega_500 <class 'numpy.ndarray'> 424 (41,)\n",
      "- percentiles_pr <class 'numpy.ndarray'> 424 (41,)\n",
      "- percentiles_pr_sc <class 'numpy.ndarray'> 424 (41,)\n",
      "- percentiles_pr_scOGS09 <class 'numpy.ndarray'> 424 (41,)\n",
      "- percentiles_pr_scOGS09ad <class 'numpy.ndarray'> 424 (41,)\n",
      "- percentiles_pr_scRH <class 'numpy.ndarray'> 424 (41,)\n",
      "- percentiles_pr_scRHad <class 'numpy.ndarray'> 424 (41,)\n",
      "- percentiles_qvstar_s <class 'numpy.ndarray'> 424 (41,)\n",
      "- pr_scOGS09_prQ <class 'numpy.ndarray'> 424 (41,)\n",
      "- pr_scOGS09_vQ <class 'numpy.ndarray'> 424 (41,)\n",
      "- pr_scOGS09ad_prQ <class 'numpy.ndarray'> 424 (41,)\n",
      "- pr_scOGS09ad_vQ <class 'numpy.ndarray'> 424 (41,)\n",
      "- pr_scRH_prQ <class 'numpy.ndarray'> 424 (41,)\n",
      "- pr_scRH_vQ <class 'numpy.ndarray'> 424 (41,)\n",
      "- pr_scRHad_prQ <class 'numpy.ndarray'> 424 (41,)\n",
      "- pr_scRHad_vQ <class 'numpy.ndarray'> 424 (41,)\n",
      "- pr_sc_prQ <class 'numpy.ndarray'> 424 (41,)\n",
      "- pr_sc_vQ <class 'numpy.ndarray'> 424 (41,)\n",
      "- qvstar_s_prQ <class 'numpy.ndarray'> 424 (41,)\n",
      "- ranks_omega_500 <class 'numpy.ndarray'> 424 (41,)\n",
      "- ranks_pr <class 'numpy.ndarray'> 96 (41,)\n",
      "- ranks_pr_sc <class 'numpy.ndarray'> 96 (41,)\n",
      "- ranks_pr_scOGS09 <class 'numpy.ndarray'> 96 (41,)\n",
      "- ranks_pr_scOGS09ad <class 'numpy.ndarray'> 96 (41,)\n",
      "- ranks_pr_scRH <class 'numpy.ndarray'> 96 (41,)\n",
      "- ranks_pr_scRHad <class 'numpy.ndarray'> 96 (41,)\n",
      "- ranks_qvstar_s <class 'numpy.ndarray'> 424 (41,)\n",
      "- ranks_ref <class 'numpy.ndarray'> 96 (41,)\n",
      "- ts_prQ <class 'numpy.ndarray'> 424 (41,)\n",
      "- var_omega_500_prQ <class 'numpy.ndarray'> 424 (41,)\n",
      "- var_prQ <class 'numpy.ndarray'> 424 (41,)\n",
      "- var_pr_scOGS09_I25_prQ <class 'numpy.ndarray'> 96 (41,)\n",
      "- var_pr_scOGS09_I75_prQ <class 'numpy.ndarray'> 96 (41,)\n",
      "- var_pr_scOGS09_prQ <class 'numpy.ndarray'> 424 (41,)\n",
      "- var_pr_scOGS09ad_I25_prQ <class 'numpy.ndarray'> 96 (41,)\n",
      "- var_pr_scOGS09ad_I75_prQ <class 'numpy.ndarray'> 96 (41,)\n",
      "- var_pr_scOGS09ad_prQ <class 'numpy.ndarray'> 424 (41,)\n",
      "- var_pr_scRH_I25_prQ <class 'numpy.ndarray'> 96 (41,)\n",
      "- var_pr_scRH_I75_prQ <class 'numpy.ndarray'> 96 (41,)\n",
      "- var_pr_scRH_prQ <class 'numpy.ndarray'> 424 (41,)\n",
      "- var_pr_scRHad_I25_prQ <class 'numpy.ndarray'> 96 (41,)\n",
      "- var_pr_scRHad_I75_prQ <class 'numpy.ndarray'> 96 (41,)\n",
      "- var_pr_scRHad_prQ <class 'numpy.ndarray'> 424 (41,)\n",
      "- var_pr_sc_I25_prQ <class 'numpy.ndarray'> 96 (41,)\n",
      "- var_pr_sc_I75_prQ <class 'numpy.ndarray'> 96 (41,)\n",
      "- var_pr_sc_prQ <class 'numpy.ndarray'> 424 (41,)\n",
      "- var_qvstar_s_prQ <class 'numpy.ndarray'> 424 (41,)\n",
      "- var_ts_prQ <class 'numpy.ndarray'> 424 (41,)\n",
      "- var_vQ <class 'numpy.ndarray'> 424 (41,)\n"
     ]
    }
   ],
   "source": [
    "vars_out_Q = list(set(vars_out_Q))\n",
    "vars_out_Q.sort()\n",
    "for v in vars_out_Q:\n",
    "    obj = getattr(thismodule,v)\n",
    "    if obj.__class__ is np.ndarray:\n",
    "        print('-',v,obj.__class__,sys.getsizeof(obj),obj.shape)\n",
    "    else:\n",
    "        print('-',v,obj.__class__,sys.getsizeof(obj))"
   ]
  },
  {
   "cell_type": "code",
   "execution_count": 318,
   "metadata": {
    "ExecuteTime": {
     "end_time": "2017-11-30T05:58:17.689917",
     "start_time": "2017-11-30T05:58:17.657229Z"
    },
    "collapsed": false,
    "run_control": {
     "frozen": false,
     "read_only": false
    },
    "scrolled": false
   },
   "outputs": [
    {
     "name": "stdout",
     "output_type": "stream",
     "text": [
      "create result dataframe\n"
     ]
    }
   ],
   "source": [
    "print(\"create result dataframe\")\n",
    "results_df = pd.DataFrame({v:getattr(thismodule,v) for v in vars_out_Q})"
   ]
  },
  {
   "cell_type": "code",
   "execution_count": 397,
   "metadata": {
    "ExecuteTime": {
     "end_time": "2017-11-30T07:54:55.465469",
     "start_time": "2017-11-30T07:54:55.312475Z"
    },
    "collapsed": false,
    "run_control": {
     "frozen": false,
     "read_only": false
    }
   },
   "outputs": [
    {
     "name": "stdout",
     "output_type": "stream",
     "text": [
      "> save results to results_dataframe_Q8-Q41_185005010100-185005020000.csv\n",
      "total size of dataframe = 25360 B\n",
      "\n"
     ]
    }
   ],
   "source": [
    "result_df_file = 'results_dataframe_%s.csv'%output_suffix\n",
    "print(\"> save results to %s\"%result_df_file)\n",
    "results_df.to_csv(os.path.join(resultdir,result_df_file))\n",
    "print(\"total size of dataframe =\",sys.getsizeof(results_df),\"B\")\n",
    "print()"
   ]
  },
  {
   "cell_type": "code",
   "execution_count": 438,
   "metadata": {
    "ExecuteTime": {
     "end_time": "2017-11-30T08:16:18.802954",
     "start_time": "2017-11-30T08:16:18.756772Z"
    },
    "collapsed": false,
    "run_control": {
     "frozen": false,
     "read_only": false
    },
    "scrolled": true
   },
   "outputs": [
    {
     "name": "stdout",
     "output_type": "stream",
     "text": [
      "> save variables with pickle.dump\n"
     ]
    }
   ],
   "source": [
    "print(\"> save variables with pickle.dump\")\n",
    "\n",
    "remaining_variables = set(locals().keys()).difference(set(vars_out_Q))\n",
    "\n",
    "# efficiencies\n",
    "var_to_pickle = ['n_pts','eps','eps_OGS09','eps_OGS09ad']\n",
    "var_to_pickle.extend(['fracarea_boost','fracarea_boost_ad','entrainment','entrainment_ad'])\n",
    "# bins\n",
    "var_to_pickle.extend([v for v in remaining_variables if v.startswith('bins_')])\n",
    "# densities\n",
    "var_to_pickle.extend([v for v in remaining_variables if v.startswith('density2D_')])\n",
    "var_to_pickle.extend([v for v in remaining_variables if v.startswith('norm_density2D_')])\n",
    "var_to_pickle.extend([v for v in remaining_variables if v.startswith('pdf1D_')])\n",
    "var_to_pickle.extend([v for v in remaining_variables if v.startswith('percentiles_pr_')])\n",
    "\n",
    "for varname in 'pr_sc','pr_scOGS09','pr_scOGS09ad','pr_scRH','pr_scRHad':\n",
    "    var_to_pickle.extend([v for v in remaining_variables if v.startswith(\"%s_\"%varname)])\n",
    "    \n",
    "var_to_pickle.append('pr_omega_500Q_qvstar_sQ')\n",
    "var_to_pickle.extend([v for v in remaining_variables if v.startswith('ranks_pr_')])\n",
    "\n",
    "var_to_pickle = list(set(var_to_pickle))\n",
    "var_to_pickle.sort()"
   ]
  },
  {
   "cell_type": "code",
   "execution_count": 439,
   "metadata": {
    "ExecuteTime": {
     "end_time": "2017-11-30T08:16:36.672152",
     "start_time": "2017-11-30T08:16:36.467844Z"
    },
    "collapsed": false,
    "run_control": {
     "frozen": false,
     "read_only": false
    },
    "scrolled": false
   },
   "outputs": [
    {
     "name": "stdout",
     "output_type": "stream",
     "text": [
      "315 variables\n",
      "- N_omega_500 <class 'numpy.ndarray'> 424 (41,)\n",
      "- N_pr <class 'numpy.ndarray'> 424 (41,)\n",
      "- N_prQ <class 'numpy.ndarray'> 424 (41,)\n",
      "- N_pr_sc <class 'numpy.ndarray'> 424 (41,)\n",
      "- N_pr_scOGS09 <class 'numpy.ndarray'> 424 (41,)\n",
      "- N_pr_scOGS09ad <class 'numpy.ndarray'> 424 (41,)\n",
      "- N_pr_scRH <class 'numpy.ndarray'> 424 (41,)\n",
      "- N_pr_scRHad <class 'numpy.ndarray'> 424 (41,)\n",
      "- N_qvstar_s <class 'numpy.ndarray'> 424 (41,)\n",
      "- bias_sc <class 'numpy.ndarray'> 424 (41,)\n",
      "- bias_scOGS09 <class 'numpy.ndarray'> 424 (41,)\n",
      "- bias_scOGS09ad <class 'numpy.ndarray'> 424 (41,)\n",
      "- bias_scRH <class 'numpy.ndarray'> 424 (41,)\n",
      "- bias_scRHad <class 'numpy.ndarray'> 424 (41,)\n",
      "- bins_%s <class 'numpy.ndarray'> 432 (42,)\n",
      "- bins_omega_500 <class 'numpy.ndarray'> 432 (42,)\n",
      "- bins_pr <class 'numpy.ndarray'> 432 (42,)\n",
      "- bins_pr_sc <class 'numpy.ndarray'> 432 (42,)\n",
      "- bins_pr_scOGS09 <class 'numpy.ndarray'> 432 (42,)\n",
      "- bins_pr_scOGS09_pr_Q25Q35 <class 'numpy.ndarray'> 256 (20,)\n",
      "- bins_pr_scOGS09_pr_Q26Q34 <class 'numpy.ndarray'> 256 (20,)\n",
      "- bins_pr_scOGS09_pr_Q27Q33 <class 'numpy.ndarray'> 256 (20,)\n",
      "- bins_pr_scOGS09_pr_Q28Q32 <class 'numpy.ndarray'> 256 (20,)\n",
      "- bins_pr_scOGS09_pr_Q29Q31 <class 'numpy.ndarray'> 256 (20,)\n",
      "- bins_pr_scOGS09ad <class 'numpy.ndarray'> 432 (42,)\n",
      "- bins_pr_scOGS09ad_pr_Q25Q35 <class 'numpy.ndarray'> 256 (20,)\n",
      "- bins_pr_scOGS09ad_pr_Q26Q34 <class 'numpy.ndarray'> 256 (20,)\n",
      "- bins_pr_scOGS09ad_pr_Q27Q33 <class 'numpy.ndarray'> 256 (20,)\n",
      "- bins_pr_scOGS09ad_pr_Q28Q32 <class 'numpy.ndarray'> 256 (20,)\n",
      "- bins_pr_scOGS09ad_pr_Q29Q31 <class 'numpy.ndarray'> 256 (20,)\n",
      "- bins_pr_scRH <class 'numpy.ndarray'> 432 (42,)\n",
      "- bins_pr_scRH_pr_Q25Q35 <class 'numpy.ndarray'> 256 (20,)\n",
      "- bins_pr_scRH_pr_Q26Q34 <class 'numpy.ndarray'> 256 (20,)\n",
      "- bins_pr_scRH_pr_Q27Q33 <class 'numpy.ndarray'> 256 (20,)\n",
      "- bins_pr_scRH_pr_Q28Q32 <class 'numpy.ndarray'> 256 (20,)\n",
      "- bins_pr_scRH_pr_Q29Q31 <class 'numpy.ndarray'> 256 (20,)\n",
      "- bins_pr_scRHad <class 'numpy.ndarray'> 432 (42,)\n",
      "- bins_pr_scRHad_pr_Q25Q35 <class 'numpy.ndarray'> 256 (20,)\n",
      "- bins_pr_scRHad_pr_Q26Q34 <class 'numpy.ndarray'> 256 (20,)\n",
      "- bins_pr_scRHad_pr_Q27Q33 <class 'numpy.ndarray'> 256 (20,)\n",
      "- bins_pr_scRHad_pr_Q28Q32 <class 'numpy.ndarray'> 256 (20,)\n",
      "- bins_pr_scRHad_pr_Q29Q31 <class 'numpy.ndarray'> 256 (20,)\n",
      "- bins_pr_sc_pr_Q15Q25 <class 'numpy.ndarray'> 256 (20,)\n",
      "- bins_pr_sc_pr_Q25Q35 <class 'numpy.ndarray'> 256 (20,)\n",
      "- bins_pr_sc_pr_Q26Q34 <class 'numpy.ndarray'> 256 (20,)\n",
      "- bins_pr_sc_pr_Q27Q33 <class 'numpy.ndarray'> 256 (20,)\n",
      "- bins_pr_sc_pr_Q28Q32 <class 'numpy.ndarray'> 256 (20,)\n",
      "- bins_pr_sc_pr_Q29Q31 <class 'numpy.ndarray'> 256 (20,)\n",
      "- bins_qvstar_s <class 'numpy.ndarray'> 432 (42,)\n",
      "- bins_var <class 'numpy.ndarray'> 432 (42,)\n",
      "- bins_x <class 'numpy.ndarray'> 432 (42,)\n",
      "- bins_y <class 'numpy.ndarray'> 432 (42,)\n",
      "- bins_y2 <class 'numpy.ndarray'> 432 (42,)\n",
      "- contrib <class 'numpy.ndarray'> 424 (41,)\n",
      "- contribQOmega_bias_covQOmega <class 'numpy.ndarray'> 424 (41,)\n",
      "- contribQOmega_var_cov2QOmega <class 'numpy.ndarray'> 424 (41,)\n",
      "- contribQOmega_var_covQ2Omega2 <class 'numpy.ndarray'> 424 (41,)\n",
      "- contribQOmega_var_covQOmega <class 'numpy.ndarray'> 424 (41,)\n",
      "- contribQOmega_var_sum <class 'numpy.ndarray'> 424 (41,)\n",
      "- contribQOmega_var_varOmega <class 'numpy.ndarray'> 424 (41,)\n",
      "- contribQOmega_var_varQ <class 'numpy.ndarray'> 424 (41,)\n",
      "- contribQOmega_var_varQvarOmega <class 'numpy.ndarray'> 424 (41,)\n",
      "- contribTOmega_var_covTOmega <class 'numpy.ndarray'> 424 (41,)\n",
      "- contribTOmega_var_covTOmega2 <class 'numpy.ndarray'> 424 (41,)\n",
      "- contribTOmega_var_sum <class 'numpy.ndarray'> 424 (41,)\n",
      "- contribTOmega_var_varOmega <class 'numpy.ndarray'> 424 (41,)\n",
      "- contribTOmega_var_varT <class 'numpy.ndarray'> 424 (41,)\n",
      "- cov_qvstar_s_2_omega_500_2_prQ <class 'numpy.ndarray'> 424 (41,)\n",
      "- cov_qvstar_s_omega_500_prQ <class 'numpy.ndarray'> 424 (41,)\n",
      "- cov_ts_omega_500_2_prQ <class 'numpy.ndarray'> 424 (41,)\n",
      "- cov_ts_omega_500_prQ <class 'numpy.ndarray'> 424 (41,)\n",
      "- density2D_omega_500_qvstar_s <class 'numpy.ndarray'> 13560 (41, 41)\n",
      "- density2D_pr_pr <class 'numpy.ndarray'> 13560 (41, 41)\n",
      "- density2D_pr_pr_sc <class 'numpy.ndarray'> 13560 (41, 41)\n",
      "- density2D_pr_pr_scOGS09 <class 'numpy.ndarray'> 13560 (41, 41)\n",
      "- density2D_pr_pr_scOGS09ad <class 'numpy.ndarray'> 13560 (41, 41)\n",
      "- density2D_pr_pr_scRH <class 'numpy.ndarray'> 13560 (41, 41)\n",
      "- density2D_pr_pr_scRHad <class 'numpy.ndarray'> 13560 (41, 41)\n",
      "- density2D_pr_scOGS09_pr <class 'numpy.ndarray'> 13560 (41, 41)\n",
      "- density2D_pr_scOGS09_pr_sc <class 'numpy.ndarray'> 13560 (41, 41)\n",
      "- density2D_pr_scOGS09_pr_scOGS09 <class 'numpy.ndarray'> 13560 (41, 41)\n",
      "- density2D_pr_scOGS09_pr_scOGS09ad <class 'numpy.ndarray'> 13560 (41, 41)\n",
      "- density2D_pr_scOGS09_pr_scRH <class 'numpy.ndarray'> 13560 (41, 41)\n",
      "- density2D_pr_scOGS09_pr_scRHad <class 'numpy.ndarray'> 13560 (41, 41)\n",
      "- density2D_pr_scOGS09ad_pr <class 'numpy.ndarray'> 13560 (41, 41)\n",
      "- density2D_pr_scOGS09ad_pr_sc <class 'numpy.ndarray'> 13560 (41, 41)\n",
      "- density2D_pr_scOGS09ad_pr_scOGS09 <class 'numpy.ndarray'> 13560 (41, 41)\n",
      "- density2D_pr_scOGS09ad_pr_scOGS09ad <class 'numpy.ndarray'> 13560 (41, 41)\n",
      "- density2D_pr_scOGS09ad_pr_scRH <class 'numpy.ndarray'> 13560 (41, 41)\n",
      "- density2D_pr_scOGS09ad_pr_scRHad <class 'numpy.ndarray'> 13560 (41, 41)\n",
      "- density2D_pr_scRH_pr <class 'numpy.ndarray'> 13560 (41, 41)\n",
      "- density2D_pr_scRH_pr_sc <class 'numpy.ndarray'> 13560 (41, 41)\n",
      "- density2D_pr_scRH_pr_scOGS09 <class 'numpy.ndarray'> 13560 (41, 41)\n",
      "- density2D_pr_scRH_pr_scOGS09ad <class 'numpy.ndarray'> 13560 (41, 41)\n",
      "- density2D_pr_scRH_pr_scRH <class 'numpy.ndarray'> 13560 (41, 41)\n",
      "- density2D_pr_scRH_pr_scRHad <class 'numpy.ndarray'> 13560 (41, 41)\n",
      "- density2D_pr_scRHad_pr <class 'numpy.ndarray'> 13560 (41, 41)\n",
      "- density2D_pr_scRHad_pr_sc <class 'numpy.ndarray'> 13560 (41, 41)\n",
      "- density2D_pr_scRHad_pr_scOGS09 <class 'numpy.ndarray'> 13560 (41, 41)\n",
      "- density2D_pr_scRHad_pr_scOGS09ad <class 'numpy.ndarray'> 13560 (41, 41)\n",
      "- density2D_pr_scRHad_pr_scRH <class 'numpy.ndarray'> 13560 (41, 41)\n",
      "- density2D_pr_scRHad_pr_scRHad <class 'numpy.ndarray'> 13560 (41, 41)\n",
      "- density2D_pr_sc_pr <class 'numpy.ndarray'> 13560 (41, 41)\n",
      "- density2D_pr_sc_pr_sc <class 'numpy.ndarray'> 13560 (41, 41)\n",
      "- density2D_pr_sc_pr_scOGS09 <class 'numpy.ndarray'> 13560 (41, 41)\n",
      "- density2D_pr_sc_pr_scOGS09ad <class 'numpy.ndarray'> 13560 (41, 41)\n",
      "- density2D_pr_sc_pr_scRH <class 'numpy.ndarray'> 13560 (41, 41)\n",
      "- density2D_pr_sc_pr_scRHad <class 'numpy.ndarray'> 13560 (41, 41)\n",
      "- entrainment <class 'numpy.float64'> 32\n",
      "- entrainment_ad <class 'numpy.float64'> 32\n",
      "- eps <class 'float'> 24\n",
      "- eps_OGS09 <class 'numpy.float64'> 32\n",
      "- eps_OGS09ad <class 'numpy.float64'> 32\n",
      "- fracarea_boost <class 'numpy.float64'> 32\n",
      "- fracarea_boost_ad <class 'numpy.float64'> 32\n",
      "- n_pts <class 'int'> 28\n",
      "- norm_density2D_omega_500_qvstar_s <class 'numpy.ndarray'> 13560 (41, 41)\n",
      "- norm_density2D_pr_pr <class 'numpy.ndarray'> 13560 (41, 41)\n",
      "- norm_density2D_pr_pr_sc <class 'numpy.ndarray'> 13560 (41, 41)\n",
      "- norm_density2D_pr_pr_scOGS09 <class 'numpy.ndarray'> 13560 (41, 41)\n",
      "- norm_density2D_pr_pr_scOGS09ad <class 'numpy.ndarray'> 13560 (41, 41)\n",
      "- norm_density2D_pr_pr_scRH <class 'numpy.ndarray'> 13560 (41, 41)\n",
      "- norm_density2D_pr_pr_scRHad <class 'numpy.ndarray'> 13560 (41, 41)\n",
      "- norm_density2D_pr_scOGS09_pr <class 'numpy.ndarray'> 13560 (41, 41)\n",
      "- norm_density2D_pr_scOGS09_pr_sc <class 'numpy.ndarray'> 13560 (41, 41)\n",
      "- norm_density2D_pr_scOGS09_pr_scOGS09 <class 'numpy.ndarray'> 13560 (41, 41)\n",
      "- norm_density2D_pr_scOGS09_pr_scOGS09ad <class 'numpy.ndarray'> 13560 (41, 41)\n",
      "- norm_density2D_pr_scOGS09_pr_scRH <class 'numpy.ndarray'> 13560 (41, 41)\n",
      "- norm_density2D_pr_scOGS09_pr_scRHad <class 'numpy.ndarray'> 13560 (41, 41)\n",
      "- norm_density2D_pr_scOGS09ad_pr <class 'numpy.ndarray'> 13560 (41, 41)\n",
      "- norm_density2D_pr_scOGS09ad_pr_sc <class 'numpy.ndarray'> 13560 (41, 41)\n",
      "- norm_density2D_pr_scOGS09ad_pr_scOGS09 <class 'numpy.ndarray'> 13560 (41, 41)\n",
      "- norm_density2D_pr_scOGS09ad_pr_scOGS09ad <class 'numpy.ndarray'> 13560 (41, 41)\n",
      "- norm_density2D_pr_scOGS09ad_pr_scRH <class 'numpy.ndarray'> 13560 (41, 41)\n",
      "- norm_density2D_pr_scOGS09ad_pr_scRHad <class 'numpy.ndarray'> 13560 (41, 41)\n",
      "- norm_density2D_pr_scRH_pr <class 'numpy.ndarray'> 13560 (41, 41)\n",
      "- norm_density2D_pr_scRH_pr_sc <class 'numpy.ndarray'> 13560 (41, 41)\n",
      "- norm_density2D_pr_scRH_pr_scOGS09 <class 'numpy.ndarray'> 13560 (41, 41)\n",
      "- norm_density2D_pr_scRH_pr_scOGS09ad <class 'numpy.ndarray'> 13560 (41, 41)\n",
      "- norm_density2D_pr_scRH_pr_scRH <class 'numpy.ndarray'> 13560 (41, 41)\n",
      "- norm_density2D_pr_scRH_pr_scRHad <class 'numpy.ndarray'> 13560 (41, 41)\n",
      "- norm_density2D_pr_scRHad_pr <class 'numpy.ndarray'> 13560 (41, 41)\n",
      "- norm_density2D_pr_scRHad_pr_sc <class 'numpy.ndarray'> 13560 (41, 41)\n",
      "- norm_density2D_pr_scRHad_pr_scOGS09 <class 'numpy.ndarray'> 13560 (41, 41)\n",
      "- norm_density2D_pr_scRHad_pr_scOGS09ad <class 'numpy.ndarray'> 13560 (41, 41)\n",
      "- norm_density2D_pr_scRHad_pr_scRH <class 'numpy.ndarray'> 13560 (41, 41)\n",
      "- norm_density2D_pr_scRHad_pr_scRHad <class 'numpy.ndarray'> 13560 (41, 41)\n",
      "- norm_density2D_pr_sc_pr <class 'numpy.ndarray'> 13560 (41, 41)\n",
      "- norm_density2D_pr_sc_pr_sc <class 'numpy.ndarray'> 13560 (41, 41)\n",
      "- norm_density2D_pr_sc_pr_scOGS09 <class 'numpy.ndarray'> 13560 (41, 41)\n",
      "- norm_density2D_pr_sc_pr_scOGS09ad <class 'numpy.ndarray'> 13560 (41, 41)\n",
      "- norm_density2D_pr_sc_pr_scRH <class 'numpy.ndarray'> 13560 (41, 41)\n",
      "- norm_density2D_pr_sc_pr_scRHad <class 'numpy.ndarray'> 13560 (41, 41)\n",
      "- norm_var_pr <class 'numpy.ndarray'> 424 (41,)\n",
      "- norm_var_pr_I25 <class 'numpy.ndarray'> 424 (41,)\n",
      "- norm_var_pr_I75 <class 'numpy.ndarray'> 424 (41,)\n",
      "- norm_var_pr_Ibnd <class 'numpy.ndarray'> 424 (41,)\n",
      "- norm_var_pr_scOGS09_I25_prQ <class 'numpy.ndarray'> 424 (41,)\n",
      "- norm_var_pr_scOGS09_I75_prQ <class 'numpy.ndarray'> 424 (41,)\n",
      "- norm_var_pr_scOGS09_prQ <class 'numpy.ndarray'> 424 (41,)\n",
      "- norm_var_pr_scOGS09ad_I25_prQ <class 'numpy.ndarray'> 424 (41,)\n",
      "- norm_var_pr_scOGS09ad_I75_prQ <class 'numpy.ndarray'> 424 (41,)\n",
      "- norm_var_pr_scOGS09ad_prQ <class 'numpy.ndarray'> 424 (41,)\n",
      "- norm_var_pr_scRH_I25_prQ <class 'numpy.ndarray'> 424 (41,)\n",
      "- norm_var_pr_scRH_I75_prQ <class 'numpy.ndarray'> 424 (41,)\n",
      "- norm_var_pr_scRH_prQ <class 'numpy.ndarray'> 424 (41,)\n",
      "- norm_var_pr_scRHad_I25_prQ <class 'numpy.ndarray'> 424 (41,)\n",
      "- norm_var_pr_scRHad_I75_prQ <class 'numpy.ndarray'> 424 (41,)\n",
      "- norm_var_pr_scRHad_prQ <class 'numpy.ndarray'> 424 (41,)\n",
      "- norm_var_pr_sc_I25_prQ <class 'numpy.ndarray'> 424 (41,)\n",
      "- norm_var_pr_sc_I75_prQ <class 'numpy.ndarray'> 424 (41,)\n",
      "- norm_var_pr_sc_prQ <class 'numpy.ndarray'> 424 (41,)\n",
      "- omega_500_prQ <class 'numpy.ndarray'> 424 (41,)\n",
      "- pdf1D_pr_scOGS09_pr_Q25Q35 <class 'numpy.ndarray'> 248 (19,)\n",
      "- pdf1D_pr_scOGS09_pr_Q26Q34 <class 'numpy.ndarray'> 248 (19,)\n",
      "- pdf1D_pr_scOGS09_pr_Q27Q33 <class 'numpy.ndarray'> 248 (19,)\n",
      "- pdf1D_pr_scOGS09_pr_Q28Q32 <class 'numpy.ndarray'> 248 (19,)\n",
      "- pdf1D_pr_scOGS09_pr_Q29Q31 <class 'numpy.ndarray'> 248 (19,)\n",
      "- pdf1D_pr_scOGS09ad_pr_Q25Q35 <class 'numpy.ndarray'> 248 (19,)\n",
      "- pdf1D_pr_scOGS09ad_pr_Q26Q34 <class 'numpy.ndarray'> 248 (19,)\n",
      "- pdf1D_pr_scOGS09ad_pr_Q27Q33 <class 'numpy.ndarray'> 248 (19,)\n",
      "- pdf1D_pr_scOGS09ad_pr_Q28Q32 <class 'numpy.ndarray'> 248 (19,)\n",
      "- pdf1D_pr_scOGS09ad_pr_Q29Q31 <class 'numpy.ndarray'> 248 (19,)\n",
      "- pdf1D_pr_scRH_pr_Q25Q35 <class 'numpy.ndarray'> 248 (19,)\n",
      "- pdf1D_pr_scRH_pr_Q26Q34 <class 'numpy.ndarray'> 248 (19,)\n",
      "- pdf1D_pr_scRH_pr_Q27Q33 <class 'numpy.ndarray'> 248 (19,)\n",
      "- pdf1D_pr_scRH_pr_Q28Q32 <class 'numpy.ndarray'> 248 (19,)\n",
      "- pdf1D_pr_scRH_pr_Q29Q31 <class 'numpy.ndarray'> 248 (19,)\n",
      "- pdf1D_pr_scRHad_pr_Q25Q35 <class 'numpy.ndarray'> 248 (19,)\n",
      "- pdf1D_pr_scRHad_pr_Q26Q34 <class 'numpy.ndarray'> 248 (19,)\n",
      "- pdf1D_pr_scRHad_pr_Q27Q33 <class 'numpy.ndarray'> 248 (19,)\n",
      "- pdf1D_pr_scRHad_pr_Q28Q32 <class 'numpy.ndarray'> 248 (19,)\n",
      "- pdf1D_pr_scRHad_pr_Q29Q31 <class 'numpy.ndarray'> 248 (19,)\n",
      "- pdf1D_pr_sc_pr_Q25Q35 <class 'numpy.ndarray'> 248 (19,)\n",
      "- pdf1D_pr_sc_pr_Q26Q34 <class 'numpy.ndarray'> 248 (19,)\n",
      "- pdf1D_pr_sc_pr_Q27Q33 <class 'numpy.ndarray'> 248 (19,)\n",
      "- pdf1D_pr_sc_pr_Q28Q32 <class 'numpy.ndarray'> 248 (19,)\n",
      "- pdf1D_pr_sc_pr_Q29Q31 <class 'numpy.ndarray'> 248 (19,)\n",
      "- percentiles <class 'numpy.ndarray'> 424 (41,)\n",
      "- percentiles_omega_500 <class 'numpy.ndarray'> 424 (41,)\n",
      "- percentiles_pr <class 'numpy.ndarray'> 424 (41,)\n",
      "- percentiles_pr_sc <class 'numpy.ndarray'> 424 (41,)\n",
      "- percentiles_pr_scOGS09 <class 'numpy.ndarray'> 424 (41,)\n",
      "- percentiles_pr_scOGS09_pr_Q25Q35 <class 'numpy.ndarray'> 248 (19,)\n",
      "- percentiles_pr_scOGS09_pr_Q26Q34 <class 'numpy.ndarray'> 248 (19,)\n",
      "- percentiles_pr_scOGS09_pr_Q27Q33 <class 'numpy.ndarray'> 248 (19,)\n",
      "- percentiles_pr_scOGS09_pr_Q28Q32 <class 'numpy.ndarray'> 248 (19,)\n",
      "- percentiles_pr_scOGS09_pr_Q29Q31 <class 'numpy.ndarray'> 248 (19,)\n",
      "- percentiles_pr_scOGS09ad <class 'numpy.ndarray'> 424 (41,)\n",
      "- percentiles_pr_scOGS09ad_pr_Q25Q35 <class 'numpy.ndarray'> 248 (19,)\n",
      "- percentiles_pr_scOGS09ad_pr_Q26Q34 <class 'numpy.ndarray'> 248 (19,)\n",
      "- percentiles_pr_scOGS09ad_pr_Q27Q33 <class 'numpy.ndarray'> 248 (19,)\n",
      "- percentiles_pr_scOGS09ad_pr_Q28Q32 <class 'numpy.ndarray'> 248 (19,)\n",
      "- percentiles_pr_scOGS09ad_pr_Q29Q31 <class 'numpy.ndarray'> 248 (19,)\n",
      "- percentiles_pr_scRH <class 'numpy.ndarray'> 424 (41,)\n",
      "- percentiles_pr_scRH_pr_Q25Q35 <class 'numpy.ndarray'> 248 (19,)\n",
      "- percentiles_pr_scRH_pr_Q26Q34 <class 'numpy.ndarray'> 248 (19,)\n",
      "- percentiles_pr_scRH_pr_Q27Q33 <class 'numpy.ndarray'> 248 (19,)\n",
      "- percentiles_pr_scRH_pr_Q28Q32 <class 'numpy.ndarray'> 248 (19,)\n",
      "- percentiles_pr_scRH_pr_Q29Q31 <class 'numpy.ndarray'> 248 (19,)\n",
      "- percentiles_pr_scRHad <class 'numpy.ndarray'> 424 (41,)\n",
      "- percentiles_pr_scRHad_pr_Q25Q35 <class 'numpy.ndarray'> 248 (19,)\n",
      "- percentiles_pr_scRHad_pr_Q26Q34 <class 'numpy.ndarray'> 248 (19,)\n",
      "- percentiles_pr_scRHad_pr_Q27Q33 <class 'numpy.ndarray'> 248 (19,)\n",
      "- percentiles_pr_scRHad_pr_Q28Q32 <class 'numpy.ndarray'> 248 (19,)\n",
      "- percentiles_pr_scRHad_pr_Q29Q31 <class 'numpy.ndarray'> 248 (19,)\n",
      "- percentiles_pr_sc_pr_Q15Q25 <class 'numpy.ndarray'> 248 (19,)\n",
      "- percentiles_pr_sc_pr_Q25Q35 <class 'numpy.ndarray'> 248 (19,)\n",
      "- percentiles_pr_sc_pr_Q26Q34 <class 'numpy.ndarray'> 248 (19,)\n",
      "- percentiles_pr_sc_pr_Q27Q33 <class 'numpy.ndarray'> 248 (19,)\n",
      "- percentiles_pr_sc_pr_Q28Q32 <class 'numpy.ndarray'> 248 (19,)\n",
      "- percentiles_pr_sc_pr_Q29Q31 <class 'numpy.ndarray'> 248 (19,)\n",
      "- percentiles_qvstar_s <class 'numpy.ndarray'> 424 (41,)\n",
      "- pr_omega_500Q_qvstar_sQ <class 'numpy.ndarray'> 13560 (41, 41)\n",
      "- pr_scOGS09_I90 <class 'numpy.ndarray'> 768 (41, 2)\n",
      "- pr_scOGS09_IQR <class 'numpy.ndarray'> 768 (41, 2)\n",
      "- pr_scOGS09_omega_500Q_qvstar_sQ <class 'numpy.ndarray'> 13560 (41, 41)\n",
      "- pr_scOGS09_prQ <class 'numpy.ndarray'> 424 (41,)\n",
      "- pr_scOGS09_vQ <class 'numpy.ndarray'> 424 (41,)\n",
      "- pr_scOGS09ad_I90 <class 'numpy.ndarray'> 768 (41, 2)\n",
      "- pr_scOGS09ad_IQR <class 'numpy.ndarray'> 768 (41, 2)\n",
      "- pr_scOGS09ad_prQ <class 'numpy.ndarray'> 424 (41,)\n",
      "- pr_scOGS09ad_vQ <class 'numpy.ndarray'> 424 (41,)\n",
      "- pr_scRH_I90 <class 'numpy.ndarray'> 768 (41, 2)\n",
      "- pr_scRH_IQR <class 'numpy.ndarray'> 768 (41, 2)\n",
      "- pr_scRH_prQ <class 'numpy.ndarray'> 424 (41,)\n",
      "- pr_scRH_vQ <class 'numpy.ndarray'> 424 (41,)\n",
      "- pr_scRHad_I90 <class 'numpy.ndarray'> 768 (41, 2)\n",
      "- pr_scRHad_IQR <class 'numpy.ndarray'> 768 (41, 2)\n",
      "- pr_scRHad_prQ <class 'numpy.ndarray'> 424 (41,)\n",
      "- pr_scRHad_vQ <class 'numpy.ndarray'> 424 (41,)\n",
      "- pr_sc_I90 <class 'numpy.ndarray'> 768 (41, 2)\n",
      "- pr_sc_IQR <class 'numpy.ndarray'> 768 (41, 2)\n",
      "- pr_sc_omega_500Q_qvstar_sQ <class 'numpy.ndarray'> 13560 (41, 41)\n",
      "- pr_sc_prQ <class 'numpy.ndarray'> 424 (41,)\n",
      "- pr_sc_vQ <class 'numpy.ndarray'> 424 (41,)\n",
      "- qvstar_s_prQ <class 'numpy.ndarray'> 424 (41,)\n",
      "- ranks_omega_500 <class 'numpy.ndarray'> 424 (41,)\n",
      "- ranks_pr <class 'numpy.ndarray'> 96 (41,)\n",
      "- ranks_pr_omega_500Q_qvstar_sQ <class 'numpy.ndarray'> 13560 (41, 41)\n",
      "- ranks_pr_sc <class 'numpy.ndarray'> 96 (41,)\n",
      "- ranks_pr_scOGS09 <class 'numpy.ndarray'> 96 (41,)\n",
      "- ranks_pr_scOGS09_omega_500Q_qvstar_sQ <class 'numpy.ndarray'> 13560 (41, 41)\n",
      "- ranks_pr_scOGS09_pr_Q25Q35 <class 'numpy.ndarray'> 248 (19,)\n",
      "- ranks_pr_scOGS09_pr_Q26Q34 <class 'numpy.ndarray'> 248 (19,)\n",
      "- ranks_pr_scOGS09_pr_Q27Q33 <class 'numpy.ndarray'> 248 (19,)\n",
      "- ranks_pr_scOGS09_pr_Q28Q32 <class 'numpy.ndarray'> 248 (19,)\n",
      "- ranks_pr_scOGS09_pr_Q29Q31 <class 'numpy.ndarray'> 248 (19,)\n",
      "- ranks_pr_scOGS09ad <class 'numpy.ndarray'> 96 (41,)\n",
      "- ranks_pr_scOGS09ad_pr_Q25Q35 <class 'numpy.ndarray'> 248 (19,)\n",
      "- ranks_pr_scOGS09ad_pr_Q26Q34 <class 'numpy.ndarray'> 248 (19,)\n",
      "- ranks_pr_scOGS09ad_pr_Q27Q33 <class 'numpy.ndarray'> 248 (19,)\n",
      "- ranks_pr_scOGS09ad_pr_Q28Q32 <class 'numpy.ndarray'> 248 (19,)\n",
      "- ranks_pr_scOGS09ad_pr_Q29Q31 <class 'numpy.ndarray'> 248 (19,)\n",
      "- ranks_pr_scRH <class 'numpy.ndarray'> 96 (41,)\n",
      "- ranks_pr_scRH_pr_Q25Q35 <class 'numpy.ndarray'> 248 (19,)\n",
      "- ranks_pr_scRH_pr_Q26Q34 <class 'numpy.ndarray'> 248 (19,)\n",
      "- ranks_pr_scRH_pr_Q27Q33 <class 'numpy.ndarray'> 248 (19,)\n",
      "- ranks_pr_scRH_pr_Q28Q32 <class 'numpy.ndarray'> 248 (19,)\n",
      "- ranks_pr_scRH_pr_Q29Q31 <class 'numpy.ndarray'> 248 (19,)\n",
      "- ranks_pr_scRHad <class 'numpy.ndarray'> 96 (41,)\n",
      "- ranks_pr_scRHad_pr_Q25Q35 <class 'numpy.ndarray'> 248 (19,)\n",
      "- ranks_pr_scRHad_pr_Q26Q34 <class 'numpy.ndarray'> 248 (19,)\n",
      "- ranks_pr_scRHad_pr_Q27Q33 <class 'numpy.ndarray'> 248 (19,)\n",
      "- ranks_pr_scRHad_pr_Q28Q32 <class 'numpy.ndarray'> 248 (19,)\n",
      "- ranks_pr_scRHad_pr_Q29Q31 <class 'numpy.ndarray'> 248 (19,)\n",
      "- ranks_pr_sc_omega_500Q_qvstar_sQ <class 'numpy.ndarray'> 13560 (41, 41)\n",
      "- ranks_pr_sc_pr_Q25Q35 <class 'numpy.ndarray'> 248 (19,)\n",
      "- ranks_pr_sc_pr_Q26Q34 <class 'numpy.ndarray'> 248 (19,)\n",
      "- ranks_pr_sc_pr_Q27Q33 <class 'numpy.ndarray'> 248 (19,)\n",
      "- ranks_pr_sc_pr_Q28Q32 <class 'numpy.ndarray'> 248 (19,)\n",
      "- ranks_pr_sc_pr_Q29Q31 <class 'numpy.ndarray'> 248 (19,)\n",
      "- ranks_qvstar_s <class 'numpy.ndarray'> 424 (41,)\n",
      "- ranks_ref <class 'numpy.ndarray'> 96 (41,)\n",
      "- ts_prQ <class 'numpy.ndarray'> 424 (41,)\n",
      "- var_omega_500_prQ <class 'numpy.ndarray'> 424 (41,)\n",
      "- var_prQ <class 'numpy.ndarray'> 424 (41,)\n",
      "- var_pr_scOGS09_I25_prQ <class 'numpy.ndarray'> 96 (41,)\n",
      "- var_pr_scOGS09_I75_prQ <class 'numpy.ndarray'> 96 (41,)\n",
      "- var_pr_scOGS09_prQ <class 'numpy.ndarray'> 424 (41,)\n",
      "- var_pr_scOGS09ad_I25_prQ <class 'numpy.ndarray'> 96 (41,)\n",
      "- var_pr_scOGS09ad_I75_prQ <class 'numpy.ndarray'> 96 (41,)\n",
      "- var_pr_scOGS09ad_prQ <class 'numpy.ndarray'> 424 (41,)\n",
      "- var_pr_scRH_I25_prQ <class 'numpy.ndarray'> 96 (41,)\n",
      "- var_pr_scRH_I75_prQ <class 'numpy.ndarray'> 96 (41,)\n",
      "- var_pr_scRH_prQ <class 'numpy.ndarray'> 424 (41,)\n",
      "- var_pr_scRHad_I25_prQ <class 'numpy.ndarray'> 96 (41,)\n",
      "- var_pr_scRHad_I75_prQ <class 'numpy.ndarray'> 96 (41,)\n",
      "- var_pr_scRHad_prQ <class 'numpy.ndarray'> 424 (41,)\n",
      "- var_pr_sc_I25_prQ <class 'numpy.ndarray'> 96 (41,)\n",
      "- var_pr_sc_I75_prQ <class 'numpy.ndarray'> 96 (41,)\n",
      "- var_pr_sc_prQ <class 'numpy.ndarray'> 424 (41,)\n",
      "- var_qvstar_s_prQ <class 'numpy.ndarray'> 424 (41,)\n",
      "- var_ts_prQ <class 'numpy.ndarray'> 424 (41,)\n",
      "- var_vQ <class 'numpy.ndarray'> 424 (41,)\n"
     ]
    }
   ],
   "source": [
    "all_vars_to_save = list(set(vars_out_Q+var_to_pickle))\n",
    "all_vars_to_save.sort()\n",
    "\n",
    "print(len(all_vars_to_save),\"variables\")\n",
    "\n",
    "size_pickle = 0\n",
    "dict_pickle = {}\n",
    "for v in all_vars_to_save:\n",
    "    obj = getattr(thismodule,v)\n",
    "    size_pickle += sys.getsizeof(obj)\n",
    "    if obj.__class__ is np.ndarray:\n",
    "        print('-',v,obj.__class__,sys.getsizeof(obj),obj.shape)\n",
    "    else:\n",
    "        print('-',v,obj.__class__,sys.getsizeof(obj))\n",
    "    # save variables\n",
    "    dict_pickle[v] = obj"
   ]
  },
  {
   "cell_type": "code",
   "execution_count": 523,
   "metadata": {
    "ExecuteTime": {
     "end_time": "2017-11-30T08:54:20.913465",
     "start_time": "2017-11-30T08:54:20.722820Z"
    },
    "collapsed": false,
    "run_control": {
     "frozen": false,
     "read_only": false
    },
    "scrolled": false
   },
   "outputs": [
    {
     "name": "stdout",
     "output_type": "stream",
     "text": [
      "> save to file results_dictionary_Q8-Q41_185005010100-185005020000.pickle\n",
      "total size = 1161516 B\n"
     ]
    }
   ],
   "source": [
    "result_dict_file = 'results_dictionary_%s.pickle'%output_suffix\n",
    "print(\"> save to file %s\"%result_dict_file)\n",
    "pickle.dump(dict_pickle,open(os.path.join(resultdir,result_dict_file),\"wb\"))\n",
    "print(\"total size =\",size_pickle,\"B\")"
   ]
  },
  {
   "cell_type": "code",
   "execution_count": 413,
   "metadata": {
    "ExecuteTime": {
     "end_time": "2017-11-30T08:05:57.280668",
     "start_time": "2017-11-30T08:05:57.231682Z"
    },
    "collapsed": false,
    "run_control": {
     "frozen": false,
     "read_only": false
    },
    "scrolled": false
   },
   "outputs": [
    {
     "name": "stdout",
     "output_type": "stream",
     "text": [
      "\n",
      "-------\n",
      "\n",
      "Script successfully terminated in 8:44:02.708156.\n",
      "> Save timing and size info to /Users/bfildier/Code/researchProjects/dataAnalysis/extremeRainPredictabilityAcrossScales/results/omega500tsps/FSPCAMm_AMIP/piControl/r1i1p1/tropics/1d/1dx/timing.csv.\n",
      "\n"
     ]
    }
   ],
   "source": [
    "print()\n",
    "print(\"-------\")\n",
    "print()\n",
    "if tracktime:\n",
    "    timingfile = 'timing.csv'\n",
    "    fulltimingfile = os.path.join(resultdir,timingfile)\n",
    "    t1 = time.time()\n",
    "    time_elapsed_s = t1-t0\n",
    "    timing_df = saveTiming(fulltimingfile,output_suffix,pr.size,time_elapsed_s,reset_value=True)\n",
    "print()"
   ]
  },
  {
   "cell_type": "code",
   "execution_count": null,
   "metadata": {
    "collapsed": true,
    "run_control": {
     "frozen": false,
     "read_only": false
    }
   },
   "outputs": [],
   "source": []
  },
  {
   "cell_type": "code",
   "execution_count": 440,
   "metadata": {
    "ExecuteTime": {
     "end_time": "2017-11-30T08:16:58.491210",
     "start_time": "2017-11-30T08:16:58.461910Z"
    },
    "collapsed": false,
    "run_control": {
     "frozen": false,
     "read_only": false
    },
    "scrolled": false
   },
   "outputs": [],
   "source": [
    "# leftwith = []\n",
    "# for k in locals().keys():\n",
    "#     if not k.startswith('_') and k not in vars_out_Q and k not in var_to_pickle:\n",
    "#         leftwith.append(k)\n",
    "# leftwith.sort()\n",
    "# print(len(leftwith))\n",
    "# for k in leftwith:\n",
    "#     print(k)"
   ]
  }
 ],
 "metadata": {
  "hide_input": false,
  "kernelspec": {
   "display_name": "Python 3",
   "language": "python",
   "name": "python3"
  },
  "language_info": {
   "codemirror_mode": {
    "name": "ipython",
    "version": 3
   },
   "file_extension": ".py",
   "mimetype": "text/x-python",
   "name": "python",
   "nbconvert_exporter": "python",
   "pygments_lexer": "ipython3",
   "version": "3.6.1"
  },
  "latex_envs": {
   "bibliofile": "biblio.bib",
   "cite_by": "apalike",
   "current_citInitial": 1,
   "eqLabelWithNumbers": true,
   "eqNumInitial": 0
  },
  "toc": {
   "toc_cell": true,
   "toc_number_sections": true,
   "toc_threshold": 6,
   "toc_window_display": false
  }
 },
 "nbformat": 4,
 "nbformat_minor": 1
}
