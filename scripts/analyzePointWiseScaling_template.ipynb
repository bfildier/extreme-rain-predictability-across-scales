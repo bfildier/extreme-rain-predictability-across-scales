{
 "cells": [
  {
   "cell_type": "markdown",
   "metadata": {
    "toc": "true"
   },
   "source": [
    "# Table of Contents\n",
    " <p><div class=\"lev1\"><a href=\"#Derive-scaling\"><span class=\"toc-item-num\">1&nbsp;&nbsp;</span>Derive scaling</a></div><div class=\"lev2\"><a href=\"#Compute-statistics\"><span class=\"toc-item-num\">1.1&nbsp;&nbsp;</span>Compute statistics</a></div><div class=\"lev3\"><a href=\"#1D-PDFs\"><span class=\"toc-item-num\">1.1.1&nbsp;&nbsp;</span>1D PDFs</a></div><div class=\"lev3\"><a href=\"#2D-PDFs\"><span class=\"toc-item-num\">1.1.2&nbsp;&nbsp;</span>2D PDFs</a></div><div class=\"lev3\"><a href=\"#Decompose-bias-into-its-contributions-from-qvstar-and-omega-(scaling-#3)\"><span class=\"toc-item-num\">1.1.3&nbsp;&nbsp;</span>Decompose bias into its contributions from qvstar and omega (scaling #3)</a></div><div class=\"lev2\"><a href=\"#Decompose-the-variance\"><span class=\"toc-item-num\">1.2&nbsp;&nbsp;</span>Decompose the variance</a></div><div class=\"lev3\"><a href=\"#Decompose-Variance-into-its-contributions-from-qvstar-and-omega-(scaling-#3)\"><span class=\"toc-item-num\">1.2.1&nbsp;&nbsp;</span>Decompose Variance into its contributions from qvstar and omega (scaling #3)</a></div><div class=\"lev3\"><a href=\"#Decompose-variance-into-its-contributions-from-T-and-omega-(ignore-variability-in-pressure)\"><span class=\"toc-item-num\">1.2.2&nbsp;&nbsp;</span>Decompose variance into its contributions from T and omega (ignore variability in pressure)</a></div><div class=\"lev2\"><a href=\"#Predictor-variables-statistics\"><span class=\"toc-item-num\">1.3&nbsp;&nbsp;</span>Predictor variables statistics</a></div><div class=\"lev3\"><a href=\"#Joint-statistics-of-$\\omega$-and-$q_v^\\star$\"><span class=\"toc-item-num\">1.3.1&nbsp;&nbsp;</span>Joint statistics of <span class=\"MathJax_Preview\" style=\"color: inherit;\"></span><span class=\"MathJax\" id=\"MathJax-Element-13-Frame\" style=\"\"><nobr><span class=\"math\" id=\"MathJax-Span-59\" role=\"math\" style=\"width: 0.836em; display: inline-block;\"><span style=\"display: inline-block; position: relative; width: 0.697em; height: 0px; font-size: 120%;\"><span style=\"position: absolute; clip: rect(1.762em 1000em 2.456em -999.998em); top: -2.313em; left: 0.002em;\"><span class=\"mrow\" id=\"MathJax-Span-60\"><span class=\"mi\" id=\"MathJax-Span-61\" style=\"font-family: STIXMathJax_Main-italic;\">ω</span></span><span style=\"display: inline-block; width: 0px; height: 2.317em;\"></span></span></span><span style=\"border-left: 0.003em solid; display: inline-block; overflow: hidden; width: 0px; height: 0.669em; vertical-align: -0.053em;\"></span></span></nobr></span><script type=\"math/tex\" id=\"MathJax-Element-13\">\\omega</script> and <span class=\"MathJax_Preview\" style=\"color: inherit;\"></span><span class=\"MathJax\" id=\"MathJax-Element-14-Frame\" style=\"\"><nobr><span class=\"math\" id=\"MathJax-Span-62\" role=\"math\" style=\"width: 1.299em; display: inline-block;\"><span style=\"display: inline-block; position: relative; width: 1.067em; height: 0px; font-size: 120%;\"><span style=\"position: absolute; clip: rect(1.299em 1000em 2.595em -999.998em); top: -2.22em; left: 0.002em;\"><span class=\"mrow\" id=\"MathJax-Span-63\"><span class=\"msubsup\" id=\"MathJax-Span-64\"><span style=\"display: inline-block; position: relative; width: 1.067em; height: 0px;\"><span style=\"position: absolute; clip: rect(3.382em 1000em 4.354em -999.998em); top: -3.979em; left: 0.002em;\"><span class=\"mi\" id=\"MathJax-Span-65\" style=\"font-family: STIXMathJax_Main-italic;\">q</span><span style=\"display: inline-block; width: 0px; height: 3.984em;\"></span></span><span style=\"position: absolute; clip: rect(3.428em 1000em 4.123em -999.998em); top: -4.35em; left: 0.512em;\"><span class=\"mo\" id=\"MathJax-Span-66\" style=\"font-size: 70.7%; font-family: STIXMathJax_Main;\">⋆</span><span style=\"display: inline-block; width: 0px; height: 3.984em;\"></span></span><span style=\"position: absolute; clip: rect(3.521em 1000em 4.123em -999.998em); top: -3.84em; left: 0.512em;\"><span class=\"mi\" id=\"MathJax-Span-67\" style=\"font-size: 70.7%; font-family: STIXMathJax_Main-italic;\">v</span><span style=\"display: inline-block; width: 0px; height: 3.984em;\"></span></span></span></span></span><span style=\"display: inline-block; width: 0px; height: 2.225em;\"></span></span></span><span style=\"border-left: 0.003em solid; display: inline-block; overflow: hidden; width: 0px; height: 1.281em; vertical-align: -0.331em;\"></span></span></nobr></span><script type=\"math/tex\" id=\"MathJax-Element-14\">q_v^\\star</script></a></div><div class=\"lev3\"><a href=\"#Conditional-values-of-$P$-on-joint-statistics-of-$\\omega$-and-$q_v^\\star$\"><span class=\"toc-item-num\">1.3.2&nbsp;&nbsp;</span>Conditional values of <span class=\"MathJax_Preview\" style=\"color: inherit;\"><span class=\"MJXc-math\" id=\"MJXc-Span-72\"><span class=\"MJXc-mi MJXc-italic\" id=\"MJXc-Span-73\">P</span></span></span><script type=\"math/tex\" id=\"MathJax-Element-21\">P</script> on joint statistics of <span class=\"MathJax_Preview\" style=\"color: inherit;\"><span class=\"MJXc-math\" id=\"MJXc-Span-74\"><span class=\"MJXc-mi MJXc-italic\" id=\"MJXc-Span-75\">ω</span></span></span><script type=\"math/tex\" id=\"MathJax-Element-22\">\\omega</script> and <span class=\"MathJax_Preview\" style=\"color: inherit;\"><span class=\"MJXc-math\" id=\"MJXc-Span-76\"><span class=\"MJXc-msubsup\" id=\"MJXc-Span-77\"><span class=\"MJXc-mi MJXc-italic\" id=\"MJXc-Span-78\" style=\"margin-right: 0.05em;\">q</span><span class=\"MJXc-script-box\" style=\"height: 1.86em; vertical-align: -0.64em;\"><span class=\" MJXc-script\"><span><span style=\"margin-bottom: -0.25em;\"><span class=\"MJXc-mo\" id=\"MJXc-Span-80\">⋆</span></span></span></span><span class=\" MJXc-script\"><span><span style=\"margin-top: -0.85em;\"><span class=\"MJXc-mi MJXc-italic\" id=\"MJXc-Span-79\">v</span></span></span></span></span></span></span></span><script type=\"math/tex\" id=\"MathJax-Element-23\">q_v^\\star</script></a></div><div class=\"lev1\"><a href=\"#Save-all-variables-in-dataframe\"><span class=\"toc-item-num\">2&nbsp;&nbsp;</span>Save all variables in dataframe</a></div>"
   ]
  },
  {
   "cell_type": "code",
   "execution_count": 20,
   "metadata": {
    "ExecuteTime": {
     "end_time": "2017-11-28T18:54:47.942585",
     "start_time": "2017-11-28T18:54:47.909212Z"
    },
    "collapsed": false,
    "run_control": {
     "frozen": false,
     "read_only": false
    }
   },
   "outputs": [
    {
     "name": "stdout",
     "output_type": "stream",
     "text": [
      "The autoreload extension is already loaded. To reload it, use:\n",
      "  %reload_ext autoreload\n"
     ]
    }
   ],
   "source": [
    "%load_ext autoreload\n",
    "%matplotlib inline"
   ]
  },
  {
   "cell_type": "code",
   "execution_count": 194,
   "metadata": {
    "ExecuteTime": {
     "end_time": "2017-11-29T00:55:20.222124",
     "start_time": "2017-11-29T00:55:20.170723Z"
    },
    "collapsed": false,
    "run_control": {
     "frozen": false,
     "read_only": false
    }
   },
   "outputs": [
    {
     "name": "stdout",
     "output_type": "stream",
     "text": [
      "-- loading modules\n",
      "\n",
      "Own modules available: ['CAMsettings', 'daskOptions', 'environmentAndDirectories', 'importingData', 'outputResults', 'physicalConstants', 'plot1DInvLog', 'plot2D', 'plotMaps', 'scalingApproximations', 'slicingAndSubsetting', 'statisticalDistributions', 'thermoConstants', 'thermoFunctions']\n"
     ]
    }
   ],
   "source": [
    "%autoreload 2\n",
    "\n",
    "print(\"-- loading modules\")\n",
    "print()\n",
    "\n",
    "import numpy as np\n",
    "import numpy.ma as ma\n",
    "import dask.array as da\n",
    "import matplotlib\n",
    "# matplotlib.use(\"PDF\")\n",
    "import matplotlib.pyplot as plt\n",
    "import datetime as dt\n",
    "import time\n",
    "import sys,os,glob\n",
    "from mpl_toolkits.basemap import Basemap\n",
    "from matplotlib.colors import LogNorm\n",
    "\n",
    "## Add own library to path\n",
    "workdir = os.getcwd()\n",
    "thismodule = sys.modules[__name__]\n",
    "moduledir = os.path.join(os.path.dirname(workdir),'functions')\n",
    "sys.path.insert(0,moduledir)\n",
    "print(\"Own modules available:\", [os.path.splitext(os.path.basename(x))[0]\n",
    "                                 for x in glob.glob(os.path.join(moduledir,'*.py'))])\n",
    "\n",
    "## Load own libraries\n",
    "from environmentAndDirectories import *\n",
    "from importingData import *\n",
    "from scalingApproximations import *\n",
    "from slicingAndSubsetting import *\n",
    "from thermoConstants import L_v,R_v\n",
    "from plotMaps import *\n",
    "from plot1DInvLog import *\n",
    "from plot2D import *\n",
    "from statisticalDistributions import *\n",
    "from outputResults import *\n",
    "\n",
    "## Graphical parameters\n",
    "plt.style.use(os.path.join(matplotlib.get_configdir(),'stylelib/presentation.mplstyle'))"
   ]
  },
  {
   "cell_type": "code",
   "execution_count": 22,
   "metadata": {
    "ExecuteTime": {
     "end_time": "2017-11-28T18:54:48.044214",
     "start_time": "2017-11-28T18:54:48.001109Z"
    },
    "collapsed": false,
    "run_control": {
     "frozen": false,
     "read_only": false
    }
   },
   "outputs": [
    {
     "name": "stdout",
     "output_type": "stream",
     "text": [
      "\n",
      "-- define global variables\n",
      "\n",
      "- choosing options:\n",
      "compset: FSPCAMm_AMIP\n",
      "experiment: piControl\n",
      "member: r1i1p1\n",
      "subset: tropics\n",
      "time_stride: 1d\n",
      "resolution: 1dx\n",
      "daskarray: False\n",
      "dates: ('185005010100', '185005020000')\n",
      "\n"
     ]
    }
   ],
   "source": [
    "print()\n",
    "print(\"-- define global variables\")\n",
    "print()\n",
    "\n",
    "print(\"- choosing options:\")\n",
    "compset = 'FSPCAMm_AMIP'\n",
    "experiment = 'piControl'\n",
    "member = 'r1i1p1'\n",
    "subset = 'tropics'\n",
    "time_stride = '1d'\n",
    "resolution = '1dx'\n",
    "daskarray = False\n",
    "tracktime = True\n",
    "dates = ('185005010100','185005020000')\n",
    "\n",
    "for v in ['compset','experiment','member','subset','time_stride','resolution',\\\n",
    "          'daskarray','dates']:\n",
    "    print(\"%s:\"%v,getattr(thismodule,v))\n",
    "\n",
    "# Figure output directory\n",
    "figdir = os.path.join(os.path.dirname(workdir),'figures','omega500tsps',compset,experiment,member,subset,\\\n",
    "                      time_stride,resolution)\n",
    "os.makedirs(figdir,exist_ok=True)\n",
    "\n",
    "# Results output directory\n",
    "resultdir = os.path.join(os.path.dirname(workdir),'results','omega500tsps',compset,experiment,member,subset,\\\n",
    "                      time_stride,resolution)\n",
    "os.makedirs(resultdir,exist_ok=True)\n",
    "\n",
    "print()"
   ]
  },
  {
   "cell_type": "code",
   "execution_count": 23,
   "metadata": {
    "ExecuteTime": {
     "end_time": "2017-11-28T18:54:48.073435",
     "start_time": "2017-11-28T18:54:48.047112Z"
    },
    "collapsed": true,
    "run_control": {
     "frozen": false,
     "read_only": false
    }
   },
   "outputs": [],
   "source": [
    "if tracktime:\n",
    "    t0 = time.time()"
   ]
  },
  {
   "cell_type": "code",
   "execution_count": 24,
   "metadata": {
    "ExecuteTime": {
     "end_time": "2017-11-28T18:54:49.272743",
     "start_time": "2017-11-28T18:54:48.075942Z"
    },
    "collapsed": false
   },
   "outputs": [
    {
     "name": "stdout",
     "output_type": "stream",
     "text": [
      "-- load environment and variables\n",
      "\n",
      "Importing OMEGA, PRECT, TS, T, RELHUM, PS from 24 history files between 1850-05-01-03600 and 1850-05-02-00000\n",
      "CPU times: user 357 ms, sys: 286 ms, total: 643 ms\n",
      "Wall time: 1.17 s\n"
     ]
    }
   ],
   "source": [
    "%%time\n",
    "print(\"-- load environment and variables\")\n",
    "print()\n",
    "\n",
    "historyFilesSettings = getCAMHistoryFilesSettings()\n",
    "handle = 'h0'\n",
    "inputdir, inputdir_processed_day, inputdir_processed_1hr, inputdir_results, inputdir_fx = \\\n",
    "    getInputDirectories(compset,experiment)\n",
    "\n",
    "omega_id = 'OMEGA'\n",
    "pr_id = 'PRECT'\n",
    "ts_id = 'TS'\n",
    "ta_id = 'T'\n",
    "relhum_id = 'RELHUM'\n",
    "ps_id = 'PS'\n",
    "\n",
    "omega,pr,ts,ta,relhum,ps = getValues([omega_id,pr_id,ts_id,ta_id,relhum_id,ps_id],\n",
    "                                  compset,subset,experiment,time_stride,resolution,daskarray=daskarray,dates=dates,handle=handle)\n",
    "pr *= rho_l    # convert from m/s to kg/m2/s"
   ]
  },
  {
   "cell_type": "code",
   "execution_count": 25,
   "metadata": {
    "ExecuteTime": {
     "end_time": "2017-11-28T18:54:49.358935",
     "start_time": "2017-11-28T18:54:49.275293Z"
    },
    "collapsed": false,
    "run_control": {
     "frozen": false,
     "read_only": false
    },
    "scrolled": true
   },
   "outputs": [
    {
     "name": "stdout",
     "output_type": "stream",
     "text": [
      "- load geographic data\n"
     ]
    }
   ],
   "source": [
    "## Get longitude, latitude and landmask\n",
    "\n",
    "print(\"- load geographic data\")\n",
    "\n",
    "fh = Dataset(os.path.join(inputdir_fx,'landmask_fx_CESM111-SPCAM20_allExperiments_r0i0p0.nc'))\n",
    "lon1D = fh.variables['lon'][:]\n",
    "lat1D = fh.variables['lat'][:]\n",
    "lon2D, lat2D = np.meshgrid(lon1D,lat1D)\n",
    "lon2D = da.from_array(lon2D,chunks=lon2D.shape)\n",
    "lat2D = da.from_array(lat2D,chunks=lat2D.shape)\n",
    "\n",
    "landmask = fh.variables['landmask']\n",
    "fh.close()\n"
   ]
  },
  {
   "cell_type": "code",
   "execution_count": 26,
   "metadata": {
    "ExecuteTime": {
     "end_time": "2017-11-28T18:54:49.412549",
     "start_time": "2017-11-28T18:54:49.362067Z"
    },
    "collapsed": false,
    "run_control": {
     "frozen": false,
     "read_only": false
    },
    "scrolled": true
   },
   "outputs": [
    {
     "name": "stdout",
     "output_type": "stream",
     "text": [
      "- compute pressure levels\n"
     ]
    }
   ],
   "source": [
    "print(\"- compute pressure levels\")\n",
    "\n",
    "input_lev_file = os.path.join(inputdir_fx,'lev_fx_CESM111-SPCAM20_allExperiments_r0i0p0.nc')\n",
    "computeP = getPressureCoordinateFunction(input_lev_file)\n",
    "pres = computeP(ps)\n",
    "\n",
    "cn = getArrayType(pres)"
   ]
  },
  {
   "cell_type": "markdown",
   "metadata": {},
   "source": [
    "# Derive scaling"
   ]
  },
  {
   "cell_type": "code",
   "execution_count": 27,
   "metadata": {
    "ExecuteTime": {
     "end_time": "2017-11-28T18:54:49.458626",
     "start_time": "2017-11-28T18:54:49.416247Z"
    },
    "collapsed": false,
    "run_control": {
     "frozen": false,
     "read_only": false
    }
   },
   "outputs": [
    {
     "name": "stdout",
     "output_type": "stream",
     "text": [
      "\n",
      "-- compute (percentile-wise and pointwise) scaling approximation\n",
      "\n"
     ]
    }
   ],
   "source": [
    "print()\n",
    "print(\"-- compute (percentile-wise and pointwise) scaling approximation\")\n",
    "print()"
   ]
  },
  {
   "cell_type": "code",
   "execution_count": 28,
   "metadata": {
    "ExecuteTime": {
     "end_time": "2017-11-28T18:54:49.572190",
     "start_time": "2017-11-28T18:54:49.462153Z"
    },
    "collapsed": false,
    "run_control": {
     "frozen": false,
     "marked": false,
     "read_only": false
    }
   },
   "outputs": [
    {
     "name": "stdout",
     "output_type": "stream",
     "text": [
      "compute 2D surfaces of predictor variables\n",
      "CPU times: user 57.5 ms, sys: 12 ms, total: 69.5 ms\n",
      "Wall time: 70.2 ms\n"
     ]
    }
   ],
   "source": [
    "%%time\n",
    "print(\"compute 2D surfaces of predictor variables\")\n",
    "p_500 = 50000; levdim=1\n",
    "omega_500 = isobaricSurface(omega,pres,p_ref=p_500,levdim=levdim)\n",
    "qvstar_s = saturationSpecificHumidity(ts,ps)"
   ]
  },
  {
   "cell_type": "code",
   "execution_count": 29,
   "metadata": {
    "ExecuteTime": {
     "end_time": "2017-11-28T18:54:49.640538",
     "start_time": "2017-11-28T18:54:49.574691Z"
    },
    "collapsed": false,
    "run_control": {
     "frozen": false,
     "read_only": false
    },
    "scrolled": false
   },
   "outputs": [
    {
     "name": "stdout",
     "output_type": "stream",
     "text": [
      "Compute ranks and ranks locations\n",
      "0.0000 20.5672 36.9043 49.8813 60.1893 68.3772 74.8811 80.0474 84.1511 87.4107 90.0000 92.0567 93.6904 94.9881 96.0189 96.8377 97.4881 98.0047 98.4151 98.7411 99.0000 99.2057 99.3690 99.4988 99.6019 99.6838 99.7488 99.8005 99.8415 99.8741 99.9000 99.9206 99.9369 99.9499 99.9602 99.9684 99.9749 99.9800 99.9842 99.9874 99.9900 \n",
      "CPU times: user 12.8 ms, sys: 4.67 ms, total: 17.5 ms\n",
      "Wall time: 16.2 ms\n"
     ]
    }
   ],
   "source": [
    "%%time\n",
    "print(\"Compute ranks and ranks locations\")\n",
    "\n",
    "n_pts = pr.size\n",
    "Q_IL = getInvLogRanks(n_pts,n_pts_per_bin=1,fill_last_decade=True)\n",
    "i_Q = indexOfRank(99.9,Q_IL)\n",
    "iQ_slice = slice(i_Q-5,i_Q+5)\n",
    "ranks, centers, bins = computePercentilesAndBinsFromRanks(pr.flatten(),Q_IL)\n",
    "iQ_min = 8\n",
    "iQ_max = min(len(Q_IL),41)\n",
    "# iQ_max = min(len(Q_IL),iQ_slice.stop)\n",
    "\n",
    "# Define reference percentiles and compute percentiles\n",
    "targetranks = Q_IL[iQ_min:iQ_max]\n",
    "ranks_ref = Q_IL[:iQ_max]\n",
    "percentiles = adjustRanks(centers,ranks,ranks_ref)\n",
    "\n",
    "# Suffix to save figures and results\n",
    "output_suffix = 'Q%d-Q%d_%s'%(iQ_min,iQ_max,'-'.join(dates))\n",
    "\n",
    "rank_locations= {}\n",
    "for rank in ranks_ref:\n",
    "    rank_id  = \"%2.4f\"%rank\n",
    "    print(rank_id,end=' ')\n",
    "    rank_locations[rank_id] = getRankLocations(rank,pr,ranks,bins,rank_locations)\n",
    "print()"
   ]
  },
  {
   "cell_type": "code",
   "execution_count": 30,
   "metadata": {
    "ExecuteTime": {
     "end_time": "2017-11-28T18:54:49.686666",
     "start_time": "2017-11-28T18:54:49.643446Z"
    },
    "collapsed": false,
    "run_control": {
     "frozen": false,
     "read_only": false
    }
   },
   "outputs": [
    {
     "name": "stdout",
     "output_type": "stream",
     "text": [
      "compute sample size in each bin\n",
      "1025.0 4608\n"
     ]
    }
   ],
   "source": [
    "print(\"compute sample size in each bin\")\n",
    "N_prQ = sampleSizeAtAllRanks(targetranks,pr,ranks_ref,rank_locations=rank_locations)\n",
    "print(np.nansum(N_prQ),pr.size)"
   ]
  },
  {
   "cell_type": "code",
   "execution_count": 31,
   "metadata": {
    "ExecuteTime": {
     "end_time": "2017-11-28T18:54:51.449686",
     "start_time": "2017-11-28T18:54:49.689662Z"
    },
    "collapsed": false,
    "run_control": {
     "frozen": false,
     "read_only": false
    }
   },
   "outputs": [
    {
     "name": "stdout",
     "output_type": "stream",
     "text": [
      "> Plot sample size in each percentile bin\n"
     ]
    },
    {
     "data": {
      "image/png": "[encoded data removed]",
      "text/plain": [
       "<matplotlib.figure.Figure at 0x103dcfcc0>"
      ]
     },
     "metadata": {},
     "output_type": "display_data"
    }
   ],
   "source": [
    "print(\"> Plot sample size in each percentile bin\")\n",
    "\n",
    "fig, ax = plt.subplots(ncols=1,nrows=1,figsize=(5,4.5))\n",
    "\n",
    "ax.set_yscale('log')\n",
    "\n",
    "# Add zero line\n",
    "addZeroLine(ax,ranks_ref)\n",
    "\n",
    "# Grey shading\n",
    "i_Q_lims = (iQ_slice.start, iQ_slice.stop-1)\n",
    "subplotXShadingRanksILog(ax,ranks_ref,i_Q_lims,alpha=0.15,transformX=False)\n",
    "\n",
    "subplotRanksILog(ax,ranks_ref,\n",
    "                 N_prQ,\n",
    "                 col='k',ltype='-',transformX=False)\n",
    "\n",
    "addXHatchRanksILog(ax,ranks_ref,(0,iQ_min),transformX=True)\n",
    "\n",
    "ax.set_xlabel('Percentile rank (%)')\n",
    "ax.set_ylabel('Sample size (#)')\n",
    "\n",
    "plt.savefig(os.path.join(figdir,'sample_size_in_P_bins_%s.pdf'%output_suffix),\n",
    "            bbox_inches='tight')\n",
    "\n",
    "plt.show()"
   ]
  },
  {
   "cell_type": "code",
   "execution_count": 32,
   "metadata": {
    "ExecuteTime": {
     "end_time": "2017-11-28T18:54:51.502507",
     "start_time": "2017-11-28T18:54:51.452338Z"
    },
    "collapsed": false,
    "run_control": {
     "frozen": false,
     "read_only": false
    },
    "scrolled": false
   },
   "outputs": [
    {
     "name": "stdout",
     "output_type": "stream",
     "text": [
      "compute pointwise scaling\n",
      "eps = 0.573237600929\n",
      "CPU times: user 10.1 ms, sys: 1.42 ms, total: 11.5 ms\n",
      "Wall time: 10.4 ms\n"
     ]
    }
   ],
   "source": [
    "%%time\n",
    "print(\"compute pointwise scaling\")\n",
    "eps, pr_sc_vQ = computeScalingOmegaQAtAllRanks(targetranks,omega_500,qvstar_s,pr,ranks_ref=ranks_ref[iQ_slice],\n",
    "                                               percentiles_ref=percentiles[iQ_slice],\n",
    "                                               bins=bins,rank_locations=rank_locations)\n",
    "pr_sc_vQ = adjustRanks(pr_sc_vQ,targetranks,ranks_ref)\n",
    "pr_sc = singleLevelScalingFromOmegaQ(omega_500,qvstar_s,efficiency=eps)\n",
    "print(\"eps =\",eps)"
   ]
  },
  {
   "cell_type": "code",
   "execution_count": 33,
   "metadata": {
    "ExecuteTime": {
     "end_time": "2017-11-28T18:54:51.894832",
     "start_time": "2017-11-28T18:54:51.504713Z"
    },
    "collapsed": false,
    "run_control": {
     "frozen": false,
     "read_only": false
    },
    "scrolled": false
   },
   "outputs": [
    {
     "name": "stdout",
     "output_type": "stream",
     "text": [
      "compute O'Gorman&Schneider scaling with environmental temperature profile\n",
      "eps_OGS09 = 0.968063552863\n",
      "CPU times: user 309 ms, sys: 11.4 ms, total: 320 ms\n",
      "Wall time: 340 ms\n"
     ]
    }
   ],
   "source": [
    "%%time\n",
    "print(\"compute O'Gorman&Schneider scaling with environmental temperature profile\")\n",
    "eps_OGS09, pr_scOGS09_vQ = computeScalingOGS09AtAllRanks(targetranks,omega,ta,pres,pr,\n",
    "    ranks_ref=ranks_ref[iQ_slice],percentiles_ref=percentiles[iQ_slice],bins=bins,\n",
    "                                                         rank_locations=rank_locations)\n",
    "pr_scOGS09_vQ = adjustRanks(pr_scOGS09_vQ,targetranks,ranks_ref)\n",
    "pr_scOGS09 = scalingOGS09(omega,ta,pres,efficiency=eps_OGS09,levdim=1)\n",
    "print(\"eps_OGS09 =\",eps_OGS09)"
   ]
  },
  {
   "cell_type": "code",
   "execution_count": 34,
   "metadata": {
    "ExecuteTime": {
     "end_time": "2017-11-28T18:54:52.429667",
     "start_time": "2017-11-28T18:54:51.897837Z"
    },
    "collapsed": false,
    "run_control": {
     "frozen": false,
     "read_only": false
    },
    "scrolled": true
   },
   "outputs": [
    {
     "name": "stdout",
     "output_type": "stream",
     "text": [
      "compute O'Gorman&Schneider scaling with moist adiabat\n",
      "eps_OGS09ad = 0.968984709019\n",
      "CPU times: user 442 ms, sys: 30.9 ms, total: 473 ms\n",
      "Wall time: 486 ms\n"
     ]
    }
   ],
   "source": [
    "%%time\n",
    "print(\"compute O'Gorman&Schneider scaling with moist adiabat\")\n",
    "# Get temperature values at lowest level\n",
    "levdim = 1\n",
    "nlev = pres.shape[levdim]\n",
    "i_bottom = bottomIndex(np.moveaxis(pres,levdim,-1).ravel()[-nlev:])\n",
    "ta_bottom = np.take(ta,axis=levdim,indices=i_bottom)\n",
    "# Compute scaling\n",
    "eps_OGS09ad, pr_scOGS09ad_vQ = computeScalingOGS09AtAllRanks(targetranks,omega,ta_bottom,pres,pr,\n",
    "    temp_type='adiabat',relhum=relhum,ranks_ref=ranks_ref[iQ_slice],percentiles_ref=percentiles[iQ_slice],bins=bins,\n",
    "                                                         rank_locations=rank_locations)\n",
    "pr_scOGS09ad_vQ = adjustRanks(pr_scOGS09ad_vQ,targetranks,ranks_ref)\n",
    "pr_scOGS09ad = scalingOGS09(omega,ta_bottom,pres,temp_type='adiabat',relhum=relhum,efficiency=eps_OGS09ad,levdim=1)\n",
    "print(\"eps_OGS09ad =\",eps_OGS09ad)"
   ]
  },
  {
   "cell_type": "code",
   "execution_count": 35,
   "metadata": {
    "ExecuteTime": {
     "end_time": "2017-11-28T18:54:52.907360",
     "start_time": "2017-11-28T18:54:52.432415Z"
    },
    "collapsed": false,
    "run_control": {
     "frozen": false,
     "read_only": false
    },
    "scrolled": false
   },
   "outputs": [
    {
     "name": "stdout",
     "output_type": "stream",
     "text": [
      "compute extended O'Gorman&Schneider scaling with environmental temperature profile\n",
      "(1, 32, 144)\n",
      "fracarea_boost = 1.11849335294\n",
      "entrainment = 0.000440100176532\n",
      "CPU times: user 403 ms, sys: 13.2 ms, total: 416 ms\n",
      "Wall time: 432 ms\n"
     ]
    }
   ],
   "source": [
    "%%time\n",
    "print(\"compute extended O'Gorman&Schneider scaling with environmental temperature profile\")\n",
    "fracarea_boost, entrainment, pr_scRH_vQ = computeScalingRHAtAllRanks(targetranks,omega,ta,pres,relhum,pr,\n",
    "    ranks_ref=ranks_ref[iQ_slice],bins=bins,rank_locations=rank_locations)\n",
    "pr_scRH_vQ = adjustRanks(pr_scRH_vQ,targetranks,ranks_ref)\n",
    "pr_scRH = scalingRH(omega,ta,pres,relhum,fracarea_boost=fracarea_boost,entrainment=entrainment,levdim=1)\n",
    "print(pr_scRH.shape)\n",
    "print(\"fracarea_boost =\",fracarea_boost)\n",
    "print(\"entrainment =\",entrainment)"
   ]
  },
  {
   "cell_type": "code",
   "execution_count": 36,
   "metadata": {
    "ExecuteTime": {
     "end_time": "2017-11-28T18:54:53.513664",
     "start_time": "2017-11-28T18:54:52.910216Z"
    },
    "collapsed": false,
    "run_control": {
     "frozen": false,
     "read_only": false
    }
   },
   "outputs": [
    {
     "name": "stdout",
     "output_type": "stream",
     "text": [
      "compute extended O'Gorman&Schneider scaling with moist adiabat\n",
      "(1, 32, 144)\n",
      "fracarea_boost = 1.20422440295\n",
      "entrainment = 0.000631000113461\n",
      "CPU times: user 540 ms, sys: 14.1 ms, total: 554 ms\n",
      "Wall time: 556 ms\n"
     ]
    }
   ],
   "source": [
    "%%time\n",
    "print(\"compute extended O'Gorman&Schneider scaling with moist adiabat\")\n",
    "# Get temperature values at lowest level\n",
    "levdim = 1\n",
    "nlev = pres.shape[levdim]\n",
    "i_bottom = bottomIndex(np.moveaxis(pres,levdim,-1).ravel()[-nlev:])\n",
    "ta_bottom = np.take(ta,axis=levdim,indices=i_bottom)\n",
    "# Compute scaling\n",
    "fracarea_boost_ad, entrainment_ad, pr_scRHad_vQ = computeScalingRHAtAllRanks(targetranks,omega,ta_bottom,pres,relhum,pr,\n",
    "    temp_type='adiabat',ranks_ref=ranks_ref[iQ_slice],bins=bins,rank_locations=rank_locations)\n",
    "pr_scRHad_vQ = adjustRanks(pr_scRHad_vQ,targetranks,ranks_ref)\n",
    "pr_scRHad = scalingRH(omega,ta_bottom,pres,relhum,fracarea_boost=fracarea_boost_ad,entrainment=entrainment_ad,\n",
    "                    temp_type='adiabat',levdim=1)\n",
    "print(pr_scRHad.shape)\n",
    "print(\"fracarea_boost =\",fracarea_boost_ad)\n",
    "print(\"entrainment =\",entrainment_ad)"
   ]
  },
  {
   "cell_type": "markdown",
   "metadata": {},
   "source": [
    "## Compute statistics"
   ]
  },
  {
   "cell_type": "markdown",
   "metadata": {},
   "source": [
    "### 1D PDFs"
   ]
  },
  {
   "cell_type": "code",
   "execution_count": 37,
   "metadata": {
    "ExecuteTime": {
     "end_time": "2017-11-28T18:54:53.552767",
     "start_time": "2017-11-28T18:54:53.516445Z"
    },
    "collapsed": false,
    "run_control": {
     "frozen": false,
     "read_only": false
    },
    "scrolled": false
   },
   "outputs": [
    {
     "name": "stdout",
     "output_type": "stream",
     "text": [
      "\n",
      "-- compute statistics\n",
      "\n"
     ]
    }
   ],
   "source": [
    "print()\n",
    "print(\"-- compute statistics\")\n",
    "print()"
   ]
  },
  {
   "cell_type": "code",
   "execution_count": 38,
   "metadata": {
    "ExecuteTime": {
     "end_time": "2017-11-28T18:54:53.617255",
     "start_time": "2017-11-28T18:54:53.555275Z"
    },
    "collapsed": false,
    "run_control": {
     "frozen": false,
     "read_only": false
    },
    "scrolled": false
   },
   "outputs": [
    {
     "name": "stdout",
     "output_type": "stream",
     "text": [
      "mean of scalings in pr bins\n"
     ]
    }
   ],
   "source": [
    "# %%time\n",
    "print(\"mean of scalings in pr bins\")\n",
    "pr_sc_prQ = meanXAtAllYRanks(targetranks,pr_sc,pr,ranks_ref,rank_locations=rank_locations)\n",
    "pr_scOGS09_prQ = meanXAtAllYRanks(targetranks,pr_scOGS09,pr,ranks_ref,rank_locations=rank_locations)\n",
    "pr_scOGS09ad_prQ = meanXAtAllYRanks(targetranks,pr_scOGS09ad,pr,ranks_ref,rank_locations=rank_locations)\n",
    "pr_scRH_prQ = meanXAtAllYRanks(targetranks,pr_scRH,pr,ranks_ref,rank_locations=rank_locations)\n",
    "pr_scRHad_prQ = meanXAtAllYRanks(targetranks,pr_scRHad,pr,ranks_ref,rank_locations=rank_locations)"
   ]
  },
  {
   "cell_type": "code",
   "execution_count": 39,
   "metadata": {
    "ExecuteTime": {
     "end_time": "2017-11-28T18:54:53.718096",
     "start_time": "2017-11-28T18:54:53.619370Z"
    },
    "code_folding": [],
    "collapsed": false,
    "hide_input": false,
    "run_control": {
     "frozen": false,
     "read_only": false
    }
   },
   "outputs": [
    {
     "name": "stdout",
     "output_type": "stream",
     "text": [
      "interquartile and 90% ranges\n",
      "CPU times: user 44.2 ms, sys: 2.07 ms, total: 46.3 ms\n",
      "Wall time: 45 ms\n"
     ]
    }
   ],
   "source": [
    "%%time\n",
    "print(\"interquartile and 90% ranges\")\n",
    "ranks_I90 = (5,95)\n",
    "ranks_IQR = (25,75)\n",
    "\n",
    "pr_sc_I90 = XPercentilesAtAllYRanks(targetranks,pr_sc,ranks_I90,pr,ranks_ref,rank_locations_X=rank_locations)\n",
    "pr_sc_IQR = XPercentilesAtAllYRanks(targetranks,pr_sc,ranks_IQR,pr,ranks_ref,rank_locations_X=rank_locations)\n",
    "\n",
    "pr_scOGS09_I90 = XPercentilesAtAllYRanks(targetranks,pr_scOGS09,ranks_I90,pr,ranks_ref,rank_locations_X=rank_locations)\n",
    "pr_scOGS09_IQR = XPercentilesAtAllYRanks(targetranks,pr_scOGS09,ranks_IQR,pr,ranks_ref,rank_locations_X=rank_locations)\n",
    "\n",
    "pr_scOGS09ad_I90 = XPercentilesAtAllYRanks(targetranks,pr_scOGS09ad,ranks_I90,pr,ranks_ref,rank_locations_X=rank_locations)\n",
    "pr_scOGS09ad_IQR = XPercentilesAtAllYRanks(targetranks,pr_scOGS09ad,ranks_IQR,pr,ranks_ref,rank_locations_X=rank_locations)\n",
    "\n",
    "pr_scRH_I90 = XPercentilesAtAllYRanks(targetranks,pr_scRH,ranks_I90,pr,ranks_ref,rank_locations_X=rank_locations)\n",
    "pr_scRH_IQR = XPercentilesAtAllYRanks(targetranks,pr_scRH,ranks_IQR,pr,ranks_ref,rank_locations_X=rank_locations)\n",
    "\n",
    "pr_scRHad_I90 = XPercentilesAtAllYRanks(targetranks,pr_scRHad,ranks_I90,pr,ranks_ref,rank_locations_X=rank_locations)\n",
    "pr_scRHad_IQR = XPercentilesAtAllYRanks(targetranks,pr_scRHad,ranks_IQR,pr,ranks_ref,rank_locations_X=rank_locations)\n"
   ]
  },
  {
   "cell_type": "code",
   "execution_count": 40,
   "metadata": {
    "ExecuteTime": {
     "end_time": "2017-11-28T18:55:00.737700",
     "start_time": "2017-11-28T18:54:53.720728Z"
    },
    "collapsed": false,
    "run_control": {
     "frozen": false,
     "marked": false,
     "read_only": false
    },
    "scrolled": false
   },
   "outputs": [
    {
     "name": "stdout",
     "output_type": "stream",
     "text": [
      "> plot PDF with scaling and variability\n",
      "- scaling sc\n"
     ]
    },
    {
     "data": {
      "image/png": "[encoded data removed]",
      "text/plain": [
       "<matplotlib.figure.Figure at 0x1a0f2930b8>"
      ]
     },
     "metadata": {},
     "output_type": "display_data"
    },
    {
     "name": "stdout",
     "output_type": "stream",
     "text": [
      "- scaling scOGS09\n"
     ]
    },
    {
     "data": {
      "image/png": "[encoded data removed]",
      "text/plain": [
       "<matplotlib.figure.Figure at 0x1a0f327cc0>"
      ]
     },
     "metadata": {},
     "output_type": "display_data"
    },
    {
     "name": "stdout",
     "output_type": "stream",
     "text": [
      "- scaling scOGS09ad\n"
     ]
    },
    {
     "data": {
      "image/png": "[encoded data removed]",
      "text/plain": [
       "<matplotlib.figure.Figure at 0x1a0f307c50>"
      ]
     },
     "metadata": {},
     "output_type": "display_data"
    },
    {
     "name": "stdout",
     "output_type": "stream",
     "text": [
      "- scaling scRH\n"
     ]
    },
    {
     "data": {
      "image/png": "[encoded data removed]",
      "text/plain": [
       "<matplotlib.figure.Figure at 0x1a0f8a1400>"
      ]
     },
     "metadata": {},
     "output_type": "display_data"
    },
    {
     "name": "stdout",
     "output_type": "stream",
     "text": [
      "- scaling scRHad\n"
     ]
    },
    {
     "data": {
      "image/png": "[encoded data removed]",
      "text/plain": [
       "<matplotlib.figure.Figure at 0x103da80f0>"
      ]
     },
     "metadata": {},
     "output_type": "display_data"
    }
   ],
   "source": [
    "print(\"> plot PDF with scaling and variability\")\n",
    "\n",
    "scaling_names = 'sc','scOGS09','scOGS09ad','scRH','scRHad'\n",
    "\n",
    "for sc_name in scaling_names:\n",
    "\n",
    "    print(\"- scaling %s\"%sc_name)\n",
    "\n",
    "    for suffix in 'prQ','vQ','IQR','I90':\n",
    "        setattr(thismodule,'var_%s'%suffix,getattr(thismodule,'pr_%s_%s'%(sc_name,suffix)))\n",
    "    \n",
    "    fig, ax = plt.subplots(ncols=1,nrows=1,figsize=(5,4.5))\n",
    "\n",
    "    ax.set_yscale('log')\n",
    "    ax.set_ylim((1e-6,3e-3))\n",
    "\n",
    "    # Grey shading \n",
    "    i_Q_lims = (iQ_slice.start, iQ_slice.stop-1)\n",
    "    subplotXShadingRanksILog(ax,ranks_ref,i_Q_lims,alpha=0.15,transformX=False)\n",
    "    # 90% confidence interval for pointwise scaling 2\n",
    "    subplotYShadingRanksILog(ax,ranks_ref,[var_I90[:,0],var_IQR[:,1]],col='green',transformX=False)\n",
    "    # Interquartile range for pointwise scaling 2\n",
    "    subplotYShadingRanksILog(ax,ranks_ref,[var_IQR[:,0],var_IQR[:,1]],col='green',transformX=False)\n",
    "    # Mean of pointwise scaling 2\n",
    "    subplotRanksILog(ax,ranks_ref,[percentiles,var_prQ,var_vQ],col=['k','green','k'],ltype=['-','-',':'],\\\n",
    "                     transformX=False)\n",
    "\n",
    "    addXHatchRanksILog(ax,ranks_ref,(0,iQ_min),transformX=True)\n",
    "\n",
    "    ax.set_xlabel('Percentile rank (%)')\n",
    "    ax.set_ylabel('Rainfall Intensity (kg/m2/s)')\n",
    "    # ax.set_title(r'$\\varepsilon\\omega_{500}q_v^\\star(T)$')\n",
    "\n",
    "    plt.savefig(os.path.join(figdir,'pdf_P_and_P%s_mean_IQR_I90_%s.pdf'%(sc_name,output_suffix)),\n",
    "                bbox_inches='tight')\n",
    "\n",
    "    plt.show()"
   ]
  },
  {
   "cell_type": "markdown",
   "metadata": {},
   "source": [
    "### 2D PDFs"
   ]
  },
  {
   "cell_type": "code",
   "execution_count": 120,
   "metadata": {
    "ExecuteTime": {
     "end_time": "2017-11-28T21:11:30.560153",
     "start_time": "2017-11-28T21:11:28.803835Z"
    },
    "collapsed": false,
    "run_control": {
     "frozen": false,
     "read_only": false
    },
    "scrolled": true
   },
   "outputs": [
    {
     "name": "stdout",
     "output_type": "stream",
     "text": [
      "compute 2D PDFs\n",
      "CPU times: user 1.64 s, sys: 26.9 ms, total: 1.67 s\n",
      "Wall time: 1.72 s\n"
     ]
    }
   ],
   "source": [
    "%%time\n",
    "print(\"compute 2D PDFs\")\n",
    "\n",
    "all_pr_varnames = set({'pr','pr_sc','pr_scOGS09','pr_scOGS09ad','pr_scRH','pr_scRHad'})\n",
    "\n",
    "for varname1 in all_pr_varnames:\n",
    "    for varname2 in all_pr_varnames.difference(varname1):\n",
    "\n",
    "        var1 = getattr(thismodule,varname1)\n",
    "        var2 = getattr(thismodule,varname2)\n",
    "        \n",
    "        ranks1, percentiles1, bins1, ranks2, percentiles2, bins2, density2D = \\\n",
    "            compute2dStatsILOnRefRanks(var1,var2,ranks_ref)\n",
    "            \n",
    "        setattr(thismodule,\"density2D_%s_%s\"%(varname1,varname2),density2D)\n",
    "\n",
    "        N1 = sampleSizeAtAllRanks(ranks1,var1,ranks_ref,bins=bins1)\n",
    "        N2 = sampleSizeAtAllRanks(ranks2,var2,ranks_ref,bins=bins2)\n",
    "        norm_factor = normalize2dDensity(N1,N2,n_pts)\n",
    "\n",
    "        norm_density2D = density2D/norm_factor\n",
    "        setattr(thismodule,\"norm_density2D_%s_%s\"%(varname1,varname2),norm_density2D)"
   ]
  },
  {
   "cell_type": "code",
   "execution_count": 122,
   "metadata": {
    "ExecuteTime": {
     "end_time": "2017-11-28T21:14:44.678705",
     "start_time": "2017-11-28T21:14:44.641667Z"
    },
    "collapsed": false,
    "run_control": {
     "frozen": false,
     "read_only": false
    },
    "scrolled": false
   },
   "outputs": [
    {
     "name": "stdout",
     "output_type": "stream",
     "text": [
      "> plot 2D PDFs\n"
     ]
    }
   ],
   "source": [
    "print(\"> plot 2D PDFs\")\n",
    "\n",
    "plotAll2dPDFs = False\n",
    "\n",
    "if plotAll2dPDFs:\n",
    "    \n",
    "    for varname1 in all_pr_varnames:\n",
    "        for varname2 in all_pr_varnames:\n",
    "            \n",
    "            print(\"- %s vs. %s\"%(varname2,varname1))\n",
    "\n",
    "            norm_density2D = getattr(thismodule,\"norm_density2D_%s_%s\"%(varname1,varname2))\n",
    "\n",
    "            fig, ax = plt.subplots(figsize=(5.5,4.5))\n",
    "\n",
    "            # cmap = plt.cm.RdBu_r\n",
    "            cmap = plt.cm.RdGy_r\n",
    "            # cmap = plt.cm.RdYlBu_r\n",
    "            # cmap = plt.cm.PRGn\n",
    "            \n",
    "            subplot2DRanksILog(ax,ranks_ref,ranks_ref,norm_density2D,cmap=cmap,\n",
    "                transformX=True,transformY=True)\n",
    "\n",
    "            add1to1Line(ax)\n",
    "\n",
    "            ax.set_xlabel('%s percentile rank (%%)'%varname1)\n",
    "            ax.set_ylabel('%s percentile rank (%%)'%varname2)\n",
    "\n",
    "            plt.savefig(os.path.join(figdir,'norm_pdf2D_%s_and_%s_%s.pdf'%(varname1,varname2,output_suffix)),\n",
    "                            bbox_inches='tight')\n",
    "            plt.show()"
   ]
  },
  {
   "cell_type": "markdown",
   "metadata": {},
   "source": [
    "### Decompose bias into its contributions from qvstar and omega (scaling #3)"
   ]
  },
  {
   "cell_type": "code",
   "execution_count": 45,
   "metadata": {
    "ExecuteTime": {
     "end_time": "2017-11-28T19:01:50.247557",
     "start_time": "2017-11-28T19:01:50.220696Z"
    },
    "collapsed": false,
    "run_control": {
     "frozen": false,
     "read_only": false
    }
   },
   "outputs": [
    {
     "name": "stdout",
     "output_type": "stream",
     "text": [
      "\n",
      "-- decompose bias into qvstar and omega contributions\n",
      "\n"
     ]
    }
   ],
   "source": [
    "print()\n",
    "print(\"-- decompose bias into qvstar and omega contributions\")\n",
    "print()"
   ]
  },
  {
   "cell_type": "code",
   "execution_count": 46,
   "metadata": {
    "ExecuteTime": {
     "end_time": "2017-11-28T19:01:50.924938",
     "start_time": "2017-11-28T19:01:50.889162Z"
    },
    "collapsed": false,
    "run_control": {
     "frozen": false,
     "read_only": false
    }
   },
   "outputs": [
    {
     "name": "stdout",
     "output_type": "stream",
     "text": [
      "Q-mean terms\n",
      "CPU times: user 7.47 ms, sys: 1.09 ms, total: 8.55 ms\n",
      "Wall time: 7.59 ms\n"
     ]
    }
   ],
   "source": [
    "%%time\n",
    "print(\"Q-mean terms\")\n",
    "qvstar_s_prQ = meanXAtAllYRanks(targetranks,qvstar_s,pr,ranks_ref,rank_locations=rank_locations)\n",
    "omega_500_prQ = meanXAtAllYRanks(targetranks,omega_500,pr,ranks_ref,rank_locations=rank_locations)"
   ]
  },
  {
   "cell_type": "code",
   "execution_count": 47,
   "metadata": {
    "ExecuteTime": {
     "end_time": "2017-11-28T19:01:51.388026",
     "start_time": "2017-11-28T19:01:51.348102Z"
    },
    "collapsed": false,
    "run_control": {
     "frozen": false,
     "read_only": false
    }
   },
   "outputs": [
    {
     "name": "stdout",
     "output_type": "stream",
     "text": [
      "Compute bias\n",
      "single-level scaling: -0.00395769083432\n",
      "OGS09 scaling: 0.000650615505048\n",
      "OGS09ad scaling: -0.000114127852439\n",
      "RH scaling: 0.00140404547328\n",
      "RHad scaling: -0.00148138928013\n",
      "CPU times: user 1.29 ms, sys: 766 µs, total: 2.05 ms\n",
      "Wall time: 1.4 ms\n"
     ]
    }
   ],
   "source": [
    "%%time\n",
    "print(\"Compute bias\")\n",
    "bias_sc = (pr_sc_prQ - pr_sc_vQ)/pr_sc_prQ\n",
    "bias_scOGS09 = (pr_scOGS09_prQ - pr_scOGS09_vQ)/pr_scOGS09_prQ\n",
    "bias_scOGS09ad = (pr_scOGS09ad_prQ - pr_scOGS09ad_vQ)/pr_scOGS09ad_prQ\n",
    "bias_scRH = (pr_scRH_prQ - pr_scRH_vQ)/pr_scRH_prQ\n",
    "bias_scRHad = (pr_scRHad_prQ - pr_scRHad_vQ)/pr_scRHad_prQ\n",
    "print(\"single-level scaling:\",np.nanmean(bias_sc[iQ_slice]))\n",
    "print(\"OGS09 scaling:\",np.nanmean(bias_scOGS09[iQ_slice]))\n",
    "print(\"OGS09ad scaling:\",np.nanmean(bias_scOGS09ad[iQ_slice]))\n",
    "print(\"RH scaling:\",np.nanmean(bias_scRH[iQ_slice]))\n",
    "print(\"RHad scaling:\",np.nanmean(bias_scRHad[iQ_slice]))"
   ]
  },
  {
   "cell_type": "code",
   "execution_count": 48,
   "metadata": {
    "ExecuteTime": {
     "end_time": "2017-11-28T19:01:53.782950",
     "start_time": "2017-11-28T19:01:53.748984Z"
    },
    "collapsed": false,
    "run_control": {
     "frozen": false,
     "read_only": false
    }
   },
   "outputs": [
    {
     "name": "stdout",
     "output_type": "stream",
     "text": [
      "covariance term\n",
      "CPU times: user 5.73 ms, sys: 909 µs, total: 6.64 ms\n",
      "Wall time: 5.83 ms\n"
     ]
    }
   ],
   "source": [
    "%%time\n",
    "print(\"covariance term\")\n",
    "cov_qvstar_s_omega_500_prQ = covAtAllYRanks(targetranks,qvstar_s,omega_500,pr,ranks_ref,\n",
    "                                            rank_locations=rank_locations)"
   ]
  },
  {
   "cell_type": "code",
   "execution_count": 49,
   "metadata": {
    "ExecuteTime": {
     "end_time": "2017-11-28T19:01:54.448870",
     "start_time": "2017-11-28T19:01:54.420226Z"
    },
    "collapsed": false,
    "run_control": {
     "frozen": false,
     "read_only": false
    }
   },
   "outputs": [
    {
     "name": "stdout",
     "output_type": "stream",
     "text": [
      "normalized contribution\n"
     ]
    }
   ],
   "source": [
    "print(\"normalized contribution\")\n",
    "contribQOmega_bias_covQOmega = cov_qvstar_s_omega_500_prQ/qvstar_s_prQ/omega_500_prQ"
   ]
  },
  {
   "cell_type": "code",
   "execution_count": 50,
   "metadata": {
    "ExecuteTime": {
     "end_time": "2017-11-28T19:01:59.104664",
     "start_time": "2017-11-28T19:01:57.816375Z"
    },
    "collapsed": false,
    "run_control": {
     "frozen": false,
     "read_only": false
    },
    "scrolled": false
   },
   "outputs": [
    {
     "name": "stdout",
     "output_type": "stream",
     "text": [
      "> plot bias and corresponding contributions\n"
     ]
    },
    {
     "data": {
      "image/png": "[encoded data removed]",
      "text/plain": [
       "<matplotlib.figure.Figure at 0x1a0f2b69b0>"
      ]
     },
     "metadata": {},
     "output_type": "display_data"
    },
    {
     "name": "stdout",
     "output_type": "stream",
     "text": [
      "CPU times: user 1.15 s, sys: 31.4 ms, total: 1.18 s\n",
      "Wall time: 1.25 s\n"
     ]
    }
   ],
   "source": [
    "%%time\n",
    "print(\"> plot bias and corresponding contributions\")\n",
    "\n",
    "fig, ax = plt.subplots(ncols=1,nrows=1,figsize=(5,4.5))\n",
    "ax.set_ylim((-.25,.25))\n",
    "\n",
    "# Grey shading \n",
    "i_Q_lims = (iQ_slice.start, iQ_slice.stop-1)\n",
    "subplotXShadingRanksILog(ax,ranks_ref,i_Q_lims,alpha=0.15,transformX=False)\n",
    "\n",
    "# zero line\n",
    "addZeroLine(ax,ranks_ref)\n",
    "\n",
    "subplotRanksILog(ax,ranks_ref,\n",
    "                 bias_sc,\n",
    "                 col='k',ltype='-',transformX=False)\n",
    "\n",
    "subplotRanksILog(ax,ranks_ref,\n",
    "                 contribQOmega_bias_covQOmega,\n",
    "                 col='k',ltype='--',transformX=False)\n",
    "\n",
    "addXHatchRanksILog(ax,ranks_ref,(0,iQ_min),transformX=True)\n",
    "\n",
    "ax.legend([r'$1-(\\alpha q_{v,Q}^\\star \\omega_Q) / P_Q$',r'$\\propto Cov(q_v^\\star,\\omega)$'],\n",
    "          loc = 'upper left')\n",
    "\n",
    "ax.set_xlabel('Percentile rank (%)')\n",
    "ax.set_ylabel(r'Normalized bias $\\frac{b}{\\mu}$')\n",
    "\n",
    "plt.savefig(os.path.join(figdir,'bias_and_cov_omega_q_%s.pdf'%output_suffix),\n",
    "            bbox_inches='tight')\n",
    "\n",
    "plt.show()"
   ]
  },
  {
   "cell_type": "code",
   "execution_count": 51,
   "metadata": {
    "ExecuteTime": {
     "end_time": "2017-11-28T19:02:30.734436",
     "start_time": "2017-11-28T19:02:29.733617Z"
    },
    "collapsed": false,
    "run_control": {
     "frozen": false,
     "read_only": false
    }
   },
   "outputs": [
    {
     "name": "stdout",
     "output_type": "stream",
     "text": [
      "> plot bias for OGS09 scaling\n",
      "- scaling scOGS09\n",
      "- scaling scOGS09ad\n",
      "- scaling scRH\n",
      "- scaling scRHad\n"
     ]
    },
    {
     "data": {
      "image/png": "[encoded data removed]",
      "text/plain": [
       "<matplotlib.figure.Figure at 0x1a0f617da0>"
      ]
     },
     "metadata": {},
     "output_type": "display_data"
    },
    {
     "name": "stdout",
     "output_type": "stream",
     "text": [
      "CPU times: user 905 ms, sys: 25.9 ms, total: 931 ms\n",
      "Wall time: 950 ms\n"
     ]
    }
   ],
   "source": [
    "%%time\n",
    "print(\"> plot bias for OGS09 scaling\")\n",
    "\n",
    "scaling_names = 'scOGS09','scOGS09ad','scRH','scRHad'\n",
    "\n",
    "fig, ax = plt.subplots(ncols=1,nrows=1,figsize=(5,4.5))\n",
    "ax.set_ylim((-.25,.25))\n",
    "\n",
    "# Grey shading \n",
    "i_Q_lims = (iQ_slice.start, iQ_slice.stop-1)\n",
    "subplotXShadingRanksILog(ax,ranks_ref,i_Q_lims,alpha=0.15,transformX=False)\n",
    "\n",
    "# zero line\n",
    "addZeroLine(ax,ranks_ref)\n",
    "\n",
    "for sc_name in scaling_names:\n",
    "\n",
    "    print(\"- scaling %s\"%sc_name)\n",
    "\n",
    "    setattr(thismodule,'bias',getattr(thismodule,'bias_%s'%(sc_name)))\n",
    "    \n",
    "    subplotRanksILog(ax,ranks_ref,\n",
    "                     bias,\n",
    "                     ltype='-',transformX=False)\n",
    "\n",
    "addXHatchRanksILog(ax,ranks_ref,(0,iQ_min),transformX=True)\n",
    "    \n",
    "ax.legend([r'scaling %s'%sc_name for sc_name in scaling_names],\n",
    "          loc = 'upper left')\n",
    "\n",
    "ax.set_xlabel('Percentile rank (%)')\n",
    "ax.set_ylabel(r'Normalized bias $\\frac{b}{\\mu}$')\n",
    "\n",
    "plt.savefig(os.path.join(figdir,'bias_%s_%s.pdf'%('_'.join(scaling_names),output_suffix)),\n",
    "            bbox_inches='tight')\n",
    "\n",
    "plt.show()"
   ]
  },
  {
   "cell_type": "markdown",
   "metadata": {},
   "source": [
    "## Decompose the variance"
   ]
  },
  {
   "cell_type": "markdown",
   "metadata": {},
   "source": [
    "### Decompose Variance into its contributions from qvstar and omega (scaling #3)"
   ]
  },
  {
   "cell_type": "code",
   "execution_count": 52,
   "metadata": {
    "ExecuteTime": {
     "end_time": "2017-11-28T19:02:35.656654",
     "start_time": "2017-11-28T19:02:35.628441Z"
    },
    "collapsed": false,
    "run_control": {
     "frozen": false,
     "read_only": false
    },
    "scrolled": true
   },
   "outputs": [
    {
     "name": "stdout",
     "output_type": "stream",
     "text": [
      "\n",
      "-- decompose variance into qvstar and omega contributions\n",
      "\n"
     ]
    }
   ],
   "source": [
    "print()\n",
    "print(\"-- decompose variance into qvstar and omega contributions\")\n",
    "print()"
   ]
  },
  {
   "cell_type": "code",
   "execution_count": 91,
   "metadata": {
    "ExecuteTime": {
     "end_time": "2017-11-28T19:51:16.087928",
     "start_time": "2017-11-28T19:51:13.767462Z"
    },
    "collapsed": false,
    "run_control": {
     "frozen": false,
     "read_only": false
    },
    "scrolled": true
   },
   "outputs": [
    {
     "name": "stdout",
     "output_type": "stream",
     "text": [
      "Compute the variance in pr\n",
      "CPU times: user 2.15 s, sys: 16 ms, total: 2.17 s\n",
      "Wall time: 2.27 s\n"
     ]
    }
   ],
   "source": [
    "%%time \n",
    "print(\"Compute the variance in pr\")\n",
    "scaling_names = 'sc','scOGS09','scOGS09ad','scRH','scRHad'\n",
    "\n",
    "bootstrap = True\n",
    "Ntimes = 100 if bootstrap else 1\n",
    "fsub = 0.5 if bootstrap else 1\n",
    "\n",
    "for sc_name in scaling_names:\n",
    "\n",
    "    # compute variance from full sample\n",
    "    pr_values = getattr(thismodule,'pr_%s'%sc_name)\n",
    "    var_pr = varXAtAllYRanks(targetranks,pr_values,\n",
    "                            pr,ranks_ref,rank_locations=rank_locations)\n",
    "    setattr(thismodule,'var_pr_%s_prQ'%sc_name,var_pr)\n",
    "    \n",
    "    # bootstrapping\n",
    "    all_var_pr = np.empty((Ntimes,var_pr.size))\n",
    "    for i in range(Ntimes):\n",
    "        all_var_pr[i,:] = varXAtAllYRanks(targetranks,pr_values,\n",
    "                            pr,ranks_ref,rank_locations=rank_locations,random_fraction=fsub)\n",
    "    if bootstrap:\n",
    "        setattr(thismodule,'var_pr_%s_I25_prQ'%sc_name,all_var_pr[0])\n",
    "        setattr(thismodule,'var_pr_%s_I75_prQ'%sc_name,all_var_pr[1])"
   ]
  },
  {
   "cell_type": "code",
   "execution_count": 96,
   "metadata": {
    "ExecuteTime": {
     "end_time": "2017-11-28T19:53:41.833194",
     "start_time": "2017-11-28T19:53:41.795802Z"
    },
    "collapsed": false,
    "run_control": {
     "frozen": false,
     "read_only": false
    },
    "scrolled": true
   },
   "outputs": [
    {
     "name": "stdout",
     "output_type": "stream",
     "text": [
      "normalized variability\n",
      "scaling sc : 0.01123\t (0.00427,0.00066)\n",
      "scaling scOGS09 : 0.00336\t (0.00199,0.00960)\n",
      "scaling scOGS09ad : 0.00602\t (0.00266,0.00277)\n",
      "scaling scRH : 0.00287\t (0.00118,0.00626)\n",
      "scaling scRHad : 0.00346\t (0.00010,0.01738)\n"
     ]
    }
   ],
   "source": [
    "print(\"normalized variability\")\n",
    "for sc_name in scaling_names:\n",
    "    norm_var_pr = getattr(thismodule,'var_pr_%s_prQ'%sc_name)/getattr(thismodule,'pr_%s_prQ'%sc_name)**2\n",
    "    setattr(thismodule,'norm_var_pr_%s_prQ'%sc_name,norm_var_pr)\n",
    "    if bootstrap:\n",
    "        for int_bnd in 'I25','I75':\n",
    "            norm_var_pr_Ibnd = getattr(thismodule,'var_pr_%s_%s_prQ'%(sc_name,int_bnd))/\\\n",
    "                getattr(thismodule,'pr_%s_prQ'%sc_name)**2\n",
    "            setattr(thismodule,'norm_var_pr_%s_%s_prQ'%(sc_name,int_bnd),norm_var_pr_Ibnd)\n",
    "            # for printing only:\n",
    "            setattr(thismodule,'norm_var_pr_%s'%int_bnd,norm_var_pr_Ibnd)\n",
    "    \n",
    "    print(\"scaling %s : %1.5f\"%(sc_name,np.nanmean(norm_var_pr[iQ_slice])),end='')\n",
    "    if bootstrap:\n",
    "        print(\"\\t (%1.5f,%1.5f)\"%(np.nanmean(norm_var_pr_I25[iQ_slice]),\n",
    "                                  np.nanmean(norm_var_pr_I75[iQ_slice])))\n",
    "    else:\n",
    "        print()"
   ]
  },
  {
   "cell_type": "code",
   "execution_count": 88,
   "metadata": {
    "ExecuteTime": {
     "end_time": "2017-11-27T23:40:04.934276",
     "start_time": "2017-11-27T23:40:04.870552Z"
    },
    "collapsed": false,
    "run_control": {
     "frozen": false,
     "read_only": false
    }
   },
   "outputs": [
    {
     "name": "stdout",
     "output_type": "stream",
     "text": [
      "compute variability terms\n",
      "CPU times: user 21 ms, sys: 124 µs, total: 21.1 ms\n",
      "Wall time: 19.5 ms\n"
     ]
    }
   ],
   "source": [
    "%%time\n",
    "print(\"compute variability terms\")\n",
    "var_qvstar_s_prQ = varXAtAllYRanks(targetranks,qvstar_s,pr,ranks_ref,rank_locations=rank_locations)\n",
    "var_omega_500_prQ = varXAtAllYRanks(targetranks,omega_500,pr,ranks_ref,rank_locations=rank_locations)\n",
    "cov_qvstar_s_omega_500_prQ = covAtAllYRanks(targetranks,qvstar_s,omega_500,pr,ranks_ref,\n",
    "                                            rank_locations=rank_locations)\n",
    "cov_qvstar_s_2_omega_500_2_prQ = covAtAllYRanks(targetranks,qvstar_s**2,omega_500**2,pr,ranks_ref,\n",
    "                                                rank_locations=rank_locations)"
   ]
  },
  {
   "cell_type": "code",
   "execution_count": 89,
   "metadata": {
    "ExecuteTime": {
     "end_time": "2017-11-27T23:40:06.100381",
     "start_time": "2017-11-27T23:40:06.062687Z"
    },
    "collapsed": false,
    "run_control": {
     "frozen": false,
     "read_only": false
    }
   },
   "outputs": [
    {
     "name": "stdout",
     "output_type": "stream",
     "text": [
      "normalized contributions, expanded terms\n",
      "-0.0277393459826 0.0125177277472 0.0124527068951 0.000183334669237 -0.000156472854557 0.0139265990269 0.0111845495012\n"
     ]
    }
   ],
   "source": [
    "print(\"normalized contributions, expanded terms\")\n",
    "\n",
    "# a_v = (eps/gg)**2\n",
    "# contrib_covX2Y2 = a_v*cov_qvstar_s_2_omega_500_2_prQ/(pr_sc_prQ**2)\n",
    "# contrib_varX = a_v*(omega_500_prQ**2)*var_qvstar_s_prQ/(pr_sc_prQ**2)\n",
    "# contrib_varY = a_v*(qvstar_s_prQ**2)*var_omega_500_prQ/(pr_sc_prQ**2)\n",
    "# contrib_varXvarY = a_v*var_qvstar_s_prQ*var_omega_500_prQ/(pr_sc_prQ**2)\n",
    "# contrib_cov2XY = -a_v*(cov_qvstar_s_omega_500_prQ**2)/(pr_sc_prQ**2)\n",
    "# contrib_covXY = -a_v*2*qvstar_s_prQ*omega_500_prQ*cov_qvstar_s_omega_500_prQ/(pr_sc_prQ**2)\n",
    "contribQOmega_var_covQ2Omega2 = cov_qvstar_s_2_omega_500_2_prQ/((omega_500_prQ*qvstar_s_prQ)**2)\n",
    "contribQOmega_var_varQ = var_qvstar_s_prQ/(qvstar_s_prQ**2)\n",
    "contribQOmega_var_varOmega = var_omega_500_prQ/(omega_500_prQ**2)\n",
    "contribQOmega_var_varQvarOmega = var_qvstar_s_prQ*var_omega_500_prQ/((omega_500_prQ*qvstar_s_prQ)**2)\n",
    "contribQOmega_var_cov2QOmega = -(cov_qvstar_s_omega_500_prQ**2)/((omega_500_prQ*qvstar_s_prQ)**2)\n",
    "contribQOmega_var_covQOmega = -2*cov_qvstar_s_omega_500_prQ/(omega_500_prQ*qvstar_s_prQ)\n",
    "contribQOmega_var_sum = contribQOmega_var_covQ2Omega2 + contribQOmega_var_varQ + contribQOmega_var_varOmega + \\\n",
    "    contribQOmega_var_varQvarOmega + contribQOmega_var_cov2QOmega + contribQOmega_var_covQOmega\n",
    "\n",
    "print(np.nanmean(contribQOmega_var_covQ2Omega2[iQ_slice]),np.nanmean(contribQOmega_var_varQ[iQ_slice]),\n",
    "      np.nanmean(contribQOmega_var_varOmega[iQ_slice]),np.nanmean(contribQOmega_var_varQvarOmega[iQ_slice]),\n",
    "      np.nanmean(contribQOmega_var_cov2QOmega[iQ_slice]),np.nanmean(contribQOmega_var_covQOmega[iQ_slice]),\n",
    "      np.nanmean(contribQOmega_var_sum[iQ_slice]))"
   ]
  },
  {
   "cell_type": "code",
   "execution_count": 90,
   "metadata": {
    "ExecuteTime": {
     "end_time": "2017-11-27T23:40:10.165692",
     "start_time": "2017-11-27T23:40:08.163320Z"
    },
    "collapsed": false,
    "run_control": {
     "frozen": false,
     "read_only": false
    },
    "scrolled": false
   },
   "outputs": [
    {
     "name": "stdout",
     "output_type": "stream",
     "text": [
      "> plot variance and corresponding contributions\n"
     ]
    },
    {
     "data": {
      "image/png": "[encoded data removed]",
      "text/plain": [
       "<matplotlib.figure.Figure at 0x2b1fc3538550>"
      ]
     },
     "metadata": {},
     "output_type": "display_data"
    },
    {
     "name": "stdout",
     "output_type": "stream",
     "text": [
      "CPU times: user 1.78 s, sys: 102 ms, total: 1.88 s\n",
      "Wall time: 1.89 s\n"
     ]
    }
   ],
   "source": [
    "%%time\n",
    "print(\"> plot variance and corresponding contributions\")\n",
    "\n",
    "fig, ax = plt.subplots(ncols=1,nrows=1,figsize=(5,4.5))\n",
    "ax.set_ylim((-.3,.6))\n",
    "\n",
    "# Grey shading \n",
    "i_Q_lims = (iQ_slice.start, iQ_slice.stop-1)\n",
    "subplotXShadingRanksILog(ax,ranks_ref,i_Q_lims,alpha=0.15,transformX=False)\n",
    "\n",
    "# zero line\n",
    "addZeroLine(ax,ranks_ref)\n",
    "\n",
    "subplotRanksILog(ax,ranks_ref,\n",
    "                 norm_var_pr_sc_prQ,\n",
    "                 col='k',ltype='-',transformX=False)\n",
    "subplotRanksILog(ax,ranks_ref,\n",
    "                 [contribQOmega_var_covQ2Omega2,contribQOmega_var_varQ,contribQOmega_var_varOmega,\n",
    "                  contribQOmega_var_varQvarOmega,contribQOmega_var_cov2QOmega,contribQOmega_var_covQOmega,\n",
    "                  contribQOmega_var_sum],\n",
    "                 col=['r','b','g','brown','y','purple','k'],ltype=['-','-','-','-','-','-',':'],transformX=False)\n",
    "\n",
    "addXHatchRanksILog(ax,ranks_ref,(0,iQ_min),transformX=True)\n",
    "\n",
    "leg = ax.legend([r'$Var(\\alpha q_v^\\star \\omega)$',\n",
    "                 r'$\\propto Cov(q_v^{\\star,2},\\omega^2)$',\n",
    "                 r'$\\propto Var(q_v^\\star)$',\n",
    "                 r'$\\propto Var(\\omega)$',\n",
    "                 r'$\\propto Var(q_v^\\star)Var(\\omega)$',\n",
    "                 r'$\\propto -Cov(q_v^\\star,\\omega)^2$',\n",
    "                 r'$\\propto -Cov(q_v^\\star,\\omega)$',\n",
    "                 r'sum of all'],\n",
    "                 loc='upper left',\n",
    "                 framealpha=0.8,\n",
    "                 ncol=2)\n",
    "\n",
    "ax.set_xlabel('Percentile rank (%)')\n",
    "ax.set_ylabel(r'Contribtions to normalized variance $\\frac{\\sigma^2}{\\mu^2}$')\n",
    "\n",
    "plt.savefig(os.path.join(figdir,'var_and_contributions_omega_q_%s.pdf'%output_suffix),\n",
    "            bbox_inches='tight')\n",
    "\n",
    "plt.show()"
   ]
  },
  {
   "cell_type": "code",
   "execution_count": 91,
   "metadata": {
    "ExecuteTime": {
     "end_time": "2017-11-27T23:47:21.905645",
     "start_time": "2017-11-27T23:47:20.421508Z"
    },
    "collapsed": false,
    "run_control": {
     "frozen": false,
     "read_only": false
    }
   },
   "outputs": [
    {
     "name": "stdout",
     "output_type": "stream",
     "text": [
      "> plot variance for vertical scalings\n",
      "- add scaling scOGS09\n",
      "- add scaling scOGS09ad\n",
      "- add scaling scRH\n",
      "- add scaling scRHad\n"
     ]
    },
    {
     "data": {
      "image/png": "[encoded data removed]",
      "text/plain": [
       "<matplotlib.figure.Figure at 0x2b1fc3538358>"
      ]
     },
     "metadata": {},
     "output_type": "display_data"
    },
    {
     "name": "stdout",
     "output_type": "stream",
     "text": [
      "CPU times: user 1.08 s, sys: 58.9 ms, total: 1.14 s\n",
      "Wall time: 1.14 s\n"
     ]
    }
   ],
   "source": [
    "%%time\n",
    "print(\"> plot variance for vertical scalings\")\n",
    "\n",
    "scaling_names = 'scOGS09','scOGS09ad','scRH','scRHad'\n",
    "\n",
    "\n",
    "fig, ax = plt.subplots(ncols=1,nrows=1,figsize=(5,4.5))\n",
    "ax.set_ylim((-.3,.6))\n",
    "\n",
    "# Grey shading \n",
    "i_Q_lims = (iQ_slice.start, iQ_slice.stop-1)\n",
    "subplotXShadingRanksILog(ax,ranks_ref,i_Q_lims,alpha=0.15,transformX=False)\n",
    "\n",
    "# zero line\n",
    "addZeroLine(ax,ranks_ref)\n",
    "    \n",
    "for sc_name in scaling_names:\n",
    "\n",
    "    print(\"- add scaling %s\"%sc_name)\n",
    "    setattr(thismodule,'norm_var',getattr(thismodule,'norm_var_pr_%s_prQ'%(sc_name)))\n",
    "\n",
    "    subplotRanksILog(ax,ranks_ref,\n",
    "                     norm_var,\n",
    "                     ltype='-',transformX=False)\n",
    "\n",
    "addXHatchRanksILog(ax,ranks_ref,(0,iQ_min),transformX=True)\n",
    "\n",
    "leg = ax.legend([r'scaling %s'%sc_name for sc_name in scaling_names],\n",
    "                 loc='upper left',\n",
    "                 framealpha=0.8)\n",
    "\n",
    "ax.set_xlabel('Percentile rank (%)')\n",
    "ax.set_ylabel(r'Normalized variance $\\frac{\\sigma^2}{\\mu^2}$')\n",
    "\n",
    "plt.savefig(os.path.join(figdir,'var_%s_%s.pdf'%('_'.join(scaling_names),output_suffix)),\n",
    "            bbox_inches='tight')\n",
    "\n",
    "plt.show()"
   ]
  },
  {
   "cell_type": "markdown",
   "metadata": {},
   "source": [
    "### Decompose variance into its contributions from T and omega (ignore variability in pressure)"
   ]
  },
  {
   "cell_type": "code",
   "execution_count": 92,
   "metadata": {
    "ExecuteTime": {
     "end_time": "2017-11-16T21:56:13.454561",
     "start_time": "2017-11-16T21:56:13.427258Z"
    },
    "collapsed": false,
    "run_control": {
     "frozen": false,
     "read_only": false
    }
   },
   "outputs": [
    {
     "name": "stdout",
     "output_type": "stream",
     "text": [
      "\n",
      "-- decompose variance into T and omega contributions\n",
      "\n"
     ]
    }
   ],
   "source": [
    "print()\n",
    "print(\"-- decompose variance into T and omega contributions\")\n",
    "print()"
   ]
  },
  {
   "cell_type": "code",
   "execution_count": 93,
   "metadata": {
    "ExecuteTime": {
     "end_time": "2017-11-16T21:56:14.483412",
     "start_time": "2017-11-16T21:56:14.454484Z"
    },
    "collapsed": false,
    "run_control": {
     "frozen": false,
     "read_only": false
    }
   },
   "outputs": [
    {
     "name": "stdout",
     "output_type": "stream",
     "text": [
      "Q-mean terms\n"
     ]
    }
   ],
   "source": [
    "print(\"Q-mean terms\")\n",
    "ts_prQ = meanXAtAllYRanks(targetranks,ts,pr,ranks_ref,rank_locations=rank_locations)"
   ]
  },
  {
   "cell_type": "code",
   "execution_count": 94,
   "metadata": {
    "ExecuteTime": {
     "end_time": "2017-11-16T21:56:15.128798",
     "start_time": "2017-11-16T21:56:15.086514Z"
    },
    "collapsed": false,
    "run_control": {
     "frozen": false,
     "read_only": false
    },
    "scrolled": false
   },
   "outputs": [
    {
     "name": "stdout",
     "output_type": "stream",
     "text": [
      "compute variability terms\n",
      "CPU times: user 17.4 ms, sys: 0 ns, total: 17.4 ms\n",
      "Wall time: 18.4 ms\n"
     ]
    }
   ],
   "source": [
    "%%time\n",
    "print(\"compute variability terms\")\n",
    "var_ts_prQ = varXAtAllYRanks(targetranks,ts,pr,ranks_ref,rank_locations=rank_locations)\n",
    "cov_ts_omega_500_prQ = covAtAllYRanks(targetranks,ts,omega_500,pr,ranks_ref,rank_locations=rank_locations)\n",
    "cov_ts_omega_500_2_prQ = covAtAllYRanks(targetranks,ts,omega_500**2,pr,ranks_ref,rank_locations=rank_locations)"
   ]
  },
  {
   "cell_type": "code",
   "execution_count": 95,
   "metadata": {
    "ExecuteTime": {
     "end_time": "2017-11-16T21:56:15.705672",
     "start_time": "2017-11-16T21:56:15.674428Z"
    },
    "collapsed": false,
    "run_control": {
     "frozen": false,
     "read_only": false
    }
   },
   "outputs": [
    {
     "name": "stdout",
     "output_type": "stream",
     "text": [
      "normalized contributions, expanded terms\n",
      "-0.0260326772061 0.0131290022351 0.0133319871082 0.0124527068951 0.0128810190324 \n"
     ]
    }
   ],
   "source": [
    "print(\"normalized contributions, expanded terms\")\n",
    "\n",
    "contribTOmega_var_covTOmega2 = 2*L_v/R_v*cov_ts_omega_500_2_prQ/(ts_prQ*omega_500_prQ)**2\n",
    "contribTOmega_var_covTOmega = -2*L_v/R_v*cov_ts_omega_500_prQ/((ts_prQ**2)*omega_500_prQ)\n",
    "contribTOmega_var_varT = ((L_v/R_v)**2)*var_ts_prQ/(ts_prQ**4)\n",
    "contribTOmega_var_varOmega = var_omega_500_prQ/(omega_500_prQ**2)\n",
    "contribTOmega_var_sum = contribTOmega_var_covTOmega2+contribTOmega_var_covTOmega+contribTOmega_var_varT+\\\n",
    "    contribTOmega_var_varOmega\n",
    "all_contribTOmega_var = [contribTOmega_var_covTOmega2,contribTOmega_var_covTOmega,contribTOmega_var_varT,\n",
    "                    contribTOmega_var_varOmega,contribTOmega_var_sum]\n",
    "for contrib in all_contribTOmega_var:\n",
    "    print(np.nanmean(contrib[iQ_slice]),end=' ')\n",
    "print()"
   ]
  },
  {
   "cell_type": "code",
   "execution_count": 96,
   "metadata": {
    "ExecuteTime": {
     "end_time": "2017-11-16T21:56:17.614661",
     "start_time": "2017-11-16T21:56:16.314717Z"
    },
    "collapsed": false,
    "run_control": {
     "frozen": false,
     "read_only": false
    },
    "scrolled": true
   },
   "outputs": [
    {
     "name": "stdout",
     "output_type": "stream",
     "text": [
      "> plot variance and corresponding contributions\n"
     ]
    },
    {
     "data": {
      "image/png": "[encoded data removed]",
      "text/plain": [
       "<matplotlib.figure.Figure at 0x2b1fbf4d69b0>"
      ]
     },
     "metadata": {},
     "output_type": "display_data"
    },
    {
     "name": "stdout",
     "output_type": "stream",
     "text": [
      "CPU times: user 1.42 s, sys: 70.6 ms, total: 1.49 s\n",
      "Wall time: 1.49 s\n"
     ]
    }
   ],
   "source": [
    "%%time \n",
    "print(\"> plot variance and corresponding contributions\")\n",
    "\n",
    "fig, ax = plt.subplots(ncols=1,nrows=1,figsize=(5,4.5))\n",
    "\n",
    "ax.set_ylim((-0.3,0.6))\n",
    "\n",
    "# Grey shading \n",
    "i_Q_lims = (iQ_slice.start, iQ_slice.stop-1)\n",
    "subplotXShadingRanksILog(ax,ranks_ref,i_Q_lims,alpha=0.15,transformX=False)\n",
    "\n",
    "# zero line\n",
    "addZeroLine(ax,ranks_ref)\n",
    "\n",
    "# subplotRanksILog(ax,ranks,np.zeros(ranks.shape),ltype=':',col='k')\n",
    "subplotRanksILog(ax,ranks_ref,\n",
    "                 norm_var_pr_sc_prQ,\n",
    "                 col='k',ltype='-',transformX=False)\n",
    "\n",
    "subplotRanksILog(ax,ranks_ref,\n",
    "                 all_contribTOmega_var,\n",
    "                 col=['green','blue','red','grey','k'],ltype=['-','-','-','-',':'],transformX=False)\n",
    "\n",
    "addXHatchRanksILog(ax,ranks_ref,(0,iQ_min),transformX=True)\n",
    "\n",
    "ax.set_xlabel('Percentile rank (%)')\n",
    "ax.set_ylabel(r'Contributions to Var$_Q(S)$')\n",
    "# ax.set_title(r'$S(\\omega,T)=\\varepsilon\\omega_{500}q_v^\\star(T)$')\n",
    "\n",
    "ax.legend([r'$\\propto Var(\\alpha q_v^\\star \\omega)$',r'$\\propto Cov(T,\\omega^2)$',r'$\\propto Cov(T,\\omega)$',\n",
    "           r'$\\propto Var(T)$',\n",
    "           r'$\\propto Var(\\omega)$','sum'],ncol=2,framealpha=0.8,loc='upper left')\n",
    "\n",
    "plt.savefig(os.path.join(figdir,'var_and_contributions_omega_T_%s.pdf'%output_suffix),\n",
    "            bbox_inches='tight')\n",
    "\n",
    "plt.show()"
   ]
  },
  {
   "cell_type": "markdown",
   "metadata": {},
   "source": [
    "## Predictor variables statistics"
   ]
  },
  {
   "cell_type": "markdown",
   "metadata": {},
   "source": [
    "### Joint statistics of $\\omega$ and $q_v^\\star$"
   ]
  },
  {
   "cell_type": "code",
   "execution_count": 97,
   "metadata": {
    "ExecuteTime": {
     "end_time": "2017-11-28T19:58:03.782332",
     "start_time": "2017-11-28T19:58:03.755864Z"
    },
    "collapsed": false
   },
   "outputs": [
    {
     "name": "stdout",
     "output_type": "stream",
     "text": [
      "\n",
      "-- compute joint statistics of omega and qvstar\n",
      "\n"
     ]
    }
   ],
   "source": [
    "print()\n",
    "print(\"-- compute joint statistics of omega and qvstar\")\n",
    "print()"
   ]
  },
  {
   "cell_type": "code",
   "execution_count": 255,
   "metadata": {
    "ExecuteTime": {
     "end_time": "2017-11-29T01:46:25.777668",
     "start_time": "2017-11-29T01:46:25.675870Z"
    },
    "collapsed": false
   },
   "outputs": [
    {
     "name": "stdout",
     "output_type": "stream",
     "text": [
      "2D density\n",
      "normalized 2D density\n"
     ]
    }
   ],
   "source": [
    "print(\"2D density\")\n",
    "ranks_omega_500, percentiles_omega_500, bins_omega_500, \\\n",
    "ranks_qvstar_s, percentiles_qvstar_s, bins_qvstar_s, density2D_omega_500_qvstar_s = \\\n",
    "    compute2dStatsILOnRefRanks(-omega_500,qvstar_s,ranks_ref,n_pts_per_bin=1)\n",
    "    \n",
    "print(\"normalized 2D density\")\n",
    "N1 = sampleSizeAtAllRanks(ranks_omega_500,-omega_500,ranks_ref,bins=bins_omega_500)\n",
    "N2 = sampleSizeAtAllRanks(ranks_qvstar_s,qvstar_s,ranks_ref,bins=bins_qvstar_s)\n",
    "norm_factor = normalize2dDensity(N1,N2,n_pts)\n",
    "\n",
    "norm_density2D_omega_500_qvstar_s = density2D_omega_500_qvstar_s/norm_factor"
   ]
  },
  {
   "cell_type": "code",
   "execution_count": 256,
   "metadata": {
    "ExecuteTime": {
     "end_time": "2017-11-29T01:46:28.815620",
     "start_time": "2017-11-29T01:46:26.915336Z"
    },
    "collapsed": false,
    "scrolled": false
   },
   "outputs": [
    {
     "name": "stdout",
     "output_type": "stream",
     "text": [
      "> plot 2D PDF of omega_500 and qvstar_s\n"
     ]
    },
    {
     "data": {
      "image/png": "[encoded data removed]",
      "text/plain": [
       "<matplotlib.figure.Figure at 0x1a1b3504a8>"
      ]
     },
     "metadata": {},
     "output_type": "display_data"
    }
   ],
   "source": [
    "print(\"> plot 2D PDF of omega_500 and qvstar_s\")\n",
    "fig, ax = plt.subplots(figsize=(5.5,4.5))\n",
    "\n",
    "subplot2DRanksILog(ax,ranks_ref,ranks_ref,norm_density2D_omega_500_qvstar_s,\n",
    "                   cmap='viridis',transformX=True,transformY=True)\n",
    "\n",
    "add1to1Line(ax)\n",
    "\n",
    "ax.set_xlabel('omega_500 percentile rank (%)')\n",
    "ax.set_ylabel('qvstar_s percentile rank (%)')\n",
    "\n",
    "plt.savefig(os.path.join(figdir,'norm_pdf2D_%s_and_%s_%s.pdf'%(varname1,varname2,output_suffix)),\n",
    "                bbox_inches='tight')\n",
    "plt.show()"
   ]
  },
  {
   "cell_type": "code",
   "execution_count": 238,
   "metadata": {
    "ExecuteTime": {
     "end_time": "2017-11-29T01:36:42.855657",
     "start_time": "2017-11-29T01:36:42.829429Z"
    },
    "collapsed": false
   },
   "outputs": [],
   "source": [
    "# print(\"compute sample size in 2D bins of omega_500 and qvstar_s\")\n",
    "\n",
    "# sampleSize_omega_500_qvstar_s = sampleSizeAtAllY1Y2Ranks(ranks_ref,ranks_ref,omega_500,qvstar_s,\n",
    "#     Y1ranks=ranks_ref,Y1bins=bins_omega_500,Y1rank_locations=None,\n",
    "#     Y2ranks=ranks_ref,Y2bins=bins_qvstar_s,Y2rank_locations=None)\n",
    "\n",
    "# fig, ax = plt.subplots(figsize=(5.5,4.5))\n",
    "\n",
    "# subplot2DRanksILog(ax,ranks_ref,ranks_ref,sampleSize_omega_500_qvstar_s,\n",
    "#                    cmap='viridis',transformX=True,transformY=True)\n",
    "\n",
    "# add1to1Line(ax)\n",
    "\n",
    "# ax.set_xlabel('omega_500 percentile rank (%)')\n",
    "# ax.set_ylabel('qvstar_s percentile rank (%)')"
   ]
  },
  {
   "cell_type": "markdown",
   "metadata": {},
   "source": [
    "### Conditional values of $P$ on joint statistics of $\\omega$ and $q_v^\\star$"
   ]
  },
  {
   "cell_type": "code",
   "execution_count": 125,
   "metadata": {
    "ExecuteTime": {
     "end_time": "2017-11-28T21:59:41.575916",
     "start_time": "2017-11-28T21:59:41.496686Z"
    },
    "collapsed": false
   },
   "outputs": [
    {
     "name": "stdout",
     "output_type": "stream",
     "text": [
      "\n",
      "-- compute P conditioned on omega_500 and qvstar_s\n",
      "\n"
     ]
    }
   ],
   "source": [
    "print()\n",
    "print(\"-- compute mean values conditioned on omega_500 and qvstar_s\")\n",
    "print()"
   ]
  },
  {
   "cell_type": "code",
   "execution_count": 127,
   "metadata": {
    "ExecuteTime": {
     "end_time": "2017-11-28T22:01:18.247780",
     "start_time": "2017-11-28T22:01:18.221438Z"
    },
    "collapsed": false
   },
   "outputs": [
    {
     "name": "stdout",
     "output_type": "stream",
     "text": [
      "ranks_locations for omega_500 and qvstar_s\n",
      "TO DO\n"
     ]
    }
   ],
   "source": [
    "print(\"ranks_locations for omega_500 and qvstar_s\")\n",
    "print(\"TO DO\")"
   ]
  },
  {
   "cell_type": "code",
   "execution_count": 257,
   "metadata": {
    "ExecuteTime": {
     "end_time": "2017-11-29T01:47:12.484760",
     "start_time": "2017-11-29T01:47:12.298602Z"
    },
    "collapsed": false,
    "hide_input": false
   },
   "outputs": [
    {
     "name": "stdout",
     "output_type": "stream",
     "text": [
      "1281\n",
      "163\n",
      "29\n"
     ]
    },
    {
     "data": {
      "text/plain": [
       "9.193348e-06"
      ]
     },
     "execution_count": 257,
     "metadata": {},
     "output_type": "execute_result"
    }
   ],
   "source": [
    "stencil_Q_omega_500 = getRankLocations(ranks_ref[9],omega_500,ranks_omega_500,bins_omega_500)\n",
    "print(stencil_Q_omega_500.sum())\n",
    "stencil_Q_qvstar_s = getRankLocations(ranks_ref[9],qvstar_s,ranks_qvstar_s,bins_qvstar_s)\n",
    "print(stencil_Q_qvstar_s.sum())\n",
    "stencil_Q = cn.logical_and(stencil_Q_omega_500,stencil_Q_qvstar_s)\n",
    "print(stencil_Q.sum())\n",
    "meanXInStencil(pr,stencil_Q)"
   ]
  },
  {
   "cell_type": "code",
   "execution_count": 268,
   "metadata": {
    "ExecuteTime": {
     "end_time": "2017-11-29T01:52:00.897442",
     "start_time": "2017-11-29T01:52:00.868832Z"
    },
    "collapsed": false
   },
   "outputs": [
    {
     "data": {
      "text/plain": [
       "array([        nan,  0.01806114,  0.02004216,  0.02133064,  0.02226669,\n",
       "        0.02300577,  0.02360233,  0.02411366,  0.02451601,  0.0247922 ,\n",
       "        0.025121  ,  0.0257071 ,  0.02781467,  0.02967132,  0.03086466,\n",
       "        0.03235449,  0.03397358,  0.03516588,  0.03658641,  0.03835813,\n",
       "        0.03927928,  0.04057581,  0.04155688,  0.04229186,  0.04386386,\n",
       "        0.04468842,  0.04496441,  0.04558779,  0.04582135,  0.04615597,\n",
       "        0.046353  ,  0.0466064 ,  0.04686254,  0.0472574 ,  0.04746775,\n",
       "        0.04748205,  0.04749341,  0.04759643,  0.04782358,  0.04800402,\n",
       "               nan])"
      ]
     },
     "execution_count": 268,
     "metadata": {},
     "output_type": "execute_result"
    }
   ],
   "source": [
    "percentiles_qvstar_s"
   ]
  },
  {
   "cell_type": "code",
   "execution_count": 259,
   "metadata": {
    "ExecuteTime": {
     "end_time": "2017-11-29T01:47:45.535287",
     "start_time": "2017-11-29T01:47:45.487412Z"
    },
    "collapsed": false
   },
   "outputs": [],
   "source": [
    "print(\"prepare axes and bins for predictor variables\")\n",
    "ranks_omega_500, percentiles_omega_500, bins_omega_500 = computePercentilesAndBinsFromRanks(-omega_500.flatten(),Q_IL,crop=False)\n",
    "percentiles_omega_500 = adjustRanks(percentiles_omega_500,ranks_omega_500,ranks_ref)\n",
    "bins_omega_500 = adjustBinsOnRanks(bins_omega_500,ranks_omega_500,ranks_ref)\n",
    "ranks_omega_500 = ranks_ref\n",
    "ranks_qvstar_s, percentiles_qvstar_s, bins_qvstar_s = computePercentilesAndBinsFromRanks(qvstar_s.flatten(),Q_IL,crop=True)\n",
    "percentiles_qvstar_s = adjustRanks(percentiles_qvstar_s,ranks_qvstar_s,ranks_ref)\n",
    "bins_qvstar_s = adjustBinsOnRanks(bins_qvstar_s,ranks_qvstar_s,ranks_ref)\n",
    "ranks_qvstar_s = ranks_ref"
   ]
  },
  {
   "cell_type": "code",
   "execution_count": 274,
   "metadata": {
    "ExecuteTime": {
     "end_time": "2017-11-29T01:57:27.354297",
     "start_time": "2017-11-29T01:57:26.694720Z"
    },
    "collapsed": false,
    "hide_input": false
   },
   "outputs": [
    {
     "name": "stdout",
     "output_type": "stream",
     "text": [
      "compute conditional values or pr, pr_sc and pr_scOG09\n"
     ]
    }
   ],
   "source": [
    "print(\"compute conditional values or pr, pr_sc and pr_scOG09\")\n",
    "\n",
    "varnames = 'pr','pr_sc','pr_scOGS09'\n",
    "\n",
    "for varname in varnames:\n",
    "    \n",
    "    val_cond = meanXAtAllY1Y2Ranks(ranks_ref,ranks_ref,getattr(thismodule,varname),-omega_500,qvstar_s,\\\n",
    "                                Y1ranks=ranks_ref,Y1bins=bins_omega_500,\\\n",
    "                                Y2ranks=ranks_ref,Y2bins=bins_qvstar_s)\n",
    "    setattr(thismodule,\"%s_omega_500Q_qvstar_sQ\"%varname,val_cond)\n"
   ]
  },
  {
   "cell_type": "code",
   "execution_count": null,
   "metadata": {
    "ExecuteTime": {
     "start_time": "2017-11-29T01:59:47.640Z"
    },
    "collapsed": false,
    "hide_input": false,
    "scrolled": false
   },
   "outputs": [
    {
     "name": "stdout",
     "output_type": "stream",
     "text": [
      "> plot precipitation conditioned on omega_500 and qvstar_s\n",
      "- for pr_omega_500Q_qvstar_sQ\n"
     ]
    },
    {
     "data": {
      "image/png": "[encoded data removed]",
      "text/plain": [
       "<matplotlib.figure.Figure at 0x1a1a7ec940>"
      ]
     },
     "metadata": {},
     "output_type": "display_data"
    },
    {
     "name": "stdout",
     "output_type": "stream",
     "text": [
      "- for pr_sc_omega_500Q_qvstar_sQ\n"
     ]
    },
    {
     "data": {
      "image/png": "[encoded data removed]",
      "text/plain": [
       "<matplotlib.figure.Figure at 0x1a1a5f2b70>"
      ]
     },
     "metadata": {},
     "output_type": "display_data"
    },
    {
     "name": "stdout",
     "output_type": "stream",
     "text": [
      "- for pr_scOGS09_omega_500Q_qvstar_sQ\n"
     ]
    }
   ],
   "source": [
    "print(\"> plot precipitation conditioned on omega_500 and qvstar_s\")\n",
    "\n",
    "for varname in varnames:\n",
    "\n",
    "    var_cond = getattr(thismodule,\"%s_omega_500Q_qvstar_sQ\"%varname)\n",
    "    print(\"- for %s_omega_500Q_qvstar_sQ\"%varname)\n",
    "\n",
    "    fig, ax = plt.subplots(figsize=(5.5,4.5))\n",
    "\n",
    "    subplot2DRanksILog(ax,ranks_ref,ranks_ref,var_cond,cmap='viridis',\n",
    "        transformX=True,transformY=True,range_type='full_positive',vmin=1e-6,vmax=1e-3)\n",
    "\n",
    "    add1to1Line(ax)\n",
    "\n",
    "    ax.set_xlabel('omega_500 percentile rank (%)')\n",
    "    ax.set_ylabel('qvstar_s percentile rank (%)')\n",
    "\n",
    "    plt.savefig(os.path.join(figdir,'%s_conditioned_on_omega_500_and_qvstar_s_%s.pdf'%(varname,output_suffix)),\n",
    "                    bbox_inches='tight')\n",
    "    plt.show()"
   ]
  },
  {
   "cell_type": "markdown",
   "metadata": {
    "collapsed": true,
    "run_control": {
     "frozen": false,
     "read_only": false
    }
   },
   "source": [
    "# Save all variables in dataframe"
   ]
  },
  {
   "cell_type": "code",
   "execution_count": 110,
   "metadata": {
    "ExecuteTime": {
     "end_time": "2017-11-28T20:13:54.895363",
     "start_time": "2017-11-28T20:13:54.860742Z"
    },
    "collapsed": false,
    "run_control": {
     "frozen": false,
     "read_only": false
    }
   },
   "outputs": [
    {
     "name": "stdout",
     "output_type": "stream",
     "text": [
      "-- Save results\n"
     ]
    }
   ],
   "source": [
    "print(\"-- Save results\")\n",
    "import pandas as pd\n",
    "import re\n",
    "import pickle"
   ]
  },
  {
   "cell_type": "code",
   "execution_count": 111,
   "metadata": {
    "ExecuteTime": {
     "end_time": "2017-11-28T20:13:54.929509",
     "start_time": "2017-11-28T20:13:54.898239Z"
    },
    "collapsed": false,
    "run_control": {
     "frozen": false,
     "read_only": false
    },
    "scrolled": false
   },
   "outputs": [
    {
     "name": "stdout",
     "output_type": "stream",
     "text": [
      "find all varnames to save\n"
     ]
    }
   ],
   "source": [
    "print(\"find all varnames to save\")\n",
    "vars_out = ['ranks_ref','percentiles']\n",
    "vars_out.extend([v for v in locals().keys() if v.endswith('prQ') or v.endswith('vQ')])\n",
    "vars_out.extend([v for v in locals().keys() if v.startswith('contrib')])"
   ]
  },
  {
   "cell_type": "code",
   "execution_count": 112,
   "metadata": {
    "ExecuteTime": {
     "end_time": "2017-11-28T20:13:54.961103",
     "start_time": "2017-11-28T20:13:54.931594Z"
    },
    "collapsed": false,
    "run_control": {
     "frozen": false,
     "read_only": false
    },
    "scrolled": false
   },
   "outputs": [
    {
     "name": "stdout",
     "output_type": "stream",
     "text": [
      "create result dataframe\n"
     ]
    }
   ],
   "source": [
    "print(\"create result dataframe\")\n",
    "results_df = pd.DataFrame({v:getattr(thismodule,v) for v in vars_out})"
   ]
  },
  {
   "cell_type": "code",
   "execution_count": 113,
   "metadata": {
    "ExecuteTime": {
     "end_time": "2017-11-28T20:13:54.995878",
     "start_time": "2017-11-28T20:13:54.963784Z"
    },
    "collapsed": false,
    "run_control": {
     "frozen": false,
     "read_only": false
    }
   },
   "outputs": [
    {
     "name": "stdout",
     "output_type": "stream",
     "text": [
      "> save results to results_Q8-Q41_185005010100-185005020000.csv\n",
      "\n"
     ]
    }
   ],
   "source": [
    "resultfile = 'results_%s.csv'%output_suffix\n",
    "print(\"> save results to %s\"%resultfile)\n",
    "results_df.to_csv(os.path.join(resultdir,resultfile))\n",
    "print()"
   ]
  },
  {
   "cell_type": "code",
   "execution_count": 114,
   "metadata": {
    "ExecuteTime": {
     "end_time": "2017-11-28T20:13:55.029314",
     "start_time": "2017-11-28T20:13:54.998284Z"
    },
    "collapsed": false,
    "run_control": {
     "frozen": false,
     "read_only": false
    },
    "scrolled": false
   },
   "outputs": [
    {
     "name": "stdout",
     "output_type": "stream",
     "text": [
      "Script successfully terminated in 1:19:06.951988.\n",
      "> Save timing and size info to /Users/bfildier/Code/researchProjects/dataAnalysis/extremeRainPredictabilityAcrossScales/results/omega500tsps/FSPCAMm_AMIP/piControl/r1i1p1/tropics/1d/1dx/timing.csv.\n"
     ]
    }
   ],
   "source": [
    "if tracktime:\n",
    "    timingfile = 'timing.csv'\n",
    "    fulltimingfile = os.path.join(resultdir,timingfile)\n",
    "    t1 = time.time()\n",
    "    time_elapsed_s = t1-t0\n",
    "    timing_df = saveTiming(fulltimingfile,output_suffix,pr.size,time_elapsed_s,reset_value=True)"
   ]
  },
  {
   "cell_type": "code",
   "execution_count": null,
   "metadata": {
    "collapsed": true,
    "run_control": {
     "frozen": false,
     "read_only": false
    }
   },
   "outputs": [],
   "source": []
  }
 ],
 "metadata": {
  "hide_input": false,
  "kernelspec": {
   "display_name": "Python 3",
   "language": "python",
   "name": "python3"
  },
  "language_info": {
   "codemirror_mode": {
    "name": "ipython",
    "version": 3
   },
   "file_extension": ".py",
   "mimetype": "text/x-python",
   "name": "python",
   "nbconvert_exporter": "python",
   "pygments_lexer": "ipython3",
   "version": "3.6.1"
  },
  "latex_envs": {
   "bibliofile": "biblio.bib",
   "cite_by": "apalike",
   "current_citInitial": 1,
   "eqLabelWithNumbers": true,
   "eqNumInitial": 0
  },
  "toc": {
   "toc_cell": true,
   "toc_number_sections": true,
   "toc_threshold": 6,
   "toc_window_display": false
  }
 },
 "nbformat": 4,
 "nbformat_minor": 1
}
