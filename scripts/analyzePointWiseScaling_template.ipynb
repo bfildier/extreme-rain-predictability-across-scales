{
 "cells": [
  {
   "cell_type": "markdown",
   "metadata": {
    "toc": "true"
   },
   "source": [
    "# Table of Contents\n",
    " <p><div class=\"lev1\"><a href=\"#Derive-scaling\"><span class=\"toc-item-num\">1&nbsp;&nbsp;</span>Derive scaling</a></div><div class=\"lev2\"><a href=\"#Compute-statistics\"><span class=\"toc-item-num\">1.1&nbsp;&nbsp;</span>Compute statistics</a></div><div class=\"lev3\"><a href=\"#1D-PDFs\"><span class=\"toc-item-num\">1.1.1&nbsp;&nbsp;</span>1D PDFs</a></div><div class=\"lev3\"><a href=\"#PDF-of-scaling-in-percentile-bins-of-pr\"><span class=\"toc-item-num\">1.1.2&nbsp;&nbsp;</span>PDF of scaling in percentile bins of pr</a></div><div class=\"lev3\"><a href=\"#2D-PDFs\"><span class=\"toc-item-num\">1.1.3&nbsp;&nbsp;</span>2D PDFs</a></div><div class=\"lev3\"><a href=\"#Decompose-bias-into-its-contributions-from-qvstar-and-omega-(scaling-#3)\"><span class=\"toc-item-num\">1.1.4&nbsp;&nbsp;</span>Decompose bias into its contributions from qvstar and omega (scaling #3)</a></div><div class=\"lev2\"><a href=\"#Decompose-the-variance\"><span class=\"toc-item-num\">1.2&nbsp;&nbsp;</span>Decompose the variance</a></div><div class=\"lev3\"><a href=\"#Decompose-Variance-into-its-contributions-from-qvstar-and-omega-(scaling-#3)\"><span class=\"toc-item-num\">1.2.1&nbsp;&nbsp;</span>Decompose Variance into its contributions from qvstar and omega (scaling #3)</a></div><div class=\"lev3\"><a href=\"#Decompose-variance-into-its-contributions-from-T-and-omega-(ignore-variability-in-pressure)\"><span class=\"toc-item-num\">1.2.2&nbsp;&nbsp;</span>Decompose variance into its contributions from T and omega (ignore variability in pressure)</a></div><div class=\"lev2\"><a href=\"#Predictor-variables-statistics\"><span class=\"toc-item-num\">1.3&nbsp;&nbsp;</span>Predictor variables statistics</a></div><div class=\"lev3\"><a href=\"#Joint-statistics-of-$\\omega$-and-$q_v^\\star$\"><span class=\"toc-item-num\">1.3.1&nbsp;&nbsp;</span>Joint statistics of $\\omega$ and $q_v^\\star$</a></div><div class=\"lev3\"><a href=\"#Conditional-values-of-$P$-on-joint-statistics-of-$\\omega$-and-$q_v^\\star$\"><span class=\"toc-item-num\">1.3.2&nbsp;&nbsp;</span>Conditional values of $P$ on joint statistics of $\\omega$ and $q_v^\\star$</a></div><div class=\"lev1\"><a href=\"#Save-all-variables-in-dataframe\"><span class=\"toc-item-num\">2&nbsp;&nbsp;</span>Save all variables in dataframe</a></div>"
   ]
  },
  {
   "cell_type": "code",
   "execution_count": 1,
   "metadata": {
    "ExecuteTime": {
     "end_time": "2017-12-02T20:30:00.001880",
     "start_time": "2017-12-02T20:29:59.098276Z"
    },
    "collapsed": true,
    "run_control": {
     "frozen": false,
     "read_only": false
    }
   },
   "outputs": [],
   "source": [
    "%load_ext autoreload\n",
    "%matplotlib inline"
   ]
  },
  {
   "cell_type": "code",
   "execution_count": 2,
   "metadata": {
    "ExecuteTime": {
     "end_time": "2017-12-02T20:30:01.760247",
     "start_time": "2017-12-02T20:30:00.006749Z"
    },
    "collapsed": false,
    "run_control": {
     "frozen": false,
     "read_only": false
    }
   },
   "outputs": [
    {
     "name": "stdout",
     "output_type": "stream",
     "text": [
      "-- loading modules\n",
      "\n",
      "Own modules available: ['plot1DInvLog', 'thermoFunctions', 'statisticalDistributions', 'slicingAndSubsetting', 'plot2D', 'outputResults', 'thermoConstants', 'plotMaps', 'daskOptions', 'scalingApproximations', 'CAMsettings', 'environmentAndDirectories', 'importingData', 'physicalConstants']\n"
     ]
    }
   ],
   "source": [
    "%autoreload 2\n",
    "\n",
    "print(\"-- loading modules\")\n",
    "print()\n",
    "\n",
    "import numpy as np\n",
    "import numpy.ma as ma\n",
    "import dask.array as da\n",
    "import matplotlib\n",
    "# matplotlib.use(\"PDF\")\n",
    "import matplotlib.pyplot as plt\n",
    "import datetime as dt\n",
    "import time\n",
    "import sys,os,glob\n",
    "from mpl_toolkits.basemap import Basemap\n",
    "from matplotlib.colors import LogNorm\n",
    "\n",
    "## Add own library to path\n",
    "workdir = os.getcwd()\n",
    "thismodule = sys.modules[__name__]\n",
    "moduledir = os.path.join(os.path.dirname(workdir),'functions')\n",
    "sys.path.insert(0,moduledir)\n",
    "print(\"Own modules available:\", [os.path.splitext(os.path.basename(x))[0]\n",
    "                                 for x in glob.glob(os.path.join(moduledir,'*.py'))])\n",
    "\n",
    "## Load own libraries\n",
    "from environmentAndDirectories import *\n",
    "from importingData import *\n",
    "from scalingApproximations import *\n",
    "from slicingAndSubsetting import *\n",
    "from thermoConstants import L_v,R_v\n",
    "from plotMaps import *\n",
    "from plot1DInvLog import *\n",
    "from plot2D import *\n",
    "from statisticalDistributions import *\n",
    "from outputResults import *\n",
    "\n",
    "## Graphical parameters\n",
    "plt.style.use(os.path.join(matplotlib.get_configdir(),'stylelib/presentation.mplstyle'))"
   ]
  },
  {
   "cell_type": "code",
   "execution_count": 20,
   "metadata": {
    "ExecuteTime": {
     "end_time": "2017-12-02T20:30:01.802310",
     "start_time": "2017-12-02T20:30:01.763456Z"
    },
    "collapsed": false,
    "run_control": {
     "frozen": false,
     "read_only": false
    }
   },
   "outputs": [
    {
     "name": "stdout",
     "output_type": "stream",
     "text": [
      "-- load environment and variables\n",
      "\n",
      "- load data for the following options:\n",
      "CPU times: user 479 µs, sys: 251 µs, total: 730 µs\n",
      "Wall time: 413 µs\n"
     ]
    }
   ],
   "source": [
    "%%time\n",
    "print(\"-- load environment and variables\")\n",
    "print()\n",
    "\n",
    "omega_id = 'OMEGA'\n",
    "pr_id = 'PRECT'\n",
    "ts_id = 'TS'\n",
    "ta_id = 'T'\n",
    "relhum_id = 'RELHUM'\n",
    "ps_id = 'PS'\n",
    "\n",
    "all_varnames = 'omega','pr','ts','ta','relhum','ps','pres'\n",
    "\n",
    "ref_time_stride = '1h'\n",
    "ref_resolution = '1dx'\n",
    "\n",
    "print(\"- load data for the following options:\")\n",
    "compset = 'FSPCAMm_AMIP'\n",
    "experiment = 'piControl'\n",
    "member = 'r1i1p1'\n",
    "subset = 'tropics'\n",
    "daskarray = False\n",
    "tracktime = True\n",
    "# dates = ('185005010100','185005020000')\n",
    "dates = ('185005010100','185105010000')\n",
    "handle = 'h0'\n",
    "plotAll2dPDFs = True\n",
    "bootstrap = True"
   ]
  },
  {
   "cell_type": "code",
   "execution_count": 21,
   "metadata": {
    "ExecuteTime": {
     "end_time": "2017-12-02T20:30:01.832079",
     "start_time": "2017-12-02T20:30:01.804537Z"
    },
    "collapsed": true,
    "run_control": {
     "frozen": false,
     "read_only": false
    }
   },
   "outputs": [],
   "source": [
    "if tracktime:\n",
    "    t0 = time.time()\n",
    "    t_loops = []"
   ]
  },
  {
   "cell_type": "code",
   "execution_count": 22,
   "metadata": {
    "ExecuteTime": {
     "end_time": "2017-12-02T20:30:03.444883",
     "start_time": "2017-12-02T20:30:01.834938Z"
    },
    "collapsed": false,
    "run_control": {
     "frozen": false,
     "read_only": false
    },
    "scrolled": true
   },
   "outputs": [
    {
     "name": "stdout",
     "output_type": "stream",
     "text": [
      "compset: FSPCAMm_AMIP\n",
      "experiment: piControl\n",
      "member: r1i1p1\n",
      "subset: tropics\n",
      "ref_time_stride: 1h\n",
      "ref_resolution: 1dx\n",
      "daskarray: False\n",
      "dates: ('185005010100', '185105010000')\n",
      "\n",
      "Importing OMEGA, PRECT, TS, T, RELHUM, PS from 8760 history files between 1850-05-01-03600 and 1851-05-01-00000\n",
      "\n",
      "get inputpaths\n",
      "compute pressure levels\n"
     ]
    }
   ],
   "source": [
    "for v in ['compset','experiment','member','subset','ref_time_stride','ref_resolution',\\\n",
    "          'daskarray','dates']:\n",
    "    print(\"%s:\"%v,getattr(thismodule,v))\n",
    "\n",
    "print()\n",
    "omega_init,pr_init,ts_init,ta_init,relhum_init,ps_init = \\\n",
    "    getValues([omega_id,pr_id,ts_id,ta_id,relhum_id,ps_id],\n",
    "              compset,subset,experiment,ref_time_stride,ref_resolution,\n",
    "              daskarray=daskarray,dates=dates,handle=handle)\n",
    "pr_init *= rho_l    # convert from m/s to kg/m2/s\n",
    "\n",
    "print()\n",
    "print(\"get inputpaths\")\n",
    "\n",
    "historyFilesSettings = getCAMHistoryFilesSettings()\n",
    "inputdir, inputdir_processed_day, inputdir_processed_1hr, inputdir_results, inputdir_fx = \\\n",
    "    getInputDirectories(compset,experiment)\n",
    "\n",
    "print(\"compute pressure levels\")\n",
    "    \n",
    "input_lev_file = os.path.join(inputdir_fx,'lev_fx_CESM111-SPCAM20_allExperiments_r0i0p0.nc')\n",
    "computeP = getPressureCoordinateFunction(input_lev_file)\n",
    "pres_init = computeP(ps_init)\n",
    "\n",
    "cn = getArrayType(pres_init)"
   ]
  },
  {
   "cell_type": "code",
   "execution_count": 23,
   "metadata": {
    "ExecuteTime": {
     "end_time": "2017-12-02T20:30:03.474804",
     "start_time": "2017-12-02T20:30:03.447837Z"
    },
    "collapsed": false,
    "run_control": {
     "frozen": false,
     "read_only": false
    }
   },
   "outputs": [
    {
     "name": "stdout",
     "output_type": "stream",
     "text": [
      "\n",
      "! time spent to load the data: 00:28:07\n"
     ]
    }
   ],
   "source": [
    "if tracktime:\n",
    "    t1 = time.time()\n",
    "    t_loops.append(t1)\n",
    "    print()\n",
    "    print(\"! time spent to load the data:\",time2str(t1-t0))\n"
   ]
  },
  {
   "cell_type": "code",
   "execution_count": null,
   "metadata": {
    "ExecuteTime": {
     "end_time": "2017-12-02T21:00:15.604540",
     "start_time": "2017-12-02T21:00:15.569337Z"
    },
    "collapsed": true,
    "run_control": {
     "frozen": false,
     "read_only": false
    }
   },
   "outputs": [],
   "source": [
    "#---- single scale ----#\n",
    "# start comment\n",
    "time_stride = '1h'\n",
    "resolution = '3dx'\n",
    "# stop comment\n",
    "\n",
    "#---- multiple scales ----#\n",
    "# # start uncomment\n",
    "# time_strides = '1h','3h','6h','12h','1d','2d','4d','8d'\n",
    "# resolutions = '1dx','2dx','3dx','4dx','5dx','6dx','7dx','8dx','9dx'\n",
    "# for time_stride in time_strides:\n",
    "#     for resolution in resolutions:\n",
    "# # stop uncomment\n",
    "\n",
    "#++# start indentation for multiple scales\n",
    "\n",
    "print()\n",
    "print(\"-----------------------------------------------------------------\")\n",
    "print(\"!          Start analysis for time_stride {:4}                  !\".format(time_stride))\n",
    "print(\"!                          and resolution {:4}                  !\".format(resolution))\n",
    "print(\"-----------------------------------------------------------------\")\n",
    "print()"
   ]
  },
  {
   "cell_type": "code",
   "execution_count": null,
   "metadata": {
    "ExecuteTime": {
     "end_time": "2017-12-02T20:30:03.606363",
     "start_time": "2017-12-02T20:30:03.512865Z"
    },
    "collapsed": true,
    "run_control": {
     "frozen": false,
     "read_only": false
    }
   },
   "outputs": [],
   "source": [
    "print(\"convert data to target resolutions\")\n",
    "\n",
    "tc0 = time.time()\n",
    "\n",
    "for varname in all_varnames:\n",
    "    \n",
    "    tc1 = time.time()\n",
    "    setattr(thismodule,varname,\n",
    "            coarsenTimeStride(coarsenResolution(getattr(thismodule,\"%s_init\"%varname),\n",
    "                                                resolution),\n",
    "                              time_stride))\n",
    "    print(\"- %s:\"%varname,time.time()-tc1,'s')\n",
    "print(\"- all variables:\",time.time()-tc0,'s')\n"
   ]
  },
  {
   "cell_type": "code",
   "execution_count": null,
   "metadata": {
    "ExecuteTime": {
     "end_time": "2017-12-02T20:30:03.646890",
     "start_time": "2017-12-02T20:30:03.609381Z"
    },
    "collapsed": true,
    "run_control": {
     "frozen": false,
     "read_only": false
    }
   },
   "outputs": [],
   "source": [
    "print()\n",
    "print(\"-- define output paths\")\n",
    "print()\n",
    "\n",
    "# Figure output directory\n",
    "figdir = os.path.join(os.path.dirname(workdir),'figures','omega500tsps',compset,experiment,member,subset,\\\n",
    "                      time_stride,resolution)\n",
    "os.makedirs(figdir,exist_ok=True)\n",
    "\n",
    "# Results output directory\n",
    "resultdir = os.path.join(os.path.dirname(workdir),'results','omega500tsps',compset,experiment,member,subset,\\\n",
    "                      time_stride,resolution)\n",
    "os.makedirs(resultdir,exist_ok=True)\n",
    "\n",
    "print()"
   ]
  },
  {
   "cell_type": "markdown",
   "metadata": {},
   "source": [
    "# Derive scaling"
   ]
  },
  {
   "cell_type": "code",
   "execution_count": null,
   "metadata": {
    "ExecuteTime": {
     "end_time": "2017-12-02T20:30:03.677168",
     "start_time": "2017-12-02T20:30:03.649110Z"
    },
    "collapsed": true,
    "run_control": {
     "frozen": false,
     "read_only": false
    }
   },
   "outputs": [],
   "source": [
    "print()\n",
    "print(\"-- compute (percentile-wise and pointwise) scaling approximation\")\n",
    "print()"
   ]
  },
  {
   "cell_type": "code",
   "execution_count": null,
   "metadata": {
    "ExecuteTime": {
     "end_time": "2017-12-02T20:30:03.982963",
     "start_time": "2017-12-02T20:30:03.681116Z"
    },
    "collapsed": true,
    "run_control": {
     "frozen": false,
     "marked": false,
     "read_only": false
    }
   },
   "outputs": [],
   "source": [
    "# %%time\n",
    "print(\"compute 2D surfaces of predictor variables\")\n",
    "p_500 = 50000\n",
    "p_925 = 92500; levdim=1\n",
    "omega_500 = isobaricSurface(omega,pres,p_ref=p_500,levdim=levdim)\n",
    "use925 = True\n",
    "if use925:\n",
    "    ta_925 = isobaricSurface(ta,pres,p_ref=p_925,levdim=levdim) \n",
    "    qvstar_s = saturationSpecificHumidity(ta_925,p_925*np.ones(ps.shape))\n",
    "else:\n",
    "    qvstar_s = saturationSpecificHumidity(ts,ps)"
   ]
  },
  {
   "cell_type": "code",
   "execution_count": null,
   "metadata": {
    "ExecuteTime": {
     "end_time": "2017-12-02T20:30:04.039062",
     "start_time": "2017-12-02T20:30:03.985380Z"
    },
    "collapsed": true,
    "run_control": {
     "frozen": false,
     "read_only": false
    },
    "scrolled": false
   },
   "outputs": [],
   "source": [
    "%%time\n",
    "print(\"Compute ranks and ranks locations\")\n",
    "\n",
    "n_pts = pr.size\n",
    "Q_IL = getInvLogRanks(n_pts,n_pts_per_bin=1,fill_last_decade=True)\n",
    "i_Q = indexOfRank(99.9,Q_IL)\n",
    "iQ_slice = slice(i_Q-5,i_Q+5)\n",
    "ranks, centers, bins = computePercentilesAndBinsFromRanks(pr.flatten(),Q_IL)\n",
    "iQ_min = 8\n",
    "iQ_max = min(len(Q_IL),41)\n",
    "# iQ_max = min(len(Q_IL),iQ_slice.stop)\n",
    "\n",
    "# Define reference percentiles and compute percentiles\n",
    "targetranks = Q_IL[iQ_min:iQ_max]\n",
    "ranks_ref = Q_IL[:iQ_max]\n",
    "percentiles = adjustRanks(centers,ranks,ranks_ref)\n",
    "\n",
    "# Suffix to save figures and results\n",
    "output_suffix = 'Q%d-Q%d_%s'%(iQ_min,iQ_max,'-'.join(dates))\n",
    "\n",
    "rank_locations= {}\n",
    "for rank in ranks_ref:\n",
    "    rank_id  = \"%2.4f\"%rank\n",
    "    print(rank_id,end=' ')\n",
    "    rank_locations[rank_id] = getRankLocations(rank,pr,ranks,bins,rank_locations)\n",
    "print()"
   ]
  },
  {
   "cell_type": "code",
   "execution_count": null,
   "metadata": {
    "ExecuteTime": {
     "end_time": "2017-12-02T20:30:04.070647",
     "start_time": "2017-12-02T20:30:04.041405Z"
    },
    "collapsed": true,
    "run_control": {
     "frozen": false,
     "read_only": false
    }
   },
   "outputs": [],
   "source": [
    "print(\"compute sample size in each bin\")\n",
    "N_prQ = sampleSizeAtAllRanks(targetranks,pr,ranks_ref,rank_locations=rank_locations)\n",
    "print(np.nansum(N_prQ),pr.size)"
   ]
  },
  {
   "cell_type": "code",
   "execution_count": null,
   "metadata": {
    "ExecuteTime": {
     "end_time": "2017-12-02T20:30:06.097015",
     "start_time": "2017-12-02T20:30:04.072676Z"
    },
    "collapsed": true,
    "run_control": {
     "frozen": false,
     "read_only": false
    }
   },
   "outputs": [],
   "source": [
    "print(\"> Plot sample size in each percentile bin\")\n",
    "\n",
    "fig, ax = plt.subplots(ncols=1,nrows=1,figsize=(5,4.5))\n",
    "\n",
    "ax.set_yscale('log')\n",
    "\n",
    "# Add zero line\n",
    "addZeroLine(ax,ranks_ref)\n",
    "\n",
    "# Grey shading\n",
    "i_Q_lims = (iQ_slice.start, iQ_slice.stop-1)\n",
    "subplotXShadingRanksILog(ax,ranks_ref,i_Q_lims,alpha=0.15,transformX=False)\n",
    "\n",
    "subplotRanksILog(ax,ranks_ref,\n",
    "                 N_prQ,\n",
    "                 col='k',ltype='-',transformX=False)\n",
    "\n",
    "addXHatchRanksILog(ax,ranks_ref,(0,iQ_min),transformX=True)\n",
    "\n",
    "ax.set_xlabel('Percentile rank (%)')\n",
    "ax.set_ylabel('Sample size (#)')\n",
    "\n",
    "plt.savefig(os.path.join(figdir,'sample_size_in_P_bins_%s.pdf'%output_suffix),\n",
    "            bbox_inches='tight')\n",
    "\n",
    "plt.show()"
   ]
  },
  {
   "cell_type": "code",
   "execution_count": null,
   "metadata": {
    "ExecuteTime": {
     "end_time": "2017-12-02T20:30:06.151081",
     "start_time": "2017-12-02T20:30:06.099648Z"
    },
    "collapsed": true,
    "run_control": {
     "frozen": false,
     "read_only": false
    },
    "scrolled": false
   },
   "outputs": [],
   "source": [
    "%%time\n",
    "print(\"compute pointwise scaling\")\n",
    "eps, pr_sc_vQ = computeScalingOmegaQAtAllRanks(targetranks,omega_500,qvstar_s,pr,ranks_ref=ranks_ref[iQ_slice],\n",
    "                                               percentiles_ref=percentiles[iQ_slice],\n",
    "                                               bins=bins,rank_locations=rank_locations)\n",
    "pr_sc_vQ = adjustRanks(pr_sc_vQ,targetranks,ranks_ref)\n",
    "pr_sc = singleLevelScalingFromOmegaQ(omega_500,qvstar_s,efficiency=eps)\n",
    "print(\"eps =\",eps)"
   ]
  },
  {
   "cell_type": "code",
   "execution_count": null,
   "metadata": {
    "ExecuteTime": {
     "end_time": "2017-12-02T20:30:06.838301",
     "start_time": "2017-12-02T20:30:06.153694Z"
    },
    "collapsed": true,
    "run_control": {
     "frozen": false,
     "read_only": false
    },
    "scrolled": false
   },
   "outputs": [],
   "source": [
    "%%time\n",
    "print(\"compute O'Gorman&Schneider scaling with environmental temperature profile\")\n",
    "eps_OGS09, pr_scOGS09_vQ = computeScalingOGS09AtAllRanks(targetranks,omega,ta,pres,pr,\n",
    "    ranks_ref=ranks_ref[iQ_slice],percentiles_ref=percentiles[iQ_slice],bins=bins,\n",
    "                                                         rank_locations=rank_locations)\n",
    "pr_scOGS09_vQ = adjustRanks(pr_scOGS09_vQ,targetranks,ranks_ref)\n",
    "pr_scOGS09 = scalingOGS09(omega,ta,pres,efficiency=eps_OGS09,levdim=1)\n",
    "print(\"eps_OGS09 =\",eps_OGS09)"
   ]
  },
  {
   "cell_type": "code",
   "execution_count": null,
   "metadata": {
    "ExecuteTime": {
     "end_time": "2017-12-02T20:30:07.723165",
     "start_time": "2017-12-02T20:30:06.840648Z"
    },
    "collapsed": true,
    "run_control": {
     "frozen": false,
     "read_only": false
    },
    "scrolled": true
   },
   "outputs": [],
   "source": [
    "%%time\n",
    "print(\"compute O'Gorman&Schneider scaling with moist adiabat\")\n",
    "# Get temperature values at lowest level\n",
    "levdim = 1\n",
    "nlev = pres.shape[levdim]\n",
    "i_bottom = bottomIndex(np.moveaxis(pres,levdim,-1).ravel()[-nlev:])\n",
    "ta_bottom = np.take(ta,axis=levdim,indices=i_bottom)\n",
    "# Compute scaling\n",
    "eps_OGS09ad, pr_scOGS09ad_vQ = computeScalingOGS09AtAllRanks(targetranks,omega,ta_bottom,pres,pr,\n",
    "    temp_type='adiabat',relhum=relhum,ranks_ref=ranks_ref[iQ_slice],percentiles_ref=percentiles[iQ_slice],bins=bins,\n",
    "                                                         rank_locations=rank_locations)\n",
    "pr_scOGS09ad_vQ = adjustRanks(pr_scOGS09ad_vQ,targetranks,ranks_ref)\n",
    "pr_scOGS09ad = scalingOGS09(omega,ta_bottom,pres,temp_type='adiabat',relhum=relhum,efficiency=eps_OGS09ad,levdim=1)\n",
    "print(\"eps_OGS09ad =\",eps_OGS09ad)"
   ]
  },
  {
   "cell_type": "code",
   "execution_count": null,
   "metadata": {
    "ExecuteTime": {
     "end_time": "2017-12-02T20:30:08.556763",
     "start_time": "2017-12-02T20:30:07.726343Z"
    },
    "collapsed": true,
    "run_control": {
     "frozen": false,
     "read_only": false
    },
    "scrolled": false
   },
   "outputs": [],
   "source": [
    "%%time\n",
    "print(\"compute extended O'Gorman&Schneider scaling with environmental temperature profile\")\n",
    "fracarea_boost, entrainment, pr_scRH_vQ = computeScalingRHAtAllRanks(targetranks,omega,ta,pres,relhum,pr,\n",
    "    ranks_ref=ranks_ref[iQ_slice],bins=bins,rank_locations=rank_locations)\n",
    "pr_scRH_vQ = adjustRanks(pr_scRH_vQ,targetranks,ranks_ref)\n",
    "pr_scRH = scalingRH(omega,ta,pres,relhum,fracarea_boost=fracarea_boost,entrainment=entrainment,levdim=1)\n",
    "print(pr_scRH.shape)\n",
    "print(\"fracarea_boost =\",fracarea_boost)\n",
    "print(\"entrainment =\",entrainment)"
   ]
  },
  {
   "cell_type": "code",
   "execution_count": null,
   "metadata": {
    "ExecuteTime": {
     "end_time": "2017-12-02T20:30:09.516310",
     "start_time": "2017-12-02T20:30:08.559471Z"
    },
    "collapsed": true,
    "run_control": {
     "frozen": false,
     "read_only": false
    }
   },
   "outputs": [],
   "source": [
    "%%time\n",
    "print(\"compute extended O'Gorman&Schneider scaling with moist adiabat\")\n",
    "# Get temperature values at lowest level\n",
    "levdim = 1\n",
    "nlev = pres.shape[levdim]\n",
    "i_bottom = bottomIndex(np.moveaxis(pres,levdim,-1).ravel()[-nlev:])\n",
    "ta_bottom = np.take(ta,axis=levdim,indices=i_bottom)\n",
    "# Compute scaling\n",
    "fracarea_boost_ad, entrainment_ad, pr_scRHad_vQ = computeScalingRHAtAllRanks(targetranks,omega,ta_bottom,pres,relhum,pr,\n",
    "    temp_type='adiabat',ranks_ref=ranks_ref[iQ_slice],bins=bins,rank_locations=rank_locations)\n",
    "pr_scRHad_vQ = adjustRanks(pr_scRHad_vQ,targetranks,ranks_ref)\n",
    "pr_scRHad = scalingRH(omega,ta_bottom,pres,relhum,fracarea_boost=fracarea_boost_ad,entrainment=entrainment_ad,\n",
    "                    temp_type='adiabat',levdim=1)\n",
    "print(pr_scRHad.shape)\n",
    "print(\"fracarea_boost =\",fracarea_boost_ad)\n",
    "print(\"entrainment =\",entrainment_ad)"
   ]
  },
  {
   "cell_type": "markdown",
   "metadata": {},
   "source": [
    "## Compute statistics"
   ]
  },
  {
   "cell_type": "markdown",
   "metadata": {},
   "source": [
    "### 1D PDFs"
   ]
  },
  {
   "cell_type": "code",
   "execution_count": null,
   "metadata": {
    "ExecuteTime": {
     "end_time": "2017-12-02T20:30:09.558537",
     "start_time": "2017-12-02T20:30:09.518907Z"
    },
    "collapsed": true,
    "run_control": {
     "frozen": false,
     "read_only": false
    },
    "scrolled": false
   },
   "outputs": [],
   "source": [
    "print()\n",
    "print(\"-- compute statistics\")\n",
    "print()"
   ]
  },
  {
   "cell_type": "code",
   "execution_count": null,
   "metadata": {
    "ExecuteTime": {
     "end_time": "2017-12-02T20:30:09.624182",
     "start_time": "2017-12-02T20:30:09.560842Z"
    },
    "collapsed": true,
    "run_control": {
     "frozen": false,
     "read_only": false
    },
    "scrolled": false
   },
   "outputs": [],
   "source": [
    "# %%time\n",
    "print(\"mean of scalings in pr bins\")\n",
    "pr_sc_prQ = meanXAtAllYRanks(targetranks,pr_sc,pr,ranks_ref,rank_locations=rank_locations)\n",
    "pr_scOGS09_prQ = meanXAtAllYRanks(targetranks,pr_scOGS09,pr,ranks_ref,rank_locations=rank_locations)\n",
    "pr_scOGS09ad_prQ = meanXAtAllYRanks(targetranks,pr_scOGS09ad,pr,ranks_ref,rank_locations=rank_locations)\n",
    "pr_scRH_prQ = meanXAtAllYRanks(targetranks,pr_scRH,pr,ranks_ref,rank_locations=rank_locations)\n",
    "pr_scRHad_prQ = meanXAtAllYRanks(targetranks,pr_scRHad,pr,ranks_ref,rank_locations=rank_locations)"
   ]
  },
  {
   "cell_type": "code",
   "execution_count": null,
   "metadata": {
    "ExecuteTime": {
     "end_time": "2017-12-02T20:30:09.730903",
     "start_time": "2017-12-02T20:30:09.626937Z"
    },
    "code_folding": [],
    "collapsed": true,
    "hide_input": false,
    "run_control": {
     "frozen": false,
     "read_only": false
    }
   },
   "outputs": [],
   "source": [
    "%%time\n",
    "print(\"interquartile and 90% ranges\")\n",
    "ranks_I90 = (5,95)\n",
    "ranks_IQR = (25,75)\n",
    "\n",
    "pr_sc_I90 = XPercentilesAtAllYRanks(targetranks,pr_sc,ranks_I90,pr,ranks_ref,rank_locations_X=rank_locations)\n",
    "pr_sc_IQR = XPercentilesAtAllYRanks(targetranks,pr_sc,ranks_IQR,pr,ranks_ref,rank_locations_X=rank_locations)\n",
    "\n",
    "pr_scOGS09_I90 = XPercentilesAtAllYRanks(targetranks,pr_scOGS09,ranks_I90,pr,ranks_ref,rank_locations_X=rank_locations)\n",
    "pr_scOGS09_IQR = XPercentilesAtAllYRanks(targetranks,pr_scOGS09,ranks_IQR,pr,ranks_ref,rank_locations_X=rank_locations)\n",
    "\n",
    "pr_scOGS09ad_I90 = XPercentilesAtAllYRanks(targetranks,pr_scOGS09ad,ranks_I90,pr,ranks_ref,rank_locations_X=rank_locations)\n",
    "pr_scOGS09ad_IQR = XPercentilesAtAllYRanks(targetranks,pr_scOGS09ad,ranks_IQR,pr,ranks_ref,rank_locations_X=rank_locations)\n",
    "\n",
    "pr_scRH_I90 = XPercentilesAtAllYRanks(targetranks,pr_scRH,ranks_I90,pr,ranks_ref,rank_locations_X=rank_locations)\n",
    "pr_scRH_IQR = XPercentilesAtAllYRanks(targetranks,pr_scRH,ranks_IQR,pr,ranks_ref,rank_locations_X=rank_locations)\n",
    "\n",
    "pr_scRHad_I90 = XPercentilesAtAllYRanks(targetranks,pr_scRHad,ranks_I90,pr,ranks_ref,rank_locations_X=rank_locations)\n",
    "pr_scRHad_IQR = XPercentilesAtAllYRanks(targetranks,pr_scRHad,ranks_IQR,pr,ranks_ref,rank_locations_X=rank_locations)\n"
   ]
  },
  {
   "cell_type": "code",
   "execution_count": null,
   "metadata": {
    "ExecuteTime": {
     "end_time": "2017-12-02T20:30:15.645459",
     "start_time": "2017-12-02T20:30:09.733797Z"
    },
    "collapsed": true,
    "run_control": {
     "frozen": false,
     "marked": false,
     "read_only": false
    },
    "scrolled": false
   },
   "outputs": [],
   "source": [
    "print(\"> plot PDF with scaling and variability\")\n",
    "\n",
    "scaling_names = 'sc','scOGS09','scOGS09ad','scRH','scRHad'\n",
    "\n",
    "for sc_name in scaling_names:\n",
    "\n",
    "    print(\"- scaling %s\"%sc_name)\n",
    "\n",
    "    for suffix in 'prQ','vQ','IQR','I90':\n",
    "        setattr(thismodule,'var_%s'%suffix,getattr(thismodule,'pr_%s_%s'%(sc_name,suffix)))\n",
    "    \n",
    "    fig, ax = plt.subplots(ncols=1,nrows=1,figsize=(5,4.5))\n",
    "\n",
    "    ax.set_yscale('log')\n",
    "    ax.set_ylim((1e-6,3e-3))\n",
    "\n",
    "    # Grey shading \n",
    "    i_Q_lims = (iQ_slice.start, iQ_slice.stop-1)\n",
    "    subplotXShadingRanksILog(ax,ranks_ref,i_Q_lims,alpha=0.15,transformX=False)\n",
    "    # 90% confidence interval for pointwise scaling 2\n",
    "    subplotYShadingRanksILog(ax,ranks_ref,[var_I90[:,0],var_I90[:,1]],col='green',transformX=False)\n",
    "    # Interquartile range for pointwise scaling 2\n",
    "    subplotYShadingRanksILog(ax,ranks_ref,[var_IQR[:,0],var_IQR[:,1]],col='green',transformX=False)\n",
    "    # Mean of pointwise scaling 2\n",
    "    subplotRanksILog(ax,ranks_ref,[percentiles,var_prQ,var_vQ],col=['k','green','k'],ltype=['-','-',':'],\\\n",
    "                     transformX=False)\n",
    "\n",
    "    addXHatchRanksILog(ax,ranks_ref,(0,iQ_min),transformX=True)\n",
    "\n",
    "    ax.set_xlabel('Percentile rank (%)')\n",
    "    ax.set_ylabel('Rainfall Intensity (kg/m2/s)')\n",
    "    # ax.set_title(r'$\\varepsilon\\omega_{500}q_v^\\star(T)$')\n",
    "\n",
    "    plt.savefig(os.path.join(figdir,'pdf_P_and_P%s_mean_IQR_I90_%s.pdf'%(sc_name,output_suffix)),\n",
    "                bbox_inches='tight')\n",
    "\n",
    "    plt.show()"
   ]
  },
  {
   "cell_type": "markdown",
   "metadata": {},
   "source": [
    "### PDF of scaling in percentile bins of pr"
   ]
  },
  {
   "cell_type": "code",
   "execution_count": null,
   "metadata": {
    "ExecuteTime": {
     "end_time": "2017-12-02T20:30:15.686456",
     "start_time": "2017-12-02T20:30:15.647754Z"
    },
    "collapsed": true,
    "run_control": {
     "frozen": false,
     "read_only": false
    }
   },
   "outputs": [],
   "source": [
    "print()\n",
    "print(\"-- compute PDF of scalings in percentile bins of pr\")\n",
    "print()"
   ]
  },
  {
   "cell_type": "code",
   "execution_count": null,
   "metadata": {
    "ExecuteTime": {
     "end_time": "2017-12-02T20:30:15.716703",
     "start_time": "2017-12-02T20:30:15.688797Z"
    },
    "collapsed": true,
    "run_control": {
     "frozen": false,
     "read_only": false
    }
   },
   "outputs": [],
   "source": [
    "print(\"reference Q_slices\")\n",
    "iQ_slices = [slice(i_Q-k,i_Q+k) for k in range(1,6)]"
   ]
  },
  {
   "cell_type": "code",
   "execution_count": null,
   "metadata": {
    "ExecuteTime": {
     "end_time": "2017-12-02T20:30:15.824827",
     "start_time": "2017-12-02T20:30:15.719728Z"
    },
    "collapsed": true,
    "run_control": {
     "frozen": false,
     "read_only": false
    },
    "scrolled": false
   },
   "outputs": [],
   "source": [
    "varname_ref = 'pr'\n",
    "var_ref = getattr(thismodule,varname_ref)\n",
    "\n",
    "varnames = 'pr_sc','pr_scOGS09','pr_scOGS09ad','pr_scRH','pr_scRHad'\n",
    "\n",
    "for varname in varnames:\n",
    "    \n",
    "    print(\"- %s\"%varname)\n",
    "\n",
    "    var = getattr(thismodule,varname)\n",
    "\n",
    "    for k in range(len(iQ_slices)):\n",
    "        \n",
    "        iQ_start = min(iQ_slices[k].start,ranks_ref.size-1)\n",
    "        iQ_stop = min(iQ_slices[k].stop,ranks_ref.size-1)\n",
    "\n",
    "        print(\"Q-slice %2.4f-%2.4f\"%(ranks_ref[iQ_start],ranks_ref[iQ_stop]))\n",
    "\n",
    "        sample_all = []\n",
    "        for i in range(iQ_start,iQ_stop):\n",
    "            stencil_Q = getStencilAtRank(ranks_ref[i],ranks_ref,bins,var_ref)\n",
    "            if stencil_Q.sum() != 0:\n",
    "                sample_all.append(var[stencil_Q])\n",
    "        if len(sample_all) == 0:\n",
    "            sample = np.array([])\n",
    "        else:\n",
    "            sample = np.hstack(sample_all)\n",
    "        # perc,b = defineLinearBins(sample,20)\n",
    "        ra,perc,b,den = compute1dDensities(sample[np.logical_not(np.isnan(sample))],n_lin_bins=20)\n",
    "        # Save\n",
    "        ra_varname = 'ranks_%s_%s_Q%dQ%d'%(varname,varname_ref,iQ_start,iQ_stop)\n",
    "        perc_varname = 'percentiles_%s_%s_Q%dQ%d'%(varname,varname_ref,iQ_start,iQ_stop)\n",
    "        b_varname = 'bins_%s_%s_Q%dQ%d'%(varname,varname_ref,iQ_start,iQ_stop)\n",
    "        den_varname = 'pdf1D_%s_%s_Q%dQ%d'%(varname,varname_ref,iQ_start,iQ_stop)\n",
    "        setattr(thismodule,ra_varname,ra)\n",
    "        setattr(thismodule,perc_varname,perc)\n",
    "        setattr(thismodule,b_varname,b)\n",
    "        setattr(thismodule,den_varname,den)\n"
   ]
  },
  {
   "cell_type": "code",
   "execution_count": null,
   "metadata": {
    "ExecuteTime": {
     "end_time": "2017-12-02T20:30:16.178431",
     "start_time": "2017-12-02T20:30:15.827176Z"
    },
    "collapsed": true,
    "run_control": {
     "frozen": false,
     "read_only": false
    }
   },
   "outputs": [],
   "source": [
    "print(\"> Plot pdf of last computed conditioned on high percentiles of pr\")\n",
    "\n",
    "varname = 'pr_scOGS09'\n",
    "\n",
    "perc = getattr(thismodule,'percentiles_%s_%s_Q%dQ%d'%(varname,varname_ref,iQ_start,iQ_stop))\n",
    "\n",
    "fig,ax = plt.subplots(figsize=(5.5,4.5))\n",
    "plt.plot(perc,den)\n",
    "ax.set_xlabel(\"%s | %s_%2.4f_%2.4f\"%(varname,varname_ref,ranks_ref[iQ_start],ranks_ref[iQ_stop]))\n",
    "ax.set_ylabel('Density')\n",
    "\n",
    "plt.savefig(os.path.join(figdir,'conditional_pdf_%s_%s_%2.4f_%2.4f_%s.pdf'%(varname,varname_ref,\n",
    "                                                                            ranks_ref[iQ_start],\n",
    "                                                                            ranks_ref[iQ_stop],\n",
    "                                                                            output_suffix)),\n",
    "                bbox_inches='tight')\n",
    "\n",
    "plt.show()"
   ]
  },
  {
   "cell_type": "markdown",
   "metadata": {},
   "source": [
    "### 2D PDFs"
   ]
  },
  {
   "cell_type": "code",
   "execution_count": null,
   "metadata": {
    "ExecuteTime": {
     "end_time": "2017-12-02T20:30:16.220328",
     "start_time": "2017-12-02T20:30:16.181697Z"
    },
    "collapsed": true,
    "run_control": {
     "frozen": false,
     "read_only": false
    },
    "scrolled": true
   },
   "outputs": [],
   "source": [
    "print()\n",
    "print(\"-- compute 2D PDF of scalings and pr\")\n",
    "print()"
   ]
  },
  {
   "cell_type": "code",
   "execution_count": null,
   "metadata": {
    "ExecuteTime": {
     "end_time": "2017-12-02T20:30:18.076324",
     "start_time": "2017-12-02T20:30:16.223200Z"
    },
    "collapsed": true,
    "run_control": {
     "frozen": false,
     "read_only": false
    },
    "scrolled": false
   },
   "outputs": [],
   "source": [
    "# %%time\n",
    "print(\"compute 2D PDFs\")\n",
    "\n",
    "all_pr_varnames = set({'pr','pr_sc','pr_scOGS09','pr_scOGS09ad','pr_scRH','pr_scRHad'})\n",
    "\n",
    "for varname1 in all_pr_varnames:\n",
    "    for varname2 in all_pr_varnames.difference(varname1):\n",
    "\n",
    "        var1 = getattr(thismodule,varname1)\n",
    "        var2 = getattr(thismodule,varname2)\n",
    "        \n",
    "        ranks1, percentiles1, bins1, ranks2, percentiles2, bins2, density2D = \\\n",
    "            compute2dStatsILOnRefRanks(var1,var2,ranks_ref)\n",
    "            \n",
    "        setattr(thismodule,\"density2D_%s_%s\"%(varname1,varname2),density2D)\n",
    "\n",
    "        N1 = sampleSizeAtAllRanks(ranks1,var1,ranks_ref,bins=bins1)\n",
    "        N2 = sampleSizeAtAllRanks(ranks2,var2,ranks_ref,bins=bins2)\n",
    "        norm_factor = normalize2dDensity(N1,N2,n_pts)\n",
    "\n",
    "        norm_density2D = density2D/norm_factor\n",
    "        setattr(thismodule,\"norm_density2D_%s_%s\"%(varname1,varname2),norm_density2D)\n",
    "        setattr(thismodule,\"N_%s\"%(varname1),N1)\n",
    "        setattr(thismodule,\"N_%s\"%(varname2),N2)"
   ]
  },
  {
   "cell_type": "code",
   "execution_count": null,
   "metadata": {
    "ExecuteTime": {
     "end_time": "2017-12-02T20:31:32.944261",
     "start_time": "2017-12-02T20:30:18.079541Z"
    },
    "collapsed": true,
    "run_control": {
     "frozen": false,
     "read_only": false
    },
    "scrolled": false
   },
   "outputs": [],
   "source": [
    "print(\"> plot 2D PDFs\")\n",
    "\n",
    "if plotAll2dPDFs:\n",
    "    \n",
    "    for varname1 in all_pr_varnames:\n",
    "        for varname2 in all_pr_varnames:\n",
    "            \n",
    "            print(\"- %s vs. %s\"%(varname2,varname1))\n",
    "\n",
    "            norm_density2D = getattr(thismodule,\"norm_density2D_%s_%s\"%(varname1,varname2))\n",
    "\n",
    "            fig, ax = plt.subplots(figsize=(5.5,4.5))\n",
    "\n",
    "            # cmap = plt.cm.RdBu_r\n",
    "            cmap = plt.cm.RdGy_r\n",
    "            # cmap = plt.cm.RdYlBu_r\n",
    "            # cmap = plt.cm.PRGn\n",
    "            \n",
    "            subplot2DRanksILog(ax,ranks_ref,ranks_ref,norm_density2D,cmap=cmap,\n",
    "                transformX=True,transformY=True,Z_mode='log')\n",
    "\n",
    "            add1to1Line(ax)\n",
    "\n",
    "            ax.set_xlabel('%s percentile rank (%%)'%varname1)\n",
    "            ax.set_ylabel('%s percentile rank (%%)'%varname2)\n",
    "\n",
    "            plt.savefig(os.path.join(figdir,'norm_pdf2D_%s_and_%s_%s.pdf'%(varname1,varname2,output_suffix)),\n",
    "                            bbox_inches='tight')\n",
    "            plt.show()"
   ]
  },
  {
   "cell_type": "markdown",
   "metadata": {},
   "source": [
    "### Decompose bias into its contributions from qvstar and omega (scaling #3)"
   ]
  },
  {
   "cell_type": "code",
   "execution_count": null,
   "metadata": {
    "ExecuteTime": {
     "end_time": "2017-12-02T20:31:32.990443",
     "start_time": "2017-12-02T20:31:32.948400Z"
    },
    "collapsed": true,
    "run_control": {
     "frozen": false,
     "read_only": false
    }
   },
   "outputs": [],
   "source": [
    "print()\n",
    "print(\"-- decompose bias into qvstar and omega contributions\")\n",
    "print()"
   ]
  },
  {
   "cell_type": "code",
   "execution_count": null,
   "metadata": {
    "ExecuteTime": {
     "end_time": "2017-12-02T20:31:33.046102",
     "start_time": "2017-12-02T20:31:32.992899Z"
    },
    "collapsed": true,
    "run_control": {
     "frozen": false,
     "read_only": false
    }
   },
   "outputs": [],
   "source": [
    "%%time\n",
    "print(\"Q-mean terms\")\n",
    "qvstar_s_prQ = meanXAtAllYRanks(targetranks,qvstar_s,pr,ranks_ref,rank_locations=rank_locations)\n",
    "omega_500_prQ = meanXAtAllYRanks(targetranks,omega_500,pr,ranks_ref,rank_locations=rank_locations)"
   ]
  },
  {
   "cell_type": "code",
   "execution_count": null,
   "metadata": {
    "ExecuteTime": {
     "end_time": "2017-12-02T20:31:33.116032",
     "start_time": "2017-12-02T20:31:33.053409Z"
    },
    "collapsed": true,
    "run_control": {
     "frozen": false,
     "read_only": false
    }
   },
   "outputs": [],
   "source": [
    "%%time\n",
    "print(\"Compute bias\")\n",
    "bias_sc = (pr_sc_prQ - pr_sc_vQ)/pr_sc_prQ\n",
    "bias_scOGS09 = (pr_scOGS09_prQ - pr_scOGS09_vQ)/pr_scOGS09_prQ\n",
    "bias_scOGS09ad = (pr_scOGS09ad_prQ - pr_scOGS09ad_vQ)/pr_scOGS09ad_prQ\n",
    "bias_scRH = (pr_scRH_prQ - pr_scRH_vQ)/pr_scRH_prQ\n",
    "bias_scRHad = (pr_scRHad_prQ - pr_scRHad_vQ)/pr_scRHad_prQ\n",
    "print(\"single-level scaling:\",np.nanmean(bias_sc[iQ_slice]))\n",
    "print(\"OGS09 scaling:\",np.nanmean(bias_scOGS09[iQ_slice]))\n",
    "print(\"OGS09ad scaling:\",np.nanmean(bias_scOGS09ad[iQ_slice]))\n",
    "print(\"RH scaling:\",np.nanmean(bias_scRH[iQ_slice]))\n",
    "print(\"RHad scaling:\",np.nanmean(bias_scRHad[iQ_slice]))"
   ]
  },
  {
   "cell_type": "code",
   "execution_count": null,
   "metadata": {
    "ExecuteTime": {
     "end_time": "2017-12-02T20:31:33.171667",
     "start_time": "2017-12-02T20:31:33.118390Z"
    },
    "collapsed": true,
    "run_control": {
     "frozen": false,
     "read_only": false
    }
   },
   "outputs": [],
   "source": [
    "%%time\n",
    "print(\"covariance term\")\n",
    "cov_qvstar_s_omega_500_prQ = covAtAllYRanks(targetranks,qvstar_s,omega_500,pr,ranks_ref,\n",
    "                                            rank_locations=rank_locations)"
   ]
  },
  {
   "cell_type": "code",
   "execution_count": null,
   "metadata": {
    "ExecuteTime": {
     "end_time": "2017-12-02T20:31:33.217892",
     "start_time": "2017-12-02T20:31:33.179036Z"
    },
    "collapsed": true,
    "run_control": {
     "frozen": false,
     "read_only": false
    }
   },
   "outputs": [],
   "source": [
    "print(\"normalized contribution\")\n",
    "contribQOmega_bias_covQOmega = cov_qvstar_s_omega_500_prQ/qvstar_s_prQ/omega_500_prQ"
   ]
  },
  {
   "cell_type": "code",
   "execution_count": null,
   "metadata": {
    "ExecuteTime": {
     "end_time": "2017-12-02T20:31:34.703889",
     "start_time": "2017-12-02T20:31:33.220822Z"
    },
    "collapsed": true,
    "run_control": {
     "frozen": false,
     "read_only": false
    },
    "scrolled": false
   },
   "outputs": [],
   "source": [
    "%%time\n",
    "print(\"> plot bias and corresponding contributions\")\n",
    "\n",
    "fig, ax = plt.subplots(ncols=1,nrows=1,figsize=(5,4.5))\n",
    "ax.set_ylim((-.25,.25))\n",
    "\n",
    "# Grey shading \n",
    "i_Q_lims = (iQ_slice.start, iQ_slice.stop-1)\n",
    "subplotXShadingRanksILog(ax,ranks_ref,i_Q_lims,alpha=0.15,transformX=False)\n",
    "\n",
    "# zero line\n",
    "addZeroLine(ax,ranks_ref)\n",
    "\n",
    "subplotRanksILog(ax,ranks_ref,\n",
    "                 bias_sc,\n",
    "                 col='k',ltype='-',transformX=False)\n",
    "\n",
    "subplotRanksILog(ax,ranks_ref,\n",
    "                 contribQOmega_bias_covQOmega,\n",
    "                 col='k',ltype='--',transformX=False)\n",
    "\n",
    "addXHatchRanksILog(ax,ranks_ref,(0,iQ_min),transformX=True)\n",
    "\n",
    "ax.legend([r'$1-(\\alpha q_{v,Q}^\\star \\omega_Q) / P_Q$',r'$\\propto Cov(q_v^\\star,\\omega)$'],\n",
    "          loc = 'upper left')\n",
    "\n",
    "ax.set_xlabel('Percentile rank (%)')\n",
    "ax.set_ylabel(r'Normalized bias $\\frac{b}{\\mu}$')\n",
    "\n",
    "plt.savefig(os.path.join(figdir,'bias_and_cov_omega_q_%s.pdf'%output_suffix),\n",
    "            bbox_inches='tight')\n",
    "\n",
    "plt.show()"
   ]
  },
  {
   "cell_type": "code",
   "execution_count": null,
   "metadata": {
    "ExecuteTime": {
     "end_time": "2017-12-02T20:31:36.069174",
     "start_time": "2017-12-02T20:31:34.706390Z"
    },
    "collapsed": true,
    "run_control": {
     "frozen": false,
     "read_only": false
    }
   },
   "outputs": [],
   "source": [
    "%%time\n",
    "print(\"> plot bias for OGS09 scaling\")\n",
    "\n",
    "scaling_names = 'scOGS09','scOGS09ad','scRH','scRHad'\n",
    "\n",
    "fig, ax = plt.subplots(ncols=1,nrows=1,figsize=(5,4.5))\n",
    "ax.set_ylim((-.25,.25))\n",
    "\n",
    "# Grey shading \n",
    "i_Q_lims = (iQ_slice.start, iQ_slice.stop-1)\n",
    "subplotXShadingRanksILog(ax,ranks_ref,i_Q_lims,alpha=0.15,transformX=False)\n",
    "\n",
    "# zero line\n",
    "addZeroLine(ax,ranks_ref)\n",
    "\n",
    "for sc_name in scaling_names:\n",
    "\n",
    "    print(\"- scaling %s\"%sc_name)\n",
    "\n",
    "    setattr(thismodule,'bias',getattr(thismodule,'bias_%s'%(sc_name)))\n",
    "    \n",
    "    subplotRanksILog(ax,ranks_ref,\n",
    "                     bias,\n",
    "                     ltype='-',transformX=False)\n",
    "\n",
    "addXHatchRanksILog(ax,ranks_ref,(0,iQ_min),transformX=True)\n",
    "    \n",
    "ax.legend([r'scaling %s'%sc_name for sc_name in scaling_names],\n",
    "          loc = 'upper left')\n",
    "\n",
    "ax.set_xlabel('Percentile rank (%)')\n",
    "ax.set_ylabel(r'Normalized bias $\\frac{b}{\\mu}$')\n",
    "\n",
    "plt.savefig(os.path.join(figdir,'bias_%s_%s.pdf'%('_'.join(scaling_names),output_suffix)),\n",
    "            bbox_inches='tight')\n",
    "\n",
    "plt.show()"
   ]
  },
  {
   "cell_type": "markdown",
   "metadata": {},
   "source": [
    "## Decompose the variance"
   ]
  },
  {
   "cell_type": "markdown",
   "metadata": {},
   "source": [
    "### Decompose Variance into its contributions from qvstar and omega (scaling #3)"
   ]
  },
  {
   "cell_type": "code",
   "execution_count": null,
   "metadata": {
    "ExecuteTime": {
     "end_time": "2017-12-02T20:31:36.126157",
     "start_time": "2017-12-02T20:31:36.072207Z"
    },
    "collapsed": true,
    "run_control": {
     "frozen": false,
     "read_only": false
    },
    "scrolled": true
   },
   "outputs": [],
   "source": [
    "print()\n",
    "print(\"-- decompose variance into qvstar and omega contributions\")\n",
    "print()"
   ]
  },
  {
   "cell_type": "code",
   "execution_count": null,
   "metadata": {
    "ExecuteTime": {
     "end_time": "2017-12-02T20:31:39.679932",
     "start_time": "2017-12-02T20:31:36.136668Z"
    },
    "collapsed": true,
    "run_control": {
     "frozen": false,
     "read_only": false
    },
    "scrolled": true
   },
   "outputs": [],
   "source": [
    "%%time \n",
    "print(\"Compute the variance in pr\")\n",
    "scaling_names = 'sc','scOGS09','scOGS09ad','scRH','scRHad'\n",
    "\n",
    "Ntimes = 100 if bootstrap else 1\n",
    "fsub = 0.5 if bootstrap else 1\n",
    "\n",
    "for sc_name in scaling_names:\n",
    "\n",
    "    # compute variance from full sample\n",
    "    pr_values = getattr(thismodule,'pr_%s'%sc_name)\n",
    "    var_pr = varXAtAllYRanks(targetranks,pr_values,\n",
    "                            pr,ranks_ref,rank_locations=rank_locations)\n",
    "    setattr(thismodule,'var_pr_%s_prQ'%sc_name,var_pr)\n",
    "    \n",
    "    # bootstrapping\n",
    "    all_var_pr = np.empty((Ntimes,var_pr.size))\n",
    "    for i in range(Ntimes):\n",
    "        all_var_pr[i,:] = varXAtAllYRanks(targetranks,pr_values,\n",
    "                            pr,ranks_ref,rank_locations=rank_locations,random_fraction=fsub)\n",
    "    if bootstrap:\n",
    "        setattr(thismodule,'var_pr_%s_I25_prQ'%sc_name,all_var_pr[0])\n",
    "        setattr(thismodule,'var_pr_%s_I75_prQ'%sc_name,all_var_pr[1])"
   ]
  },
  {
   "cell_type": "code",
   "execution_count": null,
   "metadata": {
    "ExecuteTime": {
     "end_time": "2017-12-02T20:31:39.742904",
     "start_time": "2017-12-02T20:31:39.683347Z"
    },
    "collapsed": true,
    "run_control": {
     "frozen": false,
     "read_only": false
    },
    "scrolled": true
   },
   "outputs": [],
   "source": [
    "print(\"normalized variability\")\n",
    "for sc_name in scaling_names:\n",
    "    norm_var_pr = getattr(thismodule,'var_pr_%s_prQ'%sc_name)/getattr(thismodule,'pr_%s_prQ'%sc_name)**2\n",
    "    setattr(thismodule,'norm_var_pr_%s_prQ'%sc_name,norm_var_pr)\n",
    "    if bootstrap:\n",
    "        for int_bnd in 'I25','I75':\n",
    "            norm_var_pr_Ibnd = getattr(thismodule,'var_pr_%s_%s_prQ'%(sc_name,int_bnd))/\\\n",
    "                getattr(thismodule,'pr_%s_prQ'%sc_name)**2\n",
    "            setattr(thismodule,'norm_var_pr_%s_%s_prQ'%(sc_name,int_bnd),norm_var_pr_Ibnd)\n",
    "            # for printing only:\n",
    "            setattr(thismodule,'norm_var_pr_%s'%int_bnd,norm_var_pr_Ibnd)\n",
    "    \n",
    "    print(\"scaling %s : %1.5f\"%(sc_name,np.nanmean(norm_var_pr[iQ_slice])),end='')\n",
    "    if bootstrap:\n",
    "        print(\"\\t (%1.5f,%1.5f)\"%(np.nanmean(norm_var_pr_I25[iQ_slice]),\n",
    "                                  np.nanmean(norm_var_pr_I75[iQ_slice])))\n",
    "    else:\n",
    "        print()"
   ]
  },
  {
   "cell_type": "code",
   "execution_count": null,
   "metadata": {
    "ExecuteTime": {
     "end_time": "2017-12-02T20:31:39.826297",
     "start_time": "2017-12-02T20:31:39.745582Z"
    },
    "collapsed": true,
    "run_control": {
     "frozen": false,
     "read_only": false
    }
   },
   "outputs": [],
   "source": [
    "%%time\n",
    "print(\"compute variability terms\")\n",
    "var_qvstar_s_prQ = varXAtAllYRanks(targetranks,qvstar_s,pr,ranks_ref,rank_locations=rank_locations)\n",
    "var_omega_500_prQ = varXAtAllYRanks(targetranks,omega_500,pr,ranks_ref,rank_locations=rank_locations)\n",
    "cov_qvstar_s_omega_500_prQ = covAtAllYRanks(targetranks,qvstar_s,omega_500,pr,ranks_ref,\n",
    "                                            rank_locations=rank_locations)\n",
    "cov_qvstar_s_2_omega_500_2_prQ = covAtAllYRanks(targetranks,qvstar_s**2,omega_500**2,pr,ranks_ref,\n",
    "                                                rank_locations=rank_locations)"
   ]
  },
  {
   "cell_type": "code",
   "execution_count": null,
   "metadata": {
    "ExecuteTime": {
     "end_time": "2017-12-02T20:31:39.890272",
     "start_time": "2017-12-02T20:31:39.828932Z"
    },
    "collapsed": true,
    "run_control": {
     "frozen": false,
     "read_only": false
    }
   },
   "outputs": [],
   "source": [
    "print(\"normalized contributions, expanded terms\")\n",
    "\n",
    "# a_v = (eps/gg)**2\n",
    "# contrib_covX2Y2 = a_v*cov_qvstar_s_2_omega_500_2_prQ/(pr_sc_prQ**2)\n",
    "# contrib_varX = a_v*(omega_500_prQ**2)*var_qvstar_s_prQ/(pr_sc_prQ**2)\n",
    "# contrib_varY = a_v*(qvstar_s_prQ**2)*var_omega_500_prQ/(pr_sc_prQ**2)\n",
    "# contrib_varXvarY = a_v*var_qvstar_s_prQ*var_omega_500_prQ/(pr_sc_prQ**2)\n",
    "# contrib_cov2XY = -a_v*(cov_qvstar_s_omega_500_prQ**2)/(pr_sc_prQ**2)\n",
    "# contrib_covXY = -a_v*2*qvstar_s_prQ*omega_500_prQ*cov_qvstar_s_omega_500_prQ/(pr_sc_prQ**2)\n",
    "contribQOmega_var_covQ2Omega2 = cov_qvstar_s_2_omega_500_2_prQ/((omega_500_prQ*qvstar_s_prQ)**2)\n",
    "contribQOmega_var_varQ = var_qvstar_s_prQ/(qvstar_s_prQ**2)\n",
    "contribQOmega_var_varOmega = var_omega_500_prQ/(omega_500_prQ**2)\n",
    "contribQOmega_var_varQvarOmega = var_qvstar_s_prQ*var_omega_500_prQ/((omega_500_prQ*qvstar_s_prQ)**2)\n",
    "contribQOmega_var_cov2QOmega = -(cov_qvstar_s_omega_500_prQ**2)/((omega_500_prQ*qvstar_s_prQ)**2)\n",
    "contribQOmega_var_covQOmega = -2*cov_qvstar_s_omega_500_prQ/(omega_500_prQ*qvstar_s_prQ)\n",
    "contribQOmega_var_sum = contribQOmega_var_covQ2Omega2 + contribQOmega_var_varQ + contribQOmega_var_varOmega + \\\n",
    "    contribQOmega_var_varQvarOmega + contribQOmega_var_cov2QOmega + contribQOmega_var_covQOmega\n",
    "\n",
    "print(np.nanmean(contribQOmega_var_covQ2Omega2[iQ_slice]),np.nanmean(contribQOmega_var_varQ[iQ_slice]),\n",
    "      np.nanmean(contribQOmega_var_varOmega[iQ_slice]),np.nanmean(contribQOmega_var_varQvarOmega[iQ_slice]),\n",
    "      np.nanmean(contribQOmega_var_cov2QOmega[iQ_slice]),np.nanmean(contribQOmega_var_covQOmega[iQ_slice]),\n",
    "      np.nanmean(contribQOmega_var_sum[iQ_slice]))"
   ]
  },
  {
   "cell_type": "code",
   "execution_count": null,
   "metadata": {
    "ExecuteTime": {
     "end_time": "2017-12-02T20:31:42.212704",
     "start_time": "2017-12-02T20:31:39.892885Z"
    },
    "collapsed": true,
    "run_control": {
     "frozen": false,
     "read_only": false
    },
    "scrolled": false
   },
   "outputs": [],
   "source": [
    "%%time\n",
    "print(\"> plot variance and corresponding contributions\")\n",
    "\n",
    "fig, ax = plt.subplots(ncols=1,nrows=1,figsize=(5,4.5))\n",
    "ax.set_ylim((-.3,.6))\n",
    "\n",
    "# Grey shading \n",
    "i_Q_lims = (iQ_slice.start, iQ_slice.stop-1)\n",
    "subplotXShadingRanksILog(ax,ranks_ref,i_Q_lims,alpha=0.15,transformX=False)\n",
    "\n",
    "# zero line\n",
    "addZeroLine(ax,ranks_ref)\n",
    "\n",
    "subplotRanksILog(ax,ranks_ref,\n",
    "                 norm_var_pr_sc_prQ,\n",
    "                 col='k',ltype='-',transformX=False)\n",
    "subplotRanksILog(ax,ranks_ref,\n",
    "                 [contribQOmega_var_covQ2Omega2,contribQOmega_var_varQ,contribQOmega_var_varOmega,\n",
    "                  contribQOmega_var_varQvarOmega,contribQOmega_var_cov2QOmega,contribQOmega_var_covQOmega,\n",
    "                  contribQOmega_var_sum],\n",
    "                 col=['r','b','g','brown','y','purple','k'],ltype=['-','-','-','-','-','-',':'],transformX=False)\n",
    "\n",
    "addXHatchRanksILog(ax,ranks_ref,(0,iQ_min),transformX=True)\n",
    "\n",
    "leg = ax.legend([r'$Var(\\alpha q_v^\\star \\omega)$',\n",
    "                 r'$\\propto Cov(q_v^{\\star,2},\\omega^2)$',\n",
    "                 r'$\\propto Var(q_v^\\star)$',\n",
    "                 r'$\\propto Var(\\omega)$',\n",
    "                 r'$\\propto Var(q_v^\\star)Var(\\omega)$',\n",
    "                 r'$\\propto -Cov(q_v^\\star,\\omega)^2$',\n",
    "                 r'$\\propto -Cov(q_v^\\star,\\omega)$',\n",
    "                 r'sum of all'],\n",
    "                 loc='upper left',\n",
    "                 framealpha=0.8,\n",
    "                 ncol=2)\n",
    "\n",
    "ax.set_xlabel('Percentile rank (%)')\n",
    "ax.set_ylabel(r'Contribtions to normalized variance $\\frac{\\sigma^2}{\\mu^2}$')\n",
    "\n",
    "plt.savefig(os.path.join(figdir,'var_and_contributions_omega_q_%s.pdf'%output_suffix),\n",
    "            bbox_inches='tight')\n",
    "\n",
    "plt.show()"
   ]
  },
  {
   "cell_type": "code",
   "execution_count": null,
   "metadata": {
    "ExecuteTime": {
     "end_time": "2017-12-02T20:31:43.572603",
     "start_time": "2017-12-02T20:31:42.215761Z"
    },
    "collapsed": true,
    "run_control": {
     "frozen": false,
     "read_only": false
    }
   },
   "outputs": [],
   "source": [
    "%%time\n",
    "print(\"> plot variance for vertical scalings\")\n",
    "\n",
    "scaling_names = 'scOGS09','scOGS09ad','scRH','scRHad'\n",
    "\n",
    "\n",
    "fig, ax = plt.subplots(ncols=1,nrows=1,figsize=(5,4.5))\n",
    "ax.set_ylim((-.3,.6))\n",
    "\n",
    "# Grey shading \n",
    "i_Q_lims = (iQ_slice.start, iQ_slice.stop-1)\n",
    "subplotXShadingRanksILog(ax,ranks_ref,i_Q_lims,alpha=0.15,transformX=False)\n",
    "\n",
    "# zero line\n",
    "addZeroLine(ax,ranks_ref)\n",
    "    \n",
    "for sc_name in scaling_names:\n",
    "\n",
    "    print(\"- add scaling %s\"%sc_name)\n",
    "    setattr(thismodule,'norm_var',getattr(thismodule,'norm_var_pr_%s_prQ'%(sc_name)))\n",
    "\n",
    "    subplotRanksILog(ax,ranks_ref,\n",
    "                     norm_var,\n",
    "                     ltype='-',transformX=False)\n",
    "\n",
    "addXHatchRanksILog(ax,ranks_ref,(0,iQ_min),transformX=True)\n",
    "\n",
    "leg = ax.legend([r'scaling %s'%sc_name for sc_name in scaling_names],\n",
    "                 loc='upper left',\n",
    "                 framealpha=0.8)\n",
    "\n",
    "ax.set_xlabel('Percentile rank (%)')\n",
    "ax.set_ylabel(r'Normalized variance $\\frac{\\sigma^2}{\\mu^2}$')\n",
    "\n",
    "plt.savefig(os.path.join(figdir,'var_%s_%s.pdf'%('_'.join(scaling_names),output_suffix)),\n",
    "            bbox_inches='tight')\n",
    "\n",
    "plt.show()"
   ]
  },
  {
   "cell_type": "markdown",
   "metadata": {},
   "source": [
    "### Decompose variance into its contributions from T and omega (ignore variability in pressure)"
   ]
  },
  {
   "cell_type": "code",
   "execution_count": null,
   "metadata": {
    "ExecuteTime": {
     "end_time": "2017-12-02T20:31:43.634337",
     "start_time": "2017-12-02T20:31:43.576060Z"
    },
    "collapsed": true,
    "run_control": {
     "frozen": false,
     "read_only": false
    }
   },
   "outputs": [],
   "source": [
    "print()\n",
    "print(\"-- decompose variance into T and omega contributions\")\n",
    "print()"
   ]
  },
  {
   "cell_type": "code",
   "execution_count": null,
   "metadata": {
    "ExecuteTime": {
     "end_time": "2017-12-02T20:31:43.679135",
     "start_time": "2017-12-02T20:31:43.642170Z"
    },
    "collapsed": true,
    "run_control": {
     "frozen": false,
     "read_only": false
    }
   },
   "outputs": [],
   "source": [
    "print(\"Q-mean terms\")\n",
    "ts_prQ = meanXAtAllYRanks(targetranks,ts,pr,ranks_ref,rank_locations=rank_locations)"
   ]
  },
  {
   "cell_type": "code",
   "execution_count": null,
   "metadata": {
    "ExecuteTime": {
     "end_time": "2017-12-02T20:31:43.770998",
     "start_time": "2017-12-02T20:31:43.684323Z"
    },
    "collapsed": true,
    "run_control": {
     "frozen": false,
     "read_only": false
    },
    "scrolled": false
   },
   "outputs": [],
   "source": [
    "%%time\n",
    "print(\"compute variability terms\")\n",
    "var_ts_prQ = varXAtAllYRanks(targetranks,ts,pr,ranks_ref,rank_locations=rank_locations)\n",
    "cov_ts_omega_500_prQ = covAtAllYRanks(targetranks,ts,omega_500,pr,ranks_ref,rank_locations=rank_locations)\n",
    "cov_ts_omega_500_2_prQ = covAtAllYRanks(targetranks,ts,omega_500**2,pr,ranks_ref,rank_locations=rank_locations)"
   ]
  },
  {
   "cell_type": "code",
   "execution_count": null,
   "metadata": {
    "ExecuteTime": {
     "end_time": "2017-12-02T20:31:43.816752",
     "start_time": "2017-12-02T20:31:43.774335Z"
    },
    "collapsed": true,
    "run_control": {
     "frozen": false,
     "read_only": false
    }
   },
   "outputs": [],
   "source": [
    "print(\"normalized contributions, expanded terms\")\n",
    "\n",
    "contribTOmega_var_covTOmega2 = 2*L_v/R_v*cov_ts_omega_500_2_prQ/(ts_prQ*omega_500_prQ)**2\n",
    "contribTOmega_var_covTOmega = -2*L_v/R_v*cov_ts_omega_500_prQ/((ts_prQ**2)*omega_500_prQ)\n",
    "contribTOmega_var_varT = ((L_v/R_v)**2)*var_ts_prQ/(ts_prQ**4)\n",
    "contribTOmega_var_varOmega = var_omega_500_prQ/(omega_500_prQ**2)\n",
    "contribTOmega_var_sum = contribTOmega_var_covTOmega2+contribTOmega_var_covTOmega+contribTOmega_var_varT+\\\n",
    "    contribTOmega_var_varOmega\n",
    "all_contribTOmega_var = [contribTOmega_var_covTOmega2,contribTOmega_var_covTOmega,contribTOmega_var_varT,\n",
    "                    contribTOmega_var_varOmega,contribTOmega_var_sum]\n",
    "for contrib in all_contribTOmega_var:\n",
    "    print(np.nanmean(contrib[iQ_slice]),end=' ')\n",
    "print()"
   ]
  },
  {
   "cell_type": "code",
   "execution_count": null,
   "metadata": {
    "ExecuteTime": {
     "end_time": "2017-12-02T20:31:45.504458",
     "start_time": "2017-12-02T20:31:43.821411Z"
    },
    "collapsed": true,
    "run_control": {
     "frozen": false,
     "read_only": false
    },
    "scrolled": false
   },
   "outputs": [],
   "source": [
    "%%time \n",
    "print(\"> plot variance and corresponding contributions\")\n",
    "\n",
    "fig, ax = plt.subplots(ncols=1,nrows=1,figsize=(5,4.5))\n",
    "\n",
    "ax.set_ylim((-0.3,0.6))\n",
    "\n",
    "# Grey shading \n",
    "i_Q_lims = (iQ_slice.start, iQ_slice.stop-1)\n",
    "subplotXShadingRanksILog(ax,ranks_ref,i_Q_lims,alpha=0.15,transformX=False)\n",
    "\n",
    "# zero line\n",
    "addZeroLine(ax,ranks_ref)\n",
    "\n",
    "# subplotRanksILog(ax,ranks,np.zeros(ranks.shape),ltype=':',col='k')\n",
    "subplotRanksILog(ax,ranks_ref,\n",
    "                 norm_var_pr_sc_prQ,\n",
    "                 col='k',ltype='-',transformX=False)\n",
    "\n",
    "subplotRanksILog(ax,ranks_ref,\n",
    "                 all_contribTOmega_var,\n",
    "                 col=['green','blue','red','grey','k'],ltype=['-','-','-','-',':'],transformX=False)\n",
    "\n",
    "addXHatchRanksILog(ax,ranks_ref,(0,iQ_min),transformX=True)\n",
    "\n",
    "ax.set_xlabel('Percentile rank (%)')\n",
    "ax.set_ylabel(r'Contributions to Var$_Q(S)$')\n",
    "# ax.set_title(r'$S(\\omega,T)=\\varepsilon\\omega_{500}q_v^\\star(T)$')\n",
    "\n",
    "ax.legend([r'$\\propto Var(\\alpha q_v^\\star \\omega)$',r'$\\propto Cov(T,\\omega^2)$',r'$\\propto Cov(T,\\omega)$',\n",
    "           r'$\\propto Var(T)$',\n",
    "           r'$\\propto Var(\\omega)$','sum'],ncol=2,framealpha=0.8,loc='upper left')\n",
    "\n",
    "plt.savefig(os.path.join(figdir,'var_and_contributions_omega_T_%s.pdf'%output_suffix),\n",
    "            bbox_inches='tight')\n",
    "\n",
    "plt.show()"
   ]
  },
  {
   "cell_type": "markdown",
   "metadata": {},
   "source": [
    "## Predictor variables statistics"
   ]
  },
  {
   "cell_type": "markdown",
   "metadata": {},
   "source": [
    "### Joint statistics of $\\omega$ and $q_v^\\star$"
   ]
  },
  {
   "cell_type": "code",
   "execution_count": null,
   "metadata": {
    "ExecuteTime": {
     "end_time": "2017-12-02T20:31:45.551612",
     "start_time": "2017-12-02T20:31:45.509306Z"
    },
    "collapsed": true,
    "run_control": {
     "frozen": false,
     "read_only": false
    }
   },
   "outputs": [],
   "source": [
    "print()\n",
    "print(\"-- compute joint statistics of omega and qvstar\")\n",
    "print()"
   ]
  },
  {
   "cell_type": "code",
   "execution_count": null,
   "metadata": {
    "ExecuteTime": {
     "end_time": "2017-12-02T20:31:45.683740",
     "start_time": "2017-12-02T20:31:45.554316Z"
    },
    "collapsed": true,
    "run_control": {
     "frozen": false,
     "read_only": false
    }
   },
   "outputs": [],
   "source": [
    "print(\"2D density\")\n",
    "ranks_omega_500, percentiles_omega_500, bins_omega_500, \\\n",
    "ranks_qvstar_s, percentiles_qvstar_s, bins_qvstar_s, density2D_omega_500_qvstar_s = \\\n",
    "    compute2dStatsILOnRefRanks(-omega_500,qvstar_s,ranks_ref,n_pts_per_bin=1)\n",
    "    \n",
    "print(\"normalized 2D density\")\n",
    "N1 = N_omega_500 = sampleSizeAtAllRanks(ranks_omega_500,-omega_500,ranks_ref,bins=bins_omega_500)\n",
    "N2 = N_qvstar_s = sampleSizeAtAllRanks(ranks_qvstar_s,qvstar_s,ranks_ref,bins=bins_qvstar_s)\n",
    "norm_factor = normalize2dDensity(N1,N2,n_pts)\n",
    "\n",
    "norm_density2D_omega_500_qvstar_s = density2D_omega_500_qvstar_s/norm_factor"
   ]
  },
  {
   "cell_type": "code",
   "execution_count": null,
   "metadata": {
    "ExecuteTime": {
     "end_time": "2017-12-02T20:31:47.796122",
     "start_time": "2017-12-02T20:31:45.687443Z"
    },
    "collapsed": true,
    "run_control": {
     "frozen": false,
     "read_only": false
    },
    "scrolled": false
   },
   "outputs": [],
   "source": [
    "print(\"> plot 2D PDF of omega_500 and qvstar_s\")\n",
    "fig, ax = plt.subplots(figsize=(5.5,4.5))\n",
    "\n",
    "subplot2DRanksILog(ax,ranks_ref,ranks_ref,norm_density2D_omega_500_qvstar_s,\n",
    "                   cmap=plt.cm.RdGy_r,transformX=True,transformY=True,Z_mode='log')\n",
    "\n",
    "add1to1Line(ax)\n",
    "\n",
    "ax.set_xlabel('omega_500 percentile rank (%)')\n",
    "ax.set_ylabel('qvstar_s percentile rank (%)')\n",
    "\n",
    "plt.savefig(os.path.join(figdir,'norm_pdf2D_%s_and_%s_%s.pdf'%('omega_500','qvstar_s',output_suffix)),\n",
    "                bbox_inches='tight')\n",
    "plt.show()"
   ]
  },
  {
   "cell_type": "code",
   "execution_count": null,
   "metadata": {
    "ExecuteTime": {
     "end_time": "2017-12-02T20:31:47.838117",
     "start_time": "2017-12-02T20:31:47.799089Z"
    },
    "collapsed": true,
    "run_control": {
     "frozen": false,
     "read_only": false
    }
   },
   "outputs": [],
   "source": [
    "# print(\"compute sample size in 2D bins of omega_500 and qvstar_s\")\n",
    "\n",
    "# sampleSize_omega_500_qvstar_s = sampleSizeAtAllY1Y2Ranks(ranks_ref,ranks_ref,omega_500,qvstar_s,\n",
    "#     Y1ranks=ranks_ref,Y1bins=bins_omega_500,Y1rank_locations=None,\n",
    "#     Y2ranks=ranks_ref,Y2bins=bins_qvstar_s,Y2rank_locations=None)\n",
    "\n",
    "# fig, ax = plt.subplots(figsize=(5.5,4.5))\n",
    "\n",
    "# subplot2DRanksILog(ax,ranks_ref,ranks_ref,sampleSize_omega_500_qvstar_s,\n",
    "#                    cmap='viridis',transformX=True,transformY=True)\n",
    "\n",
    "# add1to1Line(ax)\n",
    "\n",
    "# ax.set_xlabel('omega_500 percentile rank (%)')\n",
    "# ax.set_ylabel('qvstar_s percentile rank (%)')"
   ]
  },
  {
   "cell_type": "markdown",
   "metadata": {},
   "source": [
    "### Conditional values of $P$ on joint statistics of $\\omega$ and $q_v^\\star$"
   ]
  },
  {
   "cell_type": "code",
   "execution_count": null,
   "metadata": {
    "ExecuteTime": {
     "end_time": "2017-12-02T20:31:47.876305",
     "start_time": "2017-12-02T20:31:47.840790Z"
    },
    "collapsed": true,
    "run_control": {
     "frozen": false,
     "read_only": false
    }
   },
   "outputs": [],
   "source": [
    "print()\n",
    "print(\"-- compute mean values conditioned on omega_500 and qvstar_s\")\n",
    "print()\n",
    "varnames = 'pr','pr_sc','pr_scOGS09'"
   ]
  },
  {
   "cell_type": "code",
   "execution_count": null,
   "metadata": {
    "ExecuteTime": {
     "end_time": "2017-12-02T20:31:47.918144",
     "start_time": "2017-12-02T20:31:47.880280Z"
    },
    "collapsed": true,
    "run_control": {
     "frozen": false,
     "read_only": false
    }
   },
   "outputs": [],
   "source": [
    "print(\"ranks_locations for omega_500 and qvstar_s\")\n",
    "print(\"TO DO TO SAVE COMPUTING TIME\")"
   ]
  },
  {
   "cell_type": "code",
   "execution_count": null,
   "metadata": {
    "ExecuteTime": {
     "end_time": "2017-12-02T20:31:47.980253",
     "start_time": "2017-12-02T20:31:47.920800Z"
    },
    "collapsed": true,
    "run_control": {
     "frozen": false,
     "read_only": false
    }
   },
   "outputs": [],
   "source": [
    "print(\"prepare axes and bins for predictor variables\")\n",
    "ranks_omega_500, percentiles_omega_500, bins_omega_500 = computePercentilesAndBinsFromRanks(-omega_500.flatten(),ranks_ref,crop=False)\n",
    "percentiles_omega_500 = adjustRanks(percentiles_omega_500,ranks_omega_500,ranks_ref)\n",
    "bins_omega_500 = adjustBinsOnRanks(bins_omega_500,ranks_omega_500,ranks_ref)\n",
    "ranks_omega_500 = ranks_ref\n",
    "ranks_qvstar_s, percentiles_qvstar_s, bins_qvstar_s = computePercentilesAndBinsFromRanks(qvstar_s.flatten(),ranks_ref,crop=False)\n",
    "percentiles_qvstar_s = adjustRanks(percentiles_qvstar_s,ranks_qvstar_s,ranks_ref)\n",
    "bins_qvstar_s = adjustBinsOnRanks(bins_qvstar_s,ranks_qvstar_s,ranks_ref)\n",
    "ranks_qvstar_s = ranks_ref"
   ]
  },
  {
   "cell_type": "code",
   "execution_count": null,
   "metadata": {
    "ExecuteTime": {
     "end_time": "2017-12-02T20:31:48.030127",
     "start_time": "2017-12-02T20:31:47.983961Z"
    },
    "collapsed": true,
    "run_control": {
     "frozen": false,
     "read_only": false
    },
    "scrolled": true
   },
   "outputs": [],
   "source": [
    "print(\"compute ranks, percentiles and bins for predicted variables\")\n",
    "\n",
    "for varname in varnames:\n",
    "    \n",
    "    print(\"- %s\"%varname)\n",
    "\n",
    "    var = getattr(thismodule,varname)\n",
    "    \n",
    "    ranks_var, percentiles_var, bins_var = computePercentilesAndBinsFromRanks(var.flatten(),ranks_ref,crop=False)\n",
    "    setattr(thismodule,\"ranks_%s\"%varname,ranks_var)\n",
    "    setattr(thismodule,\"percentiles_%s\"%varname,percentiles_var)\n",
    "    setattr(thismodule,\"bins_%s\"%varname,bins_var)"
   ]
  },
  {
   "cell_type": "code",
   "execution_count": null,
   "metadata": {
    "ExecuteTime": {
     "end_time": "2017-12-02T20:31:48.960279",
     "start_time": "2017-12-02T20:31:48.035414Z"
    },
    "collapsed": true,
    "hide_input": false,
    "run_control": {
     "frozen": false,
     "read_only": false
    }
   },
   "outputs": [],
   "source": [
    "print(\"compute conditional values\")\n",
    "\n",
    "for varname in varnames:\n",
    "\n",
    "    print(\"- %s\"%varname)\n",
    "    \n",
    "    val_cond = meanXAtAllY1Y2Ranks(ranks_ref,ranks_ref,getattr(thismodule,varname),-omega_500,qvstar_s,\\\n",
    "                                Y1ranks=ranks_ref,Y1bins=bins_omega_500,\\\n",
    "                                Y2ranks=ranks_ref,Y2bins=bins_qvstar_s)\n",
    "    setattr(thismodule,\"%s_omega_500Q_qvstar_sQ\"%varname,val_cond)\n"
   ]
  },
  {
   "cell_type": "code",
   "execution_count": null,
   "metadata": {
    "ExecuteTime": {
     "end_time": "2017-12-02T20:31:53.737468",
     "start_time": "2017-12-02T20:31:48.963445Z"
    },
    "collapsed": true,
    "hide_input": false,
    "run_control": {
     "frozen": false,
     "read_only": false
    },
    "scrolled": false
   },
   "outputs": [],
   "source": [
    "print(\"> plot precipitation conditioned on omega_500 and qvstar_s\")\n",
    "\n",
    "for varname in varnames:\n",
    "\n",
    "    print(\"- %s\"%varname)\n",
    "    \n",
    "    var_cond = getattr(thismodule,\"%s_omega_500Q_qvstar_sQ\"%varname)\n",
    "    ranks_var = getattr(thismodule,\"ranks_%s\"%varname)\n",
    "    percentiles_var = getattr(thismodule,\"percentiles_%s\"%varname)\n",
    "    bins_var = getattr(thismodule,\"bins_%s\"%varname)\n",
    "    \n",
    "    ranks_cond = getRanksOfValues(var_cond,ranks_var,percentiles_var,bins_var)\n",
    "    setattr(thismodule,\"ranks_%s_omega_500Q_qvstar_sQ\"%varname,ranks_cond)\n",
    "    \n",
    "    print(\"- for %s_omega_500Q_qvstar_sQ\"%varname)\n",
    "\n",
    "    fig, ax = plt.subplots(figsize=(5.5,4.5))\n",
    "\n",
    "    subplot2DRanksILog(ax,ranks_ref,ranks_ref,ranks_cond,cmap='viridis',\n",
    "        transformX=True,transformY=True,range_type='full_positive',Z_mode='invlog',ranksZ=ranks_ref)\n",
    "\n",
    "    add1to1Line(ax)\n",
    "\n",
    "    ax.set_xlabel('omega_500 percentile rank (%)')\n",
    "    ax.set_ylabel('qvstar_s percentile rank (%)')\n",
    "\n",
    "    plt.savefig(os.path.join(figdir,'%s_conditioned_on_omega_500_and_qvstar_s_%s.pdf'%(varname,output_suffix)),\n",
    "                    bbox_inches='tight')\n",
    "    plt.show()"
   ]
  },
  {
   "cell_type": "code",
   "execution_count": null,
   "metadata": {
    "collapsed": true,
    "run_control": {
     "frozen": false,
     "read_only": false
    }
   },
   "outputs": [],
   "source": []
  },
  {
   "cell_type": "markdown",
   "metadata": {
    "collapsed": true,
    "run_control": {
     "frozen": false,
     "read_only": false
    }
   },
   "source": [
    "# Save all variables in dataframe"
   ]
  },
  {
   "cell_type": "code",
   "execution_count": null,
   "metadata": {
    "ExecuteTime": {
     "end_time": "2017-12-02T20:31:53.778520",
     "start_time": "2017-12-02T20:31:53.739890Z"
    },
    "collapsed": true,
    "run_control": {
     "frozen": false,
     "read_only": false
    }
   },
   "outputs": [],
   "source": [
    "print()\n",
    "print(\"-- Save results\")\n",
    "print()\n",
    "import pandas as pd\n",
    "import re\n",
    "import pickle"
   ]
  },
  {
   "cell_type": "code",
   "execution_count": null,
   "metadata": {
    "ExecuteTime": {
     "end_time": "2017-12-02T20:31:53.831577",
     "start_time": "2017-12-02T20:31:53.781109Z"
    },
    "collapsed": true,
    "run_control": {
     "frozen": false,
     "read_only": false
    },
    "scrolled": false
   },
   "outputs": [],
   "source": [
    "print(\"- save variables in dataframe\")\n",
    "\n",
    "vars_out_Q = ['ranks_ref','percentiles']\n",
    "for prefix in ('percentiles','ranks'):\n",
    "    for prvarname in ('pr','omega_500','qvstar_s','pr_sc','pr_scOGS09','pr_scOGS09ad','pr_scRH','pr_scRHad'):\n",
    "        varname = '%s_%s'%(prefix,prvarname)\n",
    "        if varname in locals().keys():\n",
    "            vars_out_Q.append(varname)\n",
    "        else:\n",
    "            print(varname,'does not exist')\n",
    "        \n",
    "    \n",
    "vars_out_Q.extend([v for v in locals().keys() if v.endswith('prQ') or v.endswith('vQ')])\n",
    "vars_out_Q.extend([v for v in locals().keys() if v.startswith('contrib')])\n",
    "vars_out_Q.extend([v for v in locals().keys() if v.startswith('norm_var_pr')])\n",
    "vars_out_Q.extend([v for v in locals().keys() if v.startswith('bias_')])\n",
    "vars_out_Q.extend([v for v in locals().keys() if v.startswith('N_')])\n"
   ]
  },
  {
   "cell_type": "code",
   "execution_count": null,
   "metadata": {
    "ExecuteTime": {
     "end_time": "2017-12-02T20:31:53.931440",
     "start_time": "2017-12-02T20:31:53.836391Z"
    },
    "collapsed": true,
    "run_control": {
     "frozen": false,
     "read_only": false
    },
    "scrolled": false
   },
   "outputs": [],
   "source": [
    "vars_out_Q = list(set(vars_out_Q))\n",
    "vars_out_Q.sort()\n",
    "for v in vars_out_Q:\n",
    "    obj = getattr(thismodule,v)\n",
    "    if obj.__class__ is np.ndarray:\n",
    "        print('.',v,obj.__class__,sys.getsizeof(obj),obj.shape)\n",
    "    else:\n",
    "        print('.',v,obj.__class__,sys.getsizeof(obj))"
   ]
  },
  {
   "cell_type": "code",
   "execution_count": null,
   "metadata": {
    "ExecuteTime": {
     "end_time": "2017-12-02T20:31:53.974186",
     "start_time": "2017-12-02T20:31:53.933797Z"
    },
    "collapsed": true,
    "run_control": {
     "frozen": false,
     "read_only": false
    },
    "scrolled": false
   },
   "outputs": [],
   "source": [
    "print(\"create result dataframe\")\n",
    "results_df = pd.DataFrame({v:getattr(thismodule,v) for v in vars_out_Q})"
   ]
  },
  {
   "cell_type": "code",
   "execution_count": null,
   "metadata": {
    "ExecuteTime": {
     "end_time": "2017-12-02T20:31:54.041111",
     "start_time": "2017-12-02T20:31:53.978447Z"
    },
    "collapsed": true,
    "run_control": {
     "frozen": false,
     "read_only": false
    }
   },
   "outputs": [],
   "source": [
    "result_df_file = 'results_dataframe_%s.csv'%output_suffix\n",
    "print(\"> save results to %s\"%result_df_file)\n",
    "results_df.to_csv(os.path.join(resultdir,result_df_file))\n",
    "print(\"total size of dataframe =\",sys.getsizeof(results_df),\"B\")\n",
    "print()"
   ]
  },
  {
   "cell_type": "code",
   "execution_count": null,
   "metadata": {
    "ExecuteTime": {
     "end_time": "2017-12-02T20:31:54.110184",
     "start_time": "2017-12-02T20:31:54.045898Z"
    },
    "collapsed": true,
    "run_control": {
     "frozen": false,
     "read_only": false
    },
    "scrolled": true
   },
   "outputs": [],
   "source": [
    "print(\"- save variables with pickle.dump\")\n",
    "\n",
    "remaining_variables = set(locals().keys()).difference(set(vars_out_Q))\n",
    "\n",
    "# efficiencies\n",
    "var_to_pickle = ['n_pts','eps','eps_OGS09','eps_OGS09ad']\n",
    "var_to_pickle.extend(['fracarea_boost','fracarea_boost_ad','entrainment','entrainment_ad'])\n",
    "# bins\n",
    "var_to_pickle.extend([v for v in remaining_variables if v.startswith('bins_')])\n",
    "# densities\n",
    "var_to_pickle.extend([v for v in remaining_variables if v.startswith('density2D_')])\n",
    "var_to_pickle.extend([v for v in remaining_variables if v.startswith('norm_density2D_')])\n",
    "var_to_pickle.extend([v for v in remaining_variables if v.startswith('pdf1D_')])\n",
    "var_to_pickle.extend([v for v in remaining_variables if v.startswith('percentiles_pr_')])\n",
    "\n",
    "for varname in 'pr_sc','pr_scOGS09','pr_scOGS09ad','pr_scRH','pr_scRHad':\n",
    "    var_to_pickle.extend([v for v in remaining_variables if v.startswith(\"%s_\"%varname)])\n",
    "    \n",
    "var_to_pickle.append('pr_omega_500Q_qvstar_sQ')\n",
    "var_to_pickle.extend([v for v in remaining_variables if v.startswith('ranks_pr_')])\n",
    "\n",
    "var_to_pickle = list(set(var_to_pickle))\n",
    "var_to_pickle.sort()"
   ]
  },
  {
   "cell_type": "code",
   "execution_count": null,
   "metadata": {
    "ExecuteTime": {
     "end_time": "2017-12-02T20:31:54.307096",
     "start_time": "2017-12-02T20:31:54.113211Z"
    },
    "collapsed": true,
    "run_control": {
     "frozen": false,
     "read_only": false
    },
    "scrolled": false
   },
   "outputs": [],
   "source": [
    "all_vars_to_save = list(set(vars_out_Q+var_to_pickle))\n",
    "all_vars_to_save.sort()\n",
    "\n",
    "print(len(all_vars_to_save),\"variables\")\n",
    "\n",
    "size_pickle = 0\n",
    "dict_pickle = {}\n",
    "for v in all_vars_to_save:\n",
    "    obj = getattr(thismodule,v)\n",
    "    size_pickle += sys.getsizeof(obj)\n",
    "    if obj.__class__ is np.ndarray:\n",
    "        print('.',v,obj.__class__,sys.getsizeof(obj),obj.shape)\n",
    "    else:\n",
    "        print('.',v,obj.__class__,sys.getsizeof(obj))\n",
    "    # save variables\n",
    "    dict_pickle[v] = obj"
   ]
  },
  {
   "cell_type": "code",
   "execution_count": 151,
   "metadata": {
    "ExecuteTime": {
     "end_time": "2017-12-02T20:32:41.054249",
     "start_time": "2017-12-02T20:32:41.014495Z"
    },
    "collapsed": false,
    "run_control": {
     "frozen": false,
     "read_only": false
    },
    "scrolled": false
   },
   "outputs": [
    {
     "name": "stdout",
     "output_type": "stream",
     "text": [
      "> save to file results_dictionary_Q8-Q41_185005010100-185105010000.pickle\n",
      "total size = 1155780 B\n"
     ]
    }
   ],
   "source": [
    "result_dict_file = 'results_dictionary_%s.pickle'%output_suffix\n",
    "print(\"> save to file %s\"%result_dict_file)\n",
    "pickle.dump(dict_pickle,open(os.path.join(resultdir,result_dict_file),\"wb\"))\n",
    "print(\"total size =\",size_pickle,\"B\")"
   ]
  },
  {
   "cell_type": "code",
   "execution_count": 153,
   "metadata": {
    "ExecuteTime": {
     "end_time": "2017-12-02T20:43:33.572795",
     "start_time": "2017-12-02T20:43:33.531835Z"
    },
    "collapsed": false,
    "run_control": {
     "frozen": false,
     "read_only": false
    },
    "scrolled": false
   },
   "outputs": [
    {
     "name": "stdout",
     "output_type": "stream",
     "text": [
      "\n",
      "-------\n",
      "\n",
      "time spent for scales 1h and 2dx : 00:44:48\n",
      "\n",
      "> Save timing and size info to /global/u2/b/bfildier/code/dataAnalysis/extreme-rain-predictability-across-scales/results/omega500tsps/FSPCAMm_AMIP/piControl/r1i1p1/tropics/1h/2dx/timing.csv.\n",
      "\n"
     ]
    }
   ],
   "source": [
    "print()\n",
    "print(\"-------\")\n",
    "print()\n",
    "if tracktime:\n",
    "    timingfile = 'timing.csv'\n",
    "    fulltimingfile = os.path.join(resultdir,timingfile)\n",
    "    t_loops.append(time.time())\n",
    "    time_elapsed_s = t_loops[-1]-t_loops[-2]\n",
    "    print(\"time spent for scales %s and %s :\"%(time_stride,resolution),\n",
    "          time2str(time_elapsed_s))\n",
    "    print()\n",
    "    print('> Save timing and size info to %s.'%fulltimingfile)\n",
    "    timing_df = saveTiming(fulltimingfile,output_suffix,pr.size,time_elapsed_s,reset_value=True)\n",
    "print()"
   ]
  },
  {
   "cell_type": "code",
   "execution_count": 134,
   "metadata": {
    "ExecuteTime": {
     "end_time": "2017-12-02T20:57:06.756510",
     "start_time": "2017-12-02T20:57:06.716158Z"
    },
    "collapsed": false,
    "run_control": {
     "frozen": false,
     "read_only": false
    },
    "scrolled": true
   },
   "outputs": [
    {
     "name": "stdout",
     "output_type": "stream",
     "text": [
      "\n",
      "-----------------------------------------------------------------\n",
      "!                                                            \t!\n",
      "!   time spent in each loop:                                 \t!\n",
      "!                                                            \t!\n",
      "!   time spent in all loops combined: 00:00:00              \t!\n",
      "!                                                            \t!\n",
      "!   total time spent for script execution: 00:02:15          \t!\n",
      "!                                                            \t!\n",
      "-----------------------------------------------------------------\n",
      "\n"
     ]
    }
   ],
   "source": [
    "#--# stop indentation for multiple scales\n",
    "\n",
    "## Keep track of time\n",
    "if tracktime:\n",
    "    print()\n",
    "    print(\"-----------------------------------------------------------------\")\n",
    "    print(\"!                                                            \\t!\")\n",
    "    print(\"!   time spent in each loop:                                 \\t!\")\n",
    "    for i in range(len(t_loops)-1):\n",
    "        print(\"!       \",time2str(t_loops[i+1]-t_loops[i]),\n",
    "        \"                                           \\t!\")\n",
    "    print(\"!                                                            \\t!\")\n",
    "    print(\"!   time spent in all loops combined:\",\n",
    "          time2str(t_loops[-1]-t_loops[0]),\n",
    "          \"             \\t!\")\n",
    "    if len(t_loops) > 1:\n",
    "        print(\"!   average time spent in a loop:\",\n",
    "              time2str((t_loops[-1]-t_loops[0])/(len(t_loops)-1)),\n",
    "              \"             \\t!\")\n",
    "    print(\"!                                                            \\t!\")\n",
    "    print(\"!   total time spent for script execution:\",\n",
    "          time2str(t_loops[-1]-t0),\n",
    "          \"         \\t!\")\n",
    "    print(\"!                                                            \\t!\")\n",
    "    print(\"-----------------------------------------------------------------\")\n",
    "    print()\n",
    "        "
   ]
  },
  {
   "cell_type": "code",
   "execution_count": 132,
   "metadata": {
    "ExecuteTime": {
     "end_time": "2017-11-30T08:16:58.491210",
     "start_time": "2017-11-30T08:16:58.461910Z"
    },
    "collapsed": true,
    "run_control": {
     "frozen": false,
     "read_only": false
    },
    "scrolled": false
   },
   "outputs": [],
   "source": [
    "# leftwith = []\n",
    "# for k in locals().keys():\n",
    "#     if not k.startswith('_') and k not in vars_out_Q and k not in var_to_pickle:\n",
    "#         leftwith.append(k)\n",
    "# leftwith.sort()\n",
    "# print(len(leftwith))\n",
    "# for k in leftwith:\n",
    "#     print(k)"
   ]
  }
 ],
 "metadata": {
  "hide_input": false,
  "kernelspec": {
   "display_name": "Python 3",
   "language": "python",
   "name": "python3"
  },
  "language_info": {
   "codemirror_mode": {
    "name": "ipython",
    "version": 3
   },
   "file_extension": ".py",
   "mimetype": "text/x-python",
   "name": "python",
   "nbconvert_exporter": "python",
   "pygments_lexer": "ipython3",
   "version": "3.6.1"
  },
  "latex_envs": {
   "bibliofile": "biblio.bib",
   "cite_by": "apalike",
   "current_citInitial": 1,
   "eqLabelWithNumbers": true,
   "eqNumInitial": 0
  },
  "toc": {
   "toc_cell": true,
   "toc_number_sections": true,
   "toc_threshold": 6,
   "toc_window_display": false
  }
 },
 "nbformat": 4,
 "nbformat_minor": 1
}
