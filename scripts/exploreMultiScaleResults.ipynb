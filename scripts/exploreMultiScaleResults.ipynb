{
 "cells": [
  {
   "cell_type": "markdown",
   "metadata": {
    "toc": "true"
   },
   "source": [
    "# Table of Contents\n",
    " <p>"
   ]
  },
  {
   "cell_type": "code",
   "execution_count": 1,
   "metadata": {
    "ExecuteTime": {
     "end_time": "2017-11-21T16:45:43.147641",
     "start_time": "2017-11-21T16:45:42.829894Z"
    },
    "collapsed": false,
    "run_control": {
     "frozen": false,
     "read_only": false
    }
   },
   "outputs": [],
   "source": [
    "%load_ext autoreload\n",
    "%matplotlib inline"
   ]
  },
  {
   "cell_type": "code",
   "execution_count": 2,
   "metadata": {
    "ExecuteTime": {
     "end_time": "2017-11-21T16:45:44.340244",
     "start_time": "2017-11-21T16:45:43.613480Z"
    },
    "collapsed": false,
    "run_control": {
     "frozen": false,
     "read_only": false
    }
   },
   "outputs": [
    {
     "name": "stdout",
     "output_type": "stream",
     "text": [
      "Own modules available: ['CAMsettings', 'daskOptions', 'environmentAndDirectories', 'importingData', 'outputResults', 'physicalConstants', 'plot1DInvLog', 'plot2D', 'plotMaps', 'scalingApproximations', 'slicingAndSubsetting', 'statisticalDistributions', 'thermoConstants', 'thermoFunctions']\n"
     ]
    }
   ],
   "source": [
    "%autoreload 2\n",
    "\n",
    "import pandas as pd\n",
    "import numpy as np\n",
    "import numpy.ma as ma\n",
    "import dask.array as da\n",
    "import matplotlib.pyplot as plt\n",
    "import datetime as dt\n",
    "import sys,os,glob\n",
    "import matplotlib\n",
    "from mpl_toolkits.basemap import Basemap\n",
    "from matplotlib.colors import LogNorm\n",
    "\n",
    "## Add own library to path\n",
    "workdir = os.getcwd()\n",
    "thismodule = sys.modules[__name__]\n",
    "moduledir = os.path.join(os.path.dirname(workdir),'functions')\n",
    "sys.path.insert(0,moduledir)\n",
    "print(\"Own modules available:\", [os.path.splitext(os.path.basename(x))[0]\n",
    "                                 for x in glob.glob(os.path.join(moduledir,'*.py'))])\n",
    "\n",
    "## Load own libraries\n",
    "from scalingApproximations import *\n",
    "from plotMaps import *\n",
    "from plot1DInvLog import *\n",
    "from statisticalDistributions import *\n",
    "from slicingAndSubsetting import *\n",
    "from outputResults import *\n",
    "from CAMsettings import *\n",
    "from plot2D import *\n",
    "\n",
    "## Graphical parameters\n",
    "plt.style.use(os.path.join(matplotlib.get_configdir(),'stylelib/presentation.mplstyle'))"
   ]
  },
  {
   "cell_type": "code",
   "execution_count": 11,
   "metadata": {
    "ExecuteTime": {
     "end_time": "2017-11-21T18:13:31.247758",
     "start_time": "2017-11-21T18:13:30.710942Z"
    },
    "collapsed": false,
    "run_control": {
     "frozen": false,
     "read_only": false
    }
   },
   "outputs": [
    {
     "name": "stdout",
     "output_type": "stream",
     "text": [
      "choose run options\n"
     ]
    }
   ],
   "source": [
    "time_strides = '1h','3h','6h','12h','18h','1d','8d'\n",
    "resolutions = '1dx','2dx','3dx','4dx','5dx','6dx','7dx','8dx'\n",
    "N_times = len(time_strides)\n",
    "N_res = len(resolutions)\n",
    "\n",
    "print(\"choose run options\")\n",
    "scaling = 'omega500tsps'\n",
    "# compset = 'FSPCAMm_AMIP'\n",
    "compset = 'FAMIPC5'\n",
    "experiment = 'piControl'\n",
    "member = 'r1i1p1'\n",
    "subset = 'tropics'\n",
    "dates_label = '185005010100-185105010000'\n",
    "ranks_label = 'Q8-Q41'\n",
    "time_ref = '1d'\n",
    "res_ref = '1dx'\n",
    "\n",
    "# Results to analyze\n",
    "resultdir = os.path.join(os.path.dirname(workdir),'results','omega500tsps',compset,experiment,member,subset)\n",
    "\n",
    "# Figure output directory\n",
    "figdir = os.path.join(os.path.dirname(workdir),'figures','omega500tsps',compset,experiment,member,subset)\n",
    "\n",
    "results = {}\n",
    "for time_stride in time_strides:\n",
    "    results[time_stride] = {}\n",
    "    for resolution in resolutions:\n",
    "        filename = 'results_%s_%s.csv'%(ranks_label,dates_label)\n",
    "        filepath = os.path.join(resultdir,time_stride,resolution,filename)\n",
    "        results[time_stride][resolution] = pd.read_csv(filepath)\n",
    "\n",
    "all_varids = results[time_ref][res_ref].keys()"
   ]
  },
  {
   "cell_type": "code",
   "execution_count": 7,
   "metadata": {
    "ExecuteTime": {
     "end_time": "2017-11-21T16:46:06.711940",
     "start_time": "2017-11-21T16:46:06.675404Z"
    },
    "collapsed": false,
    "run_control": {
     "frozen": false,
     "read_only": false
    }
   },
   "outputs": [],
   "source": [
    "varids_to_remove = set(('Unnamed: 0','contrib','ranks_ref'))\n",
    "varids_to_sum = set(('N_prQ',))\n",
    "varids_to_avg = set(all_varids).difference(varids_to_remove.union(varids_to_sum))"
   ]
  },
  {
   "cell_type": "code",
   "execution_count": 51,
   "metadata": {
    "ExecuteTime": {
     "end_time": "2017-11-21T18:37:48.515675",
     "start_time": "2017-11-21T18:37:48.072213Z"
    },
    "collapsed": false,
    "run_control": {
     "frozen": false,
     "read_only": false
    },
    "scrolled": true
   },
   "outputs": [
    {
     "name": "stdout",
     "output_type": "stream",
     "text": [
      "load all variables as a function of time_stride and resolution\n"
     ]
    }
   ],
   "source": [
    "print(\"load all variables as a function of time_stride and resolution\")\n",
    "\n",
    "ranks_ref = results[time_strides[0]][resolutions[0]]['ranks_ref']\n",
    "iQ999 = indexOfRank(99.9,ranks_ref)\n",
    "iQ_slice = slice(iQ999-5,iQ999+5)\n",
    "\n",
    "iQ_label = \"Q%d_Q%d\"%(iQ_slice.start,iQ_slice.stop)\n",
    "\n",
    "for varid in varids_to_avg:\n",
    "    newvarid = \"%s_%s\"%(varid,iQ_label)\n",
    "    newvar = getTXVarFromResults(varid,results,time_strides,resolutions,iQ_slice,avg_mode='mean')\n",
    "    setattr(thismodule,newvarid,newvar)\n",
    "\n",
    "for varid in ('N_prQ',):\n",
    "    newvarid = \"%s_Q%s\"%(varid,iQ999)\n",
    "    newvar = getTXVarFromResults(varid,results,time_strides,resolutions,slice(iQ999,iQ999+1),avg_mode='sum')\n",
    "    setattr(thismodule,newvarid,newvar)\n"
   ]
  },
  {
   "cell_type": "code",
   "execution_count": 9,
   "metadata": {
    "ExecuteTime": {
     "end_time": "2017-11-21T16:46:08.320769",
     "start_time": "2017-11-21T16:46:08.292757Z"
    },
    "collapsed": false,
    "run_control": {
     "frozen": false,
     "read_only": false
    }
   },
   "outputs": [
    {
     "name": "stdout",
     "output_type": "stream",
     "text": [
      "compute normalizes bias\n"
     ]
    }
   ],
   "source": [
    "print(\"compute normalizes bias\")\n",
    "norm_bias_pr_sc_prQ_Q25_Q35 = 1-(pr_sc_vQ_Q25_Q35/pr_sc_prQ_Q25_Q35)"
   ]
  },
  {
   "cell_type": "code",
   "execution_count": 56,
   "metadata": {
    "ExecuteTime": {
     "end_time": "2017-11-21T19:18:36.541707",
     "start_time": "2017-11-21T19:18:36.516046Z"
    },
    "collapsed": false,
    "run_control": {
     "frozen": false,
     "read_only": false
    }
   },
   "outputs": [
    {
     "name": "stdout",
     "output_type": "stream",
     "text": [
      "sum of covariance terms\n"
     ]
    }
   ],
   "source": [
    "print(\"sum of covariance terms\")\n",
    "contribQOmega_var_allcov_Q25_Q35 = contribQOmega_var_covQOmega_Q25_Q35+contribQOmega_var_covQ2Omega2_Q25_Q35\n",
    "contribTOmega_var_allcov_Q25_Q35 = contribTOmega_var_covTOmega_Q25_Q35+contribTOmega_var_covTOmega2_Q25_Q35"
   ]
  },
  {
   "cell_type": "code",
   "execution_count": 57,
   "metadata": {
    "ExecuteTime": {
     "end_time": "2017-11-21T19:19:04.136246",
     "start_time": "2017-11-21T19:18:54.896642Z"
    },
    "collapsed": false,
    "run_control": {
     "frozen": false,
     "read_only": false
    },
    "scrolled": true
   },
   "outputs": [
    {
     "name": "stdout",
     "output_type": "stream",
     "text": [
      "> Plot normalized variability and contributions\n"
     ]
    }
   ],
   "source": [
    "print(\"> Plot normalized variability and contributions\")\n",
    "\n",
    "varids_to_plot = [v for v in locals() if v.endswith(iQ_label) and v.startswith('contrib')]\n",
    "\n",
    "## Plot bias and variability\n",
    "for varid in ['norm_bias_pr_sc_prQ_Q25_Q35','norm_var_pr_sc_prQ_Q25_Q35']:\n",
    "    var = getattr(thismodule,varid)\n",
    "    # Plot\n",
    "    fig, ax = plt.subplots(ncols=1,nrows=1)\n",
    "    if '_var_' in varid:\n",
    "        vmin = 0; vmax = 0.13\n",
    "        subplotMultiscaleVar(ax,var,time_strides,vmin=vmin,vmax=vmax)\n",
    "    else:\n",
    "        subplotMultiscaleVar(ax,var,time_strides)\n",
    "    addHatchBelowThreshold(ax,N_prQ_Q30,40)\n",
    "    plt.savefig(os.path.join(figdir,'%s_%s.pdf'%(varid,dates_label.replace('-','_'))),bbox_inches='tight')\n",
    "    plt.close()\n",
    "\n",
    "## Plot all contributions\n",
    "for varid in varids_to_plot:\n",
    "    if '_var_' in varid:\n",
    "        var = getattr(thismodule,varid)/norm_var_pr_sc_prQ_Q25_Q35*100\n",
    "    elif '_bias_' in varid:\n",
    "        var = getattr(thismodule,varid)/norm_bias_pr_sc_prQ_Q25_Q35*100\n",
    "    # Plot\n",
    "    fig, ax = plt.subplots(ncols=1,nrows=1)\n",
    "    subplotMultiscaleVar(ax,var,time_strides,cmap=plt.cm.Spectral,vmin=-120,vmax=120)\n",
    "    addHatchBelowThreshold(ax,N_prQ_Q30,40)\n",
    "    plt.savefig(os.path.join(figdir,'fraction_%s_%s.pdf'%(varid,dates_label.replace('-','_'))),bbox_inches='tight')\n",
    "    plt.close()\n"
   ]
  },
  {
   "cell_type": "code",
   "execution_count": null,
   "metadata": {
    "collapsed": true,
    "run_control": {
     "frozen": false,
     "read_only": false
    }
   },
   "outputs": [],
   "source": []
  },
  {
   "cell_type": "code",
   "execution_count": 174,
   "metadata": {
    "ExecuteTime": {
     "end_time": "2017-11-21T07:47:16.065686",
     "start_time": "2017-11-21T07:47:16.027296Z"
    },
    "collapsed": false,
    "run_control": {
     "frozen": false,
     "read_only": false
    }
   },
   "outputs": [],
   "source": [
    "## Draw isocontour samplesize = N_ref\n",
    "N_ref = 150\n",
    "x = np.linspace(ax.get_xlim()[0],ax.get_xlim()[1],1)\n",
    "y = N_ref"
   ]
  },
  {
   "cell_type": "code",
   "execution_count": 52,
   "metadata": {
    "ExecuteTime": {
     "end_time": "2017-11-21T18:37:51.460905",
     "start_time": "2017-11-21T18:37:51.035688Z"
    },
    "collapsed": false,
    "run_control": {
     "frozen": false,
     "read_only": false
    }
   },
   "outputs": [
    {
     "data": {
      "image/png": "[encoded data removed]",
      "text/plain": [
       "<matplotlib.figure.Figure at 0x1a24e78c50>"
      ]
     },
     "metadata": {},
     "output_type": "display_data"
    }
   ],
   "source": [
    "var = norm_var_pr_sc_prQ_Q25_Q35\n",
    "fig, ax = plt.subplots(ncols=1,nrows=1)\n",
    "subplotMultiscaleVar(ax,var,time_strides)\n",
    "\n",
    "addHatchBelowThreshold(ax,N_prQ_Q30,40)"
   ]
  }
 ],
 "metadata": {
  "hide_input": false,
  "kernelspec": {
   "display_name": "Python 3",
   "language": "python",
   "name": "python3"
  },
  "language_info": {
   "codemirror_mode": {
    "name": "ipython",
    "version": 3
   },
   "file_extension": ".py",
   "mimetype": "text/x-python",
   "name": "python",
   "nbconvert_exporter": "python",
   "pygments_lexer": "ipython3",
   "version": "3.6.1"
  },
  "latex_envs": {
   "bibliofile": "biblio.bib",
   "cite_by": "apalike",
   "current_citInitial": 1,
   "eqLabelWithNumbers": true,
   "eqNumInitial": 0
  },
  "toc": {
   "toc_cell": true,
   "toc_number_sections": true,
   "toc_threshold": 6,
   "toc_window_display": false
  }
 },
 "nbformat": 4,
 "nbformat_minor": 0
}
