{
 "cells": [
  {
   "cell_type": "markdown",
   "metadata": {
    "toc": "true"
   },
   "source": [
    "# Table of Contents\n",
    " <p><div class=\"lev1\"><a href=\"#Derive-scaling\"><span class=\"toc-item-num\">1&nbsp;&nbsp;</span>Derive scaling</a></div><div class=\"lev2\"><a href=\"#Compute-statistics\"><span class=\"toc-item-num\">1.1&nbsp;&nbsp;</span>Compute statistics</a></div><div class=\"lev3\"><a href=\"#1D-PDFs\"><span class=\"toc-item-num\">1.1.1&nbsp;&nbsp;</span>1D PDFs</a></div><div class=\"lev3\"><a href=\"#Decompose-variance-into-its-contributions-from-qvstar-and-omega\"><span class=\"toc-item-num\">1.1.2&nbsp;&nbsp;</span>Decompose variance into its contributions from qvstar and omega</a></div>"
   ]
  },
  {
   "cell_type": "code",
   "execution_count": 1,
   "metadata": {
    "ExecuteTime": {
     "end_time": "2018-03-26T20:31:50.619539",
     "start_time": "2018-03-26T20:31:48.266596Z"
    },
    "collapsed": true,
    "run_control": {
     "frozen": false,
     "read_only": false
    }
   },
   "outputs": [],
   "source": [
    "%load_ext autoreload\n",
    "%matplotlib inline"
   ]
  },
  {
   "cell_type": "code",
   "execution_count": 2,
   "metadata": {
    "ExecuteTime": {
     "end_time": "2018-03-26T20:31:54.391048",
     "start_time": "2018-03-26T20:31:50.622301Z"
    },
    "collapsed": false,
    "run_control": {
     "frozen": false,
     "read_only": false
    }
   },
   "outputs": [
    {
     "name": "stdout",
     "output_type": "stream",
     "text": [
      "-- loading modules\n",
      "\n",
      "Own modules available: ['CAMsettings', 'daskOptions', 'environmentAndDirectories', 'importingData', 'outputResults', 'physicalConstants', 'plot1DInvLog', 'plot2D', 'plotMaps', 'scalingApproximations', 'slicingAndSubsetting', 'statisticalDistributions', 'thermoConstants', 'thermoFunctions']\n"
     ]
    }
   ],
   "source": [
    "%autoreload 2\n",
    "\n",
    "print(\"-- loading modules\")\n",
    "print()\n",
    "\n",
    "import numpy as np\n",
    "import numpy.ma as ma\n",
    "import dask.array as da\n",
    "import matplotlib\n",
    "# matplotlib.use(\"PDF\")\n",
    "import matplotlib.pyplot as plt\n",
    "import datetime as dt\n",
    "import time\n",
    "import sys,os,glob\n",
    "from mpl_toolkits.basemap import Basemap\n",
    "from matplotlib.colors import LogNorm\n",
    "\n",
    "## Add own library to path\n",
    "workdir = os.getcwd()\n",
    "thismodule = sys.modules[__name__]\n",
    "moduledir = os.path.join(os.path.dirname(workdir),'functions')\n",
    "sys.path.insert(0,moduledir)\n",
    "print(\"Own modules available:\", [os.path.splitext(os.path.basename(x))[0]\n",
    "                                 for x in glob.glob(os.path.join(moduledir,'*.py'))])\n",
    "\n",
    "## Load own libraries\n",
    "from environmentAndDirectories import *\n",
    "from importingData import *\n",
    "from scalingApproximations import *\n",
    "from slicingAndSubsetting import *\n",
    "from thermoConstants import L_v,R_v\n",
    "from plotMaps import *\n",
    "from plot1DInvLog import *\n",
    "from plot2D import *\n",
    "from statisticalDistributions import *\n",
    "from outputResults import *\n",
    "\n",
    "## Graphical parameters\n",
    "plt.style.use(os.path.join(matplotlib.get_configdir(),'stylelib/presentation.mplstyle'))"
   ]
  },
  {
   "cell_type": "code",
   "execution_count": 3,
   "metadata": {
    "ExecuteTime": {
     "end_time": "2018-03-26T20:31:54.454396",
     "start_time": "2018-03-26T20:31:54.394221Z"
    },
    "collapsed": false,
    "run_control": {
     "frozen": false,
     "read_only": false
    }
   },
   "outputs": [
    {
     "name": "stdout",
     "output_type": "stream",
     "text": [
      "-- load environment and variables\n",
      "\n",
      "- load data for the following options:\n",
      "CPU times: user 384 µs, sys: 350 µs, total: 734 µs\n",
      "Wall time: 468 µs\n"
     ]
    }
   ],
   "source": [
    "%%time\n",
    "print(\"-- load environment and variables\")\n",
    "print()\n",
    "\n",
    "omega_id = 'OMEGA'\n",
    "pr_id = 'PRECT'\n",
    "ts_id = 'TS'\n",
    "ta_id = 'T'\n",
    "relhum_id = 'RELHUM'\n",
    "ps_id = 'PS'\n",
    "\n",
    "all_varnames = 'omega','pr','ts','ta','relhum','ps','pres'\n",
    "\n",
    "ref_time_stride = '1h'\n",
    "ref_resolution = '1dx'\n",
    "\n",
    "print(\"- load data for the following options:\")\n",
    "compset = 'FSPCAMm_AMIP'\n",
    "experiment = 'piControl'\n",
    "member = 'r1i1p1'\n",
    "subset = 'tropics'\n",
    "daskarray = False\n",
    "tracktime = True\n",
    "# dates = ('185005010100','185005020000')\n",
    "dates = ('185005010100','185105010000')\n",
    "handle = 'h0'\n",
    "plotAll2dPDFs = True\n",
    "bootstrap = True"
   ]
  },
  {
   "cell_type": "code",
   "execution_count": 4,
   "metadata": {
    "ExecuteTime": {
     "end_time": "2018-03-26T20:31:54.498003",
     "start_time": "2018-03-26T20:31:54.457691Z"
    },
    "collapsed": false,
    "run_control": {
     "frozen": false,
     "read_only": false
    }
   },
   "outputs": [],
   "source": [
    "if tracktime:\n",
    "    t0 = time.time()\n",
    "    t_loops = []"
   ]
  },
  {
   "cell_type": "code",
   "execution_count": 5,
   "metadata": {
    "ExecuteTime": {
     "end_time": "2018-03-26T20:31:56.352346",
     "start_time": "2018-03-26T20:31:54.500838Z"
    },
    "collapsed": false,
    "hide_input": true,
    "run_control": {
     "frozen": false,
     "read_only": false
    },
    "scrolled": true
   },
   "outputs": [
    {
     "name": "stdout",
     "output_type": "stream",
     "text": [
      "compset: FSPCAMm_AMIP\n",
      "experiment: piControl\n",
      "member: r1i1p1\n",
      "subset: tropics\n",
      "ref_time_stride: 1h\n",
      "ref_resolution: 1dx\n",
      "daskarray: False\n",
      "dates: ('185005010100', '185105010000')\n",
      "\n",
      "Importing OMEGA, PRECT, TS, T, RELHUM, PS from 24 history files between 1850-05-01-03600 and 1850-05-02-00000\n",
      "\n",
      "get inputpaths\n",
      "compute pressure levels\n"
     ]
    }
   ],
   "source": [
    "for v in ['compset','experiment','member','subset','ref_time_stride','ref_resolution',\\\n",
    "          'daskarray','dates']:\n",
    "    print(\"%s:\"%v,getattr(thismodule,v))\n",
    "\n",
    "print()\n",
    "omega_init,pr_init,ts_init,ta_init,relhum_init,ps_init = \\\n",
    "    getValues([omega_id,pr_id,ts_id,ta_id,relhum_id,ps_id],\n",
    "              compset,subset,experiment,ref_time_stride,ref_resolution,\n",
    "              daskarray=daskarray,dates=dates,handle=handle)\n",
    "pr_init *= rho_l    # convert from m/s to kg/m2/s\n",
    "\n",
    "print()\n",
    "print(\"get inputpaths\")\n",
    "\n",
    "historyFilesSettings = getCAMHistoryFilesSettings()\n",
    "inputdir, inputdir_processed_day, inputdir_processed_1hr, inputdir_results, inputdir_fx = \\\n",
    "    getInputDirectories(compset,experiment)\n",
    "\n",
    "print(\"compute pressure levels\")\n",
    "    \n",
    "input_lev_file = os.path.join(inputdir_fx,'lev_fx_CESM111-SPCAM20_allExperiments_r0i0p0.nc')\n",
    "computeP = getPressureCoordinateFunction(input_lev_file)\n",
    "pres_init = computeP(ps_init)\n",
    "\n",
    "cn = getArrayType(pres_init)"
   ]
  },
  {
   "cell_type": "code",
   "execution_count": 6,
   "metadata": {
    "ExecuteTime": {
     "end_time": "2018-03-26T20:31:56.403287",
     "start_time": "2018-03-26T20:31:56.355292Z"
    },
    "collapsed": false,
    "hide_input": true,
    "run_control": {
     "frozen": false,
     "read_only": false
    }
   },
   "outputs": [
    {
     "name": "stdout",
     "output_type": "stream",
     "text": [
      "\n",
      "! time spent to load the data: 00:00:01\n"
     ]
    }
   ],
   "source": [
    "if tracktime:\n",
    "    t1 = time.time()\n",
    "    t_loops.append(t1)\n",
    "    print()\n",
    "    print(\"! time spent to load the data:\",time2str(t1-t0))\n"
   ]
  },
  {
   "cell_type": "code",
   "execution_count": 7,
   "metadata": {
    "ExecuteTime": {
     "end_time": "2018-03-26T20:31:56.460224",
     "start_time": "2018-03-26T20:31:56.406376Z"
    },
    "collapsed": false,
    "hide_input": true,
    "run_control": {
     "frozen": false,
     "read_only": false
    }
   },
   "outputs": [
    {
     "name": "stdout",
     "output_type": "stream",
     "text": [
      "\n",
      "-----------------------------------------------------------------\n",
      "!          Start analysis for time_stride 1h                    !\n",
      "!                          and resolution 3dx                   !\n",
      "-----------------------------------------------------------------\n",
      "\n"
     ]
    }
   ],
   "source": [
    "#---- single scale ----#\n",
    "# start comment\n",
    "time_stride = '1h'\n",
    "resolution = '3dx'\n",
    "# stop comment\n",
    "\n",
    "#---- multiple scales ----#\n",
    "# # start uncomment\n",
    "# time_strides = '1h','3h','6h','12h','1d','2d','4d','8d'\n",
    "# resolutions = '1dx','2dx','3dx','4dx','5dx','6dx','7dx','8dx','9dx'\n",
    "# for time_stride in time_strides:\n",
    "#     for resolution in resolutions:\n",
    "# # stop uncomment\n",
    "\n",
    "#++# start indentation for multiple scales\n",
    "\n",
    "print()\n",
    "print(\"-----------------------------------------------------------------\")\n",
    "print(\"!          Start analysis for time_stride {:4}                  !\".format(time_stride))\n",
    "print(\"!                          and resolution {:4}                  !\".format(resolution))\n",
    "print(\"-----------------------------------------------------------------\")\n",
    "print()"
   ]
  },
  {
   "cell_type": "code",
   "execution_count": 8,
   "metadata": {
    "ExecuteTime": {
     "end_time": "2018-03-26T20:31:56.643463",
     "start_time": "2018-03-26T20:31:56.464145Z"
    },
    "collapsed": false,
    "hide_input": true,
    "run_control": {
     "frozen": false,
     "read_only": false
    }
   },
   "outputs": [
    {
     "name": "stdout",
     "output_type": "stream",
     "text": [
      "convert data to target resolutions\n",
      "- omega: 0.02851414680480957 s\n",
      "- pr: 0.001260995864868164 s\n",
      "- ts: 0.0016248226165771484 s\n",
      "- ta: 0.028811931610107422 s\n",
      "- relhum: 0.024110078811645508 s\n",
      "- ps: 0.0012328624725341797 s\n",
      "- pres: 0.01790475845336914 s\n",
      "- all variables: 0.10762810707092285 s\n"
     ]
    }
   ],
   "source": [
    "print(\"convert data to target resolutions\")\n",
    "\n",
    "tc0 = time.time()\n",
    "\n",
    "for varname in all_varnames:\n",
    "    \n",
    "    tc1 = time.time()\n",
    "    setattr(thismodule,varname,\n",
    "            coarsenTimeStride(coarsenResolution(getattr(thismodule,\"%s_init\"%varname),\n",
    "                                                resolution),\n",
    "                              time_stride))\n",
    "    print(\"- %s:\"%varname,time.time()-tc1,'s')\n",
    "print(\"- all variables:\",time.time()-tc0,'s')\n",
    "\n",
    "qvstar = saturationSpecificHumidity(pres=pres,temp=ta)"
   ]
  },
  {
   "cell_type": "code",
   "execution_count": 9,
   "metadata": {
    "ExecuteTime": {
     "end_time": "2018-03-26T20:31:56.689672",
     "start_time": "2018-03-26T20:31:56.646545Z"
    },
    "collapsed": false,
    "hide_input": true,
    "run_control": {
     "frozen": false,
     "read_only": false
    },
    "scrolled": true
   },
   "outputs": [
    {
     "name": "stdout",
     "output_type": "stream",
     "text": [
      "\n",
      "-- define output paths\n",
      "\n",
      "\n"
     ]
    }
   ],
   "source": [
    "print()\n",
    "print(\"-- define output paths\")\n",
    "print()\n",
    "\n",
    "# Figure output directory\n",
    "figdir = os.path.join(os.path.dirname(workdir),'figures','omega500tsps',compset,experiment,member,subset,\\\n",
    "                      time_stride,resolution)\n",
    "os.makedirs(figdir,exist_ok=True)\n",
    "\n",
    "# Results output directory\n",
    "resultdir = os.path.join(os.path.dirname(workdir),'results','omega500tsps',compset,experiment,member,subset,\\\n",
    "                      time_stride,resolution)\n",
    "os.makedirs(resultdir,exist_ok=True)\n",
    "\n",
    "print()"
   ]
  },
  {
   "cell_type": "markdown",
   "metadata": {},
   "source": [
    "# Derive scaling"
   ]
  },
  {
   "cell_type": "code",
   "execution_count": 10,
   "metadata": {
    "ExecuteTime": {
     "end_time": "2018-03-26T20:31:56.734696",
     "start_time": "2018-03-26T20:31:56.692295Z"
    },
    "collapsed": false,
    "run_control": {
     "frozen": false,
     "read_only": false
    }
   },
   "outputs": [
    {
     "name": "stdout",
     "output_type": "stream",
     "text": [
      "\n",
      "-- compute (percentile-wise and pointwise) scaling approximation\n",
      "\n"
     ]
    }
   ],
   "source": [
    "print()\n",
    "print(\"-- compute (percentile-wise and pointwise) scaling approximation\")\n",
    "print()"
   ]
  },
  {
   "cell_type": "code",
   "execution_count": 11,
   "metadata": {
    "ExecuteTime": {
     "end_time": "2018-03-26T20:31:56.821155",
     "start_time": "2018-03-26T20:31:56.738051Z"
    },
    "collapsed": false,
    "run_control": {
     "frozen": false,
     "read_only": false
    },
    "scrolled": false
   },
   "outputs": [
    {
     "name": "stdout",
     "output_type": "stream",
     "text": [
      "Compute ranks and ranks locations\n",
      "0.0000 20.5672 36.9043 49.8813 60.1893 68.3772 74.8811 80.0474 84.1511 87.4107 90.0000 92.0567 93.6904 94.9881 96.0189 96.8377 97.4881 98.0047 98.4151 98.7411 99.0000 99.2057 99.3690 99.4988 99.6019 99.6838 99.7488 99.8005 99.8415 99.8741 99.9000 99.9206 99.9369 99.9499 99.9602 99.9684 99.9749 99.9800 99.9842 99.9874 99.9900 \n",
      "CPU times: user 16.5 ms, sys: 6.83 ms, total: 23.3 ms\n",
      "Wall time: 23 ms\n"
     ]
    }
   ],
   "source": [
    "%%time\n",
    "print(\"Compute ranks and ranks locations\")\n",
    "\n",
    "n_pts = pr.size\n",
    "Q_IL = getInvLogRanks(n_pts,n_pts_per_bin=1,fill_last_decade=True)\n",
    "i_Q = indexOfRank(99.9,Q_IL)\n",
    "iQ_slice = slice(i_Q-5,i_Q+5)\n",
    "ranks, centers, bins = computePercentilesAndBinsFromRanks(pr.flatten(),Q_IL)\n",
    "iQ_min = 8\n",
    "iQ_max = min(len(Q_IL),41)\n",
    "# iQ_max = min(len(Q_IL),iQ_slice.stop)\n",
    "\n",
    "# Define reference percentiles and compute percentiles\n",
    "targetranks = Q_IL[iQ_min:iQ_max]\n",
    "ranks_ref = Q_IL[:iQ_max]\n",
    "percentiles = adjustRanks(centers,ranks,ranks_ref)\n",
    "\n",
    "# Suffix to save figures and results\n",
    "output_suffix = 'Q%d-Q%d_%s'%(iQ_min,iQ_max,'-'.join(dates))\n",
    "\n",
    "rank_locations= {}\n",
    "for rank in ranks_ref:\n",
    "    rank_id  = \"%2.4f\"%rank\n",
    "    print(rank_id,end=' ')\n",
    "    rank_locations[rank_id] = getRankLocations(rank,pr,ranks,bins,rank_locations)\n",
    "print()"
   ]
  },
  {
   "cell_type": "code",
   "execution_count": 12,
   "metadata": {
    "ExecuteTime": {
     "end_time": "2018-03-26T20:31:56.866614",
     "start_time": "2018-03-26T20:31:56.823667Z"
    },
    "collapsed": false,
    "run_control": {
     "frozen": false,
     "read_only": false
    }
   },
   "outputs": [
    {
     "name": "stdout",
     "output_type": "stream",
     "text": [
      "compute sample size in each bin\n",
      "2553.0 11520\n"
     ]
    }
   ],
   "source": [
    "print(\"compute sample size in each bin\")\n",
    "N_prQ = sampleSizeAtAllRanks(targetranks,pr,ranks_ref,rank_locations=rank_locations)\n",
    "print(np.nansum(N_prQ),pr.size)"
   ]
  },
  {
   "cell_type": "code",
   "execution_count": 13,
   "metadata": {
    "ExecuteTime": {
     "end_time": "2018-03-26T20:31:57.698179",
     "start_time": "2018-03-26T20:31:56.869543Z"
    },
    "collapsed": false,
    "run_control": {
     "frozen": false,
     "read_only": false
    },
    "scrolled": false
   },
   "outputs": [
    {
     "name": "stdout",
     "output_type": "stream",
     "text": [
      "compute O'Gorman&Schneider scaling with environmental temperature profile\n",
      "eps_OGS09 = 1.05358854943\n",
      "CPU times: user 660 ms, sys: 118 ms, total: 779 ms\n",
      "Wall time: 787 ms\n"
     ]
    }
   ],
   "source": [
    "%%time\n",
    "print(\"compute O'Gorman&Schneider scaling with environmental temperature profile\")\n",
    "eps_OGS09, pr_scOGS09_vQ = computeScalingOGS09AtAllRanks(targetranks,omega,ta,pres,pr,\n",
    "    ranks_ref=ranks_ref[iQ_slice],percentiles_ref=percentiles[iQ_slice],bins=bins,\n",
    "                                                         rank_locations=rank_locations)\n",
    "pr_scOGS09_vQ = adjustRanks(pr_scOGS09_vQ,targetranks,ranks_ref)\n",
    "pr_scOGS09 = scalingOGS09(omega,ta,pres,efficiency=eps_OGS09,levdim=1)\n",
    "print(\"eps_OGS09 =\",eps_OGS09)"
   ]
  },
  {
   "cell_type": "code",
   "execution_count": 14,
   "metadata": {
    "ExecuteTime": {
     "end_time": "2018-03-26T20:31:58.768535",
     "start_time": "2018-03-26T20:31:57.700651Z"
    },
    "collapsed": false,
    "run_control": {
     "frozen": false,
     "read_only": false
    },
    "scrolled": false
   },
   "outputs": [
    {
     "name": "stdout",
     "output_type": "stream",
     "text": [
      "compute O'Gorman&Schneider scaling with moist adiabat\n",
      "eps_OGS09ad = 1.09914327972\n",
      "CPU times: user 880 ms, sys: 81.5 ms, total: 961 ms\n",
      "Wall time: 1.03 s\n"
     ]
    }
   ],
   "source": [
    "%%time\n",
    "print(\"compute O'Gorman&Schneider scaling with moist adiabat\")\n",
    "# Get temperature values at lowest level\n",
    "levdim = 1\n",
    "nlev = pres.shape[levdim]\n",
    "i_bottom = bottomIndex(np.moveaxis(pres,levdim,-1).ravel()[-nlev:])\n",
    "ta_bottom = np.take(ta,axis=levdim,indices=i_bottom)\n",
    "# Compute scaling\n",
    "eps_OGS09ad, pr_scOGS09ad_vQ = computeScalingOGS09AtAllRanks(targetranks,omega,ta_bottom,pres,pr,\n",
    "    temp_type='adiabat',relhum=relhum,ranks_ref=ranks_ref[iQ_slice],percentiles_ref=percentiles[iQ_slice],bins=bins,\n",
    "                                                         rank_locations=rank_locations)\n",
    "pr_scOGS09ad_vQ = adjustRanks(pr_scOGS09ad_vQ,targetranks,ranks_ref)\n",
    "pr_scOGS09ad = scalingOGS09(omega,ta_bottom,pres,temp_type='adiabat',relhum=relhum,efficiency=eps_OGS09ad,levdim=1)\n",
    "print(\"eps_OGS09ad =\",eps_OGS09ad)"
   ]
  },
  {
   "cell_type": "markdown",
   "metadata": {},
   "source": [
    "## Compute statistics"
   ]
  },
  {
   "cell_type": "markdown",
   "metadata": {},
   "source": [
    "### 1D PDFs"
   ]
  },
  {
   "cell_type": "code",
   "execution_count": 15,
   "metadata": {
    "ExecuteTime": {
     "end_time": "2018-03-26T20:32:30.651655",
     "start_time": "2018-03-26T20:32:30.613508Z"
    },
    "collapsed": false,
    "run_control": {
     "frozen": false,
     "read_only": false
    },
    "scrolled": false
   },
   "outputs": [
    {
     "name": "stdout",
     "output_type": "stream",
     "text": [
      "\n",
      "-- compute statistics\n",
      "\n"
     ]
    }
   ],
   "source": [
    "print()\n",
    "print(\"-- compute statistics\")\n",
    "print()"
   ]
  },
  {
   "cell_type": "code",
   "execution_count": 16,
   "metadata": {
    "ExecuteTime": {
     "end_time": "2018-03-26T20:32:30.982480",
     "start_time": "2018-03-26T20:32:30.936915Z"
    },
    "collapsed": false,
    "run_control": {
     "frozen": false,
     "read_only": false
    },
    "scrolled": false
   },
   "outputs": [
    {
     "name": "stdout",
     "output_type": "stream",
     "text": [
      "mean of scalings in pr bins\n"
     ]
    }
   ],
   "source": [
    "# %%time\n",
    "print(\"mean of scalings in pr bins\")\n",
    "pr_scOGS09_prQ = meanXAtAllYRanks(targetranks,pr_scOGS09,pr,ranks_ref,rank_locations=rank_locations)\n",
    "pr_scOGS09ad_prQ = meanXAtAllYRanks(targetranks,pr_scOGS09ad,pr,ranks_ref,rank_locations=rank_locations)"
   ]
  },
  {
   "cell_type": "code",
   "execution_count": 17,
   "metadata": {
    "ExecuteTime": {
     "end_time": "2018-03-26T20:32:31.410807",
     "start_time": "2018-03-26T20:32:31.356988Z"
    },
    "code_folding": [],
    "collapsed": false,
    "hide_input": false,
    "run_control": {
     "frozen": false,
     "read_only": false
    }
   },
   "outputs": [
    {
     "name": "stdout",
     "output_type": "stream",
     "text": [
      "interquartile and 90% ranges\n",
      "CPU times: user 18.7 ms, sys: 1.16 ms, total: 19.8 ms\n",
      "Wall time: 19.9 ms\n"
     ]
    }
   ],
   "source": [
    "%%time\n",
    "print(\"interquartile and 90% ranges\")\n",
    "ranks_I90 = (5,95)\n",
    "ranks_IQR = (25,75)\n",
    "\n",
    "pr_scOGS09_I90 = XPercentilesAtAllYRanks(targetranks,pr_scOGS09,ranks_I90,pr,ranks_ref,rank_locations_X=rank_locations)\n",
    "pr_scOGS09_IQR = XPercentilesAtAllYRanks(targetranks,pr_scOGS09,ranks_IQR,pr,ranks_ref,rank_locations_X=rank_locations)\n",
    "\n",
    "pr_scOGS09ad_I90 = XPercentilesAtAllYRanks(targetranks,pr_scOGS09ad,ranks_I90,pr,ranks_ref,rank_locations_X=rank_locations)\n",
    "pr_scOGS09ad_IQR = XPercentilesAtAllYRanks(targetranks,pr_scOGS09ad,ranks_IQR,pr,ranks_ref,rank_locations_X=rank_locations)\n"
   ]
  },
  {
   "cell_type": "markdown",
   "metadata": {},
   "source": [
    "### Decompose variance into its contributions from qvstar and omega"
   ]
  },
  {
   "cell_type": "code",
   "execution_count": 18,
   "metadata": {
    "ExecuteTime": {
     "end_time": "2018-03-26T20:59:32.416414",
     "start_time": "2018-03-26T20:59:32.111835Z"
    },
    "collapsed": false,
    "run_control": {
     "frozen": false,
     "read_only": false
    },
    "scrolled": true
   },
   "outputs": [
    {
     "name": "stdout",
     "output_type": "stream",
     "text": [
      "\n",
      "-- decompose variance into qvstar and omega contributions\n",
      "\n"
     ]
    }
   ],
   "source": [
    "print()\n",
    "print(\"-- decompose variance into qvstar and omega contributions\")\n",
    "print()"
   ]
  },
  {
   "cell_type": "code",
   "execution_count": 19,
   "metadata": {
    "ExecuteTime": {
     "end_time": "2018-03-26T20:59:34.750796",
     "start_time": "2018-03-26T20:59:33.625501Z"
    },
    "collapsed": false,
    "hide_input": false,
    "run_control": {
     "frozen": false,
     "read_only": false
    },
    "scrolled": true
   },
   "outputs": [
    {
     "name": "stdout",
     "output_type": "stream",
     "text": [
      "Compute the variance in pr\n",
      "CPU times: user 1.05 s, sys: 8.85 ms, total: 1.06 s\n",
      "Wall time: 1.07 s\n"
     ]
    }
   ],
   "source": [
    "%%time \n",
    "print(\"Compute the variance in pr\")\n",
    "scaling_names = 'scOGS09','scOGS09ad'\n",
    "\n",
    "Ntimes = 100 if bootstrap else 1\n",
    "fsub = 0.5 if bootstrap else 1\n",
    "\n",
    "for sc_name in scaling_names:\n",
    "\n",
    "    # compute variance from full sample\n",
    "    pr_values = getattr(thismodule,'pr_%s'%sc_name)\n",
    "    var_pr = varXAtAllYRanks(targetranks,pr_values,\n",
    "                            pr,ranks_ref,rank_locations=rank_locations)\n",
    "    setattr(thismodule,'var_pr_%s_prQ'%sc_name,var_pr)\n",
    "    \n",
    "    # bootstrapping\n",
    "    all_var_pr = np.empty((Ntimes,var_pr.size))\n",
    "    for i in range(Ntimes):\n",
    "        all_var_pr[i,:] = varXAtAllYRanks(targetranks,pr_values,\n",
    "                            pr,ranks_ref,rank_locations=rank_locations,random_fraction=fsub)\n",
    "    if bootstrap:\n",
    "        setattr(thismodule,'var_pr_%s_I25_prQ'%sc_name,all_var_pr[0])\n",
    "        setattr(thismodule,'var_pr_%s_I75_prQ'%sc_name,all_var_pr[1])"
   ]
  },
  {
   "cell_type": "code",
   "execution_count": 20,
   "metadata": {
    "ExecuteTime": {
     "end_time": "2018-03-26T20:59:34.801775",
     "start_time": "2018-03-26T20:59:34.752923Z"
    },
    "collapsed": false,
    "hide_input": false,
    "run_control": {
     "frozen": false,
     "read_only": false
    },
    "scrolled": false
   },
   "outputs": [
    {
     "name": "stdout",
     "output_type": "stream",
     "text": [
      "normalized variability\n",
      "scaling scOGS09 : 0.01028\t (0.01098,0.00627)\n",
      "scaling scOGS09ad : 0.01949\t (0.01197,0.00731)\n"
     ]
    }
   ],
   "source": [
    "print(\"normalized variability\")\n",
    "for sc_name in scaling_names:\n",
    "    norm_var_pr = getattr(thismodule,'var_pr_%s_prQ'%sc_name)/getattr(thismodule,'pr_%s_prQ'%sc_name)**2\n",
    "    setattr(thismodule,'norm_var_pr_%s_prQ'%sc_name,norm_var_pr)\n",
    "    if bootstrap:\n",
    "        for int_bnd in 'I25','I75':\n",
    "            norm_var_pr_Ibnd = getattr(thismodule,'var_pr_%s_%s_prQ'%(sc_name,int_bnd))/\\\n",
    "                getattr(thismodule,'pr_%s_prQ'%sc_name)**2\n",
    "            setattr(thismodule,'norm_var_pr_%s_%s_prQ'%(sc_name,int_bnd),norm_var_pr_Ibnd)\n",
    "            # for printing only:\n",
    "            setattr(thismodule,'norm_var_pr_%s'%int_bnd,norm_var_pr_Ibnd)\n",
    "    \n",
    "    print(\"scaling %s : %1.5f\"%(sc_name,np.nanmean(norm_var_pr[iQ_slice])),end='')\n",
    "    if bootstrap:\n",
    "        print(\"\\t (%1.5f,%1.5f)\"%(np.nanmean(norm_var_pr_I25[iQ_slice]),\n",
    "                                  np.nanmean(norm_var_pr_I75[iQ_slice])))\n",
    "    else:\n",
    "        print()"
   ]
  },
  {
   "cell_type": "code",
   "execution_count": 121,
   "metadata": {
    "ExecuteTime": {
     "end_time": "2018-03-27T00:18:31.812773",
     "start_time": "2018-03-27T00:18:31.167489Z"
    },
    "collapsed": false,
    "scrolled": false
   },
   "outputs": [
    {
     "name": "stdout",
     "output_type": "stream",
     "text": [
      "\n",
      "- Compute EOF decomposition and contribution terms -\n",
      "\n"
     ]
    }
   ],
   "source": [
    "print()\n",
    "print(\"- Compute EOF decomposition and contribution terms -\")\n",
    "print()\n",
    "\n",
    "def contributionsVarianceProduct(X,Y):\n",
    "    \n",
    "    \"\"\"X and Y are 1d arrays.\"\"\"\n",
    "    var_x = np.nanvar(X)\n",
    "    var_y = np.nanvar(Y)\n",
    "    cov_term = np.nanmean((X**2-np.nanmean((X**2)))*(Y**2-np.nanmean(Y**2))) - \\\n",
    "        2*np.nanmean(X)*np.nanmean(Y)*np.nanmean((X-np.nanmean(X))*(Y-np.nanmean(Y)))\n",
    "\n",
    "    return var_x,var_y,cov_term\n",
    "\n",
    "def getEOFmodes(A,n_max = None,threshold=0.95):\n",
    "    \n",
    "    \"\"\"levdim is 0\"\"\"\n",
    "    \n",
    "    U,S,Vh = np.linalg.svd(A.T)\n",
    "    if n_max is None:\n",
    "        n_max = np.argmax(np.cumsum((S**2)/(S**2).sum())>threshold)+1\n",
    "    phi = np.nan*np.empty((n_max,Vh.shape[1]))\n",
    "    lambdas = np.nan*np.empty((n_max,))\n",
    "    coefs = np.nan*np.empty((n_max,U.shape[0]))\n",
    "    for i in range(min(n_max,len(S))):\n",
    "        phi[i] = Vh[i,:]\n",
    "        lambdas[i] = S[i]\n",
    "        coefs[i] = S[i]*U[:,i]\n",
    "    lambda_2_sum = (S**2).sum()\n",
    "    return np.array(coefs),np.array(lambdas),np.array(phi),lambda_2_sum\n",
    "\n",
    "def computeGramMatrixOfModes(qvstar_modes,omega_modes,pres,levdim=0):\n",
    "    \n",
    "    NX,NY = qvstar_modes.shape[0], omega_modes.shape[0]\n",
    "    \n",
    "    gram = np.empty((NX,NY))\n",
    "    for i in range(NX):\n",
    "        for j in range(NY):\n",
    "            \n",
    "            omega_mode_mid = np.apply_along_axis(arr=omega_modes[j],axis=levdim,\n",
    "                                             func1d=(lambda x:np.convolve(x,(0.5,0.5),mode='valid')))\n",
    "            q_mode_diff = np.diff(qvstar_modes[i],axis=levdim)\n",
    "            gram[i,j] = np.sum(omega_mode_mid*q_mode_diff)/gg\n",
    "            \n",
    "    return gram\n",
    "\n",
    "n_max_qvstar = 3\n",
    "n_max_omega = 4\n",
    "n_modes = n_max_qvstar*n_max_omega\n",
    "contribQOmega_varOGS09_varQ = np.nan*np.empty((n_modes,len(ranks_ref)))\n",
    "contribQOmega_varOGS09_varOmega = np.nan*np.empty((n_modes,len(ranks_ref)))\n",
    "contribQOmega_varOGS09_covQOmega = np.nan*np.empty((n_modes,len(ranks_ref)))\n",
    "\n",
    "for rank in targetranks:\n",
    "    \n",
    "    rankid = rankID(rank)\n",
    "\n",
    "    #- Get profiles and fluctuations at given percentile\n",
    "    stencil_Q = rank_locations[rankid]\n",
    "    if stencil_Q.sum() == 0:\n",
    "        continue\n",
    "    omega_prof_Q = sampleFlattened(omega,stencil_Q)\n",
    "    qvstar_prof_Q = sampleFlattened(qvstar,stencil_Q)\n",
    "    pres_Q = sampleFlattened(pres,stencil_Q)\n",
    "    m_omega_prof_Q = np.mean(omega_prof_Q,axis=1)\n",
    "    m_qvstar_prof_Q = np.mean(qvstar_prof_Q,axis=1)\n",
    "    m_pres = np.mean(pres_Q,axis=1)\n",
    "    prime_omega_prof_Q = np.apply_along_axis(lambda x: x-m_omega_prof_Q,axis=0,arr=omega_prof_Q)\n",
    "    prime_qvstar_prof_Q = np.apply_along_axis(lambda x: x-m_qvstar_prof_Q,axis=0,arr=qvstar_prof_Q)\n",
    "\n",
    "    #- EOF decomposition\n",
    "    c_qvstar, lambda_qvstar, phi_qvstar,lambda_2_sum_qvstar = getEOFmodes(prime_qvstar_prof_Q,n_max=n_max_qvstar)\n",
    "    c_omega, lambda_omega, phi_omega, lambda_2_sum_omega = getEOFmodes(prime_omega_prof_Q,n_max=n_max_omega)\n",
    "\n",
    "    #- Gram matrix of modes (vertical scaling on each pair of modes)\n",
    "    # first dimension are thermodynamic modes, second are dynamic\n",
    "    beta_Q = computeGramMatrixOfModes(phi_qvstar,phi_omega,m_pres)\n",
    "    omega_mid = np.apply_along_axis(arr=omega_prof_Q,axis=0,\n",
    "                                func1d=(lambda x:np.convolve(x,(0.5,0.5),mode='valid')))\n",
    "    qvstar_diff = np.diff(qvstar_prof_Q,axis=0)\n",
    "    beta_0 = np.sum(omega_mid*qvstar_diff)/gg\n",
    "\n",
    "    #- Compute all contribution terms - store as a new dimension in an array of size dim(beta),#contribs\n",
    "    contribs = np.empty(beta_Q.shape+(3,))\n",
    "    for i,j in np.ndindex(*(beta_Q.shape)):\n",
    "        contribs[i,j,:] = (beta_Q[i,j]/beta_0)**2*np.array(contributionsVarianceProduct(c_qvstar[i,:]*lambda_qvstar[i],\n",
    "                                                                               c_omega[i,:]*lambda_omega[i]))\n",
    "    contribs_prQ = np.vstack(list(contribs))\n",
    "    \n",
    "    #- Store results in array\n",
    "    iQ = indexOfRank(rank,ranks_ref)\n",
    "    contribQOmega_varOGS09_varQ[:,iQ] = contribs_prQ[:,0]\n",
    "    contribQOmega_varOGS09_varOmega[:,iQ] = contribs_prQ[:,1]\n",
    "    contribQOmega_varOGS09_covQOmega[:,iQ] = contribs_prQ[:,2]"
   ]
  },
  {
   "cell_type": "code",
   "execution_count": null,
   "metadata": {
    "collapsed": true
   },
   "outputs": [],
   "source": []
  }
 ],
 "metadata": {
  "hide_input": false,
  "kernelspec": {
   "display_name": "Python 3",
   "language": "python",
   "name": "python3"
  },
  "language_info": {
   "codemirror_mode": {
    "name": "ipython",
    "version": 3
   },
   "file_extension": ".py",
   "mimetype": "text/x-python",
   "name": "python",
   "nbconvert_exporter": "python",
   "pygments_lexer": "ipython3",
   "version": "3.6.1"
  },
  "latex_envs": {
   "bibliofile": "biblio.bib",
   "cite_by": "apalike",
   "current_citInitial": 1,
   "eqLabelWithNumbers": true,
   "eqNumInitial": 0
  },
  "toc": {
   "toc_cell": true,
   "toc_number_sections": true,
   "toc_threshold": 6,
   "toc_window_display": false
  }
 },
 "nbformat": 4,
 "nbformat_minor": 0
}
