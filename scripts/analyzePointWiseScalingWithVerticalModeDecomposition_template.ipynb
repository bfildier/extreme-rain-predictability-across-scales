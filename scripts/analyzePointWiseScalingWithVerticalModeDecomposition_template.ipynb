{
 "cells": [
  {
   "cell_type": "markdown",
   "metadata": {
    "toc": "true"
   },
   "source": [
    "# Table of Contents\n",
    " <p><div class=\"lev2\"><a href=\"#EOF-decomposition\"><span class=\"toc-item-num\">0.1&nbsp;&nbsp;</span>EOF decomposition</a></div>"
   ]
  },
  {
   "cell_type": "code",
   "execution_count": 4,
   "metadata": {
    "ExecuteTime": {
     "end_time": "2017-12-01T23:19:23.108440",
     "start_time": "2017-12-01T23:19:22.830121Z"
    },
    "collapsed": true,
    "run_control": {
     "frozen": false,
     "read_only": false
    }
   },
   "outputs": [],
   "source": [
    "%load_ext autoreload\n",
    "%matplotlib inline"
   ]
  },
  {
   "cell_type": "code",
   "execution_count": 5,
   "metadata": {
    "ExecuteTime": {
     "end_time": "2017-12-01T23:19:23.342867",
     "start_time": "2017-12-01T23:19:23.310596Z"
    },
    "collapsed": false,
    "run_control": {
     "frozen": false,
     "read_only": false
    }
   },
   "outputs": [
    {
     "name": "stdout",
     "output_type": "stream",
     "text": [
      "-- loading modules\n",
      "\n",
      "Own modules available: ['CAMsettings', 'daskOptions', 'environmentAndDirectories', 'importingData', 'outputResults', 'physicalConstants', 'plot1DInvLog', 'plot2D', 'plotMaps', 'scalingApproximations', 'slicingAndSubsetting', 'statisticalDistributions', 'thermoConstants', 'thermoFunctions']\n"
     ]
    }
   ],
   "source": [
    "%autoreload 2\n",
    "\n",
    "print(\"-- loading modules\")\n",
    "print()\n",
    "\n",
    "import numpy as np\n",
    "import numpy.ma as ma\n",
    "import dask.array as da\n",
    "import matplotlib\n",
    "# matplotlib.use(\"PDF\")\n",
    "import matplotlib.pyplot as plt\n",
    "import datetime as dt\n",
    "import time\n",
    "import sys,os,glob\n",
    "from mpl_toolkits.basemap import Basemap\n",
    "from matplotlib.colors import LogNorm\n",
    "from statsmodels.multivariate.pca import PCA\n",
    "\n",
    "## Add own library to path\n",
    "workdir = os.getcwd()\n",
    "thismodule = sys.modules[__name__]\n",
    "moduledir = os.path.join(os.path.dirname(workdir),'functions')\n",
    "sys.path.insert(0,moduledir)\n",
    "print(\"Own modules available:\", [os.path.splitext(os.path.basename(x))[0]\n",
    "                                 for x in glob.glob(os.path.join(moduledir,'*.py'))])\n",
    "\n",
    "## Load own libraries\n",
    "from environmentAndDirectories import *\n",
    "from importingData import *\n",
    "from scalingApproximations import *\n",
    "from slicingAndSubsetting import *\n",
    "from thermoConstants import L_v,R_v\n",
    "from plotMaps import *\n",
    "from plot1DInvLog import *\n",
    "from plot2D import *\n",
    "from statisticalDistributions import *\n",
    "from outputResults import *\n",
    "\n",
    "## Graphical parameters\n",
    "plt.style.use(os.path.join(matplotlib.get_configdir(),'stylelib/presentation.mplstyle'))"
   ]
  },
  {
   "cell_type": "code",
   "execution_count": 7,
   "metadata": {
    "ExecuteTime": {
     "end_time": "2017-12-01T23:20:05.845787",
     "start_time": "2017-12-01T23:20:05.791547Z"
    },
    "collapsed": false,
    "run_control": {
     "frozen": false,
     "read_only": false
    },
    "scrolled": true
   },
   "outputs": [
    {
     "name": "stdout",
     "output_type": "stream",
     "text": [
      "\n",
      "-- define global variables\n",
      "\n",
      "- choosing options:\n",
      "compset: FSPCAMm_AMIP\n",
      "experiment: piControl\n",
      "member: r1i1p1\n",
      "subset: tropics\n",
      "time_stride: 1d\n",
      "resolution: 1dx\n",
      "daskarray: False\n",
      "dates: ('185005010100', '185005020000')\n",
      "\n"
     ]
    }
   ],
   "source": [
    "print()\n",
    "print(\"-- define global variables\")\n",
    "print()\n",
    "\n",
    "print(\"- choosing options:\")\n",
    "compset = 'FSPCAMm_AMIP'\n",
    "experiment = 'piControl'\n",
    "member = 'r1i1p1'\n",
    "subset = 'tropics'\n",
    "time_stride = '1d'\n",
    "resolution = '1dx'\n",
    "daskarray = False\n",
    "tracktime = True\n",
    "dates = ('185005010100','185005020000')\n",
    "\n",
    "for v in ['compset','experiment','member','subset','time_stride','resolution',\\\n",
    "          'daskarray','dates']:\n",
    "    print(\"%s:\"%v,getattr(thismodule,v))\n",
    "\n",
    "# Figure output directory\n",
    "figdir = os.path.join(os.path.dirname(workdir),'figures','omega500tsps',compset,experiment,member,subset,\\\n",
    "                      time_stride,resolution)\n",
    "os.makedirs(figdir,exist_ok=True)\n",
    "\n",
    "# Results output directory\n",
    "resultdir = os.path.join(os.path.dirname(workdir),'results','omega500tsps',compset,experiment,member,subset,\\\n",
    "                      time_stride,resolution)\n",
    "os.makedirs(resultdir,exist_ok=True)\n",
    "\n",
    "print()"
   ]
  },
  {
   "cell_type": "code",
   "execution_count": 8,
   "metadata": {
    "ExecuteTime": {
     "end_time": "2017-12-01T23:21:32.498040",
     "start_time": "2017-12-01T23:21:32.463674Z"
    },
    "collapsed": true,
    "run_control": {
     "frozen": false,
     "read_only": false
    }
   },
   "outputs": [],
   "source": [
    "if tracktime:\n",
    "    t0 = time.time()"
   ]
  },
  {
   "cell_type": "code",
   "execution_count": 9,
   "metadata": {
    "ExecuteTime": {
     "end_time": "2017-12-01T23:21:59.174395",
     "start_time": "2017-12-01T23:21:57.415859Z"
    },
    "collapsed": false,
    "run_control": {
     "frozen": false,
     "read_only": false
    }
   },
   "outputs": [
    {
     "name": "stdout",
     "output_type": "stream",
     "text": [
      "-- load environment and variables\n",
      "\n",
      "Importing OMEGA, PRECT, TS, T, RELHUM, PS from 24 history files between 1850-05-01-03600 and 1850-05-02-00000\n",
      "CPU times: user 499 ms, sys: 324 ms, total: 823 ms\n",
      "Wall time: 1.71 s\n"
     ]
    }
   ],
   "source": [
    "%%time\n",
    "print(\"-- load environment and variables\")\n",
    "print()\n",
    "\n",
    "historyFilesSettings = getCAMHistoryFilesSettings()\n",
    "handle = 'h0'\n",
    "inputdir, inputdir_processed_day, inputdir_processed_1hr, inputdir_results, inputdir_fx = \\\n",
    "    getInputDirectories(compset,experiment)\n",
    "\n",
    "omega_id = 'OMEGA'\n",
    "pr_id = 'PRECT'\n",
    "ts_id = 'TS'\n",
    "ta_id = 'T'\n",
    "relhum_id = 'RELHUM'\n",
    "ps_id = 'PS'\n",
    "\n",
    "omega,pr,ts,ta,relhum,ps = getValues([omega_id,pr_id,ts_id,ta_id,relhum_id,ps_id],\n",
    "                                  compset,subset,experiment,time_stride,resolution,daskarray=daskarray,dates=dates,handle=handle)\n",
    "pr *= rho_l    # convert from m/s to kg/m2/s"
   ]
  },
  {
   "cell_type": "code",
   "execution_count": 10,
   "metadata": {
    "ExecuteTime": {
     "end_time": "2017-12-01T23:22:00.510092",
     "start_time": "2017-12-01T23:22:00.461766Z"
    },
    "collapsed": false,
    "run_control": {
     "frozen": false,
     "read_only": false
    },
    "scrolled": true
   },
   "outputs": [
    {
     "name": "stdout",
     "output_type": "stream",
     "text": [
      "- compute pressure levels\n"
     ]
    }
   ],
   "source": [
    "print(\"- compute pressure levels\")\n",
    "\n",
    "input_lev_file = os.path.join(inputdir_fx,'lev_fx_CESM111-SPCAM20_allExperiments_r0i0p0.nc')\n",
    "computeP = getPressureCoordinateFunction(input_lev_file)\n",
    "pres = computeP(ps)\n",
    "\n",
    "cn = getArrayType(pres)"
   ]
  },
  {
   "cell_type": "markdown",
   "metadata": {},
   "source": [
    "## EOF decomposition"
   ]
  },
  {
   "cell_type": "code",
   "execution_count": 91,
   "metadata": {
    "ExecuteTime": {
     "end_time": "2017-12-02T01:58:13.273498",
     "start_time": "2017-12-02T01:58:13.213228Z"
    },
    "collapsed": true
   },
   "outputs": [],
   "source": [
    "# Compute qvstar\n",
    "qvstar = saturationSpecificHumidity(temp=ta,pres=pres)"
   ]
  },
  {
   "cell_type": "code",
   "execution_count": 117,
   "metadata": {
    "ExecuteTime": {
     "end_time": "2017-12-02T02:28:46.044730",
     "start_time": "2017-12-02T02:28:45.847705Z"
    },
    "collapsed": false
   },
   "outputs": [
    {
     "data": {
      "image/png": "[encoded data removed]",
      "text/plain": [
       "<matplotlib.figure.Figure at 0x1a150781d0>"
      ]
     },
     "metadata": {},
     "output_type": "display_data"
    }
   ],
   "source": [
    "# Domain mean vertical velocity\n",
    "omega_mean = np.mean(omega,axis=(0,2,3))\n",
    "qvstar_mean = np.mean(qvstar,axis=(0,2,3))\n",
    "pres_mean = np.mean(pres,axis=(0,2,3))\n",
    "fig,ax = plt.subplots()\n",
    "plt.plot(omega_mean,pres_mean)\n",
    "ax.invert_yaxis()"
   ]
  },
  {
   "cell_type": "code",
   "execution_count": 120,
   "metadata": {
    "ExecuteTime": {
     "end_time": "2017-12-02T02:32:11.336950",
     "start_time": "2017-12-02T02:32:11.264942Z"
    },
    "collapsed": false
   },
   "outputs": [
    {
     "name": "stdout",
     "output_type": "stream",
     "text": [
      "(4608,) (4608, 30) (4608, 30)\n",
      "data shape:  (4608, 60)\n"
     ]
    }
   ],
   "source": [
    "levdim=1\n",
    "nlev = pres.shape[levdim]\n",
    "pr_for_pca = pr.flatten()\n",
    "omega_for_pca = np.moveaxis(omega,levdim,-1).reshape((-1,nlev))\n",
    "omega_for_pca = omega_for_pca - np.vstack([omega_mean]*omega_for_pca.shape[0])\n",
    "qvstar_for_pca = np.moveaxis(qvstar,levdim,-1).reshape((-1,nlev))\n",
    "qvstar_for_pca = qvstar_for_pca - np.vstack([qvstar_mean]*qvstar_for_pca.shape[0])\n",
    "print(pr_for_pca.shape,omega_for_pca.shape,qvstar_for_pca.shape)\n",
    "# x = np.concatenate([pr_for_pca.reshape((-1,1)),\n",
    "#                     omega_for_pca,\n",
    "#                     qvstar_for_pca],axis=1)\n",
    "x = np.concatenate([omega_for_pca,\n",
    "                    qvstar_for_pca],axis=1)\n",
    "print(\"data shape: \",x.shape)"
   ]
  },
  {
   "cell_type": "code",
   "execution_count": 124,
   "metadata": {
    "ExecuteTime": {
     "end_time": "2017-12-02T02:33:37.017567",
     "start_time": "2017-12-02T02:33:35.469267Z"
    },
    "collapsed": false
   },
   "outputs": [
    {
     "name": "stdout",
     "output_type": "stream",
     "text": [
      "(4608, 30) (4608, 60) (4608,)\n"
     ]
    }
   ],
   "source": [
    "# weights_for_pcs = np.vstack([pr.flatten()]*nlev)\n",
    "# weights_for_pcs = pr.flatten()\n",
    "# stencil = weights_for_pcs>0\n",
    "# x = omega_for_pca[np.vstack([stencil]*nlev).transpose()].reshape((-1,nlev))\n",
    "# w = weights_for_pcs[stencil]\n",
    "print(omega_for_pca.shape,x.shape,weights_for_pcs.shape)\n",
    "\n",
    "# pc_omega = PCA(x,standardize=False,demean=True,weights=w)\n",
    "pc_omega = PCA(omega_for_pca,standardize=False,demean=False)"
   ]
  },
  {
   "cell_type": "code",
   "execution_count": 125,
   "metadata": {
    "ExecuteTime": {
     "end_time": "2017-12-02T02:33:37.523979",
     "start_time": "2017-12-02T02:33:37.486232Z"
    },
    "collapsed": false
   },
   "outputs": [
    {
     "data": {
      "text/plain": [
       "array([ -1.86218106e-05,   2.97810077e-06,   3.21910027e-05,\n",
       "         7.71841496e-05,   3.10268839e-04,  -1.18801323e-04,\n",
       "         8.63099910e-05,  -1.39586715e-04,   7.40102957e-04,\n",
       "        -5.31903839e-04,   4.85122056e-04,  -5.86899940e-04,\n",
       "         6.26491515e-04,   6.84233433e-05,  -1.11419375e-03,\n",
       "        -2.15431093e-03,   1.17487715e-03,   1.35432363e-03,\n",
       "         3.45533966e-03,   8.75277548e-04,   1.75533152e-03,\n",
       "         3.68640274e-03,   6.58205010e-03,   2.36336037e-03,\n",
       "         2.40024518e-02,   4.98253989e-02,   1.55816208e-01,\n",
       "        -5.68619331e-02,  -5.93527822e-01,  -7.85534679e-01])"
      ]
     },
     "execution_count": 125,
     "metadata": {},
     "output_type": "execute_result"
    }
   ],
   "source": [
    "pc_omega.eigenvecs[0]"
   ]
  },
  {
   "cell_type": "code",
   "execution_count": 54,
   "metadata": {
    "ExecuteTime": {
     "end_time": "2017-12-02T01:24:05.003793",
     "start_time": "2017-12-02T01:24:04.962512Z"
    },
    "collapsed": false
   },
   "outputs": [
    {
     "name": "stdout",
     "output_type": "stream",
     "text": [
      "[[  1.   2.]\n",
      " [  3.   4.]\n",
      " [  5.   6.]\n",
      " [  7.   8.]\n",
      " [  9.  10.]]\n",
      "[ 1.  3.  5.  7.  9.]\n",
      "[ True False  True False  True]\n",
      "[[ True  True]\n",
      " [False False]\n",
      " [ True  True]\n",
      " [False False]\n",
      " [ True  True]]\n"
     ]
    },
    {
     "data": {
      "text/plain": [
       "array([[  1.,   2.],\n",
       "       [  5.,   6.],\n",
       "       [  9.,  10.]])"
      ]
     },
     "execution_count": 54,
     "metadata": {},
     "output_type": "execute_result"
    }
   ],
   "source": [
    "a = np.linspace(1,10,10).reshape(5,2); print(a); print(a[:,0])\n",
    "m = (np.random.random(5)>0.5); print(m)\n",
    "# a[np.reshape([[m]]*2,(2,-1)).transpose()].reshape((-1,2))[:,0]\n",
    "m2D = np.vstack([m.ravel()]*2).transpose()\n",
    "print(m2D)\n",
    "a[m2D].reshape((-1,2))"
   ]
  },
  {
   "cell_type": "code",
   "execution_count": null,
   "metadata": {
    "collapsed": true
   },
   "outputs": [],
   "source": []
  },
  {
   "cell_type": "code",
   "execution_count": null,
   "metadata": {
    "collapsed": true
   },
   "outputs": [],
   "source": []
  }
 ],
 "metadata": {
  "hide_input": false,
  "kernelspec": {
   "display_name": "Python 3",
   "language": "python",
   "name": "python3"
  },
  "language_info": {
   "codemirror_mode": {
    "name": "ipython",
    "version": 3
   },
   "file_extension": ".py",
   "mimetype": "text/x-python",
   "name": "python",
   "nbconvert_exporter": "python",
   "pygments_lexer": "ipython3",
   "version": "3.6.1"
  },
  "latex_envs": {
   "bibliofile": "biblio.bib",
   "cite_by": "apalike",
   "current_citInitial": 1,
   "eqLabelWithNumbers": true,
   "eqNumInitial": 0
  },
  "toc": {
   "toc_cell": true,
   "toc_number_sections": true,
   "toc_threshold": 6,
   "toc_window_display": false
  }
 },
 "nbformat": 4,
 "nbformat_minor": 0
}
