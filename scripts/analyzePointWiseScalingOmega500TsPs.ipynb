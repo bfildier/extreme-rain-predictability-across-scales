{
 "cells": [
  {
   "cell_type": "markdown",
   "metadata": {
    "toc": "true"
   },
   "source": [
    "# Table of Contents\n",
    " <p><div class=\"lev1\"><a href=\"#Derive-scaling\"><span class=\"toc-item-num\">1&nbsp;&nbsp;</span>Derive scaling</a></div><div class=\"lev2\"><a href=\"#Compute-statistics\"><span class=\"toc-item-num\">1.1&nbsp;&nbsp;</span>Compute statistics</a></div><div class=\"lev3\"><a href=\"#Decompose-bias-into-its-contributions-from-qvstar-and-omega-(scaling-#3)\"><span class=\"toc-item-num\">1.1.1&nbsp;&nbsp;</span>Decompose bias into its contributions from qvstar and omega (scaling #3)</a></div><div class=\"lev2\"><a href=\"#Decompose-the-variance\"><span class=\"toc-item-num\">1.2&nbsp;&nbsp;</span>Decompose the variance</a></div><div class=\"lev3\"><a href=\"#Decompose-Variance-into-its-contributions-from-qvstar-and-omega-(scaling-#3)\"><span class=\"toc-item-num\">1.2.1&nbsp;&nbsp;</span>Decompose Variance into its contributions from qvstar and omega (scaling #3)</a></div><div class=\"lev3\"><a href=\"#Decompose-variance-into-its-contributions-from-T-and-omega-(ignore-variability-in-pressure)\"><span class=\"toc-item-num\">1.2.2&nbsp;&nbsp;</span>Decompose variance into its contributions from T and omega (ignore variability in pressure)</a></div>"
   ]
  },
  {
   "cell_type": "code",
   "execution_count": 1,
   "metadata": {
    "ExecuteTime": {
     "end_time": "2017-11-11T03:06:54.070207",
     "start_time": "2017-11-11T03:06:53.408510Z"
    },
    "collapsed": true,
    "run_control": {
     "frozen": false,
     "read_only": false
    }
   },
   "outputs": [],
   "source": [
    "%load_ext autoreload\n",
    "%matplotlib inline"
   ]
  },
  {
   "cell_type": "code",
   "execution_count": 2,
   "metadata": {
    "ExecuteTime": {
     "end_time": "2017-11-11T03:06:54.731287",
     "start_time": "2017-11-11T03:06:54.072413Z"
    },
    "collapsed": false,
    "run_control": {
     "frozen": false,
     "read_only": false
    }
   },
   "outputs": [
    {
     "name": "stdout",
     "output_type": "stream",
     "text": [
      "-- loading modules\n",
      "\n",
      "Own modules available: ['CAMsettings', 'daskOptions', 'environmentAndDirectories', 'importingData', 'physicalConstants', 'plot1DInvLog', 'plotMaps', 'scalingApproximations', 'slicingAndSubsetting', 'statisticalDistributions', 'thermoConstants', 'thermoFunctions']\n",
      "\n"
     ]
    }
   ],
   "source": [
    "%autoreload 2\n",
    "\n",
    "print(\"-- loading modules\")\n",
    "print()\n",
    "\n",
    "import numpy as np\n",
    "import numpy.ma as ma\n",
    "import dask.array as da\n",
    "import matplotlib.pyplot as plt\n",
    "import datetime as dt\n",
    "import sys,os,glob\n",
    "from mpl_toolkits.basemap import Basemap\n",
    "from matplotlib.colors import LogNorm\n",
    "\n",
    "## Add own library to path\n",
    "workdir = os.getcwd()\n",
    "thismodule = sys.modules[__name__]\n",
    "moduledir = os.path.join(os.path.dirname(workdir),'functions')\n",
    "sys.path.insert(0,moduledir)\n",
    "print(\"Own modules available:\", [os.path.splitext(os.path.basename(x))[0]\n",
    "                                 for x in glob.glob(os.path.join(moduledir,'*.py'))])\n",
    "print()\n",
    "## Load own libraries\n",
    "from environmentAndDirectories import *\n",
    "from importingData import *\n",
    "from scalingApproximations import *\n",
    "from slicingAndSubsetting import *\n",
    "from thermoConstants import L_v,R_v\n",
    "from plotMaps import *\n",
    "from plot1DInvLog import *\n",
    "from statisticalDistributions import *"
   ]
  },
  {
   "cell_type": "code",
   "execution_count": 3,
   "metadata": {
    "ExecuteTime": {
     "end_time": "2017-11-11T03:06:56.255533",
     "start_time": "2017-11-11T03:06:56.217207Z"
    },
    "collapsed": false,
    "run_control": {
     "frozen": false,
     "read_only": false
    }
   },
   "outputs": [
    {
     "name": "stdout",
     "output_type": "stream",
     "text": [
      "-- define global variables\n",
      "\n",
      "- choosing options:\n",
      "compset: FSPCAMm_AMIP\n",
      "experiment: piControl\n",
      "subset: tropics\n",
      "time_stride: day\n",
      "daskarray: True\n",
      "dates: ('185005010000', '185005020000')\n",
      "\n"
     ]
    }
   ],
   "source": [
    "print(\"-- define global variables\")\n",
    "print()\n",
    "\n",
    "print(\"- choosing options:\")\n",
    "compset = 'FSPCAMm_AMIP'\n",
    "experiment = 'piControl'\n",
    "subset = 'tropics'\n",
    "time_stride = 'day'\n",
    "daskarray = True\n",
    "dates = ('185005010000','185005020000')\n",
    "\n",
    "for v in ['compset','experiment','subset','time_stride',\\\n",
    "          'daskarray','dates']:\n",
    "    print(\"%s:\"%v,getattr(thismodule,v))\n",
    "\n",
    "## Define percentile values\n",
    "Q_IL_ext = np.array([90.0, 92.0567, 93.6904, 94.9881, 96.0189, 96.8377, 97.4881, 98.0047, 98.4151, 98.7411,\n",
    "        99.0, 99.2057, 99.369, 99.4988, 99.6019, 99.6838, 99.7488, 99.8005, 99.8415, 99.8741,\n",
    "        99.9, 99.9206, 99.9369, 99.9499, 99.9602, 99.9684, 99.9749, 99.98, 99.9842, 99.9874,\n",
    "        99.99, 99.9921, 99.9937, 99.995, 99.996, 99.9968, 99.9975, 99.998, 99.9984, 99.9987])\n",
    "Q_IL_ext_colorbar = np.array([90.0, 92.0567, 93.6904, 94.9881, 96.0189, 96.8377, 97.4881, 98.0047, 98.4151, 98.7411,\n",
    "        99.0, 99.2057, 99.369, 99.4988, 99.6019, 99.6838, 99.7488, 99.8005, 99.8415, 99.8741,\n",
    "        99.9, 99.9206, 99.9369, 99.9499, 99.9602, 99.9684, 99.9749, 99.98, 99.9842, 99.9874,\n",
    "        99.99, 99.9921, 99.9937, 99.995, 99.996, 99.9968, 99.9975, 99.998, 99.9984, 99.9987,99.999])\n",
    "Qs = [90.,96.8377,99.,99.6838,99.9,99.9684,99.99,99.9968]\n",
    "Q_ids = ['90.0','96.8377','99.0','99.6838','99.9','99.9684','99.99','99.9968']\n",
    "\n",
    "print()"
   ]
  },
  {
   "cell_type": "code",
   "execution_count": 4,
   "metadata": {
    "ExecuteTime": {
     "end_time": "2017-11-11T03:06:58.932555",
     "start_time": "2017-11-11T03:06:57.212963Z"
    },
    "collapsed": false,
    "run_control": {
     "frozen": false,
     "read_only": false
    },
    "scrolled": false
   },
   "outputs": [
    {
     "name": "stdout",
     "output_type": "stream",
     "text": [
      "-- load environment\n",
      "\n",
      "Importing Q from 24 history files between 1850-05-01-00000 and 1850-05-01-82800\n",
      "Importing OMEGA from 24 history files between 1850-05-01-00000 and 1850-05-01-82800\n",
      "Importing PRECT from 24 history files between 1850-05-01-00000 and 1850-05-01-82800\n",
      "Importing TS from 24 history files between 1850-05-01-00000 and 1850-05-01-82800\n",
      "Importing T from 24 history files between 1850-05-01-00000 and 1850-05-01-82800\n",
      "Importing RELHUM from 24 history files between 1850-05-01-00000 and 1850-05-01-82800\n",
      "\n"
     ]
    }
   ],
   "source": [
    "print(\"-- load environment\")\n",
    "print()\n",
    "\n",
    "historyFilesSettings = getCAMHistoryFilesSettings()\n",
    "\n",
    "inputdir, inputdir_processed_day, inputdir_processed_1hr, inputdir_results, inputdir_fx = \\\n",
    "    getInputDirectories(compset,experiment)\n",
    "    \n",
    "q_id = 'Q'\n",
    "spechum = getValues(q_id,compset,subset,experiment,time_stride,daskarray=daskarray,dates=dates)\n",
    "omega_id = 'OMEGA'\n",
    "omega = getValues(omega_id,compset,subset,experiment,time_stride,daskarray=daskarray,dates=dates)\n",
    "pr_id = 'PRECT'\n",
    "pr = getValues(pr_id,compset,subset,experiment,time_stride,daskarray=daskarray,dates=dates)\n",
    "ts_id = 'TS'\n",
    "ts = getValues(ts_id,compset,subset,experiment,time_stride,daskarray=daskarray,dates=dates)\n",
    "ta_id = 'T'\n",
    "ta = getValues(ta_id,compset,subset,experiment,time_stride,daskarray=daskarray,dates=dates)\n",
    "relhum_id = 'RELHUM'\n",
    "relhum = getValues(relhum_id,compset,subset,experiment,time_stride,daskarray=daskarray,dates=dates)\n",
    "\n",
    "print()"
   ]
  },
  {
   "cell_type": "code",
   "execution_count": 5,
   "metadata": {
    "ExecuteTime": {
     "end_time": "2017-11-11T03:07:00.021595",
     "start_time": "2017-11-11T03:06:59.987641Z"
    },
    "collapsed": false,
    "run_control": {
     "frozen": false,
     "read_only": false
    }
   },
   "outputs": [
    {
     "name": "stdout",
     "output_type": "stream",
     "text": [
      "-- load geographic data\n",
      "\n"
     ]
    }
   ],
   "source": [
    "## Get longitude, latitude and landmask\n",
    "\n",
    "print(\"-- load geographic data\")\n",
    "\n",
    "fh = Dataset(os.path.join(inputdir_fx,'landmask_fx_CESM111-SPCAM20_allExperiments_r0i0p0.nc'))\n",
    "lon1D = fh.variables['lon'][:]\n",
    "lat1D = fh.variables['lat'][:]\n",
    "lon2D, lat2D = np.meshgrid(lon1D,lat1D)\n",
    "lon2D = da.from_array(lon2D,chunks=lon2D.shape)\n",
    "lat2D = da.from_array(lat2D,chunks=lat2D.shape)\n",
    "\n",
    "landmask = fh.variables['landmask']\n",
    "\n",
    "print()"
   ]
  },
  {
   "cell_type": "code",
   "execution_count": 6,
   "metadata": {
    "ExecuteTime": {
     "end_time": "2017-11-11T03:07:01.363662",
     "start_time": "2017-11-11T03:07:01.195475Z"
    },
    "collapsed": false,
    "run_control": {
     "frozen": false,
     "read_only": false
    },
    "scrolled": true
   },
   "outputs": [
    {
     "name": "stdout",
     "output_type": "stream",
     "text": [
      "-- load surface pressure\n",
      "Importing PS from 24 history files between 1850-05-01-00000 and 1850-05-01-82800\n",
      "\n"
     ]
    }
   ],
   "source": [
    "print(\"-- load surface pressure\")\n",
    "\n",
    "input_lev_file = os.path.join(inputdir_fx,'lev_fx_CESM111-SPCAM20_allExperiments_r0i0p0.nc')\n",
    "computeP = getPressureCoordinateFunction(input_lev_file)\n",
    "\n",
    "ps_varid = 'PS'\n",
    "ps = getValues(ps_varid,compset,subset,experiment,time_stride,daskarray=daskarray,dates=dates)\n",
    "pres = computeP(ps)\n",
    "cn = getArrayType(pres)\n",
    "print()"
   ]
  },
  {
   "cell_type": "markdown",
   "metadata": {},
   "source": [
    "# Derive scaling"
   ]
  },
  {
   "cell_type": "code",
   "execution_count": 7,
   "metadata": {
    "ExecuteTime": {
     "end_time": "2017-11-11T03:07:03.400453",
     "start_time": "2017-11-11T03:07:03.378069Z"
    },
    "collapsed": false,
    "run_control": {
     "frozen": false,
     "read_only": false
    }
   },
   "outputs": [
    {
     "name": "stdout",
     "output_type": "stream",
     "text": [
      "-- compute (percentile-wise and pointwise) scaling approximation\n",
      "\n"
     ]
    }
   ],
   "source": [
    "print(\"-- compute (percentile-wise and pointwise) scaling approximation\")\n",
    "print()"
   ]
  },
  {
   "cell_type": "code",
   "execution_count": 8,
   "metadata": {
    "ExecuteTime": {
     "end_time": "2017-11-11T03:07:04.976325",
     "start_time": "2017-11-11T03:07:04.155418Z"
    },
    "collapsed": false,
    "run_control": {
     "frozen": false,
     "marked": false,
     "read_only": false
    }
   },
   "outputs": [
    {
     "name": "stdout",
     "output_type": "stream",
     "text": [
      "compute 2D surfaces of predictor variables\n",
      "\n",
      "CPU times: user 866 ms, sys: 348 ms, total: 1.21 s\n",
      "Wall time: 797 ms\n"
     ]
    }
   ],
   "source": [
    "%%time\n",
    "print(\"compute 2D surfaces of predictor variables\")\n",
    "p_500 = 50000; levdim=1\n",
    "# p_925 = 92500\n",
    "omega_500 = isobaricSurface(omega,pres,p_ref=p_500,levdim=levdim)\n",
    "# ta_925 = isobaricSurface(ta,pres,p_ref=p_925,levdim=levdim)\n",
    "# qvstar_925 = saturationSpecificHumidity(ta_925,p_925)\n",
    "qvstar_s = saturationSpecificHumidity(ts,ps)"
   ]
  },
  {
   "cell_type": "code",
   "execution_count": 10,
   "metadata": {
    "ExecuteTime": {
     "end_time": "2017-11-11T03:07:35.811295",
     "start_time": "2017-11-11T03:07:35.689260Z"
    },
    "collapsed": false,
    "run_control": {
     "frozen": false,
     "read_only": false
    }
   },
   "outputs": [
    {
     "name": "stdout",
     "output_type": "stream",
     "text": [
      "\n",
      "Compute ranks and ranks locations\n",
      "0.0000 20.5672 36.9043 49.8813 60.1893 68.3772 74.8811 80.0474 84.1511 87.4107 90.0000 92.0567 93.6904 94.9881 96.0189 96.8377 97.4881 98.0047 98.4151 98.7411 99.0000 99.2057 99.3690 99.4988 99.6019 99.6838 99.7488 99.8005 99.8415 99.8741 99.9000 99.9206 99.9369 99.9499 99.9602 99.9684 99.9749 99.9800 99.9842 99.9874 99.9900 CPU times: user 86.8 ms, sys: 15.3 ms, total: 102 ms\n",
      "Wall time: 96 ms\n"
     ]
    }
   ],
   "source": [
    "%%time\n",
    "print()\n",
    "print(\"Compute ranks and ranks locations\")\n",
    "\n",
    "n_pts = pr.size\n",
    "Q_IL = getInvLogRanks(n_pts,fill_last_decade=True)\n",
    "i_Q = indexOfRank(99.9,Q_IL)\n",
    "iQ_slice = slice(i_Q-5,i_Q+5)\n",
    "ranks, centers, bins = computePercentilesAndBinsFromRanks(pr.flatten(),Q_IL)\n",
    "\n",
    "rank_locations= {}\n",
    "for rank in Q_IL:\n",
    "    rank_id  = \"%2.4f\"%rank\n",
    "    print(rank_id,end=' ')\n",
    "    rank_locations[rank_id] = getRankLocations(rank,pr,ranks,bins,rank_locations)\n"
   ]
  },
  {
   "cell_type": "code",
   "execution_count": 11,
   "metadata": {
    "ExecuteTime": {
     "end_time": "2017-11-11T03:07:47.747014",
     "start_time": "2017-11-11T03:07:45.712872Z"
    },
    "collapsed": false,
    "run_control": {
     "frozen": false,
     "read_only": false
    },
    "scrolled": false
   },
   "outputs": [
    {
     "name": "stdout",
     "output_type": "stream",
     "text": [
      "\n",
      "compute sample size in each bin\n",
      "14159 18432\n"
     ]
    }
   ],
   "source": [
    "print()\n",
    "print(\"compute sample size in each bin\")\n",
    "N_prQ = np.array(list(map(lambda x: sampleSizeAtYRank(x,pr,rank_locations=rank_locations),ranks)))\n",
    "print(N_prQ.sum(),pr.size)"
   ]
  },
  {
   "cell_type": "code",
   "execution_count": 12,
   "metadata": {
    "ExecuteTime": {
     "end_time": "2017-11-11T03:08:14.338290",
     "start_time": "2017-11-11T03:07:59.349233Z"
    },
    "collapsed": false,
    "run_control": {
     "frozen": false,
     "read_only": false
    },
    "scrolled": false
   },
   "outputs": [
    {
     "name": "stdout",
     "output_type": "stream",
     "text": [
      "\n",
      "compute pointwise scaling\n",
      "eps = 0.000534980294616\n",
      "CPU times: user 14.5 s, sys: 2.89 s, total: 17.4 s\n",
      "Wall time: 15 s\n"
     ]
    }
   ],
   "source": [
    "%%time\n",
    "print()\n",
    "print(\"compute pointwise scaling\")\n",
    "eps, pr_sc_vQ = computeScalingOmegaQAtAllRanks(ranks,omega_500,qvstar_s,pr,ranks_ref=Q_IL[iQ_slice],\n",
    "                                                  bins=bins,rank_locations=rank_locations)\n",
    "pr_sc = singleLevelScalingFromOmegaQ(omega_500,qvstar_s,efficiency=eps)\n",
    "print(\"eps =\",eps)"
   ]
  },
  {
   "cell_type": "markdown",
   "metadata": {},
   "source": [
    "## Compute statistics"
   ]
  },
  {
   "cell_type": "code",
   "execution_count": 14,
   "metadata": {
    "ExecuteTime": {
     "end_time": "2017-11-11T03:08:49.507366",
     "start_time": "2017-11-11T03:08:49.485507Z"
    },
    "collapsed": false
   },
   "outputs": [
    {
     "name": "stdout",
     "output_type": "stream",
     "text": [
      "-- compute statistics\n",
      "\n"
     ]
    }
   ],
   "source": [
    "print(\"-- compute statistics\")\n",
    "print()"
   ]
  },
  {
   "cell_type": "code",
   "execution_count": 18,
   "metadata": {
    "ExecuteTime": {
     "end_time": "2017-11-11T03:09:53.083238",
     "start_time": "2017-11-11T03:09:45.076962Z"
    },
    "collapsed": false,
    "run_control": {
     "frozen": false,
     "read_only": false
    },
    "scrolled": false
   },
   "outputs": [
    {
     "name": "stdout",
     "output_type": "stream",
     "text": [
      "mean of scaling in pr bins\n",
      "CPU times: user 7.82 s, sys: 1.65 s, total: 9.47 s\n",
      "Wall time: 7.98 s\n"
     ]
    }
   ],
   "source": [
    "%%time\n",
    "print(\"mean of scaling in pr bins\")\n",
    "pr_sc_prQ = np.array(list(map(lambda x: meanXAtYRank(x,pr_sc,pr,rank_locations=rank_locations),ranks)))"
   ]
  },
  {
   "cell_type": "code",
   "execution_count": 19,
   "metadata": {
    "ExecuteTime": {
     "end_time": "2017-11-11T03:10:35.667485",
     "start_time": "2017-11-11T03:10:28.813729Z"
    },
    "code_folding": [],
    "collapsed": false,
    "hide_input": false,
    "run_control": {
     "frozen": false,
     "read_only": false
    }
   },
   "outputs": [
    {
     "name": "stdout",
     "output_type": "stream",
     "text": [
      "\n",
      "interquartile and 90% ranges\n",
      "CPU times: user 6.69 s, sys: 1.44 s, total: 8.14 s\n",
      "Wall time: 6.82 s\n"
     ]
    }
   ],
   "source": [
    "%%time\n",
    "print()\n",
    "print(\"interquartile and 90% ranges\")\n",
    "ranks_I90 = (5,95)\n",
    "ranks_IQR = (25,75)\n",
    "\n",
    "pr_sc_I90 = np.vstack(list(map(lambda x: XPercentilesAtYRank(x,pr_sc,ranks_I90,pr,\n",
    "                                                                     rank_locations_X=rank_locations),ranks)))\n",
    "pr_sc_IQR = np.vstack(list(map(lambda x: XPercentilesAtYRank(x,pr_sc,ranks_IQR,pr,\n",
    "                                                                     rank_locations_X=rank_locations),ranks)))\n"
   ]
  },
  {
   "cell_type": "code",
   "execution_count": 176,
   "metadata": {
    "ExecuteTime": {
     "end_time": "2017-11-11T01:54:52.380183",
     "start_time": "2017-11-11T01:54:51.452472Z"
    },
    "collapsed": false,
    "run_control": {
     "frozen": false,
     "marked": false,
     "read_only": false
    },
    "scrolled": false
   },
   "outputs": [
    {
     "data": {
      "image/png": "[encoded data removed]",
      "text/plain": [
       "<matplotlib.figure.Figure at 0x1a182f1048>"
      ]
     },
     "metadata": {},
     "output_type": "display_data"
    }
   ],
   "source": [
    "print()\n",
    "print(\"- plot PDF with scaling and variability\")\n",
    "\n",
    "fig, ax = plt.subplots(ncols=1,nrows=1,figsize=(5,4.5))\n",
    "\n",
    "ax.set_yscale('log')\n",
    "\n",
    "# Grey shading \n",
    "i_Q_lims = (iQ_slice.start, iQ_slice.stop-1)\n",
    "subplotXShadingRanksILog(ax,ranks,i_Q_lims,alpha=0.15,transformX=False)\n",
    "# 90% confidence interval for pointwise scaling 2\n",
    "subplotYShadingRanksILog(ax,ranks,[pr_sc_I90[:,0],pr_sc_IQR[:,1]],col='green',transformX=False)\n",
    "# Interquartile range for pointwise scaling 2\n",
    "subplotYShadingRanksILog(ax,ranks,[pr_sc_IQR[:,0],pr_sc_IQR[:,1]],col='green',transformX=False)\n",
    "# Mean of pointwise scaling 2\n",
    "subplotRanksILog(ax,ranks,[centers,pr_sc_prQ,pr_sc_vQ],col=['k','green','k'],ltype=['-','-',':'],transformX=True)\n",
    "\n",
    "ax.set_xlabel('Percentile rank (%)')\n",
    "ax.set_ylabel('Rainfall Intensity (kg/m2/s)')\n",
    "ax.set_title(r'$\\varepsilon\\omega_{500}q_v^\\star(T)$')\n",
    "\n",
    "plt.show()\n",
    "\n",
    "print()"
   ]
  },
  {
   "cell_type": "markdown",
   "metadata": {},
   "source": [
    "### Decompose bias into its contributions from qvstar and omega (scaling #3)"
   ]
  },
  {
   "cell_type": "code",
   "execution_count": 21,
   "metadata": {
    "ExecuteTime": {
     "end_time": "2017-11-11T03:12:33.406850",
     "start_time": "2017-11-11T03:12:33.384935Z"
    },
    "collapsed": false
   },
   "outputs": [
    {
     "name": "stdout",
     "output_type": "stream",
     "text": [
      "-- decompose bias into qvstar and omega contributions\n",
      "\n"
     ]
    }
   ],
   "source": [
    "print(\"-- decompose bias into qvstar and omega contributions\")\n",
    "print()"
   ]
  },
  {
   "cell_type": "code",
   "execution_count": 25,
   "metadata": {
    "ExecuteTime": {
     "end_time": "2017-11-11T03:13:24.233820",
     "start_time": "2017-11-11T03:13:13.260403Z"
    },
    "collapsed": false,
    "run_control": {
     "frozen": false,
     "read_only": false
    }
   },
   "outputs": [
    {
     "name": "stdout",
     "output_type": "stream",
     "text": [
      "\n",
      "Q-mean terms\n",
      "CPU times: user 10.7 s, sys: 2.19 s, total: 12.9 s\n",
      "Wall time: 10.9 s\n"
     ]
    }
   ],
   "source": [
    "%%time\n",
    "print()\n",
    "print(\"Q-mean terms\")\n",
    "qvstar_s_prQ = np.array(list(map(lambda x: meanXAtYRank(x,qvstar_s,pr,rank_locations=rank_locations),ranks)))\n",
    "omega_500_prQ = np.array(list(map(lambda x: meanXAtYRank(x,omega_500,pr,rank_locations=rank_locations),ranks)))"
   ]
  },
  {
   "cell_type": "code",
   "execution_count": 26,
   "metadata": {
    "ExecuteTime": {
     "end_time": "2017-11-11T03:13:32.886317",
     "start_time": "2017-11-11T03:13:32.862791Z"
    },
    "collapsed": false,
    "run_control": {
     "frozen": false,
     "read_only": false
    }
   },
   "outputs": [
    {
     "name": "stdout",
     "output_type": "stream",
     "text": [
      "\n",
      "Compute bias\n",
      "-0.00627489038756\n",
      "CPU times: user 691 µs, sys: 473 µs, total: 1.16 ms\n",
      "Wall time: 707 µs\n"
     ]
    }
   ],
   "source": [
    "%%time\n",
    "print()\n",
    "print(\"Compute bias\")\n",
    "bias_sc = (pr_sc_prQ - pr_sc_vQ)/pr_sc_prQ\n",
    "print(np.nanmean(bias_sc[iQ_slice]))"
   ]
  },
  {
   "cell_type": "code",
   "execution_count": 27,
   "metadata": {
    "ExecuteTime": {
     "end_time": "2017-11-11T03:13:39.432466",
     "start_time": "2017-11-11T03:13:34.969919Z"
    },
    "collapsed": false,
    "run_control": {
     "frozen": false,
     "read_only": false
    }
   },
   "outputs": [
    {
     "name": "stdout",
     "output_type": "stream",
     "text": [
      "\n",
      "Compute covariance term\n",
      "CPU times: user 4.28 s, sys: 866 ms, total: 5.15 s\n",
      "Wall time: 4.43 s\n"
     ]
    }
   ],
   "source": [
    "%%time\n",
    "print()\n",
    "print(\"covariance term\")\n",
    "cov_qvstar_s_omega_500_prQ = np.array(list(map(lambda x: covAtYRank(x,qvstar_s,omega_500,pr,\n",
    "                                                                           rank_locations=rank_locations),ranks)))"
   ]
  },
  {
   "cell_type": "code",
   "execution_count": 29,
   "metadata": {
    "ExecuteTime": {
     "end_time": "2017-11-11T03:15:49.210295",
     "start_time": "2017-11-11T03:15:49.187713Z"
    },
    "collapsed": false,
    "run_control": {
     "frozen": false,
     "read_only": false
    }
   },
   "outputs": [
    {
     "name": "stdout",
     "output_type": "stream",
     "text": [
      "\n",
      "contribution\n"
     ]
    }
   ],
   "source": [
    "print()\n",
    "print(\"contribution\")\n",
    "contrib_b_cov_qvstar_s_omega_500 = cov_qvstar_s_omega_500_prQ*(-eps/gg)/pr_sc_prQ"
   ]
  },
  {
   "cell_type": "code",
   "execution_count": 30,
   "metadata": {
    "ExecuteTime": {
     "end_time": "2017-11-11T03:15:52.339866",
     "start_time": "2017-11-11T03:15:51.985353Z"
    },
    "collapsed": false,
    "run_control": {
     "frozen": false,
     "read_only": false
    },
    "scrolled": true
   },
   "outputs": [
    {
     "name": "stdout",
     "output_type": "stream",
     "text": [
      "\n",
      "- plot bias and corresponding contributions\n"
     ]
    },
    {
     "data": {
      "image/png": "[encoded data removed]",
      "text/plain": [
       "<matplotlib.figure.Figure at 0x1a22bd8518>"
      ]
     },
     "metadata": {},
     "output_type": "display_data"
    },
    {
     "name": "stdout",
     "output_type": "stream",
     "text": [
      "\n",
      "CPU times: user 296 ms, sys: 6.62 ms, total: 303 ms\n",
      "Wall time: 305 ms\n"
     ]
    }
   ],
   "source": [
    "%%time\n",
    "print()\n",
    "print(\"- plot bias and corresponding contributions\")\n",
    "\n",
    "fig, ax = plt.subplots(ncols=1,nrows=1,figsize=(5,4.5))\n",
    "ax.set_ylim((-.25,.25))\n",
    "\n",
    "# Grey shading \n",
    "i_Q_lims = (iQ_slice.start, iQ_slice.stop-1)\n",
    "subplotXShadingRanksILog(ax,ranks,i_Q_lims,alpha=0.15,transformX=False)\n",
    "\n",
    "subplotRanksILog(ax,ranks,\n",
    "                 bias_sc,\n",
    "                 col='k',ltype='-',transformX=False)\n",
    "\n",
    "subplotRanksILog(ax,ranks,\n",
    "                 contrib_b_cov_qvstar_s_omega_500,\n",
    "                 col='k',ltype=':',transformX=True)\n",
    "\n",
    "plt.show()\n",
    "print()"
   ]
  },
  {
   "cell_type": "markdown",
   "metadata": {},
   "source": [
    "## Decompose the variance"
   ]
  },
  {
   "cell_type": "markdown",
   "metadata": {},
   "source": [
    "### Decompose Variance into its contributions from qvstar and omega (scaling #3)"
   ]
  },
  {
   "cell_type": "code",
   "execution_count": 31,
   "metadata": {
    "ExecuteTime": {
     "end_time": "2017-11-11T03:16:39.643712",
     "start_time": "2017-11-11T03:16:39.616974Z"
    },
    "collapsed": false
   },
   "outputs": [
    {
     "name": "stdout",
     "output_type": "stream",
     "text": [
      "-- decompose variance into qvstar and omega contributions\n"
     ]
    }
   ],
   "source": [
    "print(\"-- decompose variance into qvstar and omega contributions\")"
   ]
  },
  {
   "cell_type": "code",
   "execution_count": 32,
   "metadata": {
    "ExecuteTime": {
     "end_time": "2017-11-11T03:16:49.456203",
     "start_time": "2017-11-11T03:16:41.978915Z"
    },
    "collapsed": false,
    "run_control": {
     "frozen": false,
     "read_only": false
    },
    "scrolled": false
   },
   "outputs": [
    {
     "name": "stdout",
     "output_type": "stream",
     "text": [
      "\n",
      "Compute the variance in pr\n",
      "CPU times: user 7.4 s, sys: 1.56 s, total: 8.95 s\n",
      "Wall time: 7.46 s\n"
     ]
    }
   ],
   "source": [
    "%%time \n",
    "print()\n",
    "print(\"Compute the variance in pr\")\n",
    "var_pr_sc_prQ = np.array(list(map(lambda x: varXAtYRank(x,pr_sc,pr,rank_locations=rank_locations),ranks)))"
   ]
  },
  {
   "cell_type": "code",
   "execution_count": 34,
   "metadata": {
    "ExecuteTime": {
     "end_time": "2017-11-11T03:17:45.914750",
     "start_time": "2017-11-11T03:17:45.887174Z"
    },
    "collapsed": false,
    "run_control": {
     "frozen": false,
     "read_only": false
    }
   },
   "outputs": [
    {
     "name": "stdout",
     "output_type": "stream",
     "text": [
      "\n",
      "normalized variability\n",
      "0.0101180667322\n"
     ]
    }
   ],
   "source": [
    "print()\n",
    "print(\"normalized variability\")\n",
    "norm_var_pr_sc_prQ = var_pr_sc_prQ/(pr_sc_prQ**2)\n",
    "print(np.nanmean(norm_var_pr_sc_prQ[iQ_slice]))"
   ]
  },
  {
   "cell_type": "code",
   "execution_count": 33,
   "metadata": {
    "ExecuteTime": {
     "end_time": "2017-11-11T03:17:45.884872",
     "start_time": "2017-11-11T03:17:26.531260Z"
    },
    "collapsed": false,
    "run_control": {
     "frozen": false,
     "read_only": false
    }
   },
   "outputs": [
    {
     "name": "stdout",
     "output_type": "stream",
     "text": [
      "\n",
      "compute variability terms\n",
      "\n",
      "CPU times: user 18.6 s, sys: 3.6 s, total: 22.2 s\n",
      "Wall time: 19.3 s\n"
     ]
    }
   ],
   "source": [
    "%%time\n",
    "print()\n",
    "print(\"compute variability terms\")\n",
    "var_qvstar_s_prQ = np.array(list(map(lambda x: varXAtYRank(x,qvstar_s,pr,rank_locations=rank_locations),\n",
    "                                     ranks)))\n",
    "var_omega_500_prQ = np.array(list(map(lambda x: varXAtYRank(x,omega_500,pr,rank_locations=rank_locations),\n",
    "                                      ranks)))\n",
    "cov_qvstar_s_omega_500_prQ = np.array(list(map(lambda x: covAtYRank(x,qvstar_s,omega_500,\n",
    "                                                                           pr,rank_locations=rank_locations),\n",
    "                                               ranks)))\n",
    "cov_qvstar_s_2_omega_500_2_prQ = np.array(list(map(lambda x: covAtYRank(x,qvstar_s**2,omega_500**2,pr,\n",
    "                                                                               rank_locations=rank_locations),\n",
    "                                                   ranks)))\n",
    "print()"
   ]
  },
  {
   "cell_type": "code",
   "execution_count": 36,
   "metadata": {
    "ExecuteTime": {
     "end_time": "2017-11-11T03:18:02.869072",
     "start_time": "2017-11-11T03:18:02.839552Z"
    },
    "collapsed": false,
    "run_control": {
     "frozen": false,
     "read_only": false
    }
   },
   "outputs": [
    {
     "name": "stdout",
     "output_type": "stream",
     "text": [
      "\n",
      "normalized contributions, expanded terms\n",
      "0.00795293520723 0.0163808857407 0.000168275312321 -0.000102736340454 0.0141496735422 0.0101180667322\n",
      "\n"
     ]
    }
   ],
   "source": [
    "print()\n",
    "print(\"normalized contributions, expanded terms\")\n",
    "\n",
    "a_v = (eps/gg)**2\n",
    "contrib_covX2Y2 = a_v*cov_qvstar_s_2_omega_500_2_prQ/(pr_sc_prQ**2)\n",
    "contrib_varX = a_v*(omega_500_prQ**2)*var_qvstar_s_prQ/(pr_sc_prQ**2)\n",
    "contrib_varY = a_v*(qvstar_s_prQ**2)*var_omega_500_prQ/(pr_sc_prQ**2)\n",
    "contrib_varXvarY = a_v*var_qvstar_s_prQ*var_omega_500_prQ/(pr_sc_prQ**2)\n",
    "contrib_cov2XY = -a_v*(cov_qvstar_s_omega_500_prQ**2)/(pr_sc_prQ**2)\n",
    "contrib_covXY = -a_v*2*qvstar_s_prQ*omega_500_prQ*cov_qvstar_s_omega_500_prQ/(pr_sc_prQ**2)\n",
    "contrib_sum = contrib_covX2Y2 + contrib_varX + contrib_varY + contrib_varXvarY + contrib_cov2XY + contrib_covXY\n",
    "\n",
    "print(np.nanmean(contrib_varX[iQ_slice]),np.nanmean(contrib_varY[iQ_slice]),\n",
    "      np.nanmean(contrib_varXvarY[iQ_slice]),\n",
    "      np.nanmean(contrib_cov2XY[iQ_slice]),np.nanmean(contrib_covXY[iQ_slice]),\n",
    "      np.nanmean(contrib_sum[iQ_slice]))\n",
    "print()"
   ]
  },
  {
   "cell_type": "code",
   "execution_count": 37,
   "metadata": {
    "ExecuteTime": {
     "end_time": "2017-11-11T03:18:33.534845",
     "start_time": "2017-11-11T03:18:32.591235Z"
    },
    "collapsed": false,
    "run_control": {
     "frozen": false,
     "read_only": false
    },
    "scrolled": false
   },
   "outputs": [
    {
     "name": "stdout",
     "output_type": "stream",
     "text": [
      "\n",
      "- plot variance and corresponding contributions\n"
     ]
    },
    {
     "data": {
      "image/png": "[encoded data removed]",
      "text/plain": [
       "<matplotlib.figure.Figure at 0x1a22c70908>"
      ]
     },
     "metadata": {},
     "output_type": "display_data"
    },
    {
     "name": "stdout",
     "output_type": "stream",
     "text": [
      "\n",
      "CPU times: user 874 ms, sys: 19.8 ms, total: 894 ms\n",
      "Wall time: 900 ms\n"
     ]
    }
   ],
   "source": [
    "%%time\n",
    "print()\n",
    "print(\"> plot variance and corresponding contributions\")\n",
    "\n",
    "fig, ax = plt.subplots(ncols=1,nrows=1,figsize=(10,9))\n",
    "ax.set_ylim((-.25,.4))\n",
    "\n",
    "# Grey shading \n",
    "i_Q_lims = (iQ_slice.start, iQ_slice.stop-1)\n",
    "subplotXShadingRanksILog(ax,ranks,i_Q_lims,alpha=0.15,transformX=False)\n",
    "\n",
    "subplotRanksILog(ax,ranks,\n",
    "                 norm_var_pr_sc_prQ,\n",
    "                 col='k',ltype='-',transformX=False)\n",
    "subplotRanksILog(ax,ranks,\n",
    "                 [contrib_covX2Y2,contrib_varX,contrib_varY,contrib_varXvarY,contrib_cov2XY,contrib_covXY,contrib_sum],\n",
    "                 col=['r','b','g','brown','y','purple','k'],ltype=['-','-','-','-','-','-',':'],transformX=False)\n",
    "\n",
    "subplotXShadingRanksILog(ax,ranks,(0,10),alpha=1,col='white',transformX=True)\n",
    "\n",
    "leg = ax.legend([r'$Var(P)$',\n",
    "                 r'$\\propto Cov(q_v^{\\star,2},\\omega^2)$',\n",
    "                 r'$\\propto Var(q_v^\\star)$',\n",
    "                 r'$\\propto Var(\\omega)$',\n",
    "                 r'$\\propto Var(q_v^\\star)Var(\\omega)$',\n",
    "                 r'$\\propto -Cov(q_v^\\star,\\omega)^2$',\n",
    "                 r'$\\propto -Cov(q_v^\\star,\\omega)$',\n",
    "                 r'sum of all'],\n",
    "                 loc='upper left',\n",
    "                 fontsize='xx-large')\n",
    "leg.get_frame().set_alpha(1)\n",
    "\n",
    "# ax2 = ax.twinx()\n",
    "# ax2.set_yscale('log')\n",
    "# subplotRanksILog(ax2,ranks,\n",
    "#                  N_prQ,\n",
    "#                  col='gray',ltype='-',transformX=False)\n",
    "# ax2.tick_params(axis='y', colors='gray')\n",
    "\n",
    "plt.show()\n",
    "print()"
   ]
  },
  {
   "cell_type": "markdown",
   "metadata": {},
   "source": [
    "### Decompose variance into its contributions from T and omega (ignore variability in pressure)"
   ]
  },
  {
   "cell_type": "code",
   "execution_count": 38,
   "metadata": {
    "ExecuteTime": {
     "end_time": "2017-11-11T03:19:27.140211",
     "start_time": "2017-11-11T03:19:27.118823Z"
    },
    "collapsed": false
   },
   "outputs": [
    {
     "name": "stdout",
     "output_type": "stream",
     "text": [
      "-- decompose variance into T and omega contributions\n"
     ]
    }
   ],
   "source": [
    "print(\"-- decompose variance into T and omega contributions\")"
   ]
  },
  {
   "cell_type": "code",
   "execution_count": 200,
   "metadata": {
    "ExecuteTime": {
     "end_time": "2017-11-11T02:14:27.861703",
     "start_time": "2017-11-11T02:14:22.854574Z"
    },
    "collapsed": false,
    "run_control": {
     "frozen": false,
     "read_only": false
    }
   },
   "outputs": [
    {
     "name": "stdout",
     "output_type": "stream",
     "text": [
      "Q-mean terms\n"
     ]
    }
   ],
   "source": [
    "print()\n",
    "print(\"Q-mean terms\")\n",
    "ts_prQ = np.array(list(map(lambda x: meanXAtYRank(x,ts,pr,rank_locations=rank_locations),ranks)))\n"
   ]
  },
  {
   "cell_type": "code",
   "execution_count": 216,
   "metadata": {
    "ExecuteTime": {
     "end_time": "2017-11-11T02:26:21.305559",
     "start_time": "2017-11-11T02:26:09.386622Z"
    },
    "collapsed": false,
    "run_control": {
     "frozen": false,
     "read_only": false
    },
    "scrolled": false
   },
   "outputs": [
    {
     "name": "stdout",
     "output_type": "stream",
     "text": [
      "compute variability terms\n"
     ]
    }
   ],
   "source": [
    "%%time\n",
    "print()\n",
    "print(\"compute variability terms\")\n",
    "var_ts_prQ = np.array(list(map(lambda x: varXAtYRank(x,ts,pr,rank_locations=rank_locations),Q_IL)))\n",
    "cov_ts_omega_500_prQ = np.array(list(map(lambda x: covAtYRank(x,ts,omega_500,pr,rank_locations=rank_locations),\n",
    "                                         ranks)))\n",
    "cov_ts_omega_500_2_prQ = np.array(list(map(lambda x: covAtYRank(x,ts,omega_500**2,pr,rank_locations=rank_locations),\n",
    "                                         ranks)))"
   ]
  },
  {
   "cell_type": "code",
   "execution_count": 202,
   "metadata": {
    "ExecuteTime": {
     "end_time": "2017-11-11T02:14:41.538778",
     "start_time": "2017-11-11T02:14:41.513808Z"
    },
    "collapsed": false,
    "run_control": {
     "frozen": false,
     "read_only": false
    }
   },
   "outputs": [
    {
     "name": "stdout",
     "output_type": "stream",
     "text": [
      "-0.0313346682648 0.0149585592251 0.0097583323715 0.0160772360311 0.00945945936287 "
     ]
    }
   ],
   "source": [
    "print()\n",
    "print(\"normalized contributions, expanded terms\")\n",
    "\n",
    "contrib_var_covTomega2 = 2*L_v/R_v*cov_ts_omega_500_2_prQ/(ts_prQ*omega_500_prQ)**2\n",
    "contrib_var_covTomega = -2*L_v/R_v*cov_ts_omega_500_prQ/((ts_prQ**2)*omega_500_prQ)\n",
    "contrib_var_varT = ((L_v/R_v)**2)*var_ts_prQ/(ts_prQ**4)\n",
    "contrib_var_varomega = var_omega_500_prQ/(omega_500_prQ**2)\n",
    "contrib_var_sum = contrib_var_covTomega2+contrib_var_covTomega+contrib_var_varT+contrib_var_varomega\n",
    "all_contribs_var = [contrib_var_covTomega2,contrib_var_covTomega,contrib_var_varT,contrib_var_varomega,contrib_var_sum]\n",
    "for contrib in all_contribs_var:\n",
    "    print(np.nanmean(contrib[iQ_slice]),end=' ')"
   ]
  },
  {
   "cell_type": "code",
   "execution_count": 203,
   "metadata": {
    "ExecuteTime": {
     "end_time": "2017-11-11T02:17:09.800933",
     "start_time": "2017-11-11T02:17:09.252264Z"
    },
    "collapsed": false,
    "run_control": {
     "frozen": false,
     "read_only": false
    }
   },
   "outputs": [
    {
     "data": {
      "image/png": "[encoded data removed]",
      "text/plain": [
       "<matplotlib.figure.Figure at 0x1a24c99d68>"
      ]
     },
     "metadata": {},
     "output_type": "display_data"
    }
   ],
   "source": [
    "%%time \n",
    "print()\n",
    "print(\"> plot variance and corresponding contributions\")\n",
    "\n",
    "fig, ax = plt.subplots(ncols=1,nrows=1,figsize=(5,4.5))\n",
    "\n",
    "ax.set_ylim((-0.25,0.25))\n",
    "\n",
    "# Grey shading \n",
    "i_Q_lims = (iQ_slice.start, iQ_slice.stop-1)\n",
    "subplotXShadingRanksILog(ax,Q_IL,i_Q_lims,alpha=0.15,transformX=False)\n",
    "\n",
    "\n",
    "# subplotRanksILog(ax,ranks,np.zeros(ranks.shape),ltype=':',col='k')\n",
    "subplotRanksILog(ax,ranks,\n",
    "                 norm_var_pr_sc2_prQ,\n",
    "                 col='k',ltype='-',transformX=False)\n",
    "\n",
    "subplotRanksILog(ax,ranks,\n",
    "                 all_contribs_var,\n",
    "                 col=['green','blue','red','grey','k'],ltype=['-','-','-','-',':'],transformX=True)\n",
    "\n",
    "ax.set_xlabel('Percentile rank (%)')\n",
    "ax.set_ylabel(r'Contributions to Var$_Q(S)$')\n",
    "ax.set_title(r'$S(\\omega,T)=\\varepsilon\\omega_{500}q_v^\\star(T)$')\n",
    "\n",
    "# ax.legend([r'$\\alpha_1 Var(T)$',r'$\\alpha_2 Cov(T,\\omega)$',r'$\\alpha_3 Var(\\omega)$','sum'])\n",
    "\n",
    "plt.show()\n",
    "print()"
   ]
  },
  {
   "cell_type": "code",
   "execution_count": null,
   "metadata": {
    "collapsed": true,
    "run_control": {
     "frozen": false,
     "read_only": false
    }
   },
   "outputs": [],
   "source": []
  },
  {
   "cell_type": "code",
   "execution_count": null,
   "metadata": {
    "collapsed": true,
    "run_control": {
     "frozen": false,
     "read_only": false
    }
   },
   "outputs": [],
   "source": []
  },
  {
   "cell_type": "code",
   "execution_count": null,
   "metadata": {
    "collapsed": true,
    "run_control": {
     "frozen": false,
     "read_only": false
    }
   },
   "outputs": [],
   "source": []
  }
 ],
 "metadata": {
  "hide_input": false,
  "kernelspec": {
   "display_name": "Python 3",
   "language": "python",
   "name": "python3"
  },
  "language_info": {
   "codemirror_mode": {
    "name": "ipython",
    "version": 3
   },
   "file_extension": ".py",
   "mimetype": "text/x-python",
   "name": "python",
   "nbconvert_exporter": "python",
   "pygments_lexer": "ipython3",
   "version": "3.6.1"
  },
  "latex_envs": {
   "bibliofile": "biblio.bib",
   "cite_by": "apalike",
   "current_citInitial": 1,
   "eqLabelWithNumbers": true,
   "eqNumInitial": 0
  },
  "toc": {
   "toc_cell": true,
   "toc_number_sections": true,
   "toc_threshold": 6,
   "toc_window_display": false
  }
 },
 "nbformat": 4,
 "nbformat_minor": 0
}
