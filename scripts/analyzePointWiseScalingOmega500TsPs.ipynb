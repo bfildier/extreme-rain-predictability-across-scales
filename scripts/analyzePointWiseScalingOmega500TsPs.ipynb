{
 "cells": [
  {
   "cell_type": "markdown",
   "metadata": {
    "toc": "true"
   },
   "source": [
    "# Table of Contents\n",
    " <p><div class=\"lev1\"><a href=\"#Derive-scaling\"><span class=\"toc-item-num\">1&nbsp;&nbsp;</span>Derive scaling</a></div><div class=\"lev2\"><a href=\"#Compute-statistics\"><span class=\"toc-item-num\">1.1&nbsp;&nbsp;</span>Compute statistics</a></div><div class=\"lev3\"><a href=\"#Decompose-bias-into-its-contributions-from-qvstar-and-omega-(scaling-#3)\"><span class=\"toc-item-num\">1.1.1&nbsp;&nbsp;</span>Decompose bias into its contributions from qvstar and omega (scaling #3)</a></div><div class=\"lev2\"><a href=\"#Decompose-the-variance\"><span class=\"toc-item-num\">1.2&nbsp;&nbsp;</span>Decompose the variance</a></div><div class=\"lev3\"><a href=\"#Decompose-Variance-into-its-contributions-from-qvstar-and-omega-(scaling-#3)\"><span class=\"toc-item-num\">1.2.1&nbsp;&nbsp;</span>Decompose Variance into its contributions from qvstar and omega (scaling #3)</a></div><div class=\"lev3\"><a href=\"#Decompose-variance-into-its-contributions-from-T-and-omega-(ignore-variability-in-pressure)\"><span class=\"toc-item-num\">1.2.2&nbsp;&nbsp;</span>Decompose variance into its contributions from T and omega (ignore variability in pressure)</a></div><div class=\"lev1\"><a href=\"#Save-all-variables-in-dataframe\"><span class=\"toc-item-num\">2&nbsp;&nbsp;</span>Save all variables in dataframe</a></div>"
   ]
  },
  {
   "cell_type": "code",
   "execution_count": 28,
   "metadata": {
    "ExecuteTime": {
     "end_time": "2017-11-12T22:07:11.785153",
     "start_time": "2017-11-12T22:07:11.193554Z"
    },
    "run_control": {
     "frozen": false,
     "read_only": false
    }
   },
   "outputs": [
    {
     "name": "stdout",
     "output_type": "stream",
     "text": [
      "The autoreload extension is already loaded. To reload it, use:\n",
      "  %reload_ext autoreload\n"
     ]
    }
   ],
   "source": [
    "%load_ext autoreload\n",
    "%matplotlib inline"
   ]
  },
  {
   "cell_type": "code",
   "execution_count": 324,
   "metadata": {
    "ExecuteTime": {
     "end_time": "2017-11-12T22:07:12.304889",
     "start_time": "2017-11-12T22:07:11.787914Z"
    },
    "run_control": {
     "frozen": false,
     "read_only": false
    }
   },
   "outputs": [
    {
     "name": "stdout",
     "output_type": "stream",
     "text": [
      "-- loading modules\n",
      "\n",
      "Own modules available: ['plot1DInvLog', 'thermoFunctions', 'statisticalDistributions', 'slicingAndSubsetting', 'outputResults', 'thermoConstants', 'plotMaps', 'daskOptions', 'scalingApproximations', 'CAMsettings', 'environmentAndDirectories', 'importingData', 'physicalConstants']\n"
     ]
    }
   ],
   "source": [
    "%autoreload 2\n",
    "\n",
    "print(\"-- loading modules\")\n",
    "print()\n",
    "\n",
    "import numpy as np\n",
    "import numpy.ma as ma\n",
    "import dask.array as da\n",
    "import matplotlib\n",
    "# matplotlib.use(\"PDF\")\n",
    "import matplotlib.pyplot as plt\n",
    "import datetime as dt\n",
    "import time\n",
    "import sys,os,glob\n",
    "from mpl_toolkits.basemap import Basemap\n",
    "from matplotlib.colors import LogNorm\n",
    "\n",
    "## Add own library to path\n",
    "workdir = os.getcwd()\n",
    "thismodule = sys.modules[__name__]\n",
    "moduledir = os.path.join(os.path.dirname(workdir),'functions')\n",
    "sys.path.insert(0,moduledir)\n",
    "print(\"Own modules available:\", [os.path.splitext(os.path.basename(x))[0]\n",
    "                                 for x in glob.glob(os.path.join(moduledir,'*.py'))])\n",
    "\n",
    "## Load own libraries\n",
    "from environmentAndDirectories import *\n",
    "from importingData import *\n",
    "from scalingApproximations import *\n",
    "from slicingAndSubsetting import *\n",
    "from thermoConstants import L_v,R_v\n",
    "from plotMaps import *\n",
    "from plot1DInvLog import *\n",
    "from statisticalDistributions import *\n",
    "from outputResults import *\n",
    "\n",
    "## Graphical parameters\n",
    "plt.style.use('/global/homes/b/bfildier/.config/matplotlib/stylelib/jollyjumper.mplstyle')"
   ]
  },
  {
   "cell_type": "code",
   "execution_count": 130,
   "metadata": {
    "ExecuteTime": {
     "end_time": "2017-11-12T22:22:30.539448",
     "start_time": "2017-11-12T22:22:30.500707Z"
    },
    "run_control": {
     "frozen": false,
     "read_only": false
    }
   },
   "outputs": [
    {
     "name": "stdout",
     "output_type": "stream",
     "text": [
      "\n",
      "-- define global variables\n",
      "\n",
      "- choosing options:\n",
      "compset: FSPCAMm_AMIP\n",
      "experiment: piControl\n",
      "member: r1i1p1\n",
      "subset: tropics\n",
      "time_stride: day\n",
      "resolution: dx\n",
      "daskarray: False\n",
      "dates: ('185005010000', '185005020000')\n",
      "\n"
     ]
    }
   ],
   "source": [
    "print()\n",
    "print(\"-- define global variables\")\n",
    "print()\n",
    "\n",
    "print(\"- choosing options:\")\n",
    "compset = 'FSPCAMm_AMIP'\n",
    "experiment = 'piControl'\n",
    "member = 'r1i1p1'\n",
    "subset = 'tropics'\n",
    "time_stride = 'day'\n",
    "resolution = 'dx'\n",
    "daskarray = False\n",
    "tracktime = True\n",
    "dates = ('185005010000','185005020000')\n",
    "\n",
    "for v in ['compset','experiment','member','subset','time_stride','resolution',\\\n",
    "          'daskarray','dates']:\n",
    "    print(\"%s:\"%v,getattr(thismodule,v))\n",
    "\n",
    "# Figure output directory\n",
    "figdir = os.path.join(os.path.dirname(workdir),'figures','omega500tsps',compset,experiment,member,subset,\\\n",
    "                      time_stride,resolution)\n",
    "os.makedirs(figdir,exist_ok=True)\n",
    "\n",
    "# Results output directory\n",
    "resultdir = os.path.join(os.path.dirname(workdir),'results','omega500tsps',compset,experiment,member,subset,\\\n",
    "                      time_stride,resolution)\n",
    "os.makedirs(resultdir,exist_ok=True)\n",
    "\n",
    "print()"
   ]
  },
  {
   "cell_type": "code",
   "execution_count": 138,
   "metadata": {},
   "outputs": [],
   "source": [
    "if tracktime:\n",
    "    t0 = time.time()"
   ]
  },
  {
   "cell_type": "code",
   "execution_count": 105,
   "metadata": {
    "ExecuteTime": {
     "end_time": "2017-11-12T22:07:14.092803",
     "start_time": "2017-11-12T22:07:12.346761Z"
    },
    "run_control": {
     "frozen": false,
     "read_only": false
    },
    "scrolled": false
   },
   "outputs": [
    {
     "name": "stdout",
     "output_type": "stream",
     "text": [
      "-- load environment and variables\n",
      "\n",
      "Importing OMEGA from 26 history files between 1850-05-01-00000 and 1850-05-02-00000\n",
      "Importing PRECT from 26 history files between 1850-05-01-00000 and 1850-05-02-00000\n",
      "Importing TS from 26 history files between 1850-05-01-00000 and 1850-05-02-00000\n"
     ]
    }
   ],
   "source": [
    "print(\"-- load environment and variables\")\n",
    "print()\n",
    "\n",
    "historyFilesSettings = getCAMHistoryFilesSettings()\n",
    "\n",
    "inputdir, inputdir_processed_day, inputdir_processed_1hr, inputdir_results, inputdir_fx = \\\n",
    "    getInputDirectories(compset,experiment)\n",
    "\n",
    "omega_id = 'OMEGA'\n",
    "omega = getValues(omega_id,compset,subset,experiment,time_stride,daskarray=daskarray,dates=dates)\n",
    "pr_id = 'PRECT'\n",
    "pr = getValues(pr_id,compset,subset,experiment,time_stride,daskarray=daskarray,dates=dates)\n",
    "ts_id = 'TS'\n",
    "ts = getValues(ts_id,compset,subset,experiment,time_stride,daskarray=daskarray,dates=dates)\n"
   ]
  },
  {
   "cell_type": "code",
   "execution_count": 106,
   "metadata": {
    "ExecuteTime": {
     "end_time": "2017-11-12T22:07:14.138257",
     "start_time": "2017-11-12T22:07:14.096699Z"
    },
    "run_control": {
     "frozen": false,
     "read_only": false
    }
   },
   "outputs": [
    {
     "name": "stdout",
     "output_type": "stream",
     "text": [
      "- load geographic data\n"
     ]
    }
   ],
   "source": [
    "## Get longitude, latitude and landmask\n",
    "\n",
    "print(\"- load geographic data\")\n",
    "\n",
    "fh = Dataset(os.path.join(inputdir_fx,'landmask_fx_CESM111-SPCAM20_allExperiments_r0i0p0.nc'))\n",
    "lon1D = fh.variables['lon'][:]\n",
    "lat1D = fh.variables['lat'][:]\n",
    "lon2D, lat2D = np.meshgrid(lon1D,lat1D)\n",
    "lon2D = da.from_array(lon2D,chunks=lon2D.shape)\n",
    "lat2D = da.from_array(lat2D,chunks=lat2D.shape)\n",
    "\n",
    "landmask = fh.variables['landmask']\n",
    "fh.close()\n"
   ]
  },
  {
   "cell_type": "code",
   "execution_count": 107,
   "metadata": {
    "ExecuteTime": {
     "end_time": "2017-11-12T22:07:14.315959",
     "start_time": "2017-11-12T22:07:14.141301Z"
    },
    "run_control": {
     "frozen": false,
     "read_only": false
    },
    "scrolled": true
   },
   "outputs": [
    {
     "name": "stdout",
     "output_type": "stream",
     "text": [
      "- load surface pressure\n",
      "Importing PS from 26 history files between 1850-05-01-00000 and 1850-05-02-00000\n"
     ]
    }
   ],
   "source": [
    "print(\"- load surface pressure\")\n",
    "\n",
    "input_lev_file = os.path.join(inputdir_fx,'lev_fx_CESM111-SPCAM20_allExperiments_r0i0p0.nc')\n",
    "computeP = getPressureCoordinateFunction(input_lev_file)\n",
    "\n",
    "ps_varid = 'PS'\n",
    "ps = getValues(ps_varid,compset,subset,experiment,time_stride,daskarray=daskarray,dates=dates)\n",
    "pres = computeP(ps)\n",
    "cn = getArrayType(pres)\n"
   ]
  },
  {
   "cell_type": "markdown",
   "metadata": {},
   "source": [
    "# Derive scaling"
   ]
  },
  {
   "cell_type": "code",
   "execution_count": 108,
   "metadata": {
    "ExecuteTime": {
     "end_time": "2017-11-12T22:07:14.356948",
     "start_time": "2017-11-12T22:07:14.318322Z"
    },
    "run_control": {
     "frozen": false,
     "read_only": false
    }
   },
   "outputs": [
    {
     "name": "stdout",
     "output_type": "stream",
     "text": [
      "\n",
      "-- compute (percentile-wise and pointwise) scaling approximation\n",
      "\n"
     ]
    }
   ],
   "source": [
    "print()\n",
    "print(\"-- compute (percentile-wise and pointwise) scaling approximation\")\n",
    "print()"
   ]
  },
  {
   "cell_type": "code",
   "execution_count": 109,
   "metadata": {
    "ExecuteTime": {
     "end_time": "2017-11-12T22:07:15.168584",
     "start_time": "2017-11-12T22:07:14.360196Z"
    },
    "run_control": {
     "frozen": false,
     "marked": false,
     "read_only": false
    }
   },
   "outputs": [
    {
     "name": "stdout",
     "output_type": "stream",
     "text": [
      "compute 2D surfaces of predictor variables\n",
      "CPU times: user 42.2 ms, sys: 3.98 ms, total: 46.2 ms\n",
      "Wall time: 44.8 ms\n"
     ]
    }
   ],
   "source": [
    "%%time\n",
    "print(\"compute 2D surfaces of predictor variables\")\n",
    "p_500 = 50000; levdim=1\n",
    "omega_500 = isobaricSurface(omega,pres,p_ref=p_500,levdim=levdim)\n",
    "qvstar_s = saturationSpecificHumidity(ts,ps)"
   ]
  },
  {
   "cell_type": "code",
   "execution_count": 110,
   "metadata": {
    "ExecuteTime": {
     "end_time": "2017-11-12T22:18:35.692035",
     "start_time": "2017-11-12T22:18:35.555706Z"
    },
    "run_control": {
     "frozen": false,
     "read_only": false
    },
    "scrolled": true
   },
   "outputs": [
    {
     "name": "stdout",
     "output_type": "stream",
     "text": [
      "Compute ranks and ranks locations\n",
      "0.0000 20.5672 36.9043 49.8813 60.1893 68.3772 74.8811 80.0474 84.1511 87.4107 90.0000 92.0567 93.6904 94.9881 96.0189 96.8377 97.4881 98.0047 98.4151 98.7411 99.0000 99.2057 99.3690 99.4988 99.6019 99.6838 99.7488 99.8005 99.8415 99.8741 99.9000 99.9206 99.9369 99.9499 99.9602 99.9684 99.9749 99.9800 99.9842 99.9874 99.9900 \n",
      "CPU times: user 11.8 ms, sys: 821 µs, total: 12.6 ms\n",
      "Wall time: 9.46 ms\n"
     ]
    }
   ],
   "source": [
    "%%time\n",
    "print(\"Compute ranks and ranks locations\")\n",
    "\n",
    "n_pts = pr.size\n",
    "Q_IL = getInvLogRanks(n_pts,fill_last_decade=True)\n",
    "i_Q = indexOfRank(99.9,Q_IL)\n",
    "iQ_slice = slice(i_Q-5,i_Q+5)\n",
    "ranks, centers, bins = computePercentilesAndBinsFromRanks(pr.flatten(),Q_IL)\n",
    "iQ_min = 8\n",
    "iQ_max = min(len(Q_IL),41)\n",
    "\n",
    "# Define reference percentiles and compute percentiles\n",
    "targetranks = Q_IL[iQ_min:iQ_max]\n",
    "ranks_ref = Q_IL[:iQ_max]\n",
    "percentiles = adjustRanks(centers,ranks,ranks_ref)\n",
    "\n",
    "# Suffix to save figures and results\n",
    "output_suffix = 'Q%d-Q%d_%s'%(iQ_min,iQ_max,'-'.join(dates))\n",
    "\n",
    "rank_locations= {}\n",
    "for rank in ranks_ref:\n",
    "    rank_id  = \"%2.4f\"%rank\n",
    "    print(rank_id,end=' ')\n",
    "    rank_locations[rank_id] = getRankLocations(rank,pr,ranks,bins,rank_locations)\n",
    "print()"
   ]
  },
  {
   "cell_type": "code",
   "execution_count": 111,
   "metadata": {
    "ExecuteTime": {
     "end_time": "2017-11-12T22:07:16.885800",
     "start_time": "2017-11-12T22:07:15.298968Z"
    },
    "run_control": {
     "frozen": false,
     "read_only": false
    },
    "scrolled": false
   },
   "outputs": [
    {
     "name": "stdout",
     "output_type": "stream",
     "text": [
      "compute sample size in each bin\n",
      "1021.0 4608\n"
     ]
    }
   ],
   "source": [
    "print(\"compute sample size in each bin\")\n",
    "N_prQ = sampleSizeAtAllRanks(targetranks,pr,ranks_ref,rank_locations=rank_locations)\n",
    "print(np.nansum(N_prQ),pr.size)"
   ]
  },
  {
   "cell_type": "code",
   "execution_count": 112,
   "metadata": {
    "ExecuteTime": {
     "end_time": "2017-11-13T02:07:58.523407",
     "start_time": "2017-11-13T02:07:56.744092Z"
    },
    "run_control": {
     "frozen": false,
     "read_only": false
    }
   },
   "outputs": [
    {
     "name": "stdout",
     "output_type": "stream",
     "text": [
      "> Plot sample size in each percentile bin\n"
     ]
    },
    {
     "data": {
      "image/png": "[encoded data removed]",
      "text/plain": [
       "<matplotlib.figure.Figure at 0x2b64ac9fca90>"
      ]
     },
     "metadata": {},
     "output_type": "display_data"
    }
   ],
   "source": [
    "print(\"> Plot sample size in each percentile bin\")\n",
    "\n",
    "fig, ax = plt.subplots(ncols=1,nrows=1,figsize=(5,4.5))\n",
    "\n",
    "ax.set_yscale('log')\n",
    "\n",
    "# Add zero line\n",
    "addZeroLine(ax,ranks_ref)\n",
    "\n",
    "# Grey shading \n",
    "i_Q_lims = (iQ_slice.start, iQ_slice.stop-1)\n",
    "subplotXShadingRanksILog(ax,ranks_ref,i_Q_lims,alpha=0.15,transformX=False)\n",
    "\n",
    "subplotRanksILog(ax,ranks_ref,\n",
    "                 N_prQ,\n",
    "                 col='k',ltype='-',transformX=False)\n",
    "\n",
    "addXHatchRanksILog(ax,ranks_ref,(0,iQ_min),transformX=True)\n",
    "\n",
    "ax.set_xlabel('Percentile rank (%)')\n",
    "ax.set_ylabel('Sample size (#)')\n",
    "\n",
    "plt.savefig(os.path.join(figdir,'sample_size_in_P_bins_%s.pdf'%output_suffix),\n",
    "            bbox_inches='tight')\n",
    "\n",
    "plt.show()"
   ]
  },
  {
   "cell_type": "code",
   "execution_count": null,
   "metadata": {
    "collapsed": true
   },
   "outputs": [],
   "source": []
  },
  {
   "cell_type": "code",
   "execution_count": 113,
   "metadata": {
    "ExecuteTime": {
     "end_time": "2017-11-12T22:07:31.242013",
     "start_time": "2017-11-12T22:07:18.452997Z"
    },
    "run_control": {
     "frozen": false,
     "read_only": false
    },
    "scrolled": false
   },
   "outputs": [
    {
     "name": "stdout",
     "output_type": "stream",
     "text": [
      "compute pointwise scaling\n",
      "eps = 0.000561639762019\n",
      "CPU times: user 9.98 ms, sys: 0 ns, total: 9.98 ms\n",
      "Wall time: 9.18 ms\n"
     ]
    }
   ],
   "source": [
    "%%time\n",
    "print(\"compute pointwise scaling\")\n",
    "eps, pr_sc_vQ = computeScalingOmegaQAtAllRanks(targetranks,omega_500,qvstar_s,pr,ranks_ref=ranks_ref[iQ_slice],\n",
    "                                                  bins=bins,rank_locations=rank_locations)\n",
    "pr_sc_vQ = adjustRanks(pr_sc_vQ,targetranks,ranks_ref)\n",
    "pr_sc = singleLevelScalingFromOmegaQ(omega_500,qvstar_s,efficiency=eps)\n",
    "print(\"eps =\",eps)"
   ]
  },
  {
   "cell_type": "markdown",
   "metadata": {},
   "source": [
    "## Compute statistics"
   ]
  },
  {
   "cell_type": "code",
   "execution_count": 114,
   "metadata": {
    "ExecuteTime": {
     "end_time": "2017-11-12T22:07:31.269976",
     "start_time": "2017-11-12T22:07:31.244488Z"
    },
    "run_control": {
     "frozen": false,
     "read_only": false
    },
    "scrolled": false
   },
   "outputs": [
    {
     "name": "stdout",
     "output_type": "stream",
     "text": [
      "\n",
      "-- compute statistics\n",
      "\n"
     ]
    }
   ],
   "source": [
    "print()\n",
    "print(\"-- compute statistics\")\n",
    "print()"
   ]
  },
  {
   "cell_type": "code",
   "execution_count": 115,
   "metadata": {
    "ExecuteTime": {
     "end_time": "2017-11-12T22:07:37.741243",
     "start_time": "2017-11-12T22:07:31.272512Z"
    },
    "run_control": {
     "frozen": false,
     "read_only": false
    },
    "scrolled": false
   },
   "outputs": [
    {
     "name": "stdout",
     "output_type": "stream",
     "text": [
      "mean of scaling in pr bins\n"
     ]
    }
   ],
   "source": [
    "# %%time\n",
    "print(\"mean of scaling in pr bins\")\n",
    "pr_sc_prQ = meanXAtAllYRanks(targetranks,pr_sc,pr,ranks_ref,rank_locations=rank_locations)"
   ]
  },
  {
   "cell_type": "code",
   "execution_count": 116,
   "metadata": {
    "ExecuteTime": {
     "end_time": "2017-11-12T22:07:43.159910",
     "start_time": "2017-11-12T22:07:37.743689Z"
    },
    "code_folding": [],
    "hide_input": false,
    "run_control": {
     "frozen": false,
     "read_only": false
    }
   },
   "outputs": [
    {
     "name": "stdout",
     "output_type": "stream",
     "text": [
      "interquartile and 90% ranges\n",
      "CPU times: user 5.9 ms, sys: 3.6 ms, total: 9.5 ms\n",
      "Wall time: 8.61 ms\n"
     ]
    }
   ],
   "source": [
    "%%time\n",
    "print(\"interquartile and 90% ranges\")\n",
    "ranks_I90 = (5,95)\n",
    "ranks_IQR = (25,75)\n",
    "\n",
    "pr_sc_I90 = XPercentilesAtAllYRanks(targetranks,pr_sc,ranks_I90,pr,ranks_ref,rank_locations_X=rank_locations)\n",
    "pr_sc_IQR = XPercentilesAtAllYRanks(targetranks,pr_sc,ranks_IQR,pr,ranks_ref,rank_locations_X=rank_locations)\n"
   ]
  },
  {
   "cell_type": "code",
   "execution_count": 117,
   "metadata": {
    "ExecuteTime": {
     "end_time": "2017-11-12T22:18:59.876619",
     "start_time": "2017-11-12T22:18:58.310646Z"
    },
    "run_control": {
     "frozen": false,
     "marked": false,
     "read_only": false
    },
    "scrolled": false
   },
   "outputs": [
    {
     "name": "stdout",
     "output_type": "stream",
     "text": [
      "> plot PDF with scaling and variability\n"
     ]
    },
    {
     "data": {
      "image/png": "[encoded data removed]",
      "text/plain": [
       "<matplotlib.figure.Figure at 0x2b6433bb87f0>"
      ]
     },
     "metadata": {},
     "output_type": "display_data"
    }
   ],
   "source": [
    "print(\"> plot PDF with scaling and variability\")\n",
    "\n",
    "fig, ax = plt.subplots(ncols=1,nrows=1,figsize=(5,4.5))\n",
    "\n",
    "ax.set_yscale('log')\n",
    "ax.set_ylim((1e-9,3e-6))\n",
    "\n",
    "# Grey shading \n",
    "i_Q_lims = (iQ_slice.start, iQ_slice.stop-1)\n",
    "subplotXShadingRanksILog(ax,ranks_ref,i_Q_lims,alpha=0.15,transformX=False)\n",
    "# 90% confidence interval for pointwise scaling 2\n",
    "subplotYShadingRanksILog(ax,ranks_ref,[pr_sc_I90[:,0],pr_sc_IQR[:,1]],col='green',transformX=False)\n",
    "# Interquartile range for pointwise scaling 2\n",
    "subplotYShadingRanksILog(ax,ranks_ref,[pr_sc_IQR[:,0],pr_sc_IQR[:,1]],col='green',transformX=False)\n",
    "# Mean of pointwise scaling 2\n",
    "subplotRanksILog(ax,ranks_ref,[percentiles,pr_sc_prQ,pr_sc_vQ],col=['k','green','k'],ltype=['-','-',':'],\\\n",
    "                 transformX=False)\n",
    "\n",
    "addXHatchRanksILog(ax,ranks_ref,(0,iQ_min),transformX=True)\n",
    "\n",
    "ax.set_xlabel('Percentile rank (%)')\n",
    "ax.set_ylabel('Rainfall Intensity (kg/m2/s)')\n",
    "# ax.set_title(r'$\\varepsilon\\omega_{500}q_v^\\star(T)$')\n",
    "\n",
    "plt.savefig(os.path.join(figdir,'pdf_P_and_Psc_mean_IQR_I90_%s.pdf'%output_suffix),\n",
    "            bbox_inches='tight')\n",
    "\n",
    "plt.show()"
   ]
  },
  {
   "cell_type": "markdown",
   "metadata": {},
   "source": [
    "### Decompose bias into its contributions from qvstar and omega (scaling #3)"
   ]
  },
  {
   "cell_type": "code",
   "execution_count": 118,
   "metadata": {
    "ExecuteTime": {
     "end_time": "2017-11-12T22:07:44.461177",
     "start_time": "2017-11-12T22:07:44.434260Z"
    },
    "run_control": {
     "frozen": false,
     "read_only": false
    }
   },
   "outputs": [
    {
     "name": "stdout",
     "output_type": "stream",
     "text": [
      "\n",
      "-- decompose bias into qvstar and omega contributions\n",
      "\n"
     ]
    }
   ],
   "source": [
    "print()\n",
    "print(\"-- decompose bias into qvstar and omega contributions\")\n",
    "print()"
   ]
  },
  {
   "cell_type": "code",
   "execution_count": 119,
   "metadata": {
    "ExecuteTime": {
     "end_time": "2017-11-12T22:07:53.269891",
     "start_time": "2017-11-12T22:07:44.463663Z"
    },
    "run_control": {
     "frozen": false,
     "read_only": false
    }
   },
   "outputs": [
    {
     "name": "stdout",
     "output_type": "stream",
     "text": [
      "Q-mean terms\n",
      "CPU times: user 8.49 ms, sys: 0 ns, total: 8.49 ms\n",
      "Wall time: 7.33 ms\n"
     ]
    }
   ],
   "source": [
    "%%time\n",
    "print(\"Q-mean terms\")\n",
    "qvstar_s_prQ = meanXAtAllYRanks(targetranks,qvstar_s,pr,ranks_ref,rank_locations=rank_locations)\n",
    "omega_500_prQ = meanXAtAllYRanks(targetranks,omega_500,pr,ranks_ref,rank_locations=rank_locations)"
   ]
  },
  {
   "cell_type": "code",
   "execution_count": 120,
   "metadata": {
    "ExecuteTime": {
     "end_time": "2017-11-12T22:07:53.304406",
     "start_time": "2017-11-12T22:07:53.272442Z"
    },
    "run_control": {
     "frozen": false,
     "read_only": false
    }
   },
   "outputs": [
    {
     "name": "stdout",
     "output_type": "stream",
     "text": [
      "Compute bias\n",
      "-0.00405661607612\n",
      "CPU times: user 938 µs, sys: 249 µs, total: 1.19 ms\n",
      "Wall time: 645 µs\n"
     ]
    }
   ],
   "source": [
    "%%time\n",
    "print(\"Compute bias\")\n",
    "bias_sc = (pr_sc_prQ - pr_sc_vQ)/pr_sc_prQ\n",
    "print(np.nanmean(bias_sc[iQ_slice]))"
   ]
  },
  {
   "cell_type": "code",
   "execution_count": 121,
   "metadata": {
    "ExecuteTime": {
     "end_time": "2017-11-12T22:07:56.822732",
     "start_time": "2017-11-12T22:07:53.307184Z"
    },
    "run_control": {
     "frozen": false,
     "read_only": false
    }
   },
   "outputs": [
    {
     "name": "stdout",
     "output_type": "stream",
     "text": [
      "covariance term\n",
      "CPU times: user 5.64 ms, sys: 340 µs, total: 5.98 ms\n",
      "Wall time: 5.18 ms\n"
     ]
    }
   ],
   "source": [
    "%%time\n",
    "print(\"covariance term\")\n",
    "cov_qvstar_s_omega_500_prQ = covAtAllYRanks(targetranks,qvstar_s,omega_500,pr,ranks_ref,\n",
    "                                            rank_locations=rank_locations)"
   ]
  },
  {
   "cell_type": "code",
   "execution_count": 122,
   "metadata": {
    "ExecuteTime": {
     "end_time": "2017-11-12T22:07:56.854893",
     "start_time": "2017-11-12T22:07:56.825390Z"
    },
    "run_control": {
     "frozen": false,
     "read_only": false
    }
   },
   "outputs": [
    {
     "name": "stdout",
     "output_type": "stream",
     "text": [
      "normalized contribution\n"
     ]
    }
   ],
   "source": [
    "print(\"normalized contribution\")\n",
    "contribQOmega_bias_covQOmega = cov_qvstar_s_omega_500_prQ/qvstar_s_prQ/omega_500_prQ"
   ]
  },
  {
   "cell_type": "code",
   "execution_count": 123,
   "metadata": {
    "ExecuteTime": {
     "end_time": "2017-11-12T22:19:08.975933",
     "start_time": "2017-11-12T22:19:07.548082Z"
    },
    "run_control": {
     "frozen": false,
     "read_only": false
    },
    "scrolled": false
   },
   "outputs": [
    {
     "name": "stdout",
     "output_type": "stream",
     "text": [
      "> plot bias and corresponding contributions\n"
     ]
    },
    {
     "data": {
      "image/png": "[encoded data removed]",
      "text/plain": [
       "<matplotlib.figure.Figure at 0x2b64acc3a470>"
      ]
     },
     "metadata": {},
     "output_type": "display_data"
    }
   ],
   "source": [
    "# %%time\n",
    "print(\"> plot bias and corresponding contributions\")\n",
    "\n",
    "fig, ax = plt.subplots(ncols=1,nrows=1,figsize=(5,4.5))\n",
    "ax.set_ylim((-.25,.25))\n",
    "\n",
    "# Grey shading \n",
    "i_Q_lims = (iQ_slice.start, iQ_slice.stop-1)\n",
    "subplotXShadingRanksILog(ax,ranks_ref,i_Q_lims,alpha=0.15,transformX=False)\n",
    "\n",
    "# zero line\n",
    "addZeroLine(ax,ranks_ref)\n",
    "\n",
    "subplotRanksILog(ax,ranks_ref,\n",
    "                 bias_sc,\n",
    "                 col='k',ltype='-',transformX=False)\n",
    "\n",
    "subplotRanksILog(ax,ranks_ref,\n",
    "                 contribQOmega_bias_covQOmega,\n",
    "                 col='k',ltype='--',transformX=False)\n",
    "\n",
    "addXHatchRanksILog(ax,ranks_ref,(0,iQ_min),transformX=True)\n",
    "\n",
    "ax.legend([r'$1-(\\alpha q_{v,Q}^\\star \\omega_Q) / P_Q$',r'$\\propto Cov(q_v^\\star,\\omega)$'],\n",
    "          loc = 'upper left')\n",
    "\n",
    "ax.set_xlabel('Percentile rank (%)')\n",
    "ax.set_ylabel(r'Normalized bias $\\frac{b}{\\mu}$')\n",
    "\n",
    "plt.savefig(os.path.join(figdir,'bias_and_cov_omega_q_%s.pdf'%output_suffix),\n",
    "            bbox_inches='tight')\n",
    "\n",
    "plt.show()"
   ]
  },
  {
   "cell_type": "markdown",
   "metadata": {},
   "source": [
    "## Decompose the variance"
   ]
  },
  {
   "cell_type": "markdown",
   "metadata": {},
   "source": [
    "### Decompose Variance into its contributions from qvstar and omega (scaling #3)"
   ]
  },
  {
   "cell_type": "code",
   "execution_count": 124,
   "metadata": {
    "ExecuteTime": {
     "end_time": "2017-11-12T22:07:57.910718",
     "start_time": "2017-11-12T22:07:57.877515Z"
    },
    "run_control": {
     "frozen": false,
     "read_only": false
    }
   },
   "outputs": [
    {
     "name": "stdout",
     "output_type": "stream",
     "text": [
      "\n",
      "-- decompose variance into qvstar and omega contributions\n",
      "\n"
     ]
    }
   ],
   "source": [
    "print()\n",
    "print(\"-- decompose variance into qvstar and omega contributions\")\n",
    "print()"
   ]
  },
  {
   "cell_type": "code",
   "execution_count": 125,
   "metadata": {
    "ExecuteTime": {
     "end_time": "2017-11-12T22:08:03.942402",
     "start_time": "2017-11-12T22:07:57.913372Z"
    },
    "run_control": {
     "frozen": false,
     "read_only": false
    },
    "scrolled": false
   },
   "outputs": [
    {
     "name": "stdout",
     "output_type": "stream",
     "text": [
      "Compute the variance in pr\n",
      "CPU times: user 5.25 ms, sys: 235 µs, total: 5.48 ms\n",
      "Wall time: 4.65 ms\n"
     ]
    }
   ],
   "source": [
    "%%time \n",
    "print(\"Compute the variance in pr\")\n",
    "var_pr_sc_prQ = varXAtAllYRanks(targetranks,pr_sc,pr,ranks_ref,rank_locations=rank_locations)"
   ]
  },
  {
   "cell_type": "code",
   "execution_count": 126,
   "metadata": {
    "ExecuteTime": {
     "end_time": "2017-11-12T22:08:03.971377",
     "start_time": "2017-11-12T22:08:03.944571Z"
    },
    "run_control": {
     "frozen": false,
     "read_only": false
    }
   },
   "outputs": [
    {
     "name": "stdout",
     "output_type": "stream",
     "text": [
      "normalized variability\n",
      "0.00854905320741\n"
     ]
    }
   ],
   "source": [
    "print(\"normalized variability\")\n",
    "norm_var_pr_sc_prQ = var_pr_sc_prQ/(pr_sc_prQ**2)\n",
    "print(np.nanmean(norm_var_pr_sc_prQ[iQ_slice]))"
   ]
  },
  {
   "cell_type": "code",
   "execution_count": 127,
   "metadata": {
    "ExecuteTime": {
     "end_time": "2017-11-12T22:08:19.501807",
     "start_time": "2017-11-12T22:08:03.973643Z"
    },
    "run_control": {
     "frozen": false,
     "read_only": false
    }
   },
   "outputs": [
    {
     "name": "stdout",
     "output_type": "stream",
     "text": [
      "compute variability terms\n",
      "CPU times: user 17.8 ms, sys: 105 µs, total: 17.9 ms\n",
      "Wall time: 16.6 ms\n"
     ]
    }
   ],
   "source": [
    "%%time\n",
    "print(\"compute variability terms\")\n",
    "var_qvstar_s_prQ = varXAtAllYRanks(targetranks,qvstar_s,pr,ranks_ref,rank_locations=rank_locations)\n",
    "var_omega_500_prQ = varXAtAllYRanks(targetranks,omega_500,pr,ranks_ref,rank_locations=rank_locations)\n",
    "cov_qvstar_s_omega_500_prQ = covAtAllYRanks(targetranks,qvstar_s,omega_500,pr,ranks_ref,\n",
    "                                            rank_locations=rank_locations)\n",
    "cov_qvstar_s_2_omega_500_2_prQ = covAtAllYRanks(targetranks,qvstar_s**2,omega_500**2,pr,ranks_ref,\n",
    "                                                rank_locations=rank_locations)"
   ]
  },
  {
   "cell_type": "code",
   "execution_count": 128,
   "metadata": {
    "ExecuteTime": {
     "end_time": "2017-11-12T22:08:19.540923",
     "start_time": "2017-11-12T22:08:19.504803Z"
    },
    "run_control": {
     "frozen": false,
     "read_only": false
    }
   },
   "outputs": [
    {
     "name": "stdout",
     "output_type": "stream",
     "text": [
      "normalized contributions, expanded terms\n",
      "-0.0235874710388 0.0109614820983 0.00914512610419 0.000114216740423 -9.21547287578e-05 0.0119820645647 0.00852326374005\n"
     ]
    }
   ],
   "source": [
    "print(\"normalized contributions, expanded terms\")\n",
    "\n",
    "# a_v = (eps/gg)**2\n",
    "# contrib_covX2Y2 = a_v*cov_qvstar_s_2_omega_500_2_prQ/(pr_sc_prQ**2)\n",
    "# contrib_varX = a_v*(omega_500_prQ**2)*var_qvstar_s_prQ/(pr_sc_prQ**2)\n",
    "# contrib_varY = a_v*(qvstar_s_prQ**2)*var_omega_500_prQ/(pr_sc_prQ**2)\n",
    "# contrib_varXvarY = a_v*var_qvstar_s_prQ*var_omega_500_prQ/(pr_sc_prQ**2)\n",
    "# contrib_cov2XY = -a_v*(cov_qvstar_s_omega_500_prQ**2)/(pr_sc_prQ**2)\n",
    "# contrib_covXY = -a_v*2*qvstar_s_prQ*omega_500_prQ*cov_qvstar_s_omega_500_prQ/(pr_sc_prQ**2)\n",
    "contribQOmega_var_covQ2Omega2 = cov_qvstar_s_2_omega_500_2_prQ/((omega_500_prQ*qvstar_s_prQ)**2)\n",
    "contribQOmega_var_varQ = var_qvstar_s_prQ/(qvstar_s_prQ**2)\n",
    "contribQOmega_var_varOmega = var_omega_500_prQ/(omega_500_prQ**2)\n",
    "contribQOmega_var_varQvarOmega = var_qvstar_s_prQ*var_omega_500_prQ/((omega_500_prQ*qvstar_s_prQ)**2)\n",
    "contribQOmega_var_cov2QOmega = -(cov_qvstar_s_omega_500_prQ**2)/((omega_500_prQ*qvstar_s_prQ)**2)\n",
    "contribQOmega_var_covQOmega = -2*cov_qvstar_s_omega_500_prQ/(omega_500_prQ*qvstar_s_prQ)\n",
    "contribQOmega_var_sum = contribQOmega_var_covQ2Omega2 + contribQOmega_var_varQ + contribQOmega_var_varOmega + \\\n",
    "    contribQOmega_var_varQvarOmega + contribQOmega_var_cov2QOmega + contribQOmega_var_covQOmega\n",
    "\n",
    "print(np.nanmean(contribQOmega_var_covQ2Omega2[iQ_slice]),np.nanmean(contribQOmega_var_varQ[iQ_slice]),\n",
    "      np.nanmean(contribQOmega_var_varOmega[iQ_slice]),np.nanmean(contribQOmega_var_varQvarOmega[iQ_slice]),\n",
    "      np.nanmean(contribQOmega_var_cov2QOmega[iQ_slice]),np.nanmean(contribQOmega_var_covQOmega[iQ_slice]),\n",
    "      np.nanmean(contribQOmega_var_sum[iQ_slice]))"
   ]
  },
  {
   "cell_type": "code",
   "execution_count": 129,
   "metadata": {
    "ExecuteTime": {
     "end_time": "2017-11-12T22:19:15.553918",
     "start_time": "2017-11-12T22:19:13.421792Z"
    },
    "run_control": {
     "frozen": false,
     "read_only": false
    },
    "scrolled": false
   },
   "outputs": [
    {
     "name": "stdout",
     "output_type": "stream",
     "text": [
      "> plot variance and corresponding contributions\n"
     ]
    },
    {
     "data": {
      "image/png": "[encoded data removed]",
      "text/plain": [
       "<matplotlib.figure.Figure at 0x2b64acbcbb00>"
      ]
     },
     "metadata": {},
     "output_type": "display_data"
    },
    {
     "name": "stdout",
     "output_type": "stream",
     "text": [
      "CPU times: user 1.52 s, sys: 51.1 ms, total: 1.58 s\n",
      "Wall time: 1.56 s\n"
     ]
    }
   ],
   "source": [
    "%%time\n",
    "print(\"> plot variance and corresponding contributions\")\n",
    "\n",
    "fig, ax = plt.subplots(ncols=1,nrows=1,figsize=(5,4.5))\n",
    "ax.set_ylim((-.3,.6))\n",
    "\n",
    "# Grey shading \n",
    "i_Q_lims = (iQ_slice.start, iQ_slice.stop-1)\n",
    "subplotXShadingRanksILog(ax,ranks_ref,i_Q_lims,alpha=0.15,transformX=False)\n",
    "\n",
    "# zero line\n",
    "addZeroLine(ax,ranks_ref)\n",
    "\n",
    "subplotRanksILog(ax,ranks_ref,\n",
    "                 norm_var_pr_sc_prQ,\n",
    "                 col='k',ltype='-',transformX=False)\n",
    "subplotRanksILog(ax,ranks_ref,\n",
    "                 [contribQOmega_var_covQ2Omega2,contribQOmega_var_varQ,contribQOmega_var_varOmega,\n",
    "                  contribQOmega_var_varQvarOmega,contribQOmega_var_cov2QOmega,contribQOmega_var_covQOmega,\n",
    "                  contribQOmega_var_sum],\n",
    "                 col=['r','b','g','brown','y','purple','k'],ltype=['-','-','-','-','-','-',':'],transformX=False)\n",
    "\n",
    "addXHatchRanksILog(ax,ranks_ref,(0,iQ_min),transformX=True)\n",
    "\n",
    "leg = ax.legend([r'$Var(\\alpha q_v^\\star \\omega)$',\n",
    "                 r'$\\propto Cov(q_v^{\\star,2},\\omega^2)$',\n",
    "                 r'$\\propto Var(q_v^\\star)$',\n",
    "                 r'$\\propto Var(\\omega)$',\n",
    "                 r'$\\propto Var(q_v^\\star)Var(\\omega)$',\n",
    "                 r'$\\propto -Cov(q_v^\\star,\\omega)^2$',\n",
    "                 r'$\\propto -Cov(q_v^\\star,\\omega)$',\n",
    "                 r'sum of all'],\n",
    "                 loc='upper left',\n",
    "                 framealpha=0.8,\n",
    "                 ncol=2)\n",
    "\n",
    "ax.set_xlabel('Percentile rank (%)')\n",
    "ax.set_ylabel(r'Contribtions to normalized variance $\\frac{\\sigma^2}{\\mu^2}$')\n",
    "\n",
    "plt.savefig(os.path.join(figdir,'var_and_contributions_omega_q_%s.pdf'%output_suffix),\n",
    "            bbox_inches='tight')\n",
    "\n",
    "plt.show()"
   ]
  },
  {
   "cell_type": "markdown",
   "metadata": {},
   "source": [
    "### Decompose variance into its contributions from T and omega (ignore variability in pressure)"
   ]
  },
  {
   "cell_type": "code",
   "execution_count": 92,
   "metadata": {
    "ExecuteTime": {
     "end_time": "2017-11-12T22:08:21.204042",
     "start_time": "2017-11-12T22:08:21.177080Z"
    },
    "run_control": {
     "frozen": false,
     "read_only": false
    }
   },
   "outputs": [
    {
     "name": "stdout",
     "output_type": "stream",
     "text": [
      "\n",
      "-- decompose variance into T and omega contributions\n",
      "\n"
     ]
    }
   ],
   "source": [
    "print()\n",
    "print(\"-- decompose variance into T and omega contributions\")\n",
    "print()"
   ]
  },
  {
   "cell_type": "code",
   "execution_count": 93,
   "metadata": {
    "ExecuteTime": {
     "end_time": "2017-11-12T22:08:25.199593",
     "start_time": "2017-11-12T22:08:21.206902Z"
    },
    "run_control": {
     "frozen": false,
     "read_only": false
    }
   },
   "outputs": [
    {
     "name": "stdout",
     "output_type": "stream",
     "text": [
      "Q-mean terms\n"
     ]
    }
   ],
   "source": [
    "print(\"Q-mean terms\")\n",
    "ts_prQ = meanXAtAllYRanks(targetranks,ts,pr,ranks_ref,rank_locations=rank_locations)"
   ]
  },
  {
   "cell_type": "code",
   "execution_count": 94,
   "metadata": {
    "ExecuteTime": {
     "end_time": "2017-11-12T22:08:34.490261",
     "start_time": "2017-11-12T22:08:25.202100Z"
    },
    "run_control": {
     "frozen": false,
     "read_only": false
    },
    "scrolled": false
   },
   "outputs": [
    {
     "name": "stdout",
     "output_type": "stream",
     "text": [
      "compute variability terms\n",
      "CPU times: user 27.3 ms, sys: 0 ns, total: 27.3 ms\n",
      "Wall time: 26.1 ms\n"
     ]
    }
   ],
   "source": [
    "%%time\n",
    "print(\"compute variability terms\")\n",
    "var_ts_prQ = varXAtAllYRanks(targetranks,ts,pr,ranks_ref,rank_locations=rank_locations)\n",
    "cov_ts_omega_500_prQ = covAtAllYRanks(targetranks,ts,omega_500,pr,ranks_ref,rank_locations=rank_locations)\n",
    "cov_ts_omega_500_2_prQ = covAtAllYRanks(targetranks,ts,omega_500**2,pr,ranks_ref,rank_locations=rank_locations)"
   ]
  },
  {
   "cell_type": "code",
   "execution_count": 95,
   "metadata": {
    "ExecuteTime": {
     "end_time": "2017-11-12T22:08:34.525203",
     "start_time": "2017-11-12T22:08:34.492837Z"
    },
    "run_control": {
     "frozen": false,
     "read_only": false
    }
   },
   "outputs": [
    {
     "name": "stdout",
     "output_type": "stream",
     "text": [
      "normalized contributions, expanded terms\n",
      "-0.00125927324081 0.000398086070053 0.00964759209928 0.00875939982415 0.0175458047527 \n"
     ]
    }
   ],
   "source": [
    "print(\"normalized contributions, expanded terms\")\n",
    "\n",
    "contribTOmega_var_covTOmega2 = 2*L_v/R_v*cov_ts_omega_500_2_prQ/(ts_prQ*omega_500_prQ)**2\n",
    "contribTOmega_var_covTOmega = -2*L_v/R_v*cov_ts_omega_500_prQ/((ts_prQ**2)*omega_500_prQ)\n",
    "contribTOmega_var_varT = ((L_v/R_v)**2)*var_ts_prQ/(ts_prQ**4)\n",
    "contribTOmega_var_varOmega = var_omega_500_prQ/(omega_500_prQ**2)\n",
    "contribTOmega_var_sum = contribTOmega_var_covTOmega2+contribTOmega_var_covTOmega+contribTOmega_var_varT+\\\n",
    "    contribTOmega_var_varOmega\n",
    "all_contribTOmega_var = [contribTOmega_var_covTOmega2,contribTOmega_var_covTOmega,contribTOmega_var_varT,\n",
    "                    contribTOmega_var_varOmega,contribTOmega_var_sum]\n",
    "for contrib in all_contribTOmega_var:\n",
    "    print(np.nanmean(contrib[iQ_slice]),end=' ')\n",
    "print()"
   ]
  },
  {
   "cell_type": "code",
   "execution_count": 355,
   "metadata": {
    "ExecuteTime": {
     "end_time": "2017-11-12T22:19:20.018546",
     "start_time": "2017-11-12T22:19:18.510656Z"
    },
    "run_control": {
     "frozen": false,
     "read_only": false
    }
   },
   "outputs": [
    {
     "name": "stdout",
     "output_type": "stream",
     "text": [
      "> plot variance and corresponding contributions\n"
     ]
    },
    {
     "data": {
      "image/png": "[encoded data removed]",
      "text/plain": [
       "<matplotlib.figure.Figure at 0x2b64aca32400>"
      ]
     },
     "metadata": {},
     "output_type": "display_data"
    },
    {
     "name": "stdout",
     "output_type": "stream",
     "text": [
      "CPU times: user 1.18 s, sys: 51 ms, total: 1.23 s\n",
      "Wall time: 1.22 s\n"
     ]
    }
   ],
   "source": [
    "%%time \n",
    "print(\"> plot variance and corresponding contributions\")\n",
    "\n",
    "fig, ax = plt.subplots(ncols=1,nrows=1,figsize=(5,4.5))\n",
    "\n",
    "ax.set_ylim((-0.3,0.6))\n",
    "\n",
    "# Grey shading \n",
    "i_Q_lims = (iQ_slice.start, iQ_slice.stop-1)\n",
    "subplotXShadingRanksILog(ax,ranks_ref,i_Q_lims,alpha=0.15,transformX=False)\n",
    "\n",
    "# zero line\n",
    "addZeroLine(ax,ranks_ref)\n",
    "\n",
    "# subplotRanksILog(ax,ranks,np.zeros(ranks.shape),ltype=':',col='k')\n",
    "subplotRanksILog(ax,ranks_ref,\n",
    "                 norm_var_pr_sc_prQ,\n",
    "                 col='k',ltype='-',transformX=False)\n",
    "\n",
    "subplotRanksILog(ax,ranks_ref,\n",
    "                 all_contribTOmega_var,\n",
    "                 col=['green','blue','red','grey','k'],ltype=['-','-','-','-',':'],transformX=False)\n",
    "\n",
    "addXHatchRanksILog(ax,ranks_ref,(0,iQ_min),transformX=True)\n",
    "\n",
    "ax.set_xlabel('Percentile rank (%)')\n",
    "ax.set_ylabel(r'Contributions to Var$_Q(S)$')\n",
    "# ax.set_title(r'$S(\\omega,T)=\\varepsilon\\omega_{500}q_v^\\star(T)$')\n",
    "\n",
    "ax.legend([r'$\\propto Var(\\alpha q_v^\\star \\omega)$',r'$\\propto Cov(T,\\omega^2)$',r'$\\propto Cov(T,\\omega)$',\n",
    "           r'$\\propto Var(T)$',\n",
    "           r'$\\propto Var(\\omega)$','sum'],ncol=2,framealpha=0.8,loc='upper left')\n",
    "\n",
    "plt.savefig(os.path.join(figdir,'var_and_contributions_omega_T_%s.pdf'%output_suffix),\n",
    "            bbox_inches='tight')\n",
    "\n",
    "plt.show()"
   ]
  },
  {
   "cell_type": "markdown",
   "metadata": {
    "collapsed": true,
    "run_control": {
     "frozen": false,
     "read_only": false
    }
   },
   "source": [
    "# Save all variables in dataframe"
   ]
  },
  {
   "cell_type": "code",
   "execution_count": 150,
   "metadata": {
    "ExecuteTime": {
     "end_time": "2017-11-12T22:10:06.681634",
     "start_time": "2017-11-12T22:10:06.655532Z"
    },
    "run_control": {
     "frozen": false,
     "read_only": false
    }
   },
   "outputs": [
    {
     "name": "stdout",
     "output_type": "stream",
     "text": [
      "-- Save results\n"
     ]
    }
   ],
   "source": [
    "print(\"-- Save results\")\n",
    "import pandas as pd\n",
    "import re\n",
    "import pickle"
   ]
  },
  {
   "cell_type": "code",
   "execution_count": 99,
   "metadata": {
    "ExecuteTime": {
     "end_time": "2017-11-12T22:09:39.949113",
     "start_time": "2017-11-12T22:09:39.915617Z"
    },
    "run_control": {
     "frozen": false,
     "read_only": false
    },
    "scrolled": false
   },
   "outputs": [
    {
     "name": "stdout",
     "output_type": "stream",
     "text": [
      "find all varnames to save\n"
     ]
    }
   ],
   "source": [
    "print(\"find all varnames to save\")\n",
    "vars_out = ['ranks_ref']\n",
    "vars_out.extend([v for v in locals().keys() if v.endswith('prQ') or v.endswith('vQ')])\n",
    "vars_out.extend([v for v in locals().keys() if v.startswith('contrib')])"
   ]
  },
  {
   "cell_type": "code",
   "execution_count": 100,
   "metadata": {
    "ExecuteTime": {
     "end_time": "2017-11-12T22:09:40.122833",
     "start_time": "2017-11-12T22:09:40.083443Z"
    },
    "run_control": {
     "frozen": false,
     "read_only": false
    },
    "scrolled": false
   },
   "outputs": [
    {
     "name": "stdout",
     "output_type": "stream",
     "text": [
      "create result dataframe\n"
     ]
    }
   ],
   "source": [
    "print(\"create result dataframe\")\n",
    "results_df = pd.DataFrame({v:getattr(thismodule,v) for v in vars_out})"
   ]
  },
  {
   "cell_type": "code",
   "execution_count": 101,
   "metadata": {
    "ExecuteTime": {
     "end_time": "2017-11-12T22:23:39.736310",
     "start_time": "2017-11-12T22:23:39.707123Z"
    },
    "run_control": {
     "frozen": false,
     "read_only": false
    }
   },
   "outputs": [
    {
     "name": "stdout",
     "output_type": "stream",
     "text": [
      "> save results to results_Q8-Q41_185005010000-185005100000.csv\n",
      "\n"
     ]
    }
   ],
   "source": [
    "resultfile = 'results_%s.csv'%output_suffix\n",
    "print(\"> save results to %s\"%resultfile)\n",
    "results_df.to_csv(os.path.join(resultdir,resultfile))\n",
    "print()"
   ]
  },
  {
   "cell_type": "code",
   "execution_count": 349,
   "metadata": {
    "scrolled": false
   },
   "outputs": [
    {
     "name": "stdout",
     "output_type": "stream",
     "text": [
      "Script successfully terminated in 1:50:28.313670.\n",
      "> Save timing and size info to /global/u2/b/bfildier/code/dataAnalysis/extreme-rain-predictability-across-scales/results/omega500tsps/FSPCAMm_AMIP/piControl/r1i1p1/tropics/day/dx/timing.csv.\n",
      "1:50:28.313670\n"
     ]
    }
   ],
   "source": [
    "if tracktime:\n",
    "    timingfile = 'timing.csv'\n",
    "    fulltimingfile = os.path.join(resultdir,timingfile)\n",
    "    t1 = time.time()\n",
    "    time_elapsed_s = t1-t0\n",
    "    timing_df = saveTiming(fulltimingfile,output_suffix,pr.size,time_elapsed_s,reset_value=True)"
   ]
  },
  {
   "cell_type": "code",
   "execution_count": null,
   "metadata": {
    "collapsed": true
   },
   "outputs": [],
   "source": []
  }
 ],
 "metadata": {
  "hide_input": false,
  "kernelspec": {
   "display_name": "Python 3",
   "language": "python",
   "name": "python3"
  },
  "language_info": {
   "codemirror_mode": {
    "name": "ipython",
    "version": 3
   },
   "file_extension": ".py",
   "mimetype": "text/x-python",
   "name": "python",
   "nbconvert_exporter": "python",
   "pygments_lexer": "ipython3",
   "version": "3.6.1"
  },
  "latex_envs": {
   "bibliofile": "biblio.bib",
   "cite_by": "apalike",
   "current_citInitial": 1,
   "eqLabelWithNumbers": true,
   "eqNumInitial": 0
  },
  "toc": {
   "toc_cell": true,
   "toc_number_sections": true,
   "toc_threshold": 6,
   "toc_window_display": false
  }
 },
 "nbformat": 4,
 "nbformat_minor": 1
}
