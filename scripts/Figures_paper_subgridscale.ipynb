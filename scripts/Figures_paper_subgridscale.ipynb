{
 "cells": [
  {
   "cell_type": "markdown",
   "metadata": {
    "toc": "true"
   },
   "source": [
    "# Table of Contents\n",
    " <p><div class=\"lev2\"><a href=\"#PRECT-statistics\"><span class=\"toc-item-num\">0.1&nbsp;&nbsp;</span>PRECT statistics</a></div><div class=\"lev2\"><a href=\"#Compare-CRM_PREC-and-PRECT\"><span class=\"toc-item-num\">0.2&nbsp;&nbsp;</span>Compare CRM_PREC and PRECT</a></div><div class=\"lev2\"><a href=\"#CRM_PREC-in-percentile-bins-of-PRECT\"><span class=\"toc-item-num\">0.3&nbsp;&nbsp;</span>CRM_PREC in percentile bins of PRECT</a></div>"
   ]
  },
  {
   "cell_type": "code",
   "execution_count": 1,
   "metadata": {
    "ExecuteTime": {
     "end_time": "2018-04-11T20:54:18.059873",
     "start_time": "2018-04-11T20:54:13.968617Z"
    },
    "run_control": {
     "frozen": false,
     "marked": false,
     "read_only": false
    },
    "scrolled": true
   },
   "outputs": [],
   "source": [
    "%load_ext autoreload\n",
    "%matplotlib inline"
   ]
  },
  {
   "cell_type": "code",
   "execution_count": 2,
   "metadata": {
    "ExecuteTime": {
     "end_time": "2018-04-13T18:35:04.716826",
     "start_time": "2018-04-13T18:35:04.651011Z"
    },
    "hide_input": false,
    "run_control": {
     "frozen": false,
     "read_only": false
    }
   },
   "outputs": [
    {
     "name": "stdout",
     "output_type": "stream",
     "text": [
      "Own modules available: ['plot1DInvLog', 'thermoFunctions', 'statisticalDistributions', 'slicingAndSubsetting', 'plot2D', 'outputResults', 'thermoConstants', 'plotMaps', 'daskOptions', 'scalingApproximations', 'CAMsettings', 'environmentAndDirectories', 'importingData', 'physicalConstants']\n"
     ]
    }
   ],
   "source": [
    "%autoreload 2\n",
    "\n",
    "import pandas as pd\n",
    "import numpy as np\n",
    "import numpy.ma as ma\n",
    "import dask.array as da\n",
    "import matplotlib.pyplot as plt\n",
    "from matplotlib import mplDeprecation\n",
    "import datetime as dt\n",
    "import sys,os,glob\n",
    "import matplotlib\n",
    "from mpl_toolkits.basemap import Basemap\n",
    "from matplotlib.colors import LogNorm\n",
    "import pickle\n",
    "from scipy.ndimage import convolve\n",
    "\n",
    "## Add own library to path\n",
    "workdir = os.getcwd()\n",
    "thismodule = sys.modules[__name__]\n",
    "moduledir = os.path.join(os.path.dirname(workdir),'functions')\n",
    "sys.path.insert(0,moduledir)\n",
    "print(\"Own modules available:\", [os.path.splitext(os.path.basename(x))[0]\n",
    "                                 for x in glob.glob(os.path.join(moduledir,'*.py'))])\n",
    "\n",
    "## Load own libraries\n",
    "from importingData import *\n",
    "from scalingApproximations import *\n",
    "from plotMaps import *\n",
    "from plot1DInvLog import *\n",
    "from statisticalDistributions import *\n",
    "from slicingAndSubsetting import *\n",
    "from outputResults import *\n",
    "from CAMsettings import *\n",
    "from plot2D import *\n",
    "from itertools import zip_longest\n",
    "\n",
    "## Graphical parameters\n",
    "plt.style.use(os.path.join(matplotlib.get_configdir(),'stylelib/presentation.mplstyle'))"
   ]
  },
  {
   "cell_type": "code",
   "execution_count": 3,
   "metadata": {
    "ExecuteTime": {
     "end_time": "2018-04-11T20:54:26.472049",
     "start_time": "2018-04-11T20:54:26.431218Z"
    },
    "run_control": {
     "frozen": false,
     "read_only": false
    }
   },
   "outputs": [],
   "source": [
    "time_stride = '1h'\n",
    "resolution = '1dx'\n",
    "\n",
    "ranks_label = 'Q8-Q41'\n",
    "dates_label_full = '185005010100-185105010000'\n",
    "dates_label_med = '185005010100-185009010000'\n",
    "dates_label_short = '185005010100-185005020000'\n",
    "dates_label = dates_label_full\n",
    "dates = tuple(dates_label.split('-'))"
   ]
  },
  {
   "cell_type": "code",
   "execution_count": 4,
   "metadata": {
    "ExecuteTime": {
     "end_time": "2018-04-11T20:54:26.516550",
     "start_time": "2018-04-11T20:54:26.475124Z"
    },
    "run_control": {
     "frozen": false,
     "read_only": false
    }
   },
   "outputs": [
    {
     "name": "stdout",
     "output_type": "stream",
     "text": [
      "choose run options\n"
     ]
    }
   ],
   "source": [
    "print(\"choose run options\")\n",
    "scaling = 'omega500tsps'\n",
    "compset = 'FSPCAMm_AMIP'\n",
    "experiment = 'piControl'\n",
    "member = 'r1i1p1'\n",
    "subset = 'tropics'\n",
    "# time_ref = '1h'\n",
    "# res_ref = '1dx'\n",
    "daskarray = False"
   ]
  },
  {
   "cell_type": "code",
   "execution_count": 35,
   "metadata": {
    "ExecuteTime": {
     "end_time": "2018-04-11T20:54:26.564437",
     "start_time": "2018-04-11T20:54:26.519647Z"
    },
    "run_control": {
     "frozen": false,
     "read_only": false
    }
   },
   "outputs": [
    {
     "name": "stdout",
     "output_type": "stream",
     "text": [
      "\n",
      "get inputpaths\n"
     ]
    }
   ],
   "source": [
    "# Figure output directory\n",
    "figdir = os.path.join(os.path.dirname(workdir),'figures','omega500tsps',compset,experiment,member,subset)\n",
    "handle= 'h0'\n",
    "os.makedirs(figdir,exist_ok=True)\n",
    "\n",
    "resultdir = os.path.join(os.path.dirname(workdir),'results','omega500tsps',compset,experiment,member,subset,\\\n",
    "                      time_stride,resolution)\n",
    "os.makedirs(resultdir,exist_ok=True)\n",
    "\n",
    "print()\n",
    "print(\"get inputpaths\")\n",
    "\n",
    "# Local input directory\n",
    "historyFilesSettings = getCAMHistoryFilesSettings()\n",
    "inputdir, inputdir_processed_day, inputdir_processed_1hr, inputdir_results, inputdir_fx = \\\n",
    "    getInputDirectories(compset,experiment)"
   ]
  },
  {
   "cell_type": "code",
   "execution_count": 6,
   "metadata": {
    "ExecuteTime": {
     "end_time": "2018-04-11T20:54:27.834260",
     "start_time": "2018-04-11T20:54:26.567317Z"
    },
    "run_control": {
     "frozen": false,
     "read_only": false
    },
    "scrolled": true
   },
   "outputs": [
    {
     "name": "stdout",
     "output_type": "stream",
     "text": [
      "load physical variables data\n",
      "Importing PRECT, CRM_PREC from 1577 history files between 1850-05-01-03600 and 1850-07-05-61200\n"
     ]
    }
   ],
   "source": [
    "print(\"load physical variables data\")\n",
    "\n",
    "pr_id = 'PRECT'\n",
    "crmpr_id = 'CRM_PREC'\n",
    "\n",
    "pr,crmpr = getValues([pr_id,crmpr_id],\n",
    "              compset,subset,experiment,time_stride,resolution,\n",
    "              daskarray=daskarray,dates=dates,handle=handle)\n",
    "\n",
    "s_crm2D = crmpr.shape"
   ]
  },
  {
   "cell_type": "markdown",
   "metadata": {},
   "source": [
    "## PRECT statistics"
   ]
  },
  {
   "cell_type": "code",
   "execution_count": 7,
   "metadata": {
    "ExecuteTime": {
     "end_time": "2018-04-12T21:53:44.127384",
     "start_time": "2018-04-12T21:53:44.054740Z"
    },
    "run_control": {
     "frozen": false,
     "read_only": false
    },
    "scrolled": false
   },
   "outputs": [
    {
     "name": "stdout",
     "output_type": "stream",
     "text": [
      "Compute ranks and ranks locations\n",
      "0.0000 20.5672 36.9043 49.8813 60.1893 68.3772 74.8811 80.0474 84.1511 87.4107 90.0000 92.0567 93.6904 94.9881 96.0189 96.8377 97.4881 98.0047 98.4151 98.7411 99.0000 99.2057 99.3690 99.4988 99.6019 99.6838 99.7488 99.8005 99.8415 99.8741 99.9000 99.9206 99.9369 99.9499 99.9602 99.9684 99.9749 99.9800 99.9842 99.9874 99.9900 \n",
      "CPU times: user 427 ms, sys: 19.4 ms, total: 446 ms\n",
      "Wall time: 433 ms\n"
     ]
    }
   ],
   "source": [
    "%%time\n",
    "print(\"Compute ranks and ranks locations\")\n",
    "\n",
    "n_pts = pr.size\n",
    "Q_IL = getInvLogRanks(n_pts,n_pts_per_bin=1,fill_last_decade=True)\n",
    "i_Q = indexOfRank(99.9,Q_IL)\n",
    "iQ_slice = slice(i_Q-5,i_Q+5)\n",
    "ranks, centers, bins = computePercentilesAndBinsFromRanks(pr.flatten(),Q_IL)\n",
    "iQ_min = 8\n",
    "iQ_max = min(len(Q_IL),41)\n",
    "# iQ_max = min(len(Q_IL),iQ_slice.stop)\n",
    "\n",
    "# Define reference percentiles and compute percentiles\n",
    "targetranks = Q_IL[iQ_min:iQ_max]\n",
    "ranks_ref = Q_IL[:iQ_max]\n",
    "percentiles = adjustRanks(centers,ranks,ranks_ref)\n",
    "\n",
    "# Suffix to save figures and results\n",
    "output_suffix = 'Q%d-Q%d_%s'%(iQ_min,iQ_max,'-'.join(dates))\n",
    "\n",
    "rank_locations= {}\n",
    "for rank in ranks_ref:\n",
    "    rank_id  = \"%2.4f\"%rank\n",
    "    print(rank_id,end=' ')\n",
    "    rank_locations[rank_id] = getRankLocations(rank,pr,ranks_ref,bins,rank_locations)\n",
    "print()"
   ]
  },
  {
   "cell_type": "code",
   "execution_count": 8,
   "metadata": {
    "ExecuteTime": {
     "end_time": "2018-04-12T21:40:53.936397",
     "start_time": "2018-04-12T21:40:53.889461Z"
    },
    "run_control": {
     "frozen": false,
     "read_only": false
    },
    "scrolled": true
   },
   "outputs": [
    {
     "name": "stdout",
     "output_type": "stream",
     "text": [
      "compute sample size in each bin\n",
      "1280069.0 7266816\n"
     ]
    }
   ],
   "source": [
    "print(\"compute sample size in each bin\")\n",
    "N_prQ = sampleSizeAtAllRanks(targetranks,pr,ranks_ref,rank_locations=rank_locations)\n",
    "print(np.nansum(N_prQ),pr.size)"
   ]
  },
  {
   "cell_type": "code",
   "execution_count": 9,
   "metadata": {
    "ExecuteTime": {
     "end_time": "2018-04-12T21:40:54.391853",
     "start_time": "2018-04-12T21:40:54.338757Z"
    }
   },
   "outputs": [
    {
     "name": "stdout",
     "output_type": "stream",
     "text": [
      "Mean pr in each bin\n"
     ]
    }
   ],
   "source": [
    "print(\"Mean pr in each bin\")\n",
    "pr_prQ = meanXAtAllYRanks(targetranks,pr,pr,ranks_ref,rank_locations=rank_locations)"
   ]
  },
  {
   "cell_type": "markdown",
   "metadata": {},
   "source": [
    "## Compare CRM_PREC and PRECT"
   ]
  },
  {
   "cell_type": "markdown",
   "metadata": {},
   "source": [
    "There seems to be up to 25% error between PRECT and CRM_PREC"
   ]
  },
  {
   "cell_type": "code",
   "execution_count": 10,
   "metadata": {
    "ExecuteTime": {
     "end_time": "2018-04-12T21:40:57.623538",
     "start_time": "2018-04-12T21:40:57.092713Z"
    },
    "run_control": {
     "frozen": false,
     "read_only": false
    }
   },
   "outputs": [
    {
     "data": {
      "image/png": "[encoded data removed]",
      "text/plain": [
       "<matplotlib.figure.Figure at 0x2b5166bd4128>"
      ]
     },
     "metadata": {},
     "output_type": "display_data"
    }
   ],
   "source": [
    "crmpr_avg = np.mean(crmpr,axis=2).squeeze()\n",
    "err = (np.abs(crmpr_avg-pr)/pr).flatten()\n",
    "dens,edges = np.histogram(err,range=(0,5e-7))\n",
    "plt.plot(np.convolve(edges,(0.5,0.5),'valid'),dens)\n",
    "plt.xlabel('Relative error')\n",
    "plt.ylabel('Density')\n",
    "plt.yscale('log')"
   ]
  },
  {
   "cell_type": "markdown",
   "metadata": {},
   "source": [
    "## CRM_PREC in percentile bins of PRECT"
   ]
  },
  {
   "cell_type": "code",
   "execution_count": 11,
   "metadata": {
    "ExecuteTime": {
     "end_time": "2018-04-16T18:13:00.326928",
     "start_time": "2018-04-16T18:13:00.286809Z"
    }
   },
   "outputs": [],
   "source": [
    "# Function that computes the number of local maxima \n",
    "def numLocalMax(x):\n",
    "    dx = convolve(x,(1,-1),mode='wrap')\n",
    "    return np.logical_and(dx < 0, np.roll(dx,1) >= 0).sum()\n",
    "\n",
    "# Function that computes the number of local minima \n",
    "def localMin(x):\n",
    "    dx = convolve(x,(1,-1),mode='wrap')\n",
    "    return np.logical_and(dx > 0, np.roll(dx,1) <= 0)\n",
    "\n",
    "# Computes the fraction of rain for each event in decreasing order\n",
    "def fractionRainPerEvent(x):\n",
    "    \n",
    "    \"\"\"Returns the fraction of crmpr rained in each event in decreasing order,\n",
    "    and the indices corresponding to the ordering.\"\"\"\n",
    "    \n",
    "    nx = len(x)\n",
    "    locmin = localMin(x)\n",
    "    indmin = np.where(locmin)[0]\n",
    "    x_evt = []\n",
    "    for k in range(len(indmin)):\n",
    "        i = indmin[k] \n",
    "        j = np.roll(indmin,-1)[k]\n",
    "        imax = (j-i) % nx\n",
    "        x_evt.append((np.roll(x,-i)[0:imax]).sum()/float(nx)/np.mean(x))\n",
    "    ind_sort = np.argsort(x_evt)[::-1]\n",
    "    x_evt.sort(reverse=True)\n",
    "    \n",
    "    return x_evt,ind_sort"
   ]
  },
  {
   "cell_type": "code",
   "execution_count": 12,
   "metadata": {
    "ExecuteTime": {
     "end_time": "2018-04-16T18:43:28.849305",
     "start_time": "2018-04-16T18:43:26.977705Z"
    },
    "run_control": {
     "frozen": false,
     "read_only": false
    },
    "scrolled": false
   },
   "outputs": [
    {
     "name": "stdout",
     "output_type": "stream",
     "text": [
      "99.9601892829\n",
      "P_Q = 1.45309099123e-06\n",
      "bin: 1.42566118214e-06 1.47920697734e-06\n",
      "\n",
      "All values of pr in percentile bin: [  1.44254898e-06   1.44440378e-06   1.47121659e-06   1.43584953e-06\n",
      "   1.47593653e-06   1.46633295e-06   1.45484614e-06   1.44056230e-06\n",
      "   1.45034801e-06   1.45329250e-06   1.42603687e-06   1.43920579e-06\n",
      "   1.47245339e-06   1.46952232e-06   1.45073386e-06   1.45587774e-06\n",
      "   1.47588946e-06   1.45061097e-06   1.47284322e-06   1.46598336e-06\n",
      "   1.46072500e-06   1.43427746e-06   1.43083457e-06   1.46570437e-06\n",
      "   1.45255467e-06   1.45237971e-06   1.46153309e-06   1.44947137e-06\n",
      "   1.44275748e-06   1.44180797e-06   1.44029570e-06   1.44859814e-06\n",
      "   1.46686466e-06   1.43330465e-06   1.46360958e-06   1.44042281e-06\n",
      "   1.45449656e-06   1.46099137e-06   1.42874990e-06   1.43841999e-06\n",
      "   1.47743128e-06   1.46148125e-06   1.42960175e-06   1.47687240e-06\n",
      "   1.43529519e-06   1.44576461e-06   1.47634671e-06   1.45356887e-06\n",
      "   1.47907485e-06   1.45657577e-06   1.47606727e-06   1.43861689e-06\n",
      "   1.43783586e-06   1.43799730e-06   1.44644332e-06   1.44392129e-06\n",
      "   1.46276693e-06   1.47249739e-06   1.44940225e-06   1.43001296e-06\n",
      "   1.44265118e-06   1.45165927e-06   1.44778744e-06   1.45671754e-06\n",
      "   1.43775947e-06   1.42973715e-06   1.45173124e-06   1.45354750e-06\n",
      "   1.42919032e-06   1.47781043e-06   1.44737010e-06   1.45717127e-06\n",
      "   1.44272383e-06   1.47560763e-06   1.44236890e-06   1.47619437e-06\n",
      "   1.44350577e-06   1.43973807e-06   1.46647312e-06   1.47451567e-06\n",
      "   1.45846843e-06   1.46829541e-06   1.42870567e-06   1.47291439e-06\n",
      "   1.42698582e-06   1.42668830e-06   1.45687034e-06   1.43860495e-06\n",
      "   1.45703916e-06   1.47565549e-06   1.47866695e-06   1.43197087e-06\n",
      "   1.42781676e-06   1.46217224e-06   1.42706961e-06   1.45246861e-06\n",
      "   1.43966827e-06   1.42642534e-06   1.43011937e-06   1.43129409e-06\n",
      "   1.43286309e-06   1.43184025e-06   1.46857860e-06   1.47485127e-06\n",
      "   1.45447825e-06   1.44310468e-06   1.44623368e-06   1.45410854e-06\n",
      "   1.42996817e-06   1.45025967e-06   1.45512047e-06   1.44129535e-06\n",
      "   1.47378512e-06   1.47459127e-06   1.43348336e-06   1.45455317e-06\n",
      "   1.44035948e-06   1.46941204e-06   1.42724787e-06   1.43422017e-06\n",
      "   1.43088778e-06   1.46521518e-06   1.46101468e-06   1.43521288e-06\n",
      "   1.45548768e-06   1.43799593e-06   1.43685349e-06   1.43363229e-06\n",
      "   1.43033060e-06   1.42692033e-06   1.46728598e-06   1.46441675e-06\n",
      "   1.45555157e-06   1.43750822e-06   1.45840011e-06   1.42997339e-06\n",
      "   1.45406511e-06   1.46179059e-06   1.43532611e-06   1.46991636e-06\n",
      "   1.46925083e-06   1.43570094e-06   1.42754743e-06   1.42992258e-06\n",
      "   1.47091134e-06   1.46551679e-06   1.43242710e-06   1.45309082e-06\n",
      "   1.46925299e-06   1.44445107e-06   1.43487568e-06   1.46803848e-06\n",
      "   1.46751313e-06   1.43142950e-06   1.45924139e-06   1.43999853e-06\n",
      "   1.42604495e-06   1.43543821e-06   1.45800720e-06   1.43831915e-06\n",
      "   1.46673631e-06   1.44217358e-06   1.43039642e-06   1.42928434e-06\n",
      "   1.47726576e-06   1.47374396e-06   1.46707873e-06   1.43751208e-06\n",
      "   1.46422622e-06   1.45089109e-06   1.43625118e-06   1.47837295e-06\n",
      "   1.44871706e-06   1.45108254e-06   1.47262153e-06   1.46299294e-06\n",
      "   1.44514604e-06   1.45458739e-06   1.42867225e-06   1.46467846e-06\n",
      "   1.46990499e-06   1.44384069e-06   1.43972363e-06   1.43556770e-06\n",
      "   1.42605768e-06   1.43036539e-06   1.42956515e-06   1.47178548e-06\n",
      "   1.45641650e-06   1.47576668e-06   1.44355738e-06   1.46500440e-06\n",
      "   1.43940497e-06   1.43883062e-06   1.46011712e-06   1.44271974e-06\n",
      "   1.43317163e-06   1.45359206e-06   1.44548551e-06   1.46220611e-06\n",
      "   1.43289844e-06   1.46169498e-06   1.45279000e-06   1.45609602e-06\n",
      "   1.43649231e-06   1.46734715e-06   1.42599242e-06   1.45611693e-06\n",
      "   1.45439935e-06   1.46071193e-06   1.45028491e-06   1.45337719e-06\n",
      "   1.43999864e-06   1.47518745e-06   1.42807914e-06   1.46919149e-06\n",
      "   1.42762337e-06   1.44233218e-06   1.46917546e-06   1.43281341e-06\n",
      "   1.43449302e-06   1.43815271e-06   1.43055013e-06   1.43383772e-06\n",
      "   1.46508501e-06   1.42897431e-06   1.46562775e-06   1.43060367e-06\n",
      "   1.46639832e-06   1.46096488e-06   1.47868866e-06   1.43768318e-06\n",
      "   1.44316402e-06   1.43782881e-06   1.43301259e-06   1.44172361e-06\n",
      "   1.44172327e-06   1.46885566e-06   1.46903130e-06   1.46539389e-06\n",
      "   1.45288641e-06   1.47183255e-06   1.45339095e-06   1.47451431e-06\n",
      "   1.47815899e-06   1.47183118e-06   1.47001651e-06   1.45686738e-06\n",
      "   1.46829132e-06   1.46368313e-06   1.43782574e-06   1.44459625e-06\n",
      "   1.46684920e-06   1.43811553e-06   1.46544778e-06   1.46559796e-06\n",
      "   1.43272177e-06   1.44682087e-06   1.46089815e-06   1.44848752e-06\n",
      "   1.47360481e-06   1.45937872e-06   1.43557997e-06   1.44837952e-06\n",
      "   1.43194757e-06   1.46277011e-06   1.44716989e-06   1.42702311e-06\n",
      "   1.45227398e-06   1.46570983e-06   1.44602188e-06   1.45737124e-06\n",
      "   1.44030503e-06   1.45186664e-06   1.42854753e-06   1.46703701e-06\n",
      "   1.42795852e-06   1.47177946e-06   1.43926457e-06   1.45741296e-06\n",
      "   1.45479862e-06   1.43460295e-06   1.44889088e-06   1.43545174e-06\n",
      "   1.43548630e-06   1.42978138e-06   1.47313824e-06   1.46133016e-06\n",
      "   1.46287709e-06   1.42880151e-06   1.43135139e-06   1.45083493e-06\n",
      "   1.44840055e-06   1.43244904e-06   1.44991702e-06   1.43768796e-06\n",
      "   1.46383445e-06   1.45096851e-06   1.47261460e-06   1.42661213e-06\n",
      "   1.46321065e-06   1.42874967e-06   1.43056911e-06   1.44403771e-06\n",
      "   1.42850047e-06   1.44708224e-06   1.43986654e-06   1.43406703e-06\n",
      "   1.44240323e-06   1.45953481e-06   1.45321644e-06   1.43115415e-06\n",
      "   1.45866932e-06   1.47406467e-06   1.44490400e-06   1.44076012e-06\n",
      "   1.47602509e-06   1.46701598e-06   1.45845070e-06   1.47226172e-06\n",
      "   1.45938952e-06   1.44962178e-06   1.44670025e-06   1.47322100e-06\n",
      "   1.46328603e-06   1.45299873e-06   1.42996623e-06   1.47604169e-06\n",
      "   1.43516399e-06   1.42639999e-06   1.46307354e-06   1.47889273e-06\n",
      "   1.44451974e-06   1.45051933e-06   1.46615287e-06   1.45972422e-06\n",
      "   1.43665284e-06   1.45437252e-06   1.47107971e-06   1.47894195e-06\n",
      "   1.47745584e-06   1.46986611e-06   1.47060700e-06   1.46268121e-06\n",
      "   1.45461502e-06   1.43660191e-06   1.44456533e-06   1.45486240e-06\n",
      "   1.43037892e-06   1.45376782e-06   1.45273373e-06   1.47531887e-06\n",
      "   1.43039665e-06   1.47271635e-06   1.43140880e-06   1.46539594e-06\n",
      "   1.45453032e-06   1.47231742e-06   1.45827744e-06   1.45202239e-06\n",
      "   1.43161640e-06   1.44531100e-06   1.46700802e-06   1.43936336e-06\n",
      "   1.42913154e-06   1.47618323e-06   1.46770230e-06   1.44371859e-06\n",
      "   1.46899993e-06   1.42652505e-06   1.46027571e-06   1.44040439e-06\n",
      "   1.47039475e-06   1.47078174e-06   1.43258990e-06   1.46705975e-06\n",
      "   1.47525441e-06   1.47367132e-06   1.45475622e-06   1.43381249e-06\n",
      "   1.47600269e-06   1.46599325e-06   1.44095429e-06   1.44379931e-06\n",
      "   1.42784791e-06   1.43359330e-06   1.46096977e-06   1.43774537e-06\n",
      "   1.42739873e-06   1.42566944e-06   1.45410331e-06   1.45918057e-06\n",
      "   1.46482353e-06   1.45214256e-06   1.43882357e-06   1.45138688e-06\n",
      "   1.46342961e-06   1.45699767e-06   1.46475929e-06   1.44343505e-06\n",
      "   1.46986531e-06   1.47029050e-06   1.46941522e-06   1.43014825e-06\n",
      "   1.43437933e-06   1.45082049e-06   1.43609725e-06   1.46149353e-06\n",
      "   1.42689089e-06   1.45992351e-06   1.45686363e-06   1.45731599e-06\n",
      "   1.46288460e-06   1.46750369e-06   1.44396745e-06   1.43714362e-06\n",
      "   1.46523882e-06   1.44213232e-06   1.42885165e-06   1.44148748e-06\n",
      "   1.44514570e-06   1.45196157e-06   1.46849413e-06   1.45342005e-06\n",
      "   1.43598857e-06   1.42745785e-06   1.46022285e-06   1.45097397e-06\n",
      "   1.46789137e-06   1.46378045e-06   1.46534239e-06   1.43953082e-06\n",
      "   1.44313492e-06   1.45806791e-06   1.43867624e-06   1.45518356e-06\n",
      "   1.46659124e-06   1.47794628e-06   1.44435489e-06   1.43484681e-06\n",
      "   1.42962051e-06   1.46049342e-06   1.43059515e-06   1.43220814e-06\n",
      "   1.47789387e-06   1.42895101e-06   1.42826366e-06   1.44210946e-06\n",
      "   1.43726868e-06   1.43363775e-06   1.44149192e-06   1.45309684e-06\n",
      "   1.45504225e-06   1.46433581e-06   1.43651482e-06   1.47191759e-06\n",
      "   1.45524132e-06   1.46506761e-06   1.44281557e-06   1.46920695e-06\n",
      "   1.47468961e-06   1.44265857e-06   1.47499293e-06   1.46481705e-06\n",
      "   1.46094271e-06   1.46756008e-06   1.45090632e-06   1.47424817e-06\n",
      "   1.44349099e-06   1.43069383e-06   1.46392688e-06   1.44352464e-06\n",
      "   1.45129673e-06   1.46637672e-06   1.46240211e-06   1.44397427e-06\n",
      "   1.43613318e-06   1.46398020e-06   1.43411933e-06   1.43418856e-06\n",
      "   1.46382536e-06   1.46959053e-06   1.43383841e-06   1.43623811e-06\n",
      "   1.47235482e-06   1.47759295e-06   1.44110936e-06   1.47103333e-06\n",
      "   1.43370698e-06   1.43892726e-06   1.43848752e-06   1.44953106e-06\n",
      "   1.47573405e-06   1.42646320e-06   1.47312608e-06   1.47043420e-06\n",
      "   1.44234264e-06   1.45771764e-06   1.42998351e-06   1.43018121e-06\n",
      "   1.44908779e-06   1.47489459e-06   1.44991373e-06   1.46957041e-06\n",
      "   1.44382500e-06   1.45126887e-06   1.46292552e-06   1.43578404e-06\n",
      "   1.47554329e-06   1.46676450e-06   1.46451191e-06   1.46240973e-06\n",
      "   1.44704006e-06   1.47850596e-06   1.45036915e-06   1.46458876e-06\n",
      "   1.46265518e-06   1.47005346e-06   1.43463706e-06   1.43282273e-06\n",
      "   1.45322576e-06   1.45932711e-06   1.45586125e-06   1.46974719e-06\n",
      "   1.46480670e-06   1.45114518e-06   1.45102354e-06   1.45044896e-06\n",
      "   1.42867941e-06   1.43743955e-06   1.45367130e-06   1.43926195e-06\n",
      "   1.46600428e-06   1.43704199e-06   1.43495424e-06   1.44807416e-06\n",
      "   1.45354568e-06   1.43747172e-06   1.43988518e-06   1.43277941e-06\n",
      "   1.43168393e-06   1.43451075e-06   1.42728948e-06   1.47460537e-06\n",
      "   1.43959619e-06   1.44314083e-06   1.45066781e-06   1.47648143e-06\n",
      "   1.43956254e-06   1.44316186e-06   1.43263412e-06   1.47463209e-06\n",
      "   1.42759143e-06   1.46821526e-06   1.43807983e-06   1.42716931e-06\n",
      "   1.44255773e-06   1.45541378e-06   1.43127670e-06   1.45718616e-06\n",
      "   1.46163006e-06   1.43020850e-06   1.44240425e-06   1.42973033e-06\n",
      "   1.46848413e-06   1.43563170e-06   1.43200839e-06   1.47101446e-06\n",
      "   1.42937324e-06   1.45586966e-06   1.42774968e-06   1.47177821e-06\n",
      "   1.47340461e-06   1.45396427e-06   1.47205242e-06   1.46484751e-06\n",
      "   1.46095499e-06   1.42829185e-06   1.44652631e-06   1.47504534e-06\n",
      "   1.44180785e-06   1.43915906e-06   1.45330364e-06   1.46132413e-06\n",
      "   1.43666921e-06   1.46524019e-06   1.46893910e-06   1.44074090e-06\n",
      "   1.43176760e-06   1.45596346e-06   1.43513876e-06   1.43162254e-06\n",
      "   1.44822627e-06   1.45006845e-06   1.47789865e-06   1.46200421e-06\n",
      "   1.45679746e-06   1.43804266e-06   1.45269723e-06   1.47623143e-06\n",
      "   1.44274907e-06   1.47883406e-06   1.46632749e-06   1.43598129e-06\n",
      "   1.43630837e-06   1.43514262e-06   1.44042099e-06   1.46507193e-06\n",
      "   1.44325884e-06   1.46129094e-06   1.45102877e-06   1.43194211e-06\n",
      "   1.46355569e-06   1.45851186e-06   1.44897433e-06   1.45985916e-06\n",
      "   1.43880925e-06   1.43571549e-06   1.47326637e-06   1.45935985e-06\n",
      "   1.44434500e-06   1.47821595e-06   1.44166575e-06   1.42718682e-06\n",
      "   1.45057209e-06   1.45120885e-06   1.44557828e-06   1.47178275e-06\n",
      "   1.43947454e-06   1.44523938e-06   1.43385580e-06   1.47778599e-06\n",
      "   1.44904504e-06   1.46520608e-06   1.46660238e-06   1.44181786e-06\n",
      "   1.42712770e-06   1.44100784e-06   1.45403521e-06   1.47257595e-06\n",
      "   1.46691980e-06   1.45978834e-06   1.45723288e-06   1.47587161e-06\n",
      "   1.46197863e-06   1.44639921e-06   1.42961437e-06   1.43511681e-06\n",
      "   1.43013062e-06   1.43490945e-06   1.47456353e-06   1.44518185e-06\n",
      "   1.44434341e-06   1.47175490e-06   1.47562025e-06   1.45662227e-06\n",
      "   1.43539137e-06   1.45036256e-06   1.46529044e-06   1.44823753e-06\n",
      "   1.44522858e-06   1.45858860e-06   1.47246703e-06   1.42827457e-06\n",
      "   1.46818741e-06   1.47894036e-06   1.43972022e-06   1.45878039e-06\n",
      "   1.43787611e-06   1.44220394e-06   1.42920965e-06   1.44127853e-06]\n",
      "Fraction of values between bin edges: 1.0\n",
      "Average of pr in percentile bin: 1.45112e-06 1.4511244899e-06\n",
      "\n",
      "All values of crmpr in percentile bin: [  1.44254909e-06   1.44440367e-06   1.47121659e-06   1.43584964e-06\n",
      "   1.47593641e-06   1.46633306e-06   1.45484614e-06   1.44056241e-06\n",
      "   1.45034812e-06   1.45329238e-06   1.42603687e-06   1.43920568e-06\n",
      "   1.47245350e-06   1.46952254e-06   1.45073375e-06   1.45587774e-06\n",
      "   1.47588935e-06   1.45061085e-06   1.47284334e-06   1.46598347e-06\n",
      "   1.46072523e-06   1.43427724e-06   1.43083457e-06   1.46570437e-06\n",
      "   1.45255456e-06   1.45237971e-06   1.46153309e-06   1.44947148e-06\n",
      "   1.44275737e-06   1.44180785e-06   1.44029570e-06   1.44859825e-06\n",
      "   1.46686466e-06   1.43330476e-06   1.46360946e-06   1.44042258e-06\n",
      "   1.45449667e-06   1.46099137e-06   1.42874990e-06   1.43841999e-06\n",
      "   1.47743128e-06   1.46148125e-06   1.42960198e-06   1.47687240e-06\n",
      "   1.43529508e-06   1.44576438e-06   1.47634717e-06   1.45356887e-06\n",
      "   1.47907497e-06   1.45657577e-06   1.47606727e-06   1.43861678e-06\n",
      "   1.43783586e-06   1.43799730e-06   1.44644343e-06   1.44392118e-06\n",
      "   1.46276693e-06   1.47249750e-06   1.44940213e-06   1.43001296e-06\n",
      "   1.44265118e-06   1.45165939e-06   1.44778733e-06   1.45671743e-06\n",
      "   1.43775958e-06   1.42973727e-06   1.45173135e-06   1.45354761e-06\n",
      "   1.42919021e-06   1.47781043e-06   1.44737010e-06   1.45717149e-06\n",
      "   1.44272394e-06   1.47560763e-06   1.44236913e-06   1.47619460e-06\n",
      "   1.44350565e-06   1.43973796e-06   1.46647301e-06   1.47451578e-06\n",
      "   1.45846866e-06   1.46829541e-06   1.42870567e-06   1.47291451e-06\n",
      "   1.42698559e-06   1.42668841e-06   1.45687022e-06   1.43860484e-06\n",
      "   1.45703939e-06   1.47565549e-06   1.47866706e-06   1.43197110e-06\n",
      "   1.42781653e-06   1.46217224e-06   1.42706961e-06   1.45246884e-06\n",
      "   1.43966815e-06   1.42642534e-06   1.43011926e-06   1.43129387e-06\n",
      "   1.43286297e-06   1.43184013e-06   1.46857838e-06   1.47485127e-06\n",
      "   1.45447837e-06   1.44310445e-06   1.44623368e-06   1.45410843e-06\n",
      "   1.42996828e-06   1.45025956e-06   1.45512047e-06   1.44129524e-06\n",
      "   1.47378501e-06   1.47459127e-06   1.43348348e-06   1.45455317e-06\n",
      "   1.44035948e-06   1.46941204e-06   1.42724787e-06   1.43422028e-06\n",
      "   1.43088755e-06   1.46521552e-06   1.46101490e-06   1.43521299e-06\n",
      "   1.45548768e-06   1.43799605e-06   1.43685349e-06   1.43363229e-06\n",
      "   1.43033060e-06   1.42692033e-06   1.46728621e-06   1.46441675e-06\n",
      "   1.45555168e-06   1.43750810e-06   1.45840011e-06   1.42997317e-06\n",
      "   1.45406511e-06   1.46179025e-06   1.43532611e-06   1.46991658e-06\n",
      "   1.46925083e-06   1.43570082e-06   1.42754755e-06   1.42992258e-06\n",
      "   1.47091123e-06   1.46551679e-06   1.43242710e-06   1.45309059e-06\n",
      "   1.46925288e-06   1.44445107e-06   1.43487580e-06   1.46803825e-06\n",
      "   1.46751324e-06   1.43142938e-06   1.45924139e-06   1.43999841e-06\n",
      "   1.42604506e-06   1.43543809e-06   1.45800720e-06   1.43831915e-06\n",
      "   1.46673631e-06   1.44217347e-06   1.43039654e-06   1.42928445e-06\n",
      "   1.47726564e-06   1.47374419e-06   1.46707885e-06   1.43751197e-06\n",
      "   1.46422622e-06   1.45089109e-06   1.43625141e-06   1.47837295e-06\n",
      "   1.44871717e-06   1.45108288e-06   1.47262142e-06   1.46299305e-06\n",
      "   1.44514615e-06   1.45458750e-06   1.42867214e-06   1.46467846e-06\n",
      "   1.46990487e-06   1.44384069e-06   1.43972363e-06   1.43556781e-06\n",
      "   1.42605745e-06   1.43036539e-06   1.42956503e-06   1.47178525e-06\n",
      "   1.45641661e-06   1.47576668e-06   1.44355738e-06   1.46500463e-06\n",
      "   1.43940497e-06   1.43883051e-06   1.46011712e-06   1.44271951e-06\n",
      "   1.43317163e-06   1.45359195e-06   1.44548562e-06   1.46220589e-06\n",
      "   1.43289822e-06   1.46169475e-06   1.45279000e-06   1.45609590e-06\n",
      "   1.43649220e-06   1.46734715e-06   1.42599254e-06   1.45611693e-06\n",
      "   1.45439935e-06   1.46071170e-06   1.45028503e-06   1.45337708e-06\n",
      "   1.43999864e-06   1.47518733e-06   1.42807926e-06   1.46919160e-06\n",
      "   1.42762337e-06   1.44233252e-06   1.46917569e-06   1.43281363e-06\n",
      "   1.43449302e-06   1.43815282e-06   1.43055001e-06   1.43383772e-06\n",
      "   1.46508512e-06   1.42897443e-06   1.46562752e-06   1.43060367e-06\n",
      "   1.46639843e-06   1.46096488e-06   1.47868855e-06   1.43768330e-06\n",
      "   1.44316391e-06   1.43782870e-06   1.43301259e-06   1.44172361e-06\n",
      "   1.44172316e-06   1.46885600e-06   1.46903130e-06   1.46539378e-06\n",
      "   1.45288629e-06   1.47183243e-06   1.45339106e-06   1.47451442e-06\n",
      "   1.47815922e-06   1.47183130e-06   1.47001640e-06   1.45686749e-06\n",
      "   1.46829120e-06   1.46368313e-06   1.43782574e-06   1.44459625e-06\n",
      "   1.46684920e-06   1.43811565e-06   1.46544755e-06   1.46559819e-06\n",
      "   1.43272189e-06   1.44682076e-06   1.46089803e-06   1.44848741e-06\n",
      "   1.47360504e-06   1.45937861e-06   1.43557986e-06   1.44837952e-06\n",
      "   1.43194757e-06   1.46277011e-06   1.44716989e-06   1.42702311e-06\n",
      "   1.45227409e-06   1.46570972e-06   1.44602177e-06   1.45737113e-06\n",
      "   1.44030503e-06   1.45186675e-06   1.42854765e-06   1.46703690e-06\n",
      "   1.42795864e-06   1.47177968e-06   1.43926468e-06   1.45741285e-06\n",
      "   1.45479873e-06   1.43460295e-06   1.44889077e-06   1.43545174e-06\n",
      "   1.43548641e-06   1.42978138e-06   1.47313835e-06   1.46133016e-06\n",
      "   1.46287721e-06   1.42880151e-06   1.43135128e-06   1.45083493e-06\n",
      "   1.44840067e-06   1.43244893e-06   1.44991691e-06   1.43768796e-06\n",
      "   1.46383422e-06   1.45096863e-06   1.47261471e-06   1.42661213e-06\n",
      "   1.46321042e-06   1.42874956e-06   1.43056934e-06   1.44403771e-06\n",
      "   1.42850047e-06   1.44708235e-06   1.43986654e-06   1.43406714e-06\n",
      "   1.44240312e-06   1.45953459e-06   1.45321656e-06   1.43115415e-06\n",
      "   1.45866932e-06   1.47406467e-06   1.44490400e-06   1.44076012e-06\n",
      "   1.47602498e-06   1.46701609e-06   1.45845070e-06   1.47226160e-06\n",
      "   1.45938952e-06   1.44962189e-06   1.44670014e-06   1.47322089e-06\n",
      "   1.46328603e-06   1.45299896e-06   1.42996612e-06   1.47604169e-06\n",
      "   1.43516399e-06   1.42639999e-06   1.46307354e-06   1.47889273e-06\n",
      "   1.44451963e-06   1.45051933e-06   1.46615309e-06   1.45972399e-06\n",
      "   1.43665261e-06   1.45437264e-06   1.47107971e-06   1.47894207e-06\n",
      "   1.47745595e-06   1.46986599e-06   1.47060712e-06   1.46268110e-06\n",
      "   1.45461502e-06   1.43660168e-06   1.44456544e-06   1.45486251e-06\n",
      "   1.43037914e-06   1.45376782e-06   1.45273350e-06   1.47531887e-06\n",
      "   1.43039665e-06   1.47271601e-06   1.43140892e-06   1.46539594e-06\n",
      "   1.45453055e-06   1.47231742e-06   1.45827744e-06   1.45202227e-06\n",
      "   1.43161651e-06   1.44531089e-06   1.46700791e-06   1.43936336e-06\n",
      "   1.42913143e-06   1.47618300e-06   1.46770253e-06   1.44371870e-06\n",
      "   1.46899993e-06   1.42652505e-06   1.46027583e-06   1.44040439e-06\n",
      "   1.47039475e-06   1.47078185e-06   1.43258978e-06   1.46705975e-06\n",
      "   1.47525441e-06   1.47367120e-06   1.45475622e-06   1.43381271e-06\n",
      "   1.47600258e-06   1.46599325e-06   1.44095429e-06   1.44379942e-06\n",
      "   1.42784779e-06   1.43359330e-06   1.46096954e-06   1.43774548e-06\n",
      "   1.42739862e-06   1.42566955e-06   1.45410331e-06   1.45918057e-06\n",
      "   1.46482341e-06   1.45214256e-06   1.43882346e-06   1.45138711e-06\n",
      "   1.46342938e-06   1.45699767e-06   1.46475941e-06   1.44343505e-06\n",
      "   1.46986520e-06   1.47029050e-06   1.46941522e-06   1.43014802e-06\n",
      "   1.43437921e-06   1.45082072e-06   1.43609714e-06   1.46149330e-06\n",
      "   1.42689089e-06   1.45992328e-06   1.45686352e-06   1.45731599e-06\n",
      "   1.46288460e-06   1.46750381e-06   1.44396756e-06   1.43714374e-06\n",
      "   1.46523882e-06   1.44213209e-06   1.42885165e-06   1.44148748e-06\n",
      "   1.44514559e-06   1.45196157e-06   1.46849413e-06   1.45342005e-06\n",
      "   1.43598834e-06   1.42745796e-06   1.46022285e-06   1.45097385e-06\n",
      "   1.46789125e-06   1.46378034e-06   1.46534228e-06   1.43953082e-06\n",
      "   1.44313492e-06   1.45806780e-06   1.43867612e-06   1.45518356e-06\n",
      "   1.46659113e-06   1.47794628e-06   1.44435501e-06   1.43484681e-06\n",
      "   1.42962062e-06   1.46049331e-06   1.43059515e-06   1.43220825e-06\n",
      "   1.47789387e-06   1.42895101e-06   1.42826377e-06   1.44210958e-06\n",
      "   1.43726857e-06   1.43363786e-06   1.44149192e-06   1.45309673e-06\n",
      "   1.45504248e-06   1.46433581e-06   1.43651494e-06   1.47191781e-06\n",
      "   1.45524132e-06   1.46506773e-06   1.44281557e-06   1.46920718e-06\n",
      "   1.47468950e-06   1.44265857e-06   1.47499304e-06   1.46481705e-06\n",
      "   1.46094283e-06   1.46755997e-06   1.45090632e-06   1.47424805e-06\n",
      "   1.44349099e-06   1.43069383e-06   1.46392688e-06   1.44352452e-06\n",
      "   1.45129673e-06   1.46637672e-06   1.46240200e-06   1.44397427e-06\n",
      "   1.43613306e-06   1.46398020e-06   1.43411921e-06   1.43418833e-06\n",
      "   1.46382536e-06   1.46959042e-06   1.43383829e-06   1.43623822e-06\n",
      "   1.47235494e-06   1.47759295e-06   1.44110959e-06   1.47103276e-06\n",
      "   1.43370664e-06   1.43892737e-06   1.43848786e-06   1.44953106e-06\n",
      "   1.47573394e-06   1.42646331e-06   1.47312619e-06   1.47043431e-06\n",
      "   1.44234264e-06   1.45771776e-06   1.42998340e-06   1.43018121e-06\n",
      "   1.44908802e-06   1.47489459e-06   1.44991395e-06   1.46957052e-06\n",
      "   1.44382466e-06   1.45126887e-06   1.46292552e-06   1.43578404e-06\n",
      "   1.47554317e-06   1.46676450e-06   1.46451191e-06   1.46240950e-06\n",
      "   1.44704018e-06   1.47850596e-06   1.45036927e-06   1.46458876e-06\n",
      "   1.46265518e-06   1.47005346e-06   1.43463706e-06   1.43282284e-06\n",
      "   1.45322576e-06   1.45932711e-06   1.45586137e-06   1.46974719e-06\n",
      "   1.46480647e-06   1.45114518e-06   1.45102342e-06   1.45044885e-06\n",
      "   1.42867941e-06   1.43743966e-06   1.45367108e-06   1.43926206e-06\n",
      "   1.46600416e-06   1.43704187e-06   1.43495413e-06   1.44807416e-06\n",
      "   1.45354556e-06   1.43747138e-06   1.43988507e-06   1.43277930e-06\n",
      "   1.43168393e-06   1.43451064e-06   1.42728959e-06   1.47460548e-06\n",
      "   1.43959619e-06   1.44314072e-06   1.45066781e-06   1.47648143e-06\n",
      "   1.43956254e-06   1.44316164e-06   1.43263389e-06   1.47463220e-06\n",
      "   1.42759154e-06   1.46821537e-06   1.43808006e-06   1.42716954e-06\n",
      "   1.44255750e-06   1.45541378e-06   1.43127659e-06   1.45718593e-06\n",
      "   1.46163029e-06   1.43020839e-06   1.44240414e-06   1.42973022e-06\n",
      "   1.46848402e-06   1.43563193e-06   1.43200828e-06   1.47101446e-06\n",
      "   1.42937324e-06   1.45586978e-06   1.42774957e-06   1.47177821e-06\n",
      "   1.47340461e-06   1.45396416e-06   1.47205230e-06   1.46484786e-06\n",
      "   1.46095476e-06   1.42829197e-06   1.44652643e-06   1.47504545e-06\n",
      "   1.44180763e-06   1.43915884e-06   1.45330353e-06   1.46132413e-06\n",
      "   1.43666932e-06   1.46524019e-06   1.46893888e-06   1.44074090e-06\n",
      "   1.43176771e-06   1.45596346e-06   1.43513887e-06   1.43162265e-06\n",
      "   1.44822639e-06   1.45006834e-06   1.47789865e-06   1.46200421e-06\n",
      "   1.45679746e-06   1.43804277e-06   1.45269735e-06   1.47623166e-06\n",
      "   1.44274907e-06   1.47883406e-06   1.46632749e-06   1.43598129e-06\n",
      "   1.43630848e-06   1.43514251e-06   1.44042099e-06   1.46507193e-06\n",
      "   1.44325872e-06   1.46129105e-06   1.45102865e-06   1.43194222e-06\n",
      "   1.46355569e-06   1.45851163e-06   1.44897444e-06   1.45985905e-06\n",
      "   1.43880925e-06   1.43571549e-06   1.47326637e-06   1.45935962e-06\n",
      "   1.44434489e-06   1.47821595e-06   1.44166563e-06   1.42718693e-06\n",
      "   1.45057220e-06   1.45120885e-06   1.44557828e-06   1.47178275e-06\n",
      "   1.43947443e-06   1.44523949e-06   1.43385591e-06   1.47778610e-06\n",
      "   1.44904493e-06   1.46520597e-06   1.46660216e-06   1.44181774e-06\n",
      "   1.42712770e-06   1.44100784e-06   1.45403521e-06   1.47257606e-06\n",
      "   1.46691946e-06   1.45978811e-06   1.45723266e-06   1.47587184e-06\n",
      "   1.46197863e-06   1.44639910e-06   1.42961426e-06   1.43511670e-06\n",
      "   1.43013062e-06   1.43490945e-06   1.47456353e-06   1.44518174e-06\n",
      "   1.44434318e-06   1.47175490e-06   1.47562025e-06   1.45662239e-06\n",
      "   1.43539125e-06   1.45036256e-06   1.46529021e-06   1.44823719e-06\n",
      "   1.44522869e-06   1.45858871e-06   1.47246681e-06   1.42827469e-06\n",
      "   1.46818752e-06   1.47894048e-06   1.43972022e-06   1.45878050e-06\n",
      "   1.43787634e-06   1.44220382e-06   1.42920942e-06   1.44127876e-06]\n",
      "Fraction of values between bin edges: 1.0\n",
      "Average of crmpr in percentile bin: 1.45112e-06\n",
      "\n",
      "Local relative error between pr and crmpr_avg: [  7.88096912e-08  -7.87084886e-08   0.00000000e+00   7.91774042e-08\n",
      "  -7.70269182e-08   7.75313964e-08   0.00000000e+00   7.89183758e-08\n",
      "   7.83859022e-08  -7.82270888e-08   0.00000000e+00  -7.89927626e-08\n",
      "   7.72091227e-08   1.54726251e-07  -7.83650549e-08   0.00000000e+00\n",
      "  -7.70293695e-08  -7.83716914e-08   7.71886874e-08   7.75498847e-08\n",
      "   1.55658100e-07  -1.58528380e-07   0.00000000e+00   0.00000000e+00\n",
      "  -7.82668224e-08   0.00000000e+00   0.00000000e+00   7.84333096e-08\n",
      "  -7.87983012e-08  -7.88501922e-08   0.00000000e+00   7.84805891e-08\n",
      "   0.00000000e+00   7.93179851e-08  -7.76756579e-08  -1.57852043e-07\n",
      "   7.81623299e-08   0.00000000e+00   0.00000000e+00   0.00000000e+00\n",
      "   0.00000000e+00   0.00000000e+00   1.59046863e-07   0.00000000e+00\n",
      "  -7.92079859e-08  -1.57268801e-07   3.08022067e-07   0.00000000e+00\n",
      "   7.68634791e-08   0.00000000e+00   0.00000000e+00  -7.90250994e-08\n",
      "   0.00000000e+00   0.00000000e+00   7.85975089e-08  -7.87347858e-08\n",
      "   0.00000000e+00   7.72068205e-08  -7.84370542e-08   0.00000000e+00\n",
      "   0.00000000e+00   7.83150966e-08  -7.85245362e-08  -7.80431577e-08\n",
      "   7.90722225e-08   7.95158996e-08   7.83112171e-08   7.82133611e-08\n",
      "  -7.95463251e-08   0.00000000e+00   0.00000000e+00   1.56037714e-07\n",
      "   7.88001415e-08   0.00000000e+00   1.57639064e-07   1.54026921e-07\n",
      "  -7.87574521e-08  -7.89635592e-08  -7.75239855e-08   7.71011415e-08\n",
      "   1.55898931e-07   0.00000000e+00   0.00000000e+00   7.71849571e-08\n",
      "  -1.59338427e-07   7.96858259e-08  -7.80349723e-08  -7.90257531e-08\n",
      "   1.56051868e-07   0.00000000e+00   7.68846817e-08   1.58783735e-07\n",
      "  -1.59245701e-07   0.00000000e+00   0.00000000e+00   1.56542924e-07\n",
      "  -7.89673820e-08   0.00000000e+00  -7.94946473e-08  -1.58858811e-07\n",
      "  -7.93424277e-08  -7.93991077e-08  -1.54825671e-07   0.00000000e+00\n",
      "   7.81633105e-08  -1.57558688e-07   0.00000000e+00  -7.81831844e-08\n",
      "   7.95030530e-08  -7.83906771e-08   0.00000000e+00  -7.88782373e-08\n",
      "  -7.71393545e-08   0.00000000e+00   7.93080943e-08   0.00000000e+00\n",
      "   0.00000000e+00   0.00000000e+00   0.00000000e+00   7.92673518e-08\n",
      "  -1.58903916e-07   2.32771626e-07   1.55627234e-07   7.92125263e-08\n",
      "   0.00000000e+00   7.90592196e-08   0.00000000e+00   0.00000000e+00\n",
      "   0.00000000e+00   0.00000000e+00   1.54962066e-07   0.00000000e+00\n",
      "   7.81056784e-08  -7.90860426e-08   0.00000000e+00  -1.59005523e-07\n",
      "   0.00000000e+00  -2.33316939e-07   0.00000000e+00   1.54684770e-07\n",
      "   0.00000000e+00  -7.91855967e-08   7.96378714e-08   0.00000000e+00\n",
      "  -7.72900677e-08   0.00000000e+00   0.00000000e+00  -1.56475892e-07\n",
      "  -7.73773081e-08   0.00000000e+00   7.92311425e-08  -1.54882642e-07\n",
      "   7.74690463e-08  -7.94218877e-08   0.00000000e+00  -7.89492702e-08\n",
      "   7.97217794e-08  -7.92000918e-08   0.00000000e+00   0.00000000e+00\n",
      "   0.00000000e+00  -7.88302046e-08   7.94792498e-08   7.95410955e-08\n",
      "  -7.69576047e-08   1.54283029e-07   7.74919826e-08  -7.90858294e-08\n",
      "   0.00000000e+00   0.00000000e+00   1.58310527e-07   0.00000000e+00\n",
      "   7.84741516e-08   2.35038669e-07  -7.72003119e-08   7.77083997e-08\n",
      "   7.86680587e-08   7.81574485e-08  -7.95751731e-08   0.00000000e+00\n",
      "  -7.73429818e-08   0.00000000e+00   0.00000000e+00   7.91929509e-08\n",
      "  -1.59442138e-07   0.00000000e+00  -7.95254707e-08  -1.54488333e-07\n",
      "   7.80592870e-08   0.00000000e+00   0.00000000e+00   1.55203409e-07\n",
      "   0.00000000e+00  -7.90133541e-08   0.00000000e+00  -1.57600724e-07\n",
      "   0.00000000e+00  -7.82109666e-08   7.86495846e-08  -1.55500430e-07\n",
      "  -1.58680947e-07  -1.55554801e-07   0.00000000e+00  -7.80764680e-08\n",
      "  -7.91419765e-08   0.00000000e+00   7.97247139e-08   0.00000000e+00\n",
      "   0.00000000e+00  -1.55659492e-07   7.83893128e-08  -7.82225271e-08\n",
      "   0.00000000e+00  -7.70660264e-08   7.96082205e-08   7.73805482e-08\n",
      "   0.00000000e+00   2.36464615e-07   1.54762773e-07   1.58690355e-07\n",
      "   0.00000000e+00   7.90506007e-08  -7.94707091e-08   0.00000000e+00\n",
      "   7.75974343e-08   7.95583475e-08  -1.55137400e-07   0.00000000e+00\n",
      "   7.75279361e-08   0.00000000e+00  -7.68835520e-08   7.90764219e-08\n",
      "  -7.87761039e-08  -7.90684069e-08   0.00000000e+00   0.00000000e+00\n",
      "  -7.88548249e-08   2.32194708e-07   0.00000000e+00  -7.75810776e-08\n",
      "  -7.82489522e-08  -7.72416939e-08   7.82217882e-08   7.71012125e-08\n",
      "   1.53822199e-07   7.72417650e-08  -7.73371127e-08   7.80351286e-08\n",
      "  -7.74279840e-08   0.00000000e+00   0.00000000e+00   0.00000000e+00\n",
      "   0.00000000e+00   7.90526471e-08  -1.55156457e-07   1.55140555e-07\n",
      "   7.93502579e-08  -7.85769956e-08  -7.78198270e-08  -7.84865861e-08\n",
      "   1.54297595e-07  -7.79008431e-08  -7.91922687e-08   0.00000000e+00\n",
      "   0.00000000e+00   0.00000000e+00   0.00000000e+00   0.00000000e+00\n",
      "   7.82819498e-08  -7.75643585e-08  -7.86204097e-08  -7.80081493e-08\n",
      "   0.00000000e+00   7.83039127e-08   7.95821151e-08  -7.74941853e-08\n",
      "   7.96149422e-08   1.54488959e-07   7.89895367e-08  -7.80059182e-08\n",
      "   7.81461011e-08   0.00000000e+00  -7.84647369e-08   0.00000000e+00\n",
      "   7.91974415e-08   0.00000000e+00   7.71732331e-08   0.00000000e+00\n",
      "   7.77145530e-08   0.00000000e+00  -7.94262220e-08   0.00000000e+00\n",
      "   7.84912970e-08  -7.93653641e-08  -7.84092009e-08   0.00000000e+00\n",
      "  -1.55327456e-07   7.83523788e-08   7.72006743e-08   0.00000000e+00\n",
      "  -1.55393678e-07  -7.95708601e-08   1.58939315e-07   0.00000000e+00\n",
      "   0.00000000e+00   7.85628060e-08   0.00000000e+00   7.92758215e-08\n",
      "  -7.88176564e-08  -1.55785031e-07   7.82311815e-08   0.00000000e+00\n",
      "   0.00000000e+00   0.00000000e+00   0.00000000e+00   0.00000000e+00\n",
      "  -7.70222925e-08   7.74952937e-08   0.00000000e+00  -7.72191768e-08\n",
      "   0.00000000e+00   7.84251739e-08  -7.85835468e-08  -7.71688988e-08\n",
      "   0.00000000e+00   1.56485811e-07  -7.95031596e-08   0.00000000e+00\n",
      "   0.00000000e+00   0.00000000e+00   0.00000000e+00   0.00000000e+00\n",
      "  -7.87021719e-08   0.00000000e+00   1.55081835e-07  -1.55764823e-07\n",
      "  -1.58266261e-07   7.81689948e-08   0.00000000e+00   7.68703856e-08\n",
      "   7.69477069e-08  -7.73450282e-08   7.73060620e-08  -7.77249625e-08\n",
      "   0.00000000e+00  -1.58271874e-07   7.86996850e-08   7.81426763e-08\n",
      "   1.58960447e-07   0.00000000e+00  -1.56514346e-07   0.00000000e+00\n",
      "   0.00000000e+00  -2.31586014e-07   7.94230388e-08   0.00000000e+00\n",
      "   1.56321022e-07   0.00000000e+00   0.00000000e+00  -7.82955141e-08\n",
      "   7.94115209e-08  -7.86590846e-08  -7.74957201e-08   0.00000000e+00\n",
      "  -7.95495936e-08  -1.54028086e-07   1.54918112e-07   7.87458418e-08\n",
      "   0.00000000e+00   0.00000000e+00   7.78529952e-08   0.00000000e+00\n",
      "   0.00000000e+00   7.72968818e-08  -7.93575623e-08   0.00000000e+00\n",
      "   0.00000000e+00  -7.71453159e-08   0.00000000e+00   1.58579780e-07\n",
      "  -7.70234649e-08   0.00000000e+00   0.00000000e+00   7.87414436e-08\n",
      "  -7.96211097e-08   0.00000000e+00  -1.55632023e-07   7.90729970e-08\n",
      "  -7.96461705e-08   7.97427759e-08   0.00000000e+00   0.00000000e+00\n",
      "  -7.76112827e-08   0.00000000e+00  -7.90137449e-08   1.56659596e-07\n",
      "  -1.55370415e-07   0.00000000e+00   7.76146862e-08   0.00000000e+00\n",
      "  -7.73450708e-08   0.00000000e+00   0.00000000e+00  -1.58986083e-07\n",
      "  -7.92585553e-08   1.56720745e-07  -7.91637476e-08  -1.55576245e-07\n",
      "   0.00000000e+00  -1.55743550e-07  -7.80353346e-08   0.00000000e+00\n",
      "   0.00000000e+00   7.74695437e-08   7.87322705e-08   7.91061083e-08\n",
      "   0.00000000e+00  -1.57664914e-07   0.00000000e+00   0.00000000e+00\n",
      "  -7.86680801e-08   0.00000000e+00   0.00000000e+00   0.00000000e+00\n",
      "  -1.58339475e-07   7.96428665e-08   0.00000000e+00  -7.83520875e-08\n",
      "  -7.74490800e-08  -7.76665914e-08  -7.75838060e-08   0.00000000e+00\n",
      "   0.00000000e+00  -7.79708813e-08  -7.90218380e-08   0.00000000e+00\n",
      "  -7.75177398e-08   0.00000000e+00   7.87111532e-08   0.00000000e+00\n",
      "   7.95223869e-08  -7.78413920e-08   0.00000000e+00   7.93787152e-08\n",
      "   0.00000000e+00   0.00000000e+00   7.95979318e-08   7.88337076e-08\n",
      "  -7.90992232e-08   7.92995536e-08   0.00000000e+00  -7.82376191e-08\n",
      "   1.56266026e-07   0.00000000e+00   7.91407331e-08   1.54474463e-07\n",
      "   0.00000000e+00   7.75983580e-08   0.00000000e+00   1.54759462e-07\n",
      "  -7.70920465e-08   0.00000000e+00   7.70761943e-08   0.00000000e+00\n",
      "   7.78174538e-08  -7.74665665e-08   0.00000000e+00  -7.71151321e-08\n",
      "   0.00000000e+00   0.00000000e+00   0.00000000e+00  -7.87564218e-08\n",
      "   0.00000000e+00   0.00000000e+00  -7.77397915e-08   0.00000000e+00\n",
      "  -7.91617651e-08   0.00000000e+00  -7.92729296e-08  -1.58538199e-07\n",
      "   0.00000000e+00  -7.73595303e-08  -7.92884620e-08   7.91559813e-08\n",
      "   7.72142954e-08   0.00000000e+00   1.57776839e-07  -3.86418293e-07\n",
      "  -2.37887178e-07   7.90080534e-08   2.37096614e-07   0.00000000e+00\n",
      "  -7.70374839e-08   7.96984025e-08   7.71738655e-08   7.73151498e-08\n",
      "   0.00000000e+00   7.79896183e-08  -7.95022004e-08   0.00000000e+00\n",
      "   1.56908143e-07   0.00000000e+00   1.56818757e-07   7.73605962e-08\n",
      "  -2.36220117e-07   0.00000000e+00   0.00000000e+00   0.00000000e+00\n",
      "  -7.70474458e-08   0.00000000e+00   0.00000000e+00  -1.55478773e-07\n",
      "   7.85650940e-08   0.00000000e+00   7.83847582e-08   0.00000000e+00\n",
      "   0.00000000e+00   0.00000000e+00   0.00000000e+00   7.93446659e-08\n",
      "   0.00000000e+00   0.00000000e+00   7.80890588e-08   0.00000000e+00\n",
      "  -1.55224356e-07   0.00000000e+00  -7.83494087e-08  -7.83804452e-08\n",
      "   0.00000000e+00   7.90898227e-08  -1.56413407e-07   7.89896788e-08\n",
      "  -7.75487763e-08  -7.91117003e-08  -7.92268011e-08   0.00000000e+00\n",
      "  -7.82134606e-08  -2.37264160e-07  -7.89554875e-08  -7.93470605e-08\n",
      "   0.00000000e+00  -7.92513006e-08   7.96522670e-08   7.70964519e-08\n",
      "   0.00000000e+00  -7.87773686e-08   0.00000000e+00   0.00000000e+00\n",
      "   0.00000000e+00  -1.57552435e-07  -1.58710222e-07   7.70950521e-08\n",
      "   7.96354129e-08   7.74319986e-08   1.58109216e-07   1.59317935e-07\n",
      "  -1.57618430e-07   0.00000000e+00  -7.94303716e-08  -1.56036123e-07\n",
      "   1.55561708e-07  -7.94896948e-08  -7.88175996e-08  -7.95162833e-08\n",
      "  -7.74178162e-08   1.58378839e-07  -7.93897854e-08   0.00000000e+00\n",
      "   0.00000000e+00   7.80886111e-08  -7.96265880e-08   0.00000000e+00\n",
      "   0.00000000e+00  -7.81909435e-08  -7.72301547e-08   2.32830047e-07\n",
      "  -1.55633600e-07   7.95963615e-08   7.85929970e-08   7.70734516e-08\n",
      "  -1.57700399e-07  -1.57990655e-07  -7.82264848e-08   0.00000000e+00\n",
      "   7.91322279e-08   0.00000000e+00  -1.54787685e-07   0.00000000e+00\n",
      "   7.94031365e-08   0.00000000e+00   7.92166190e-08   7.94111799e-08\n",
      "   7.85007401e-08  -7.84010155e-08   0.00000000e+00   0.00000000e+00\n",
      "   0.00000000e+00   7.90566546e-08   7.82591414e-08   1.54023056e-07\n",
      "   0.00000000e+00   0.00000000e+00   0.00000000e+00   0.00000000e+00\n",
      "   7.91521089e-08  -7.92164059e-08   0.00000000e+00   0.00000000e+00\n",
      "  -7.87709311e-08   7.77989086e-08  -7.83491245e-08   7.93934589e-08\n",
      "   0.00000000e+00  -1.55894298e-07   7.84602179e-08  -7.78752067e-08\n",
      "   0.00000000e+00   0.00000000e+00   0.00000000e+00  -1.55803704e-07\n",
      "  -7.87116932e-08   0.00000000e+00  -7.88579726e-08   7.96579940e-08\n",
      "   7.83737946e-08   0.00000000e+00   0.00000000e+00   0.00000000e+00\n",
      "  -7.89780117e-08   7.86629784e-08   7.92874957e-08   7.69305188e-08\n",
      "  -7.84563881e-08  -7.75910252e-08  -1.55034300e-07  -7.88496521e-08\n",
      "   0.00000000e+00   0.00000000e+00   0.00000000e+00   7.72026993e-08\n",
      "  -2.32501137e-07  -1.55757974e-07  -1.56031120e-07   1.54060601e-07\n",
      "   0.00000000e+00  -7.85999035e-08  -7.95227280e-08  -7.92178270e-08\n",
      "   0.00000000e+00   0.00000000e+00   0.00000000e+00  -7.86661118e-08\n",
      "  -1.57423557e-07   0.00000000e+00   0.00000000e+00   7.80482594e-08\n",
      "  -7.92026782e-08   0.00000000e+00  -1.55173112e-07  -2.35500394e-07\n",
      "   7.86635681e-08   7.79430422e-08  -1.54416824e-07   7.95973278e-08\n",
      "   7.74334623e-08   7.68704709e-08   0.00000000e+00   7.79327962e-08\n",
      "   1.58131613e-07  -7.88285419e-08  -1.59090504e-07   1.57758322e-07]\n",
      "(672, 32)\n"
     ]
    },
    {
     "data": {
      "image/png": "[encoded data removed]",
      "text/plain": [
       "<matplotlib.figure.Figure at 0x2b517a3c47f0>"
      ]
     },
     "metadata": {},
     "output_type": "display_data"
    },
    {
     "data": {
      "image/png": "[encoded data removed]",
      "text/plain": [
       "<matplotlib.figure.Figure at 0x2b51b6be2160>"
      ]
     },
     "metadata": {},
     "output_type": "display_data"
    },
    {
     "name": "stdout",
     "output_type": "stream",
     "text": [
      "crmprind: [[1 6 4 ..., 0 0 0]\n",
      " [3 0 2 ..., 0 0 0]\n",
      " [2 0 1 ..., 0 0 0]\n",
      " ..., \n",
      " [4 2 0 ..., 0 0 0]\n",
      " [0 1 5 ..., 2 0 0]\n",
      " [2 1 0 ..., 0 0 0]]\n",
      "locmin: [[1, 4, 13, 17, 20, 25, 28], [4, 15, 21, 27], [3, 14, 17], [0, 7, 15], [2, 10, 15, 29], [3, 6, 15, 19], [3, 8, 25], [0, 2, 8, 17, 20, 29], [2, 9, 22, 26], [3, 11, 13, 16, 24, 26, 30], [7, 11, 22, 24, 29], [4, 12, 15, 31], [4, 9, 12, 15, 17, 23], [6, 15, 19, 27], [1, 13, 16, 18, 26], [20, 23, 26, 28], [6, 10, 17, 22, 29], [0, 3, 7, 12, 17, 28], [2, 5, 9, 14, 21], [2, 4, 8, 14, 17, 27], [2, 4, 11, 18, 24, 27, 29], [0, 7, 12, 18, 24], [11, 18, 27], [5, 23], [7, 17, 22, 26, 30], [5, 10, 16, 22], [3, 6, 15, 29], [5, 10, 17, 21, 27], [2, 11, 14, 18, 23, 26, 30], [1, 13, 26, 31], [4, 30], [6, 20, 25], [2, 6, 12, 15, 23, 31], [2, 8, 13, 18, 23], [6, 11, 14, 23, 28], [2, 7, 10, 21, 24], [0, 9, 11], [3, 6, 10, 15, 18, 23, 29, 31], [3, 13, 31], [9, 25], [0, 11, 18, 26, 29], [7, 14, 22, 26, 28, 31], [3, 7, 14, 19, 22, 25, 29], [4, 11, 15, 17, 19, 30], [14, 27, 29], [7, 11, 16, 24, 30], [1, 3, 6, 9, 12, 21, 24, 28], [2, 8, 14, 16, 19, 24, 27], [2, 5, 8, 27], [1, 8, 14, 19, 22, 26], [17, 23, 26], [8, 14, 18, 24, 27, 30], [0, 8, 15, 20, 24, 27], [1, 4, 13, 16, 25, 28], [2, 7, 10, 16, 18, 23], [0, 4, 11, 14, 20, 26, 30], [1, 17, 20], [2, 8, 12, 23, 25], [4, 11, 14, 19], [3, 14, 17, 28, 30], [0, 6, 21, 28], [20, 30], [0, 9, 14, 20, 24], [3, 12, 21, 28], [2, 12, 20, 22, 25, 30], [0, 14, 18, 22, 29], [4, 6, 10, 18, 28], [4, 11, 19, 24, 29], [8, 15], [2, 6, 9, 11, 19, 26], [4, 8, 12, 19, 26, 28, 30], [1, 7, 16, 18, 27], [1, 12, 14, 18], [4, 16, 20, 22, 31], [9, 19, 25, 28, 31], [5, 19, 21, 31], [3, 6, 11, 29], [5, 8, 17, 22, 26], [1, 20, 28], [5, 9, 13, 19, 21, 30], [4, 9, 19, 27, 31], [9, 16, 28], [1, 9, 12, 23, 25], [0, 9, 18, 22, 26], [3, 12, 15, 18, 23, 25], [9, 12, 21, 27], [7, 9, 11, 18, 28], [9, 15], [12, 20, 30], [7, 12, 17, 20, 27, 30], [1, 5, 13, 15, 17, 20, 27], [3, 10, 19], [4, 13, 16, 20, 27], [2, 8, 15, 17, 20, 23], [5, 14, 16, 29], [8, 12, 15, 22, 29], [1, 3, 6, 8, 14, 18, 24, 28], [1, 9, 12, 19, 29], [3, 12, 15, 24], [2, 11, 24, 26, 29], [4, 7, 10, 14, 18, 28, 31], [1, 3, 11, 26], [0, 4, 6, 8, 15, 17, 28], [7, 13, 18, 20], [4, 7, 16, 25, 27], [8, 14, 27], [2, 7, 17, 21, 26], [6, 17, 25, 31], [1, 7, 12, 15, 28], [0, 6, 15, 23, 29], [17, 22, 30], [14, 28], [6, 16, 20], [0, 5, 8, 13, 30], [0, 4, 11, 23], [4, 10, 22, 24, 30], [6, 18, 20, 25, 30], [4, 8, 15, 23, 26], [1, 6, 14, 22], [0, 4, 6, 11, 15, 19], [6, 11, 14, 17, 21, 25, 28], [1, 5, 8, 25], [8, 12, 17, 21, 26], [11, 19, 27], [3, 5, 14, 21, 29], [3, 8, 10, 12, 16, 24], [0, 6, 19], [5, 14, 29, 31], [2, 5, 8, 10, 13, 19, 24, 27], [2, 7, 12, 15, 17, 20, 28], [3, 8, 11, 17, 26, 31], [5, 8, 16, 19, 24, 30], [3, 9, 16, 18, 22], [1, 8, 21, 28], [0, 7, 15, 17, 26], [3, 9, 19, 21], [2, 22, 31], [0, 6, 11, 14, 22, 27], [8, 14, 18, 26], [4, 7, 9, 12, 22, 24, 30], [2, 7, 10, 16, 19, 30], [2, 9, 14, 21, 27, 29], [10, 14], [8, 18], [13, 30], [7, 14, 20, 24, 29], [0, 3, 7, 10, 24, 27], [9, 17, 19, 24], [3, 8, 14, 16, 20, 25], [17, 25], [1, 10, 20, 25, 27], [0, 6, 15, 26], [1, 4, 10, 22, 31], [5, 14, 23, 29], [4, 9, 17, 27, 31], [14, 20, 31], [4, 7, 12, 18, 21, 23, 25, 31], [1, 17, 29], [0, 3, 7], [0, 6, 14, 24], [17, 22, 28], [6, 9, 12, 16, 28], [3, 5, 12, 17, 25], [0, 6, 13, 18, 23, 28, 30], [9, 15, 17, 20, 22, 27, 31], [15, 26], [17, 24, 29], [1, 19], [4, 18, 26, 28], [10, 24, 29], [16, 25, 30], [1, 21], [5, 10, 15, 24, 28], [3, 5, 18, 24], [4, 6, 12], [0, 5, 9, 27], [1, 6, 9, 11, 15, 30], [8, 11, 21, 25], [2, 10, 18, 22, 27, 31], [2, 5, 8, 13, 19, 24], [0, 6, 11, 21, 24], [5, 10, 18, 23, 28], [6, 17, 22, 27, 30], [5, 23, 26, 29], [3, 6, 10, 14, 20], [3, 9, 13, 17], [5, 9, 23], [4, 10, 15, 24, 29], [0, 5, 11, 15], [0, 8, 16, 18, 27], [1, 6, 13, 18, 20], [0, 9, 26], [2, 6, 15, 20], [4, 20], [18, 21, 23], [9, 11, 24, 30], [2, 8, 15, 18, 26, 30], [1, 6, 13, 18], [0, 4, 7, 18, 27], [1, 17, 26, 30], [19, 25, 30], [4, 9, 16, 19, 26, 30], [3, 7, 12, 14, 18, 21], [12, 16, 20, 23], [7, 21, 25, 31], [3, 14, 20, 23, 30], [2, 7, 17, 21, 29], [2, 5, 15, 19, 29], [1, 5, 11, 23, 30], [0, 3, 10, 14, 17, 21, 25, 27], [2, 14, 25, 30], [3, 11, 14, 18, 29], [0, 5, 11, 16, 26], [7, 20, 23, 25], [6, 18, 31], [5, 14, 19, 27], [2, 5, 9, 16, 18, 25], [7, 14, 19, 22, 30], [3, 14, 23], [2, 9, 12, 24], [5, 9, 13, 21, 31], [2, 10, 14, 20, 23], [1, 4, 6, 14, 21, 29], [2, 6, 16, 26], [9, 14, 16, 19, 31], [0, 3, 12, 14, 20, 24, 26], [0, 11, 15], [1, 9, 28], [2, 4, 8, 13, 24, 28], [6, 12, 17, 20, 29], [3, 12, 22, 31], [2, 6, 11, 17, 22, 25, 30], [6, 13, 16, 30], [6, 19, 22, 30], [0, 9, 14, 21, 24, 27], [0, 5, 11, 15, 17, 21, 28], [5, 11, 16, 18, 23, 31], [7, 13, 16, 22, 27], [8, 31], [10, 14, 23, 30], [21, 28], [1, 17, 26], [4, 7, 15, 22, 26, 30], [9, 19], [10, 24, 30], [16], [4, 16, 28], [7, 9, 21], [5, 12, 14, 22, 27], [1, 8, 11, 18, 20, 24, 28], [3, 16, 23, 29], [2, 19, 27], [0], [3, 11, 14, 20, 24], [17, 24, 29], [22], [5, 13, 24], [2, 18], [1, 6, 13, 28], [7, 13, 24], [2, 28], [1, 5, 8, 20, 25, 29], [5, 8, 14, 19, 25], [1, 10, 14, 20, 26], [3, 15, 19, 26], [6, 9, 18, 26, 29], [5, 25], [14], [15, 27], [1, 15, 27], [0, 12, 15], [2, 8, 28, 30], [4, 12, 19, 24], [8, 17, 22], [4, 9, 12, 17, 24, 30], [11, 18, 22, 25, 29], [3, 7, 11, 20, 25, 30], [2, 4, 26], [7, 12, 21, 31], [0, 8, 14, 24, 29], [0, 8, 10, 13, 23, 27], [12, 22, 29], [1, 6, 11, 15, 22, 24, 30], [0, 4, 11, 16, 18, 24, 28], [13, 19, 30], [2, 8, 16, 20, 28], [0, 14, 25], [0, 3, 14, 22, 27], [8, 10, 17], [2, 9, 28], [8, 21, 25, 28], [7, 17, 21, 31], [1, 4, 23, 29], [2, 4, 7, 11, 24], [2, 4, 11, 15, 22], [1, 4, 8, 15, 21], [7, 11, 15, 25], [14, 16, 26, 29], [6, 11, 15, 20, 28], [8, 18, 26], [1, 5, 8, 10, 14, 23, 26], [2, 7, 19, 29], [5, 10, 22, 30], [7, 13, 28], [2, 5, 10, 14, 20, 25, 27], [0, 8, 14, 22, 28], [1, 4, 8, 11, 22, 26], [1, 4, 7, 10, 14, 22, 24, 29], [3, 10, 25, 31], [12, 14, 27], [3, 7, 11, 14, 20, 26], [10, 16, 22, 26, 29], [0, 17, 23], [9, 19, 23], [18, 20, 26, 31], [5, 13, 16, 25, 27, 31], [5, 11, 25, 28], [0, 18, 30], [4, 8, 17, 20, 22], [6, 11, 19, 26], [1, 5, 12, 16, 24, 27], [0, 5, 15, 25], [9, 13, 23], [3, 5, 12, 14, 17, 21, 25, 28, 31], [5, 21, 23, 26], [9, 11, 25, 29], [4, 18, 21, 29], [0, 4, 14, 16, 27, 30], [0, 4, 15, 17, 20, 22], [0, 6, 14, 25], [6, 17, 19, 26], [5, 8, 15, 18], [1, 9, 13, 19, 25, 28], [1, 5, 8, 15, 22, 24], [4, 15, 18, 22, 26], [6, 11, 15, 20, 27, 31], [1, 10, 15, 22, 26, 29, 31], [8, 17, 19, 30], [5, 9, 18, 25, 31], [7, 9, 22, 30], [4, 21, 25], [3, 10, 16, 20], [1, 8, 16, 24, 28], [3, 5, 12, 24, 28], [7, 20, 25, 30], [3, 5, 9, 18, 25, 28], [2, 5, 11, 28], [1, 16, 29], [2, 14, 29], [2, 16, 22, 24, 27], [6, 12, 20, 24, 29], [5, 10, 14, 17, 23, 27], [4, 13, 23, 29], [6, 20], [4, 12, 16, 22, 27], [12, 19, 25], [1, 9, 16, 28], [3, 7, 17, 19, 25, 27], [3, 12, 19, 31], [1, 5, 8, 19, 23, 26], [4, 7, 11, 13, 19, 24, 28], [5, 7, 10, 14, 21, 25, 31], [4, 7, 20, 23], [0, 5, 10, 12, 16, 26, 29], [0, 7, 20, 23, 28], [3, 5, 11, 21], [8, 11, 17, 21, 27, 31], [5, 10, 13, 21, 31], [10, 13, 16, 18, 23, 28], [3, 11, 27], [4, 10, 20, 26], [1, 5, 10, 16, 22, 27, 30], [1, 18, 24, 28], [5, 9, 13, 16, 19, 23, 26, 28], [8, 10, 17, 27, 29], [0, 7, 11, 17, 21, 23, 26], [0, 8, 18, 27], [2, 7, 17, 20, 22], [7, 11, 16, 23, 26, 31], [0, 3, 13, 17, 26, 28], [2, 10, 14, 25, 27], [0, 15], [0, 13, 15, 19, 29], [12, 17, 30], [9, 12, 20, 31], [1, 5, 11, 22, 27], [13, 19, 25, 29], [1, 7, 12, 16, 19, 25], [1, 3, 10, 16, 21], [2, 7, 14, 25, 31], [1, 9, 16, 19, 25], [5, 9, 14, 21, 26, 31], [11, 18, 21, 30], [0, 9, 16, 22, 24], [5, 16, 18, 27, 31], [3, 12, 27], [1, 5, 10, 13, 17, 27, 31], [2, 12, 22, 24, 29], [0, 12, 15, 18, 22, 25], [4, 10, 12, 19, 30], [8, 12, 14, 21, 26], [4, 7, 11, 22], [1, 4, 8, 19, 30], [1, 3, 5, 12, 20, 24, 28], [2, 4, 12, 19, 23, 28], [4, 14, 23, 28], [2, 7, 13], [1, 4, 7, 16, 26], [14, 19, 22, 31], [0, 3, 7, 14, 20, 25], [1, 5, 11, 14, 21, 29], [3, 19, 26], [6, 15, 21, 29], [7, 10, 12, 19, 29], [0, 4, 10, 16, 27, 29], [0, 3, 15], [6, 9, 14, 24], [2, 6, 15, 18, 24, 30], [1, 8, 16, 23, 28], [0, 4, 7, 17, 22], [1, 12, 20, 29], [1, 3, 16], [0, 3, 10, 17, 28], [1, 5, 11, 18, 29], [3, 7, 14, 19, 28], [1, 3, 7, 13, 26], [6, 12, 20, 24, 26], [2, 13, 19, 22, 31], [0, 10, 12, 16, 20, 27], [8, 12, 23, 29], [0, 2, 7, 13, 16, 25, 29], [2, 12, 16, 20, 23, 30], [2, 13, 17, 27, 30], [8, 14, 27, 31], [0, 6, 10, 12, 18, 29], [6, 18, 22, 28], [8, 12, 18, 24, 30], [2, 12, 16, 18, 22, 26], [7, 10, 16, 22, 28], [3, 5, 15, 19, 24, 30], [0, 18, 24], [6, 13, 18], [6, 8, 19, 22, 28], [1, 6, 8, 11, 17, 23, 28], [1, 9, 14, 17], [2, 13, 19, 26, 31], [1, 7, 10, 18, 24, 28], [3, 16, 19, 21, 26, 30], [4, 16, 21, 26, 31], [6, 10, 13, 27, 31], [9, 14, 18, 31], [4, 6, 18, 24], [4, 16, 19, 26, 30], [17, 22], [8, 14, 16, 24], [5, 8, 11, 13, 17, 23, 27], [3, 5, 13, 21, 27], [0, 7, 10, 15, 19, 24, 29], [1, 5, 22], [4, 14, 20, 23, 27], [2, 6, 10, 15, 21, 26, 29, 31], [3, 8, 31], [5, 13, 19, 23, 29], [0, 5, 15, 22], [5, 8, 15, 23], [7, 13, 16, 24], [2, 7, 9, 18], [1, 11, 13, 16, 21, 27], [3, 19, 28], [4, 12, 17, 21], [10, 14, 18, 23, 29], [8, 26], [5, 8, 10, 14, 20, 23], [2, 11, 27, 31], [4, 13, 19, 23], [2, 12, 22, 26, 30], [1, 4, 6, 15, 25], [0, 13, 17, 26], [15, 25], [0, 6, 11, 16, 19, 22, 25, 30], [12, 15, 27, 31], [3, 12, 25, 30], [8, 16, 31], [8, 11, 13, 18, 25, 29, 31], [0, 4, 8, 12, 17], [7, 19, 28], [6, 8, 19, 27, 30], [7, 16, 19, 22, 26, 29, 31], [0, 12, 24, 30], [4, 6, 19], [3, 8, 10, 19, 21, 26], [1, 9, 21], [5, 12, 16, 19, 23], [5, 10, 25, 28], [0, 11, 19, 24], [2, 9, 12, 14, 28], [6, 18, 24, 26, 30], [5, 13, 17, 19, 29], [1, 4, 16, 26], [1, 5, 7, 12, 18, 21, 26], [11, 14, 23, 26, 29], [4, 18, 29], [0, 10, 18, 28], [4, 14, 16, 19, 26], [11, 21, 26], [8, 11, 14, 21, 24], [1, 8, 16, 19, 23, 28], [1, 11, 14, 16, 19], [1, 3, 5, 10, 17, 23], [6, 13, 18, 22, 29, 31], [6, 12, 18, 24, 31], [2, 10, 15, 20, 25], [2, 4, 8, 13, 21, 26], [4, 23], [22], [3, 6, 9, 17, 28], [4, 14], [2, 7, 9, 15, 29], [0, 2, 9, 11, 22, 24], [0, 11, 22, 24, 27], [2, 7, 13, 20, 29], [2, 8, 12, 16, 25, 31], [3, 10, 13, 16, 22, 30], [1, 4, 8, 11, 16, 26], [3, 9, 13, 24, 29, 31], [7, 12, 17, 20, 26], [1, 7, 13, 26], [4, 8, 13, 18, 20, 22], [3, 10, 28], [1, 14, 21, 29], [6, 11, 21], [2, 4, 13, 21, 28], [9, 21, 23, 29, 31], [6, 8, 13, 25], [6, 10, 17, 22, 25, 27], [1, 12], [1, 7, 14, 22], [3, 17, 26], [6, 11, 15, 28], [3, 7, 10, 14, 18, 31], [11, 15, 27], [11, 17, 25], [4, 7, 12], [3, 8, 10, 15, 19, 22, 29], [16, 18, 20, 22], [2, 13, 20, 29], [1, 3, 8, 15, 18, 23, 25, 28], [0, 12, 19, 23], [10, 15, 21], [2, 6, 22, 27], [7, 10, 18, 23, 25, 30], [7, 9, 15, 20], [7, 14, 18, 27], [0, 9], [9, 11, 15, 18, 31], [7, 14, 20, 23, 27], [20, 27], [9, 20, 28, 31], [7, 22, 24, 31], [0, 9, 14, 20, 23, 27], [3, 15, 21, 23], [2, 6, 16, 19, 24, 31], [5, 8, 22, 31], [5, 11, 16, 22], [0, 8, 11, 19, 26], [1, 17, 21, 25, 28], [4, 9, 13, 17, 22, 27, 31], [14, 19, 28], [3, 9, 17, 22], [5, 12, 15, 18, 26, 29], [1, 18, 29], [6, 11, 15, 26], [11, 16, 21], [7, 13, 26, 28], [2, 13, 24, 29], [3, 5, 15], [6, 10, 19, 22, 30], [3, 12, 16, 25], [0, 17, 27, 30], [2, 9, 14, 26, 28], [5, 16, 23, 26], [0, 8, 14, 17, 27], [4, 19, 30], [2, 5, 19], [3, 8, 18], [8, 14, 21, 29], [12, 22, 25], [0, 2, 8, 17, 23, 27, 29], [4, 14, 18, 27], [1, 8, 11, 14, 21, 23, 25], [2, 8, 13, 16, 22, 28, 31], [9, 11, 17, 20, 22, 27, 31], [6, 8, 11, 25, 29], [2, 6], [5, 7, 10, 16, 23, 31], [4, 8, 18, 26], [7, 12, 20, 31], [4, 7, 11, 17, 25, 31], [2, 19, 29], [5, 14, 21], [2, 4, 14, 17, 22, 27, 31], [8, 10, 21, 29], [3, 9, 16, 20, 22], [8, 27], [0, 14], [3, 6, 11], [0, 12, 17, 24, 28], [11, 13, 17, 28], [13], [18, 25, 31], [4, 18, 28], [0, 7], [9, 25], [15, 25, 27], [6, 22, 29], [7, 13, 20], [1, 4, 8, 17, 21, 25, 27], [1, 15, 23], [8, 10, 26], [5, 10, 19, 22, 26, 30], [1, 14, 20, 27], [2, 8, 15, 17, 22], [9, 18, 26, 31], [6, 11, 14, 26], [4, 13, 27], [2, 21], [9, 15, 26, 30], [9, 17, 31], [1, 6, 14, 20, 28], [10, 26], [7, 20, 31], [11, 13, 20], [6, 14, 23], [1, 12, 29], [1, 14, 17, 26, 29], [7, 15, 30], [1, 13, 16, 25], [0, 4, 13, 19, 21, 28], [2, 7, 19, 30], [5, 9, 12, 18, 25], [6, 14, 16, 22, 25, 29], [2, 6, 14, 28, 30], [2, 15, 25, 29], [13, 17, 21, 24], [1, 3, 5, 12, 20, 24], [8, 12, 18, 24], [0, 4, 11, 15, 21, 23], [4, 9, 15, 20, 27, 31], [1, 5, 10, 15, 20], [3, 6, 13, 23], [1, 10, 14, 23, 28, 30], [1, 20, 26], [5, 19, 24], [5, 28], [0, 3, 12, 17, 19, 22], [15, 31], [10], [13, 15, 22, 30], [0, 4, 10, 22, 25, 28], [11, 15, 21], [0, 4, 11, 20, 24, 30], [3, 9, 15, 19, 25, 31], [0, 5, 10, 17, 23, 25, 27], [4, 8, 11, 16, 19, 24, 30], [1, 9, 12, 22, 27, 29], [2, 6, 11, 13, 22, 25, 28], [2, 4, 7, 10, 15, 17, 19, 23, 25], [2, 8, 10, 13, 20, 22, 24], [5, 14, 26], [0, 8, 15, 22, 25], [2, 8, 12, 15, 19, 22, 28], [0, 5, 9, 23, 29]]\n",
      "Size of largest contributing event [ 9  9 18 17 14 16 17  3  8  8 10 16  3  8 12 24  9 11 13 10  7  6 16 14 10\n",
      " 15 14  7  9 13 26 14  6  6  9 11 21  6 18 16  8  8  5  7 13  9  9  7 19  7\n",
      " 23 10  7  9 11  7 13 11 17 11 15 22  5  9  8 14  8  7 25  8  7  9 15  9 10\n",
      " 14 18  9 19  7  8 13 11  9  5 14 10 26 14  9  7 16  9 11 13 11  6 10  9 13\n",
      "  5 15  4 19  9 13  8  6 13  6 19 18 18 17  9 12  5  7  8 13 10 17 14 16  9\n",
      " 11 13  9  7  5  9  6 13 13  8 10 20  6 14 10 11  7 28 22 17 10 14 17 10 24\n",
      " 10 11 12  9 10 15  6 16 25  8 21 12  5  6  5 21 20 14  8 13 18 20  9 13 24\n",
      " 18 15 15  5 10 10  8 11 18 15 18 14  9 17  9  7 17 14 16 27 13  7  5 11 16\n",
      " 21  7 14 21 14  6 10 10  6  4 11  8 10 14 12  9  9  9 11 12 10 11  8 10 10\n",
      "  9 11 19  5  9  9  5 14 13  3  7  6 12 23 12 25 16  6 22 14  0 12 12  8  7\n",
      " 13 17  0 11 20  0 11 16 15 15 26 12 12  9  9  9 20  0 20 12 17 20 12 18  5\n",
      " 14  9 22 10  8  8 10  6  4 15  8 14  8 23 19 13 10 19 13  7 12 14 17 10 14\n",
      "  9 10 12 15  7  8 11  8  7 17  9  6 17 18 19  9 14 18 14 12  8 10 18  7 11\n",
      " 14 14 10 11 11 11 19  6  7 11  5  7 10  6 13 11 15  8 12  5  9 17 15 15 14\n",
      "  5 10  6 18  9 19  8 10  9 11  8  4 13  5 13 10  9 10  5 16  6  5 17  9 10\n",
      "  7  9 10  8 10 11 15 10 14 10 11 16  8 12 11  7  6 13  8  4 15 10  5 12 11\n",
      "  2 14 11  7  8  9 21  7 15  7  8  9  8 10 11 12 10  9  8 10 11 13 11  7  9\n",
      " 13  8 11  4 11  6 10 11 13  4 10  6 10 11  6 18 20 11  5 16 11  8 13  5  7\n",
      " 13 12 12 27 16  4  8  7 11 10  6 23  8 10 14 15 16 10 16 15  4 14 14 16 13\n",
      " 10 10 13 22  6 13 13 15  5 15 11  8  9 12 13  9 12 14  9 11 14 12  8 12  5\n",
      " 14 14 10 10 17 16  8 14 10  5  6  8  8 19  0 11 22 14  8 11  9  6  7  5  6\n",
      " 13 13 14 18 13 17  9 10 13 11 21 11 14 10 13 16 18 24  7 26 11  3  7 21 16\n",
      "  8 19 12 23 10  6 25 11 15  9 12 10 14 15  7 16  4 18 13  7 17 12 22 13  5\n",
      " 10  8  9 17  5 11 10 15 15 17 11 19  9  9  8  6 10  9 28  8 10 11  6 17 16\n",
      " 10 11 13 19 18 24 12 11  0 19 10 25 16 20 16 19  9 14 16  9 13 12 10 12 14\n",
      " 13 11 14  8 16  8 23 15 17 13 15 12  9 12  7  9  8 13 21  7 16  9  6 13 10\n",
      "  9 19 13 23 10 16  0  7  4  6  7  6  5  5 10  9  9 10 11  7  6 14]\n"
     ]
    },
    {
     "data": {
      "text/plain": [
       "<matplotlib.legend.Legend at 0x2b51b71e06d8>"
      ]
     },
     "execution_count": 12,
     "metadata": {},
     "output_type": "execute_result"
    },
    {
     "data": {
      "image/png": "[encoded data removed]",
      "text/plain": [
       "<matplotlib.figure.Figure at 0x2b517a3c40f0>"
      ]
     },
     "metadata": {},
     "output_type": "display_data"
    },
    {
     "data": {
      "image/png": "[encoded data removed]",
      "text/plain": [
       "<matplotlib.figure.Figure at 0x2b51b701a668>"
      ]
     },
     "metadata": {},
     "output_type": "display_data"
    },
    {
     "data": {
      "image/png": "[encoded data removed]",
      "text/plain": [
       "<matplotlib.figure.Figure at 0x2b51b7087c50>"
      ]
     },
     "metadata": {},
     "output_type": "display_data"
    },
    {
     "data": {
      "image/png": "[encoded data removed]",
      "text/plain": [
       "<matplotlib.figure.Figure at 0x2b51b71499b0>"
      ]
     },
     "metadata": {},
     "output_type": "display_data"
    }
   ],
   "source": [
    "##-- EXPLORE FFT ANALYSIS --##\n",
    "\n",
    "# Dimensions of embedded CRMs\n",
    "ndim1,ndim2 = s_crm2D[1:3]\n",
    "\n",
    "# For all bins, compute the spatial characteristics of the crm precipitation field\n",
    "# for rank in targetranks:\n",
    "\n",
    "rank = targetranks[26]\n",
    "rankid = rankID(rank)\n",
    "iQ = indexOfRank(rank,ranks_ref)\n",
    "print(rank)\n",
    "print(\"P_Q =\",percentiles[iQ])\n",
    "print(\"bin:\",bins[iQ-1],bins[iQ])\n",
    "print()\n",
    "\n",
    "# Points corresponding to extreme event\n",
    "stencil_Q = rank_locations[rankid]\n",
    "\n",
    "# Extend stencil to dimensions of crm variables\n",
    "crm_stencil_Q = np.repeat(np.repeat(stencil_Q[:,np.newaxis,np.newaxis,...],ndim1,1),\n",
    "                          ndim2,2)\n",
    "# Extract CRM_PREC data at percentile of PRECT\n",
    "# crmpr_all_prQ = crmpr[crm_stencil_Q].reshape((stencil_Q.sum(),ndim2))\n",
    "crmpr_all_prQ = np.stack([crmpr[:,0,i,:,:][stencil_Q] for i in range(32)]).T\n",
    "\n",
    "crmpr_avg_all_prQ = np.mean(crmpr_all_prQ,axis=1)\n",
    "pr_all_prQ = pr[stencil_Q]\n",
    "\n",
    "# See if the average of PRECT in the percentile bin matches the percentile P_Q\n",
    "print(\"All values of pr in percentile bin:\",pr_all_prQ)\n",
    "print(\"Fraction of values between bin edges:\",(np.logical_and(pr_all_prQ<=bins[iQ],pr_all_prQ>bins[iQ-1])).sum()/pr_all_prQ.size)\n",
    "print(\"Average of pr in percentile bin:\",np.mean(pr_all_prQ), pr_prQ[iQ])\n",
    "# See if the average of CRM_PREC along crm_x within the percentile bin matches the percentile P_Q\n",
    "print()\n",
    "print(\"All values of crmpr in percentile bin:\",crmpr_avg_all_prQ)\n",
    "print(\"Fraction of values between bin edges:\",(np.logical_and(crmpr_avg_all_prQ<=bins[iQ],\n",
    "                                                              crmpr_avg_all_prQ>bins[iQ-1])).sum()/crmpr_avg_all_prQ.size)\n",
    "print(\"Average of crmpr in percentile bin:\",np.mean(crmpr_avg_all_prQ))\n",
    "print()\n",
    "print(\"Local relative error between pr and crmpr_avg:\",(crmpr_avg_all_prQ-pr_all_prQ)/pr_all_prQ)\n",
    "\n",
    "print(crmpr_all_prQ.shape)\n",
    "plt.imshow(np.log(crmpr_all_prQ))\n",
    "plt.title('CRM_PREC for each event (rows)')\n",
    "plt.show()\n",
    "\n",
    "crmpr_all_fft_prQ = np.absolute(np.fft.fft(crmpr_all_prQ,axis=1))[:,:(ndim2//2+1)]\n",
    "plt.imshow(crmpr_all_fft_prQ)\n",
    "plt.title('Fourier coefficients')\n",
    "plt.show()\n",
    "\n",
    "crmpr_fft_IQrange_prQ = np.percentile(crmpr_all_fft_prQ,[25,50,75],axis=0)\n",
    "crmpr_fft_I25_prQ,crmpr_fft_I50_prQ,crmpr_fft_I75_prQ = tuple(crmpr_fft_IQrange_prQ)\n",
    "crmpr_fft_max_prQ = np.max(crmpr_all_fft_prQ,axis=0)\n",
    "\n",
    "# Plot median and interquartile range of coefficients without normalizing\n",
    "fig,ax = plt.subplots(ncols=1,nrows=1,figsize=(5,4.5))\n",
    "x = np.arange(1,18,1)\n",
    "ax.plot(x,crmpr_fft_I50_prQ)\n",
    "ax.plot(x,crmpr_fft_max_prQ,'k')\n",
    "ax.fill_between(x, crmpr_fft_I25_prQ, crmpr_fft_I75_prQ, where=crmpr_fft_I75_prQ >= crmpr_fft_I25_prQ,\n",
    "                facecolor='b',alpha=0.2, interpolate=True)\n",
    "ax.set_xlabel('Wave number')\n",
    "ax.set_ylabel('Fourier coefficient')\n",
    "\n",
    "def mainCoef(fft_array):\n",
    "    \"\"\"The array is 2D with fft dimension in second position\"\"\"\n",
    "    main_coef = np.apply_along_axis(arr=fft_array,axis=1,func1d=lambda x: np.argmax(x == np.max(x)))\n",
    "    return main_coef\n",
    "    \n",
    "crmpr_fft_maincoef_prQ = mainCoef(crmpr_all_fft_prQ)\n",
    "\n",
    "# Normalize data\n",
    "crmpr_all_fftrel_prQ = np.apply_along_axis(arr=crmpr_all_fft_prQ,axis=1,func1d=lambda x: x/np.max(x))\n",
    "crmpr_fftrel_IQrange_prQ = np.percentile(crmpr_all_fftrel_prQ,[25,50,75],axis=0)\n",
    "crmpr_fftrel_I25_prQ,crmpr_fftrel_I50_prQ,crmpr_fftrel_I75_prQ = tuple(crmpr_fftrel_IQrange_prQ)\n",
    "crmpr_fftrel_max_prQ = np.max(crmpr_all_fftrel_prQ,axis=0)\n",
    "\n",
    "# Plot median and interquartile range of coefficients after normalizing\n",
    "fig,ax = plt.subplots(ncols=1,nrows=1,figsize=(5,4.5))\n",
    "x = np.arange(1,18,1)\n",
    "ax.plot(x,crmpr_fftrel_I50_prQ*100)\n",
    "ax.plot(x,crmpr_fftrel_max_prQ*100,'k')\n",
    "ax.fill_between(x, crmpr_fftrel_I25_prQ*100, crmpr_fftrel_I75_prQ*100, where=crmpr_fftrel_I75_prQ >= crmpr_fftrel_I25_prQ,\n",
    "                facecolor='b',alpha=0.2, interpolate=True)\n",
    "ax.set_xlabel('Wave number')\n",
    "ax.set_ylabel('Normalized Fourier coefficient (%)')\n",
    "ax.legend(['median','max','IQrange'],framealpha=0.8)\n",
    "\n",
    "\n",
    "# Compute number of local maxima (number of blobs, or clouds) point by point\n",
    "crmpr_all_nmax_prQ = np.apply_along_axis(arr=crmpr_all_prQ,axis=1,func1d=numLocalMax)\n",
    "dens,edges = np.histogram(crmpr_all_nmax_prQ,bins=np.linspace(0,16,17),density=True)\n",
    "fig,ax = plt.subplots(ncols=1,nrows=1,figsize=(5,4.5))\n",
    "ax.plot(np.convolve(edges,(0.5,0.5),'valid'),dens)\n",
    "ax.set_xlabel('Number of local maxima')\n",
    "ax.set_ylabel('Probability density')\n",
    "\n",
    "# Compute the fraction of rain in each sub rain event (between consecutive local minima)\n",
    "crmpr_frac_and_ind_prQ = [fractionRainPerEvent(x) for x in crmpr_all_prQ]\n",
    "ll = [l[0] for l in crmpr_frac_and_ind_prQ]\n",
    "crmprfrac_prQ = np.array(list(zip_longest(*ll,fillvalue=0))).T\n",
    "ll = [l[1] for l in crmpr_frac_and_ind_prQ]\n",
    "crmprind_prQ = np.array(list(zip_longest(*ll,fillvalue=0))).T\n",
    "print(\"crmprind:\",crmprind_prQ)\n",
    "\n",
    "# Median and IQrange - fraction of rain\n",
    "crmprfrac_IQrange_prQ = np.percentile(crmprfrac_prQ,[25,50,75],axis=0)\n",
    "crmprfrac_I25_prQ,crmprfrac_I50_prQ,crmprfrac_I75_prQ = tuple(crmprfrac_IQrange_prQ)\n",
    "\n",
    "locmin_prQ = [list(np.where(localMin(x))[0]) for x in crmpr_all_prQ]\n",
    "print(\"locmin:\",locmin_prQ)\n",
    "\n",
    "# Size of biggest rain event\n",
    "crmprsize_prQ = np.array([(np.roll(locmin_prQ[k],-1)[crmprind_prQ[k][0]]-locmin_prQ[k][crmprind_prQ[k][0]]) % ndim2 for k in range(crmprind_prQ.shape[0])])\n",
    "print(\"Size of largest contributing event\",crmprsize_prQ)\n",
    "\n",
    "# Plot median and interquartile range of fraction of rain\n",
    "fig,ax = plt.subplots(ncols=1,nrows=1,figsize=(5,4.5))\n",
    "x = np.arange(1,len(crmprfrac_I50_prQ)+1,1)\n",
    "ax.plot(x,crmprfrac_I50_prQ*100)\n",
    "ax.fill_between(x,crmprfrac_I25_prQ*100, crmprfrac_I75_prQ*100,\n",
    "                  where=crmprfrac_I75_prQ >= crmprfrac_I25_prQ,\n",
    "                  facecolor='b',alpha=0.2, interpolate=True)\n",
    "ax.set_xlabel('Rainfall event #')\n",
    "ax.set_ylabel('Fraction of rain (%)')\n",
    "ax.legend(['median','max','IQrange'],framealpha=0.8)\n",
    "\n",
    "\n",
    "##-- END EXPLORE FFT ANALYSIS --##"
   ]
  },
  {
   "cell_type": "code",
   "execution_count": 37,
   "metadata": {
    "ExecuteTime": {
     "end_time": "2018-04-16T22:10:55.470723",
     "start_time": "2018-04-16T22:10:20.249356Z"
    },
    "run_control": {
     "frozen": false,
     "read_only": false
    },
    "scrolled": true
   },
   "outputs": [
    {
     "name": "stdout",
     "output_type": "stream",
     "text": [
      "84.1511, 87.4107, 90.0000, 92.0567, 93.6904, 94.9881, 96.0189, 96.8377, 97.4881, 98.0047, 98.4151, 98.7411, 99.0000, 99.2057, 99.3690, 99.4988, 99.6019, 99.6838, 99.7488, 99.8005, 99.8415, 99.8741, 99.9000, 99.9206, 99.9369, 99.9499, 99.9602, 99.9684, 99.9749, 99.9800, 99.9842, 99.9874, 99.9900, \n"
     ]
    }
   ],
   "source": [
    "##-- FFT analysis on all percentiles --##\n",
    "\n",
    "# Dimensions of embedded CRMs\n",
    "ndim1,ndim2 = s_crm2D[1:3]\n",
    "\n",
    "# Initialize outputs\n",
    "# crmpr_fft_mainWN_prQ = np.nan*np.empty((targetranks.size,ndim2))\n",
    "crmpr_fft_I25_prQ = np.nan*np.empty((ranks_ref.size,ndim2//2))\n",
    "crmpr_fft_I50_prQ = np.nan*np.empty((ranks_ref.size,ndim2//2))\n",
    "crmpr_fft_I75_prQ = np.nan*np.empty((ranks_ref.size,ndim2//2))\n",
    "crmpr_fft_max_prQ = np.nan*np.empty((ranks_ref.size,ndim2//2))\n",
    "crmpr_fftrel_I25_prQ = np.nan*np.empty((ranks_ref.size,ndim2//2))\n",
    "crmpr_fftrel_I50_prQ = np.nan*np.empty((ranks_ref.size,ndim2//2))\n",
    "crmpr_fftrel_I75_prQ = np.nan*np.empty((ranks_ref.size,ndim2//2))\n",
    "crmpr_fftrel_max_prQ = np.nan*np.empty((ranks_ref.size,ndim2//2))\n",
    "crmpr_nmax_I25_prQ = np.nan*np.empty((ranks_ref.size,ndim2))\n",
    "crmpr_nmax_I50_prQ = np.nan*np.empty((ranks_ref.size,ndim2))\n",
    "crmpr_nmax_I75_prQ = np.nan*np.empty((ranks_ref.size,ndim2))\n",
    "crmpr_nmax_max_prQ = np.nan*np.empty((ranks_ref.size,ndim2))\n",
    "crmprfrac_I25_prQ = np.nan*np.empty((ranks_ref.size,7))\n",
    "crmprfrac_I50_prQ = np.nan*np.empty((ranks_ref.size,7))\n",
    "crmprfrac_I75_prQ = np.nan*np.empty((ranks_ref.size,7))\n",
    "crmprsize_I25_prQ = np.nan*np.empty((ranks_ref.size,))\n",
    "crmprsize_I50_prQ = np.nan*np.empty((ranks_ref.size,))\n",
    "crmprsize_I75_prQ = np.nan*np.empty((ranks_ref.size,))\n",
    "\n",
    "# For all bins, compute the spatial characteristics of the crm precipitation field\n",
    "for rank in targetranks:\n",
    "\n",
    "    rankid = rankID(rank)\n",
    "    stencil_Q = rank_locations[rankid]\n",
    "    iQ = indexOfRank(rank,ranks_ref)\n",
    "    print(rankid,end=', ')\n",
    "\n",
    "#     # Extend stencil to dimensions of crm variables\n",
    "#     crm_stencil_Q = np.repeat(np.repeat(stencil_Q[:,np.newaxis,np.newaxis,...],ndim1,1),\n",
    "#                               ndim2,2)\n",
    "    # Extract CRM_PREC data at percentile of PRECT\n",
    "    crmpr_all_Q = np.stack([crmpr[:,0,i,:,:][stencil_Q] for i in range(ndim2)]).T\n",
    "    \n",
    "    plt.figure()\n",
    "    if crmpr_all_prQ.shape[0] > 100:\n",
    "        X = crmpr_all_Q[:100,]\n",
    "    else:\n",
    "        X = crmpr_all_Q\n",
    "    plt.imshow(X)\n",
    "    plt.savefig(os.path.join(figdir,time_stride,resolution,'crmpr_pr_Q%s_%s.pdf'%(rankid.replace('.',''),output_suffix)),\n",
    "            bbox_inches='tight')\n",
    "    plt.close()\n",
    "    \n",
    "    # Compute Fourier coefficient point by point\n",
    "    crmpr_all_fft_Q = np.absolute(np.fft.fft(crmpr_all_Q,axis=1))[:,:(ndim2//2)]\n",
    "\n",
    "    plt.figure()\n",
    "    if crmpr_all_fft_Q.shape[0] > 100:\n",
    "        X = crmpr_all_fft_Q[:100,]\n",
    "    else:\n",
    "        X = crmpr_all_fft_Q\n",
    "    plt.imshow(X)\n",
    "    plt.savefig(os.path.join(figdir,time_stride,resolution,'FFT_crmpr_pr_Q%s_%s.pdf'%(rankid.replace('.',''),output_suffix)),\n",
    "            bbox_inches='tight')\n",
    "    plt.close()\n",
    "    \n",
    "    # Compute number of local maxima (number of blobs, or clouds) point by point\n",
    "    crmpr_all_nmax_Q = np.apply_along_axis(arr=crmpr_all_Q,axis=1,func1d=numLocalMax)\n",
    "    \n",
    "    \n",
    "    #- Interquartile range and median without normalizing\n",
    "    crmpr_fft_IQrange_Q = np.percentile(crmpr_all_fft_Q,[25,50,75],axis=0)\n",
    "    crmpr_fft_I25_Q,crmpr_fft_I50_Q,crmpr_fft_I75_Q = tuple(crmpr_fft_IQrange_Q)\n",
    "    crmpr_fft_max_Q = np.max(crmpr_all_fft_Q,axis=0)\n",
    "    # Wavenumber or maximum coefficient\n",
    "    crmpr_fft_maincoef_Q = mainCoef(crmpr_all_fft_Q)\n",
    "\n",
    "    # Normalize data\n",
    "    crmpr_all_fftrel_Q = np.apply_along_axis(arr=crmpr_all_fft_Q,axis=1,func1d=lambda x: x/np.max(x))\n",
    "    # Interquartile range and median after normalizing\n",
    "    crmpr_fftrel_IQrange_Q = np.percentile(crmpr_all_fftrel_Q,[25,50,75],axis=0)\n",
    "    crmpr_fftrel_I25_Q,crmpr_fftrel_I50_Q,crmpr_fftrel_I75_Q = tuple(crmpr_fftrel_IQrange_Q)\n",
    "    crmpr_fftrel_max_Q = np.max(crmpr_all_fftrel_Q,axis=0)\n",
    "\n",
    "    # Plot median and interquartile range of coefficients after normalizing\n",
    "    fig,ax = plt.subplots(ncols=1,nrows=1,figsize=(5,4.5))\n",
    "    x = np.arange(1,17,1)\n",
    "    ax.plot(x,crmpr_fftrel_I50_Q*100)\n",
    "    ax.plot(x,crmpr_fftrel_max_Q*100,'k')\n",
    "    ax.fill_between(x, crmpr_fftrel_I25_Q*100, crmpr_fftrel_I75_Q*100, where=crmpr_fftrel_I75_Q >= crmpr_fftrel_I25_Q,\n",
    "                    facecolor='b',alpha=0.2, interpolate=True)\n",
    "    ax.set_xlabel('Wave number')\n",
    "    ax.set_ylabel('Normalized Fourier coefficient (%)')\n",
    "    ax.legend(['median','max','quartiles'],framealpha=0.8)\n",
    "    plt.savefig(os.path.join(figdir,time_stride,resolution,'IQrange_and_max_FFTnormalized_crmpr_pr_Q%s_%s.pdf'%(rankid.replace('.',''),output_suffix)),\n",
    "            bbox_inches='tight')\n",
    "    plt.close()\n",
    "    \n",
    "    # Compute the fraction of rain in each sub rain event (between consecutive local minima)\n",
    "    crmpr_frac_and_ind_Q = [fractionRainPerEvent(x) for x in crmpr_all_Q]\n",
    "    ll = [l[0] for l in crmpr_frac_and_ind_Q]\n",
    "    crmprfrac_Q = np.array(list(zip_longest(*ll,fillvalue=0))).T \n",
    "    nshort = 7 - crmprfrac_Q.shape[1]\n",
    "    if nshort > 0:\n",
    "        crmprfrac_Q = np.pad(crmprfrac_Q, [(0,0),(0,nshort)], 'constant', constant_values=0)\n",
    "    \n",
    "    ll = [l[1] for l in crmpr_frac_and_ind_Q]\n",
    "    crmprind_Q = np.array(list(zip_longest(*ll,fillvalue=0))).T\n",
    "\n",
    "    # Median and IQrange - fraction of rain\n",
    "    crmprfrac_IQrange_Q = np.percentile(crmprfrac_Q,[25,50,75],axis=0)\n",
    "    crmprfrac_I25_Q,crmprfrac_I50_Q,crmprfrac_I75_Q = tuple(crmprfrac_IQrange_Q)\n",
    "\n",
    "    # Size of biggest rain event\n",
    "    locmin_Q = [list(np.where(localMin(x))[0]) for x in crmpr_all_Q]\n",
    "    crmprsize_Q = np.array([(np.roll(locmin_Q[k],-1)[crmprind_Q[k][0]]-locmin_Q[k][crmprind_Q[k][0]]) % ndim2 for k in range(crmprind_Q.shape[0])],\n",
    "                           dtype=float)\n",
    "    # Median and IQrange or largest event size\n",
    "    crmprsize_IQrange_Q = np.percentile(crmprsize_Q,[25,50,75],axis=0)\n",
    "    crmprsize_I25_Q,crmprsize_I50_Q,crmprsize_I75_Q = tuple(crmprsize_IQrange_Q)\n",
    "    \n",
    "    #- Store data\n",
    "#     crmpr_fft_mainWN_prQ[iQ,:] = crmpr_fft_maincoef_Q\n",
    "    crmpr_fft_I25_prQ[iQ,:] = crmpr_fft_I25_Q\n",
    "    crmpr_fft_I50_prQ[iQ,:] = crmpr_fft_I50_Q\n",
    "    crmpr_fft_I75_prQ[iQ,:] = crmpr_fft_I75_Q\n",
    "    crmpr_fft_max_prQ[iQ,:] = crmpr_fft_max_Q\n",
    "    # After normalizing\n",
    "    crmpr_fftrel_I25_prQ[iQ,:] = crmpr_fftrel_I25_Q\n",
    "    crmpr_fftrel_I50_prQ[iQ,:] = crmpr_fftrel_I50_Q\n",
    "    crmpr_fftrel_I75_prQ[iQ,:] = crmpr_fftrel_I75_Q\n",
    "    crmpr_fftrel_max_prQ[iQ,:] = crmpr_fftrel_max_Q\n",
    "    # Fraction of rain in rain events\n",
    "    crmprfrac_I25_prQ[iQ,:] = crmprfrac_I25_Q[:7]\n",
    "    crmprfrac_I50_prQ[iQ,:] = crmprfrac_I50_Q[:7]\n",
    "    crmprfrac_I75_prQ[iQ,:] = crmprfrac_I75_Q[:7]\n",
    "    # Event size\n",
    "    crmprsize_I25_prQ[iQ] = crmprsize_I25_Q\n",
    "    crmprsize_I50_prQ[iQ] = crmprsize_I50_Q\n",
    "    crmprsize_I75_prQ[iQ] = crmprsize_I75_Q\n",
    "\n",
    "print()"
   ]
  },
  {
   "cell_type": "code",
   "execution_count": 38,
   "metadata": {
    "ExecuteTime": {
     "end_time": "2018-04-16T22:15:17.694939",
     "start_time": "2018-04-16T22:15:17.120170Z"
    },
    "run_control": {
     "frozen": false,
     "read_only": false
    }
   },
   "outputs": [
    {
     "name": "stdout",
     "output_type": "stream",
     "text": [
      "Show the fraction of rain in the largest event as a function of percentile rank\n"
     ]
    },
    {
     "data": {
      "image/png": "[encoded data removed]",
      "text/plain": [
       "<matplotlib.figure.Figure at 0x2b517a50d208>"
      ]
     },
     "metadata": {},
     "output_type": "display_data"
    }
   ],
   "source": [
    "print(\"Show the fraction of rain in the largest event as a function of percentile rank\")\n",
    "\n",
    "fig, ax = plt.subplots(ncols=1,nrows=1,figsize=(5,4.5))\n",
    "\n",
    "# ax.set_yscale('log')\n",
    "\n",
    "# Add zero line\n",
    "addZeroLine(ax,ranks_ref)\n",
    "\n",
    "subplotRanksILog(ax,ranks_ref,\n",
    "                 crmprfrac_I50_prQ[:,0]*100,\n",
    "                 col='k',ltype='-',transformX=False)\n",
    "\n",
    "subplotYShadingRanksILog(ax,ranks_ref,[crmprfrac_I25_prQ[:,0]*100,crmprfrac_I75_prQ[:,0]*100],col='blue',transformX=False)\n",
    "\n",
    "addXHatchRanksILog(ax,ranks_ref,(0,iQ_min),transformX=True)\n",
    "    \n",
    "ax.set_xlabel('Percentile ranks (%)')\n",
    "ax.set_ylabel('Fraction of rain in largest event (%)')\n",
    "plt.show()\n",
    "# ax.legend(['median','max','quartiles'],framealpha=0.8)\n",
    "# plt.savefig(os.path.join(figdir,time_stride,resolution,'IQrange_and_max_FFTnormalized_crmpr_pr_Q%s_%s.pdf'%(rankid.replace('.',''),output_suffix)),\n",
    "#         bbox_inches='tight')\n"
   ]
  },
  {
   "cell_type": "code",
   "execution_count": 39,
   "metadata": {
    "ExecuteTime": {
     "end_time": "2018-04-16T22:15:21.907723",
     "start_time": "2018-04-16T22:15:21.384545Z"
    }
   },
   "outputs": [
    {
     "name": "stdout",
     "output_type": "stream",
     "text": [
      "Show the fraction areao of the largest event as a function of percentile rank\n"
     ]
    },
    {
     "data": {
      "image/png": "[encoded data removed]",
      "text/plain": [
       "<matplotlib.figure.Figure at 0x2b517a50ddd8>"
      ]
     },
     "metadata": {},
     "output_type": "display_data"
    }
   ],
   "source": [
    "print(\"Show the fraction areao of the largest event as a function of percentile rank\")\n",
    "\n",
    "fig, ax = plt.subplots(ncols=1,nrows=1,figsize=(5,4.5))\n",
    "\n",
    "# Add zero line\n",
    "addZeroLine(ax,ranks_ref)\n",
    "\n",
    "subplotRanksILog(ax,ranks_ref,\n",
    "                 crmprsize_I50_prQ/float(ndim2)*100,\n",
    "                 col='k',ltype='-',transformX=False)\n",
    "\n",
    "subplotYShadingRanksILog(ax,ranks_ref,\n",
    "                         [crmprsize_I25_prQ/float(ndim2)*100,crmprsize_I75_prQ/float(ndim2)*100],\n",
    "                         col='blue',transformX=False)\n",
    "\n",
    "addXHatchRanksILog(ax,ranks_ref,(0,iQ_min),transformX=True)\n",
    "    \n",
    "ax.set_xlabel('Percentile ranks (%)')\n",
    "ax.set_ylabel('Fraction area of largest event (%)')\n",
    "plt.show()"
   ]
  },
  {
   "cell_type": "code",
   "execution_count": 43,
   "metadata": {},
   "outputs": [
    {
     "data": {
      "text/plain": [
       "<matplotlib.text.Text at 0x2b51b9a66940>"
      ]
     },
     "execution_count": 43,
     "metadata": {},
     "output_type": "execute_result"
    },
    {
     "data": {
      "image/png": "[encoded data removed]",
      "text/plain": [
       "<matplotlib.figure.Figure at 0x2b51b9a5a358>"
      ]
     },
     "metadata": {},
     "output_type": "display_data"
    }
   ],
   "source": [
    "# Plot median and interquartile range of Fourier coefficients computed after normalizing\n",
    "iQ1 = indexOfRank(96.8377,ranks_ref)\n",
    "iQ2 = indexOfRank(99.6838,ranks_ref)\n",
    "iQ3 = indexOfRank(99.0684,ranks_ref)\n",
    "iQs = [iQ1,iQ2,iQ3]\n",
    "\n",
    "normfac = [1,\n",
    "           crmpr_fft_max_prQ[iQs[0]][0]/crmpr_fft_max_prQ[iQs[1]][0],\n",
    "           crmpr_fft_max_prQ[iQs[0]][0]/crmpr_fft_max_prQ[iQs[2]][0]]\n",
    "\n",
    "cols = 'r','g','b'\n",
    "\n",
    "fig,ax = plt.subplots(ncols=1,nrows=1,figsize=(5,4.5))\n",
    "x = np.arange(1,17,1)\n",
    "for i in range(3):\n",
    "    fac = normfac[i]\n",
    "    ax.plot(x,fac*crmpr_fft_I50_prQ[iQs[i]]*100,c=cols[i])\n",
    "    ax.plot(x,fac*crmpr_fft_max_prQ[iQs[i]]*100,linestyle=':',c=cols[i])\n",
    "    ax.fill_between(x, fac*crmpr_fft_I25_prQ[iQs[i]]*100, fac*crmpr_fft_I75_prQ[iQs[i]]*100,\n",
    "                    where=fac*crmpr_fft_I75_prQ[iQs[i]] >= fac*crmpr_fft_I25_prQ[iQs[i]],\n",
    "                facecolor=cols[i],alpha=0.1, interpolate=True)\n",
    "ax.set_xlabel('Wave number')\n",
    "ax.set_ylabel('Normalized Fourier coefficient')\n",
    "# ax.legend(['median','max','IQrange'],framealpha=0.8)"
   ]
  },
  {
   "cell_type": "markdown",
   "metadata": {},
   "source": [
    "TODO: Put same color scale as preivous paper"
   ]
  },
  {
   "cell_type": "markdown",
   "metadata": {
    "collapsed": true
   },
   "source": [
    "## Save results"
   ]
  },
  {
   "cell_type": "code",
   "execution_count": 44,
   "metadata": {},
   "outputs": [
    {
     "name": "stdout",
     "output_type": "stream",
     "text": [
      "save results to dataframe\n"
     ]
    }
   ],
   "source": [
    "print(\"save results to dataframe\")\n",
    "\n",
    "vars_to_pickle = ['crmpr_fft_I25_prQ',\n",
    "    'crmpr_fft_I50_prQ',\n",
    "    'crmpr_fft_I75_prQ',\n",
    "    'crmpr_fft_max_prQ',\n",
    "    'crmpr_fftrel_I25_prQ',\n",
    "    'crmpr_fftrel_I50_prQ',\n",
    "    'crmpr_fftrel_I75_prQ',\n",
    "    'crmpr_fftrel_max_prQ',\n",
    "    # Fraction of rain in rain events\n",
    "    'crmprfrac_I25_prQ',\n",
    "    'crmprfrac_I50_prQ',\n",
    "    'crmprfrac_I75_prQ',\n",
    "    # Event size\n",
    "    'crmprsize_I25_prQ',\n",
    "    'crmprsize_I50_prQ',\n",
    "    'crmprsize_I75_prQ']"
   ]
  },
  {
   "cell_type": "code",
   "execution_count": 45,
   "metadata": {},
   "outputs": [
    {
     "name": "stdout",
     "output_type": "stream",
     "text": [
      ". crmpr_fft_I25_prQ <class 'numpy.ndarray'> 5360 (41, 16)\n",
      ". crmpr_fft_I50_prQ <class 'numpy.ndarray'> 5360 (41, 16)\n",
      ". crmpr_fft_I75_prQ <class 'numpy.ndarray'> 5360 (41, 16)\n",
      ". crmpr_fft_max_prQ <class 'numpy.ndarray'> 5360 (41, 16)\n",
      ". crmpr_fftrel_I25_prQ <class 'numpy.ndarray'> 5360 (41, 16)\n",
      ". crmpr_fftrel_I50_prQ <class 'numpy.ndarray'> 5360 (41, 16)\n",
      ". crmpr_fftrel_I75_prQ <class 'numpy.ndarray'> 5360 (41, 16)\n",
      ". crmpr_fftrel_max_prQ <class 'numpy.ndarray'> 5360 (41, 16)\n",
      ". crmprfrac_I25_prQ <class 'numpy.ndarray'> 2408 (41, 7)\n",
      ". crmprfrac_I50_prQ <class 'numpy.ndarray'> 2408 (41, 7)\n",
      ". crmprfrac_I75_prQ <class 'numpy.ndarray'> 2408 (41, 7)\n",
      ". crmprsize_I25_prQ <class 'numpy.ndarray'> 424 (41,)\n",
      ". crmprsize_I50_prQ <class 'numpy.ndarray'> 424 (41,)\n",
      ". crmprsize_I75_prQ <class 'numpy.ndarray'> 424 (41,)\n"
     ]
    }
   ],
   "source": [
    "size_pickle = 0\n",
    "dict_pickle = {}\n",
    "for v in vars_to_pickle:\n",
    "    obj = getattr(thismodule,v)\n",
    "    size_pickle += sys.getsizeof(obj)\n",
    "    if obj.__class__ is np.ndarray:\n",
    "        print('.',v,obj.__class__,sys.getsizeof(obj),obj.shape)\n",
    "    else:\n",
    "        print('.',v,obj.__class__,sys.getsizeof(obj))\n",
    "    # save variables\n",
    "    dict_pickle[v] = obj"
   ]
  },
  {
   "cell_type": "code",
   "execution_count": 46,
   "metadata": {},
   "outputs": [
    {
     "name": "stdout",
     "output_type": "stream",
     "text": [
      "> save to file subgridscale_results_dictionary_Q8-Q41_185005010100-185105010000.pickle\n",
      "total size = 51376 B\n"
     ]
    }
   ],
   "source": [
    "result_dict_file = 'subgridscale_results_dictionary_%s.pickle'%output_suffix\n",
    "print(\"> save to file %s\"%result_dict_file)\n",
    "pickle.dump(dict_pickle,open(os.path.join(resultdir,result_dict_file),\"wb\"))\n",
    "print(\"total size =\",size_pickle,\"B\")"
   ]
  },
  {
   "cell_type": "code",
   "execution_count": null,
   "metadata": {},
   "outputs": [],
   "source": []
  }
 ],
 "metadata": {
  "hide_input": false,
  "kernelspec": {
   "display_name": "Python [default]",
   "language": "python",
   "name": "python3"
  },
  "language_info": {
   "codemirror_mode": {
    "name": "ipython",
    "version": 3
   },
   "file_extension": ".py",
   "mimetype": "text/x-python",
   "name": "python",
   "nbconvert_exporter": "python",
   "pygments_lexer": "ipython3",
   "version": "3.6.1"
  },
  "latex_envs": {
   "bibliofile": "biblio.bib",
   "cite_by": "apalike",
   "current_citInitial": 1,
   "eqLabelWithNumbers": true,
   "eqNumInitial": 0
  },
  "toc": {
   "toc_cell": true,
   "toc_number_sections": true,
   "toc_threshold": 6,
   "toc_window_display": false
  }
 },
 "nbformat": 4,
 "nbformat_minor": 1
}
