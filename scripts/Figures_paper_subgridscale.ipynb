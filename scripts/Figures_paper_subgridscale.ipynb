{
 "cells": [
  {
   "cell_type": "markdown",
   "metadata": {
    "toc": "true"
   },
   "source": [
    "# Table of Contents\n",
    " <p><div class=\"lev2\"><a href=\"#PRECT-statistics\"><span class=\"toc-item-num\">0.1&nbsp;&nbsp;</span>PRECT statistics</a></div><div class=\"lev2\"><a href=\"#CRM_PREC-in-percentile-bins-of-PRECT\"><span class=\"toc-item-num\">0.2&nbsp;&nbsp;</span>CRM_PREC in percentile bins of PRECT</a></div>"
   ]
  },
  {
   "cell_type": "code",
   "execution_count": 1,
   "metadata": {
    "ExecuteTime": {
     "end_time": "2018-04-09T18:26:36.501544",
     "start_time": "2018-04-09T18:26:34.059452Z"
    },
    "collapsed": true,
    "run_control": {
     "frozen": false,
     "marked": false,
     "read_only": false
    },
    "scrolled": true
   },
   "outputs": [],
   "source": [
    "%load_ext autoreload\n",
    "%matplotlib inline"
   ]
  },
  {
   "cell_type": "code",
   "execution_count": 2,
   "metadata": {
    "ExecuteTime": {
     "end_time": "2018-04-09T18:26:41.380188",
     "start_time": "2018-04-09T18:26:36.504429Z"
    },
    "collapsed": false,
    "hide_input": false,
    "run_control": {
     "frozen": false,
     "read_only": false
    }
   },
   "outputs": [
    {
     "name": "stdout",
     "output_type": "stream",
     "text": [
      "Own modules available: ['CAMsettings', 'daskOptions', 'environmentAndDirectories', 'importingData', 'outputResults', 'physicalConstants', 'plot1DInvLog', 'plot2D', 'plotMaps', 'scalingApproximations', 'slicingAndSubsetting', 'statisticalDistributions', 'thermoConstants', 'thermoFunctions']\n"
     ]
    }
   ],
   "source": [
    "%autoreload 2\n",
    "\n",
    "import pandas as pd\n",
    "import numpy as np\n",
    "import numpy.ma as ma\n",
    "import dask.array as da\n",
    "import matplotlib.pyplot as plt\n",
    "from matplotlib import mplDeprecation\n",
    "import datetime as dt\n",
    "import sys,os,glob\n",
    "import matplotlib\n",
    "from mpl_toolkits.basemap import Basemap\n",
    "from matplotlib.colors import LogNorm\n",
    "import pickle\n",
    "\n",
    "## Add own library to path\n",
    "workdir = os.getcwd()\n",
    "thismodule = sys.modules[__name__]\n",
    "moduledir = os.path.join(os.path.dirname(workdir),'functions')\n",
    "sys.path.insert(0,moduledir)\n",
    "print(\"Own modules available:\", [os.path.splitext(os.path.basename(x))[0]\n",
    "                                 for x in glob.glob(os.path.join(moduledir,'*.py'))])\n",
    "\n",
    "## Load own libraries\n",
    "from importingData import *\n",
    "from scalingApproximations import *\n",
    "from plotMaps import *\n",
    "from plot1DInvLog import *\n",
    "from statisticalDistributions import *\n",
    "from slicingAndSubsetting import *\n",
    "from outputResults import *\n",
    "from CAMsettings import *\n",
    "from plot2D import *\n",
    "\n",
    "## Graphical parameters\n",
    "plt.style.use(os.path.join(matplotlib.get_configdir(),'stylelib/presentation.mplstyle'))"
   ]
  },
  {
   "cell_type": "code",
   "execution_count": 10,
   "metadata": {
    "ExecuteTime": {
     "end_time": "2018-04-09T19:08:31.276023",
     "start_time": "2018-04-09T19:08:31.237601Z"
    },
    "collapsed": true
   },
   "outputs": [],
   "source": [
    "time_stride = '1h'\n",
    "resolution = '1dx'\n",
    "\n",
    "ranks_label = 'Q8-Q41'\n",
    "dates_label_full = '185005010100-185105010000'\n",
    "dates_label_med = '185005010100-185009010000'\n",
    "dates_label_short = '185005010100-185005020000'\n",
    "dates_label = dates_label_short\n",
    "dates = tuple(dates_label.split('-'))"
   ]
  },
  {
   "cell_type": "code",
   "execution_count": 4,
   "metadata": {
    "ExecuteTime": {
     "end_time": "2018-04-09T18:28:19.853685",
     "start_time": "2018-04-09T18:28:19.823077Z"
    },
    "collapsed": false
   },
   "outputs": [
    {
     "name": "stdout",
     "output_type": "stream",
     "text": [
      "choose run options\n"
     ]
    }
   ],
   "source": [
    "print(\"choose run options\")\n",
    "scaling = 'omega500tsps'\n",
    "compset = 'FSPCAMm_AMIP'\n",
    "experiment = 'piControl'\n",
    "member = 'r1i1p1'\n",
    "subset = 'tropics'\n",
    "# time_ref = '1h'\n",
    "# res_ref = '1dx'\n",
    "daskarray = False"
   ]
  },
  {
   "cell_type": "code",
   "execution_count": 6,
   "metadata": {
    "ExecuteTime": {
     "end_time": "2018-04-09T19:06:51.876863",
     "start_time": "2018-04-09T19:06:51.834202Z"
    },
    "collapsed": false
   },
   "outputs": [
    {
     "name": "stdout",
     "output_type": "stream",
     "text": [
      "\n",
      "get inputpaths\n"
     ]
    }
   ],
   "source": [
    "# Figure output directory\n",
    "figdir = os.path.join(os.path.dirname(workdir),'figures','omega500tsps',compset,experiment,member,subset)\n",
    "handle= 'h0'\n",
    "\n",
    "print()\n",
    "print(\"get inputpaths\")\n",
    "\n",
    "# Local input directory\n",
    "historyFilesSettings = getCAMHistoryFilesSettings()\n",
    "inputdir, inputdir_processed_day, inputdir_processed_1hr, inputdir_results, inputdir_fx = \\\n",
    "    getInputDirectories(compset,experiment)"
   ]
  },
  {
   "cell_type": "code",
   "execution_count": 13,
   "metadata": {
    "ExecuteTime": {
     "end_time": "2018-04-09T19:08:51.022550",
     "start_time": "2018-04-09T19:08:50.730371Z"
    },
    "collapsed": false,
    "scrolled": true
   },
   "outputs": [
    {
     "name": "stdout",
     "output_type": "stream",
     "text": [
      "load physical variables data\n",
      "Importing PRECT, CRM_PREC from 24 history files between 1850-05-01-03600 and 1850-05-02-00000\n"
     ]
    }
   ],
   "source": [
    "print(\"load physical variables data\")\n",
    "\n",
    "pr_id = 'PRECT'\n",
    "crmpr_id = 'CRM_PREC'\n",
    "\n",
    "pr,crmpr = getValues([pr_id,crmpr_id],\n",
    "              compset,subset,experiment,time_stride,resolution,\n",
    "              daskarray=daskarray,dates=dates,handle=handle)"
   ]
  },
  {
   "cell_type": "markdown",
   "metadata": {},
   "source": [
    "## PRECT statistics"
   ]
  },
  {
   "cell_type": "code",
   "execution_count": 14,
   "metadata": {
    "ExecuteTime": {
     "end_time": "2018-04-09T19:15:27.290303",
     "start_time": "2018-04-09T19:15:27.202661Z"
    },
    "collapsed": false,
    "run_control": {
     "frozen": false,
     "read_only": false
    },
    "scrolled": false
   },
   "outputs": [
    {
     "name": "stdout",
     "output_type": "stream",
     "text": [
      "Compute ranks and ranks locations\n",
      "0.0000 20.5672 36.9043 49.8813 60.1893 68.3772 74.8811 80.0474 84.1511 87.4107 90.0000 92.0567 93.6904 94.9881 96.0189 96.8377 97.4881 98.0047 98.4151 98.7411 99.0000 99.2057 99.3690 99.4988 99.6019 99.6838 99.7488 99.8005 99.8415 99.8741 99.9000 99.9206 99.9369 99.9499 99.9602 99.9684 99.9749 99.9800 99.9842 99.9874 99.9900 \n",
      "CPU times: user 26.5 ms, sys: 14.6 ms, total: 41.1 ms\n",
      "Wall time: 42.9 ms\n"
     ]
    }
   ],
   "source": [
    "%%time\n",
    "print(\"Compute ranks and ranks locations\")\n",
    "\n",
    "n_pts = pr.size\n",
    "Q_IL = getInvLogRanks(n_pts,n_pts_per_bin=1,fill_last_decade=True)\n",
    "i_Q = indexOfRank(99.9,Q_IL)\n",
    "iQ_slice = slice(i_Q-5,i_Q+5)\n",
    "ranks, centers, bins = computePercentilesAndBinsFromRanks(pr.flatten(),Q_IL)\n",
    "iQ_min = 8\n",
    "iQ_max = min(len(Q_IL),41)\n",
    "# iQ_max = min(len(Q_IL),iQ_slice.stop)\n",
    "\n",
    "# Define reference percentiles and compute percentiles\n",
    "targetranks = Q_IL[iQ_min:iQ_max]\n",
    "ranks_ref = Q_IL[:iQ_max]\n",
    "percentiles = adjustRanks(centers,ranks,ranks_ref)\n",
    "\n",
    "# Suffix to save figures and results\n",
    "output_suffix = 'Q%d-Q%d_%s'%(iQ_min,iQ_max,'-'.join(dates))\n",
    "\n",
    "rank_locations= {}\n",
    "for rank in ranks_ref:\n",
    "    rank_id  = \"%2.4f\"%rank\n",
    "    print(rank_id,end=' ')\n",
    "    rank_locations[rank_id] = getRankLocations(rank,pr,ranks,bins,rank_locations)\n",
    "print()"
   ]
  },
  {
   "cell_type": "code",
   "execution_count": 15,
   "metadata": {
    "ExecuteTime": {
     "end_time": "2018-04-09T19:15:42.334969",
     "start_time": "2018-04-09T19:15:42.299281Z"
    },
    "collapsed": false,
    "run_control": {
     "frozen": false,
     "read_only": false
    }
   },
   "outputs": [
    {
     "name": "stdout",
     "output_type": "stream",
     "text": [
      "compute sample size in each bin\n",
      "24413.0 110592\n"
     ]
    }
   ],
   "source": [
    "print(\"compute sample size in each bin\")\n",
    "N_prQ = sampleSizeAtAllRanks(targetranks,pr,ranks_ref,rank_locations=rank_locations)\n",
    "print(np.nansum(N_prQ),pr.size)"
   ]
  },
  {
   "cell_type": "markdown",
   "metadata": {},
   "source": [
    "## CRM_PREC in percentile bins of PRECT"
   ]
  },
  {
   "cell_type": "code",
   "execution_count": 25,
   "metadata": {
    "ExecuteTime": {
     "end_time": "2018-04-09T20:26:10.139579",
     "start_time": "2018-04-09T20:26:10.097906Z"
    },
    "collapsed": false,
    "scrolled": false
   },
   "outputs": [
    {
     "name": "stdout",
     "output_type": "stream",
     "text": [
      "[[[ 1.]]\n",
      "\n",
      " [[ 2.]]\n",
      "\n",
      " [[ 3.]]\n",
      "\n",
      " [[ 4.]]\n",
      "\n",
      " [[ 5.]]\n",
      "\n",
      " [[ 6.]]]\n"
     ]
    }
   ],
   "source": [
    "x = np.linspace(1,6,6)\n",
    "print(x[:,np.newaxis,np.newaxis])"
   ]
  },
  {
   "cell_type": "code",
   "execution_count": 28,
   "metadata": {
    "ExecuteTime": {
     "end_time": "2018-04-09T20:27:31.539684",
     "start_time": "2018-04-09T20:27:31.500156Z"
    },
    "collapsed": false
   },
   "outputs": [
    {
     "name": "stdout",
     "output_type": "stream",
     "text": [
      "(24, 32, 144) (24, 1, 32, 32, 144)\n"
     ]
    }
   ],
   "source": [
    "stencil_Q = getRankLocations(99.9,pr,ranks,bins,rank_locations)\n",
    "print(stencil_Q.shape, crmpr.shape)"
   ]
  }
 ],
 "metadata": {
  "hide_input": false,
  "kernelspec": {
   "display_name": "Python 3",
   "language": "python",
   "name": "python3"
  },
  "language_info": {
   "codemirror_mode": {
    "name": "ipython",
    "version": 3
   },
   "file_extension": ".py",
   "mimetype": "text/x-python",
   "name": "python",
   "nbconvert_exporter": "python",
   "pygments_lexer": "ipython3",
   "version": "3.6.1"
  },
  "latex_envs": {
   "bibliofile": "biblio.bib",
   "cite_by": "apalike",
   "current_citInitial": 1,
   "eqLabelWithNumbers": true,
   "eqNumInitial": 0
  },
  "toc": {
   "toc_cell": true,
   "toc_number_sections": true,
   "toc_threshold": 6,
   "toc_window_display": false
  }
 },
 "nbformat": 4,
 "nbformat_minor": 0
}
