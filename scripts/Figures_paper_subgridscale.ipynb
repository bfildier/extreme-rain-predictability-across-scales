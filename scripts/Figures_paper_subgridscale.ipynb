{
 "cells": [
  {
   "cell_type": "markdown",
   "metadata": {
    "toc": "true"
   },
   "source": [
    "# Table of Contents\n",
    " <p><div class=\"lev2\"><a href=\"#PRECT-statistics\"><span class=\"toc-item-num\">0.1&nbsp;&nbsp;</span>PRECT statistics</a></div><div class=\"lev2\"><a href=\"#Compare-CRM_PREC-and-PRECT\"><span class=\"toc-item-num\">0.2&nbsp;&nbsp;</span>Compare CRM_PREC and PRECT</a></div><div class=\"lev2\"><a href=\"#CRM_PREC-in-percentile-bins-of-PRECT\"><span class=\"toc-item-num\">0.3&nbsp;&nbsp;</span>CRM_PREC in percentile bins of PRECT</a></div>"
   ]
  },
  {
   "cell_type": "code",
   "execution_count": 3,
   "metadata": {
    "ExecuteTime": {
     "end_time": "2018-04-09T21:15:07.346027",
     "start_time": "2018-04-09T21:15:06.055947Z"
    },
    "collapsed": true,
    "run_control": {
     "frozen": false,
     "marked": false,
     "read_only": false
    },
    "scrolled": true
   },
   "outputs": [],
   "source": [
    "%load_ext autoreload\n",
    "%matplotlib inline"
   ]
  },
  {
   "cell_type": "code",
   "execution_count": 128,
   "metadata": {
    "ExecuteTime": {
     "end_time": "2018-04-10T21:33:51.885983",
     "start_time": "2018-04-10T21:33:51.800801Z"
    },
    "collapsed": false,
    "hide_input": false,
    "run_control": {
     "frozen": false,
     "read_only": false
    }
   },
   "outputs": [
    {
     "name": "stdout",
     "output_type": "stream",
     "text": [
      "Own modules available: ['CAMsettings', 'daskOptions', 'environmentAndDirectories', 'importingData', 'outputResults', 'physicalConstants', 'plot1DInvLog', 'plot2D', 'plotMaps', 'scalingApproximations', 'slicingAndSubsetting', 'statisticalDistributions', 'thermoConstants', 'thermoFunctions']\n"
     ]
    }
   ],
   "source": [
    "%autoreload 2\n",
    "\n",
    "import pandas as pd\n",
    "import numpy as np\n",
    "import numpy.ma as ma\n",
    "import dask.array as da\n",
    "import matplotlib.pyplot as plt\n",
    "from matplotlib import mplDeprecation\n",
    "import datetime as dt\n",
    "import sys,os,glob\n",
    "import matplotlib\n",
    "from mpl_toolkits.basemap import Basemap\n",
    "from matplotlib.colors import LogNorm\n",
    "import pickle\n",
    "from scipy.ndimage import convolve\n",
    "\n",
    "## Add own library to path\n",
    "workdir = os.getcwd()\n",
    "thismodule = sys.modules[__name__]\n",
    "moduledir = os.path.join(os.path.dirname(workdir),'functions')\n",
    "sys.path.insert(0,moduledir)\n",
    "print(\"Own modules available:\", [os.path.splitext(os.path.basename(x))[0]\n",
    "                                 for x in glob.glob(os.path.join(moduledir,'*.py'))])\n",
    "\n",
    "## Load own libraries\n",
    "from importingData import *\n",
    "from scalingApproximations import *\n",
    "from plotMaps import *\n",
    "from plot1DInvLog import *\n",
    "from statisticalDistributions import *\n",
    "from slicingAndSubsetting import *\n",
    "from outputResults import *\n",
    "from CAMsettings import *\n",
    "from plot2D import *\n",
    "\n",
    "## Graphical parameters\n",
    "plt.style.use(os.path.join(matplotlib.get_configdir(),'stylelib/presentation.mplstyle'))"
   ]
  },
  {
   "cell_type": "code",
   "execution_count": 5,
   "metadata": {
    "ExecuteTime": {
     "end_time": "2018-04-09T21:15:09.613664",
     "start_time": "2018-04-09T21:15:09.567536Z"
    },
    "collapsed": true,
    "run_control": {
     "frozen": false,
     "read_only": false
    }
   },
   "outputs": [],
   "source": [
    "time_stride = '1h'\n",
    "resolution = '1dx'\n",
    "\n",
    "ranks_label = 'Q8-Q41'\n",
    "dates_label_full = '185005010100-185105010000'\n",
    "dates_label_med = '185005010100-185009010000'\n",
    "dates_label_short = '185005010100-185005020000'\n",
    "dates_label = dates_label_short\n",
    "dates = tuple(dates_label.split('-'))"
   ]
  },
  {
   "cell_type": "code",
   "execution_count": 6,
   "metadata": {
    "ExecuteTime": {
     "end_time": "2018-04-09T21:15:10.408529",
     "start_time": "2018-04-09T21:15:10.371886Z"
    },
    "collapsed": false,
    "run_control": {
     "frozen": false,
     "read_only": false
    }
   },
   "outputs": [
    {
     "name": "stdout",
     "output_type": "stream",
     "text": [
      "choose run options\n"
     ]
    }
   ],
   "source": [
    "print(\"choose run options\")\n",
    "scaling = 'omega500tsps'\n",
    "compset = 'FSPCAMm_AMIP'\n",
    "experiment = 'piControl'\n",
    "member = 'r1i1p1'\n",
    "subset = 'tropics'\n",
    "# time_ref = '1h'\n",
    "# res_ref = '1dx'\n",
    "daskarray = False"
   ]
  },
  {
   "cell_type": "code",
   "execution_count": 7,
   "metadata": {
    "ExecuteTime": {
     "end_time": "2018-04-09T21:15:11.308033",
     "start_time": "2018-04-09T21:15:11.269052Z"
    },
    "collapsed": false,
    "run_control": {
     "frozen": false,
     "read_only": false
    }
   },
   "outputs": [
    {
     "name": "stdout",
     "output_type": "stream",
     "text": [
      "\n",
      "get inputpaths\n"
     ]
    }
   ],
   "source": [
    "# Figure output directory\n",
    "figdir = os.path.join(os.path.dirname(workdir),'figures','omega500tsps',compset,experiment,member,subset)\n",
    "handle= 'h0'\n",
    "\n",
    "print()\n",
    "print(\"get inputpaths\")\n",
    "\n",
    "# Local input directory\n",
    "historyFilesSettings = getCAMHistoryFilesSettings()\n",
    "inputdir, inputdir_processed_day, inputdir_processed_1hr, inputdir_results, inputdir_fx = \\\n",
    "    getInputDirectories(compset,experiment)"
   ]
  },
  {
   "cell_type": "code",
   "execution_count": 16,
   "metadata": {
    "ExecuteTime": {
     "end_time": "2018-04-09T21:17:30.639405",
     "start_time": "2018-04-09T21:17:30.024077Z"
    },
    "collapsed": false,
    "run_control": {
     "frozen": false,
     "read_only": false
    },
    "scrolled": true
   },
   "outputs": [
    {
     "name": "stdout",
     "output_type": "stream",
     "text": [
      "load physical variables data\n",
      "Importing PRECT, CRM_PREC from 24 history files between 1850-05-01-03600 and 1850-05-02-00000\n"
     ]
    }
   ],
   "source": [
    "print(\"load physical variables data\")\n",
    "\n",
    "pr_id = 'PRECT'\n",
    "crmpr_id = 'CRM_PREC'\n",
    "\n",
    "pr,crmpr = getValues([pr_id,crmpr_id],\n",
    "              compset,subset,experiment,time_stride,resolution,\n",
    "              daskarray=daskarray,dates=dates,handle=handle)\n",
    "\n",
    "s_crm2D = crmpr.shape"
   ]
  },
  {
   "cell_type": "markdown",
   "metadata": {},
   "source": [
    "## PRECT statistics"
   ]
  },
  {
   "cell_type": "code",
   "execution_count": 9,
   "metadata": {
    "ExecuteTime": {
     "end_time": "2018-04-09T21:15:16.175786",
     "start_time": "2018-04-09T21:15:16.093404Z"
    },
    "collapsed": false,
    "run_control": {
     "frozen": false,
     "read_only": false
    },
    "scrolled": false
   },
   "outputs": [
    {
     "name": "stdout",
     "output_type": "stream",
     "text": [
      "Compute ranks and ranks locations\n",
      "0.0000 20.5672 36.9043 49.8813 60.1893 68.3772 74.8811 80.0474 84.1511 87.4107 90.0000 92.0567 93.6904 94.9881 96.0189 96.8377 97.4881 98.0047 98.4151 98.7411 99.0000 99.2057 99.3690 99.4988 99.6019 99.6838 99.7488 99.8005 99.8415 99.8741 99.9000 99.9206 99.9369 99.9499 99.9602 99.9684 99.9749 99.9800 99.9842 99.9874 99.9900 \n",
      "CPU times: user 19.9 ms, sys: 7.67 ms, total: 27.6 ms\n",
      "Wall time: 25.7 ms\n"
     ]
    }
   ],
   "source": [
    "%%time\n",
    "print(\"Compute ranks and ranks locations\")\n",
    "\n",
    "n_pts = pr.size\n",
    "Q_IL = getInvLogRanks(n_pts,n_pts_per_bin=1,fill_last_decade=True)\n",
    "i_Q = indexOfRank(99.9,Q_IL)\n",
    "iQ_slice = slice(i_Q-5,i_Q+5)\n",
    "ranks, centers, bins = computePercentilesAndBinsFromRanks(pr.flatten(),Q_IL)\n",
    "iQ_min = 8\n",
    "iQ_max = min(len(Q_IL),41)\n",
    "# iQ_max = min(len(Q_IL),iQ_slice.stop)\n",
    "\n",
    "# Define reference percentiles and compute percentiles\n",
    "targetranks = Q_IL[iQ_min:iQ_max]\n",
    "ranks_ref = Q_IL[:iQ_max]\n",
    "percentiles = adjustRanks(centers,ranks,ranks_ref)\n",
    "\n",
    "# Suffix to save figures and results\n",
    "output_suffix = 'Q%d-Q%d_%s'%(iQ_min,iQ_max,'-'.join(dates))\n",
    "\n",
    "rank_locations= {}\n",
    "for rank in ranks_ref:\n",
    "    rank_id  = \"%2.4f\"%rank\n",
    "    print(rank_id,end=' ')\n",
    "    rank_locations[rank_id] = getRankLocations(rank,pr,ranks,bins,rank_locations)\n",
    "print()"
   ]
  },
  {
   "cell_type": "code",
   "execution_count": 10,
   "metadata": {
    "ExecuteTime": {
     "end_time": "2018-04-09T21:15:17.089418",
     "start_time": "2018-04-09T21:15:17.039556Z"
    },
    "collapsed": false,
    "run_control": {
     "frozen": false,
     "read_only": false
    },
    "scrolled": true
   },
   "outputs": [
    {
     "name": "stdout",
     "output_type": "stream",
     "text": [
      "compute sample size in each bin\n",
      "24413.0 110592\n"
     ]
    }
   ],
   "source": [
    "print(\"compute sample size in each bin\")\n",
    "N_prQ = sampleSizeAtAllRanks(targetranks,pr,ranks_ref,rank_locations=rank_locations)\n",
    "print(np.nansum(N_prQ),pr.size)"
   ]
  },
  {
   "cell_type": "markdown",
   "metadata": {},
   "source": [
    "## Compare CRM_PREC and PRECT"
   ]
  },
  {
   "cell_type": "markdown",
   "metadata": {},
   "source": [
    "There seems to be up to 25% error between PRECT and CRM_PREC"
   ]
  },
  {
   "cell_type": "code",
   "execution_count": 187,
   "metadata": {
    "ExecuteTime": {
     "end_time": "2018-04-10T22:47:29.875734",
     "start_time": "2018-04-10T22:47:29.212170Z"
    },
    "collapsed": false
   },
   "outputs": [
    {
     "data": {
      "text/plain": [
       "<matplotlib.text.Text at 0x1a19555ac8>"
      ]
     },
     "execution_count": 187,
     "metadata": {},
     "output_type": "execute_result"
    },
    {
     "data": {
      "image/png": "[encoded data removed]",
      "text/plain": [
       "<matplotlib.figure.Figure at 0x1a26364c88>"
      ]
     },
     "metadata": {},
     "output_type": "display_data"
    }
   ],
   "source": [
    "crmpr_avg = np.mean(crmpr,axis=2).squeeze()\n",
    "dens,edges = np.histogram((crmpr_avg/pr).flatten(),range=(0,2))\n",
    "plt.plot(np.convolve(edges,(0.5,0.5),'valid'),dens)\n",
    "plt.xlabel('CRM_PREC/PRECT')\n",
    "plt.ylabel('Density')"
   ]
  },
  {
   "cell_type": "markdown",
   "metadata": {},
   "source": [
    "## CRM_PREC in percentile bins of PRECT"
   ]
  },
  {
   "cell_type": "code",
   "execution_count": 199,
   "metadata": {
    "ExecuteTime": {
     "end_time": "2018-04-10T22:59:36.709559",
     "start_time": "2018-04-10T22:59:35.306894Z"
    },
    "collapsed": false,
    "run_control": {
     "frozen": false,
     "read_only": false
    },
    "scrolled": false
   },
   "outputs": [
    {
     "name": "stdout",
     "output_type": "stream",
     "text": [
      "99.9369042656\n",
      "P_Q= 1.23834719811e-06\n",
      "bin: 1.26348443621e-06 1.3107485678e-06\n",
      "\n",
      "1.16703e-06\n",
      "[  1.17166940e-06   1.15579553e-06   1.22567019e-06   1.17641810e-06\n",
      "   1.16940123e-06   1.15111470e-06   1.27638245e-07   2.20191214e-06\n",
      "   1.14995555e-06   1.16889419e-06   1.18173307e-06   1.47798096e-06\n",
      "   1.62863887e-06   3.94863179e-07   1.16865340e-06   1.84719823e-07\n",
      "   2.13773114e-06   5.17401162e-08   2.28125009e-06   1.14725776e-06\n",
      "   1.14487511e-06   1.25417887e-06   1.08957215e-06]\n",
      "(23, 32)\n"
     ]
    },
    {
     "data": {
      "image/png": "[encoded data removed]",
      "text/plain": [
       "<matplotlib.figure.Figure at 0x1a1f9c8550>"
      ]
     },
     "metadata": {},
     "output_type": "display_data"
    },
    {
     "data": {
      "image/png": "[encoded data removed]",
      "text/plain": [
       "<matplotlib.figure.Figure at 0x1a21b478d0>"
      ]
     },
     "metadata": {},
     "output_type": "display_data"
    },
    {
     "data": {
      "text/plain": [
       "<matplotlib.text.Text at 0x1a21427908>"
      ]
     },
     "execution_count": 199,
     "metadata": {},
     "output_type": "execute_result"
    },
    {
     "data": {
      "image/png": "[encoded data removed]",
      "text/plain": [
       "<matplotlib.figure.Figure at 0x1a25159c50>"
      ]
     },
     "metadata": {},
     "output_type": "display_data"
    },
    {
     "data": {
      "image/png": "[encoded data removed]",
      "text/plain": [
       "<matplotlib.figure.Figure at 0x1a2776a630>"
      ]
     },
     "metadata": {},
     "output_type": "display_data"
    },
    {
     "data": {
      "image/png": "[encoded data removed]",
      "text/plain": [
       "<matplotlib.figure.Figure at 0x1a259b84a8>"
      ]
     },
     "metadata": {},
     "output_type": "display_data"
    }
   ],
   "source": [
    "##-- EXPLORE FFT ANALYSIS --##\n",
    "\n",
    "# Dimensions of embedded CRMs\n",
    "ndim1,ndim2 = s_crm2D[1:3]\n",
    "\n",
    "# For all bins, compute the spatial characteristics of the crm precipitation field\n",
    "# for rank in targetranks:\n",
    "\n",
    "rank = targetranks[24]\n",
    "rankid = rankID(rank)\n",
    "iQ = indexOfRank(rank,ranks_ref)\n",
    "print(rank)\n",
    "print(\"P_Q =\",percentiles[iQ])\n",
    "print(\"bin:\",bins[iQ],bins[iQ+1])\n",
    "print()\n",
    "\n",
    "# Points corresponding to extreme event\n",
    "stencil_Q = rank_locations[rankid]\n",
    "\n",
    "# Extend stencil to dimensions of crm variables\n",
    "crm_stencil_Q = np.repeat(np.repeat(stencil_Q[:,np.newaxis,np.newaxis,...],ndim1,1),\n",
    "                          ndim2,2)\n",
    "# Extract CRM_PREC data at percentile of PRECT\n",
    "crmpr_all_prQ = crmpr[crm_stencil_Q].reshape((-1,ndim2))\n",
    "\n",
    "# See if the average of PRECT in the percentile bin matches the percentile P_Q\n",
    "print(np.mean(pr[stencil_Q]))\n",
    "# See if the average of CRM_PREC along crm_x within the percentile bin matches the percentile P_Q\n",
    "print(np.mean(crmpr_all_prQ,axis=1))\n",
    "print()\n",
    "\n",
    "print(crmpr_all_prQ.shape)\n",
    "plt.imshow(crmpr_all_prQ)\n",
    "plt.title('CRM_PREC for each event (rows)')\n",
    "plt.show()\n",
    "\n",
    "crmpr_all_fft_prQ = np.absolute(np.fft.fft(crmpr_all_prQ,axis=1))[:,:(ndim2//2+1)]\n",
    "plt.imshow(crmpr_all_fft_prQ)\n",
    "plt.title('Fourier coefficients')\n",
    "plt.show()\n",
    "\n",
    "crmpr_fft_IQrange_prQ = np.percentile(crmpr_all_fft_prQ,[25,50,75],axis=0)\n",
    "crmpr_fft_I25_prQ,crmpr_fft_I50_prQ,crmpr_fft_I75_prQ = tuple(crmpr_fft_IQrange_prQ)\n",
    "crmpr_fft_max_prQ = np.max(crmpr_all_fft_prQ,axis=0)\n",
    "\n",
    "# Plot median and interquartile range of coefficients without normalizing\n",
    "fig,ax = plt.subplots(ncols=1,nrows=1,figsize=(5,4.5))\n",
    "x = np.arange(1,18,1)\n",
    "ax.plot(x,crmpr_fft_I50_prQ)\n",
    "ax.plot(x,crmpr_fft_max_prQ,'k')\n",
    "ax.fill_between(x, crmpr_fft_I25_prQ, crmpr_fft_I75_prQ, where=crmpr_fft_I75_prQ >= crmpr_fft_I25_prQ,\n",
    "                facecolor='b',alpha=0.2, interpolate=True)\n",
    "ax.set_xlabel('Wave number')\n",
    "ax.set_ylabel('Fourier coefficient')\n",
    "\n",
    "def mainCoef(fft_array):\n",
    "    \"\"\"The array is 2D with fft dimension in second position\"\"\"\n",
    "    main_coef = np.apply_along_axis(arr=fft_array,axis=1,func1d=lambda x: np.argmax(x == np.max(x)))\n",
    "    return main_coef\n",
    "    \n",
    "crmpr_fft_maincoef_prQ = mainCoef(crmpr_all_fft_prQ)\n",
    "\n",
    "# Normalize data\n",
    "crmpr_all_fftrel_prQ = np.apply_along_axis(arr=crmpr_all_fft_prQ,axis=1,func1d=lambda x: x/np.max(x))\n",
    "crmpr_fftrel_IQrange_prQ = np.percentile(crmpr_all_fftrel_prQ,[25,50,75],axis=0)\n",
    "crmpr_fftrel_I25_prQ,crmpr_fftrel_I50_prQ,crmpr_fftrel_I75_prQ = tuple(crmpr_fftrel_IQrange_prQ)\n",
    "crmpr_fftrel_max_prQ = np.max(crmpr_all_fftrel_prQ,axis=0)\n",
    "\n",
    "# Plot median and interquartile range of coefficients after normalizing\n",
    "fig,ax = plt.subplots(ncols=1,nrows=1,figsize=(5,4.5))\n",
    "x = np.arange(1,18,1)\n",
    "ax.plot(x,crmpr_fftrel_I50_prQ*100)\n",
    "ax.plot(x,crmpr_fftrel_max_prQ*100,'k')\n",
    "ax.fill_between(x, crmpr_fftrel_I25_prQ*100, crmpr_fftrel_I75_prQ*100, where=crmpr_fftrel_I75_prQ >= crmpr_fftrel_I25_prQ,\n",
    "                facecolor='b',alpha=0.2, interpolate=True)\n",
    "ax.set_xlabel('Wave number')\n",
    "ax.set_ylabel('Normalized Fourier coefficient (%)')\n",
    "ax.legend(['median','max','IQrange'],framealpha=0.8)\n",
    "\n",
    "\n",
    "# Compute number of local maxima (number of blobs, or clouds) point by point\n",
    "crmpr_all_nmax_prQ = np.apply_along_axis(arr=crmpr_all_prQ,axis=1,func1d=numLocalMax)\n",
    "dens,edges = np.histogram(crmpr_all_nmax_prQ,bins=np.linspace(0,16,17),density=True)\n",
    "fig,ax = plt.subplots(ncols=1,nrows=1,figsize=(5,4.5))\n",
    "ax.plot(np.convolve(edges,(0.5,0.5),'valid'),dens)\n",
    "ax.set_xlabel('Number of local maxima')\n",
    "ax.set_ylabel('Probability density')\n",
    "\n",
    "\n",
    "\n",
    "##-- END EXPLORE FFT ANALYSIS --##"
   ]
  },
  {
   "cell_type": "code",
   "execution_count": 107,
   "metadata": {
    "ExecuteTime": {
     "end_time": "2018-04-09T23:38:53.859449",
     "start_time": "2018-04-09T23:38:30.615328Z"
    },
    "collapsed": false,
    "scrolled": false
   },
   "outputs": [],
   "source": [
    "##-- FFT analysis on all percentiles --##\n",
    "\n",
    "# Dimensions of embedded CRMs\n",
    "ndim1,ndim2 = s_crm2D[1:3]\n",
    "\n",
    "# Initialize outputs\n",
    "# crmpr_fft_mainWN_prQ = np.nan*np.empty((targetranks.size,ndim2))\n",
    "crmpr_fftrel_I25_prQ = np.nan*np.empty((targetranks.size,ndim2//2))\n",
    "crmpr_fftrel_I50_prQ = np.nan*np.empty((targetranks.size,ndim2//2))\n",
    "crmpr_fftrel_I75_prQ = np.nan*np.empty((targetranks.size,ndim2//2))\n",
    "crmpr_fftrel_max_prQ = np.nan*np.empty((targetranks.size,ndim2//2))\n",
    "crmpr_nmax_I25_prQ = np.nan*np.empty((targetranks.size,ndim2))\n",
    "crmpr_nmax_I50_prQ = np.nan*np.empty((targetranks.size,ndim2))\n",
    "crmpr_nmax_I75_prQ = np.nan*np.empty((targetranks.size,ndim2))\n",
    "crmpr_nmax_max_prQ = np.nan*np.empty((targetranks.size,ndim2))\n",
    "\n",
    "# Function that computes the number of local maxima \n",
    "def numLocalMax(x):\n",
    "    dx = convolve(x,(1,-1),mode='wrap')\n",
    "    return np.logical_and(dx < 0, np.roll(dx,1) > 0).sum()\n",
    "\n",
    "\n",
    "# For all bins, compute the spatial characteristics of the crm precipitation field\n",
    "for rank in targetranks:\n",
    "\n",
    "    rankid = rankID(rank)\n",
    "    stencil_Q = rank_locations[rankid]\n",
    "    iQ = indexOfRank(rank,targetranks)\n",
    "\n",
    "    # Extend stencil to dimensions of crm variables\n",
    "    crm_stencil_Q = np.repeat(np.repeat(stencil_Q[:,np.newaxis,np.newaxis,...],ndim1,1),\n",
    "                              ndim2,2)\n",
    "    # Extract CRM_PREC data at percentile of PRECT\n",
    "    crmpr_all_Q = crmpr[crm_stencil_Q].reshape((-1,ndim2))\n",
    "    \n",
    "    plt.figure()\n",
    "    if crmpr_all_prQ.shape[0] > 100:\n",
    "        X = crmpr_all_Q[:100,]\n",
    "    else:\n",
    "        X = crmpr_all_Q\n",
    "    plt.imshow(X)\n",
    "    plt.savefig(os.path.join(figdir,time_stride,resolution,'crmpr_pr_Q%s_%s.pdf'%(rankid.replace('.',''),output_suffix)),\n",
    "            bbox_inches='tight')\n",
    "    plt.close()\n",
    "    \n",
    "    # Compute Fourier coefficient point by point\n",
    "    crmpr_all_fft_Q = np.absolute(np.fft.fft(crmpr_all_Q,axis=1))[:,:(ndim2//2)]\n",
    "\n",
    "    plt.figure()\n",
    "    if crmpr_all_fft_Q.shape[0] > 100:\n",
    "        X = crmpr_all_fft_Q[:100,]\n",
    "    else:\n",
    "        X = crmpr_all_fft_Q\n",
    "    plt.imshow(X)\n",
    "    plt.savefig(os.path.join(figdir,time_stride,resolution,'FFT_crmpr_pr_Q%s_%s.pdf'%(rankid.replace('.',''),output_suffix)),\n",
    "            bbox_inches='tight')\n",
    "    plt.close()\n",
    "    \n",
    "    # Compute number of local maxima (number of blobs, or clouds) point by point\n",
    "    crmpr_all_nmax_Q = np.apply_along_axis(crmpr_all_Q,axis=1,func1d=numLocalMax)\n",
    "    \n",
    "    \n",
    "    #- Interquartile range and median without normalizing\n",
    "\n",
    "    # Wavenumber or maximum coefficient\n",
    "    crmpr_fft_maincoef_Q = mainCoef(crmpr_all_fft_Q)\n",
    "\n",
    "    # Normalize data\n",
    "    crmpr_all_fftrel_Q = np.apply_along_axis(arr=crmpr_all_fft_Q,axis=1,func1d=lambda x: x/np.max(x))\n",
    "    # Interquartile range and median after normalizing\n",
    "    crmpr_fftrel_IQrange_Q = np.percentile(crmpr_all_fftrel_Q,[25,50,75],axis=0)\n",
    "    crmpr_fftrel_I25_Q,crmpr_fftrel_I50_Q,crmpr_fftrel_I75_Q = tuple(crmpr_fftrel_IQrange_Q)\n",
    "    crmpr_fftrel_max_Q = np.max(crmpr_all_fftrel_Q,axis=0)\n",
    "\n",
    "    # Plot median and interquartile range of coefficients after normalizing\n",
    "    fig,ax = plt.subplots(ncols=1,nrows=1,figsize=(5,4.5))\n",
    "    x = np.arange(1,17,1)\n",
    "    ax.plot(x,crmpr_fftrel_I50_Q*100)\n",
    "    ax.plot(x,crmpr_fftrel_max_Q*100,'k')\n",
    "    ax.fill_between(x, crmpr_fftrel_I25_Q*100, crmpr_fftrel_I75_Q*100, where=crmpr_fftrel_I75_Q >= crmpr_fftrel_I25_Q,\n",
    "                    facecolor='b',alpha=0.2, interpolate=True)\n",
    "    ax.set_xlabel('Wave number')\n",
    "    ax.set_ylabel('Normalized Fourier coefficient (%)')\n",
    "    ax.legend(['median','max','quartiles'],framealpha=0.8)\n",
    "    plt.savefig(os.path.join(figdir,time_stride,resolution,'IQrange_and_max_FFTnormalized_crmpr_pr_Q%s_%s.pdf'%(rankid.replace('.',''),output_suffix)),\n",
    "            bbox_inches='tight')\n",
    "    plt.close()\n",
    "    \n",
    "    #- Save data\n",
    "#     crmpr_fft_mainWN_prQ[iQ,:] = crmpr_fft_maincoef_Q\n",
    "    crmpr_fftrel_I25_prQ[iQ,:] = crmpr_fftrel_I25_Q\n",
    "    crmpr_fftrel_I50_prQ[iQ,:] = crmpr_fftrel_I50_Q\n",
    "    crmpr_fftrel_I75_prQ[iQ,:] = crmpr_fftrel_I75_Q\n",
    "    crmpr_fftrel_max_prQ[iQ,:] = crmpr_fftrel_max_Q\n",
    "    "
   ]
  },
  {
   "cell_type": "code",
   "execution_count": 156,
   "metadata": {
    "ExecuteTime": {
     "end_time": "2018-04-10T21:46:36.708839",
     "start_time": "2018-04-10T21:46:36.675792Z"
    },
    "collapsed": false
   },
   "outputs": [],
   "source": []
  },
  {
   "cell_type": "code",
   "execution_count": null,
   "metadata": {
    "collapsed": true
   },
   "outputs": [],
   "source": []
  }
 ],
 "metadata": {
  "hide_input": false,
  "kernelspec": {
   "display_name": "Python 3",
   "language": "python",
   "name": "python3"
  },
  "language_info": {
   "codemirror_mode": {
    "name": "ipython",
    "version": 3
   },
   "file_extension": ".py",
   "mimetype": "text/x-python",
   "name": "python",
   "nbconvert_exporter": "python",
   "pygments_lexer": "ipython3",
   "version": "3.6.1"
  },
  "latex_envs": {
   "bibliofile": "biblio.bib",
   "cite_by": "apalike",
   "current_citInitial": 1,
   "eqLabelWithNumbers": true,
   "eqNumInitial": 0
  },
  "toc": {
   "toc_cell": true,
   "toc_number_sections": true,
   "toc_threshold": 6,
   "toc_window_display": false
  }
 },
 "nbformat": 4,
 "nbformat_minor": 0
}
